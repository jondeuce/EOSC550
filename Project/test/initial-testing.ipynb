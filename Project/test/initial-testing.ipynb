{
 "cells": [
  {
   "cell_type": "code",
   "execution_count": null,
   "metadata": {},
   "outputs": [],
   "source": [
    "using Knet"
   ]
  },
  {
   "cell_type": "code",
   "execution_count": 117,
   "metadata": {},
   "outputs": [],
   "source": [
    "using Images, ImageView, Colors"
   ]
  },
  {
   "cell_type": "code",
   "execution_count": 118,
   "metadata": {},
   "outputs": [],
   "source": [
    "using Plots"
   ]
  },
  {
   "cell_type": "code",
   "execution_count": null,
   "metadata": {
    "scrolled": true
   },
   "outputs": [],
   "source": [
    "include(\"../src/loadnoisey2D.jl\")\n",
    "include(\"../src/models.jl\")"
   ]
  },
  {
   "cell_type": "code",
   "execution_count": null,
   "metadata": {},
   "outputs": [],
   "source": [
    "function up!(w,dw,lr = 0.1,proj! = nothing)\n",
    "    for i in 1:length(w)\n",
    "        # dw[i] == nothing represents w[i] not being used \n",
    "        # during forward pass recording of gradient.\n",
    "        # Therefore, dw[i] is not assigned and equals nothing\n",
    "        if dw[i] ≠ nothing\n",
    "            w[i] -= lr * dw[i]\n",
    "        end\n",
    "    end\n",
    "    if proj! ≠ nothing\n",
    "        proj!(w)\n",
    "    end\n",
    "end"
   ]
  },
  {
   "cell_type": "code",
   "execution_count": null,
   "metadata": {},
   "outputs": [],
   "source": [
    "function linesearch!(w,x,y,lr=0.1,s=1.5,maxiter=100,proj! = nothing)\n",
    "    dw, loss0 = gradlossgradient(w,x,y)\n",
    "    \n",
    "    if s <= 1.0\n",
    "        up!(w,dw,lr,proj!)\n",
    "        return lr\n",
    "    end\n",
    "    \n",
    "    #up!(w,dw,lr,proj!)\n",
    "    wtest = copy(w)\n",
    "    up!(wtest,dw,lr,proj!)\n",
    "    loss1 = loss(wtest,x,y)\n",
    "    \n",
    "    isdescent = false\n",
    "    if loss1 < loss0\n",
    "        lr *= s\n",
    "        isdescent = true\n",
    "    else\n",
    "        it = 0\n",
    "        while true\n",
    "            it += 1\n",
    "            lr /= s\n",
    "            \n",
    "            #up!(w,dw,lr*(one(s)-s),proj!)\n",
    "            #loss1 = loss(w,x,y)\n",
    "            copy!(wtest,w)\n",
    "            up!(wtest,dw,lr,proj!)\n",
    "            loss1 = loss(wtest,x,y)\n",
    "            \n",
    "            isdescent = (loss1 < loss0) # || isnan(loss1) || isinf(loss1)\n",
    "            (isdescent || it >= maxiter) && break\n",
    "        end\n",
    "    end\n",
    "    \n",
    "    #if !isdescent\n",
    "    #    up!(w,dw,lr*(s-one(s)),proj!)\n",
    "    #end\n",
    "    if isdescent\n",
    "        copy!(w,wtest)\n",
    "#         println(\"loss1  < loss0: $isdescent, $(loss1<loss0)\")\n",
    "#         loss2 = loss(w,x,y)\n",
    "#         println(\"loss2 == loss1: $(loss2==loss1)\")\n",
    "#         println(\"loss1: $(loss2)\")\n",
    "#         println(\"loss2: $(loss2)\")\n",
    "    end\n",
    "    \n",
    "    return lr\n",
    "end"
   ]
  },
  {
   "cell_type": "code",
   "execution_count": 101,
   "metadata": {},
   "outputs": [
    {
     "data": {
      "text/plain": [
       "train_sgd! (generic function with 1 method)"
      ]
     },
     "execution_count": 101,
     "metadata": {},
     "output_type": "execute_result"
    }
   ],
   "source": [
    "# SGD training loop\n",
    "function train_sgd!(w, data; lr=.1, s=-1.0, maxiter = 100, proj! = nothing)\n",
    "    for (x,y) in data\n",
    "#         loss0 = loss(w,x,y)\n",
    "        lr = linesearch!(w,x,y,lr,s,maxiter,proj!)\n",
    "#         loss1 = loss(w,x,y)\n",
    "#         println(loss1<loss0)\n",
    "    end\n",
    "    return lr\n",
    "end"
   ]
  },
  {
   "cell_type": "code",
   "execution_count": 102,
   "metadata": {},
   "outputs": [],
   "source": [
    "# define misc. params\n",
    "seed  = 42\n",
    "Ftype = Float32\n",
    "# Atype = Array{Ftype}\n",
    "Atype = KnetArray{Ftype}\n",
    "atype = Atype\n",
    "srand(seed);"
   ]
  },
  {
   "cell_type": "code",
   "execution_count": 103,
   "metadata": {},
   "outputs": [
    {
     "data": {
      "text/plain": [
       "100"
      ]
     },
     "execution_count": 103,
     "metadata": {},
     "output_type": "execute_result"
    }
   ],
   "source": [
    "bs = 5 # batch size\n",
    "ep = 10 # epochs\n",
    "maxiter = 100 # max iters for linesearch"
   ]
  },
  {
   "cell_type": "code",
   "execution_count": 104,
   "metadata": {},
   "outputs": [],
   "source": [
    "xtrn,ytrn,xtst,ytst = chi2d(atype=atype)\n",
    "imdims = (size(xtrn,1),size(xtrn,2))\n",
    "dtrn = minibatch(xtrn, ytrn, bs, xtype=atype, ytype=atype)\n",
    "dtst = minibatch(xtst, ytst, bs, xtype=atype, ytype=atype);\n",
    "#prms = params(w, o)"
   ]
  },
  {
   "cell_type": "markdown",
   "metadata": {},
   "source": [
    "### Simple convolution model"
   ]
  },
  {
   "cell_type": "code",
   "execution_count": 141,
   "metadata": {},
   "outputs": [
    {
     "data": {
      "text/plain": [
       "(::gradfun) (generic function with 1 method)"
      ]
     },
     "execution_count": 141,
     "metadata": {},
     "output_type": "execute_result"
    }
   ],
   "source": [
    "const sk = 7 # size of convolution kernel\n",
    "const bsiz = (1,1) # size of bias array\n",
    "\n",
    "p = params_simpleconv(atype=atype,seed=seed,sk=sk,bsiz=bsiz)\n",
    "weights() = weights_simpleconv(p)\n",
    "predict(w,x) = predict_simpleconv(w,x,p)\n",
    "#proj!(w) = project_simpleconv!(w,p)\n",
    "proj! = nothing\n",
    "loss(w,x,y) = loss_simpleconv(w,x,y,p)\n",
    "lossgradient = grad(loss)\n",
    "gradlossgradient = gradloss(loss)\n",
    "#accuracy(w,data,predict) = sum(map(d->loss(w,d[1],d[2]),data))"
   ]
  },
  {
   "cell_type": "markdown",
   "metadata": {},
   "source": [
    "### LeNet model"
   ]
  },
  {
   "cell_type": "code",
   "execution_count": 10,
   "metadata": {},
   "outputs": [
    {
     "data": {
      "text/plain": [
       "(::gradfun) (generic function with 1 method)"
      ]
     },
     "execution_count": 10,
     "metadata": {},
     "output_type": "execute_result"
    }
   ],
   "source": [
    "const kernsize = 5 # size of convolution kernel\n",
    "const nconv = 4 # number of convolutional layers\n",
    "const nfull = 1 # number of fully connected layers\n",
    "nc = [5,10,20,50] # number of feature kernels per layer\n",
    "nf = [500] # fully connected sizes\n",
    "\n",
    "p = params_lenet(atype=atype,seed=seed,imdims=imdims,\n",
    "    kernsize=kernsize,nconv=nconv,nfull=nfull,nc=nc,nf=nf)\n",
    "weights() = weights_lenet(p)\n",
    "predict(w,x) = predict_lenet(w,x,p)\n",
    "proj!(w) = project_lenet!(w,p)\n",
    "loss(w,x,y) = loss_lenet(w,x,y,p)\n",
    "lossgradient = grad(loss)\n",
    "gradlossgradient = gradloss(loss)\n",
    "#accuracy(w,data,predict) = sum(map(d->loss(w,d[1],d[2]),data))"
   ]
  },
  {
   "cell_type": "markdown",
   "metadata": {},
   "source": [
    "### kobler model"
   ]
  },
  {
   "cell_type": "code",
   "execution_count": 113,
   "metadata": {},
   "outputs": [
    {
     "name": "stderr",
     "output_type": "stream",
     "text": [
      "WARNING: redefining constant C\n"
     ]
    },
    {
     "data": {
      "text/plain": [
       "(::gradfun) (generic function with 1 method)"
      ]
     },
     "execution_count": 113,
     "metadata": {},
     "output_type": "execute_result"
    }
   ],
   "source": [
    "const T  = 5 # number of \"time steps\" for xₜ\n",
    "const C  = 5 # number of fc terms\n",
    "const Nr = 3 # number of regularization terms in each fc\n",
    "const Nd = 3 # number of data fidelity terms in each fc\n",
    "const Nw = 7 # number of radial basis functions in each influence function\n",
    "const sr = 5 # size of kernel for regularization term convolutions is [sr×sr]\n",
    "const sd = 5 # size of kernel for data fidelity term convolutions is [sr×sr]\n",
    "const prj = true # project initial data on unit norm kernels with zero mean\n",
    "cycle = \"cyclic\" # access pattern function c(t)\n",
    "\n",
    "p = params_kobler(atype=atype,seed=seed,cycle=cycle,C=C,T=T,Nr=Nr,Nd=Nd,Nw=Nw,sr=sr,sd=sd,proj=prj)\n",
    "weights() = weights_kobler(p)\n",
    "predict(w,x) = predict_kobler(w,x,p)\n",
    "loss(w,x,y) = loss_kobler(w,x,y,p)\n",
    "proj!(w) = project_kobler!(w,p)\n",
    "#proj! = nothing\n",
    "lossgradient = grad(loss)\n",
    "gradlossgradient = gradloss(loss)\n",
    "#accuracy(w,data,predict) = sum(map(d->loss(w,d[1],d[2]),data))"
   ]
  },
  {
   "cell_type": "code",
   "execution_count": 114,
   "metadata": {},
   "outputs": [
    {
     "data": {
      "text/plain": [
       "1-element Array{Float32,1}:\n",
       " 128.844"
      ]
     },
     "execution_count": 114,
     "metadata": {},
     "output_type": "execute_result"
    }
   ],
   "source": [
    "# initial weights and loss\n",
    "lr = Ftype(1e-3) # learning rate\n",
    "s  = Ftype(1.5) # line search parameter\n",
    "w  = weights()\n",
    "ws = [copy(w)]\n",
    "losses = [loss(w,xtrn,ytrn)]"
   ]
  },
  {
   "cell_type": "code",
   "execution_count": 115,
   "metadata": {},
   "outputs": [],
   "source": [
    "# println(norm(vec(Array(w[2+2C+1])[:,:,1,1])))\n",
    "# println(mean(vec(Array(w[2+2C+2])[:,:,1,3])))\n",
    "# map(size,w);"
   ]
  },
  {
   "cell_type": "code",
   "execution_count": 116,
   "metadata": {
    "scrolled": true
   },
   "outputs": [
    {
     "name": "stdout",
     "output_type": "stream",
     "text": [
      "epoch = 1, lr = 0.00029629632, loss = 119.429955\n",
      "epoch = 2, lr = 0.00019753088, loss = 82.09819\n",
      "epoch = 3, lr = 0.00029629632, loss = 36.790108\n",
      "epoch = 4, lr = 0.00019753088, loss = 30.641485\n",
      "epoch = 5, lr = 0.00029629632, loss = 28.012278\n",
      "epoch = 6, lr = 0.00044444448, loss = 27.884314\n",
      "epoch = 7, lr = 0.00019753088, loss = 26.063593\n",
      "epoch = 8, lr = 0.00029629632, loss = 25.15981\n",
      "epoch = 9, lr = 0.00044444448, loss = 24.70135\n",
      "epoch = 10, lr = 0.00029629632, loss = 24.511444\n",
      "epoch = 11, lr = 0.00019753088, loss = 23.643604\n",
      "epoch = 12, lr = 0.00029629632, loss = 23.182522\n",
      "epoch = 13, lr = 0.00044444448, loss = 22.841908\n",
      "epoch = 14, lr = 0.00029629632, loss = 22.595722\n",
      "epoch = 15, lr = 0.00044444448, loss = 22.46841\n",
      "epoch = 16, lr = 0.00019753088, loss = 21.957752\n",
      "epoch = 17, lr = 0.00029629632, loss = 21.671251\n",
      "epoch = 18, lr = 0.00044444448, loss = 21.440536\n",
      "epoch = 19, lr = 0.00029629632, loss = 21.253407\n",
      "epoch = 20, lr = 0.00044444448, loss = 21.124596\n",
      "epoch = 21, lr = 0.00029629632, loss = 21.07855\n",
      "epoch = 22, lr = 0.00019753088, loss = 20.67166\n",
      "epoch = 23, lr = 0.00029629632, loss = 20.460922\n",
      "epoch = 24, lr = 0.00044444448, loss = 20.302357\n",
      "epoch = 25, lr = 0.00029629632, loss = 20.17171\n",
      "epoch = 26, lr = 0.00044444448, loss = 20.081303\n",
      "epoch = 27, lr = 0.00029629632, loss = 20.052975\n",
      "epoch = 28, lr = 0.00019753088, loss = 19.73672\n",
      "epoch = 29, lr = 0.00029629632, loss = 19.574177\n",
      "epoch = 30, lr = 0.00044444448, loss = 19.451077\n",
      "epoch = 31, lr = 0.00029629632, loss = 19.348633\n",
      "epoch = 32, lr = 0.00044444448, loss = 19.277712\n",
      "epoch = 33, lr = 0.00029629632, loss = 19.259262\n",
      "epoch = 34, lr = 0.00019753088, loss = 19.000336\n",
      "epoch = 35, lr = 0.00029629632, loss = 18.86522\n",
      "epoch = 36, lr = 0.00044444448, loss = 18.764202\n",
      "epoch = 37, lr = 0.00029629632, loss = 18.681883\n",
      "epoch = 38, lr = 0.00044444448, loss = 18.630459\n",
      "epoch = 39, lr = 0.00019753088, loss = 18.462849\n",
      "epoch = 40, lr = 0.00029629632, loss = 18.359835\n",
      "epoch = 41, lr = 0.00044444448, loss = 18.264687\n",
      "epoch = 42, lr = 0.0006666667, loss = 18.255575\n",
      "epoch = 43, lr = 0.00019753088, loss = 18.072582\n",
      "epoch = 44, lr = 0.00029629632, loss = 17.965717\n",
      "epoch = 45, lr = 0.00044444448, loss = 17.885891\n",
      "epoch = 46, lr = 0.00029629632, loss = 17.828054\n",
      "epoch = 47, lr = 0.00044444448, loss = 17.814915\n",
      "epoch = 48, lr = 0.00019753088, loss = 17.650227\n",
      "epoch = 49, lr = 0.00029629632, loss = 17.548784\n",
      "epoch = 50, lr = 0.00044444448, loss = 17.483717\n",
      "epoch = 51, lr = 0.00029629632, loss = 17.455631\n",
      "epoch = 52, lr = 0.00019753088, loss = 17.328552\n",
      "epoch = 53, lr = 0.00029629632, loss = 17.23999\n",
      "epoch = 54, lr = 0.00044444448, loss = 17.181372\n",
      "epoch = 55, lr = 0.00029629632, loss = 17.169632\n",
      "epoch = 56, lr = 0.00019753088, loss = 17.045698\n",
      "epoch = 57, lr = 0.00029629632, loss = 16.95632\n",
      "epoch = 58, lr = 0.00044444448, loss = 16.922894\n",
      "epoch = 59, lr = 0.00019753088, loss = 16.827627\n",
      "epoch = 60, lr = 0.00029629632, loss = 16.74989\n",
      "epoch = 61, lr = 0.00044444448, loss = 16.71279\n",
      "epoch = 62, lr = 0.00019753088, loss = 16.627497\n",
      "epoch = 63, lr = 0.00029629632, loss = 16.555832\n",
      "epoch = 64, lr = 0.00044444448, loss = 16.524466\n",
      "epoch = 65, lr = 0.00019753088, loss = 16.444178\n",
      "epoch = 66, lr = 0.00029629632, loss = 16.37353\n",
      "epoch = 67, lr = 0.00044444448, loss = 16.361538\n",
      "epoch = 68, lr = 0.00019753088, loss = 16.278582\n",
      "epoch = 69, lr = 0.00029629632, loss = 16.207718\n",
      "epoch = 70, lr = 0.00019753088, loss = 16.142963\n",
      "epoch = 71, lr = 0.00029629632, loss = 16.083536\n",
      "epoch = 72, lr = 0.00044444448, loss = 16.067726\n",
      "epoch = 73, lr = 0.00019753088, loss = 16.00056\n",
      "epoch = 74, lr = 0.00029629632, loss = 15.937838\n",
      "epoch = 75, lr = 0.00019753088, loss = 15.880274\n",
      "epoch = 76, lr = 0.00029629632, loss = 15.825281\n",
      "epoch = 77, lr = 0.00019753088, loss = 15.773222\n",
      "epoch = 78, lr = 0.00029629632, loss = 15.722803\n",
      "epoch = 79, lr = 0.00044444448, loss = 15.719269\n",
      "epoch = 80, lr = 0.00019753088, loss = 15.664835\n",
      "epoch = 81, lr = 0.00029629632, loss = 15.614435\n",
      "epoch = 82, lr = 0.00019753088, loss = 15.565402\n",
      "epoch = 83, lr = 0.00029629632, loss = 15.5193615\n",
      "epoch = 84, lr = 0.00019753088, loss = 15.474371\n",
      "epoch = 85, lr = 0.00029629632, loss = 15.431806\n",
      "epoch = 86, lr = 0.00019753088, loss = 15.390158\n",
      "epoch = 87, lr = 0.00029629632, loss = 15.35068\n",
      "epoch = 88, lr = 0.00019753088, loss = 15.312109\n",
      "epoch = 89, lr = 0.00029629632, loss = 15.275683\n",
      "epoch = 90, lr = 0.00019753088, loss = 15.24025\n",
      "epoch = 91, lr = 0.00029629632, loss = 15.207155\n",
      "epoch = 92, lr = 0.00019753088, loss = 15.17525\n",
      "epoch = 93, lr = 0.00029629632, loss = 15.146133\n",
      "epoch = 94, lr = 0.00019753088, loss = 15.118574\n",
      "epoch = 95, lr = 0.00029629632, loss = 15.094623\n",
      "epoch = 96, lr = 0.00019753088, loss = 15.072858\n",
      "epoch = 97, lr = 0.00029629632, loss = 15.056104\n",
      "epoch = 98, lr = 0.00019753088, loss = 15.0425825\n",
      "epoch = 99, lr = 0.00029629632, loss = 15.036453\n",
      "epoch = 100, lr = 0.00019753088, loss = 15.035255\n",
      "epoch = 101, lr = 0.00013168725, loss = 14.844778\n",
      "epoch = 102, lr = 0.00019753087, loss = 14.796701\n",
      "epoch = 103, lr = 0.00029629632, loss = 14.766647\n",
      "epoch = 104, lr = 0.00044444448, loss = 14.743558\n",
      "epoch = 105, lr = 0.00019753088, loss = 14.721155\n",
      "epoch = 106, lr = 0.00029629632, loss = 14.701408\n",
      "epoch = 107, lr = 0.00019753088, loss = 14.685557\n",
      "epoch = 108, lr = 0.00029629632, loss = 14.674162\n",
      "epoch = 109, lr = 0.00019753088, loss = 14.669614\n",
      "epoch = 110, lr = 0.00013168725, loss = 14.570158\n",
      "epoch = 111, lr = 0.00019753087, loss = 14.537018\n",
      "epoch = 112, lr = 0.00029629632, loss = 14.510968\n",
      "epoch = 113, lr = 0.00044444448, loss = 14.48925\n",
      "epoch = 114, lr = 0.00019753088, loss = 14.4713545\n",
      "epoch = 115, lr = 0.00029629632, loss = 14.457308\n",
      "epoch = 116, lr = 0.00019753088, loss = 14.448291\n",
      "epoch = 117, lr = 0.00029629632, loss = 14.446851\n",
      "epoch = 118, lr = 0.00013168725, loss = 14.364621\n",
      "epoch = 119, lr = 0.00019753087, loss = 14.334659\n",
      "epoch = 120, lr = 0.00029629632, loss = 14.31177\n",
      "epoch = 121, lr = 0.00044444448, loss = 14.297554\n",
      "epoch = 122, lr = 0.00019753088, loss = 14.285934\n",
      "epoch = 123, lr = 0.00029629632, loss = 14.280457\n",
      "epoch = 124, lr = 0.00013168725, loss = 14.221065\n",
      "epoch = 125, lr = 0.00019753087, loss = 14.196039\n",
      "epoch = 126, lr = 0.00029629632, loss = 14.174711\n",
      "epoch = 127, lr = 0.00044444448, loss = 14.159784\n",
      "epoch = 128, lr = 0.00019753088, loss = 14.149206\n",
      "epoch = 129, lr = 0.00029629632, loss = 14.145001\n",
      "epoch = 130, lr = 0.00013168725, loss = 14.091202\n",
      "epoch = 131, lr = 0.00019753087, loss = 14.06763\n",
      "epoch = 132, lr = 0.00029629632, loss = 14.047979\n",
      "epoch = 133, lr = 0.00044444448, loss = 14.037138\n",
      "epoch = 134, lr = 0.00019753088, loss = 14.030322\n",
      "epoch = 135, lr = 0.00013168725, loss = 13.987599\n",
      "epoch = 136, lr = 0.00019753087, loss = 13.966818\n",
      "epoch = 137, lr = 0.00029629632, loss = 13.948079\n",
      "epoch = 138, lr = 0.00044444448, loss = 13.936071\n",
      "epoch = 139, lr = 0.00019753088, loss = 13.929278\n",
      "epoch = 140, lr = 0.00013168725, loss = 13.890859\n",
      "epoch = 141, lr = 0.00019753087, loss = 13.871435\n",
      "epoch = 142, lr = 0.00029629632, loss = 13.853697\n",
      "epoch = 143, lr = 0.00044444448, loss = 13.843158\n",
      "epoch = 144, lr = 0.00019753088, loss = 13.838\n",
      "epoch = 145, lr = 0.00013168725, loss = 13.80007\n",
      "epoch = 146, lr = 0.00019753087, loss = 13.780922\n",
      "epoch = 147, lr = 0.00029629632, loss = 13.764303\n",
      "epoch = 148, lr = 0.00044444448, loss = 13.757672\n",
      "epoch = 149, lr = 0.00019753088, loss = 13.756169\n",
      "epoch = 150, lr = 0.00013168725, loss = 13.7148285\n",
      "epoch = 151, lr = 0.00019753087, loss = 13.694949\n",
      "epoch = 152, lr = 0.00029629632, loss = 13.67964\n",
      "epoch = 153, lr = 0.00019753088, loss = 13.665979\n",
      "epoch = 154, lr = 0.00029629632, loss = 13.655001\n",
      "epoch = 155, lr = 0.00019753088, loss = 13.648526\n",
      "epoch = 156, lr = 0.00013168725, loss = 13.619097\n",
      "epoch = 157, lr = 0.00019753087, loss = 13.602727\n",
      "epoch = 158, lr = 0.00029629632, loss = 13.587601\n",
      "epoch = 159, lr = 0.00044444448, loss = 13.581286\n",
      "epoch = 160, lr = 0.00019753088, loss = 13.580981\n",
      "epoch = 161, lr = 0.00013168725, loss = 13.543538\n",
      "epoch = 162, lr = 0.00019753087, loss = 13.524939\n",
      "epoch = 163, lr = 0.00029629632, loss = 13.511452\n",
      "epoch = 164, lr = 0.00019753088, loss = 13.499949\n",
      "epoch = 165, lr = 0.00029629632, loss = 13.491867\n",
      "epoch = 166, lr = 0.00019753088, loss = 13.4897\n",
      "epoch = 167, lr = 0.00013168725, loss = 13.457834\n"
     ]
    },
    {
     "name": "stdout",
     "output_type": "stream",
     "text": [
      "epoch = 168, lr = 0.00019753087, loss = 13.441028\n",
      "epoch = 169, lr = 0.00029629632, loss = 13.427991\n",
      "epoch = 170, lr = 0.00019753088, loss = 13.416815\n",
      "epoch = 171, lr = 0.00029629632, loss = 13.4088955\n",
      "epoch = 172, lr = 0.00019753088, loss = 13.40671\n",
      "epoch = 173, lr = 0.00013168725, loss = 13.377048\n",
      "epoch = 174, lr = 0.00019753087, loss = 13.361044\n",
      "epoch = 175, lr = 0.00029629632, loss = 13.348679\n",
      "epoch = 176, lr = 0.00019753088, loss = 13.33826\n",
      "epoch = 177, lr = 0.00029629632, loss = 13.331305\n",
      "epoch = 178, lr = 0.00019753088, loss = 13.330559\n",
      "epoch = 179, lr = 0.00013168725, loss = 13.300641\n",
      "epoch = 180, lr = 0.00019753087, loss = 13.284665\n",
      "epoch = 181, lr = 0.00029629632, loss = 13.273191\n",
      "epoch = 182, lr = 0.00019753088, loss = 13.263975\n",
      "epoch = 183, lr = 0.00029629632, loss = 13.258855\n",
      "epoch = 184, lr = 0.00013168725, loss = 13.236837\n",
      "epoch = 185, lr = 0.00019753087, loss = 13.223538\n",
      "epoch = 186, lr = 0.00029629632, loss = 13.21167\n",
      "epoch = 187, lr = 0.00019753088, loss = 13.201395\n",
      "epoch = 188, lr = 0.00029629632, loss = 13.194002\n",
      "epoch = 189, lr = 0.00019753088, loss = 13.191946\n",
      "epoch = 190, lr = 0.00013168725, loss = 13.166977\n",
      "epoch = 191, lr = 0.00019753087, loss = 13.152826\n",
      "epoch = 192, lr = 0.00029629632, loss = 13.1421\n",
      "epoch = 193, lr = 0.00019753088, loss = 13.133571\n",
      "epoch = 194, lr = 0.00029629632, loss = 13.129102\n",
      "epoch = 195, lr = 0.00013168725, loss = 13.108681\n",
      "epoch = 196, lr = 0.00019753087, loss = 13.096128\n",
      "epoch = 197, lr = 0.00029629632, loss = 13.085283\n",
      "epoch = 198, lr = 0.00019753088, loss = 13.076208\n",
      "epoch = 199, lr = 0.00029629632, loss = 13.070459\n",
      "epoch = 200, lr = 0.00013168725, loss = 13.052793\n",
      "epoch = 201, lr = 0.00019753087, loss = 13.041296\n",
      "epoch = 202, lr = 0.00029629632, loss = 13.030505\n",
      "epoch = 203, lr = 0.00019753088, loss = 13.021243\n",
      "epoch = 204, lr = 0.00029629632, loss = 13.014856\n",
      "epoch = 205, lr = 0.00019753088, loss = 13.013975\n",
      "epoch = 206, lr = 0.00013168725, loss = 12.990837\n",
      "epoch = 207, lr = 0.00019753087, loss = 12.977541\n",
      "epoch = 208, lr = 0.00029629632, loss = 12.968315\n",
      "epoch = 209, lr = 0.00019753088, loss = 12.961741\n",
      "epoch = 210, lr = 0.00029629632, loss = 12.960266\n",
      "epoch = 211, lr = 0.00013168725, loss = 12.938837\n",
      "epoch = 212, lr = 0.00019753087, loss = 12.92618\n",
      "epoch = 213, lr = 0.00029629632, loss = 12.9171505\n",
      "epoch = 214, lr = 0.00019753088, loss = 12.910698\n",
      "epoch = 215, lr = 0.00029629632, loss = 12.909266\n",
      "epoch = 216, lr = 0.00013168725, loss = 12.888601\n",
      "epoch = 217, lr = 0.00019753087, loss = 12.876303\n",
      "epoch = 218, lr = 0.00029629632, loss = 12.867595\n",
      "epoch = 219, lr = 0.00019753088, loss = 12.861532\n",
      "epoch = 220, lr = 0.00029629632, loss = 12.860657\n",
      "epoch = 221, lr = 0.00013168725, loss = 12.840073\n",
      "epoch = 222, lr = 0.00019753087, loss = 12.827832\n",
      "epoch = 223, lr = 0.00029629632, loss = 12.819575\n",
      "epoch = 224, lr = 0.00019753088, loss = 12.814173\n",
      "epoch = 225, lr = 0.00013168725, loss = 12.799855\n",
      "epoch = 226, lr = 0.00019753087, loss = 12.789984\n",
      "epoch = 227, lr = 0.00029629632, loss = 12.780691\n",
      "epoch = 228, lr = 0.00019753088, loss = 12.773031\n",
      "epoch = 229, lr = 0.00029629632, loss = 12.76861\n",
      "epoch = 230, lr = 0.00013168725, loss = 12.75368\n",
      "epoch = 231, lr = 0.00019753087, loss = 12.743662\n",
      "epoch = 232, lr = 0.00029629632, loss = 12.7348795\n",
      "epoch = 233, lr = 0.00019753088, loss = 12.728021\n",
      "epoch = 234, lr = 0.00029629632, loss = 12.725009\n",
      "epoch = 235, lr = 0.00013168725, loss = 12.708951\n",
      "epoch = 236, lr = 0.00019753087, loss = 12.698553\n",
      "epoch = 237, lr = 0.00029629632, loss = 12.690421\n",
      "epoch = 238, lr = 0.00019753088, loss = 12.68466\n",
      "epoch = 239, lr = 0.00029629632, loss = 12.683714\n",
      "epoch = 240, lr = 0.00013168725, loss = 12.665736\n",
      "epoch = 241, lr = 0.00019753087, loss = 12.654669\n",
      "epoch = 242, lr = 0.00029629632, loss = 12.64739\n",
      "epoch = 243, lr = 0.00019753088, loss = 12.643186\n",
      "epoch = 244, lr = 0.00013168725, loss = 12.629527\n",
      "epoch = 245, lr = 0.00019753087, loss = 12.620165\n",
      "epoch = 246, lr = 0.00029629632, loss = 12.612047\n",
      "epoch = 247, lr = 0.00019753088, loss = 12.605952\n",
      "epoch = 248, lr = 0.00029629632, loss = 12.604\n",
      "epoch = 249, lr = 0.00013168725, loss = 12.5882015\n",
      "epoch = 250, lr = 0.00019753087, loss = 12.578038\n",
      "epoch = 251, lr = 0.00029629632, loss = 12.570848\n",
      "epoch = 252, lr = 0.00019753088, loss = 12.566481\n",
      "epoch = 253, lr = 0.00013168725, loss = 12.553866\n",
      "epoch = 254, lr = 0.00019753087, loss = 12.544998\n",
      "epoch = 255, lr = 0.00029629632, loss = 12.5371685\n",
      "epoch = 256, lr = 0.00019753088, loss = 12.531321\n",
      "epoch = 257, lr = 0.00029629632, loss = 12.529596\n",
      "epoch = 258, lr = 0.00013168725, loss = 12.514391\n",
      "epoch = 259, lr = 0.00019753087, loss = 12.50455\n",
      "epoch = 260, lr = 0.00029629632, loss = 12.497792\n",
      "epoch = 261, lr = 0.00019753088, loss = 12.494018\n",
      "epoch = 262, lr = 0.00013168725, loss = 12.481486\n",
      "epoch = 263, lr = 0.00019753087, loss = 12.472748\n",
      "epoch = 264, lr = 0.00029629632, loss = 12.465429\n",
      "epoch = 265, lr = 0.00019753088, loss = 12.460329\n",
      "epoch = 266, lr = 0.00029629632, loss = 12.459899\n",
      "epoch = 267, lr = 0.00013168725, loss = 12.444045\n",
      "epoch = 268, lr = 0.00019753087, loss = 12.43398\n",
      "epoch = 269, lr = 0.00029629632, loss = 12.428022\n",
      "epoch = 270, lr = 0.00019753088, loss = 12.425651\n",
      "epoch = 271, lr = 0.00013168725, loss = 12.412276\n",
      "epoch = 272, lr = 0.00019753087, loss = 12.403257\n",
      "epoch = 273, lr = 0.00029629632, loss = 12.396738\n",
      "epoch = 274, lr = 0.00019753088, loss = 12.3930435\n",
      "epoch = 275, lr = 0.00013168725, loss = 12.381419\n",
      "epoch = 276, lr = 0.00019753087, loss = 12.373153\n",
      "epoch = 277, lr = 0.00029629632, loss = 12.366272\n",
      "epoch = 278, lr = 0.00019753088, loss = 12.36167\n",
      "epoch = 279, lr = 0.00013168725, loss = 12.351305\n",
      "epoch = 280, lr = 0.00019753087, loss = 12.3435955\n",
      "epoch = 281, lr = 0.00029629632, loss = 12.336484\n",
      "epoch = 282, lr = 0.00019753088, loss = 12.331262\n",
      "epoch = 283, lr = 0.00029629632, loss = 12.330103\n",
      "epoch = 284, lr = 0.00013168725, loss = 12.316368\n",
      "epoch = 285, lr = 0.00019753087, loss = 12.307297\n",
      "epoch = 286, lr = 0.00029629632, loss = 12.301651\n",
      "epoch = 287, lr = 0.00019753088, loss = 12.299467\n",
      "epoch = 288, lr = 0.00013168725, loss = 12.2871\n",
      "epoch = 289, lr = 0.00019753087, loss = 12.278627\n",
      "epoch = 290, lr = 0.00029629632, loss = 12.272699\n",
      "epoch = 291, lr = 0.00019753088, loss = 12.26979\n",
      "epoch = 292, lr = 0.00013168725, loss = 12.258448\n",
      "epoch = 293, lr = 0.00019753087, loss = 12.250433\n",
      "epoch = 294, lr = 0.00029629632, loss = 12.244327\n",
      "epoch = 295, lr = 0.00019753088, loss = 12.240908\n",
      "epoch = 296, lr = 0.00013168725, loss = 12.230338\n",
      "epoch = 297, lr = 0.00019753087, loss = 12.22268\n",
      "epoch = 298, lr = 0.00029629632, loss = 12.216471\n",
      "epoch = 299, lr = 0.00019753088, loss = 12.21271\n",
      "epoch = 300, lr = 0.00013168725, loss = 12.2027235\n",
      "epoch = 301, lr = 0.00019753087, loss = 12.195341\n",
      "epoch = 302, lr = 0.00029629632, loss = 12.189088\n",
      "epoch = 303, lr = 0.00019753088, loss = 12.185115\n",
      "epoch = 304, lr = 0.00013168725, loss = 12.175565\n",
      "epoch = 305, lr = 0.00019753087, loss = 12.168398\n",
      "epoch = 306, lr = 0.00029629632, loss = 12.162146\n",
      "epoch = 307, lr = 0.00019753088, loss = 12.158068\n",
      "epoch = 308, lr = 0.00013168725, loss = 12.148835\n",
      "epoch = 309, lr = 0.00019753087, loss = 12.141833\n",
      "epoch = 310, lr = 0.00029629632, loss = 12.135623\n",
      "epoch = 311, lr = 0.00019753088, loss = 12.131526\n",
      "epoch = 312, lr = 0.00013168725, loss = 12.122513\n",
      "epoch = 313, lr = 0.00019753087, loss = 12.115636\n",
      "epoch = 314, lr = 0.00029629632, loss = 12.1095\n",
      "epoch = 315, lr = 0.00019753088, loss = 12.105464\n",
      "epoch = 316, lr = 0.00013168725, loss = 12.096584\n",
      "epoch = 317, lr = 0.00019753087, loss = 12.08979\n",
      "epoch = 318, lr = 0.00029629632, loss = 12.083765\n",
      "epoch = 319, lr = 0.00019753088, loss = 12.079866\n",
      "epoch = 320, lr = 0.00013168725, loss = 12.07104\n",
      "epoch = 321, lr = 0.00019753087, loss = 12.064293\n",
      "epoch = 322, lr = 0.00029629632, loss = 12.058407\n",
      "epoch = 323, lr = 0.00019753088, loss = 12.054728\n",
      "epoch = 324, lr = 0.00013168725, loss = 12.045871\n",
      "epoch = 325, lr = 0.00019753087, loss = 12.039136\n",
      "epoch = 326, lr = 0.00029629632, loss = 12.033427\n",
      "epoch = 327, lr = 0.00019753088, loss = 12.030048\n",
      "epoch = 328, lr = 0.00013168725, loss = 12.021078\n",
      "epoch = 329, lr = 0.00019753087, loss = 12.014317\n",
      "epoch = 330, lr = 0.00029629632, loss = 12.008824\n",
      "epoch = 331, lr = 0.00019753088, loss = 12.005842\n",
      "epoch = 332, lr = 0.00013168725, loss = 11.996666\n"
     ]
    },
    {
     "name": "stdout",
     "output_type": "stream",
     "text": [
      "epoch = 333, lr = 0.00019753087, loss = 11.989831\n",
      "epoch = 334, lr = 0.00029629632, loss = 11.984606\n",
      "epoch = 335, lr = 0.00019753088, loss = 11.982135\n",
      "epoch = 336, lr = 0.00013168725, loss = 11.972643\n",
      "epoch = 337, lr = 0.00019753087, loss = 11.965681\n",
      "epoch = 338, lr = 0.00029629632, loss = 11.96078\n",
      "epoch = 339, lr = 0.00019753088, loss = 11.958967\n",
      "epoch = 340, lr = 0.00013168725, loss = 11.949022\n",
      "epoch = 341, lr = 0.00019753087, loss = 11.941873\n",
      "epoch = 342, lr = 0.00029629632, loss = 11.937372\n",
      "epoch = 343, lr = 0.00019753088, loss = 11.936396\n",
      "epoch = 344, lr = 0.00013168725, loss = 11.925833\n",
      "epoch = 345, lr = 0.00019753087, loss = 11.918417\n",
      "epoch = 346, lr = 0.00029629632, loss = 11.914413\n",
      "epoch = 347, lr = 0.00013168725, loss = 11.906824\n",
      "epoch = 348, lr = 0.00019753087, loss = 11.900787\n",
      "epoch = 349, lr = 0.00029629632, loss = 11.89532\n",
      "epoch = 350, lr = 0.00019753088, loss = 11.891943\n",
      "epoch = 351, lr = 0.00013168725, loss = 11.883923\n",
      "epoch = 352, lr = 0.00019753087, loss = 11.877703\n",
      "epoch = 353, lr = 0.00029629632, loss = 11.872618\n",
      "epoch = 354, lr = 0.00019753088, loss = 11.870039\n",
      "epoch = 355, lr = 0.00013168725, loss = 11.861432\n",
      "epoch = 356, lr = 0.00019753087, loss = 11.854953\n",
      "epoch = 357, lr = 0.00029629632, loss = 11.850348\n",
      "epoch = 358, lr = 0.00019753088, loss = 11.848806\n",
      "epoch = 359, lr = 0.00013168725, loss = 11.839399\n",
      "epoch = 360, lr = 0.00019753087, loss = 11.832559\n",
      "epoch = 361, lr = 0.00029629632, loss = 11.8285675\n",
      "epoch = 362, lr = 0.00019753088, loss = 11.828389\n",
      "epoch = 363, lr = 0.00013168725, loss = 11.817897\n",
      "epoch = 364, lr = 0.00019753087, loss = 11.81055\n",
      "epoch = 365, lr = 0.00029629632, loss = 11.8073635\n",
      "epoch = 366, lr = 0.00013168725, loss = 11.799701\n",
      "epoch = 367, lr = 0.00019753087, loss = 11.793724\n",
      "epoch = 368, lr = 0.00029629632, loss = 11.788968\n",
      "epoch = 369, lr = 0.00019753088, loss = 11.786841\n",
      "epoch = 370, lr = 0.00013168725, loss = 11.77836\n",
      "epoch = 371, lr = 0.00019753087, loss = 11.772011\n",
      "epoch = 372, lr = 0.00029629632, loss = 11.767893\n",
      "epoch = 373, lr = 0.00019753088, loss = 11.767201\n",
      "epoch = 374, lr = 0.00013168725, loss = 11.757575\n",
      "epoch = 375, lr = 0.00019753087, loss = 11.750692\n",
      "epoch = 376, lr = 0.00029629632, loss = 11.747434\n",
      "epoch = 377, lr = 0.00013168725, loss = 11.740202\n",
      "epoch = 378, lr = 0.00019753087, loss = 11.734471\n",
      "epoch = 379, lr = 0.00029629632, loss = 11.72983\n",
      "epoch = 380, lr = 0.00019753088, loss = 11.72775\n",
      "epoch = 381, lr = 0.00013168725, loss = 11.719605\n",
      "epoch = 382, lr = 0.00019753087, loss = 11.713446\n",
      "epoch = 383, lr = 0.00029629632, loss = 11.709528\n",
      "epoch = 384, lr = 0.00019753088, loss = 11.709104\n",
      "epoch = 385, lr = 0.00013168725, loss = 11.699641\n",
      "epoch = 386, lr = 0.00019753087, loss = 11.692848\n",
      "epoch = 387, lr = 0.00029629632, loss = 11.689943\n",
      "epoch = 388, lr = 0.00013168725, loss = 11.682732\n",
      "epoch = 389, lr = 0.00019753087, loss = 11.677063\n",
      "epoch = 390, lr = 0.00029629632, loss = 11.672764\n",
      "epoch = 391, lr = 0.00019753088, loss = 11.6713\n",
      "epoch = 392, lr = 0.00013168725, loss = 11.662958\n",
      "epoch = 393, lr = 0.00019753087, loss = 11.656752\n",
      "epoch = 394, lr = 0.00029629632, loss = 11.653349\n",
      "epoch = 395, lr = 0.00013168725, loss = 11.646774\n",
      "epoch = 396, lr = 0.00019753087, loss = 11.6414385\n",
      "epoch = 397, lr = 0.00029629632, loss = 11.636932\n",
      "epoch = 398, lr = 0.00019753088, loss = 11.634833\n",
      "epoch = 399, lr = 0.00013168725, loss = 11.627257\n",
      "epoch = 400, lr = 0.00019753087, loss = 11.621435\n",
      "epoch = 401, lr = 0.00029629632, loss = 11.617759\n",
      "epoch = 402, lr = 0.00019753088, loss = 11.6176\n",
      "epoch = 403, lr = 0.00013168725, loss = 11.608495\n",
      "epoch = 404, lr = 0.00019753087, loss = 11.601916\n",
      "epoch = 405, lr = 0.00029629632, loss = 11.599475\n",
      "epoch = 406, lr = 0.00013168725, loss = 11.592379\n",
      "epoch = 407, lr = 0.00019753087, loss = 11.586828\n",
      "epoch = 408, lr = 0.00029629632, loss = 11.583028\n",
      "epoch = 409, lr = 0.00019753088, loss = 11.582455\n",
      "epoch = 410, lr = 0.00013168725, loss = 11.573894\n",
      "epoch = 411, lr = 0.00019753087, loss = 11.567626\n",
      "epoch = 412, lr = 0.00029629632, loss = 11.56503\n",
      "epoch = 413, lr = 0.00013168725, loss = 11.558254\n",
      "epoch = 414, lr = 0.00019753087, loss = 11.552877\n",
      "epoch = 415, lr = 0.00029629632, loss = 11.549067\n",
      "epoch = 416, lr = 0.00019753088, loss = 11.548337\n",
      "epoch = 417, lr = 0.00013168725, loss = 11.540116\n",
      "epoch = 418, lr = 0.00019753087, loss = 11.534014\n",
      "epoch = 419, lr = 0.00029629632, loss = 11.531431\n",
      "epoch = 420, lr = 0.00013168725, loss = 11.524816\n",
      "epoch = 421, lr = 0.00019753087, loss = 11.519549\n",
      "epoch = 422, lr = 0.00029629632, loss = 11.515818\n",
      "epoch = 423, lr = 0.00019753088, loss = 11.515177\n",
      "epoch = 424, lr = 0.00013168725, loss = 11.507059\n",
      "epoch = 425, lr = 0.00019753087, loss = 11.501045\n",
      "epoch = 426, lr = 0.00029629632, loss = 11.498607\n",
      "epoch = 427, lr = 0.00013168725, loss = 11.492047\n",
      "epoch = 428, lr = 0.00019753087, loss = 11.486821\n",
      "epoch = 429, lr = 0.00029629632, loss = 11.483259\n",
      "epoch = 430, lr = 0.00019753088, loss = 11.48292\n",
      "epoch = 431, lr = 0.00013168725, loss = 11.474751\n",
      "epoch = 432, lr = 0.00019753087, loss = 11.468706\n",
      "epoch = 433, lr = 0.00029629632, loss = 11.466566\n",
      "epoch = 434, lr = 0.00013168725, loss = 11.45992\n",
      "epoch = 435, lr = 0.00019753087, loss = 11.4546795\n",
      "epoch = 436, lr = 0.00029629632, loss = 11.451381\n",
      "epoch = 437, lr = 0.00013168725, loss = 11.445743\n",
      "epoch = 438, lr = 0.00019753087, loss = 11.441022\n",
      "epoch = 439, lr = 0.00029629632, loss = 11.436983\n",
      "epoch = 440, lr = 0.00019753088, loss = 11.4353\n",
      "epoch = 441, lr = 0.00013168725, loss = 11.428455\n",
      "epoch = 442, lr = 0.00019753087, loss = 11.423117\n",
      "epoch = 443, lr = 0.00029629632, loss = 11.420201\n",
      "epoch = 444, lr = 0.00013168725, loss = 11.4144\n",
      "epoch = 445, lr = 0.00019753087, loss = 11.40962\n",
      "epoch = 446, lr = 0.00029629632, loss = 11.405895\n",
      "epoch = 447, lr = 0.00019753088, loss = 11.40489\n",
      "epoch = 448, lr = 0.00013168725, loss = 11.397654\n",
      "epoch = 449, lr = 0.00019753087, loss = 11.392143\n",
      "epoch = 450, lr = 0.00029629632, loss = 11.389758\n",
      "epoch = 451, lr = 0.00013168725, loss = 11.383687\n",
      "epoch = 452, lr = 0.00019753087, loss = 11.378775\n",
      "epoch = 453, lr = 0.00029629632, loss = 11.375476\n",
      "epoch = 454, lr = 0.00019753088, loss = 11.375432\n",
      "epoch = 455, lr = 0.00013168725, loss = 11.367608\n",
      "epoch = 456, lr = 0.00019753087, loss = 11.361782\n",
      "epoch = 457, lr = 0.00029629632, loss = 11.360154\n",
      "epoch = 458, lr = 0.00013168725, loss = 11.353624\n",
      "epoch = 459, lr = 0.00019753087, loss = 11.348501\n",
      "epoch = 460, lr = 0.00029629632, loss = 11.345789\n",
      "epoch = 461, lr = 0.00013168725, loss = 11.34017\n",
      "epoch = 462, lr = 0.00019753087, loss = 11.3355255\n",
      "epoch = 463, lr = 0.00029629632, loss = 11.332075\n",
      "epoch = 464, lr = 0.00019753088, loss = 11.331509\n",
      "epoch = 465, lr = 0.00013168725, loss = 11.324308\n",
      "epoch = 466, lr = 0.00019753087, loss = 11.31883\n",
      "epoch = 467, lr = 0.00029629632, loss = 11.316946\n",
      "epoch = 468, lr = 0.00013168725, loss = 11.310812\n",
      "epoch = 469, lr = 0.00019753087, loss = 11.305922\n",
      "epoch = 470, lr = 0.00029629632, loss = 11.303115\n",
      "epoch = 471, lr = 0.00013168725, loss = 11.297752\n",
      "epoch = 472, lr = 0.00019753087, loss = 11.293268\n",
      "epoch = 473, lr = 0.00029629632, loss = 11.289824\n",
      "epoch = 474, lr = 0.00019753088, loss = 11.289129\n",
      "epoch = 475, lr = 0.00013168725, loss = 11.282228\n",
      "epoch = 476, lr = 0.00019753087, loss = 11.276926\n",
      "epoch = 477, lr = 0.00029629632, loss = 11.275054\n",
      "epoch = 478, lr = 0.00013168725, loss = 11.269096\n",
      "epoch = 479, lr = 0.00019753087, loss = 11.26432\n",
      "epoch = 480, lr = 0.00029629632, loss = 11.261604\n",
      "epoch = 481, lr = 0.00013168725, loss = 11.256348\n",
      "epoch = 482, lr = 0.00019753087, loss = 11.251944\n",
      "epoch = 483, lr = 0.00029629632, loss = 11.248629\n",
      "epoch = 484, lr = 0.00019753088, loss = 11.248134\n",
      "epoch = 485, lr = 0.00013168725, loss = 11.241272\n",
      "epoch = 486, lr = 0.00019753087, loss = 11.236008\n",
      "epoch = 487, lr = 0.00029629632, loss = 11.234381\n",
      "epoch = 488, lr = 0.00013168725, loss = 11.228414\n",
      "epoch = 489, lr = 0.00019753087, loss = 11.223653\n",
      "epoch = 490, lr = 0.00029629632, loss = 11.221197\n",
      "epoch = 491, lr = 0.00013168725, loss = 11.215909\n",
      "epoch = 492, lr = 0.00019753087, loss = 11.211511\n",
      "epoch = 493, lr = 0.00029629632, loss = 11.208454\n",
      "epoch = 494, lr = 0.00013168725, loss = 11.203657\n",
      "epoch = 495, lr = 0.00019753087, loss = 11.199537\n",
      "epoch = 496, lr = 0.00029629632, loss = 11.196042\n",
      "epoch = 497, lr = 0.00019753088, loss = 11.194913\n",
      "epoch = 498, lr = 0.00013168725, loss = 11.188744\n"
     ]
    },
    {
     "name": "stdout",
     "output_type": "stream",
     "text": [
      "epoch = 499, lr = 0.00019753087, loss = 11.183893\n",
      "epoch = 500, lr = 0.00029629632, loss = 11.181892\n",
      "epoch = 501, lr = 0.00013168725, loss = 11.176427\n",
      "epoch = 502, lr = 0.00019753087, loss = 11.171949\n",
      "epoch = 503, lr = 0.00029629632, loss = 11.169307\n",
      "epoch = 504, lr = 0.00013168725, loss = 11.164355\n",
      "epoch = 505, lr = 0.00019753087, loss = 11.160173\n",
      "epoch = 506, lr = 0.00029629632, loss = 11.157046\n",
      "epoch = 507, lr = 0.00019753088, loss = 11.156746\n",
      "epoch = 508, lr = 0.00013168725, loss = 11.150131\n",
      "epoch = 509, lr = 0.00019753087, loss = 11.145055\n",
      "epoch = 510, lr = 0.00029629632, loss = 11.143778\n",
      "epoch = 511, lr = 0.00013168725, loss = 11.137936\n",
      "epoch = 512, lr = 0.00019753087, loss = 11.13327\n",
      "epoch = 513, lr = 0.00029629632, loss = 11.131259\n",
      "epoch = 514, lr = 0.00013168725, loss = 11.12599\n",
      "epoch = 515, lr = 0.00019753087, loss = 11.121658\n",
      "epoch = 516, lr = 0.00029629632, loss = 11.1190815\n",
      "epoch = 517, lr = 0.00013168725, loss = 11.114272\n",
      "epoch = 518, lr = 0.00019753087, loss = 11.1101885\n",
      "epoch = 519, lr = 0.00029629632, loss = 11.107183\n",
      "epoch = 520, lr = 0.00019753088, loss = 11.10704\n",
      "epoch = 521, lr = 0.00013168725, loss = 11.100533\n",
      "epoch = 522, lr = 0.00019753087, loss = 11.0955105\n",
      "epoch = 523, lr = 0.00029629632, loss = 11.09448\n",
      "epoch = 524, lr = 0.00013168725, loss = 11.088648\n",
      "epoch = 525, lr = 0.00019753087, loss = 11.084021\n",
      "epoch = 526, lr = 0.00029629632, loss = 11.082289\n",
      "epoch = 527, lr = 0.00013168725, loss = 11.077012\n",
      "epoch = 528, lr = 0.00019753087, loss = 11.072683\n",
      "epoch = 529, lr = 0.00029629632, loss = 11.070412\n",
      "epoch = 530, lr = 0.00013168725, loss = 11.065554\n",
      "epoch = 531, lr = 0.00019753087, loss = 11.061476\n",
      "epoch = 532, lr = 0.00029629632, loss = 11.058776\n",
      "epoch = 533, lr = 0.00013168725, loss = 11.05427\n",
      "epoch = 534, lr = 0.00019753087, loss = 11.0503845\n",
      "epoch = 535, lr = 0.00029629632, loss = 11.047351\n",
      "epoch = 536, lr = 0.00019753088, loss = 11.046949\n",
      "epoch = 537, lr = 0.00013168725, loss = 11.040865\n",
      "epoch = 538, lr = 0.00019753087, loss = 11.036097\n",
      "epoch = 539, lr = 0.00029629632, loss = 11.034979\n",
      "epoch = 540, lr = 0.00013168725, loss = 11.029432\n",
      "epoch = 541, lr = 0.00019753087, loss = 11.024989\n",
      "epoch = 542, lr = 0.00029629632, loss = 11.02329\n",
      "epoch = 543, lr = 0.00013168725, loss = 11.018201\n",
      "epoch = 544, lr = 0.00019753087, loss = 11.014006\n",
      "epoch = 545, lr = 0.00029629632, loss = 11.011847\n",
      "epoch = 546, lr = 0.00013168725, loss = 11.0071125\n",
      "epoch = 547, lr = 0.00019753087, loss = 11.003131\n",
      "epoch = 548, lr = 0.00029629632, loss = 11.0006\n",
      "epoch = 549, lr = 0.00013168725, loss = 10.996168\n",
      "epoch = 550, lr = 0.00019753087, loss = 10.992355\n",
      "epoch = 551, lr = 0.00029629632, loss = 10.989527\n",
      "epoch = 552, lr = 0.00019753088, loss = 10.989486\n",
      "epoch = 553, lr = 0.00013168725, loss = 10.983366\n",
      "epoch = 554, lr = 0.00019753087, loss = 10.978598\n",
      "epoch = 555, lr = 0.00029629632, loss = 10.977897\n",
      "epoch = 556, lr = 0.00013168725, loss = 10.972264\n",
      "epoch = 557, lr = 0.00019753087, loss = 10.967796\n",
      "epoch = 558, lr = 0.00029629632, loss = 10.966542\n",
      "epoch = 559, lr = 0.00013168725, loss = 10.961342\n",
      "epoch = 560, lr = 0.00019753087, loss = 10.957106\n",
      "epoch = 561, lr = 0.00029629632, loss = 10.955404\n",
      "epoch = 562, lr = 0.00013168725, loss = 10.9505415\n",
      "epoch = 563, lr = 0.00019753087, loss = 10.946513\n",
      "epoch = 564, lr = 0.00029629632, loss = 10.94444\n",
      "epoch = 565, lr = 0.00013168725, loss = 10.939875\n",
      "epoch = 566, lr = 0.00019753087, loss = 10.936009\n",
      "epoch = 567, lr = 0.00029629632, loss = 10.933634\n",
      "epoch = 568, lr = 0.00013168725, loss = 10.929305\n",
      "epoch = 569, lr = 0.00019753087, loss = 10.925588\n",
      "epoch = 570, lr = 0.00029629632, loss = 10.922956\n",
      "epoch = 571, lr = 0.00013168725, loss = 10.918839\n",
      "epoch = 572, lr = 0.00019753087, loss = 10.915239\n",
      "epoch = 573, lr = 0.00029629632, loss = 10.912402\n",
      "epoch = 574, lr = 0.00019753088, loss = 10.912113\n",
      "epoch = 575, lr = 0.00013168725, loss = 10.906442\n",
      "epoch = 576, lr = 0.00019753087, loss = 10.901953\n",
      "epoch = 577, lr = 0.00029629632, loss = 10.901178\n",
      "epoch = 578, lr = 0.00013168725, loss = 10.895861\n",
      "epoch = 579, lr = 0.00019753087, loss = 10.891597\n",
      "epoch = 580, lr = 0.00029629632, loss = 10.890404\n",
      "epoch = 581, lr = 0.00013168725, loss = 10.885416\n",
      "epoch = 582, lr = 0.00019753087, loss = 10.881328\n",
      "epoch = 583, lr = 0.00029629632, loss = 10.879788\n",
      "epoch = 584, lr = 0.00013168725, loss = 10.875058\n",
      "epoch = 585, lr = 0.00019753087, loss = 10.871137\n",
      "epoch = 586, lr = 0.00029629632, loss = 10.869296\n",
      "epoch = 587, lr = 0.00013168725, loss = 10.864809\n",
      "epoch = 588, lr = 0.00019753087, loss = 10.861018\n",
      "epoch = 589, lr = 0.00029629632, loss = 10.858931\n",
      "epoch = 590, lr = 0.00013168725, loss = 10.854634\n",
      "epoch = 591, lr = 0.00019753087, loss = 10.850968\n",
      "epoch = 592, lr = 0.00029629632, loss = 10.848663\n",
      "epoch = 593, lr = 0.00013168725, loss = 10.844548\n",
      "epoch = 594, lr = 0.00019753087, loss = 10.840982\n",
      "epoch = 595, lr = 0.00029629632, loss = 10.838497\n",
      "epoch = 596, lr = 0.00013168725, loss = 10.834527\n",
      "epoch = 597, lr = 0.00019753087, loss = 10.831056\n",
      "epoch = 598, lr = 0.00029629632, loss = 10.828415\n",
      "epoch = 599, lr = 0.00013168725, loss = 10.82458\n",
      "epoch = 600, lr = 0.00019753087, loss = 10.821187\n",
      "epoch = 601, lr = 0.00029629632, loss = 10.818415\n",
      "epoch = 602, lr = 0.00019753088, loss = 10.818033\n",
      "epoch = 603, lr = 0.00013168725, loss = 10.812735\n",
      "epoch = 604, lr = 0.00019753087, loss = 10.80849\n",
      "epoch = 605, lr = 0.00029629632, loss = 10.807782\n",
      "epoch = 606, lr = 0.00013168725, loss = 10.802719\n",
      "epoch = 607, lr = 0.00019753087, loss = 10.798633\n",
      "epoch = 608, lr = 0.00029629632, loss = 10.797634\n",
      "epoch = 609, lr = 0.00013168725, loss = 10.792804\n",
      "epoch = 610, lr = 0.00019753087, loss = 10.788841\n",
      "epoch = 611, lr = 0.00029629632, loss = 10.787597\n",
      "epoch = 612, lr = 0.00013168725, loss = 10.782949\n",
      "epoch = 613, lr = 0.00019753087, loss = 10.77911\n",
      "epoch = 614, lr = 0.00029629632, loss = 10.777646\n",
      "epoch = 615, lr = 0.00013168725, loss = 10.77318\n",
      "epoch = 616, lr = 0.00019753087, loss = 10.769438\n",
      "epoch = 617, lr = 0.00029629632, loss = 10.767786\n",
      "epoch = 618, lr = 0.00013168725, loss = 10.763464\n",
      "epoch = 619, lr = 0.00019753087, loss = 10.75982\n",
      "epoch = 620, lr = 0.00029629632, loss = 10.758\n",
      "epoch = 621, lr = 0.00013168725, loss = 10.753822\n",
      "epoch = 622, lr = 0.00019753087, loss = 10.750255\n",
      "epoch = 623, lr = 0.00029629632, loss = 10.748294\n",
      "epoch = 624, lr = 0.00013168725, loss = 10.744229\n",
      "epoch = 625, lr = 0.00019753087, loss = 10.740742\n",
      "epoch = 626, lr = 0.00029629632, loss = 10.73865\n",
      "epoch = 627, lr = 0.00013168725, loss = 10.734701\n",
      "epoch = 628, lr = 0.00019753087, loss = 10.731277\n",
      "epoch = 629, lr = 0.00029629632, loss = 10.72908\n",
      "epoch = 630, lr = 0.00013168725, loss = 10.72522\n",
      "epoch = 631, lr = 0.00019753087, loss = 10.721861\n",
      "epoch = 632, lr = 0.00029629632, loss = 10.719566\n",
      "epoch = 633, lr = 0.00013168725, loss = 10.715799\n",
      "epoch = 634, lr = 0.00019753087, loss = 10.712489\n",
      "epoch = 635, lr = 0.00029629632, loss = 10.710114\n",
      "epoch = 636, lr = 0.00013168725, loss = 10.706422\n",
      "epoch = 637, lr = 0.00019753087, loss = 10.703165\n",
      "epoch = 638, lr = 0.00029629632, loss = 10.700712\n",
      "epoch = 639, lr = 0.00013168725, loss = 10.697096\n",
      "epoch = 640, lr = 0.00019753087, loss = 10.693883\n",
      "epoch = 641, lr = 0.00029629632, loss = 10.69137\n",
      "epoch = 642, lr = 0.00019753088, loss = 10.69134\n",
      "epoch = 643, lr = 0.00013168725, loss = 10.686197\n",
      "epoch = 644, lr = 0.00019753087, loss = 10.682078\n",
      "epoch = 645, lr = 0.00029629632, loss = 10.681883\n",
      "epoch = 646, lr = 0.00013168725, loss = 10.676858\n",
      "epoch = 647, lr = 0.00019753087, loss = 10.672836\n",
      "epoch = 648, lr = 0.00029629632, loss = 10.672481\n",
      "epoch = 649, lr = 0.00013168725, loss = 10.667598\n",
      "epoch = 650, lr = 0.00019753087, loss = 10.66364\n",
      "epoch = 651, lr = 0.00029629632, loss = 10.6631565\n",
      "epoch = 652, lr = 0.00013168725, loss = 10.658369\n",
      "epoch = 653, lr = 0.00019753087, loss = 10.65449\n",
      "epoch = 654, lr = 0.00029629632, loss = 10.653883\n",
      "epoch = 655, lr = 0.00013168725, loss = 10.649213\n",
      "epoch = 656, lr = 0.00019753087, loss = 10.645387\n",
      "epoch = 657, lr = 0.00029629632, loss = 10.644681\n",
      "epoch = 658, lr = 0.00013168725, loss = 10.640086\n",
      "epoch = 659, lr = 0.00019753087, loss = 10.636326\n",
      "epoch = 660, lr = 0.00029629632, loss = 10.635526\n",
      "epoch = 661, lr = 0.00013168725, loss = 10.631025\n",
      "epoch = 662, lr = 0.00019753087, loss = 10.627309\n",
      "epoch = 663, lr = 0.00029629632, loss = 10.626435\n"
     ]
    },
    {
     "name": "stdout",
     "output_type": "stream",
     "text": [
      "epoch = 664, lr = 0.00013168725, loss = 10.621996\n",
      "epoch = 665, lr = 0.00019753087, loss = 10.618333\n",
      "epoch = 666, lr = 0.00029629632, loss = 10.617388\n",
      "epoch = 667, lr = 0.00013168725, loss = 10.613027\n",
      "epoch = 668, lr = 0.00019753087, loss = 10.6094\n",
      "epoch = 669, lr = 0.00029629632, loss = 10.608401\n",
      "epoch = 670, lr = 0.00013168725, loss = 10.604087\n",
      "epoch = 671, lr = 0.00019753087, loss = 10.600504\n",
      "epoch = 672, lr = 0.00029629632, loss = 10.599457\n",
      "epoch = 673, lr = 0.00013168725, loss = 10.595207\n",
      "epoch = 674, lr = 0.00019753087, loss = 10.591649\n",
      "epoch = 675, lr = 0.00029629632, loss = 10.590569\n",
      "epoch = 676, lr = 0.00013168725, loss = 10.586353\n",
      "epoch = 677, lr = 0.00019753087, loss = 10.582834\n",
      "epoch = 678, lr = 0.00029629632, loss = 10.58172\n",
      "epoch = 679, lr = 0.00013168725, loss = 10.577557\n",
      "epoch = 680, lr = 0.00019753087, loss = 10.574057\n",
      "epoch = 681, lr = 0.00029629632, loss = 10.572926\n",
      "epoch = 682, lr = 0.00013168725, loss = 10.568785\n",
      "epoch = 683, lr = 0.00019753087, loss = 10.565317\n",
      "epoch = 684, lr = 0.00029629632, loss = 10.564169\n",
      "epoch = 685, lr = 0.00013168725, loss = 10.560071\n",
      "epoch = 686, lr = 0.00019753087, loss = 10.556615\n",
      "epoch = 687, lr = 0.00029629632, loss = 10.555464\n",
      "epoch = 688, lr = 0.00013168725, loss = 10.551379\n",
      "epoch = 689, lr = 0.00019753087, loss = 10.54795\n",
      "epoch = 690, lr = 0.00029629632, loss = 10.546797\n",
      "epoch = 691, lr = 0.00013168725, loss = 10.542743\n",
      "epoch = 692, lr = 0.00019753087, loss = 10.539322\n",
      "epoch = 693, lr = 0.00029629632, loss = 10.538179\n",
      "epoch = 694, lr = 0.00013168725, loss = 10.534131\n",
      "epoch = 695, lr = 0.00019753087, loss = 10.530729\n",
      "epoch = 696, lr = 0.00029629632, loss = 10.529597\n",
      "epoch = 697, lr = 0.00013168725, loss = 10.525572\n",
      "epoch = 698, lr = 0.00019753087, loss = 10.522173\n",
      "epoch = 699, lr = 0.00029629632, loss = 10.521066\n",
      "epoch = 700, lr = 0.00013168725, loss = 10.517037\n",
      "epoch = 701, lr = 0.00019753087, loss = 10.513652\n",
      "epoch = 702, lr = 0.00029629632, loss = 10.512568\n",
      "epoch = 703, lr = 0.00013168725, loss = 10.508554\n",
      "epoch = 704, lr = 0.00019753087, loss = 10.505166\n",
      "epoch = 705, lr = 0.00029629632, loss = 10.50412\n",
      "epoch = 706, lr = 0.00013168725, loss = 10.500093\n",
      "epoch = 707, lr = 0.00019753087, loss = 10.496715\n",
      "epoch = 708, lr = 0.00029629632, loss = 10.495706\n",
      "epoch = 709, lr = 0.00013168725, loss = 10.491686\n",
      "epoch = 710, lr = 0.00019753087, loss = 10.488301\n",
      "epoch = 711, lr = 0.00029629632, loss = 10.487343\n",
      "epoch = 712, lr = 0.00013168725, loss = 10.483302\n",
      "epoch = 713, lr = 0.00019753087, loss = 10.479919\n",
      "epoch = 714, lr = 0.00029629632, loss = 10.479012\n",
      "epoch = 715, lr = 0.00013168725, loss = 10.474968\n",
      "epoch = 716, lr = 0.00019753087, loss = 10.471573\n",
      "epoch = 717, lr = 0.00029629632, loss = 10.470732\n",
      "epoch = 718, lr = 0.00013168725, loss = 10.466659\n",
      "epoch = 719, lr = 0.00019753087, loss = 10.463262\n",
      "epoch = 720, lr = 0.00029629632, loss = 10.462485\n",
      "epoch = 721, lr = 0.00013168725, loss = 10.4584\n",
      "epoch = 722, lr = 0.00019753087, loss = 10.454985\n",
      "epoch = 723, lr = 0.00029629632, loss = 10.45429\n",
      "epoch = 724, lr = 0.00013168725, loss = 10.450165\n",
      "epoch = 725, lr = 0.00019753087, loss = 10.446742\n",
      "epoch = 726, lr = 0.00029629632, loss = 10.446127\n",
      "epoch = 727, lr = 0.00013168725, loss = 10.441981\n",
      "epoch = 728, lr = 0.00019753087, loss = 10.438534\n",
      "epoch = 729, lr = 0.00029629632, loss = 10.438017\n",
      "epoch = 730, lr = 0.00013168725, loss = 10.433821\n",
      "epoch = 731, lr = 0.00019753087, loss = 10.430361\n",
      "epoch = 732, lr = 0.00029629632, loss = 10.429942\n",
      "epoch = 733, lr = 0.00013168725, loss = 10.425715\n",
      "epoch = 734, lr = 0.00019753087, loss = 10.422221\n",
      "epoch = 735, lr = 0.00029629632, loss = 10.421923\n",
      "epoch = 736, lr = 0.00013168725, loss = 10.41763\n",
      "epoch = 737, lr = 0.00019753087, loss = 10.414116\n",
      "epoch = 738, lr = 0.00029629632, loss = 10.413935\n",
      "epoch = 739, lr = 0.00013168725, loss = 10.409601\n",
      "epoch = 740, lr = 0.00019753087, loss = 10.406047\n",
      "epoch = 741, lr = 0.00029629632, loss = 10.406008\n",
      "epoch = 742, lr = 0.00013168725, loss = 10.401594\n",
      "epoch = 743, lr = 0.00019753087, loss = 10.398013\n",
      "epoch = 744, lr = 0.00013168725, loss = 10.394924\n",
      "epoch = 745, lr = 0.00019753087, loss = 10.392143\n",
      "epoch = 746, lr = 0.00029629632, loss = 10.390012\n",
      "epoch = 747, lr = 0.00013168725, loss = 10.386905\n",
      "epoch = 748, lr = 0.00019753087, loss = 10.384111\n",
      "epoch = 749, lr = 0.00029629632, loss = 10.3820505\n",
      "epoch = 750, lr = 0.00013168725, loss = 10.378914\n",
      "epoch = 751, lr = 0.00019753087, loss = 10.37611\n",
      "epoch = 752, lr = 0.00029629632, loss = 10.374123\n",
      "epoch = 753, lr = 0.00013168725, loss = 10.370961\n",
      "epoch = 754, lr = 0.00019753087, loss = 10.368138\n",
      "epoch = 755, lr = 0.00029629632, loss = 10.366236\n",
      "epoch = 756, lr = 0.00013168725, loss = 10.363035\n",
      "epoch = 757, lr = 0.00019753087, loss = 10.360201\n",
      "epoch = 758, lr = 0.00029629632, loss = 10.358382\n",
      "epoch = 759, lr = 0.00013168725, loss = 10.355152\n",
      "epoch = 760, lr = 0.00019753087, loss = 10.352292\n",
      "epoch = 761, lr = 0.00029629632, loss = 10.350571\n",
      "epoch = 762, lr = 0.00013168725, loss = 10.347295\n",
      "epoch = 763, lr = 0.00019753087, loss = 10.344416\n",
      "epoch = 764, lr = 0.00029629632, loss = 10.342794\n",
      "epoch = 765, lr = 0.00013168725, loss = 10.339479\n",
      "epoch = 766, lr = 0.00019753087, loss = 10.336571\n",
      "epoch = 767, lr = 0.00029629632, loss = 10.335065\n",
      "epoch = 768, lr = 0.00013168725, loss = 10.33169\n",
      "epoch = 769, lr = 0.00019753087, loss = 10.328758\n",
      "epoch = 770, lr = 0.00029629632, loss = 10.327371\n",
      "epoch = 771, lr = 0.00013168725, loss = 10.323949\n",
      "epoch = 772, lr = 0.00019753087, loss = 10.320978\n",
      "epoch = 773, lr = 0.00029629632, loss = 10.319724\n",
      "epoch = 774, lr = 0.00013168725, loss = 10.316231\n",
      "epoch = 775, lr = 0.00019753087, loss = 10.31323\n",
      "epoch = 776, lr = 0.00029629632, loss = 10.312117\n",
      "epoch = 777, lr = 0.00013168725, loss = 10.308562\n",
      "epoch = 778, lr = 0.00019753087, loss = 10.305516\n",
      "epoch = 779, lr = 0.00029629632, loss = 10.304563\n",
      "epoch = 780, lr = 0.00013168725, loss = 10.300921\n",
      "epoch = 781, lr = 0.00019753087, loss = 10.297836\n",
      "epoch = 782, lr = 0.00029629632, loss = 10.29705\n",
      "epoch = 783, lr = 0.00013168725, loss = 10.293333\n",
      "epoch = 784, lr = 0.00019753087, loss = 10.29019\n",
      "epoch = 785, lr = 0.00029629632, loss = 10.289594\n",
      "epoch = 786, lr = 0.00013168725, loss = 10.285769\n",
      "epoch = 787, lr = 0.00019753087, loss = 10.2825775\n",
      "epoch = 788, lr = 0.00029629632, loss = 10.282182\n",
      "epoch = 789, lr = 0.00013168725, loss = 10.278267\n",
      "epoch = 790, lr = 0.00019753087, loss = 10.2750025\n",
      "epoch = 791, lr = 0.00029629632, loss = 10.274835\n",
      "epoch = 792, lr = 0.00013168725, loss = 10.270788\n",
      "epoch = 793, lr = 0.00019753087, loss = 10.267464\n",
      "epoch = 794, lr = 0.00013168725, loss = 10.264572\n",
      "epoch = 795, lr = 0.00019753087, loss = 10.261955\n",
      "epoch = 796, lr = 0.00029629632, loss = 10.259962\n",
      "epoch = 797, lr = 0.00013168725, loss = 10.25703\n",
      "epoch = 798, lr = 0.00019753087, loss = 10.254384\n",
      "epoch = 799, lr = 0.00029629632, loss = 10.252502\n",
      "epoch = 800, lr = 0.00013168725, loss = 10.249514\n",
      "epoch = 801, lr = 0.00019753087, loss = 10.246841\n",
      "epoch = 802, lr = 0.00029629632, loss = 10.24508\n",
      "epoch = 803, lr = 0.00013168725, loss = 10.24204\n",
      "epoch = 804, lr = 0.00019753087, loss = 10.239331\n",
      "epoch = 805, lr = 0.00029629632, loss = 10.237704\n",
      "epoch = 806, lr = 0.00013168725, loss = 10.234594\n",
      "epoch = 807, lr = 0.00019753087, loss = 10.231853\n",
      "epoch = 808, lr = 0.00029629632, loss = 10.230369\n",
      "epoch = 809, lr = 0.00013168725, loss = 10.227194\n",
      "epoch = 810, lr = 0.00019753087, loss = 10.224405\n",
      "epoch = 811, lr = 0.00029629632, loss = 10.223086\n",
      "epoch = 812, lr = 0.00013168725, loss = 10.219821\n",
      "epoch = 813, lr = 0.00019753087, loss = 10.21699\n",
      "epoch = 814, lr = 0.00029629632, loss = 10.215846\n",
      "epoch = 815, lr = 0.00013168725, loss = 10.212502\n",
      "epoch = 816, lr = 0.00019753087, loss = 10.20961\n",
      "epoch = 817, lr = 0.00029629632, loss = 10.208666\n",
      "epoch = 818, lr = 0.00013168725, loss = 10.205211\n",
      "epoch = 819, lr = 0.00019753087, loss = 10.202267\n",
      "epoch = 820, lr = 0.00029629632, loss = 10.201533\n",
      "epoch = 821, lr = 0.00013168725, loss = 10.197977\n",
      "epoch = 822, lr = 0.00019753087, loss = 10.194959\n",
      "epoch = 823, lr = 0.00029629632, loss = 10.194468\n",
      "epoch = 824, lr = 0.00013168725, loss = 10.190775\n",
      "epoch = 825, lr = 0.00019753087, loss = 10.187687\n",
      "epoch = 826, lr = 0.00029629632, loss = 10.187458\n",
      "epoch = 827, lr = 0.00013168725, loss = 10.183638\n",
      "epoch = 828, lr = 0.00019753087, loss = 10.180455\n"
     ]
    },
    {
     "name": "stdout",
     "output_type": "stream",
     "text": [
      "epoch = 829, lr = 0.00013168725, loss = 10.177687\n",
      "epoch = 830, lr = 0.00019753087, loss = 10.175166\n",
      "epoch = 831, lr = 0.00029629632, loss = 10.173266\n",
      "epoch = 832, lr = 0.00013168725, loss = 10.170435\n",
      "epoch = 833, lr = 0.00019753087, loss = 10.167883\n",
      "epoch = 834, lr = 0.00029629632, loss = 10.166115\n",
      "epoch = 835, lr = 0.00013168725, loss = 10.163223\n",
      "epoch = 836, lr = 0.00019753087, loss = 10.160632\n",
      "epoch = 837, lr = 0.00029629632, loss = 10.159015\n",
      "epoch = 838, lr = 0.00013168725, loss = 10.156044\n",
      "epoch = 839, lr = 0.00019753087, loss = 10.153413\n",
      "epoch = 840, lr = 0.00029629632, loss = 10.15196\n",
      "epoch = 841, lr = 0.00013168725, loss = 10.148912\n",
      "epoch = 842, lr = 0.00019753087, loss = 10.146225\n",
      "epoch = 843, lr = 0.00029629632, loss = 10.144961\n",
      "epoch = 844, lr = 0.00013168725, loss = 10.141812\n",
      "epoch = 845, lr = 0.00019753087, loss = 10.139073\n",
      "epoch = 846, lr = 0.00029629632, loss = 10.138013\n",
      "epoch = 847, lr = 0.00013168725, loss = 10.134764\n",
      "epoch = 848, lr = 0.00019753087, loss = 10.131956\n",
      "epoch = 849, lr = 0.00029629632, loss = 10.131129\n",
      "epoch = 850, lr = 0.00013168725, loss = 10.127751\n",
      "epoch = 851, lr = 0.00019753087, loss = 10.124876\n",
      "epoch = 852, lr = 0.00029629632, loss = 10.124306\n",
      "epoch = 853, lr = 0.00013168725, loss = 10.120801\n",
      "epoch = 854, lr = 0.00019753087, loss = 10.117834\n",
      "epoch = 855, lr = 0.00029629632, loss = 10.117559\n",
      "epoch = 856, lr = 0.00013168725, loss = 10.113887\n",
      "epoch = 857, lr = 0.00019753087, loss = 10.110835\n",
      "epoch = 858, lr = 0.00013168725, loss = 10.108156\n",
      "epoch = 859, lr = 0.00019753087, loss = 10.105719\n",
      "epoch = 860, lr = 0.00029629632, loss = 10.103876\n",
      "epoch = 861, lr = 0.00013168725, loss = 10.101136\n",
      "epoch = 862, lr = 0.00019753087, loss = 10.098658\n",
      "epoch = 863, lr = 0.00029629632, loss = 10.096968\n",
      "epoch = 864, lr = 0.00013168725, loss = 10.094149\n",
      "epoch = 865, lr = 0.00019753087, loss = 10.091627\n",
      "epoch = 866, lr = 0.00029629632, loss = 10.090106\n",
      "epoch = 867, lr = 0.00013168725, loss = 10.087207\n",
      "epoch = 868, lr = 0.00019753087, loss = 10.084632\n",
      "epoch = 869, lr = 0.00029629632, loss = 10.0833025\n",
      "epoch = 870, lr = 0.00013168725, loss = 10.080299\n",
      "epoch = 871, lr = 0.00019753087, loss = 10.077669\n",
      "epoch = 872, lr = 0.00029629632, loss = 10.076551\n",
      "epoch = 873, lr = 0.00013168725, loss = 10.073446\n",
      "epoch = 874, lr = 0.00019753087, loss = 10.070743\n",
      "epoch = 875, lr = 0.00029629632, loss = 10.069871\n",
      "epoch = 876, lr = 0.00013168725, loss = 10.066629\n",
      "epoch = 877, lr = 0.00019753087, loss = 10.063855\n",
      "epoch = 878, lr = 0.00029629632, loss = 10.063254\n",
      "epoch = 879, lr = 0.00013168725, loss = 10.059878\n",
      "epoch = 880, lr = 0.00019753087, loss = 10.057006\n",
      "epoch = 881, lr = 0.00029629632, loss = 10.056723\n",
      "epoch = 882, lr = 0.00013168725, loss = 10.053166\n",
      "epoch = 883, lr = 0.00019753087, loss = 10.050203\n",
      "epoch = 884, lr = 0.00013168725, loss = 10.047595\n",
      "epoch = 885, lr = 0.00019753087, loss = 10.045221\n",
      "epoch = 886, lr = 0.00029629632, loss = 10.043442\n",
      "epoch = 887, lr = 0.00013168725, loss = 10.040767\n",
      "epoch = 888, lr = 0.00019753087, loss = 10.038347\n",
      "epoch = 889, lr = 0.00029629632, loss = 10.036734\n",
      "epoch = 890, lr = 0.00013168725, loss = 10.033972\n",
      "epoch = 891, lr = 0.00019753087, loss = 10.031505\n",
      "epoch = 892, lr = 0.00029629632, loss = 10.030078\n",
      "epoch = 893, lr = 0.00013168725, loss = 10.027227\n",
      "epoch = 894, lr = 0.00019753087, loss = 10.024698\n",
      "epoch = 895, lr = 0.00029629632, loss = 10.023485\n",
      "epoch = 896, lr = 0.00013168725, loss = 10.020518\n",
      "epoch = 897, lr = 0.00019753087, loss = 10.017927\n",
      "epoch = 898, lr = 0.00029629632, loss = 10.0169525\n",
      "epoch = 899, lr = 0.00013168725, loss = 10.013868\n",
      "epoch = 900, lr = 0.00019753087, loss = 10.011194\n",
      "epoch = 901, lr = 0.00029629632, loss = 10.0105\n",
      "epoch = 902, lr = 0.00013168725, loss = 10.007258\n",
      "epoch = 903, lr = 0.00019753087, loss = 10.004501\n",
      "epoch = 904, lr = 0.00029629632, loss = 10.004118\n",
      "epoch = 905, lr = 0.00013168725, loss = 10.000722\n",
      "epoch = 906, lr = 0.00019753087, loss = 9.997851\n",
      "epoch = 907, lr = 0.00029629632, loss = 9.997835\n",
      "epoch = 908, lr = 0.00013168725, loss = 9.99423\n",
      "epoch = 909, lr = 0.00019753087, loss = 9.991251\n",
      "epoch = 910, lr = 0.00013168725, loss = 9.988649\n",
      "epoch = 911, lr = 0.00019753087, loss = 9.986295\n",
      "epoch = 912, lr = 0.00029629632, loss = 9.9847\n",
      "epoch = 913, lr = 0.00013168725, loss = 9.982017\n",
      "epoch = 914, lr = 0.00019753087, loss = 9.979608\n",
      "epoch = 915, lr = 0.00029629632, loss = 9.978209\n",
      "epoch = 916, lr = 0.00013168725, loss = 9.975422\n",
      "epoch = 917, lr = 0.00019753087, loss = 9.972954\n",
      "epoch = 918, lr = 0.00029629632, loss = 9.971778\n",
      "epoch = 919, lr = 0.00013168725, loss = 9.968882\n",
      "epoch = 920, lr = 0.00019753087, loss = 9.966337\n",
      "epoch = 921, lr = 0.00029629632, loss = 9.965421\n",
      "epoch = 922, lr = 0.00013168725, loss = 9.962382\n",
      "epoch = 923, lr = 0.00019753087, loss = 9.959761\n",
      "epoch = 924, lr = 0.00029629632, loss = 9.959134\n",
      "epoch = 925, lr = 0.00013168725, loss = 9.955951\n",
      "epoch = 926, lr = 0.00019753087, loss = 9.953227\n",
      "epoch = 927, lr = 0.00029629632, loss = 9.952944\n",
      "epoch = 928, lr = 0.00013168725, loss = 9.949568\n",
      "epoch = 929, lr = 0.00019753087, loss = 9.94674\n",
      "epoch = 930, lr = 0.00013168725, loss = 9.944247\n",
      "epoch = 931, lr = 0.00019753087, loss = 9.941972\n",
      "epoch = 932, lr = 0.00029629632, loss = 9.940302\n",
      "epoch = 933, lr = 0.00013168725, loss = 9.937731\n",
      "epoch = 934, lr = 0.00019753087, loss = 9.935404\n",
      "epoch = 935, lr = 0.00029629632, loss = 9.933922\n",
      "epoch = 936, lr = 0.00013168725, loss = 9.9312525\n",
      "epoch = 937, lr = 0.00019753087, loss = 9.928871\n",
      "epoch = 938, lr = 0.00029629632, loss = 9.927602\n",
      "epoch = 939, lr = 0.00013168725, loss = 9.924828\n",
      "epoch = 940, lr = 0.00019753087, loss = 9.922373\n",
      "epoch = 941, lr = 0.00029629632, loss = 9.921354\n",
      "epoch = 942, lr = 0.00013168725, loss = 9.918444\n",
      "epoch = 943, lr = 0.00019753087, loss = 9.915914\n",
      "epoch = 944, lr = 0.00029629632, loss = 9.915182\n",
      "epoch = 945, lr = 0.00013168725, loss = 9.9121275\n",
      "epoch = 946, lr = 0.00019753087, loss = 9.909498\n",
      "epoch = 947, lr = 0.00029629632, loss = 9.9091015\n",
      "epoch = 948, lr = 0.00013168725, loss = 9.905861\n",
      "epoch = 949, lr = 0.00019753087, loss = 9.903128\n",
      "epoch = 950, lr = 0.00029629632, loss = 9.903114\n",
      "epoch = 951, lr = 0.00013168725, loss = 9.899681\n",
      "epoch = 952, lr = 0.00019753087, loss = 9.89681\n",
      "epoch = 953, lr = 0.00013168725, loss = 9.89431\n",
      "epoch = 954, lr = 0.00019753087, loss = 9.892039\n",
      "epoch = 955, lr = 0.00029629632, loss = 9.890549\n",
      "epoch = 956, lr = 0.00013168725, loss = 9.887952\n",
      "epoch = 957, lr = 0.00019753087, loss = 9.885625\n",
      "epoch = 958, lr = 0.00029629632, loss = 9.884348\n",
      "epoch = 959, lr = 0.00013168725, loss = 9.881645\n",
      "epoch = 960, lr = 0.00019753087, loss = 9.879247\n",
      "epoch = 961, lr = 0.00029629632, loss = 9.878224\n",
      "epoch = 962, lr = 0.00013168725, loss = 9.875383\n",
      "epoch = 963, lr = 0.00019753087, loss = 9.872909\n",
      "epoch = 964, lr = 0.00029629632, loss = 9.872174\n",
      "epoch = 965, lr = 0.00013168725, loss = 9.869188\n",
      "epoch = 966, lr = 0.00019753087, loss = 9.866612\n",
      "epoch = 967, lr = 0.00029629632, loss = 9.866224\n",
      "epoch = 968, lr = 0.00013168725, loss = 9.863047\n",
      "epoch = 969, lr = 0.00019753087, loss = 9.860364\n",
      "epoch = 970, lr = 0.00013168725, loss = 9.857985\n",
      "epoch = 971, lr = 0.00019753087, loss = 9.855804\n",
      "epoch = 972, lr = 0.00029629632, loss = 9.854167\n",
      "epoch = 973, lr = 0.00013168725, loss = 9.851709\n",
      "epoch = 974, lr = 0.00019753087, loss = 9.849476\n",
      "epoch = 975, lr = 0.00029629632, loss = 9.848032\n",
      "epoch = 976, lr = 0.00013168725, loss = 9.84547\n",
      "epoch = 977, lr = 0.00019753087, loss = 9.84318\n",
      "epoch = 978, lr = 0.00029629632, loss = 9.84196\n",
      "epoch = 979, lr = 0.00013168725, loss = 9.839289\n",
      "epoch = 980, lr = 0.00019753087, loss = 9.83692\n",
      "epoch = 981, lr = 0.00029629632, loss = 9.835968\n",
      "epoch = 982, lr = 0.00013168725, loss = 9.833151\n",
      "epoch = 983, lr = 0.00019753087, loss = 9.830702\n",
      "epoch = 984, lr = 0.00029629632, loss = 9.830057\n",
      "epoch = 985, lr = 0.00013168725, loss = 9.827087\n",
      "epoch = 986, lr = 0.00019753087, loss = 9.82453\n",
      "epoch = 987, lr = 0.00029629632, loss = 9.824251\n",
      "epoch = 988, lr = 0.00013168725, loss = 9.821076\n",
      "epoch = 989, lr = 0.00019753087, loss = 9.818407\n",
      "epoch = 990, lr = 0.00013168725, loss = 9.816045\n",
      "epoch = 991, lr = 0.00019753087, loss = 9.813887\n",
      "epoch = 992, lr = 0.00029629632, loss = 9.812339\n",
      "epoch = 993, lr = 0.00013168725, loss = 9.809893\n",
      "epoch = 994, lr = 0.00019753087, loss = 9.807675\n"
     ]
    },
    {
     "name": "stdout",
     "output_type": "stream",
     "text": [
      "epoch = 995, lr = 0.00029629632, loss = 9.806337\n",
      "epoch = 996, lr = 0.00013168725, loss = 9.803778\n",
      "epoch = 997, lr = 0.00019753087, loss = 9.801499\n",
      "epoch = 998, lr = 0.00029629632, loss = 9.800403\n",
      "epoch = 999, lr = 0.00013168725, loss = 9.797724\n",
      "epoch = 1000, lr = 0.00019753087, loss = 9.7953615\n",
      "147.775390 seconds (63.06 M allocations: 2.392 GiB, 18.20% gc time)\n"
     ]
    }
   ],
   "source": [
    "# Record the weights and losses for `ep` epochs\n",
    "@time for epoch in 1:1000\n",
    "    #@time lr = train_sgd!(w,dtrn,lr=lr,s=s,proj! = proj!)\n",
    "    lr = train_sgd!(w,dtrn,lr=lr,s=s,proj! = proj!)\n",
    "    #push!(ws, copy(w))\n",
    "    push!(losses, loss(w,xtrn,ytrn))\n",
    "    #println(\"epoch = $epoch, lr = $lr, loss = $(losses[end])\")\n",
    "    if (ep < 1000) || mod1(epoch,1000)==1\n",
    "        println(\"epoch = $epoch, lr = $lr, loss = $(losses[end])\")\n",
    "    end\n",
    "end"
   ]
  },
  {
   "cell_type": "code",
   "execution_count": 119,
   "metadata": {
    "scrolled": true
   },
   "outputs": [
    {
     "data": {
      "text/plain": [
       "2-element Array{Array{Any,1},1}:\n",
       " Any[Knet.KnetArray{Float32,2}(Knet.KnetPtr(Ptr{Void} @0x0000000800e57c00, 28, 0, nothing), (7, 1)), Knet.KnetArray{Float32,2}(Knet.KnetPtr(Ptr{Void} @0x0000000840b15800, 4, 0, nothing), (1, 1)), Knet.KnetArray{Float32,2}(Knet.KnetPtr(Ptr{Void} @0x0000000800e8f000, 84, 0, nothing), (3, 7)), Knet.KnetArray{Float32,2}(Knet.KnetPtr(Ptr{Void} @0x0000000840ad4e00, 84, 0, nothing), (3, 7)), Knet.KnetArray{Float32,2}(Knet.KnetPtr(Ptr{Void} @0x0000000840b4cc00, 84, 0, nothing), (3, 7)), Knet.KnetArray{Float32,2}(Knet.KnetPtr(Ptr{Void} @0x0000000800dea600, 84, 0, nothing), (3, 7)), Knet.KnetArray{Float32,2}(Knet.KnetPtr(Ptr{Void} @0x0000000800e21400, 84, 0, nothing), (3, 7)), Knet.KnetArray{Float32,2}(Knet.KnetPtr(Ptr{Void} @0x0000000840b72000, 84, 0, nothing), (3, 7)), Knet.KnetArray{Float32,2}(Knet.KnetPtr(Ptr{Void} @0x0000000800dd6800, 84, 0, nothing), (3, 7)), Knet.KnetArray{Float32,2}(Knet.KnetPtr(Ptr{Void} @0x0000000800e5d400, 84, 0, nothing), (3, 7))  …  Knet.KnetArray{Float32,4}(Knet.KnetPtr(Ptr{Void} @0x0000000800e88a00, 300, 0, nothing), (5, 5, 1, 3)), Knet.KnetArray{Float32,4}(Knet.KnetPtr(Ptr{Void} @0x0000000800e5b400, 300, 0, nothing), (5, 5, 1, 3)), Knet.KnetArray{Float32,4}(Knet.KnetPtr(Ptr{Void} @0x0000000800e64e00, 300, 0, nothing), (5, 5, 1, 3)), Knet.KnetArray{Float32,4}(Knet.KnetPtr(Ptr{Void} @0x0000000800e54800, 300, 0, nothing), (5, 5, 1, 3)), Knet.KnetArray{Float32,4}(Knet.KnetPtr(Ptr{Void} @0x0000000800dcd800, 300, 0, nothing), (5, 5, 1, 3)), Knet.KnetArray{Float32,4}(Knet.KnetPtr(Ptr{Void} @0x0000000800de4200, 300, 0, nothing), (5, 5, 1, 3)), Knet.KnetArray{Float32,4}(Knet.KnetPtr(Ptr{Void} @0x0000000800e81000, 300, 0, nothing), (5, 5, 1, 3)), Knet.KnetArray{Float32,4}(Knet.KnetPtr(Ptr{Void} @0x0000000800e5f600, 300, 0, nothing), (5, 5, 1, 3)), Knet.KnetArray{Float32,4}(Knet.KnetPtr(Ptr{Void} @0x0000000800e5ae00, 300, 0, nothing), (5, 5, 1, 3)), Knet.KnetArray{Float32,4}(Knet.KnetPtr(Ptr{Void} @0x0000000800e7ce00, 300, 0, nothing), (5, 5, 1, 3))]\n",
       " Any[Knet.KnetArray{Float32,2}(Knet.KnetPtr(Ptr{Void} @0x0000000840b33600, 28, 0, nothing), (7, 1)), Knet.KnetArray{Float32,2}(Knet.KnetPtr(Ptr{Void} @0x0000000800e49200, 4, 0, nothing), (1, 1)), Knet.KnetArray{Float32,2}(Knet.KnetPtr(Ptr{Void} @0x0000000800db8c00, 84, 0, nothing), (3, 7)), Knet.KnetArray{Float32,2}(Knet.KnetPtr(Ptr{Void} @0x0000000840ad5200, 84, 0, nothing), (3, 7)), Knet.KnetArray{Float32,2}(Knet.KnetPtr(Ptr{Void} @0x0000000800dfe800, 84, 0, nothing), (3, 7)), Knet.KnetArray{Float32,2}(Knet.KnetPtr(Ptr{Void} @0x0000000840ada200, 84, 0, nothing), (3, 7)), Knet.KnetArray{Float32,2}(Knet.KnetPtr(Ptr{Void} @0x0000000800de5400, 84, 0, nothing), (3, 7)), Knet.KnetArray{Float32,2}(Knet.KnetPtr(Ptr{Void} @0x0000000840ae4000, 84, 0, nothing), (3, 7)), Knet.KnetArray{Float32,2}(Knet.KnetPtr(Ptr{Void} @0x0000000840b10c00, 84, 0, nothing), (3, 7)), Knet.KnetArray{Float32,2}(Knet.KnetPtr(Ptr{Void} @0x0000000840abbe00, 84, 0, nothing), (3, 7))  …  Knet.KnetArray{Float32,4}(Knet.KnetPtr(Ptr{Void} @0x0000000800e45000, 300, 0, nothing), (5, 5, 1, 3)), Knet.KnetArray{Float32,4}(Knet.KnetPtr(Ptr{Void} @0x0000000800df4c00, 300, 0, nothing), (5, 5, 1, 3)), Knet.KnetArray{Float32,4}(Knet.KnetPtr(Ptr{Void} @0x0000000800de1000, 300, 0, nothing), (5, 5, 1, 3)), Knet.KnetArray{Float32,4}(Knet.KnetPtr(Ptr{Void} @0x0000000800de2000, 300, 0, nothing), (5, 5, 1, 3)), Knet.KnetArray{Float32,4}(Knet.KnetPtr(Ptr{Void} @0x0000000800de2e00, 300, 0, nothing), (5, 5, 1, 3)), Knet.KnetArray{Float32,4}(Knet.KnetPtr(Ptr{Void} @0x0000000800e11a00, 300, 0, nothing), (5, 5, 1, 3)), Knet.KnetArray{Float32,4}(Knet.KnetPtr(Ptr{Void} @0x0000000800e44c00, 300, 0, nothing), (5, 5, 1, 3)), Knet.KnetArray{Float32,4}(Knet.KnetPtr(Ptr{Void} @0x0000000800e55e00, 300, 0, nothing), (5, 5, 1, 3)), Knet.KnetArray{Float32,4}(Knet.KnetPtr(Ptr{Void} @0x0000000800de9a00, 300, 0, nothing), (5, 5, 1, 3)), Knet.KnetArray{Float32,4}(Knet.KnetPtr(Ptr{Void} @0x0000000800e99400, 300, 0, nothing), (5, 5, 1, 3))]"
      ]
     },
     "execution_count": 119,
     "metadata": {},
     "output_type": "execute_result"
    }
   ],
   "source": [
    "#map(Array,w)\n",
    "push!(ws,w)"
   ]
  },
  {
   "cell_type": "code",
   "execution_count": 120,
   "metadata": {
    "scrolled": true
   },
   "outputs": [
    {
     "name": "stdout",
     "output_type": "stream",
     "text": [
      "0.99999994\n",
      "-3.5762786e-9\n",
      "Float32[0.465078]\n"
     ]
    }
   ],
   "source": [
    "println(norm(vec(Array(ws[end][2+2C+1])[:,:,1,3])))\n",
    "println(mean(vec(Array(ws[end][2+2C+2])[:,:,1,1])))\n",
    "println(Array(ws[end][2]))"
   ]
  },
  {
   "cell_type": "code",
   "execution_count": 121,
   "metadata": {
    "scrolled": true
   },
   "outputs": [
    {
     "data": {
      "image/svg+xml": [
       "<?xml version=\"1.0\" encoding=\"utf-8\"?>\n",
       "<svg xmlns=\"http://www.w3.org/2000/svg\" xmlns:xlink=\"http://www.w3.org/1999/xlink\" width=\"600\" height=\"400\" viewBox=\"0 0 600 400\">\n",
       "<defs>\n",
       "  <clipPath id=\"clip8100\">\n",
       "    <rect x=\"0\" y=\"0\" width=\"600\" height=\"400\"/>\n",
       "  </clipPath>\n",
       "</defs>\n",
       "<polygon clip-path=\"url(#clip8100)\" points=\"\n",
       "0,400 600,400 600,0 0,0 \n",
       "  \" fill=\"#ffffff\" fill-opacity=\"1\"/>\n",
       "<defs>\n",
       "  <clipPath id=\"clip8101\">\n",
       "    <rect x=\"120\" y=\"0\" width=\"421\" height=\"400\"/>\n",
       "  </clipPath>\n",
       "</defs>\n",
       "<polygon clip-path=\"url(#clip8100)\" points=\"\n",
       "44.8772,360.121 580.315,360.121 580.315,11.811 44.8772,11.811 \n",
       "  \" fill=\"#ffffff\" fill-opacity=\"1\"/>\n",
       "<defs>\n",
       "  <clipPath id=\"clip8102\">\n",
       "    <rect x=\"44\" y=\"11\" width=\"536\" height=\"349\"/>\n",
       "  </clipPath>\n",
       "</defs>\n",
       "<polyline clip-path=\"url(#clip8102)\" style=\"stroke:#000000; stroke-width:0.5; stroke-opacity:0.1; fill:none\" points=\"\n",
       "  151.429,360.121 151.429,11.811 \n",
       "  \"/>\n",
       "<polyline clip-path=\"url(#clip8102)\" style=\"stroke:#000000; stroke-width:0.5; stroke-opacity:0.1; fill:none\" points=\"\n",
       "  258.517,360.121 258.517,11.811 \n",
       "  \"/>\n",
       "<polyline clip-path=\"url(#clip8102)\" style=\"stroke:#000000; stroke-width:0.5; stroke-opacity:0.1; fill:none\" points=\"\n",
       "  365.604,360.121 365.604,11.811 \n",
       "  \"/>\n",
       "<polyline clip-path=\"url(#clip8102)\" style=\"stroke:#000000; stroke-width:0.5; stroke-opacity:0.1; fill:none\" points=\"\n",
       "  472.692,360.121 472.692,11.811 \n",
       "  \"/>\n",
       "<polyline clip-path=\"url(#clip8102)\" style=\"stroke:#000000; stroke-width:0.5; stroke-opacity:0.1; fill:none\" points=\"\n",
       "  579.78,360.121 579.78,11.811 \n",
       "  \"/>\n",
       "<polyline clip-path=\"url(#clip8102)\" style=\"stroke:#000000; stroke-width:0.5; stroke-opacity:0.1; fill:none\" points=\"\n",
       "  44.8772,360.121 580.315,360.121 \n",
       "  \"/>\n",
       "<polyline clip-path=\"url(#clip8102)\" style=\"stroke:#000000; stroke-width:0.5; stroke-opacity:0.1; fill:none\" points=\"\n",
       "  44.8772,290.459 580.315,290.459 \n",
       "  \"/>\n",
       "<polyline clip-path=\"url(#clip8102)\" style=\"stroke:#000000; stroke-width:0.5; stroke-opacity:0.1; fill:none\" points=\"\n",
       "  44.8772,220.797 580.315,220.797 \n",
       "  \"/>\n",
       "<polyline clip-path=\"url(#clip8102)\" style=\"stroke:#000000; stroke-width:0.5; stroke-opacity:0.1; fill:none\" points=\"\n",
       "  44.8772,151.135 580.315,151.135 \n",
       "  \"/>\n",
       "<polyline clip-path=\"url(#clip8102)\" style=\"stroke:#000000; stroke-width:0.5; stroke-opacity:0.1; fill:none\" points=\"\n",
       "  44.8772,81.4729 580.315,81.4729 \n",
       "  \"/>\n",
       "<polyline clip-path=\"url(#clip8102)\" style=\"stroke:#000000; stroke-width:0.5; stroke-opacity:0.1; fill:none\" points=\"\n",
       "  44.8772,11.811 580.315,11.811 \n",
       "  \"/>\n",
       "<polyline clip-path=\"url(#clip8100)\" style=\"stroke:#000000; stroke-width:1; stroke-opacity:1; fill:none\" points=\"\n",
       "  44.8772,360.121 580.315,360.121 \n",
       "  \"/>\n",
       "<polyline clip-path=\"url(#clip8100)\" style=\"stroke:#000000; stroke-width:1; stroke-opacity:1; fill:none\" points=\"\n",
       "  44.8772,360.121 44.8772,11.811 \n",
       "  \"/>\n",
       "<polyline clip-path=\"url(#clip8100)\" style=\"stroke:#000000; stroke-width:1; stroke-opacity:1; fill:none\" points=\"\n",
       "  151.429,360.121 151.429,354.896 \n",
       "  \"/>\n",
       "<polyline clip-path=\"url(#clip8100)\" style=\"stroke:#000000; stroke-width:1; stroke-opacity:1; fill:none\" points=\"\n",
       "  258.517,360.121 258.517,354.896 \n",
       "  \"/>\n",
       "<polyline clip-path=\"url(#clip8100)\" style=\"stroke:#000000; stroke-width:1; stroke-opacity:1; fill:none\" points=\"\n",
       "  365.604,360.121 365.604,354.896 \n",
       "  \"/>\n",
       "<polyline clip-path=\"url(#clip8100)\" style=\"stroke:#000000; stroke-width:1; stroke-opacity:1; fill:none\" points=\"\n",
       "  472.692,360.121 472.692,354.896 \n",
       "  \"/>\n",
       "<polyline clip-path=\"url(#clip8100)\" style=\"stroke:#000000; stroke-width:1; stroke-opacity:1; fill:none\" points=\"\n",
       "  579.78,360.121 579.78,354.896 \n",
       "  \"/>\n",
       "<polyline clip-path=\"url(#clip8100)\" style=\"stroke:#000000; stroke-width:1; stroke-opacity:1; fill:none\" points=\"\n",
       "  44.8772,360.121 52.9088,360.121 \n",
       "  \"/>\n",
       "<polyline clip-path=\"url(#clip8100)\" style=\"stroke:#000000; stroke-width:1; stroke-opacity:1; fill:none\" points=\"\n",
       "  44.8772,290.459 52.9088,290.459 \n",
       "  \"/>\n",
       "<polyline clip-path=\"url(#clip8100)\" style=\"stroke:#000000; stroke-width:1; stroke-opacity:1; fill:none\" points=\"\n",
       "  44.8772,220.797 52.9088,220.797 \n",
       "  \"/>\n",
       "<polyline clip-path=\"url(#clip8100)\" style=\"stroke:#000000; stroke-width:1; stroke-opacity:1; fill:none\" points=\"\n",
       "  44.8772,151.135 52.9088,151.135 \n",
       "  \"/>\n",
       "<polyline clip-path=\"url(#clip8100)\" style=\"stroke:#000000; stroke-width:1; stroke-opacity:1; fill:none\" points=\"\n",
       "  44.8772,81.4729 52.9088,81.4729 \n",
       "  \"/>\n",
       "<polyline clip-path=\"url(#clip8100)\" style=\"stroke:#000000; stroke-width:1; stroke-opacity:1; fill:none\" points=\"\n",
       "  44.8772,11.811 52.9088,11.811 \n",
       "  \"/>\n",
       "<g clip-path=\"url(#clip8100)\">\n",
       "<text style=\"fill:#000000; fill-opacity:1; font-family:Arial,Helvetica Neue,Helvetica,sans-serif; font-size:12; text-anchor:middle;\" transform=\"rotate(0, 151.429, 373.921)\" x=\"151.429\" y=\"373.921\">200</text>\n",
       "</g>\n",
       "<g clip-path=\"url(#clip8100)\">\n",
       "<text style=\"fill:#000000; fill-opacity:1; font-family:Arial,Helvetica Neue,Helvetica,sans-serif; font-size:12; text-anchor:middle;\" transform=\"rotate(0, 258.517, 373.921)\" x=\"258.517\" y=\"373.921\">400</text>\n",
       "</g>\n",
       "<g clip-path=\"url(#clip8100)\">\n",
       "<text style=\"fill:#000000; fill-opacity:1; font-family:Arial,Helvetica Neue,Helvetica,sans-serif; font-size:12; text-anchor:middle;\" transform=\"rotate(0, 365.604, 373.921)\" x=\"365.604\" y=\"373.921\">600</text>\n",
       "</g>\n",
       "<g clip-path=\"url(#clip8100)\">\n",
       "<text style=\"fill:#000000; fill-opacity:1; font-family:Arial,Helvetica Neue,Helvetica,sans-serif; font-size:12; text-anchor:middle;\" transform=\"rotate(0, 472.692, 373.921)\" x=\"472.692\" y=\"373.921\">800</text>\n",
       "</g>\n",
       "<g clip-path=\"url(#clip8100)\">\n",
       "<text style=\"fill:#000000; fill-opacity:1; font-family:Arial,Helvetica Neue,Helvetica,sans-serif; font-size:12; text-anchor:middle;\" transform=\"rotate(0, 579.78, 373.921)\" x=\"579.78\" y=\"373.921\">1000</text>\n",
       "</g>\n",
       "<g clip-path=\"url(#clip8100)\">\n",
       "<text style=\"fill:#000000; fill-opacity:1; font-family:Arial,Helvetica Neue,Helvetica,sans-serif; font-size:12; text-anchor:end;\" transform=\"rotate(0, 38.8772, 364.621)\" x=\"38.8772\" y=\"364.621\">0</text>\n",
       "</g>\n",
       "<g clip-path=\"url(#clip8100)\">\n",
       "<text style=\"fill:#000000; fill-opacity:1; font-family:Arial,Helvetica Neue,Helvetica,sans-serif; font-size:12; text-anchor:end;\" transform=\"rotate(0, 38.8772, 294.959)\" x=\"38.8772\" y=\"294.959\">10</text>\n",
       "</g>\n",
       "<g clip-path=\"url(#clip8100)\">\n",
       "<text style=\"fill:#000000; fill-opacity:1; font-family:Arial,Helvetica Neue,Helvetica,sans-serif; font-size:12; text-anchor:end;\" transform=\"rotate(0, 38.8772, 225.297)\" x=\"38.8772\" y=\"225.297\">20</text>\n",
       "</g>\n",
       "<g clip-path=\"url(#clip8100)\">\n",
       "<text style=\"fill:#000000; fill-opacity:1; font-family:Arial,Helvetica Neue,Helvetica,sans-serif; font-size:12; text-anchor:end;\" transform=\"rotate(0, 38.8772, 155.635)\" x=\"38.8772\" y=\"155.635\">30</text>\n",
       "</g>\n",
       "<g clip-path=\"url(#clip8100)\">\n",
       "<text style=\"fill:#000000; fill-opacity:1; font-family:Arial,Helvetica Neue,Helvetica,sans-serif; font-size:12; text-anchor:end;\" transform=\"rotate(0, 38.8772, 85.9729)\" x=\"38.8772\" y=\"85.9729\">40</text>\n",
       "</g>\n",
       "<g clip-path=\"url(#clip8100)\">\n",
       "<text style=\"fill:#000000; fill-opacity:1; font-family:Arial,Helvetica Neue,Helvetica,sans-serif; font-size:12; text-anchor:end;\" transform=\"rotate(0, 38.8772, 16.311)\" x=\"38.8772\" y=\"16.311\">50</text>\n",
       "</g>\n",
       "<g clip-path=\"url(#clip8100)\">\n",
       "<text style=\"fill:#000000; fill-opacity:1; font-family:Arial,Helvetica Neue,Helvetica,sans-serif; font-size:16; text-anchor:middle;\" transform=\"rotate(0, 312.596, 397.6)\" x=\"312.596\" y=\"397.6\">Epochs</text>\n",
       "</g>\n",
       "<g clip-path=\"url(#clip8100)\">\n",
       "<text style=\"fill:#000000; fill-opacity:1; font-family:Arial,Helvetica Neue,Helvetica,sans-serif; font-size:16; text-anchor:middle;\" transform=\"rotate(-90, 14.4, 185.966)\" x=\"14.4\" y=\"185.966\">Loss</text>\n",
       "</g>\n",
       "<polyline clip-path=\"url(#clip8102)\" style=\"stroke:#009af9; stroke-width:1; stroke-opacity:1; fill:none\" points=\"\n",
       "  44.8772,-537.434 45.4127,-471.851 45.9481,-211.791 46.4835,103.834 47.019,146.666 47.5544,164.982 48.0899,165.873 48.6253,178.557 49.1607,184.853 49.6962,188.046 \n",
       "  50.2316,189.369 50.767,195.415 51.3025,198.627 51.8379,201 52.3734,202.714 52.9088,203.601 53.4442,207.159 53.9797,209.155 54.5151,210.762 55.0505,212.065 \n",
       "  55.586,212.963 56.1214,213.283 56.6569,216.118 57.1923,217.586 57.7277,218.691 58.2632,219.601 58.7986,220.23 59.3341,220.428 59.8695,222.631 60.4049,223.763 \n",
       "  60.9404,224.621 61.4758,225.334 62.0112,225.828 62.5467,225.957 63.0821,227.761 63.6176,228.702 64.153,229.406 64.6884,229.979 65.2239,230.337 65.7593,231.505 \n",
       "  66.2947,232.223 66.8302,232.885 67.3656,232.949 67.9011,234.224 68.4365,234.968 68.9719,235.524 69.5074,235.927 70.0428,236.019 70.5782,237.166 71.1137,237.872 \n",
       "  71.6491,238.326 72.1846,238.521 72.72,239.407 73.2554,240.024 73.7909,240.432 74.3263,240.514 74.8617,241.377 75.3972,242 75.9326,242.233 76.4681,242.896 \n",
       "  77.0035,243.438 77.5389,243.696 78.0744,244.29 78.6098,244.79 79.1452,245.008 79.6807,245.567 80.2161,246.059 80.7516,246.143 81.287,246.721 81.8224,247.215 \n",
       "  82.3579,247.666 82.8933,248.08 83.4287,248.19 83.9642,248.658 84.4996,249.095 85.0351,249.496 85.5705,249.879 86.1059,250.241 86.6414,250.593 87.1768,250.617 \n",
       "  87.7123,250.996 88.2477,251.347 88.7831,251.689 89.3186,252.01 89.854,252.323 90.3894,252.62 90.9249,252.91 91.4603,253.185 91.9958,253.454 92.5312,253.707 \n",
       "  93.0666,253.954 93.6021,254.185 94.1375,254.407 94.6729,254.61 95.2084,254.802 95.7438,254.969 96.2793,255.12 96.8147,255.237 97.3501,255.331 97.8856,255.374 \n",
       "  98.421,255.382 98.9564,256.709 99.4919,257.044 100.027,257.253 100.563,257.414 101.098,257.57 101.634,257.708 102.169,257.818 102.705,257.898 103.24,257.929 \n",
       "  103.775,258.622 104.311,258.853 104.846,259.034 105.382,259.186 105.917,259.31 106.453,259.408 106.988,259.471 107.523,259.481 108.059,260.054 108.594,260.263 \n",
       "  109.13,260.422 109.665,260.521 110.201,260.602 110.736,260.64 111.272,261.054 111.807,261.228 112.342,261.377 112.878,261.481 113.413,261.555 113.949,261.584 \n",
       "  114.484,261.959 115.02,262.123 115.555,262.26 116.09,262.335 116.626,262.383 117.161,262.68 117.697,262.825 118.232,262.956 118.768,263.039 119.303,263.087 \n",
       "  119.839,263.354 120.374,263.49 120.909,263.613 121.445,263.687 121.98,263.722 122.516,263.987 123.051,264.12 123.587,264.236 124.122,264.282 124.657,264.293 \n",
       "  125.193,264.581 125.728,264.719 126.264,264.826 126.799,264.921 127.335,264.997 127.87,265.042 128.406,265.247 128.941,265.361 129.476,265.467 130.012,265.511 \n",
       "  130.547,265.513 131.083,265.774 131.618,265.903 132.154,265.997 132.689,266.077 133.224,266.134 133.76,266.149 134.295,266.371 134.831,266.488 135.366,266.579 \n",
       "  135.902,266.657 136.437,266.712 136.973,266.727 137.508,266.934 138.043,267.045 138.579,267.131 139.114,267.204 139.65,267.252 140.185,267.257 140.721,267.466 \n",
       "  141.256,267.577 141.791,267.657 142.327,267.721 142.862,267.757 143.398,267.91 143.933,268.003 144.469,268.086 145.004,268.157 145.54,268.209 146.075,268.223 \n",
       "  146.61,268.397 147.146,268.496 147.681,268.57 148.217,268.63 148.752,268.661 149.288,268.803 149.823,268.89 150.358,268.966 150.894,269.029 151.429,269.069 \n",
       "  151.965,269.192 152.5,269.272 153.036,269.348 153.571,269.412 154.107,269.457 154.642,269.463 155.177,269.624 155.713,269.717 156.248,269.781 156.784,269.827 \n",
       "  157.319,269.837 157.855,269.986 158.39,270.074 158.925,270.137 159.461,270.182 159.996,270.192 160.532,270.336 161.067,270.422 161.603,270.483 162.138,270.525 \n",
       "  162.674,270.531 163.209,270.674 163.744,270.76 164.28,270.817 164.815,270.855 165.351,270.954 165.886,271.023 166.422,271.088 166.957,271.141 167.492,271.172 \n",
       "  168.028,271.276 168.563,271.346 169.099,271.407 169.634,271.455 170.17,271.476 170.705,271.588 171.241,271.66 171.776,271.717 172.311,271.757 172.847,271.763 \n",
       "  173.382,271.889 173.918,271.966 174.453,272.016 174.989,272.046 175.524,272.141 176.059,272.206 176.595,272.263 177.13,272.305 177.666,272.319 178.201,272.429 \n",
       "  178.737,272.5 179.272,272.55 179.808,272.58 180.343,272.668 180.878,272.73 181.414,272.784 181.949,272.825 182.485,272.837 183.02,272.943 183.556,273.012 \n",
       "  184.091,273.059 184.626,273.085 185.162,273.172 185.697,273.233 186.233,273.284 186.768,273.32 187.304,273.323 187.839,273.433 188.375,273.503 188.91,273.545 \n",
       "  189.445,273.561 189.981,273.654 190.516,273.717 191.052,273.763 191.587,273.788 192.123,273.869 192.658,273.927 193.193,273.975 193.729,274.007 194.264,274.079 \n",
       "  194.8,274.133 195.335,274.182 195.871,274.219 196.406,274.227 196.942,274.322 197.477,274.386 198.012,274.425 198.548,274.44 199.083,274.526 199.619,274.585 \n",
       "  200.154,274.627 200.69,274.647 201.225,274.726 201.76,274.782 202.296,274.824 202.831,274.848 203.367,274.922 203.902,274.975 204.438,275.018 204.973,275.045 \n",
       "  205.509,275.114 206.044,275.166 206.579,275.209 207.115,275.237 207.65,275.303 208.186,275.353 208.721,275.397 209.257,275.425 209.792,275.49 210.327,275.538 \n",
       "  210.863,275.582 211.398,275.61 211.934,275.673 212.469,275.721 213.005,275.764 213.54,275.792 214.076,275.854 214.611,275.901 215.146,275.943 215.682,275.97 \n",
       "  216.217,276.031 216.753,276.078 217.288,276.119 217.824,276.145 218.359,276.207 218.894,276.254 219.43,276.293 219.965,276.317 220.501,276.38 221.036,276.427 \n",
       "  221.572,276.465 222.107,276.486 222.643,276.55 223.178,276.597 223.713,276.634 224.249,276.651 224.784,276.717 225.32,276.765 225.855,276.8 226.391,276.812 \n",
       "  226.926,276.881 227.461,276.931 227.997,276.963 228.532,276.969 229.068,277.043 229.603,277.095 230.139,277.123 230.674,277.175 231.21,277.217 231.745,277.256 \n",
       "  232.28,277.279 232.816,277.335 233.351,277.378 233.887,277.414 234.422,277.432 234.958,277.492 235.493,277.537 236.029,277.569 236.564,277.58 237.099,277.645 \n",
       "  237.635,277.693 238.17,277.721 238.706,277.722 239.241,277.795 239.777,277.846 240.312,277.868 240.847,277.922 241.383,277.963 241.918,277.996 242.454,278.011 \n",
       "  242.989,278.07 243.525,278.115 244.06,278.143 244.596,278.148 245.131,278.215 245.666,278.263 246.202,278.286 246.737,278.336 247.273,278.376 247.808,278.408 \n",
       "  248.344,278.423 248.879,278.48 249.414,278.523 249.95,278.55 250.485,278.553 251.021,278.619 251.556,278.666 252.092,278.686 252.627,278.736 253.163,278.776 \n",
       "  253.698,278.806 254.233,278.816 254.769,278.874 255.304,278.917 255.84,278.941 256.375,278.987 256.911,279.024 257.446,279.056 257.981,279.07 258.517,279.123 \n",
       "  259.052,279.163 259.588,279.189 260.123,279.19 260.659,279.254 261.194,279.299 261.73,279.316 262.265,279.366 262.8,279.405 263.336,279.431 263.871,279.435 \n",
       "  264.407,279.495 264.942,279.538 265.478,279.556 266.013,279.604 266.548,279.641 267.084,279.668 267.619,279.673 268.155,279.73 268.69,279.772 269.226,279.79 \n",
       "  269.761,279.837 270.297,279.873 270.832,279.899 271.367,279.904 271.903,279.96 272.438,280.002 272.974,280.019 273.509,280.065 274.045,280.101 274.58,280.126 \n",
       "  275.115,280.128 275.651,280.185 276.186,280.227 276.722,280.242 277.257,280.289 277.793,280.325 278.328,280.348 278.864,280.387 279.399,280.42 279.934,280.448 \n",
       "  280.47,280.46 281.005,280.508 281.541,280.545 282.076,280.565 282.612,280.606 283.147,280.639 283.682,280.665 284.218,280.672 284.753,280.722 285.289,280.761 \n",
       "  285.824,280.777 286.36,280.82 286.895,280.854 287.431,280.877 287.966,280.877 288.501,280.932 289.037,280.972 289.572,280.984 290.108,281.029 290.643,281.065 \n",
       "  291.179,281.084 291.714,281.123 292.249,281.155 292.785,281.179 293.32,281.183 293.856,281.233 294.391,281.272 294.927,281.285 295.462,281.327 295.998,281.361 \n",
       "  296.533,281.381 297.068,281.418 297.604,281.45 298.139,281.474 298.675,281.478 299.21,281.526 299.746,281.563 300.281,281.576 300.816,281.618 301.352,281.651 \n",
       "  301.887,281.67 302.423,281.707 302.958,281.737 303.494,281.761 304.029,281.764 304.565,281.812 305.1,281.848 305.635,281.86 306.171,281.901 306.706,281.935 \n",
       "  307.242,281.952 307.777,281.988 308.313,282.019 308.848,282.04 309.383,282.074 309.919,282.103 310.454,282.127 310.99,282.135 311.525,282.178 312.061,282.211 \n",
       "  312.596,282.225 313.132,282.264 313.667,282.295 314.202,282.313 314.738,282.348 315.273,282.377 315.809,282.399 316.344,282.401 316.88,282.447 317.415,282.482 \n",
       "  317.95,282.491 318.486,282.532 319.021,282.564 319.557,282.578 320.092,282.615 320.628,282.645 321.163,282.663 321.699,282.696 322.234,282.725 322.769,282.746 \n",
       "  323.305,282.747 323.84,282.792 324.376,282.827 324.911,282.834 325.447,282.875 325.982,282.907 326.517,282.919 327.053,282.956 327.588,282.986 328.124,283.002 \n",
       "  328.659,283.036 329.195,283.064 329.73,283.083 330.266,283.114 330.801,283.142 331.336,283.163 331.872,283.165 332.407,283.208 332.943,283.241 333.478,283.249 \n",
       "  334.014,283.288 334.549,283.318 335.084,283.33 335.62,283.366 336.155,283.395 336.691,283.41 337.226,283.443 337.762,283.471 338.297,283.488 338.833,283.519 \n",
       "  339.368,283.546 339.903,283.565 340.439,283.566 340.974,283.608 341.51,283.642 342.045,283.647 342.581,283.686 343.116,283.717 343.651,283.726 344.187,283.762 \n",
       "  344.722,283.791 345.258,283.803 345.793,283.837 346.329,283.865 346.864,283.88 347.4,283.911 347.935,283.938 348.47,283.955 349.006,283.985 349.541,284.011 \n",
       "  350.077,284.029 350.612,284.058 351.148,284.083 351.683,284.103 352.218,284.105 352.754,284.144 353.289,284.176 353.825,284.181 354.36,284.218 354.896,284.248 \n",
       "  355.431,284.256 355.967,284.291 356.502,284.319 357.037,284.33 357.573,284.363 358.108,284.39 358.644,284.403 359.179,284.434 359.715,284.461 360.25,284.475 \n",
       "  360.785,284.505 361.321,284.531 361.856,284.547 362.392,284.575 362.927,284.6 363.463,284.618 363.998,284.645 364.534,284.669 365.069,284.688 365.604,284.715 \n",
       "  366.14,284.738 366.675,284.757 367.211,284.76 367.746,284.797 368.282,284.827 368.817,284.832 369.352,284.867 369.888,284.895 370.423,284.902 370.959,284.936 \n",
       "  371.494,284.964 372.03,284.972 372.565,285.005 373.101,285.031 373.636,285.041 374.171,285.073 374.707,285.099 375.242,285.11 375.778,285.14 376.313,285.166 \n",
       "  376.849,285.178 377.384,285.207 377.919,285.232 378.455,285.246 378.99,285.274 379.526,285.299 380.061,285.313 380.597,285.341 381.132,285.365 381.668,285.38 \n",
       "  382.203,285.407 382.738,285.43 383.274,285.446 383.809,285.472 384.345,285.495 384.88,285.512 385.416,285.538 385.951,285.56 386.487,285.577 387.022,285.603 \n",
       "  387.557,285.625 388.093,285.643 388.628,285.643 389.164,285.679 389.699,285.707 390.235,285.709 390.77,285.744 391.305,285.772 391.841,285.774 392.376,285.808 \n",
       "  392.912,285.836 393.447,285.839 393.983,285.872 394.518,285.899 395.054,285.904 395.589,285.936 396.124,285.963 396.66,285.968 397.195,286 397.731,286.026 \n",
       "  398.266,286.032 398.802,286.063 399.337,286.089 399.872,286.095 400.408,286.126 400.943,286.151 401.479,286.158 402.014,286.188 402.55,286.214 403.085,286.22 \n",
       "  403.621,286.251 404.156,286.275 404.691,286.283 405.227,286.312 405.762,286.337 406.298,286.345 406.833,286.374 407.369,286.399 407.904,286.406 408.439,286.435 \n",
       "  408.975,286.46 409.51,286.468 410.046,286.496 410.581,286.521 411.117,286.529 411.652,286.557 412.188,286.581 412.723,286.589 413.258,286.618 413.794,286.642 \n",
       "  414.329,286.65 414.865,286.678 415.4,286.702 415.936,286.71 416.471,286.738 417.006,286.762 417.542,286.769 418.077,286.797 418.613,286.821 419.148,286.829 \n",
       "  419.684,286.857 420.219,286.881 420.755,286.888 421.29,286.916 421.825,286.94 422.361,286.947 422.896,286.975 423.432,286.999 423.967,287.006 424.503,287.034 \n",
       "  425.038,287.057 425.573,287.064 426.109,287.092 426.644,287.116 427.18,287.122 427.715,287.15 428.251,287.174 428.786,287.18 429.322,287.208 429.857,287.232 \n",
       "  430.392,287.237 430.928,287.265 431.463,287.289 431.999,287.294 432.534,287.323 433.07,287.347 433.605,287.351 434.14,287.38 434.676,287.404 435.211,287.407 \n",
       "  435.747,287.437 436.282,287.461 436.818,287.464 437.353,287.493 437.889,287.517 438.424,287.52 438.959,287.549 439.495,287.574 440.03,287.575 440.566,287.605 \n",
       "  441.101,287.63 441.637,287.63 442.172,287.661 442.707,287.686 443.243,287.708 443.778,287.727 444.314,287.742 444.849,287.763 445.385,287.783 445.92,287.797 \n",
       "  446.456,287.819 446.991,287.839 447.526,287.853 448.062,287.875 448.597,287.894 449.133,287.907 449.668,287.93 450.204,287.949 450.739,287.962 451.274,287.985 \n",
       "  451.81,288.005 452.345,288.017 452.881,288.039 453.416,288.059 453.952,288.071 454.487,288.094 455.023,288.114 455.558,288.125 456.093,288.148 456.629,288.169 \n",
       "  457.164,288.178 457.7,288.202 458.235,288.223 458.771,288.231 459.306,288.256 459.841,288.277 460.377,288.284 460.912,288.309 461.448,288.33 461.983,288.337 \n",
       "  462.519,288.362 463.054,288.384 463.59,288.389 464.125,288.415 464.66,288.437 465.196,288.441 465.731,288.468 466.267,288.49 466.802,288.493 467.338,288.52 \n",
       "  467.873,288.543 468.408,288.544 468.944,288.572 469.479,288.596 470.015,288.616 470.55,288.634 471.086,288.648 471.621,288.668 472.157,288.687 472.692,288.7 \n",
       "  473.227,288.721 473.763,288.739 474.298,288.751 474.834,288.773 475.369,288.791 475.905,288.803 476.44,288.824 476.975,288.844 477.511,288.854 478.046,288.876 \n",
       "  478.582,288.895 479.117,288.905 479.653,288.927 480.188,288.947 480.724,288.955 481.259,288.978 481.794,288.999 482.33,289.005 482.865,289.029 483.401,289.05 \n",
       "  483.936,289.055 484.472,289.08 485.007,289.101 485.542,289.104 486.078,289.13 486.613,289.151 487.149,289.153 487.684,289.179 488.22,289.202 488.755,289.221 \n",
       "  489.291,289.238 489.826,289.252 490.361,289.271 490.897,289.289 491.432,289.302 491.968,289.322 492.503,289.34 493.039,289.351 493.574,289.372 494.109,289.39 \n",
       "  494.645,289.4 495.18,289.421 495.716,289.44 496.251,289.449 496.787,289.471 497.322,289.49 497.858,289.497 498.393,289.52 498.928,289.539 499.464,289.545 \n",
       "  499.999,289.569 500.535,289.589 501.07,289.593 501.606,289.617 502.141,289.638 502.676,289.64 503.212,289.665 503.747,289.687 504.283,289.705 504.818,289.722 \n",
       "  505.354,289.735 505.889,289.754 506.425,289.771 506.96,289.783 507.495,289.803 508.031,289.82 508.566,289.831 509.102,289.851 509.637,289.869 510.173,289.878 \n",
       "  510.708,289.899 511.243,289.918 511.779,289.925 512.314,289.947 512.85,289.966 513.385,289.972 513.921,289.995 514.456,290.014 514.992,290.018 515.527,290.042 \n",
       "  516.062,290.062 516.598,290.064 517.133,290.088 517.669,290.109 518.204,290.127 518.74,290.144 519.275,290.156 519.81,290.175 520.346,290.192 520.881,290.203 \n",
       "  521.417,290.222 521.952,290.239 522.488,290.249 523.023,290.269 523.559,290.287 524.094,290.295 524.629,290.316 525.165,290.334 525.7,290.341 526.236,290.362 \n",
       "  526.771,290.381 527.307,290.386 527.842,290.408 528.378,290.427 528.913,290.43 529.448,290.454 529.984,290.474 530.519,290.474 531.055,290.499 531.59,290.52 \n",
       "  532.126,290.538 532.661,290.554 533.196,290.565 533.732,290.584 534.267,290.601 534.803,290.611 535.338,290.63 535.874,290.647 536.409,290.655 536.945,290.676 \n",
       "  537.48,290.693 538.015,290.7 538.551,290.721 539.086,290.739 539.622,290.743 540.157,290.766 540.693,290.785 541.228,290.787 541.763,290.81 542.299,290.83 \n",
       "  542.834,290.847 543.37,290.863 543.905,290.875 544.441,290.893 544.976,290.909 545.512,290.919 546.047,290.938 546.582,290.954 547.118,290.963 547.653,290.982 \n",
       "  548.189,290.999 548.724,291.007 549.26,291.027 549.795,291.044 550.33,291.05 550.866,291.071 551.401,291.089 551.937,291.092 552.472,291.115 553.008,291.134 \n",
       "  553.543,291.134 554.079,291.158 554.614,291.178 555.149,291.195 555.685,291.211 556.22,291.221 556.756,291.239 557.291,291.255 557.827,291.264 558.362,291.283 \n",
       "  558.897,291.3 559.433,291.307 559.968,291.327 560.504,291.344 561.039,291.349 561.575,291.37 562.11,291.388 562.646,291.391 563.181,291.413 563.716,291.431 \n",
       "  564.252,291.448 564.787,291.463 565.323,291.475 565.858,291.492 566.394,291.507 566.929,291.517 567.464,291.535 568,291.551 568.535,291.56 569.071,291.578 \n",
       "  569.606,291.595 570.142,291.601 570.677,291.621 571.213,291.638 571.748,291.643 572.283,291.663 572.819,291.681 573.354,291.683 573.89,291.705 574.425,291.724 \n",
       "  574.961,291.74 575.496,291.755 576.031,291.766 576.567,291.783 577.102,291.798 577.638,291.808 578.173,291.826 578.709,291.842 579.244,291.849 579.78,291.868 \n",
       "  580.315,291.884 \n",
       "  \"/>\n",
       "<polygon clip-path=\"url(#clip8100)\" points=\"\n",
       "489.608,62.931 562.315,62.931 562.315,32.691 489.608,32.691 \n",
       "  \" fill=\"#ffffff\" fill-opacity=\"1\"/>\n",
       "<polyline clip-path=\"url(#clip8100)\" style=\"stroke:#000000; stroke-width:1; stroke-opacity:1; fill:none\" points=\"\n",
       "  489.608,62.931 562.315,62.931 562.315,32.691 489.608,32.691 489.608,62.931 \n",
       "  \"/>\n",
       "<polyline clip-path=\"url(#clip8100)\" style=\"stroke:#009af9; stroke-width:1; stroke-opacity:1; fill:none\" points=\"\n",
       "  495.608,47.811 531.608,47.811 \n",
       "  \"/>\n",
       "<g clip-path=\"url(#clip8100)\">\n",
       "<text style=\"fill:#000000; fill-opacity:1; font-family:Arial,Helvetica Neue,Helvetica,sans-serif; font-size:12; text-anchor:start;\" transform=\"rotate(0, 537.608, 52.311)\" x=\"537.608\" y=\"52.311\">y1</text>\n",
       "</g>\n",
       "</svg>\n"
      ]
     },
     "execution_count": 121,
     "metadata": {},
     "output_type": "execute_result"
    }
   ],
   "source": [
    "plot(losses,xlabel=\"Epochs\",ylabel=\"Loss\",ylim=(0.0,50.0)) "
   ]
  },
  {
   "cell_type": "code",
   "execution_count": 122,
   "metadata": {},
   "outputs": [],
   "source": [
    "idx = 5\n",
    "# imshow(Array{Ftype}(w[1])[:,:,1,1]);\n",
    "imshow(Array{Ftype}(w[end])[:,:,1,1]);\n",
    "imshow(Array{Ftype}(xtrn)[:,:,1,idx]);\n",
    "imshow(Array{Ftype}(predict(w,xtrn))[:,:,1,idx]);\n",
    "imshow(Array{Ftype}(ytrn)[:,:,1,idx]);"
   ]
  },
  {
   "cell_type": "markdown",
   "metadata": {},
   "source": [
    "### testing gradients"
   ]
  },
  {
   "cell_type": "code",
   "execution_count": 39,
   "metadata": {
    "scrolled": false
   },
   "outputs": [],
   "source": [
    "# Testing the gradient: Increasing w[2] (scalar μ) by eps_w should decrease loss by grad_w2 * eps_w2\n",
    "h = Ftype(1e-1)\n",
    "num_tests = 3\n",
    "ldiff = zeros(num_tests,length(w))\n",
    "vdot(x, y) = sum(vec(x).*vec(y))\n",
    "for (x,y) in dtst\n",
    "    println(typeof(x))\n",
    "    println(typeof(y))\n",
    "    for i in 1:num_tests\n",
    "        println(\"    h: $h\")\n",
    "        for j in 1:length(w)\n",
    "            w0 = copy(w)\n",
    "            loss0 = loss(w0,x,y)\n",
    "            grad0 = lossgradient(w0,x,y)\n",
    "            eps_w = h * Atype(randn(Ftype,size(w0[j])))\n",
    "            w0[j] -= eps_w\n",
    "            loss1 = loss(w0,x,y)\n",
    "            Δloss = loss1 - loss0\n",
    "            Δgrad = -vdot(vec(grad0[j]), vec(eps_w))\n",
    "            ldiff[i,j] = abs(Δloss - Δgrad)\n",
    "            #println(\"Δloss[$i]: \", Δloss)\n",
    "            #println(\"Δgrad[$i]: \", Δgrad)\n",
    "        end\n",
    "        println(\" diff: \", ldiff[i,:])\n",
    "        i > 1 && println(\"ratio: \", ldiff[i-1,:]./ldiff[i,:])\n",
    "        h /= 2.0f0\n",
    "    end\n",
    "end"
   ]
  },
  {
   "cell_type": "code",
   "execution_count": 31,
   "metadata": {},
   "outputs": [],
   "source": [
    "for (x,y) in dtst\n",
    "    gradcheck(loss, w, x, y; verbose=true)\n",
    "end"
   ]
  },
  {
   "cell_type": "markdown",
   "metadata": {
    "slideshow": {
     "slide_type": "slide"
    }
   },
   "source": [
    "# Linear regression testing with imfilter"
   ]
  },
  {
   "cell_type": "code",
   "execution_count": 350,
   "metadata": {},
   "outputs": [],
   "source": [
    "# define types\n",
    "srand(42)\n",
    "Ftype = Float64\n",
    "Atype = Array{Ftype};"
   ]
  },
  {
   "cell_type": "code",
   "execution_count": 352,
   "metadata": {},
   "outputs": [],
   "source": [
    "# Initialize model\n",
    "m, n = 50, 60\n",
    "\n",
    "xp, yp = linspace(-pi,pi,m), linspace(-pi,pi,n)'\n",
    "Wx, Wy = 1:5, 1:5\n",
    "idx = 1\n",
    "y = zeros(m,n,1,length(Wx)*length(Wy))\n",
    "for (ωx,ωy) in Iterators.product(Wx,Wy)\n",
    "    y[:,:,1,idx] = Atype( sin.(ωx*xp) .* cos.(ωy*yp) );\n",
    "    idx += 1\n",
    "end\n",
    "x = Atype(y + 0.5randn(Ftype,size(y)));\n",
    "w = [ Atype(0.1*randn(5,5,1,1)), Ftype(1.0) ];"
   ]
  },
  {
   "cell_type": "code",
   "execution_count": 353,
   "metadata": {},
   "outputs": [],
   "source": [
    "#z = imfilter(x,centered(w));\n",
    "z = conv4(w[1],x,padding=1);"
   ]
  },
  {
   "cell_type": "code",
   "execution_count": 354,
   "metadata": {},
   "outputs": [],
   "source": [
    "# Define loss\n",
    "predict(w,x) = conv4(w[1],x,padding=div(size(w[1],1),2)) .+ w[2]\n",
    "loss(w,x,y) = mean(abs2,y-predict(w,x))\n",
    "lossgradient = grad(loss);"
   ]
  },
  {
   "cell_type": "code",
   "execution_count": 355,
   "metadata": {},
   "outputs": [
    {
     "data": {
      "text/plain": [
       "1.2025514132303978"
      ]
     },
     "execution_count": 355,
     "metadata": {},
     "output_type": "execute_result"
    }
   ],
   "source": [
    "w0 = w[2]\n",
    "loss0 = loss(w,x,y)"
   ]
  },
  {
   "cell_type": "code",
   "execution_count": 356,
   "metadata": {},
   "outputs": [],
   "source": [
    "# Testing the gradient: Increasing w[2] by eps_w should decrease loss by 1.9996 * eps_w\n",
    "grad0 = lossgradient(w,x,y)\n",
    "eps_w = 0.0001\n",
    "w[2] = w0 - eps_w\n",
    "loss1 = loss(w,x,y);"
   ]
  },
  {
   "cell_type": "code",
   "execution_count": 357,
   "metadata": {
    "scrolled": true
   },
   "outputs": [
    {
     "data": {
      "text/plain": [
       "-0.0002000528670471624"
      ]
     },
     "execution_count": 357,
     "metadata": {},
     "output_type": "execute_result"
    }
   ],
   "source": [
    "loss1 - loss0"
   ]
  },
  {
   "cell_type": "code",
   "execution_count": 358,
   "metadata": {},
   "outputs": [
    {
     "data": {
      "text/plain": [
       "-0.00020006286704758562"
      ]
     },
     "execution_count": 358,
     "metadata": {},
     "output_type": "execute_result"
    }
   ],
   "source": [
    "-grad0[2] * eps_w"
   ]
  },
  {
   "cell_type": "code",
   "execution_count": 359,
   "metadata": {},
   "outputs": [
    {
     "data": {
      "text/plain": [
       "train! (generic function with 1 method)"
      ]
     },
     "execution_count": 359,
     "metadata": {},
     "output_type": "execute_result"
    }
   ],
   "source": [
    "# SGD training loop\n",
    "function train!(w, data; lr=.1)\n",
    "    for (x,y) in data\n",
    "        dw = lossgradient(w, x, y)\n",
    "        for i in 1:length(w)\n",
    "            w[i] -= lr * dw[i]\n",
    "        end\n",
    "    end\n",
    "    return w\n",
    "end"
   ]
  },
  {
   "cell_type": "code",
   "execution_count": 366,
   "metadata": {},
   "outputs": [
    {
     "name": "stdout",
     "output_type": "stream",
     "text": [
      " 24.838604 seconds (62.24 M allocations: 2.198 GiB, 25.63% gc time)\n"
     ]
    },
    {
     "data": {
      "text/plain": [
       "5×5×1×1 Array{Float64,4}:\n",
       "[:, :, 1, 1] =\n",
       "  0.0603571   0.0132552  0.063892   0.0274858   0.0322449\n",
       " -0.0333668   0.0864598  0.0876568  0.0515261   0.0370344\n",
       "  0.0357426   0.0624823  0.0490681  0.055675    0.0754124\n",
       "  0.0435113   0.164827   0.0843678  0.0341362  -0.0110172\n",
       "  0.0517037  -0.0553282  0.0563687  0.0313654   0.0773658"
      ]
     },
     "execution_count": 366,
     "metadata": {},
     "output_type": "execute_result"
    }
   ],
   "source": [
    "# Record the weights for 10 epochs\n",
    "@time weights = [ copy(train!(w, [(x, y)])) for epoch=1:10 ];\n",
    "weights[end][1]"
   ]
  },
  {
   "cell_type": "code",
   "execution_count": 367,
   "metadata": {
    "scrolled": true
   },
   "outputs": [
    {
     "data": {
      "text/plain": [
       "10-element Array{Float64,1}:\n",
       " 0.0554632\n",
       " 0.0504583\n",
       " 0.0466408\n",
       " 0.043643 \n",
       " 0.0412238\n",
       " 0.0392236\n",
       " 0.0375355\n",
       " 0.0360866\n",
       " 0.0348267\n",
       " 0.0337199"
      ]
     },
     "execution_count": 367,
     "metadata": {},
     "output_type": "execute_result"
    }
   ],
   "source": [
    "losses = [ loss(w,x,y) for w in weights ]"
   ]
  },
  {
   "cell_type": "code",
   "execution_count": 368,
   "metadata": {
    "scrolled": false
   },
   "outputs": [
    {
     "data": {
      "image/svg+xml": [
       "<?xml version=\"1.0\" encoding=\"utf-8\"?>\n",
       "<svg xmlns=\"http://www.w3.org/2000/svg\" xmlns:xlink=\"http://www.w3.org/1999/xlink\" width=\"600\" height=\"400\" viewBox=\"0 0 600 400\">\n",
       "<defs>\n",
       "  <clipPath id=\"clip3500\">\n",
       "    <rect x=\"0\" y=\"0\" width=\"600\" height=\"400\"/>\n",
       "  </clipPath>\n",
       "</defs>\n",
       "<polygon clip-path=\"url(#clip3500)\" points=\"\n",
       "0,400 600,400 600,0 0,0 \n",
       "  \" fill=\"#ffffff\" fill-opacity=\"1\"/>\n",
       "<defs>\n",
       "  <clipPath id=\"clip3501\">\n",
       "    <rect x=\"120\" y=\"0\" width=\"421\" height=\"400\"/>\n",
       "  </clipPath>\n",
       "</defs>\n",
       "<polygon clip-path=\"url(#clip3500)\" points=\"\n",
       "61.6037,360.121 580.315,360.121 580.315,11.811 61.6037,11.811 \n",
       "  \" fill=\"#ffffff\" fill-opacity=\"1\"/>\n",
       "<defs>\n",
       "  <clipPath id=\"clip3502\">\n",
       "    <rect x=\"61\" y=\"11\" width=\"520\" height=\"349\"/>\n",
       "  </clipPath>\n",
       "</defs>\n",
       "<polyline clip-path=\"url(#clip3502)\" style=\"stroke:#000000; stroke-width:0.5; stroke-opacity:0.1; fill:none\" points=\"\n",
       "  119.238,360.121 119.238,11.811 \n",
       "  \"/>\n",
       "<polyline clip-path=\"url(#clip3502)\" style=\"stroke:#000000; stroke-width:0.5; stroke-opacity:0.1; fill:none\" points=\"\n",
       "  234.507,360.121 234.507,11.811 \n",
       "  \"/>\n",
       "<polyline clip-path=\"url(#clip3502)\" style=\"stroke:#000000; stroke-width:0.5; stroke-opacity:0.1; fill:none\" points=\"\n",
       "  349.777,360.121 349.777,11.811 \n",
       "  \"/>\n",
       "<polyline clip-path=\"url(#clip3502)\" style=\"stroke:#000000; stroke-width:0.5; stroke-opacity:0.1; fill:none\" points=\"\n",
       "  465.046,360.121 465.046,11.811 \n",
       "  \"/>\n",
       "<polyline clip-path=\"url(#clip3502)\" style=\"stroke:#000000; stroke-width:0.5; stroke-opacity:0.1; fill:none\" points=\"\n",
       "  580.315,360.121 580.315,11.811 \n",
       "  \"/>\n",
       "<polyline clip-path=\"url(#clip3502)\" style=\"stroke:#000000; stroke-width:0.5; stroke-opacity:0.1; fill:none\" points=\"\n",
       "  61.6037,339.615 580.315,339.615 \n",
       "  \"/>\n",
       "<polyline clip-path=\"url(#clip3502)\" style=\"stroke:#000000; stroke-width:0.5; stroke-opacity:0.1; fill:none\" points=\"\n",
       "  61.6037,259.519 580.315,259.519 \n",
       "  \"/>\n",
       "<polyline clip-path=\"url(#clip3502)\" style=\"stroke:#000000; stroke-width:0.5; stroke-opacity:0.1; fill:none\" points=\"\n",
       "  61.6037,179.423 580.315,179.423 \n",
       "  \"/>\n",
       "<polyline clip-path=\"url(#clip3502)\" style=\"stroke:#000000; stroke-width:0.5; stroke-opacity:0.1; fill:none\" points=\"\n",
       "  61.6037,99.3273 580.315,99.3273 \n",
       "  \"/>\n",
       "<polyline clip-path=\"url(#clip3502)\" style=\"stroke:#000000; stroke-width:0.5; stroke-opacity:0.1; fill:none\" points=\"\n",
       "  61.6037,19.2313 580.315,19.2313 \n",
       "  \"/>\n",
       "<polyline clip-path=\"url(#clip3500)\" style=\"stroke:#000000; stroke-width:1; stroke-opacity:1; fill:none\" points=\"\n",
       "  61.6037,360.121 580.315,360.121 \n",
       "  \"/>\n",
       "<polyline clip-path=\"url(#clip3500)\" style=\"stroke:#000000; stroke-width:1; stroke-opacity:1; fill:none\" points=\"\n",
       "  61.6037,360.121 61.6037,11.811 \n",
       "  \"/>\n",
       "<polyline clip-path=\"url(#clip3500)\" style=\"stroke:#000000; stroke-width:1; stroke-opacity:1; fill:none\" points=\"\n",
       "  119.238,360.121 119.238,354.896 \n",
       "  \"/>\n",
       "<polyline clip-path=\"url(#clip3500)\" style=\"stroke:#000000; stroke-width:1; stroke-opacity:1; fill:none\" points=\"\n",
       "  234.507,360.121 234.507,354.896 \n",
       "  \"/>\n",
       "<polyline clip-path=\"url(#clip3500)\" style=\"stroke:#000000; stroke-width:1; stroke-opacity:1; fill:none\" points=\"\n",
       "  349.777,360.121 349.777,354.896 \n",
       "  \"/>\n",
       "<polyline clip-path=\"url(#clip3500)\" style=\"stroke:#000000; stroke-width:1; stroke-opacity:1; fill:none\" points=\"\n",
       "  465.046,360.121 465.046,354.896 \n",
       "  \"/>\n",
       "<polyline clip-path=\"url(#clip3500)\" style=\"stroke:#000000; stroke-width:1; stroke-opacity:1; fill:none\" points=\"\n",
       "  580.315,360.121 580.315,354.896 \n",
       "  \"/>\n",
       "<polyline clip-path=\"url(#clip3500)\" style=\"stroke:#000000; stroke-width:1; stroke-opacity:1; fill:none\" points=\"\n",
       "  61.6037,339.615 69.3844,339.615 \n",
       "  \"/>\n",
       "<polyline clip-path=\"url(#clip3500)\" style=\"stroke:#000000; stroke-width:1; stroke-opacity:1; fill:none\" points=\"\n",
       "  61.6037,259.519 69.3844,259.519 \n",
       "  \"/>\n",
       "<polyline clip-path=\"url(#clip3500)\" style=\"stroke:#000000; stroke-width:1; stroke-opacity:1; fill:none\" points=\"\n",
       "  61.6037,179.423 69.3844,179.423 \n",
       "  \"/>\n",
       "<polyline clip-path=\"url(#clip3500)\" style=\"stroke:#000000; stroke-width:1; stroke-opacity:1; fill:none\" points=\"\n",
       "  61.6037,99.3273 69.3844,99.3273 \n",
       "  \"/>\n",
       "<polyline clip-path=\"url(#clip3500)\" style=\"stroke:#000000; stroke-width:1; stroke-opacity:1; fill:none\" points=\"\n",
       "  61.6037,19.2313 69.3844,19.2313 \n",
       "  \"/>\n",
       "<g clip-path=\"url(#clip3500)\">\n",
       "<text style=\"fill:#000000; fill-opacity:1; font-family:Arial,Helvetica Neue,Helvetica,sans-serif; font-size:12; text-anchor:middle;\" transform=\"rotate(0, 119.238, 373.921)\" x=\"119.238\" y=\"373.921\">2</text>\n",
       "</g>\n",
       "<g clip-path=\"url(#clip3500)\">\n",
       "<text style=\"fill:#000000; fill-opacity:1; font-family:Arial,Helvetica Neue,Helvetica,sans-serif; font-size:12; text-anchor:middle;\" transform=\"rotate(0, 234.507, 373.921)\" x=\"234.507\" y=\"373.921\">4</text>\n",
       "</g>\n",
       "<g clip-path=\"url(#clip3500)\">\n",
       "<text style=\"fill:#000000; fill-opacity:1; font-family:Arial,Helvetica Neue,Helvetica,sans-serif; font-size:12; text-anchor:middle;\" transform=\"rotate(0, 349.777, 373.921)\" x=\"349.777\" y=\"373.921\">6</text>\n",
       "</g>\n",
       "<g clip-path=\"url(#clip3500)\">\n",
       "<text style=\"fill:#000000; fill-opacity:1; font-family:Arial,Helvetica Neue,Helvetica,sans-serif; font-size:12; text-anchor:middle;\" transform=\"rotate(0, 465.046, 373.921)\" x=\"465.046\" y=\"373.921\">8</text>\n",
       "</g>\n",
       "<g clip-path=\"url(#clip3500)\">\n",
       "<text style=\"fill:#000000; fill-opacity:1; font-family:Arial,Helvetica Neue,Helvetica,sans-serif; font-size:12; text-anchor:middle;\" transform=\"rotate(0, 580.315, 373.921)\" x=\"580.315\" y=\"373.921\">10</text>\n",
       "</g>\n",
       "<g clip-path=\"url(#clip3500)\">\n",
       "<text style=\"fill:#000000; fill-opacity:1; font-family:Arial,Helvetica Neue,Helvetica,sans-serif; font-size:12; text-anchor:end;\" transform=\"rotate(0, 55.6037, 344.115)\" x=\"55.6037\" y=\"344.115\">0.035</text>\n",
       "</g>\n",
       "<g clip-path=\"url(#clip3500)\">\n",
       "<text style=\"fill:#000000; fill-opacity:1; font-family:Arial,Helvetica Neue,Helvetica,sans-serif; font-size:12; text-anchor:end;\" transform=\"rotate(0, 55.6037, 264.019)\" x=\"55.6037\" y=\"264.019\">0.040</text>\n",
       "</g>\n",
       "<g clip-path=\"url(#clip3500)\">\n",
       "<text style=\"fill:#000000; fill-opacity:1; font-family:Arial,Helvetica Neue,Helvetica,sans-serif; font-size:12; text-anchor:end;\" transform=\"rotate(0, 55.6037, 183.923)\" x=\"55.6037\" y=\"183.923\">0.045</text>\n",
       "</g>\n",
       "<g clip-path=\"url(#clip3500)\">\n",
       "<text style=\"fill:#000000; fill-opacity:1; font-family:Arial,Helvetica Neue,Helvetica,sans-serif; font-size:12; text-anchor:end;\" transform=\"rotate(0, 55.6037, 103.827)\" x=\"55.6037\" y=\"103.827\">0.050</text>\n",
       "</g>\n",
       "<g clip-path=\"url(#clip3500)\">\n",
       "<text style=\"fill:#000000; fill-opacity:1; font-family:Arial,Helvetica Neue,Helvetica,sans-serif; font-size:12; text-anchor:end;\" transform=\"rotate(0, 55.6037, 23.7313)\" x=\"55.6037\" y=\"23.7313\">0.055</text>\n",
       "</g>\n",
       "<g clip-path=\"url(#clip3500)\">\n",
       "<text style=\"fill:#000000; fill-opacity:1; font-family:Arial,Helvetica Neue,Helvetica,sans-serif; font-size:16; text-anchor:middle;\" transform=\"rotate(0, 320.959, 397.6)\" x=\"320.959\" y=\"397.6\">Epochs</text>\n",
       "</g>\n",
       "<g clip-path=\"url(#clip3500)\">\n",
       "<text style=\"fill:#000000; fill-opacity:1; font-family:Arial,Helvetica Neue,Helvetica,sans-serif; font-size:16; text-anchor:middle;\" transform=\"rotate(-90, 14.4, 185.966)\" x=\"14.4\" y=\"185.966\">Loss</text>\n",
       "</g>\n",
       "<polyline clip-path=\"url(#clip3502)\" style=\"stroke:#009af9; stroke-width:1; stroke-opacity:1; fill:none\" points=\"\n",
       "  61.6037,11.811 119.238,91.9849 176.873,153.139 234.507,201.161 292.142,239.915 349.777,271.957 407.411,298.999 465.046,322.208 522.68,342.391 580.315,360.121 \n",
       "  \n",
       "  \"/>\n",
       "<polygon clip-path=\"url(#clip3500)\" points=\"\n",
       "489.608,62.931 562.315,62.931 562.315,32.691 489.608,32.691 \n",
       "  \" fill=\"#ffffff\" fill-opacity=\"1\"/>\n",
       "<polyline clip-path=\"url(#clip3500)\" style=\"stroke:#000000; stroke-width:1; stroke-opacity:1; fill:none\" points=\"\n",
       "  489.608,62.931 562.315,62.931 562.315,32.691 489.608,32.691 489.608,62.931 \n",
       "  \"/>\n",
       "<polyline clip-path=\"url(#clip3500)\" style=\"stroke:#009af9; stroke-width:1; stroke-opacity:1; fill:none\" points=\"\n",
       "  495.608,47.811 531.608,47.811 \n",
       "  \"/>\n",
       "<g clip-path=\"url(#clip3500)\">\n",
       "<text style=\"fill:#000000; fill-opacity:1; font-family:Arial,Helvetica Neue,Helvetica,sans-serif; font-size:12; text-anchor:start;\" transform=\"rotate(0, 537.608, 52.311)\" x=\"537.608\" y=\"52.311\">y1</text>\n",
       "</g>\n",
       "</svg>\n"
      ]
     },
     "execution_count": 368,
     "metadata": {},
     "output_type": "execute_result"
    }
   ],
   "source": [
    "plot(losses,xlabel=\"Epochs\",ylabel=\"Loss\") "
   ]
  },
  {
   "cell_type": "code",
   "execution_count": 369,
   "metadata": {},
   "outputs": [],
   "source": [
    "idx = 16\n",
    "imshow(w[1][:,:,1,1]);\n",
    "imshow(x[:,:,1,idx]);\n",
    "imshow(predict(w,x)[:,:,1,idx]);\n",
    "imshow(y[:,:,1,idx]);"
   ]
  },
  {
   "cell_type": "code",
   "execution_count": null,
   "metadata": {},
   "outputs": [],
   "source": []
  },
  {
   "cell_type": "markdown",
   "metadata": {
    "slideshow": {
     "slide_type": "slide"
    }
   },
   "source": [
    "# Linear regression example with housing data"
   ]
  },
  {
   "cell_type": "code",
   "execution_count": 3,
   "metadata": {
    "slideshow": {
     "slide_type": "fragment"
    }
   },
   "outputs": [
    {
     "name": "stderr",
     "output_type": "stream",
     "text": [
      "\u001b[1m\u001b[36mINFO: \u001b[39m\u001b[22m\u001b[36mDownloading https://archive.ics.uci.edu/ml/machine-learning-databases/housing/housing.data to /home/jon/.julia/v0.6/Knet/data/housing/housing.data\n",
      "\u001b[39m  % Total    % Received % Xferd  Average Speed   Time    Time     Time  Current\n",
      "                                 Dload  Upload   Total   Spent    Left  Speed\n",
      "100 49082  100 49082    0     0  78749      0 --:--:-- --:--:-- --:--:-- 78657\n"
     ]
    },
    {
     "data": {
      "text/plain": [
       "(\"13×506 Array{Float64,2}\", \"1×506 Array{Float64,2}\")"
      ]
     },
     "execution_count": 3,
     "metadata": {},
     "output_type": "execute_result"
    }
   ],
   "source": [
    "# Download the housing dataset from the UCI Machine Learning Repository\n",
    "include(Pkg.dir(\"Knet\",\"data\",\"housing.jl\"))\n",
    "x,y = housing()\n",
    "map(summary,(x,y))"
   ]
  },
  {
   "cell_type": "code",
   "execution_count": 5,
   "metadata": {},
   "outputs": [],
   "source": [
    "# Define loss\n",
    "predict(w,x) = w[1]*x .+ w[2]\n",
    "loss(w,x,y) = mean(abs2,y-predict(w,x))\n",
    "lossgradient = grad(loss);"
   ]
  },
  {
   "cell_type": "code",
   "execution_count": 6,
   "metadata": {},
   "outputs": [
    {
     "data": {
      "text/plain": [
       "2-element Array{Any,1}:\n",
       "  [0.0533183 0.0454029 … 0.0160006 0.0422956]\n",
       " 0.0                                         "
      ]
     },
     "execution_count": 6,
     "metadata": {},
     "output_type": "execute_result"
    }
   ],
   "source": [
    "# Initialize model\n",
    "srand(42)\n",
    "w = [ 0.1*rand(1,13), 0.0 ]"
   ]
  },
  {
   "cell_type": "code",
   "execution_count": 8,
   "metadata": {},
   "outputs": [
    {
     "data": {
      "text/plain": [
       "594.4352393887679"
      ]
     },
     "execution_count": 8,
     "metadata": {},
     "output_type": "execute_result"
    }
   ],
   "source": [
    "loss(w,x,y)"
   ]
  },
  {
   "cell_type": "code",
   "execution_count": 9,
   "metadata": {},
   "outputs": [
    {
     "data": {
      "text/plain": [
       "2-element Array{Any,1}:\n",
       "    [7.53003 -6.79923 … -6.369 13.8655]\n",
       " -45.0656                              "
      ]
     },
     "execution_count": 9,
     "metadata": {},
     "output_type": "execute_result"
    }
   ],
   "source": [
    "lossgradient(w,x,y)"
   ]
  },
  {
   "cell_type": "code",
   "execution_count": 10,
   "metadata": {},
   "outputs": [
    {
     "data": {
      "text/plain": [
       "0.1"
      ]
     },
     "execution_count": 10,
     "metadata": {},
     "output_type": "execute_result"
    }
   ],
   "source": [
    "# Testing the gradient: Increasing w[2] by eps should decrease loss by 45.0656 * eps\n",
    "w[2]=0.1"
   ]
  },
  {
   "cell_type": "code",
   "execution_count": 11,
   "metadata": {
    "scrolled": true
   },
   "outputs": [
    {
     "data": {
      "text/plain": [
       "589.9386781239456"
      ]
     },
     "execution_count": 11,
     "metadata": {},
     "output_type": "execute_result"
    }
   ],
   "source": [
    "loss(w,x,y)"
   ]
  },
  {
   "cell_type": "code",
   "execution_count": 12,
   "metadata": {},
   "outputs": [
    {
     "data": {
      "text/plain": [
       "train! (generic function with 1 method)"
      ]
     },
     "execution_count": 12,
     "metadata": {},
     "output_type": "execute_result"
    }
   ],
   "source": [
    "# SGD training loop\n",
    "function train!(w, data; lr=.1)\n",
    "    for (x,y) in data\n",
    "        dw = lossgradient(w, x, y)\n",
    "        for i in 1:length(w)\n",
    "            w[i] -= lr * dw[i]\n",
    "        end\n",
    "    end\n",
    "    return w\n",
    "end"
   ]
  },
  {
   "cell_type": "code",
   "execution_count": 13,
   "metadata": {},
   "outputs": [
    {
     "name": "stdout",
     "output_type": "stream",
     "text": [
      "  0.215568 seconds (440.65 k allocations: 17.270 MiB, 4.48% gc time)\n"
     ]
    },
    {
     "data": {
      "text/plain": [
       "10-element Array{Array{Any,1},1}:\n",
       " Any[[-0.699684 0.725326 … 0.652901 -1.34426], 4.58656]\n",
       " Any[[-0.551026 0.513913 … 0.565058 -1.53221], 8.17581]\n",
       " Any[[-0.59464 0.518516 … 0.634074 -1.88846], 11.0472] \n",
       " Any[[-0.590579 0.487521 … 0.663802 -2.1303], 13.3443] \n",
       " Any[[-0.594767 0.473771 … 0.698189 -2.33759], 15.182] \n",
       " Any[[-0.596189 0.463224 … 0.727585 -2.50545], 16.6522]\n",
       " Any[[-0.598128 0.457414 … 0.754282 -2.64491], 17.8283]\n",
       " Any[[-0.600288 0.454846 … 0.777929 -2.7612], 18.7692] \n",
       " Any[[-0.602933 0.455003 … 0.798796 -2.8591], 19.5219] \n",
       " Any[[-0.606062 0.457353 … 0.817038 -2.94219], 20.1241]"
      ]
     },
     "execution_count": 13,
     "metadata": {},
     "output_type": "execute_result"
    }
   ],
   "source": [
    "# Record the weights for 10 epochs\n",
    "@time weights = [ copy(train!(w, [(x, y)])) for epoch=1:10 ]"
   ]
  },
  {
   "cell_type": "code",
   "execution_count": 14,
   "metadata": {},
   "outputs": [
    {
     "data": {
      "text/plain": [
       "10-element Array{Float64,1}:\n",
       " 364.412 \n",
       " 240.165 \n",
       " 161.982 \n",
       " 112.161 \n",
       "  80.3404\n",
       "  59.9844\n",
       "  46.9397\n",
       "  38.5626\n",
       "  33.1684\n",
       "  29.6825"
      ]
     },
     "execution_count": 14,
     "metadata": {},
     "output_type": "execute_result"
    }
   ],
   "source": [
    "losses = [ loss(w,x,y) for w in weights ]"
   ]
  },
  {
   "cell_type": "code",
   "execution_count": 17,
   "metadata": {
    "scrolled": false
   },
   "outputs": [
    {
     "data": {
      "image/svg+xml": [
       "<?xml version=\"1.0\" encoding=\"utf-8\"?>\n",
       "<svg xmlns=\"http://www.w3.org/2000/svg\" xmlns:xlink=\"http://www.w3.org/1999/xlink\" width=\"600\" height=\"400\" viewBox=\"0 0 600 400\">\n",
       "<defs>\n",
       "  <clipPath id=\"clip6800\">\n",
       "    <rect x=\"0\" y=\"0\" width=\"600\" height=\"400\"/>\n",
       "  </clipPath>\n",
       "</defs>\n",
       "<polygon clip-path=\"url(#clip6800)\" points=\"\n",
       "0,400 600,400 600,0 0,0 \n",
       "  \" fill=\"#ffffff\" fill-opacity=\"1\"/>\n",
       "<defs>\n",
       "  <clipPath id=\"clip6801\">\n",
       "    <rect x=\"120\" y=\"0\" width=\"421\" height=\"400\"/>\n",
       "  </clipPath>\n",
       "</defs>\n",
       "<polygon clip-path=\"url(#clip6800)\" points=\"\n",
       "51.5678,360.121 580.315,360.121 580.315,11.811 51.5678,11.811 \n",
       "  \" fill=\"#ffffff\" fill-opacity=\"1\"/>\n",
       "<defs>\n",
       "  <clipPath id=\"clip6802\">\n",
       "    <rect x=\"51\" y=\"11\" width=\"530\" height=\"349\"/>\n",
       "  </clipPath>\n",
       "</defs>\n",
       "<polyline clip-path=\"url(#clip6802)\" style=\"stroke:#000000; stroke-width:0.5; stroke-opacity:0.1; fill:none\" points=\"\n",
       "  110.318,360.121 110.318,11.811 \n",
       "  \"/>\n",
       "<polyline clip-path=\"url(#clip6802)\" style=\"stroke:#000000; stroke-width:0.5; stroke-opacity:0.1; fill:none\" points=\"\n",
       "  227.817,360.121 227.817,11.811 \n",
       "  \"/>\n",
       "<polyline clip-path=\"url(#clip6802)\" style=\"stroke:#000000; stroke-width:0.5; stroke-opacity:0.1; fill:none\" points=\"\n",
       "  345.316,360.121 345.316,11.811 \n",
       "  \"/>\n",
       "<polyline clip-path=\"url(#clip6802)\" style=\"stroke:#000000; stroke-width:0.5; stroke-opacity:0.1; fill:none\" points=\"\n",
       "  462.816,360.121 462.816,11.811 \n",
       "  \"/>\n",
       "<polyline clip-path=\"url(#clip6802)\" style=\"stroke:#000000; stroke-width:0.5; stroke-opacity:0.1; fill:none\" points=\"\n",
       "  580.315,360.121 580.315,11.811 \n",
       "  \"/>\n",
       "<polyline clip-path=\"url(#clip6802)\" style=\"stroke:#000000; stroke-width:0.5; stroke-opacity:0.1; fill:none\" points=\"\n",
       "  51.5678,338.979 580.315,338.979 \n",
       "  \"/>\n",
       "<polyline clip-path=\"url(#clip6802)\" style=\"stroke:#000000; stroke-width:0.5; stroke-opacity:0.1; fill:none\" points=\"\n",
       "  51.5678,286.95 580.315,286.95 \n",
       "  \"/>\n",
       "<polyline clip-path=\"url(#clip6802)\" style=\"stroke:#000000; stroke-width:0.5; stroke-opacity:0.1; fill:none\" points=\"\n",
       "  51.5678,234.922 580.315,234.922 \n",
       "  \"/>\n",
       "<polyline clip-path=\"url(#clip6802)\" style=\"stroke:#000000; stroke-width:0.5; stroke-opacity:0.1; fill:none\" points=\"\n",
       "  51.5678,182.893 580.315,182.893 \n",
       "  \"/>\n",
       "<polyline clip-path=\"url(#clip6802)\" style=\"stroke:#000000; stroke-width:0.5; stroke-opacity:0.1; fill:none\" points=\"\n",
       "  51.5678,130.865 580.315,130.865 \n",
       "  \"/>\n",
       "<polyline clip-path=\"url(#clip6802)\" style=\"stroke:#000000; stroke-width:0.5; stroke-opacity:0.1; fill:none\" points=\"\n",
       "  51.5678,78.8361 580.315,78.8361 \n",
       "  \"/>\n",
       "<polyline clip-path=\"url(#clip6802)\" style=\"stroke:#000000; stroke-width:0.5; stroke-opacity:0.1; fill:none\" points=\"\n",
       "  51.5678,26.8076 580.315,26.8076 \n",
       "  \"/>\n",
       "<polyline clip-path=\"url(#clip6800)\" style=\"stroke:#000000; stroke-width:1; stroke-opacity:1; fill:none\" points=\"\n",
       "  51.5678,360.121 580.315,360.121 \n",
       "  \"/>\n",
       "<polyline clip-path=\"url(#clip6800)\" style=\"stroke:#000000; stroke-width:1; stroke-opacity:1; fill:none\" points=\"\n",
       "  51.5678,360.121 51.5678,11.811 \n",
       "  \"/>\n",
       "<polyline clip-path=\"url(#clip6800)\" style=\"stroke:#000000; stroke-width:1; stroke-opacity:1; fill:none\" points=\"\n",
       "  110.318,360.121 110.318,354.896 \n",
       "  \"/>\n",
       "<polyline clip-path=\"url(#clip6800)\" style=\"stroke:#000000; stroke-width:1; stroke-opacity:1; fill:none\" points=\"\n",
       "  227.817,360.121 227.817,354.896 \n",
       "  \"/>\n",
       "<polyline clip-path=\"url(#clip6800)\" style=\"stroke:#000000; stroke-width:1; stroke-opacity:1; fill:none\" points=\"\n",
       "  345.316,360.121 345.316,354.896 \n",
       "  \"/>\n",
       "<polyline clip-path=\"url(#clip6800)\" style=\"stroke:#000000; stroke-width:1; stroke-opacity:1; fill:none\" points=\"\n",
       "  462.816,360.121 462.816,354.896 \n",
       "  \"/>\n",
       "<polyline clip-path=\"url(#clip6800)\" style=\"stroke:#000000; stroke-width:1; stroke-opacity:1; fill:none\" points=\"\n",
       "  580.315,360.121 580.315,354.896 \n",
       "  \"/>\n",
       "<polyline clip-path=\"url(#clip6800)\" style=\"stroke:#000000; stroke-width:1; stroke-opacity:1; fill:none\" points=\"\n",
       "  51.5678,338.979 59.499,338.979 \n",
       "  \"/>\n",
       "<polyline clip-path=\"url(#clip6800)\" style=\"stroke:#000000; stroke-width:1; stroke-opacity:1; fill:none\" points=\"\n",
       "  51.5678,286.95 59.499,286.95 \n",
       "  \"/>\n",
       "<polyline clip-path=\"url(#clip6800)\" style=\"stroke:#000000; stroke-width:1; stroke-opacity:1; fill:none\" points=\"\n",
       "  51.5678,234.922 59.499,234.922 \n",
       "  \"/>\n",
       "<polyline clip-path=\"url(#clip6800)\" style=\"stroke:#000000; stroke-width:1; stroke-opacity:1; fill:none\" points=\"\n",
       "  51.5678,182.893 59.499,182.893 \n",
       "  \"/>\n",
       "<polyline clip-path=\"url(#clip6800)\" style=\"stroke:#000000; stroke-width:1; stroke-opacity:1; fill:none\" points=\"\n",
       "  51.5678,130.865 59.499,130.865 \n",
       "  \"/>\n",
       "<polyline clip-path=\"url(#clip6800)\" style=\"stroke:#000000; stroke-width:1; stroke-opacity:1; fill:none\" points=\"\n",
       "  51.5678,78.8361 59.499,78.8361 \n",
       "  \"/>\n",
       "<polyline clip-path=\"url(#clip6800)\" style=\"stroke:#000000; stroke-width:1; stroke-opacity:1; fill:none\" points=\"\n",
       "  51.5678,26.8076 59.499,26.8076 \n",
       "  \"/>\n",
       "<g clip-path=\"url(#clip6800)\">\n",
       "<text style=\"fill:#000000; fill-opacity:1; font-family:Arial,Helvetica Neue,Helvetica,sans-serif; font-size:12; text-anchor:middle;\" transform=\"rotate(0, 110.318, 373.921)\" x=\"110.318\" y=\"373.921\">2</text>\n",
       "</g>\n",
       "<g clip-path=\"url(#clip6800)\">\n",
       "<text style=\"fill:#000000; fill-opacity:1; font-family:Arial,Helvetica Neue,Helvetica,sans-serif; font-size:12; text-anchor:middle;\" transform=\"rotate(0, 227.817, 373.921)\" x=\"227.817\" y=\"373.921\">4</text>\n",
       "</g>\n",
       "<g clip-path=\"url(#clip6800)\">\n",
       "<text style=\"fill:#000000; fill-opacity:1; font-family:Arial,Helvetica Neue,Helvetica,sans-serif; font-size:12; text-anchor:middle;\" transform=\"rotate(0, 345.316, 373.921)\" x=\"345.316\" y=\"373.921\">6</text>\n",
       "</g>\n",
       "<g clip-path=\"url(#clip6800)\">\n",
       "<text style=\"fill:#000000; fill-opacity:1; font-family:Arial,Helvetica Neue,Helvetica,sans-serif; font-size:12; text-anchor:middle;\" transform=\"rotate(0, 462.816, 373.921)\" x=\"462.816\" y=\"373.921\">8</text>\n",
       "</g>\n",
       "<g clip-path=\"url(#clip6800)\">\n",
       "<text style=\"fill:#000000; fill-opacity:1; font-family:Arial,Helvetica Neue,Helvetica,sans-serif; font-size:12; text-anchor:middle;\" transform=\"rotate(0, 580.315, 373.921)\" x=\"580.315\" y=\"373.921\">10</text>\n",
       "</g>\n",
       "<g clip-path=\"url(#clip6800)\">\n",
       "<text style=\"fill:#000000; fill-opacity:1; font-family:Arial,Helvetica Neue,Helvetica,sans-serif; font-size:12; text-anchor:end;\" transform=\"rotate(0, 45.5678, 343.479)\" x=\"45.5678\" y=\"343.479\">50</text>\n",
       "</g>\n",
       "<g clip-path=\"url(#clip6800)\">\n",
       "<text style=\"fill:#000000; fill-opacity:1; font-family:Arial,Helvetica Neue,Helvetica,sans-serif; font-size:12; text-anchor:end;\" transform=\"rotate(0, 45.5678, 291.45)\" x=\"45.5678\" y=\"291.45\">100</text>\n",
       "</g>\n",
       "<g clip-path=\"url(#clip6800)\">\n",
       "<text style=\"fill:#000000; fill-opacity:1; font-family:Arial,Helvetica Neue,Helvetica,sans-serif; font-size:12; text-anchor:end;\" transform=\"rotate(0, 45.5678, 239.422)\" x=\"45.5678\" y=\"239.422\">150</text>\n",
       "</g>\n",
       "<g clip-path=\"url(#clip6800)\">\n",
       "<text style=\"fill:#000000; fill-opacity:1; font-family:Arial,Helvetica Neue,Helvetica,sans-serif; font-size:12; text-anchor:end;\" transform=\"rotate(0, 45.5678, 187.393)\" x=\"45.5678\" y=\"187.393\">200</text>\n",
       "</g>\n",
       "<g clip-path=\"url(#clip6800)\">\n",
       "<text style=\"fill:#000000; fill-opacity:1; font-family:Arial,Helvetica Neue,Helvetica,sans-serif; font-size:12; text-anchor:end;\" transform=\"rotate(0, 45.5678, 135.365)\" x=\"45.5678\" y=\"135.365\">250</text>\n",
       "</g>\n",
       "<g clip-path=\"url(#clip6800)\">\n",
       "<text style=\"fill:#000000; fill-opacity:1; font-family:Arial,Helvetica Neue,Helvetica,sans-serif; font-size:12; text-anchor:end;\" transform=\"rotate(0, 45.5678, 83.3361)\" x=\"45.5678\" y=\"83.3361\">300</text>\n",
       "</g>\n",
       "<g clip-path=\"url(#clip6800)\">\n",
       "<text style=\"fill:#000000; fill-opacity:1; font-family:Arial,Helvetica Neue,Helvetica,sans-serif; font-size:12; text-anchor:end;\" transform=\"rotate(0, 45.5678, 31.3076)\" x=\"45.5678\" y=\"31.3076\">350</text>\n",
       "</g>\n",
       "<g clip-path=\"url(#clip6800)\">\n",
       "<text style=\"fill:#000000; fill-opacity:1; font-family:Arial,Helvetica Neue,Helvetica,sans-serif; font-size:16; text-anchor:middle;\" transform=\"rotate(0, 315.941, 397.6)\" x=\"315.941\" y=\"397.6\">Epochs</text>\n",
       "</g>\n",
       "<g clip-path=\"url(#clip6800)\">\n",
       "<text style=\"fill:#000000; fill-opacity:1; font-family:Arial,Helvetica Neue,Helvetica,sans-serif; font-size:16; text-anchor:middle;\" transform=\"rotate(-90, 14.4, 185.966)\" x=\"14.4\" y=\"185.966\">Loss</text>\n",
       "</g>\n",
       "<polyline clip-path=\"url(#clip6802)\" style=\"stroke:#009af9; stroke-width:1; stroke-opacity:1; fill:none\" points=\"\n",
       "  51.5678,11.811 110.318,141.099 169.067,222.454 227.817,274.296 286.567,307.408 345.316,328.589 404.066,342.163 462.816,350.88 521.565,356.493 580.315,360.121 \n",
       "  \n",
       "  \"/>\n",
       "<polygon clip-path=\"url(#clip6800)\" points=\"\n",
       "489.608,62.931 562.315,62.931 562.315,32.691 489.608,32.691 \n",
       "  \" fill=\"#ffffff\" fill-opacity=\"1\"/>\n",
       "<polyline clip-path=\"url(#clip6800)\" style=\"stroke:#000000; stroke-width:1; stroke-opacity:1; fill:none\" points=\"\n",
       "  489.608,62.931 562.315,62.931 562.315,32.691 489.608,32.691 489.608,62.931 \n",
       "  \"/>\n",
       "<polyline clip-path=\"url(#clip6800)\" style=\"stroke:#009af9; stroke-width:1; stroke-opacity:1; fill:none\" points=\"\n",
       "  495.608,47.811 531.608,47.811 \n",
       "  \"/>\n",
       "<g clip-path=\"url(#clip6800)\">\n",
       "<text style=\"fill:#000000; fill-opacity:1; font-family:Arial,Helvetica Neue,Helvetica,sans-serif; font-size:12; text-anchor:start;\" transform=\"rotate(0, 537.608, 52.311)\" x=\"537.608\" y=\"52.311\">y1</text>\n",
       "</g>\n",
       "</svg>\n"
      ]
     },
     "execution_count": 17,
     "metadata": {},
     "output_type": "execute_result"
    }
   ],
   "source": [
    "plot(losses,xlabel=\"Epochs\",ylabel=\"Loss\") "
   ]
  },
  {
   "cell_type": "markdown",
   "metadata": {},
   "source": [
    "# Load and minibatch MNIST data"
   ]
  },
  {
   "cell_type": "code",
   "execution_count": 18,
   "metadata": {},
   "outputs": [],
   "source": [
    "include(Knet.dir(\"data\",\"mnist.jl\"))\n",
    "xtrn,ytrn,xtst,ytst = mnist()\n",
    "Atype = gpu() >= 0 ? KnetArray{Float32} : Array{Float32}\n",
    "dtst = minibatch(xtst,ytst,100;xtype=Atype); # [ (x1,y1), (x2,y2), ... ] where xi,yi are minibatches of 100\n",
    "dtrn = minibatch(xtrn,ytrn,100;xtype=Atype); # [ (x1,y1), (x2,y2), ... ] where xi,yi are minibatches of 100"
   ]
  },
  {
   "cell_type": "code",
   "execution_count": 20,
   "metadata": {},
   "outputs": [
    {
     "data": {
      "text/plain": [
       "(600, 100)"
      ]
     },
     "execution_count": 20,
     "metadata": {},
     "output_type": "execute_result"
    }
   ],
   "source": [
    "# dtrn and dtst are iterables of (x,y) minibatches, each minibatch contains 100 instances\n",
    "length(dtrn),length(dtst)"
   ]
  },
  {
   "cell_type": "code",
   "execution_count": 22,
   "metadata": {},
   "outputs": [
    {
     "data": {
      "image/png": "[encoded data removed]",
      "text/plain": [
       "28×28 Array{Gray{Float32},2}:\n",
       " Gray{Float32}(0.0)  Gray{Float32}(0.0)  …  Gray{Float32}(0.0)\n",
       " Gray{Float32}(0.0)  Gray{Float32}(0.0)     Gray{Float32}(0.0)\n",
       " Gray{Float32}(0.0)  Gray{Float32}(0.0)     Gray{Float32}(0.0)\n",
       " Gray{Float32}(0.0)  Gray{Float32}(0.0)     Gray{Float32}(0.0)\n",
       " Gray{Float32}(0.0)  Gray{Float32}(0.0)     Gray{Float32}(0.0)\n",
       " Gray{Float32}(0.0)  Gray{Float32}(0.0)  …  Gray{Float32}(0.0)\n",
       " Gray{Float32}(0.0)  Gray{Float32}(0.0)     Gray{Float32}(0.0)\n",
       " Gray{Float32}(0.0)  Gray{Float32}(0.0)     Gray{Float32}(0.0)\n",
       " Gray{Float32}(0.0)  Gray{Float32}(0.0)     Gray{Float32}(0.0)\n",
       " Gray{Float32}(0.0)  Gray{Float32}(0.0)     Gray{Float32}(0.0)\n",
       " Gray{Float32}(0.0)  Gray{Float32}(0.0)  …  Gray{Float32}(0.0)\n",
       " Gray{Float32}(0.0)  Gray{Float32}(0.0)     Gray{Float32}(0.0)\n",
       " Gray{Float32}(0.0)  Gray{Float32}(0.0)     Gray{Float32}(0.0)\n",
       " ⋮                                       ⋱                    \n",
       " Gray{Float32}(0.0)  Gray{Float32}(0.0)     Gray{Float32}(0.0)\n",
       " Gray{Float32}(0.0)  Gray{Float32}(0.0)     Gray{Float32}(0.0)\n",
       " Gray{Float32}(0.0)  Gray{Float32}(0.0)     Gray{Float32}(0.0)\n",
       " Gray{Float32}(0.0)  Gray{Float32}(0.0)     Gray{Float32}(0.0)\n",
       " Gray{Float32}(0.0)  Gray{Float32}(0.0)  …  Gray{Float32}(0.0)\n",
       " Gray{Float32}(0.0)  Gray{Float32}(0.0)     Gray{Float32}(0.0)\n",
       " Gray{Float32}(0.0)  Gray{Float32}(0.0)     Gray{Float32}(0.0)\n",
       " Gray{Float32}(0.0)  Gray{Float32}(0.0)     Gray{Float32}(0.0)\n",
       " Gray{Float32}(0.0)  Gray{Float32}(0.0)     Gray{Float32}(0.0)\n",
       " Gray{Float32}(0.0)  Gray{Float32}(0.0)  …  Gray{Float32}(0.0)\n",
       " Gray{Float32}(0.0)  Gray{Float32}(0.0)     Gray{Float32}(0.0)\n",
       " Gray{Float32}(0.0)  Gray{Float32}(0.0)     Gray{Float32}(0.0)"
      ]
     },
     "metadata": {},
     "output_type": "display_data"
    },
    {
     "data": {
      "image/png": "[encoded data removed]",
      "text/plain": [
       "28×28 Array{Gray{Float32},2}:\n",
       " Gray{Float32}(0.0)  Gray{Float32}(0.0)  …  Gray{Float32}(0.0)\n",
       " Gray{Float32}(0.0)  Gray{Float32}(0.0)     Gray{Float32}(0.0)\n",
       " Gray{Float32}(0.0)  Gray{Float32}(0.0)     Gray{Float32}(0.0)\n",
       " Gray{Float32}(0.0)  Gray{Float32}(0.0)     Gray{Float32}(0.0)\n",
       " Gray{Float32}(0.0)  Gray{Float32}(0.0)     Gray{Float32}(0.0)\n",
       " Gray{Float32}(0.0)  Gray{Float32}(0.0)  …  Gray{Float32}(0.0)\n",
       " Gray{Float32}(0.0)  Gray{Float32}(0.0)     Gray{Float32}(0.0)\n",
       " Gray{Float32}(0.0)  Gray{Float32}(0.0)     Gray{Float32}(0.0)\n",
       " Gray{Float32}(0.0)  Gray{Float32}(0.0)     Gray{Float32}(0.0)\n",
       " Gray{Float32}(0.0)  Gray{Float32}(0.0)     Gray{Float32}(0.0)\n",
       " Gray{Float32}(0.0)  Gray{Float32}(0.0)  …  Gray{Float32}(0.0)\n",
       " Gray{Float32}(0.0)  Gray{Float32}(0.0)     Gray{Float32}(0.0)\n",
       " Gray{Float32}(0.0)  Gray{Float32}(0.0)     Gray{Float32}(0.0)\n",
       " ⋮                                       ⋱                    \n",
       " Gray{Float32}(0.0)  Gray{Float32}(0.0)     Gray{Float32}(0.0)\n",
       " Gray{Float32}(0.0)  Gray{Float32}(0.0)     Gray{Float32}(0.0)\n",
       " Gray{Float32}(0.0)  Gray{Float32}(0.0)     Gray{Float32}(0.0)\n",
       " Gray{Float32}(0.0)  Gray{Float32}(0.0)     Gray{Float32}(0.0)\n",
       " Gray{Float32}(0.0)  Gray{Float32}(0.0)  …  Gray{Float32}(0.0)\n",
       " Gray{Float32}(0.0)  Gray{Float32}(0.0)     Gray{Float32}(0.0)\n",
       " Gray{Float32}(0.0)  Gray{Float32}(0.0)     Gray{Float32}(0.0)\n",
       " Gray{Float32}(0.0)  Gray{Float32}(0.0)     Gray{Float32}(0.0)\n",
       " Gray{Float32}(0.0)  Gray{Float32}(0.0)     Gray{Float32}(0.0)\n",
       " Gray{Float32}(0.0)  Gray{Float32}(0.0)  …  Gray{Float32}(0.0)\n",
       " Gray{Float32}(0.0)  Gray{Float32}(0.0)     Gray{Float32}(0.0)\n",
       " Gray{Float32}(0.0)  Gray{Float32}(0.0)     Gray{Float32}(0.0)"
      ]
     },
     "metadata": {},
     "output_type": "display_data"
    },
    {
     "data": {
      "image/png": "[encoded data removed]",
      "text/plain": [
       "28×28 Array{Gray{Float32},2}:\n",
       " Gray{Float32}(0.0)  Gray{Float32}(0.0)  …  Gray{Float32}(0.0)\n",
       " Gray{Float32}(0.0)  Gray{Float32}(0.0)     Gray{Float32}(0.0)\n",
       " Gray{Float32}(0.0)  Gray{Float32}(0.0)     Gray{Float32}(0.0)\n",
       " Gray{Float32}(0.0)  Gray{Float32}(0.0)     Gray{Float32}(0.0)\n",
       " Gray{Float32}(0.0)  Gray{Float32}(0.0)     Gray{Float32}(0.0)\n",
       " Gray{Float32}(0.0)  Gray{Float32}(0.0)  …  Gray{Float32}(0.0)\n",
       " Gray{Float32}(0.0)  Gray{Float32}(0.0)     Gray{Float32}(0.0)\n",
       " Gray{Float32}(0.0)  Gray{Float32}(0.0)     Gray{Float32}(0.0)\n",
       " Gray{Float32}(0.0)  Gray{Float32}(0.0)     Gray{Float32}(0.0)\n",
       " Gray{Float32}(0.0)  Gray{Float32}(0.0)     Gray{Float32}(0.0)\n",
       " Gray{Float32}(0.0)  Gray{Float32}(0.0)  …  Gray{Float32}(0.0)\n",
       " Gray{Float32}(0.0)  Gray{Float32}(0.0)     Gray{Float32}(0.0)\n",
       " Gray{Float32}(0.0)  Gray{Float32}(0.0)     Gray{Float32}(0.0)\n",
       " ⋮                                       ⋱                    \n",
       " Gray{Float32}(0.0)  Gray{Float32}(0.0)     Gray{Float32}(0.0)\n",
       " Gray{Float32}(0.0)  Gray{Float32}(0.0)     Gray{Float32}(0.0)\n",
       " Gray{Float32}(0.0)  Gray{Float32}(0.0)     Gray{Float32}(0.0)\n",
       " Gray{Float32}(0.0)  Gray{Float32}(0.0)     Gray{Float32}(0.0)\n",
       " Gray{Float32}(0.0)  Gray{Float32}(0.0)  …  Gray{Float32}(0.0)\n",
       " Gray{Float32}(0.0)  Gray{Float32}(0.0)     Gray{Float32}(0.0)\n",
       " Gray{Float32}(0.0)  Gray{Float32}(0.0)     Gray{Float32}(0.0)\n",
       " Gray{Float32}(0.0)  Gray{Float32}(0.0)     Gray{Float32}(0.0)\n",
       " Gray{Float32}(0.0)  Gray{Float32}(0.0)     Gray{Float32}(0.0)\n",
       " Gray{Float32}(0.0)  Gray{Float32}(0.0)  …  Gray{Float32}(0.0)\n",
       " Gray{Float32}(0.0)  Gray{Float32}(0.0)     Gray{Float32}(0.0)\n",
       " Gray{Float32}(0.0)  Gray{Float32}(0.0)     Gray{Float32}(0.0)"
      ]
     },
     "metadata": {},
     "output_type": "display_data"
    },
    {
     "data": {
      "text/plain": [
       "3-element Array{UInt8,1}:\n",
       " 0x07\n",
       " 0x02\n",
       " 0x01"
      ]
     },
     "execution_count": 22,
     "metadata": {},
     "output_type": "execute_result"
    }
   ],
   "source": [
    "# Take a look at the first three test images and labels\n",
    "(x,y) = first(dtst)\n",
    "ax = Array(x)\n",
    "for i=1:3; display(mnistview(ax,i)); end\n",
    "y[1:3]"
   ]
  },
  {
   "cell_type": "markdown",
   "metadata": {},
   "source": [
    "# Softmax classification example with MNIST"
   ]
  },
  {
   "cell_type": "markdown",
   "metadata": {},
   "source": [
    "## Define softmax loss"
   ]
  },
  {
   "cell_type": "code",
   "execution_count": 27,
   "metadata": {},
   "outputs": [],
   "source": [
    "# Define loss\n",
    "predict(w,x) = w[1]*mat(x) .+ w[2]  # Same as linreg except we need mat() to convert input 4D->2D before matmul\n",
    "loss(w,x,ygold) = nll(predict(w,x),ygold); # nll is negative log likelihood"
   ]
  },
  {
   "cell_type": "code",
   "execution_count": 28,
   "metadata": {},
   "outputs": [],
   "source": [
    "# Initialize model\n",
    "wsoft=map(Atype, [ 0.1*randn(10,784), zeros(10,1) ]);"
   ]
  },
  {
   "cell_type": "code",
   "execution_count": 30,
   "metadata": {},
   "outputs": [
    {
     "data": {
      "text/plain": [
       "2.830448f0"
      ]
     },
     "execution_count": 30,
     "metadata": {},
     "output_type": "execute_result"
    }
   ],
   "source": [
    "# Average loss for a single (x,y) minibatch\n",
    "loss(wsoft, x, y)"
   ]
  },
  {
   "cell_type": "code",
   "execution_count": 31,
   "metadata": {},
   "outputs": [
    {
     "data": {
      "text/plain": [
       "2.8376572f0"
      ]
     },
     "execution_count": 31,
     "metadata": {},
     "output_type": "execute_result"
    }
   ],
   "source": [
    "# Average loss for the whole test set\n",
    "nll(wsoft,dtst,predict)"
   ]
  },
  {
   "cell_type": "code",
   "execution_count": 32,
   "metadata": {},
   "outputs": [
    {
     "data": {
      "text/plain": [
       "0.0407"
      ]
     },
     "execution_count": 32,
     "metadata": {},
     "output_type": "execute_result"
    }
   ],
   "source": [
    "# Accuracy for the whole test set\n",
    "accuracy(wsoft,dtst,predict)"
   ]
  },
  {
   "cell_type": "markdown",
   "metadata": {},
   "source": [
    "## Train softmax model"
   ]
  },
  {
   "cell_type": "code",
   "execution_count": 33,
   "metadata": {},
   "outputs": [
    {
     "name": "stdout",
     "output_type": "stream",
     "text": [
      " 27.146815 seconds (23.55 M allocations: 19.056 GiB, 6.95% gc time)\n"
     ]
    }
   ],
   "source": [
    "@time softmodels = [ copy(train!(wsoft, dtrn)) for epoch=1:60 ];  # ~17 seconds"
   ]
  },
  {
   "cell_type": "markdown",
   "metadata": {},
   "source": [
    "## Plot softmax learning curve"
   ]
  },
  {
   "cell_type": "code",
   "execution_count": 34,
   "metadata": {},
   "outputs": [
    {
     "name": "stdout",
     "output_type": "stream",
     "text": [
      "  7.467384 seconds (5.20 M allocations: 11.492 GiB, 13.65% gc time)\n",
      "  1.332153 seconds (874.87 k allocations: 1.916 GiB, 13.19% gc time)\n"
     ]
    }
   ],
   "source": [
    "@time trnsoftloss = [ nll(w,dtrn,predict) for w in softmodels ];  # ~13 seconds\n",
    "@time tstsoftloss = [ nll(w,dtst,predict) for w in softmodels ];  # ~2 seconds"
   ]
  },
  {
   "cell_type": "code",
   "execution_count": 36,
   "metadata": {},
   "outputs": [
    {
     "data": {
      "image/svg+xml": [
       "<?xml version=\"1.0\" encoding=\"utf-8\"?>\n",
       "<svg xmlns=\"http://www.w3.org/2000/svg\" xmlns:xlink=\"http://www.w3.org/1999/xlink\" width=\"600\" height=\"400\" viewBox=\"0 0 600 400\">\n",
       "<defs>\n",
       "  <clipPath id=\"clip7200\">\n",
       "    <rect x=\"0\" y=\"0\" width=\"600\" height=\"400\"/>\n",
       "  </clipPath>\n",
       "</defs>\n",
       "<polygon clip-path=\"url(#clip7200)\" points=\"\n",
       "0,400 600,400 600,0 0,0 \n",
       "  \" fill=\"#ffffff\" fill-opacity=\"1\"/>\n",
       "<defs>\n",
       "  <clipPath id=\"clip7201\">\n",
       "    <rect x=\"120\" y=\"0\" width=\"421\" height=\"400\"/>\n",
       "  </clipPath>\n",
       "</defs>\n",
       "<polygon clip-path=\"url(#clip7200)\" points=\"\n",
       "54.9131,360.121 580.315,360.121 580.315,11.811 54.9131,11.811 \n",
       "  \" fill=\"#ffffff\" fill-opacity=\"1\"/>\n",
       "<defs>\n",
       "  <clipPath id=\"clip7202\">\n",
       "    <rect x=\"54\" y=\"11\" width=\"526\" height=\"349\"/>\n",
       "  </clipPath>\n",
       "</defs>\n",
       "<polyline clip-path=\"url(#clip7202)\" style=\"stroke:#000000; stroke-width:0.5; stroke-opacity:0.1; fill:none\" points=\"\n",
       "  135.059,360.121 135.059,11.811 \n",
       "  \"/>\n",
       "<polyline clip-path=\"url(#clip7202)\" style=\"stroke:#000000; stroke-width:0.5; stroke-opacity:0.1; fill:none\" points=\"\n",
       "  224.11,360.121 224.11,11.811 \n",
       "  \"/>\n",
       "<polyline clip-path=\"url(#clip7202)\" style=\"stroke:#000000; stroke-width:0.5; stroke-opacity:0.1; fill:none\" points=\"\n",
       "  313.161,360.121 313.161,11.811 \n",
       "  \"/>\n",
       "<polyline clip-path=\"url(#clip7202)\" style=\"stroke:#000000; stroke-width:0.5; stroke-opacity:0.1; fill:none\" points=\"\n",
       "  402.213,360.121 402.213,11.811 \n",
       "  \"/>\n",
       "<polyline clip-path=\"url(#clip7202)\" style=\"stroke:#000000; stroke-width:0.5; stroke-opacity:0.1; fill:none\" points=\"\n",
       "  491.264,360.121 491.264,11.811 \n",
       "  \"/>\n",
       "<polyline clip-path=\"url(#clip7202)\" style=\"stroke:#000000; stroke-width:0.5; stroke-opacity:0.1; fill:none\" points=\"\n",
       "  580.315,360.121 580.315,11.811 \n",
       "  \"/>\n",
       "<polyline clip-path=\"url(#clip7202)\" style=\"stroke:#000000; stroke-width:0.5; stroke-opacity:0.1; fill:none\" points=\"\n",
       "  54.9131,360.121 580.315,360.121 \n",
       "  \"/>\n",
       "<polyline clip-path=\"url(#clip7202)\" style=\"stroke:#000000; stroke-width:0.5; stroke-opacity:0.1; fill:none\" points=\"\n",
       "  54.9131,251.274 580.315,251.274 \n",
       "  \"/>\n",
       "<polyline clip-path=\"url(#clip7202)\" style=\"stroke:#000000; stroke-width:0.5; stroke-opacity:0.1; fill:none\" points=\"\n",
       "  54.9131,142.427 580.315,142.427 \n",
       "  \"/>\n",
       "<polyline clip-path=\"url(#clip7202)\" style=\"stroke:#000000; stroke-width:0.5; stroke-opacity:0.1; fill:none\" points=\"\n",
       "  54.9131,33.5804 580.315,33.5804 \n",
       "  \"/>\n",
       "<polyline clip-path=\"url(#clip7200)\" style=\"stroke:#000000; stroke-width:1; stroke-opacity:1; fill:none\" points=\"\n",
       "  54.9131,360.121 580.315,360.121 \n",
       "  \"/>\n",
       "<polyline clip-path=\"url(#clip7200)\" style=\"stroke:#000000; stroke-width:1; stroke-opacity:1; fill:none\" points=\"\n",
       "  54.9131,360.121 54.9131,11.811 \n",
       "  \"/>\n",
       "<polyline clip-path=\"url(#clip7200)\" style=\"stroke:#000000; stroke-width:1; stroke-opacity:1; fill:none\" points=\"\n",
       "  135.059,360.121 135.059,354.896 \n",
       "  \"/>\n",
       "<polyline clip-path=\"url(#clip7200)\" style=\"stroke:#000000; stroke-width:1; stroke-opacity:1; fill:none\" points=\"\n",
       "  224.11,360.121 224.11,354.896 \n",
       "  \"/>\n",
       "<polyline clip-path=\"url(#clip7200)\" style=\"stroke:#000000; stroke-width:1; stroke-opacity:1; fill:none\" points=\"\n",
       "  313.161,360.121 313.161,354.896 \n",
       "  \"/>\n",
       "<polyline clip-path=\"url(#clip7200)\" style=\"stroke:#000000; stroke-width:1; stroke-opacity:1; fill:none\" points=\"\n",
       "  402.213,360.121 402.213,354.896 \n",
       "  \"/>\n",
       "<polyline clip-path=\"url(#clip7200)\" style=\"stroke:#000000; stroke-width:1; stroke-opacity:1; fill:none\" points=\"\n",
       "  491.264,360.121 491.264,354.896 \n",
       "  \"/>\n",
       "<polyline clip-path=\"url(#clip7200)\" style=\"stroke:#000000; stroke-width:1; stroke-opacity:1; fill:none\" points=\"\n",
       "  580.315,360.121 580.315,354.896 \n",
       "  \"/>\n",
       "<polyline clip-path=\"url(#clip7200)\" style=\"stroke:#000000; stroke-width:1; stroke-opacity:1; fill:none\" points=\"\n",
       "  54.9131,360.121 62.7941,360.121 \n",
       "  \"/>\n",
       "<polyline clip-path=\"url(#clip7200)\" style=\"stroke:#000000; stroke-width:1; stroke-opacity:1; fill:none\" points=\"\n",
       "  54.9131,251.274 62.7941,251.274 \n",
       "  \"/>\n",
       "<polyline clip-path=\"url(#clip7200)\" style=\"stroke:#000000; stroke-width:1; stroke-opacity:1; fill:none\" points=\"\n",
       "  54.9131,142.427 62.7941,142.427 \n",
       "  \"/>\n",
       "<polyline clip-path=\"url(#clip7200)\" style=\"stroke:#000000; stroke-width:1; stroke-opacity:1; fill:none\" points=\"\n",
       "  54.9131,33.5804 62.7941,33.5804 \n",
       "  \"/>\n",
       "<g clip-path=\"url(#clip7200)\">\n",
       "<text style=\"fill:#000000; fill-opacity:1; font-family:Arial,Helvetica Neue,Helvetica,sans-serif; font-size:12; text-anchor:middle;\" transform=\"rotate(0, 135.059, 373.921)\" x=\"135.059\" y=\"373.921\">10</text>\n",
       "</g>\n",
       "<g clip-path=\"url(#clip7200)\">\n",
       "<text style=\"fill:#000000; fill-opacity:1; font-family:Arial,Helvetica Neue,Helvetica,sans-serif; font-size:12; text-anchor:middle;\" transform=\"rotate(0, 224.11, 373.921)\" x=\"224.11\" y=\"373.921\">20</text>\n",
       "</g>\n",
       "<g clip-path=\"url(#clip7200)\">\n",
       "<text style=\"fill:#000000; fill-opacity:1; font-family:Arial,Helvetica Neue,Helvetica,sans-serif; font-size:12; text-anchor:middle;\" transform=\"rotate(0, 313.161, 373.921)\" x=\"313.161\" y=\"373.921\">30</text>\n",
       "</g>\n",
       "<g clip-path=\"url(#clip7200)\">\n",
       "<text style=\"fill:#000000; fill-opacity:1; font-family:Arial,Helvetica Neue,Helvetica,sans-serif; font-size:12; text-anchor:middle;\" transform=\"rotate(0, 402.213, 373.921)\" x=\"402.213\" y=\"373.921\">40</text>\n",
       "</g>\n",
       "<g clip-path=\"url(#clip7200)\">\n",
       "<text style=\"fill:#000000; fill-opacity:1; font-family:Arial,Helvetica Neue,Helvetica,sans-serif; font-size:12; text-anchor:middle;\" transform=\"rotate(0, 491.264, 373.921)\" x=\"491.264\" y=\"373.921\">50</text>\n",
       "</g>\n",
       "<g clip-path=\"url(#clip7200)\">\n",
       "<text style=\"fill:#000000; fill-opacity:1; font-family:Arial,Helvetica Neue,Helvetica,sans-serif; font-size:12; text-anchor:middle;\" transform=\"rotate(0, 580.315, 373.921)\" x=\"580.315\" y=\"373.921\">60</text>\n",
       "</g>\n",
       "<g clip-path=\"url(#clip7200)\">\n",
       "<text style=\"fill:#000000; fill-opacity:1; font-family:Arial,Helvetica Neue,Helvetica,sans-serif; font-size:12; text-anchor:end;\" transform=\"rotate(0, 48.9131, 364.621)\" x=\"48.9131\" y=\"364.621\">0.20</text>\n",
       "</g>\n",
       "<g clip-path=\"url(#clip7200)\">\n",
       "<text style=\"fill:#000000; fill-opacity:1; font-family:Arial,Helvetica Neue,Helvetica,sans-serif; font-size:12; text-anchor:end;\" transform=\"rotate(0, 48.9131, 255.774)\" x=\"48.9131\" y=\"255.774\">0.25</text>\n",
       "</g>\n",
       "<g clip-path=\"url(#clip7200)\">\n",
       "<text style=\"fill:#000000; fill-opacity:1; font-family:Arial,Helvetica Neue,Helvetica,sans-serif; font-size:12; text-anchor:end;\" transform=\"rotate(0, 48.9131, 146.927)\" x=\"48.9131\" y=\"146.927\">0.30</text>\n",
       "</g>\n",
       "<g clip-path=\"url(#clip7200)\">\n",
       "<text style=\"fill:#000000; fill-opacity:1; font-family:Arial,Helvetica Neue,Helvetica,sans-serif; font-size:12; text-anchor:end;\" transform=\"rotate(0, 48.9131, 38.0804)\" x=\"48.9131\" y=\"38.0804\">0.35</text>\n",
       "</g>\n",
       "<g clip-path=\"url(#clip7200)\">\n",
       "<text style=\"fill:#000000; fill-opacity:1; font-family:Arial,Helvetica Neue,Helvetica,sans-serif; font-size:16; text-anchor:middle;\" transform=\"rotate(0, 317.614, 397.6)\" x=\"317.614\" y=\"397.6\">Epochs</text>\n",
       "</g>\n",
       "<g clip-path=\"url(#clip7200)\">\n",
       "<text style=\"fill:#000000; fill-opacity:1; font-family:Arial,Helvetica Neue,Helvetica,sans-serif; font-size:16; text-anchor:middle;\" transform=\"rotate(-90, 14.4, 185.966)\" x=\"14.4\" y=\"185.966\">Loss</text>\n",
       "</g>\n",
       "<polyline clip-path=\"url(#clip7202)\" style=\"stroke:#009af9; stroke-width:1; stroke-opacity:1; fill:none\" points=\"\n",
       "  54.9131,-52.8522 63.8182,44.5794 72.7233,87.8684 81.6285,113.886 90.5336,131.782 99.4387,145.099 108.344,155.536 117.249,164.026 126.154,171.124 135.059,177.187 \n",
       "  143.964,182.455 152.869,187.095 161.775,191.229 170.68,194.949 179.585,198.322 188.49,201.404 197.395,204.236 206.3,206.854 215.205,209.285 224.11,211.552 \n",
       "  233.015,213.674 241.921,215.667 250.826,217.545 259.731,219.32 268.636,221.002 277.541,222.598 286.446,224.118 295.351,225.567 304.256,226.95 313.161,228.275 \n",
       "  322.067,229.545 330.972,230.762 339.877,231.933 348.782,233.06 357.687,234.145 366.592,235.193 375.497,236.204 384.402,237.181 393.308,238.127 402.213,239.042 \n",
       "  411.118,239.928 420.023,240.789 428.928,241.624 437.833,242.435 446.738,243.223 455.643,243.99 464.548,244.735 473.454,245.462 482.359,246.17 491.264,246.859 \n",
       "  500.169,247.532 509.074,248.188 517.979,248.829 526.884,249.455 535.789,250.066 544.694,250.664 553.6,251.248 562.505,251.82 571.41,252.38 580.315,252.927 \n",
       "  \n",
       "  \"/>\n",
       "<polyline clip-path=\"url(#clip7202)\" style=\"stroke:#e26f46; stroke-width:1; stroke-opacity:1; fill:none\" points=\"\n",
       "  54.9131,-8.64061 63.8182,79.3488 72.7233,115.714 81.6285,136.301 90.5336,149.737 99.4387,159.27 108.344,166.423 117.249,172.01 126.154,176.508 135.059,180.217 \n",
       "  143.964,183.334 152.869,185.995 161.775,188.295 170.68,190.307 179.585,192.081 188.49,193.659 197.395,195.073 206.3,196.346 215.205,197.5 224.11,198.55 \n",
       "  233.015,199.511 241.921,200.391 250.826,201.202 259.731,201.952 268.636,202.645 277.541,203.289 286.446,203.888 295.351,204.447 304.256,204.969 313.161,205.458 \n",
       "  322.067,205.916 330.972,206.345 339.877,206.749 348.782,207.13 357.687,207.488 366.592,207.826 375.497,208.145 384.402,208.446 393.308,208.731 402.213,209 \n",
       "  411.118,209.255 420.023,209.497 428.928,209.726 437.833,209.942 446.738,210.148 455.643,210.343 464.548,210.528 473.454,210.703 482.359,210.87 491.264,211.028 \n",
       "  500.169,211.178 509.074,211.32 517.979,211.455 526.884,211.583 535.789,211.704 544.694,211.82 553.6,211.929 562.505,212.032 571.41,212.13 580.315,212.222 \n",
       "  \n",
       "  \"/>\n",
       "<polygon clip-path=\"url(#clip7200)\" points=\"\n",
       "447.479,78.051 562.315,78.051 562.315,32.691 447.479,32.691 \n",
       "  \" fill=\"#ffffff\" fill-opacity=\"1\"/>\n",
       "<polyline clip-path=\"url(#clip7200)\" style=\"stroke:#000000; stroke-width:1; stroke-opacity:1; fill:none\" points=\"\n",
       "  447.479,78.051 562.315,78.051 562.315,32.691 447.479,32.691 447.479,78.051 \n",
       "  \"/>\n",
       "<polyline clip-path=\"url(#clip7200)\" style=\"stroke:#009af9; stroke-width:1; stroke-opacity:1; fill:none\" points=\"\n",
       "  453.479,47.811 489.479,47.811 \n",
       "  \"/>\n",
       "<g clip-path=\"url(#clip7200)\">\n",
       "<text style=\"fill:#000000; fill-opacity:1; font-family:Arial,Helvetica Neue,Helvetica,sans-serif; font-size:12; text-anchor:start;\" transform=\"rotate(0, 495.479, 52.311)\" x=\"495.479\" y=\"52.311\">trnsoftloss</text>\n",
       "</g>\n",
       "<polyline clip-path=\"url(#clip7200)\" style=\"stroke:#e26f46; stroke-width:1; stroke-opacity:1; fill:none\" points=\"\n",
       "  453.479,62.931 489.479,62.931 \n",
       "  \"/>\n",
       "<g clip-path=\"url(#clip7200)\">\n",
       "<text style=\"fill:#000000; fill-opacity:1; font-family:Arial,Helvetica Neue,Helvetica,sans-serif; font-size:12; text-anchor:start;\" transform=\"rotate(0, 495.479, 67.431)\" x=\"495.479\" y=\"67.431\">tstsoftloss</text>\n",
       "</g>\n",
       "</svg>\n"
      ]
     },
     "execution_count": 36,
     "metadata": {},
     "output_type": "execute_result"
    }
   ],
   "source": [
    "plot([trnsoftloss tstsoftloss],ylim=(.2,.36),labels=[:trnsoftloss :tstsoftloss],xlabel=\"Epochs\",ylabel=\"Loss\") "
   ]
  },
  {
   "cell_type": "markdown",
   "metadata": {},
   "source": [
    "## Plot softmax error rate"
   ]
  },
  {
   "cell_type": "code",
   "execution_count": 37,
   "metadata": {},
   "outputs": [
    {
     "name": "stdout",
     "output_type": "stream",
     "text": [
      "  6.153225 seconds (3.33 M allocations: 11.134 GiB, 15.74% gc time)\n",
      "  1.062067 seconds (562.73 k allocations: 1.856 GiB, 15.49% gc time)\n"
     ]
    }
   ],
   "source": [
    "@time trnsofterr = [ 1-accuracy(w,dtrn,predict) for w in softmodels ];  # ~12 seconds\n",
    "@time tstsofterr = [ 1-accuracy(w,dtst,predict) for w in softmodels ];  # ~2 seconds"
   ]
  },
  {
   "cell_type": "code",
   "execution_count": 39,
   "metadata": {
    "scrolled": true
   },
   "outputs": [
    {
     "data": {
      "image/svg+xml": [
       "<?xml version=\"1.0\" encoding=\"utf-8\"?>\n",
       "<svg xmlns=\"http://www.w3.org/2000/svg\" xmlns:xlink=\"http://www.w3.org/1999/xlink\" width=\"600\" height=\"400\" viewBox=\"0 0 600 400\">\n",
       "<defs>\n",
       "  <clipPath id=\"clip7600\">\n",
       "    <rect x=\"0\" y=\"0\" width=\"600\" height=\"400\"/>\n",
       "  </clipPath>\n",
       "</defs>\n",
       "<polygon clip-path=\"url(#clip7600)\" points=\"\n",
       "0,400 600,400 600,0 0,0 \n",
       "  \" fill=\"#ffffff\" fill-opacity=\"1\"/>\n",
       "<defs>\n",
       "  <clipPath id=\"clip7601\">\n",
       "    <rect x=\"120\" y=\"0\" width=\"421\" height=\"400\"/>\n",
       "  </clipPath>\n",
       "</defs>\n",
       "<polygon clip-path=\"url(#clip7600)\" points=\"\n",
       "54.9131,360.121 580.315,360.121 580.315,11.811 54.9131,11.811 \n",
       "  \" fill=\"#ffffff\" fill-opacity=\"1\"/>\n",
       "<defs>\n",
       "  <clipPath id=\"clip7602\">\n",
       "    <rect x=\"54\" y=\"11\" width=\"526\" height=\"349\"/>\n",
       "  </clipPath>\n",
       "</defs>\n",
       "<polyline clip-path=\"url(#clip7602)\" style=\"stroke:#000000; stroke-width:0.5; stroke-opacity:0.1; fill:none\" points=\"\n",
       "  135.059,360.121 135.059,11.811 \n",
       "  \"/>\n",
       "<polyline clip-path=\"url(#clip7602)\" style=\"stroke:#000000; stroke-width:0.5; stroke-opacity:0.1; fill:none\" points=\"\n",
       "  224.11,360.121 224.11,11.811 \n",
       "  \"/>\n",
       "<polyline clip-path=\"url(#clip7602)\" style=\"stroke:#000000; stroke-width:0.5; stroke-opacity:0.1; fill:none\" points=\"\n",
       "  313.161,360.121 313.161,11.811 \n",
       "  \"/>\n",
       "<polyline clip-path=\"url(#clip7602)\" style=\"stroke:#000000; stroke-width:0.5; stroke-opacity:0.1; fill:none\" points=\"\n",
       "  402.213,360.121 402.213,11.811 \n",
       "  \"/>\n",
       "<polyline clip-path=\"url(#clip7602)\" style=\"stroke:#000000; stroke-width:0.5; stroke-opacity:0.1; fill:none\" points=\"\n",
       "  491.264,360.121 491.264,11.811 \n",
       "  \"/>\n",
       "<polyline clip-path=\"url(#clip7602)\" style=\"stroke:#000000; stroke-width:0.5; stroke-opacity:0.1; fill:none\" points=\"\n",
       "  580.315,360.121 580.315,11.811 \n",
       "  \"/>\n",
       "<polyline clip-path=\"url(#clip7602)\" style=\"stroke:#000000; stroke-width:0.5; stroke-opacity:0.1; fill:none\" points=\"\n",
       "  54.9131,360.121 580.315,360.121 \n",
       "  \"/>\n",
       "<polyline clip-path=\"url(#clip7602)\" style=\"stroke:#000000; stroke-width:0.5; stroke-opacity:0.1; fill:none\" points=\"\n",
       "  54.9131,273.043 580.315,273.043 \n",
       "  \"/>\n",
       "<polyline clip-path=\"url(#clip7602)\" style=\"stroke:#000000; stroke-width:0.5; stroke-opacity:0.1; fill:none\" points=\"\n",
       "  54.9131,185.966 580.315,185.966 \n",
       "  \"/>\n",
       "<polyline clip-path=\"url(#clip7602)\" style=\"stroke:#000000; stroke-width:0.5; stroke-opacity:0.1; fill:none\" points=\"\n",
       "  54.9131,98.8884 580.315,98.8884 \n",
       "  \"/>\n",
       "<polyline clip-path=\"url(#clip7602)\" style=\"stroke:#000000; stroke-width:0.5; stroke-opacity:0.1; fill:none\" points=\"\n",
       "  54.9131,11.811 580.315,11.811 \n",
       "  \"/>\n",
       "<polyline clip-path=\"url(#clip7600)\" style=\"stroke:#000000; stroke-width:1; stroke-opacity:1; fill:none\" points=\"\n",
       "  54.9131,360.121 580.315,360.121 \n",
       "  \"/>\n",
       "<polyline clip-path=\"url(#clip7600)\" style=\"stroke:#000000; stroke-width:1; stroke-opacity:1; fill:none\" points=\"\n",
       "  54.9131,360.121 54.9131,11.811 \n",
       "  \"/>\n",
       "<polyline clip-path=\"url(#clip7600)\" style=\"stroke:#000000; stroke-width:1; stroke-opacity:1; fill:none\" points=\"\n",
       "  135.059,360.121 135.059,354.896 \n",
       "  \"/>\n",
       "<polyline clip-path=\"url(#clip7600)\" style=\"stroke:#000000; stroke-width:1; stroke-opacity:1; fill:none\" points=\"\n",
       "  224.11,360.121 224.11,354.896 \n",
       "  \"/>\n",
       "<polyline clip-path=\"url(#clip7600)\" style=\"stroke:#000000; stroke-width:1; stroke-opacity:1; fill:none\" points=\"\n",
       "  313.161,360.121 313.161,354.896 \n",
       "  \"/>\n",
       "<polyline clip-path=\"url(#clip7600)\" style=\"stroke:#000000; stroke-width:1; stroke-opacity:1; fill:none\" points=\"\n",
       "  402.213,360.121 402.213,354.896 \n",
       "  \"/>\n",
       "<polyline clip-path=\"url(#clip7600)\" style=\"stroke:#000000; stroke-width:1; stroke-opacity:1; fill:none\" points=\"\n",
       "  491.264,360.121 491.264,354.896 \n",
       "  \"/>\n",
       "<polyline clip-path=\"url(#clip7600)\" style=\"stroke:#000000; stroke-width:1; stroke-opacity:1; fill:none\" points=\"\n",
       "  580.315,360.121 580.315,354.896 \n",
       "  \"/>\n",
       "<polyline clip-path=\"url(#clip7600)\" style=\"stroke:#000000; stroke-width:1; stroke-opacity:1; fill:none\" points=\"\n",
       "  54.9131,360.121 62.7941,360.121 \n",
       "  \"/>\n",
       "<polyline clip-path=\"url(#clip7600)\" style=\"stroke:#000000; stroke-width:1; stroke-opacity:1; fill:none\" points=\"\n",
       "  54.9131,273.043 62.7941,273.043 \n",
       "  \"/>\n",
       "<polyline clip-path=\"url(#clip7600)\" style=\"stroke:#000000; stroke-width:1; stroke-opacity:1; fill:none\" points=\"\n",
       "  54.9131,185.966 62.7941,185.966 \n",
       "  \"/>\n",
       "<polyline clip-path=\"url(#clip7600)\" style=\"stroke:#000000; stroke-width:1; stroke-opacity:1; fill:none\" points=\"\n",
       "  54.9131,98.8884 62.7941,98.8884 \n",
       "  \"/>\n",
       "<polyline clip-path=\"url(#clip7600)\" style=\"stroke:#000000; stroke-width:1; stroke-opacity:1; fill:none\" points=\"\n",
       "  54.9131,11.811 62.7941,11.811 \n",
       "  \"/>\n",
       "<g clip-path=\"url(#clip7600)\">\n",
       "<text style=\"fill:#000000; fill-opacity:1; font-family:Arial,Helvetica Neue,Helvetica,sans-serif; font-size:12; text-anchor:middle;\" transform=\"rotate(0, 135.059, 373.921)\" x=\"135.059\" y=\"373.921\">10</text>\n",
       "</g>\n",
       "<g clip-path=\"url(#clip7600)\">\n",
       "<text style=\"fill:#000000; fill-opacity:1; font-family:Arial,Helvetica Neue,Helvetica,sans-serif; font-size:12; text-anchor:middle;\" transform=\"rotate(0, 224.11, 373.921)\" x=\"224.11\" y=\"373.921\">20</text>\n",
       "</g>\n",
       "<g clip-path=\"url(#clip7600)\">\n",
       "<text style=\"fill:#000000; fill-opacity:1; font-family:Arial,Helvetica Neue,Helvetica,sans-serif; font-size:12; text-anchor:middle;\" transform=\"rotate(0, 313.161, 373.921)\" x=\"313.161\" y=\"373.921\">30</text>\n",
       "</g>\n",
       "<g clip-path=\"url(#clip7600)\">\n",
       "<text style=\"fill:#000000; fill-opacity:1; font-family:Arial,Helvetica Neue,Helvetica,sans-serif; font-size:12; text-anchor:middle;\" transform=\"rotate(0, 402.213, 373.921)\" x=\"402.213\" y=\"373.921\">40</text>\n",
       "</g>\n",
       "<g clip-path=\"url(#clip7600)\">\n",
       "<text style=\"fill:#000000; fill-opacity:1; font-family:Arial,Helvetica Neue,Helvetica,sans-serif; font-size:12; text-anchor:middle;\" transform=\"rotate(0, 491.264, 373.921)\" x=\"491.264\" y=\"373.921\">50</text>\n",
       "</g>\n",
       "<g clip-path=\"url(#clip7600)\">\n",
       "<text style=\"fill:#000000; fill-opacity:1; font-family:Arial,Helvetica Neue,Helvetica,sans-serif; font-size:12; text-anchor:middle;\" transform=\"rotate(0, 580.315, 373.921)\" x=\"580.315\" y=\"373.921\">60</text>\n",
       "</g>\n",
       "<g clip-path=\"url(#clip7600)\">\n",
       "<text style=\"fill:#000000; fill-opacity:1; font-family:Arial,Helvetica Neue,Helvetica,sans-serif; font-size:12; text-anchor:end;\" transform=\"rotate(0, 48.9131, 364.621)\" x=\"48.9131\" y=\"364.621\">0.06</text>\n",
       "</g>\n",
       "<g clip-path=\"url(#clip7600)\">\n",
       "<text style=\"fill:#000000; fill-opacity:1; font-family:Arial,Helvetica Neue,Helvetica,sans-serif; font-size:12; text-anchor:end;\" transform=\"rotate(0, 48.9131, 277.543)\" x=\"48.9131\" y=\"277.543\">0.07</text>\n",
       "</g>\n",
       "<g clip-path=\"url(#clip7600)\">\n",
       "<text style=\"fill:#000000; fill-opacity:1; font-family:Arial,Helvetica Neue,Helvetica,sans-serif; font-size:12; text-anchor:end;\" transform=\"rotate(0, 48.9131, 190.466)\" x=\"48.9131\" y=\"190.466\">0.08</text>\n",
       "</g>\n",
       "<g clip-path=\"url(#clip7600)\">\n",
       "<text style=\"fill:#000000; fill-opacity:1; font-family:Arial,Helvetica Neue,Helvetica,sans-serif; font-size:12; text-anchor:end;\" transform=\"rotate(0, 48.9131, 103.388)\" x=\"48.9131\" y=\"103.388\">0.09</text>\n",
       "</g>\n",
       "<g clip-path=\"url(#clip7600)\">\n",
       "<text style=\"fill:#000000; fill-opacity:1; font-family:Arial,Helvetica Neue,Helvetica,sans-serif; font-size:12; text-anchor:end;\" transform=\"rotate(0, 48.9131, 16.311)\" x=\"48.9131\" y=\"16.311\">0.10</text>\n",
       "</g>\n",
       "<g clip-path=\"url(#clip7600)\">\n",
       "<text style=\"fill:#000000; fill-opacity:1; font-family:Arial,Helvetica Neue,Helvetica,sans-serif; font-size:16; text-anchor:middle;\" transform=\"rotate(0, 317.614, 397.6)\" x=\"317.614\" y=\"397.6\">Epochs</text>\n",
       "</g>\n",
       "<g clip-path=\"url(#clip7600)\">\n",
       "<text style=\"fill:#000000; fill-opacity:1; font-family:Arial,Helvetica Neue,Helvetica,sans-serif; font-size:16; text-anchor:middle;\" transform=\"rotate(-90, 14.4, 185.966)\" x=\"14.4\" y=\"185.966\">Error</text>\n",
       "</g>\n",
       "<polyline clip-path=\"url(#clip7602)\" style=\"stroke:#009af9; stroke-width:1; stroke-opacity:1; fill:none\" points=\"\n",
       "  54.9131,-74.2505 63.8182,23.5665 72.7233,75.958 81.6285,108.177 90.5336,129.801 99.4387,143.443 108.344,154.328 117.249,163.761 126.154,174.936 135.059,181.322 \n",
       "  143.964,188.288 152.869,192.642 161.775,200.043 170.68,206.429 179.585,209.622 188.49,214.121 197.395,217.023 206.3,220.071 215.205,222.393 224.11,225.731 \n",
       "  233.015,229.65 241.921,231.681 250.826,233.713 259.731,235.6 268.636,237.922 277.541,240.825 286.446,241.26 295.351,243.727 304.256,245.904 313.161,247.791 \n",
       "  322.067,249.242 330.972,249.968 339.877,251.564 348.782,252.435 357.687,254.322 366.592,256.063 375.497,257.514 384.402,258.53 393.308,260.272 402.213,261.723 \n",
       "  411.118,262.304 420.023,263.029 428.928,265.206 437.833,267.238 446.738,267.819 455.643,268.98 464.548,269.56 473.454,270.721 482.359,271.302 491.264,271.447 \n",
       "  500.169,272.172 509.074,273.914 517.979,274.495 526.884,274.785 535.789,275.365 544.694,276.091 553.6,276.962 562.505,277.107 571.41,278.558 580.315,280.155 \n",
       "  \n",
       "  \"/>\n",
       "<polyline clip-path=\"url(#clip7602)\" style=\"stroke:#e26f46; stroke-width:1; stroke-opacity:1; fill:none\" points=\"\n",
       "  54.9131,3.10328 63.8182,87.5684 72.7233,117.175 81.6285,138.944 90.5336,148.523 99.4387,160.713 108.344,162.455 117.249,169.421 126.154,177.258 135.059,184.224 \n",
       "  143.964,189.449 152.869,190.32 161.775,192.932 170.68,194.674 179.585,197.286 188.49,192.061 197.395,191.19 206.3,193.803 215.205,192.061 224.11,192.932 \n",
       "  233.015,196.415 241.921,196.415 250.826,199.027 259.731,199.027 268.636,202.511 277.541,205.123 286.446,207.735 295.351,211.218 304.256,212.96 313.161,213.831 \n",
       "  322.067,213.831 330.972,213.831 339.877,214.701 348.782,213.831 357.687,214.701 366.592,218.184 375.497,219.055 384.402,218.184 393.308,218.184 402.213,219.055 \n",
       "  411.118,219.926 420.023,219.926 428.928,219.926 437.833,219.055 446.738,219.055 455.643,219.055 464.548,219.926 473.454,218.184 482.359,215.572 491.264,216.443 \n",
       "  500.169,217.314 509.074,217.314 517.979,218.184 526.884,218.184 535.789,219.055 544.694,218.184 553.6,218.184 562.505,219.926 571.41,219.926 580.315,221.668 \n",
       "  \n",
       "  \"/>\n",
       "<polygon clip-path=\"url(#clip7600)\" points=\"\n",
       "454.169,78.051 562.315,78.051 562.315,32.691 454.169,32.691 \n",
       "  \" fill=\"#ffffff\" fill-opacity=\"1\"/>\n",
       "<polyline clip-path=\"url(#clip7600)\" style=\"stroke:#000000; stroke-width:1; stroke-opacity:1; fill:none\" points=\"\n",
       "  454.169,78.051 562.315,78.051 562.315,32.691 454.169,32.691 454.169,78.051 \n",
       "  \"/>\n",
       "<polyline clip-path=\"url(#clip7600)\" style=\"stroke:#009af9; stroke-width:1; stroke-opacity:1; fill:none\" points=\"\n",
       "  460.169,47.811 496.169,47.811 \n",
       "  \"/>\n",
       "<g clip-path=\"url(#clip7600)\">\n",
       "<text style=\"fill:#000000; fill-opacity:1; font-family:Arial,Helvetica Neue,Helvetica,sans-serif; font-size:12; text-anchor:start;\" transform=\"rotate(0, 502.169, 52.311)\" x=\"502.169\" y=\"52.311\">trnsofterr</text>\n",
       "</g>\n",
       "<polyline clip-path=\"url(#clip7600)\" style=\"stroke:#e26f46; stroke-width:1; stroke-opacity:1; fill:none\" points=\"\n",
       "  460.169,62.931 496.169,62.931 \n",
       "  \"/>\n",
       "<g clip-path=\"url(#clip7600)\">\n",
       "<text style=\"fill:#000000; fill-opacity:1; font-family:Arial,Helvetica Neue,Helvetica,sans-serif; font-size:12; text-anchor:start;\" transform=\"rotate(0, 502.169, 67.431)\" x=\"502.169\" y=\"67.431\">tstsofterr</text>\n",
       "</g>\n",
       "</svg>\n"
      ]
     },
     "execution_count": 39,
     "metadata": {},
     "output_type": "execute_result"
    }
   ],
   "source": [
    "plot([trnsofterr tstsofterr],ylim=(.06,.10),labels=[:trnsofterr :tstsofterr],xlabel=\"Epochs\",ylabel=\"Error\")"
   ]
  },
  {
   "cell_type": "code",
   "execution_count": 40,
   "metadata": {},
   "outputs": [],
   "source": [
    "# Cleanup\n",
    "wsoft = softmodels = nothing; knetgc()"
   ]
  },
  {
   "cell_type": "markdown",
   "metadata": {},
   "source": [
    "# Multilayer perceptron example with MNIST"
   ]
  },
  {
   "cell_type": "code",
   "execution_count": 41,
   "metadata": {},
   "outputs": [
    {
     "data": {
      "text/plain": [
       "predict (generic function with 1 method)"
      ]
     },
     "execution_count": 41,
     "metadata": {},
     "output_type": "execute_result"
    }
   ],
   "source": [
    "# We only need to change the predict function!\n",
    "function predict(w,x)\n",
    "    for i=1:2:length(w)\n",
    "        x = w[i]*mat(x) .+ w[i+1]\n",
    "        if i<length(w)-1\n",
    "            x = max.(0,x)                         \n",
    "        end\n",
    "    end\n",
    "    return x\n",
    "end"
   ]
  },
  {
   "cell_type": "code",
   "execution_count": 43,
   "metadata": {},
   "outputs": [
    {
     "data": {
      "text/plain": [
       "2.4366724f0"
      ]
     },
     "execution_count": 43,
     "metadata": {},
     "output_type": "execute_result"
    }
   ],
   "source": [
    "wmlp=map(Atype, [ 0.1*randn(64,784), zeros(64,1), \n",
    "                  0.1*randn(10,64),  zeros(10,1) ])\n",
    "loss(wmlp, x, y)  # average loss for random model should be close to log(10)=2.3026"
   ]
  },
  {
   "cell_type": "markdown",
   "metadata": {},
   "source": [
    "## Train MLP model"
   ]
  },
  {
   "cell_type": "code",
   "execution_count": 44,
   "metadata": {},
   "outputs": [
    {
     "name": "stdout",
     "output_type": "stream",
     "text": [
      " 60.059827 seconds (39.31 M allocations: 58.845 GiB, 9.66% gc time)\n"
     ]
    }
   ],
   "source": [
    "@time mlpmodels = [ copy(train!(wmlp, dtrn)) for epoch=1:60 ]; # ~20 seconds"
   ]
  },
  {
   "cell_type": "markdown",
   "metadata": {},
   "source": [
    "## Compare MLP loss with softmax loss"
   ]
  },
  {
   "cell_type": "code",
   "execution_count": 45,
   "metadata": {},
   "outputs": [
    {
     "name": "stdout",
     "output_type": "stream",
     "text": [
      " 13.244330 seconds (7.18 M allocations: 14.151 GiB, 10.61% gc time)\n",
      "  2.302616 seconds (1.20 M allocations: 2.359 GiB, 10.41% gc time)\n"
     ]
    }
   ],
   "source": [
    "@time trnmlploss = [ nll(w,dtrn,predict) for w in mlpmodels ]; # ~12 seconds\n",
    "@time tstmlploss = [ nll(w,dtst,predict) for w in mlpmodels ]; # ~2 seconds"
   ]
  },
  {
   "cell_type": "code",
   "execution_count": 50,
   "metadata": {},
   "outputs": [
    {
     "data": {
      "image/svg+xml": [
       "<?xml version=\"1.0\" encoding=\"utf-8\"?>\n",
       "<svg xmlns=\"http://www.w3.org/2000/svg\" xmlns:xlink=\"http://www.w3.org/1999/xlink\" width=\"600\" height=\"400\" viewBox=\"0 0 600 400\">\n",
       "<defs>\n",
       "  <clipPath id=\"clip8400\">\n",
       "    <rect x=\"0\" y=\"0\" width=\"600\" height=\"400\"/>\n",
       "  </clipPath>\n",
       "</defs>\n",
       "<polygon clip-path=\"url(#clip8400)\" points=\"\n",
       "0,400 600,400 600,0 0,0 \n",
       "  \" fill=\"#ffffff\" fill-opacity=\"1\"/>\n",
       "<defs>\n",
       "  <clipPath id=\"clip8401\">\n",
       "    <rect x=\"120\" y=\"0\" width=\"421\" height=\"400\"/>\n",
       "  </clipPath>\n",
       "</defs>\n",
       "<polygon clip-path=\"url(#clip8400)\" points=\"\n",
       "48.2225,360.121 580.315,360.121 580.315,11.811 48.2225,11.811 \n",
       "  \" fill=\"#ffffff\" fill-opacity=\"1\"/>\n",
       "<defs>\n",
       "  <clipPath id=\"clip8402\">\n",
       "    <rect x=\"48\" y=\"11\" width=\"533\" height=\"349\"/>\n",
       "  </clipPath>\n",
       "</defs>\n",
       "<polyline clip-path=\"url(#clip8402)\" style=\"stroke:#000000; stroke-width:0.5; stroke-opacity:0.1; fill:none\" points=\"\n",
       "  129.389,360.121 129.389,11.811 \n",
       "  \"/>\n",
       "<polyline clip-path=\"url(#clip8402)\" style=\"stroke:#000000; stroke-width:0.5; stroke-opacity:0.1; fill:none\" points=\"\n",
       "  219.574,360.121 219.574,11.811 \n",
       "  \"/>\n",
       "<polyline clip-path=\"url(#clip8402)\" style=\"stroke:#000000; stroke-width:0.5; stroke-opacity:0.1; fill:none\" points=\"\n",
       "  309.759,360.121 309.759,11.811 \n",
       "  \"/>\n",
       "<polyline clip-path=\"url(#clip8402)\" style=\"stroke:#000000; stroke-width:0.5; stroke-opacity:0.1; fill:none\" points=\"\n",
       "  399.945,360.121 399.945,11.811 \n",
       "  \"/>\n",
       "<polyline clip-path=\"url(#clip8402)\" style=\"stroke:#000000; stroke-width:0.5; stroke-opacity:0.1; fill:none\" points=\"\n",
       "  490.13,360.121 490.13,11.811 \n",
       "  \"/>\n",
       "<polyline clip-path=\"url(#clip8402)\" style=\"stroke:#000000; stroke-width:0.5; stroke-opacity:0.1; fill:none\" points=\"\n",
       "  580.315,360.121 580.315,11.811 \n",
       "  \"/>\n",
       "<polyline clip-path=\"url(#clip8402)\" style=\"stroke:#000000; stroke-width:0.5; stroke-opacity:0.1; fill:none\" points=\"\n",
       "  48.2225,360.121 580.315,360.121 \n",
       "  \"/>\n",
       "<polyline clip-path=\"url(#clip8402)\" style=\"stroke:#000000; stroke-width:0.5; stroke-opacity:0.1; fill:none\" points=\"\n",
       "  48.2225,263.368 580.315,263.368 \n",
       "  \"/>\n",
       "<polyline clip-path=\"url(#clip8402)\" style=\"stroke:#000000; stroke-width:0.5; stroke-opacity:0.1; fill:none\" points=\"\n",
       "  48.2225,166.615 580.315,166.615 \n",
       "  \"/>\n",
       "<polyline clip-path=\"url(#clip8402)\" style=\"stroke:#000000; stroke-width:0.5; stroke-opacity:0.1; fill:none\" points=\"\n",
       "  48.2225,69.8626 580.315,69.8626 \n",
       "  \"/>\n",
       "<polyline clip-path=\"url(#clip8400)\" style=\"stroke:#000000; stroke-width:1; stroke-opacity:1; fill:none\" points=\"\n",
       "  48.2225,360.121 580.315,360.121 \n",
       "  \"/>\n",
       "<polyline clip-path=\"url(#clip8400)\" style=\"stroke:#000000; stroke-width:1; stroke-opacity:1; fill:none\" points=\"\n",
       "  48.2225,360.121 48.2225,11.811 \n",
       "  \"/>\n",
       "<polyline clip-path=\"url(#clip8400)\" style=\"stroke:#000000; stroke-width:1; stroke-opacity:1; fill:none\" points=\"\n",
       "  129.389,360.121 129.389,354.896 \n",
       "  \"/>\n",
       "<polyline clip-path=\"url(#clip8400)\" style=\"stroke:#000000; stroke-width:1; stroke-opacity:1; fill:none\" points=\"\n",
       "  219.574,360.121 219.574,354.896 \n",
       "  \"/>\n",
       "<polyline clip-path=\"url(#clip8400)\" style=\"stroke:#000000; stroke-width:1; stroke-opacity:1; fill:none\" points=\"\n",
       "  309.759,360.121 309.759,354.896 \n",
       "  \"/>\n",
       "<polyline clip-path=\"url(#clip8400)\" style=\"stroke:#000000; stroke-width:1; stroke-opacity:1; fill:none\" points=\"\n",
       "  399.945,360.121 399.945,354.896 \n",
       "  \"/>\n",
       "<polyline clip-path=\"url(#clip8400)\" style=\"stroke:#000000; stroke-width:1; stroke-opacity:1; fill:none\" points=\"\n",
       "  490.13,360.121 490.13,354.896 \n",
       "  \"/>\n",
       "<polyline clip-path=\"url(#clip8400)\" style=\"stroke:#000000; stroke-width:1; stroke-opacity:1; fill:none\" points=\"\n",
       "  580.315,360.121 580.315,354.896 \n",
       "  \"/>\n",
       "<polyline clip-path=\"url(#clip8400)\" style=\"stroke:#000000; stroke-width:1; stroke-opacity:1; fill:none\" points=\"\n",
       "  48.2225,360.121 56.2039,360.121 \n",
       "  \"/>\n",
       "<polyline clip-path=\"url(#clip8400)\" style=\"stroke:#000000; stroke-width:1; stroke-opacity:1; fill:none\" points=\"\n",
       "  48.2225,263.368 56.2039,263.368 \n",
       "  \"/>\n",
       "<polyline clip-path=\"url(#clip8400)\" style=\"stroke:#000000; stroke-width:1; stroke-opacity:1; fill:none\" points=\"\n",
       "  48.2225,166.615 56.2039,166.615 \n",
       "  \"/>\n",
       "<polyline clip-path=\"url(#clip8400)\" style=\"stroke:#000000; stroke-width:1; stroke-opacity:1; fill:none\" points=\"\n",
       "  48.2225,69.8626 56.2039,69.8626 \n",
       "  \"/>\n",
       "<g clip-path=\"url(#clip8400)\">\n",
       "<text style=\"fill:#000000; fill-opacity:1; font-family:Arial,Helvetica Neue,Helvetica,sans-serif; font-size:12; text-anchor:middle;\" transform=\"rotate(0, 129.389, 373.921)\" x=\"129.389\" y=\"373.921\">10</text>\n",
       "</g>\n",
       "<g clip-path=\"url(#clip8400)\">\n",
       "<text style=\"fill:#000000; fill-opacity:1; font-family:Arial,Helvetica Neue,Helvetica,sans-serif; font-size:12; text-anchor:middle;\" transform=\"rotate(0, 219.574, 373.921)\" x=\"219.574\" y=\"373.921\">20</text>\n",
       "</g>\n",
       "<g clip-path=\"url(#clip8400)\">\n",
       "<text style=\"fill:#000000; fill-opacity:1; font-family:Arial,Helvetica Neue,Helvetica,sans-serif; font-size:12; text-anchor:middle;\" transform=\"rotate(0, 309.759, 373.921)\" x=\"309.759\" y=\"373.921\">30</text>\n",
       "</g>\n",
       "<g clip-path=\"url(#clip8400)\">\n",
       "<text style=\"fill:#000000; fill-opacity:1; font-family:Arial,Helvetica Neue,Helvetica,sans-serif; font-size:12; text-anchor:middle;\" transform=\"rotate(0, 399.945, 373.921)\" x=\"399.945\" y=\"373.921\">40</text>\n",
       "</g>\n",
       "<g clip-path=\"url(#clip8400)\">\n",
       "<text style=\"fill:#000000; fill-opacity:1; font-family:Arial,Helvetica Neue,Helvetica,sans-serif; font-size:12; text-anchor:middle;\" transform=\"rotate(0, 490.13, 373.921)\" x=\"490.13\" y=\"373.921\">50</text>\n",
       "</g>\n",
       "<g clip-path=\"url(#clip8400)\">\n",
       "<text style=\"fill:#000000; fill-opacity:1; font-family:Arial,Helvetica Neue,Helvetica,sans-serif; font-size:12; text-anchor:middle;\" transform=\"rotate(0, 580.315, 373.921)\" x=\"580.315\" y=\"373.921\">60</text>\n",
       "</g>\n",
       "<g clip-path=\"url(#clip8400)\">\n",
       "<text style=\"fill:#000000; fill-opacity:1; font-family:Arial,Helvetica Neue,Helvetica,sans-serif; font-size:12; text-anchor:end;\" transform=\"rotate(0, 42.2225, 364.621)\" x=\"42.2225\" y=\"364.621\">0.0</text>\n",
       "</g>\n",
       "<g clip-path=\"url(#clip8400)\">\n",
       "<text style=\"fill:#000000; fill-opacity:1; font-family:Arial,Helvetica Neue,Helvetica,sans-serif; font-size:12; text-anchor:end;\" transform=\"rotate(0, 42.2225, 267.868)\" x=\"42.2225\" y=\"267.868\">0.1</text>\n",
       "</g>\n",
       "<g clip-path=\"url(#clip8400)\">\n",
       "<text style=\"fill:#000000; fill-opacity:1; font-family:Arial,Helvetica Neue,Helvetica,sans-serif; font-size:12; text-anchor:end;\" transform=\"rotate(0, 42.2225, 171.115)\" x=\"42.2225\" y=\"171.115\">0.2</text>\n",
       "</g>\n",
       "<g clip-path=\"url(#clip8400)\">\n",
       "<text style=\"fill:#000000; fill-opacity:1; font-family:Arial,Helvetica Neue,Helvetica,sans-serif; font-size:12; text-anchor:end;\" transform=\"rotate(0, 42.2225, 74.3626)\" x=\"42.2225\" y=\"74.3626\">0.3</text>\n",
       "</g>\n",
       "<g clip-path=\"url(#clip8400)\">\n",
       "<text style=\"fill:#000000; fill-opacity:1; font-family:Arial,Helvetica Neue,Helvetica,sans-serif; font-size:16; text-anchor:middle;\" transform=\"rotate(0, 314.269, 397.6)\" x=\"314.269\" y=\"397.6\">Epochs</text>\n",
       "</g>\n",
       "<g clip-path=\"url(#clip8400)\">\n",
       "<text style=\"fill:#000000; fill-opacity:1; font-family:Arial,Helvetica Neue,Helvetica,sans-serif; font-size:16; text-anchor:middle;\" transform=\"rotate(-90, 14.4, 185.966)\" x=\"14.4\" y=\"185.966\">Loss</text>\n",
       "</g>\n",
       "<polyline clip-path=\"url(#clip8402)\" style=\"stroke:#009af9; stroke-width:5; stroke-opacity:1; fill:none\" points=\"\n",
       "  48.2225,-16.9282 57.241,26.3748 66.2596,45.6143 75.2781,57.1777 84.2966,65.1316 93.3151,71.0499 102.334,75.6889 111.352,79.4621 120.371,82.6169 129.389,85.3114 \n",
       "  138.408,87.6528 147.426,89.715 156.445,91.5525 165.463,93.2056 174.482,94.705 183.5,96.0746 192.519,97.3334 201.537,98.4968 210.556,99.5775 219.574,100.585 \n",
       "  228.593,101.528 237.611,102.414 246.63,103.248 255.648,104.037 264.667,104.785 273.685,105.494 282.704,106.17 291.722,106.814 300.741,107.429 309.759,108.017 \n",
       "  318.778,108.581 327.797,109.123 336.815,109.643 345.834,110.144 354.852,110.626 363.871,111.092 372.889,111.541 381.908,111.975 390.926,112.396 399.945,112.802 \n",
       "  408.963,113.197 417.982,113.579 427,113.95 436.019,114.311 445.037,114.661 454.056,115.002 463.074,115.333 472.093,115.656 481.111,115.97 490.13,116.277 \n",
       "  499.148,116.576 508.167,116.868 517.185,117.152 526.204,117.43 535.222,117.702 544.241,117.968 553.259,118.228 562.278,118.482 571.296,118.73 580.315,118.974 \n",
       "  \n",
       "  \"/>\n",
       "<polyline clip-path=\"url(#clip8402)\" style=\"stroke:#e26f46; stroke-width:5; stroke-opacity:1; fill:none\" points=\"\n",
       "  48.2225,2.72141 57.241,41.8278 66.2596,57.99 75.2781,67.1398 84.2966,73.1113 93.3151,77.3484 102.334,80.5274 111.352,83.0104 120.371,85.0097 129.389,86.6583 \n",
       "  138.408,88.0436 147.426,89.2261 156.445,90.2486 165.463,91.1424 174.482,91.931 183.5,92.6324 192.519,93.2607 201.537,93.8267 210.556,94.3395 219.574,94.8062 \n",
       "  228.593,95.2331 237.611,95.6244 246.63,95.985 255.648,96.3179 264.667,96.6261 273.685,96.9124 282.704,97.1786 291.722,97.4271 300.741,97.659 309.759,97.8762 \n",
       "  318.778,98.0798 327.797,98.2708 336.815,98.4503 345.834,98.6195 354.852,98.7788 363.871,98.9288 372.889,99.0704 381.908,99.2044 390.926,99.3309 399.945,99.4507 \n",
       "  408.963,99.5641 417.982,99.6714 427,99.7731 436.019,99.8693 445.037,99.9608 454.056,100.047 463.074,100.13 472.093,100.208 481.111,100.282 490.13,100.352 \n",
       "  499.148,100.418 508.167,100.482 517.185,100.542 526.204,100.599 535.222,100.653 544.241,100.704 553.259,100.752 562.278,100.798 571.296,100.842 580.315,100.883 \n",
       "  \n",
       "  \"/>\n",
       "<polyline clip-path=\"url(#clip8402)\" style=\"stroke:#3da44d; stroke-width:5; stroke-opacity:1; fill:none\" points=\"\n",
       "  48.2225,62.3029 57.241,133.066 66.2596,172.149 75.2781,198.5 84.2966,217.55 93.3151,231.915 102.334,243.151 111.352,252.374 120.371,260.049 129.389,266.517 \n",
       "  138.408,271.955 147.426,276.892 156.445,281.227 165.463,285.173 174.482,288.616 183.5,291.994 192.519,295.101 201.537,297.581 210.556,300.439 219.574,302.73 \n",
       "  228.593,305.128 237.611,307.477 246.63,309.041 255.648,310.904 264.667,312.676 273.685,314.366 282.704,316.026 291.722,317.416 300.741,318.921 309.759,320.13 \n",
       "  318.778,321.835 327.797,322.807 336.815,324.23 345.834,325.307 354.852,326.531 363.871,327.661 372.889,328.651 381.908,329.636 390.926,330.82 399.945,331.782 \n",
       "  408.963,332.965 417.982,333.471 427,334.615 436.019,335.292 445.037,336.116 454.056,336.896 463.074,337.74 472.093,338.43 481.111,339.107 490.13,339.826 \n",
       "  499.148,340.568 508.167,341.159 517.185,341.71 526.204,342.21 535.222,342.91 544.241,343.254 553.259,343.738 562.278,344.212 571.296,344.77 580.315,345.097 \n",
       "  \n",
       "  \"/>\n",
       "<polyline clip-path=\"url(#clip8402)\" style=\"stroke:#c271d2; stroke-width:5; stroke-opacity:1; fill:none\" points=\"\n",
       "  48.2225,66.9655 57.241,132.834 66.2596,170.134 75.2781,194.754 84.2966,211.821 93.3151,223.625 102.334,232.333 111.352,238.938 120.371,244.381 129.389,248.716 \n",
       "  138.408,252.201 147.426,255.212 156.445,257.64 165.463,259.705 174.482,261.239 183.5,262.832 192.519,264.239 201.537,265.073 210.556,266.079 219.574,266.873 \n",
       "  228.593,267.645 237.611,268.495 246.63,268.569 255.648,268.997 264.667,269.429 273.685,269.734 282.704,270.124 291.722,270.236 300.741,270.479 309.759,270.406 \n",
       "  318.778,270.996 327.797,270.773 336.815,271.023 345.834,271.099 354.852,271.263 363.871,271.205 372.889,270.978 381.908,271.028 390.926,271.168 399.945,271.102 \n",
       "  408.963,271.441 417.982,270.558 427,271.061 436.019,270.547 445.037,270.648 454.056,270.463 463.074,270.552 472.093,270.182 481.111,270.03 490.13,270.146 \n",
       "  499.148,269.813 508.167,269.865 517.185,269.654 526.204,269.318 535.222,269.237 544.241,268.703 553.259,268.572 562.278,268.087 571.296,268.183 580.315,267.702 \n",
       "  \n",
       "  \"/>\n",
       "<polygon clip-path=\"url(#clip8400)\" points=\"\n",
       "447.479,108.291 562.315,108.291 562.315,32.691 447.479,32.691 \n",
       "  \" fill=\"#ffffff\" fill-opacity=\"1\"/>\n",
       "<polyline clip-path=\"url(#clip8400)\" style=\"stroke:#000000; stroke-width:1; stroke-opacity:1; fill:none\" points=\"\n",
       "  447.479,108.291 562.315,108.291 562.315,32.691 447.479,32.691 447.479,108.291 \n",
       "  \"/>\n",
       "<polyline clip-path=\"url(#clip8400)\" style=\"stroke:#009af9; stroke-width:5; stroke-opacity:1; fill:none\" points=\"\n",
       "  453.479,47.811 489.479,47.811 \n",
       "  \"/>\n",
       "<g clip-path=\"url(#clip8400)\">\n",
       "<text style=\"fill:#000000; fill-opacity:1; font-family:Arial,Helvetica Neue,Helvetica,sans-serif; font-size:12; text-anchor:start;\" transform=\"rotate(0, 495.479, 52.311)\" x=\"495.479\" y=\"52.311\">trnsoftloss</text>\n",
       "</g>\n",
       "<polyline clip-path=\"url(#clip8400)\" style=\"stroke:#e26f46; stroke-width:5; stroke-opacity:1; fill:none\" points=\"\n",
       "  453.479,62.931 489.479,62.931 \n",
       "  \"/>\n",
       "<g clip-path=\"url(#clip8400)\">\n",
       "<text style=\"fill:#000000; fill-opacity:1; font-family:Arial,Helvetica Neue,Helvetica,sans-serif; font-size:12; text-anchor:start;\" transform=\"rotate(0, 495.479, 67.431)\" x=\"495.479\" y=\"67.431\">tstsoftloss</text>\n",
       "</g>\n",
       "<polyline clip-path=\"url(#clip8400)\" style=\"stroke:#3da44d; stroke-width:5; stroke-opacity:1; fill:none\" points=\"\n",
       "  453.479,78.051 489.479,78.051 \n",
       "  \"/>\n",
       "<g clip-path=\"url(#clip8400)\">\n",
       "<text style=\"fill:#000000; fill-opacity:1; font-family:Arial,Helvetica Neue,Helvetica,sans-serif; font-size:12; text-anchor:start;\" transform=\"rotate(0, 495.479, 82.551)\" x=\"495.479\" y=\"82.551\">trnmlploss</text>\n",
       "</g>\n",
       "<polyline clip-path=\"url(#clip8400)\" style=\"stroke:#c271d2; stroke-width:5; stroke-opacity:1; fill:none\" points=\"\n",
       "  453.479,93.171 489.479,93.171 \n",
       "  \"/>\n",
       "<g clip-path=\"url(#clip8400)\">\n",
       "<text style=\"fill:#000000; fill-opacity:1; font-family:Arial,Helvetica Neue,Helvetica,sans-serif; font-size:12; text-anchor:start;\" transform=\"rotate(0, 495.479, 97.671)\" x=\"495.479\" y=\"97.671\">tstmlploss</text>\n",
       "</g>\n",
       "</svg>\n"
      ]
     },
     "execution_count": 50,
     "metadata": {},
     "output_type": "execute_result"
    }
   ],
   "source": [
    "plot([trnsoftloss tstsoftloss trnmlploss tstmlploss],\n",
    "    xlabel=\"Epochs\",ylabel=\"Loss\",linewidth=5,ylim=(.0,.36),\n",
    "    labels=[:trnsoftloss :tstsoftloss :trnmlploss :tstmlploss]) "
   ]
  },
  {
   "cell_type": "markdown",
   "metadata": {},
   "source": [
    "## Compare MLP error with softmax error"
   ]
  },
  {
   "cell_type": "code",
   "execution_count": 51,
   "metadata": {},
   "outputs": [
    {
     "name": "stdout",
     "output_type": "stream",
     "text": [
      " 10.386532 seconds (5.31 M allocations: 13.793 GiB, 12.48% gc time)\n",
      "  1.744261 seconds (892.73 k allocations: 2.299 GiB, 12.66% gc time)\n"
     ]
    }
   ],
   "source": [
    "@time trnmlperr = [ 1-accuracy(w,dtrn,predict) for w in mlpmodels ]; # ~13 seconds\n",
    "@time tstmlperr = [ 1-accuracy(w,dtst,predict) for w in mlpmodels ]; # ~2 seconds"
   ]
  },
  {
   "cell_type": "code",
   "execution_count": 53,
   "metadata": {
    "scrolled": false
   },
   "outputs": [
    {
     "data": {
      "image/svg+xml": [
       "<?xml version=\"1.0\" encoding=\"utf-8\"?>\n",
       "<svg xmlns=\"http://www.w3.org/2000/svg\" xmlns:xlink=\"http://www.w3.org/1999/xlink\" width=\"600\" height=\"400\" viewBox=\"0 0 600 400\">\n",
       "<defs>\n",
       "  <clipPath id=\"clip8800\">\n",
       "    <rect x=\"0\" y=\"0\" width=\"600\" height=\"400\"/>\n",
       "  </clipPath>\n",
       "</defs>\n",
       "<polygon clip-path=\"url(#clip8800)\" points=\"\n",
       "0,400 600,400 600,0 0,0 \n",
       "  \" fill=\"#ffffff\" fill-opacity=\"1\"/>\n",
       "<defs>\n",
       "  <clipPath id=\"clip8801\">\n",
       "    <rect x=\"120\" y=\"0\" width=\"421\" height=\"400\"/>\n",
       "  </clipPath>\n",
       "</defs>\n",
       "<polygon clip-path=\"url(#clip8800)\" points=\"\n",
       "54.9131,360.121 580.315,360.121 580.315,11.811 54.9131,11.811 \n",
       "  \" fill=\"#ffffff\" fill-opacity=\"1\"/>\n",
       "<defs>\n",
       "  <clipPath id=\"clip8802\">\n",
       "    <rect x=\"54\" y=\"11\" width=\"526\" height=\"349\"/>\n",
       "  </clipPath>\n",
       "</defs>\n",
       "<polyline clip-path=\"url(#clip8802)\" style=\"stroke:#000000; stroke-width:0.5; stroke-opacity:0.1; fill:none\" points=\"\n",
       "  135.059,360.121 135.059,11.811 \n",
       "  \"/>\n",
       "<polyline clip-path=\"url(#clip8802)\" style=\"stroke:#000000; stroke-width:0.5; stroke-opacity:0.1; fill:none\" points=\"\n",
       "  224.11,360.121 224.11,11.811 \n",
       "  \"/>\n",
       "<polyline clip-path=\"url(#clip8802)\" style=\"stroke:#000000; stroke-width:0.5; stroke-opacity:0.1; fill:none\" points=\"\n",
       "  313.161,360.121 313.161,11.811 \n",
       "  \"/>\n",
       "<polyline clip-path=\"url(#clip8802)\" style=\"stroke:#000000; stroke-width:0.5; stroke-opacity:0.1; fill:none\" points=\"\n",
       "  402.213,360.121 402.213,11.811 \n",
       "  \"/>\n",
       "<polyline clip-path=\"url(#clip8802)\" style=\"stroke:#000000; stroke-width:0.5; stroke-opacity:0.1; fill:none\" points=\"\n",
       "  491.264,360.121 491.264,11.811 \n",
       "  \"/>\n",
       "<polyline clip-path=\"url(#clip8802)\" style=\"stroke:#000000; stroke-width:0.5; stroke-opacity:0.1; fill:none\" points=\"\n",
       "  580.315,360.121 580.315,11.811 \n",
       "  \"/>\n",
       "<polyline clip-path=\"url(#clip8802)\" style=\"stroke:#000000; stroke-width:0.5; stroke-opacity:0.1; fill:none\" points=\"\n",
       "  54.9131,360.121 580.315,360.121 \n",
       "  \"/>\n",
       "<polyline clip-path=\"url(#clip8802)\" style=\"stroke:#000000; stroke-width:0.5; stroke-opacity:0.1; fill:none\" points=\"\n",
       "  54.9131,290.459 580.315,290.459 \n",
       "  \"/>\n",
       "<polyline clip-path=\"url(#clip8802)\" style=\"stroke:#000000; stroke-width:0.5; stroke-opacity:0.1; fill:none\" points=\"\n",
       "  54.9131,220.797 580.315,220.797 \n",
       "  \"/>\n",
       "<polyline clip-path=\"url(#clip8802)\" style=\"stroke:#000000; stroke-width:0.5; stroke-opacity:0.1; fill:none\" points=\"\n",
       "  54.9131,151.135 580.315,151.135 \n",
       "  \"/>\n",
       "<polyline clip-path=\"url(#clip8802)\" style=\"stroke:#000000; stroke-width:0.5; stroke-opacity:0.1; fill:none\" points=\"\n",
       "  54.9131,81.4729 580.315,81.4729 \n",
       "  \"/>\n",
       "<polyline clip-path=\"url(#clip8802)\" style=\"stroke:#000000; stroke-width:0.5; stroke-opacity:0.1; fill:none\" points=\"\n",
       "  54.9131,11.811 580.315,11.811 \n",
       "  \"/>\n",
       "<polyline clip-path=\"url(#clip8800)\" style=\"stroke:#000000; stroke-width:1; stroke-opacity:1; fill:none\" points=\"\n",
       "  54.9131,360.121 580.315,360.121 \n",
       "  \"/>\n",
       "<polyline clip-path=\"url(#clip8800)\" style=\"stroke:#000000; stroke-width:1; stroke-opacity:1; fill:none\" points=\"\n",
       "  54.9131,360.121 54.9131,11.811 \n",
       "  \"/>\n",
       "<polyline clip-path=\"url(#clip8800)\" style=\"stroke:#000000; stroke-width:1; stroke-opacity:1; fill:none\" points=\"\n",
       "  135.059,360.121 135.059,354.896 \n",
       "  \"/>\n",
       "<polyline clip-path=\"url(#clip8800)\" style=\"stroke:#000000; stroke-width:1; stroke-opacity:1; fill:none\" points=\"\n",
       "  224.11,360.121 224.11,354.896 \n",
       "  \"/>\n",
       "<polyline clip-path=\"url(#clip8800)\" style=\"stroke:#000000; stroke-width:1; stroke-opacity:1; fill:none\" points=\"\n",
       "  313.161,360.121 313.161,354.896 \n",
       "  \"/>\n",
       "<polyline clip-path=\"url(#clip8800)\" style=\"stroke:#000000; stroke-width:1; stroke-opacity:1; fill:none\" points=\"\n",
       "  402.213,360.121 402.213,354.896 \n",
       "  \"/>\n",
       "<polyline clip-path=\"url(#clip8800)\" style=\"stroke:#000000; stroke-width:1; stroke-opacity:1; fill:none\" points=\"\n",
       "  491.264,360.121 491.264,354.896 \n",
       "  \"/>\n",
       "<polyline clip-path=\"url(#clip8800)\" style=\"stroke:#000000; stroke-width:1; stroke-opacity:1; fill:none\" points=\"\n",
       "  580.315,360.121 580.315,354.896 \n",
       "  \"/>\n",
       "<polyline clip-path=\"url(#clip8800)\" style=\"stroke:#000000; stroke-width:1; stroke-opacity:1; fill:none\" points=\"\n",
       "  54.9131,360.121 62.7941,360.121 \n",
       "  \"/>\n",
       "<polyline clip-path=\"url(#clip8800)\" style=\"stroke:#000000; stroke-width:1; stroke-opacity:1; fill:none\" points=\"\n",
       "  54.9131,290.459 62.7941,290.459 \n",
       "  \"/>\n",
       "<polyline clip-path=\"url(#clip8800)\" style=\"stroke:#000000; stroke-width:1; stroke-opacity:1; fill:none\" points=\"\n",
       "  54.9131,220.797 62.7941,220.797 \n",
       "  \"/>\n",
       "<polyline clip-path=\"url(#clip8800)\" style=\"stroke:#000000; stroke-width:1; stroke-opacity:1; fill:none\" points=\"\n",
       "  54.9131,151.135 62.7941,151.135 \n",
       "  \"/>\n",
       "<polyline clip-path=\"url(#clip8800)\" style=\"stroke:#000000; stroke-width:1; stroke-opacity:1; fill:none\" points=\"\n",
       "  54.9131,81.4729 62.7941,81.4729 \n",
       "  \"/>\n",
       "<polyline clip-path=\"url(#clip8800)\" style=\"stroke:#000000; stroke-width:1; stroke-opacity:1; fill:none\" points=\"\n",
       "  54.9131,11.811 62.7941,11.811 \n",
       "  \"/>\n",
       "<g clip-path=\"url(#clip8800)\">\n",
       "<text style=\"fill:#000000; fill-opacity:1; font-family:Arial,Helvetica Neue,Helvetica,sans-serif; font-size:12; text-anchor:middle;\" transform=\"rotate(0, 135.059, 373.921)\" x=\"135.059\" y=\"373.921\">10</text>\n",
       "</g>\n",
       "<g clip-path=\"url(#clip8800)\">\n",
       "<text style=\"fill:#000000; fill-opacity:1; font-family:Arial,Helvetica Neue,Helvetica,sans-serif; font-size:12; text-anchor:middle;\" transform=\"rotate(0, 224.11, 373.921)\" x=\"224.11\" y=\"373.921\">20</text>\n",
       "</g>\n",
       "<g clip-path=\"url(#clip8800)\">\n",
       "<text style=\"fill:#000000; fill-opacity:1; font-family:Arial,Helvetica Neue,Helvetica,sans-serif; font-size:12; text-anchor:middle;\" transform=\"rotate(0, 313.161, 373.921)\" x=\"313.161\" y=\"373.921\">30</text>\n",
       "</g>\n",
       "<g clip-path=\"url(#clip8800)\">\n",
       "<text style=\"fill:#000000; fill-opacity:1; font-family:Arial,Helvetica Neue,Helvetica,sans-serif; font-size:12; text-anchor:middle;\" transform=\"rotate(0, 402.213, 373.921)\" x=\"402.213\" y=\"373.921\">40</text>\n",
       "</g>\n",
       "<g clip-path=\"url(#clip8800)\">\n",
       "<text style=\"fill:#000000; fill-opacity:1; font-family:Arial,Helvetica Neue,Helvetica,sans-serif; font-size:12; text-anchor:middle;\" transform=\"rotate(0, 491.264, 373.921)\" x=\"491.264\" y=\"373.921\">50</text>\n",
       "</g>\n",
       "<g clip-path=\"url(#clip8800)\">\n",
       "<text style=\"fill:#000000; fill-opacity:1; font-family:Arial,Helvetica Neue,Helvetica,sans-serif; font-size:12; text-anchor:middle;\" transform=\"rotate(0, 580.315, 373.921)\" x=\"580.315\" y=\"373.921\">60</text>\n",
       "</g>\n",
       "<g clip-path=\"url(#clip8800)\">\n",
       "<text style=\"fill:#000000; fill-opacity:1; font-family:Arial,Helvetica Neue,Helvetica,sans-serif; font-size:12; text-anchor:end;\" transform=\"rotate(0, 48.9131, 364.621)\" x=\"48.9131\" y=\"364.621\">0.00</text>\n",
       "</g>\n",
       "<g clip-path=\"url(#clip8800)\">\n",
       "<text style=\"fill:#000000; fill-opacity:1; font-family:Arial,Helvetica Neue,Helvetica,sans-serif; font-size:12; text-anchor:end;\" transform=\"rotate(0, 48.9131, 294.959)\" x=\"48.9131\" y=\"294.959\">0.02</text>\n",
       "</g>\n",
       "<g clip-path=\"url(#clip8800)\">\n",
       "<text style=\"fill:#000000; fill-opacity:1; font-family:Arial,Helvetica Neue,Helvetica,sans-serif; font-size:12; text-anchor:end;\" transform=\"rotate(0, 48.9131, 225.297)\" x=\"48.9131\" y=\"225.297\">0.04</text>\n",
       "</g>\n",
       "<g clip-path=\"url(#clip8800)\">\n",
       "<text style=\"fill:#000000; fill-opacity:1; font-family:Arial,Helvetica Neue,Helvetica,sans-serif; font-size:12; text-anchor:end;\" transform=\"rotate(0, 48.9131, 155.635)\" x=\"48.9131\" y=\"155.635\">0.06</text>\n",
       "</g>\n",
       "<g clip-path=\"url(#clip8800)\">\n",
       "<text style=\"fill:#000000; fill-opacity:1; font-family:Arial,Helvetica Neue,Helvetica,sans-serif; font-size:12; text-anchor:end;\" transform=\"rotate(0, 48.9131, 85.9729)\" x=\"48.9131\" y=\"85.9729\">0.08</text>\n",
       "</g>\n",
       "<g clip-path=\"url(#clip8800)\">\n",
       "<text style=\"fill:#000000; fill-opacity:1; font-family:Arial,Helvetica Neue,Helvetica,sans-serif; font-size:12; text-anchor:end;\" transform=\"rotate(0, 48.9131, 16.311)\" x=\"48.9131\" y=\"16.311\">0.10</text>\n",
       "</g>\n",
       "<g clip-path=\"url(#clip8800)\">\n",
       "<text style=\"fill:#000000; fill-opacity:1; font-family:Arial,Helvetica Neue,Helvetica,sans-serif; font-size:16; text-anchor:middle;\" transform=\"rotate(0, 317.614, 397.6)\" x=\"317.614\" y=\"397.6\">Epochs</text>\n",
       "</g>\n",
       "<g clip-path=\"url(#clip8800)\">\n",
       "<text style=\"fill:#000000; fill-opacity:1; font-family:Arial,Helvetica Neue,Helvetica,sans-serif; font-size:16; text-anchor:middle;\" transform=\"rotate(-90, 14.4, 185.966)\" x=\"14.4\" y=\"185.966\">Error</text>\n",
       "</g>\n",
       "<polyline clip-path=\"url(#clip8802)\" style=\"stroke:#009af9; stroke-width:1; stroke-opacity:1; fill:none\" points=\"\n",
       "  54.9131,-22.6136 63.8182,16.5132 72.7233,37.4698 81.6285,50.3573 90.5336,59.007 99.4387,64.4638 108.344,68.8177 117.249,72.5911 126.154,77.061 135.059,79.6153 \n",
       "  143.964,82.4018 152.869,84.1433 161.775,87.104 170.68,89.6582 179.585,90.9354 188.49,92.735 197.395,93.896 206.3,95.1151 215.205,96.0439 224.11,97.3791 \n",
       "  233.015,98.9465 241.921,99.7592 250.826,100.572 259.731,101.327 268.636,102.255 277.541,103.416 286.446,103.591 295.351,104.577 304.256,105.448 313.161,106.203 \n",
       "  322.067,106.783 330.972,107.074 339.877,107.712 348.782,108.061 357.687,108.815 366.592,109.512 375.497,110.092 384.402,110.499 393.308,111.195 402.213,111.776 \n",
       "  411.118,112.008 420.023,112.298 428.928,113.169 437.833,113.982 446.738,114.214 455.643,114.678 464.548,114.911 473.454,115.375 482.359,115.607 491.264,115.665 \n",
       "  500.169,115.956 509.074,116.652 517.979,116.884 526.884,117.001 535.789,117.233 544.694,117.523 553.6,117.871 562.505,117.929 571.41,118.51 580.315,119.148 \n",
       "  \n",
       "  \"/>\n",
       "<polyline clip-path=\"url(#clip8802)\" style=\"stroke:#e26f46; stroke-width:1; stroke-opacity:1; fill:none\" points=\"\n",
       "  54.9131,8.32793 63.8182,42.114 72.7233,53.9565 81.6285,62.6642 90.5336,66.4956 99.4387,71.372 108.344,72.0686 117.249,74.8551 126.154,77.9899 135.059,80.7763 \n",
       "  143.964,82.8662 152.869,83.2145 161.775,84.2594 170.68,84.956 179.585,86.001 188.49,83.9111 197.395,83.5628 206.3,84.6077 215.205,83.9111 224.11,84.2594 \n",
       "  233.015,85.6527 241.921,85.6527 250.826,86.6976 259.731,86.6976 268.636,88.0908 277.541,89.1358 286.446,90.1807 295.351,91.5739 304.256,92.2705 313.161,92.6189 \n",
       "  322.067,92.6189 330.972,92.6189 339.877,92.9672 348.782,92.6189 357.687,92.9672 366.592,94.3604 375.497,94.7087 384.402,94.3604 393.308,94.3604 402.213,94.7087 \n",
       "  411.118,95.057 420.023,95.057 428.928,95.057 437.833,94.7087 446.738,94.7087 455.643,94.7087 464.548,95.057 473.454,94.3604 482.359,93.3155 491.264,93.6638 \n",
       "  500.169,94.0121 509.074,94.0121 517.979,94.3604 526.884,94.3604 535.789,94.7087 544.694,94.3604 553.6,94.3604 562.505,95.057 571.41,95.057 580.315,95.7536 \n",
       "  \n",
       "  \"/>\n",
       "<polyline clip-path=\"url(#clip8802)\" style=\"stroke:#3da44d; stroke-width:1; stroke-opacity:1; fill:none\" points=\"\n",
       "  54.9131,35.3219 63.8182,119.729 72.7233,164.313 81.6285,192.177 90.5336,212.902 99.4387,228.518 108.344,238.619 117.249,248.081 126.154,256.15 135.059,261.607 \n",
       "  143.964,266.948 152.869,271.65 161.775,276.759 170.68,280.764 179.585,284.886 188.49,288.601 197.395,291.62 206.3,294.348 215.205,296.264 224.11,299.515 \n",
       "  233.015,302.301 241.921,304.507 250.826,306.597 259.731,308.455 268.636,310.254 277.541,311.938 286.446,313.621 295.351,314.84 304.256,316.059 313.161,317.221 \n",
       "  322.067,319.078 330.972,320.123 339.877,321.632 348.782,323.548 357.687,325.638 366.592,327.38 375.497,328.541 384.402,330.224 393.308,332.314 402.213,333.127 \n",
       "  411.118,334.81 420.023,334.868 428.928,336.842 437.833,337.887 446.738,338.525 455.643,339.803 464.548,340.325 473.454,341.196 482.359,342.183 491.264,343.402 \n",
       "  500.169,344.389 509.074,345.201 517.979,345.317 526.884,345.898 535.789,346.885 544.694,346.653 553.6,347.698 562.505,348.278 571.41,349.149 580.315,349.555 \n",
       "  \n",
       "  \"/>\n",
       "<polyline clip-path=\"url(#clip8802)\" style=\"stroke:#c271d2; stroke-width:1; stroke-opacity:1; fill:none\" points=\"\n",
       "  54.9131,44.5521 63.8182,119.439 72.7233,156.011 81.6285,181.438 90.5336,201.291 99.4387,211.741 108.344,219.752 117.249,230.549 126.154,239.954 135.059,243.089 \n",
       "  143.964,245.527 152.869,251.796 161.775,253.19 170.68,254.931 179.585,254.931 188.49,254.235 197.395,258.066 206.3,256.673 215.205,258.763 224.11,261.897 \n",
       "  233.015,262.594 241.921,264.684 250.826,265.032 259.731,265.032 268.636,265.729 277.541,267.47 286.446,267.122 295.351,267.47 304.256,268.167 313.161,269.56 \n",
       "  322.067,269.56 330.972,268.167 339.877,269.56 348.782,268.864 357.687,269.212 366.592,268.864 375.497,266.425 384.402,267.47 393.308,268.167 402.213,267.47 \n",
       "  411.118,267.47 420.023,265.729 428.928,267.819 437.833,265.729 446.738,266.077 455.643,266.077 464.548,266.774 473.454,265.38 482.359,264.336 491.264,265.38 \n",
       "  500.169,265.032 509.074,264.684 517.979,264.336 526.884,263.987 535.789,266.077 544.694,265.38 553.6,266.425 562.505,264.684 571.41,265.38 580.315,266.425 \n",
       "  \n",
       "  \"/>\n",
       "<polygon clip-path=\"url(#clip8800)\" points=\"\n",
       "454.169,108.291 562.315,108.291 562.315,32.691 454.169,32.691 \n",
       "  \" fill=\"#ffffff\" fill-opacity=\"1\"/>\n",
       "<polyline clip-path=\"url(#clip8800)\" style=\"stroke:#000000; stroke-width:1; stroke-opacity:1; fill:none\" points=\"\n",
       "  454.169,108.291 562.315,108.291 562.315,32.691 454.169,32.691 454.169,108.291 \n",
       "  \"/>\n",
       "<polyline clip-path=\"url(#clip8800)\" style=\"stroke:#009af9; stroke-width:1; stroke-opacity:1; fill:none\" points=\"\n",
       "  460.169,47.811 496.169,47.811 \n",
       "  \"/>\n",
       "<g clip-path=\"url(#clip8800)\">\n",
       "<text style=\"fill:#000000; fill-opacity:1; font-family:Arial,Helvetica Neue,Helvetica,sans-serif; font-size:12; text-anchor:start;\" transform=\"rotate(0, 502.169, 52.311)\" x=\"502.169\" y=\"52.311\">trnsofterr</text>\n",
       "</g>\n",
       "<polyline clip-path=\"url(#clip8800)\" style=\"stroke:#e26f46; stroke-width:1; stroke-opacity:1; fill:none\" points=\"\n",
       "  460.169,62.931 496.169,62.931 \n",
       "  \"/>\n",
       "<g clip-path=\"url(#clip8800)\">\n",
       "<text style=\"fill:#000000; fill-opacity:1; font-family:Arial,Helvetica Neue,Helvetica,sans-serif; font-size:12; text-anchor:start;\" transform=\"rotate(0, 502.169, 67.431)\" x=\"502.169\" y=\"67.431\">tstsofterr</text>\n",
       "</g>\n",
       "<polyline clip-path=\"url(#clip8800)\" style=\"stroke:#3da44d; stroke-width:1; stroke-opacity:1; fill:none\" points=\"\n",
       "  460.169,78.051 496.169,78.051 \n",
       "  \"/>\n",
       "<g clip-path=\"url(#clip8800)\">\n",
       "<text style=\"fill:#000000; fill-opacity:1; font-family:Arial,Helvetica Neue,Helvetica,sans-serif; font-size:12; text-anchor:start;\" transform=\"rotate(0, 502.169, 82.551)\" x=\"502.169\" y=\"82.551\">trnmlperr</text>\n",
       "</g>\n",
       "<polyline clip-path=\"url(#clip8800)\" style=\"stroke:#c271d2; stroke-width:1; stroke-opacity:1; fill:none\" points=\"\n",
       "  460.169,93.171 496.169,93.171 \n",
       "  \"/>\n",
       "<g clip-path=\"url(#clip8800)\">\n",
       "<text style=\"fill:#000000; fill-opacity:1; font-family:Arial,Helvetica Neue,Helvetica,sans-serif; font-size:12; text-anchor:start;\" transform=\"rotate(0, 502.169, 97.671)\" x=\"502.169\" y=\"97.671\">tstmlperr</text>\n",
       "</g>\n",
       "</svg>\n"
      ]
     },
     "execution_count": 53,
     "metadata": {},
     "output_type": "execute_result"
    }
   ],
   "source": [
    "plot([trnsofterr tstsofterr trnmlperr tstmlperr],ylim=(.0,.10),labels=[:trnsofterr :tstsofterr :trnmlperr :tstmlperr],xlabel=\"Epochs\",ylabel=\"Error\")"
   ]
  },
  {
   "cell_type": "code",
   "execution_count": 54,
   "metadata": {},
   "outputs": [],
   "source": [
    "# Cleanup\n",
    "wmlp = mlpmodels = nothing; knetgc()"
   ]
  },
  {
   "cell_type": "markdown",
   "metadata": {},
   "source": [
    "# CNN example with MNIST (The LeNet model)"
   ]
  },
  {
   "cell_type": "code",
   "execution_count": 55,
   "metadata": {
    "scrolled": true
   },
   "outputs": [
    {
     "data": {
      "text/plain": [
       "predict (generic function with 1 method)"
      ]
     },
     "execution_count": 55,
     "metadata": {},
     "output_type": "execute_result"
    }
   ],
   "source": [
    "# We only need to change the predict function!\n",
    "function predict(w,x) # LeNet model\n",
    "    n=length(w)-4\n",
    "    for i=1:2:n\n",
    "        x = pool(relu.(conv4(w[i],x) .+ w[i+1]))\n",
    "    end\n",
    "    for i=n+1:2:length(w)-2\n",
    "        x = relu.(w[i]*mat(x) .+ w[i+1])\n",
    "    end\n",
    "    return w[end-1]*x .+ w[end]\n",
    "end"
   ]
  },
  {
   "cell_type": "code",
   "execution_count": 57,
   "metadata": {},
   "outputs": [
    {
     "data": {
      "text/plain": [
       "4.1054115f0"
      ]
     },
     "execution_count": 57,
     "metadata": {},
     "output_type": "execute_result"
    }
   ],
   "source": [
    "wcnn=map(Atype, [ 0.1*randn(5,5,1,20),  zeros(1,1,20,1), \n",
    "                  0.1*randn(5,5,20,50), zeros(1,1,50,1),\n",
    "                  0.1*randn(500,800),  zeros(500,1),\n",
    "                  0.1*randn(10,500),  zeros(10,1) ])\n",
    "loss(wcnn, x, y)"
   ]
  },
  {
   "cell_type": "markdown",
   "metadata": {},
   "source": [
    "## Train CNN model"
   ]
  },
  {
   "cell_type": "code",
   "execution_count": null,
   "metadata": {},
   "outputs": [],
   "source": [
    "@time cnnmodels = [ copy(train!(wcnn, dtrn)) for epoch=1:60 ]; # ~127 seconds"
   ]
  },
  {
   "cell_type": "markdown",
   "metadata": {},
   "source": [
    "## Compare CNN loss with MLP"
   ]
  },
  {
   "cell_type": "code",
   "execution_count": null,
   "metadata": {},
   "outputs": [],
   "source": [
    "@time trncnnloss = [ nll(w,dtrn,predict) for w in cnnmodels ]; # ~48 seconds\n",
    "@time tstcnnloss = [ nll(w,dtst,predict) for w in cnnmodels ]; # ~8 seconds"
   ]
  },
  {
   "cell_type": "code",
   "execution_count": null,
   "metadata": {},
   "outputs": [],
   "source": [
    "plot([trnsoftloss tstsoftloss trnmlploss tstmlploss trncnnloss tstcnnloss],ylim=(.0,.36),labels=[:trnsoftloss :tstsoftloss :trnmlploss :tstmlploss :trncnnloss :tstcnnloss],xlabel=\"Epochs\",ylabel=\"Loss\") "
   ]
  },
  {
   "cell_type": "markdown",
   "metadata": {},
   "source": [
    "## Compare CNN error with MLP"
   ]
  },
  {
   "cell_type": "code",
   "execution_count": null,
   "metadata": {},
   "outputs": [],
   "source": [
    "@time trncnnerr = [ 1-accuracy(w,dtrn,predict) for w in cnnmodels ]; # ~48 seconds\n",
    "@time tstcnnerr = [ 1-accuracy(w,dtst,predict) for w in cnnmodels ]; # ~8 seconds"
   ]
  },
  {
   "cell_type": "code",
   "execution_count": null,
   "metadata": {
    "scrolled": false
   },
   "outputs": [],
   "source": [
    "plot([trnsofterr tstsofterr trnmlperr tstmlperr trncnnerr tstcnnerr],ylim=(.0,.10),labels=[:trnsofterr :tstsofterr :trnmlperr :tstmlperr :trncnnerr :tstcnnerr],xlabel=\"Epochs\",ylabel=\"Error\")"
   ]
  },
  {
   "cell_type": "code",
   "execution_count": 42,
   "metadata": {},
   "outputs": [],
   "source": [
    "# Cleanup\n",
    "wcnn = cnnmodels = nothing; knetgc()"
   ]
  },
  {
   "cell_type": "markdown",
   "metadata": {},
   "source": [
    "# Shakespeare example"
   ]
  },
  {
   "cell_type": "code",
   "execution_count": 43,
   "metadata": {},
   "outputs": [],
   "source": [
    "# Please see charlm.ipynb for training a character based language model on \"The Complete Works of William Shakespeare\""
   ]
  },
  {
   "cell_type": "markdown",
   "metadata": {},
   "source": [
    "# VGG example"
   ]
  },
  {
   "cell_type": "code",
   "execution_count": 44,
   "metadata": {},
   "outputs": [],
   "source": [
    "include(Knet.dir(\"examples/vgg/vgg.jl\"));"
   ]
  },
  {
   "cell_type": "code",
   "execution_count": null,
   "metadata": {},
   "outputs": [],
   "source": [
    "caturl = \"https://github.com/BVLC/caffe/raw/master/examples/images/cat.jpg\"\n",
    "catfile = download(caturl)\n",
    "load(catfile)"
   ]
  },
  {
   "cell_type": "code",
   "execution_count": 47,
   "metadata": {},
   "outputs": [
    {
     "name": "stdout",
     "output_type": "stream",
     "text": [
      "vgg.jl (c) Deniz Yuret, İlker Kesen, 2016. Classifying images with the VGG model from http://www.robots.ox.ac.uk/~vgg/research/very_deep.\n",
      "opts=(:atype, \"KnetArray{Float32}\")(:top, 5)(:image, \"/dev/shm/dyuret/.julia/v0.6/Knet/data/cat.jpg\")(:model, \"imagenet-vgg-verydeep-16\")\n"
     ]
    },
    {
     "name": "stderr",
     "output_type": "stream",
     "text": [
      "\u001b[1m\u001b[36mINFO: \u001b[39m\u001b[22m\u001b[36mLoading imagenet-vgg-verydeep-16.mat...\n",
      "\u001b[39m"
     ]
    },
    {
     "data": {
      "text/plain": [
       "5×2 Array{Any,2}:\n",
       " 0.27327    \"tabby, tabby cat\"        \n",
       " 0.253185   \"Egyptian cat\"            \n",
       " 0.248429   \"tiger cat\"               \n",
       " 0.060727   \"kit fox, Vulpes macrotis\"\n",
       " 0.0561707  \"red fox, Vulpes vulpes\"  "
      ]
     },
     "metadata": {},
     "output_type": "display_data"
    },
    {
     "name": "stdout",
     "output_type": "stream",
     "text": [
      "  5.173264 seconds (61.56 k allocations: 3.428 MiB, 81.30% gc time)\n"
     ]
    },
    {
     "name": "stderr",
     "output_type": "stream",
     "text": [
      "\u001b[1m\u001b[36mINFO: \u001b[39m\u001b[22m\u001b[36mClassifying\n",
      "\u001b[39m"
     ]
    },
    {
     "name": "stdout",
     "output_type": "stream",
     "text": [
      "\n"
     ]
    }
   ],
   "source": [
    "VGG.main(catfile)"
   ]
  },
  {
   "cell_type": "code",
   "execution_count": 48,
   "metadata": {},
   "outputs": [
    {
     "name": "stdout",
     "output_type": "stream",
     "text": [
      "vgg.jl (c) Deniz Yuret, İlker Kesen, 2016. Classifying images with the VGG model from http://www.robots.ox.ac.uk/~vgg/research/very_deep.\n",
      "opts=(:atype, \"KnetArray{Float32}\")(:top, 5)(:image, \"https://cvimg1.cardekho.com/p/237x156/in/mahindra/torro-25/mahindra-torro-25.jpg\")(:model, \"imagenet-vgg-verydeep-16\")\n"
     ]
    },
    {
     "name": "stderr",
     "output_type": "stream",
     "text": [
      "\u001b[1m\u001b[36mINFO: \u001b[39m\u001b[22m\u001b[36mDownloading https://cvimg1.cardekho.com/p/237x156/in/mahindra/torro-25/mahindra-torro-25.jpg\n",
      "\u001b[39m  % Total    % Received % Xferd  Average Speed   Time    Time     Time  Current\n",
      "                                 Dload  Upload   Total   Spent    Left  Speed\n",
      "100 13411  100 13411    0     0   6702      0  0:00:02  0:00:02 --:--:--  6705\n",
      "\u001b[1m\u001b[36mINFO: \u001b[39m\u001b[22m\u001b[36mClassifying\n",
      "\u001b[39m"
     ]
    },
    {
     "data": {
      "text/plain": [
       "5×2 Array{Any,2}:\n",
       " 0.899679    \"garbage truck, dustcart\"                                                   \n",
       " 0.0654105   \"moving van\"                                                                \n",
       " 0.0201083   \"crane\"                                                                     \n",
       " 0.00583589  \"trailer truck, tractor trailer, trucking rig, rig, articulated lorry, semi\"\n",
       " 0.00515393  \"snowplow, snowplough\"                                                      "
      ]
     },
     "metadata": {},
     "output_type": "display_data"
    },
    {
     "name": "stdout",
     "output_type": "stream",
     "text": [
      "  0.039080 seconds (1.85 k allocations: 90.297 KiB)\n",
      "\n"
     ]
    }
   ],
   "source": [
    "VGG.main(\"https://cvimg1.cardekho.com/p/237x156/in/mahindra/torro-25/mahindra-torro-25.jpg\")"
   ]
  },
  {
   "cell_type": "code",
   "execution_count": null,
   "metadata": {},
   "outputs": [],
   "source": []
  }
 ],
 "metadata": {
  "kernelspec": {
   "display_name": "Julia 0.6.2",
   "language": "julia",
   "name": "julia-0.6"
  },
  "language_info": {
   "file_extension": ".jl",
   "mimetype": "application/julia",
   "name": "julia",
   "version": "0.6.2"
  }
 },
 "nbformat": 4,
 "nbformat_minor": 2
}
