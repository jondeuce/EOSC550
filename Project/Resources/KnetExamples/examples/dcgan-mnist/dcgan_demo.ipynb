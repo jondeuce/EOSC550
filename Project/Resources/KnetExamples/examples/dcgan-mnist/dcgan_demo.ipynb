{
 "cells": [
  {
   "cell_type": "code",
   "execution_count": 1,
   "metadata": {
    "collapsed": false,
    "scrolled": false
   },
   "outputs": [],
   "source": [
    "include(\"dcgan.jl\");"
   ]
  },
  {
   "cell_type": "code",
   "execution_count": 2,
   "metadata": {
    "collapsed": false
   },
   "outputs": [],
   "source": [
    "z = DCGAN.sample_noise(Knet.KnetArray{Float32},100,64);"
   ]
  },
  {
   "cell_type": "code",
   "execution_count": 3,
   "metadata": {
    "collapsed": false,
    "scrolled": true
   },
   "outputs": [
    {
     "name": "stderr",
     "output_type": "stream",
     "text": [
      "\u001b[1m\u001b[36mINFO: \u001b[39m\u001b[22m\u001b[36mLoading MNIST...\n",
      "\u001b[39m"
     ]
    },
    {
     "name": "stdout",
     "output_type": "stream",
     "text": [
      "training started...\n"
     ]
    }
   ],
   "source": [
    "wd, wg, md, mg = DCGAN.main(\"--epochs 0 --seed 1\");"
   ]
  },
  {
   "cell_type": "code",
   "execution_count": 4,
   "metadata": {
    "collapsed": false,
    "scrolled": false
   },
   "outputs": [
    {
     "data": {
      "image/png": "[encoded data removed]",
      "text/plain": [
       "233×233 Array{Gray{Float64},2}:\n",
       " Gray{Float64}(1.0)  Gray{Float64}(1.0)       …  Gray{Float64}(1.0)\n",
       " Gray{Float64}(1.0)  Gray{Float64}(0.500948)     Gray{Float64}(1.0)\n",
       " Gray{Float64}(1.0)  Gray{Float64}(0.500948)     Gray{Float64}(1.0)\n",
       " Gray{Float64}(1.0)  Gray{Float64}(0.500948)     Gray{Float64}(1.0)\n",
       " Gray{Float64}(1.0)  Gray{Float64}(0.500948)     Gray{Float64}(1.0)\n",
       " Gray{Float64}(1.0)  Gray{Float64}(0.500948)  …  Gray{Float64}(1.0)\n",
       " Gray{Float64}(1.0)  Gray{Float64}(0.500948)     Gray{Float64}(1.0)\n",
       " Gray{Float64}(1.0)  Gray{Float64}(0.500948)     Gray{Float64}(1.0)\n",
       " Gray{Float64}(1.0)  Gray{Float64}(0.500947)     Gray{Float64}(1.0)\n",
       " Gray{Float64}(1.0)  Gray{Float64}(0.500948)     Gray{Float64}(1.0)\n",
       " Gray{Float64}(1.0)  Gray{Float64}(0.500948)  …  Gray{Float64}(1.0)\n",
       " Gray{Float64}(1.0)  Gray{Float64}(0.500948)     Gray{Float64}(1.0)\n",
       " Gray{Float64}(1.0)  Gray{Float64}(0.500948)     Gray{Float64}(1.0)\n",
       " ⋮                                            ⋱                    \n",
       " Gray{Float64}(1.0)  Gray{Float64}(0.500948)     Gray{Float64}(1.0)\n",
       " Gray{Float64}(1.0)  Gray{Float64}(0.500948)     Gray{Float64}(1.0)\n",
       " Gray{Float64}(1.0)  Gray{Float64}(0.500948)     Gray{Float64}(1.0)\n",
       " Gray{Float64}(1.0)  Gray{Float64}(0.500948)     Gray{Float64}(1.0)\n",
       " Gray{Float64}(1.0)  Gray{Float64}(0.500948)  …  Gray{Float64}(1.0)\n",
       " Gray{Float64}(1.0)  Gray{Float64}(0.500948)     Gray{Float64}(1.0)\n",
       " Gray{Float64}(1.0)  Gray{Float64}(0.500948)     Gray{Float64}(1.0)\n",
       " Gray{Float64}(1.0)  Gray{Float64}(0.500948)     Gray{Float64}(1.0)\n",
       " Gray{Float64}(1.0)  Gray{Float64}(0.500948)     Gray{Float64}(1.0)\n",
       " Gray{Float64}(1.0)  Gray{Float64}(0.500948)  …  Gray{Float64}(1.0)\n",
       " Gray{Float64}(1.0)  Gray{Float64}(0.500948)     Gray{Float64}(1.0)\n",
       " Gray{Float64}(1.0)  Gray{Float64}(1.0)          Gray{Float64}(1.0)"
      ]
     },
     "metadata": {},
     "output_type": "display_data"
    }
   ],
   "source": [
    "DCGAN.plot_generations(wg, mg; z=z);"
   ]
  },
  {
   "cell_type": "code",
   "execution_count": 5,
   "metadata": {
    "collapsed": false
   },
   "outputs": [
    {
     "name": "stdout",
     "output_type": "stream",
     "text": [
      "training started...\n",
      " 40.808852 seconds (11.86 M allocations: 863.173 MiB, 23.30% gc time)\n",
      "(:epoch, 1, :dloss, 1.0399873f0, :gloss, 1.0381111f0)\n",
      " 14.807760 seconds (8.73 M allocations: 695.833 MiB, 1.61% gc time)\n",
      "(:epoch, 2, :dloss, 0.9295048f0, :gloss, 1.2271004f0)\n",
      " 14.775014 seconds (8.70 M allocations: 695.493 MiB, 1.51% gc time)\n",
      "(:epoch, 3, :dloss, 0.84576887f0, :gloss, 1.3744906f0)\n",
      " 14.780985 seconds (8.73 M allocations: 695.897 MiB, 1.57% gc time)\n",
      "(:epoch, 4, :dloss, 0.7955806f0, :gloss, 1.4677418f0)\n",
      " 14.813642 seconds (8.73 M allocations: 695.897 MiB, 1.57% gc time)\n",
      "(:epoch, 5, :dloss, 0.7478834f0, :gloss, 1.5660868f0)\n",
      " 14.771147 seconds (8.70 M allocations: 695.493 MiB, 1.52% gc time)\n",
      "(:epoch, 6, :dloss, 0.7252834f0, :gloss, 1.6411537f0)\n",
      " 14.817558 seconds (8.73 M allocations: 695.897 MiB, 1.59% gc time)\n",
      "(:epoch, 7, :dloss, 0.68151283f0, :gloss, 1.7203023f0)\n",
      " 14.777957 seconds (8.70 M allocations: 695.493 MiB, 1.54% gc time)\n",
      "(:epoch, 8, :dloss, 0.66402686f0, :gloss, 1.8005757f0)\n",
      " 14.841908 seconds (8.73 M allocations: 695.897 MiB, 1.59% gc time)\n",
      "(:epoch, 9, :dloss, 0.63818955f0, :gloss, 1.8531466f0)\n",
      " 14.805805 seconds (8.70 M allocations: 695.493 MiB, 1.55% gc time)\n",
      "(:epoch, 10, :dloss, 0.6257664f0, :gloss, 1.9033401f0)\n"
     ]
    }
   ],
   "source": [
    "wd, wg, md, mg = DCGAN.main(\"--epochs 10 --seed 1\");"
   ]
  },
  {
   "cell_type": "code",
   "execution_count": 6,
   "metadata": {
    "collapsed": false
   },
   "outputs": [
    {
     "data": {
      "image/png": "[encoded data removed]",
      "text/plain": [
       "233×233 Array{Gray{Float64},2}:\n",
       " Gray{Float64}(1.0)  Gray{Float64}(1.0)         …  Gray{Float64}(1.0)\n",
       " Gray{Float64}(1.0)  Gray{Float64}(0.125654)       Gray{Float64}(1.0)\n",
       " Gray{Float64}(1.0)  Gray{Float64}(0.0698523)      Gray{Float64}(1.0)\n",
       " Gray{Float64}(1.0)  Gray{Float64}(0.0200906)      Gray{Float64}(1.0)\n",
       " Gray{Float64}(1.0)  Gray{Float64}(0.00410667)     Gray{Float64}(1.0)\n",
       " Gray{Float64}(1.0)  Gray{Float64}(0.00210628)  …  Gray{Float64}(1.0)\n",
       " Gray{Float64}(1.0)  Gray{Float64}(0.00389612)     Gray{Float64}(1.0)\n",
       " Gray{Float64}(1.0)  Gray{Float64}(0.00294706)     Gray{Float64}(1.0)\n",
       " Gray{Float64}(1.0)  Gray{Float64}(0.00687036)     Gray{Float64}(1.0)\n",
       " Gray{Float64}(1.0)  Gray{Float64}(0.00738195)     Gray{Float64}(1.0)\n",
       " Gray{Float64}(1.0)  Gray{Float64}(0.00620979)  …  Gray{Float64}(1.0)\n",
       " Gray{Float64}(1.0)  Gray{Float64}(0.00282541)     Gray{Float64}(1.0)\n",
       " Gray{Float64}(1.0)  Gray{Float64}(0.00212538)     Gray{Float64}(1.0)\n",
       " ⋮                                              ⋱                    \n",
       " Gray{Float64}(1.0)  Gray{Float64}(0.00266698)     Gray{Float64}(1.0)\n",
       " Gray{Float64}(1.0)  Gray{Float64}(0.00394255)     Gray{Float64}(1.0)\n",
       " Gray{Float64}(1.0)  Gray{Float64}(0.0114629)      Gray{Float64}(1.0)\n",
       " Gray{Float64}(1.0)  Gray{Float64}(0.00938967)     Gray{Float64}(1.0)\n",
       " Gray{Float64}(1.0)  Gray{Float64}(0.00868282)  …  Gray{Float64}(1.0)\n",
       " Gray{Float64}(1.0)  Gray{Float64}(0.00613895)     Gray{Float64}(1.0)\n",
       " Gray{Float64}(1.0)  Gray{Float64}(0.00507817)     Gray{Float64}(1.0)\n",
       " Gray{Float64}(1.0)  Gray{Float64}(0.00697488)     Gray{Float64}(1.0)\n",
       " Gray{Float64}(1.0)  Gray{Float64}(0.0170006)      Gray{Float64}(1.0)\n",
       " Gray{Float64}(1.0)  Gray{Float64}(0.0435712)   …  Gray{Float64}(1.0)\n",
       " Gray{Float64}(1.0)  Gray{Float64}(0.16385)        Gray{Float64}(1.0)\n",
       " Gray{Float64}(1.0)  Gray{Float64}(1.0)            Gray{Float64}(1.0)"
      ]
     },
     "metadata": {},
     "output_type": "display_data"
    }
   ],
   "source": [
    "DCGAN.plot_generations(wg, mg; z=z)"
   ]
  }
 ],
 "metadata": {
  "kernelspec": {
   "display_name": "Julia 0.6.2",
   "language": "julia",
   "name": "julia-0.6"
  },
  "language_info": {
   "file_extension": ".jl",
   "mimetype": "application/julia",
   "name": "julia",
   "version": "0.6.2"
  }
 },
 "nbformat": 4,
 "nbformat_minor": 2
}
