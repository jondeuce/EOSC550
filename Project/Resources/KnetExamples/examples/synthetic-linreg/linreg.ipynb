{
 "cells": [
  {
   "cell_type": "code",
   "execution_count": 1,
   "metadata": {},
   "outputs": [
    {
     "data": {
      "text/plain": [
       "LinReg"
      ]
     },
     "execution_count": 1,
     "metadata": {},
     "output_type": "execute_result"
    }
   ],
   "source": [
    "include(\"linreg.jl\")"
   ]
  },
  {
   "cell_type": "code",
   "execution_count": 2,
   "metadata": {},
   "outputs": [
    {
     "data": {
      "text/markdown": [
       "LinReg is a simple linear regression example using artificially generated data. You can run the demo using `julia linreg.jl` on the command line or `julia> LinReg.main()` at the Julia prompt.  Use `julia linreg.jl --help` or `julia> LinReg.main(\"--help\")` for a list of options.  The quadratic loss will be printed at every epoch and optimized parameters will be returned.\n"
      ],
      "text/plain": [
       "LinReg is a simple linear regression example using artificially generated data. You can run the demo using `julia linreg.jl` on the command line or `julia> LinReg.main()` at the Julia prompt.  Use `julia linreg.jl --help` or `julia> LinReg.main(\"--help\")` for a list of options.  The quadratic loss will be printed at every epoch and optimized parameters will be returned.\n"
      ]
     },
     "execution_count": 2,
     "metadata": {},
     "output_type": "execute_result"
    }
   ],
   "source": [
    "@doc LinReg"
   ]
  },
  {
   "cell_type": "code",
   "execution_count": 3,
   "metadata": {},
   "outputs": [
    {
     "name": "stdout",
     "output_type": "stream",
     "text": [
      "usage: <PROGRAM> [--atype ATYPE] [--batchsize BATCHSIZE]\n",
      "                 [--epochs EPOCHS] [--epochsize EPOCHSIZE] [--fast]\n",
      "                 [--inputdims INPUTDIMS] [--lr LR] [--noise NOISE]\n",
      "                 [--outputdims OUTPUTDIMS] [--seed SEED]\n",
      "                 [--gcheck GCHECK]\n",
      "\n",
      "linreg.jl (c) Deniz Yuret, 2016. Linear regression example with\n",
      "artificial data.\n",
      "\n",
      "optional arguments:\n",
      "  --atype ATYPE         array type: Array for cpu, KnetArray for gpu\n",
      "                        (default: \"KnetArray\")\n",
      "  --batchsize BATCHSIZE\n",
      "                        number of instances in a minibatch (type:\n",
      "                        Int64, default: 20)\n",
      "  --epochs EPOCHS       number of epochs for training (type: Int64,\n",
      "                        default: 10)\n",
      "  --epochsize EPOCHSIZE\n",
      "                        number of instances per epoch (type: Int64,\n",
      "                        default: 10000)\n",
      "  --fast                skip loss printing for faster run\n",
      "  --inputdims INPUTDIMS\n",
      "                        input dimensions (type: Int64, default: 100)\n",
      "  --lr LR               learning rate (type: Float64, default: 0.02)\n",
      "  --noise NOISE         noise in data (type: Float64, default: 0.01)\n",
      "  --outputdims OUTPUTDIMS\n",
      "                        output dimensions (type: Int64, default: 10)\n",
      "  --seed SEED           random number seed: use a nonnegative int for\n",
      "                        repeatable results (type: Int64, default: -1)\n",
      "  --gcheck GCHECK       check N random gradients (type: Int64,\n",
      "                        default: 0)\n",
      "\n"
     ]
    }
   ],
   "source": [
    "LinReg.main(\"--help\")"
   ]
  },
  {
   "cell_type": "code",
   "execution_count": 4,
   "metadata": {},
   "outputs": [
    {
     "name": "stdout",
     "output_type": "stream",
     "text": [
      "linreg.jl (c) Deniz Yuret, 2016. Linear regression example with artificial data.\n",
      "opts=(:atype, \"KnetArray\")(:fast, false)(:batchsize, 20)(:inputdims, 100)(:noise, 0.01)(:gcheck, 0)(:epochs, 10)(:epochsize, 10000)(:lr, 0.02)(:seed, -1)(:outputdims, 10)\n",
      "(:epoch, 0, :loss, 281.48090011467406)\n",
      "(:epoch, 1, :loss, 3.3224532069538113)\n",
      "(:epoch, 2, :loss, 0.11680316461391027)\n",
      "(:epoch, 3, :loss, 0.005245939110979906)\n",
      "(:epoch, 4, :loss, 0.001234824331595355)\n",
      "(:epoch, 5, :loss, 0.0010406794588657486)\n",
      "(:epoch, 6, :loss, 0.0010570350480464603)\n",
      "(:epoch, 7, :loss, 0.0010259528584238905)\n",
      "(:epoch, 8, :loss, 0.0011014580801036666)\n",
      "(:epoch, 9, :loss, 0.0010782192366639526)\n",
      "(:epoch, 10, :loss, 0.0010457649762948419)\n",
      "  2.605710 seconds (1.96 M allocations: 263.616 MiB, 1.33% gc time)\n"
     ]
    },
    {
     "data": {
      "text/plain": [
       "Knet.KnetArray{Float64,2}(Knet.KnetPtr(Ptr{Void} @0x0000008106a5a000, 8000, 0, nothing), (10, 100))"
      ]
     },
     "execution_count": 4,
     "metadata": {},
     "output_type": "execute_result"
    }
   ],
   "source": [
    "LinReg.main(\"\")"
   ]
  },
  {
   "cell_type": "code",
   "execution_count": null,
   "metadata": {},
   "outputs": [],
   "source": []
  }
 ],
 "metadata": {
  "kernelspec": {
   "display_name": "Julia 0.6.1",
   "language": "julia",
   "name": "julia-0.6"
  },
  "language_info": {
   "file_extension": ".jl",
   "mimetype": "application/julia",
   "name": "julia",
   "version": "0.6.1"
  }
 },
 "nbformat": 4,
 "nbformat_minor": 2
}
