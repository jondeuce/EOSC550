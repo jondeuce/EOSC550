{
 "cells": [
  {
   "cell_type": "code",
   "execution_count": 1,
   "metadata": {},
   "outputs": [
    {
     "data": {
      "text/plain": [
       "Housing"
      ]
     },
     "execution_count": 1,
     "metadata": {},
     "output_type": "execute_result"
    }
   ],
   "source": [
    "include(\"housing.jl\")"
   ]
  },
  {
   "cell_type": "code",
   "execution_count": 2,
   "metadata": {},
   "outputs": [
    {
     "data": {
      "text/markdown": [
       "This example uses the [Boston Housing](https://archive.ics.uci.edu/ml/machine-learning-databases/housing) dataset from the UCI Machine Learning Repository to demonstrate a linear regression model. The dataset has housing related information for 506 neighborhoods in Boston from 1978. Each neighborhood has 14 attributes, the goal is to use the first 13, such as average number of rooms per house, or distance to employment centers, to predict the 14’th attribute: median dollar value of the houses.\n",
       "\n",
       "You can run the demo using `julia housing.jl`.  Use `julia housing.jl --help` for a list of options.  The dataset will be automatically downloaded and randomly split into training and test sets.  The quadratic loss for the training and test sets will be printed at every epoch and optimized parameters will be returned.\n"
      ],
      "text/plain": [
       "This example uses the [Boston Housing](https://archive.ics.uci.edu/ml/machine-learning-databases/housing) dataset from the UCI Machine Learning Repository to demonstrate a linear regression model. The dataset has housing related information for 506 neighborhoods in Boston from 1978. Each neighborhood has 14 attributes, the goal is to use the first 13, such as average number of rooms per house, or distance to employment centers, to predict the 14’th attribute: median dollar value of the houses.\n",
       "\n",
       "You can run the demo using `julia housing.jl`.  Use `julia housing.jl --help` for a list of options.  The dataset will be automatically downloaded and randomly split into training and test sets.  The quadratic loss for the training and test sets will be printed at every epoch and optimized parameters will be returned.\n"
      ]
     },
     "execution_count": 2,
     "metadata": {},
     "output_type": "execute_result"
    }
   ],
   "source": [
    "@doc Housing"
   ]
  },
  {
   "cell_type": "code",
   "execution_count": 3,
   "metadata": {},
   "outputs": [
    {
     "name": "stdout",
     "output_type": "stream",
     "text": [
      "usage: <PROGRAM> [--seed SEED] [--epochs EPOCHS] [--lr LR]\n",
      "                 [--test TEST] [--atype ATYPE] [--fast]\n",
      "                 [--gcheck GCHECK]\n",
      "\n",
      "housing.jl (c) Deniz Yuret, 2016. Linear regression model for the\n",
      "Housing dataset from the UCI Machine Learning Repository.\n",
      "\n",
      "optional arguments:\n",
      "  --seed SEED      random number seed: use a nonnegative int for\n",
      "                   repeatable results (type: Int64, default: -1)\n",
      "  --epochs EPOCHS  number of epochs for training (type: Int64,\n",
      "                   default: 20)\n",
      "  --lr LR          learning rate (type: Float64, default: 0.1)\n",
      "  --test TEST      ratio of data to split for testing (type: Float64,\n",
      "                   default: 0.0)\n",
      "  --atype ATYPE    array type: Array for cpu, KnetArray for gpu\n",
      "                   (default: \"KnetArray{Float32}\")\n",
      "  --fast           skip loss printing for faster run\n",
      "  --gcheck GCHECK  check N random gradients (type: Int64, default: 0)\n",
      "\n"
     ]
    }
   ],
   "source": [
    "Housing.main(\"--help\")"
   ]
  },
  {
   "cell_type": "code",
   "execution_count": 4,
   "metadata": {},
   "outputs": [
    {
     "name": "stdout",
     "output_type": "stream",
     "text": [
      "housing.jl (c) Deniz Yuret, 2016. Linear regression model for the Housing dataset from the UCI Machine Learning\n",
      "Repository.\n",
      "opts=(:fast, false)(:atype, \"KnetArray{Float32}\")(:test, 0.0)(:epochs, 20)(:gcheck, 0)(:lr, 0.1)(:seed, -1)\n",
      "(:epoch, 0, :trn, 589.85065f0, :tst, 589.85065f0)\n",
      "(:epoch, 1, :trn, 367.85074f0, :tst, 367.85074f0)\n",
      "(:epoch, 2, :trn, 242.61212f0, :tst, 242.61212f0)\n",
      "(:epoch, 3, :trn, 163.6241f0, :tst, 163.6241f0)\n",
      "(:epoch, 4, :trn, 113.27231f0, :tst, 113.27231f0)\n",
      "(:epoch, 5, :trn, 81.10516f0, :tst, 81.10516f0)\n",
      "(:epoch, 6, :trn, 60.52192f0, :tst, 60.52192f0)\n",
      "(:epoch, 7, :trn, 47.327198f0, :tst, 47.327198f0)\n",
      "(:epoch, 8, :trn, 38.850117f0, :tst, 38.850117f0)\n",
      "(:epoch, 9, :trn, 33.38844f0, :tst, 33.38844f0)\n",
      "(:epoch, 10, :trn, 29.856302f0, :tst, 29.856302f0)\n",
      "(:epoch, 11, :trn, 27.560385f0, :tst, 27.560385f0)\n",
      "(:epoch, 12, :trn, 26.057644f0, :tst, 26.057644f0)\n",
      "(:epoch, 13, :trn, 25.06475f0, :tst, 25.06475f0)\n",
      "(:epoch, 14, :trn, 24.40036f0, :tst, 24.40036f0)\n",
      "(:epoch, 15, :trn, 23.948296f0, :tst, 23.948296f0)\n",
      "(:epoch, 16, :trn, 23.634052f0, :tst, 23.634052f0)\n",
      "(:epoch, 17, :trn, 23.409775f0, :tst, 23.409775f0)\n",
      "(:epoch, 18, :trn, 23.2447f0, :tst, 23.2447f0)\n",
      "(:epoch, 19, :trn, 23.11899f0, :tst, 23.11899f0)\n",
      "(:epoch, 20, :trn, 23.019817f0, :tst, 23.019817f0)\n",
      "  1.228628 seconds (640.27 k allocations: 33.816 MiB, 1.09% gc time)\n"
     ]
    },
    {
     "data": {
      "text/plain": [
       "2-element Array{Knet.KnetArray{Float32,2},1}:\n",
       " Knet.KnetArray{Float32,2}(Knet.KnetPtr(Ptr{Void} @0x00000081050e0000, 52, 0, nothing), (1, 13))\n",
       " Knet.KnetArray{Float32,2}(Knet.KnetPtr(Ptr{Void} @0x00000081050e0200, 4, 0, nothing), (1, 1))  "
      ]
     },
     "execution_count": 4,
     "metadata": {},
     "output_type": "execute_result"
    }
   ],
   "source": [
    "Housing.main(\"\")"
   ]
  }
 ],
 "metadata": {
  "kernelspec": {
   "display_name": "Julia 0.6.1",
   "language": "julia",
   "name": "julia-0.6"
  },
  "language_info": {
   "file_extension": ".jl",
   "mimetype": "application/julia",
   "name": "julia",
   "version": "0.6.1"
  }
 },
 "nbformat": 4,
 "nbformat_minor": 2
}
