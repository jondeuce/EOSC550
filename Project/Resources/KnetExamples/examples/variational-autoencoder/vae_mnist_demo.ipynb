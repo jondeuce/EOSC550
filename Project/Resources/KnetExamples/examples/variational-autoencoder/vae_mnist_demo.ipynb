{
 "cells": [
  {
   "cell_type": "code",
   "execution_count": 1,
   "metadata": {
    "collapsed": false,
    "scrolled": true
   },
   "outputs": [
    {
     "data": {
      "text/plain": [
       "VAE"
      ]
     },
     "execution_count": 1,
     "metadata": {},
     "output_type": "execute_result"
    }
   ],
   "source": [
    "include(\"vae_mnist.jl\")"
   ]
  },
  {
   "cell_type": "code",
   "execution_count": 2,
   "metadata": {
    "collapsed": false
   },
   "outputs": [
    {
     "name": "stderr",
     "output_type": "stream",
     "text": [
      "\u001b[1m\u001b[36mINFO: \u001b[39m\u001b[22m\u001b[36musing Knet.KnetArray{Float32,N} where N\n",
      "\u001b[39m\u001b[1m\u001b[36mINFO: \u001b[39m\u001b[22m\u001b[36mLoading MNIST...\n",
      "\u001b[39m"
     ]
    },
    {
     "name": "stdout",
     "output_type": "stream",
     "text": [
      "(:epoch, 0, :trn, 0.69387156f0, :tst, 0.69387734f0)\n",
      "  0.000014 seconds (1 allocation: 32 bytes)\n"
     ]
    }
   ],
   "source": [
    "# obtain a non-trained network\n",
    "θ, ϕ = VAE.main(\"--infotime 10 --seed 1 --epochs 0\");"
   ]
  },
  {
   "cell_type": "code",
   "execution_count": 3,
   "metadata": {
    "collapsed": false
   },
   "outputs": [
    {
     "data": {
      "image/png": "[encoded data removed]",
      "text/plain": [
       "146×146 Array{Gray{Float64},2}:\n",
       " Gray{Float64}(1.0)  Gray{Float64}(1.0)       …  Gray{Float64}(1.0)\n",
       " Gray{Float64}(1.0)  Gray{Float64}(0.475546)     Gray{Float64}(1.0)\n",
       " Gray{Float64}(1.0)  Gray{Float64}(0.48606)      Gray{Float64}(1.0)\n",
       " Gray{Float64}(1.0)  Gray{Float64}(0.482415)     Gray{Float64}(1.0)\n",
       " Gray{Float64}(1.0)  Gray{Float64}(0.521937)     Gray{Float64}(1.0)\n",
       " Gray{Float64}(1.0)  Gray{Float64}(0.491205)  …  Gray{Float64}(1.0)\n",
       " Gray{Float64}(1.0)  Gray{Float64}(0.503692)     Gray{Float64}(1.0)\n",
       " Gray{Float64}(1.0)  Gray{Float64}(0.465917)     Gray{Float64}(1.0)\n",
       " Gray{Float64}(1.0)  Gray{Float64}(0.517835)     Gray{Float64}(1.0)\n",
       " Gray{Float64}(1.0)  Gray{Float64}(0.518627)     Gray{Float64}(1.0)\n",
       " Gray{Float64}(1.0)  Gray{Float64}(0.527201)  …  Gray{Float64}(1.0)\n",
       " Gray{Float64}(1.0)  Gray{Float64}(0.510172)     Gray{Float64}(1.0)\n",
       " Gray{Float64}(1.0)  Gray{Float64}(0.483395)     Gray{Float64}(1.0)\n",
       " ⋮                                            ⋱  ⋮                 \n",
       " Gray{Float64}(1.0)  Gray{Float64}(0.514869)     Gray{Float64}(1.0)\n",
       " Gray{Float64}(1.0)  Gray{Float64}(0.476891)  …  Gray{Float64}(1.0)\n",
       " Gray{Float64}(1.0)  Gray{Float64}(0.49009)      Gray{Float64}(1.0)\n",
       " Gray{Float64}(1.0)  Gray{Float64}(0.487305)     Gray{Float64}(1.0)\n",
       " Gray{Float64}(1.0)  Gray{Float64}(0.504908)     Gray{Float64}(1.0)\n",
       " Gray{Float64}(1.0)  Gray{Float64}(0.523994)     Gray{Float64}(1.0)\n",
       " Gray{Float64}(1.0)  Gray{Float64}(0.523819)  …  Gray{Float64}(1.0)\n",
       " Gray{Float64}(1.0)  Gray{Float64}(0.479926)     Gray{Float64}(1.0)\n",
       " Gray{Float64}(1.0)  Gray{Float64}(0.507368)     Gray{Float64}(1.0)\n",
       " Gray{Float64}(1.0)  Gray{Float64}(0.481593)     Gray{Float64}(1.0)\n",
       " Gray{Float64}(1.0)  Gray{Float64}(0.518907)     Gray{Float64}(1.0)\n",
       " Gray{Float64}(1.0)  Gray{Float64}(1.0)       …  Gray{Float64}(1.0)"
      ]
     },
     "metadata": {},
     "output_type": "display_data"
    }
   ],
   "source": [
    "# generate examples with the non-trained network\n",
    "VAE.plot_dream(θ);"
   ]
  },
  {
   "cell_type": "code",
   "execution_count": 4,
   "metadata": {
    "collapsed": false
   },
   "outputs": [
    {
     "name": "stderr",
     "output_type": "stream",
     "text": [
      "\u001b[1m\u001b[36mINFO: \u001b[39m\u001b[22m\u001b[36musing Knet.KnetArray{Float32,N} where N\n",
      "\u001b[39m\u001b[1m\u001b[36mINFO: \u001b[39m\u001b[22m\u001b[36mLoading MNIST...\n",
      "\u001b[39m"
     ]
    },
    {
     "name": "stdout",
     "output_type": "stream",
     "text": [
      "(:epoch, 0, :trn, 0.6938733f0, :tst, 0.6938929f0)\n",
      "(:epoch, 10, :trn, 0.13422799f0, :tst, 0.13388626f0)\n",
      "elapsed time: 26.012119437 seconds\n",
      "(:epoch, 20, :trn, 0.1317165f0, :tst, 0.13167857f0)\n",
      "elapsed time: 20.132035357 seconds\n",
      "(:epoch, 30, :trn, 0.13075511f0, :tst, 0.13100834f0)\n",
      "elapsed time: 20.278763313 seconds\n",
      "(:epoch, 40, :trn, 0.12976673f0, :tst, 0.13016598f0)\n",
      "elapsed time: 20.103923209 seconds\n",
      "(:epoch, 50, :trn, 0.1295722f0, :tst, 0.12997805f0)\n",
      "elapsed time: 20.082557283 seconds\n",
      "(:epoch, 60, :trn, 0.12869303f0, :tst, 0.12916964f0)\n",
      "elapsed time: 20.149330253 seconds\n",
      "(:epoch, 70, :trn, 0.12857209f0, :tst, 0.1289829f0)\n",
      "elapsed time: 20.311243135 seconds\n",
      "(:epoch, 80, :trn, 0.12823705f0, :tst, 0.12879342f0)\n",
      "elapsed time: 20.496853976 seconds\n",
      "(:epoch, 90, :trn, 0.1279789f0, :tst, 0.12858301f0)\n",
      "elapsed time: 20.406047818 seconds\n",
      "(:epoch, 100, :trn, 0.1277539f0, :tst, 0.1283781f0)\n",
      "elapsed time: 20.401685737 seconds\n",
      "208.438505 seconds (142.52 M allocations: 24.477 GiB, 2.26% gc time)\n"
     ]
    }
   ],
   "source": [
    "# train a VAE network for 100 epochs\n",
    "θ, ϕ = VAE.main(\"--infotime 10 --seed 1 --epochs 100\");"
   ]
  },
  {
   "cell_type": "code",
   "execution_count": 5,
   "metadata": {
    "collapsed": false
   },
   "outputs": [
    {
     "data": {
      "image/png": "[encoded data removed]",
      "text/plain": [
       "146×146 Array{Gray{Float64},2}:\n",
       " Gray{Float64}(1.0)  Gray{Float64}(1.0)          …  Gray{Float64}(1.0)\n",
       " Gray{Float64}(1.0)  Gray{Float64}(1.93964e-11)     Gray{Float64}(1.0)\n",
       " Gray{Float64}(1.0)  Gray{Float64}(1.22935e-11)     Gray{Float64}(1.0)\n",
       " Gray{Float64}(1.0)  Gray{Float64}(1.72611e-11)     Gray{Float64}(1.0)\n",
       " Gray{Float64}(1.0)  Gray{Float64}(1.9046e-11)      Gray{Float64}(1.0)\n",
       " Gray{Float64}(1.0)  Gray{Float64}(1.806e-11)    …  Gray{Float64}(1.0)\n",
       " Gray{Float64}(1.0)  Gray{Float64}(1.60655e-11)     Gray{Float64}(1.0)\n",
       " Gray{Float64}(1.0)  Gray{Float64}(1.7285e-11)      Gray{Float64}(1.0)\n",
       " Gray{Float64}(1.0)  Gray{Float64}(1.6899e-19)      Gray{Float64}(1.0)\n",
       " Gray{Float64}(1.0)  Gray{Float64}(5.95661e-19)     Gray{Float64}(1.0)\n",
       " Gray{Float64}(1.0)  Gray{Float64}(9.68237e-25)  …  Gray{Float64}(1.0)\n",
       " Gray{Float64}(1.0)  Gray{Float64}(3.80287e-28)     Gray{Float64}(1.0)\n",
       " Gray{Float64}(1.0)  Gray{Float64}(7.38888e-24)     Gray{Float64}(1.0)\n",
       " ⋮                                               ⋱  ⋮                 \n",
       " Gray{Float64}(1.0)  Gray{Float64}(2.22682e-9)      Gray{Float64}(1.0)\n",
       " Gray{Float64}(1.0)  Gray{Float64}(1.56869e-13)  …  Gray{Float64}(1.0)\n",
       " Gray{Float64}(1.0)  Gray{Float64}(1.48802e-13)     Gray{Float64}(1.0)\n",
       " Gray{Float64}(1.0)  Gray{Float64}(1.38233e-9)      Gray{Float64}(1.0)\n",
       " Gray{Float64}(1.0)  Gray{Float64}(8.16913e-14)     Gray{Float64}(1.0)\n",
       " Gray{Float64}(1.0)  Gray{Float64}(1.0244e-13)      Gray{Float64}(1.0)\n",
       " Gray{Float64}(1.0)  Gray{Float64}(1.77384e-9)   …  Gray{Float64}(1.0)\n",
       " Gray{Float64}(1.0)  Gray{Float64}(1.63106e-9)      Gray{Float64}(1.0)\n",
       " Gray{Float64}(1.0)  Gray{Float64}(1.37241e-9)      Gray{Float64}(1.0)\n",
       " Gray{Float64}(1.0)  Gray{Float64}(1.47882e-9)      Gray{Float64}(1.0)\n",
       " Gray{Float64}(1.0)  Gray{Float64}(1.73761e-9)      Gray{Float64}(1.0)\n",
       " Gray{Float64}(1.0)  Gray{Float64}(1.0)          …  Gray{Float64}(1.0)"
      ]
     },
     "metadata": {},
     "output_type": "display_data"
    }
   ],
   "source": [
    "# generate examples with the trained network\n",
    "VAE.plot_dream(θ);"
   ]
  }
 ],
 "metadata": {
  "kernelspec": {
   "display_name": "Julia 0.6.2",
   "language": "julia",
   "name": "julia-0.6"
  },
  "language_info": {
   "file_extension": ".jl",
   "mimetype": "application/julia",
   "name": "julia",
   "version": "0.6.2"
  }
 },
 "nbformat": 4,
 "nbformat_minor": 2
}
