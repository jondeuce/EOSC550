{
 "cells": [
  {
   "cell_type": "code",
   "execution_count": 2,
   "metadata": {},
   "outputs": [
    {
     "name": "stderr",
     "output_type": "stream",
     "text": [
      "WARNING: replacing module Optimizers\n"
     ]
    },
    {
     "data": {
      "text/plain": [
       "Optimizers"
      ]
     },
     "execution_count": 2,
     "metadata": {},
     "output_type": "execute_result"
    }
   ],
   "source": [
    "using Knet\n",
    "include(\"optimizers.jl\")"
   ]
  },
  {
   "cell_type": "code",
   "execution_count": 3,
   "metadata": {},
   "outputs": [
    {
     "data": {
      "text/markdown": [
       "This example demonstrates the usage of stochastic gradient descent(sgd) based optimization methods. We train LeNet model on MNIST dataset similar to `lenet.jl`.\n",
       "\n",
       "You can run the demo using `julia optimizers.jl`.  Use `julia optimizers.jl --help` for a list of options. By default the [LeNet](http://yann.lecun.com/exdb/lenet) convolutional neural network model will be trained using sgd for 10 epochs. At the end of the training accuracy for the training and test sets for each epoch will be printed  and optimized parameters will be returned.\n",
       "\n",
       "This example demonstrates the usage of stochastic gradient descent(sgd) based optimization methods. We train LeNet model on MNIST dataset similar to `lenet.jl`.\n",
       "\n",
       "You can run the demo using `julia optimizers.jl`.  Use `julia optimizers.jl --help` for a list of options. By default the [LeNet](http://yann.lecun.com/exdb/lenet) convolutional neural network model will be trained using sgd for 10 epochs. At the end of the training accuracy for the training and test sets for each epoch will be printed  and optimized parameters will be returned.\n"
      ],
      "text/plain": [
       "This example demonstrates the usage of stochastic gradient descent(sgd) based optimization methods. We train LeNet model on MNIST dataset similar to `lenet.jl`.\n",
       "\n",
       "You can run the demo using `julia optimizers.jl`.  Use `julia optimizers.jl --help` for a list of options. By default the [LeNet](http://yann.lecun.com/exdb/lenet) convolutional neural network model will be trained using sgd for 10 epochs. At the end of the training accuracy for the training and test sets for each epoch will be printed  and optimized parameters will be returned.\n",
       "\n",
       "This example demonstrates the usage of stochastic gradient descent(sgd) based optimization methods. We train LeNet model on MNIST dataset similar to `lenet.jl`.\n",
       "\n",
       "You can run the demo using `julia optimizers.jl`.  Use `julia optimizers.jl --help` for a list of options. By default the [LeNet](http://yann.lecun.com/exdb/lenet) convolutional neural network model will be trained using sgd for 10 epochs. At the end of the training accuracy for the training and test sets for each epoch will be printed  and optimized parameters will be returned.\n"
      ]
     },
     "execution_count": 3,
     "metadata": {},
     "output_type": "execute_result"
    }
   ],
   "source": [
    "@doc Optimizers"
   ]
  },
  {
   "cell_type": "code",
   "execution_count": 4,
   "metadata": {},
   "outputs": [
    {
     "name": "stdout",
     "output_type": "stream",
     "text": [
      "usage: <PROGRAM> [--seed SEED] [--batchsize BATCHSIZE] [--lr LR]\n",
      "                 [--eps EPS] [--gamma GAMMA] [--rho RHO]\n",
      "                 [--beta1 BETA1] [--beta2 BETA2] [--epochs EPOCHS]\n",
      "                 [--iters ITERS] [--optim OPTIM] [--atype ATYPE]\n",
      "\n",
      "optimizers.jl (c) Ozan Arkan Can and Deniz Yuret, 2016. Demonstration\n",
      "of different sgd based optimization methods using LeNet.\n",
      "\n",
      "optional arguments:\n",
      "  --seed SEED           random number seed: use a nonnegative int for\n",
      "                        repeatable results (type: Int64, default: -1)\n",
      "  --batchsize BATCHSIZE\n",
      "                        minibatch size (type: Int64, default: 100)\n",
      "  --lr LR               learning rate (type: Float64, default: 0.1)\n",
      "  --eps EPS             epsilon parameter used in adam, adagrad,\n",
      "                        adadelta (type: Float64, default: 1.0e-6)\n",
      "  --gamma GAMMA         gamma parameter used in momentum and nesterov\n",
      "                        (type: Float64, default: 0.95)\n",
      "  --rho RHO             rho parameter used in adadelta and rmsprop\n",
      "                        (type: Float64, default: 0.9)\n",
      "  --beta1 BETA1         beta1 parameter used in adam (type: Float64,\n",
      "                        default: 0.9)\n",
      "  --beta2 BETA2         beta2 parameter used in adam (type: Float64,\n",
      "                        default: 0.95)\n",
      "  --epochs EPOCHS       number of epochs for training (type: Int64,\n",
      "                        default: 10)\n",
      "  --iters ITERS         number of updates for training (type: Int64,\n",
      "                        default: 6000)\n",
      "  --optim OPTIM         optimization method (Sgd, Momentum, Nesterov,\n",
      "                        Adagrad, Adadelta, Rmsprop, Adam) (default:\n",
      "                        \"Sgd\")\n",
      "  --atype ATYPE         array and float type to use (default:\n",
      "                        \"KnetArray{Float32}\")\n",
      "\n"
     ]
    }
   ],
   "source": [
    "Optimizers.main(\"--help\")"
   ]
  },
  {
   "cell_type": "code",
   "execution_count": 5,
   "metadata": {},
   "outputs": [
    {
     "data": {
      "text/markdown": [
       "```\n",
       "Sgd(;lr=0.001,gclip=0)\n",
       "update!(w,g,p::Sgd)\n",
       "update!(w,g;lr=0.001)\n",
       "```\n",
       "\n",
       "Container for parameters of the Stochastic gradient descent (SGD) optimization algorithm used by [`update!`](@ref).\n",
       "\n",
       "SGD is an optimization technique to minimize an objective function by updating its weights in the opposite direction of their gradient. The learning rate (lr) determines the size of the step.  SGD updates the weights with the following formula:\n",
       "\n",
       "```\n",
       "w = w - lr * g\n",
       "```\n",
       "\n",
       "where `w` is a weight array, `g` is the gradient of the loss function w.r.t `w` and `lr` is the learning rate.\n",
       "\n",
       "If `vecnorm(g) > gclip > 0`, `g` is scaled so that its norm is equal to `gclip`.  If `gclip==0` no scaling takes place.\n",
       "\n",
       "SGD is used by default if no algorithm is specified in the two argument version of `update!`[@ref].\n"
      ],
      "text/plain": [
       "```\n",
       "Sgd(;lr=0.001,gclip=0)\n",
       "update!(w,g,p::Sgd)\n",
       "update!(w,g;lr=0.001)\n",
       "```\n",
       "\n",
       "Container for parameters of the Stochastic gradient descent (SGD) optimization algorithm used by [`update!`](@ref).\n",
       "\n",
       "SGD is an optimization technique to minimize an objective function by updating its weights in the opposite direction of their gradient. The learning rate (lr) determines the size of the step.  SGD updates the weights with the following formula:\n",
       "\n",
       "```\n",
       "w = w - lr * g\n",
       "```\n",
       "\n",
       "where `w` is a weight array, `g` is the gradient of the loss function w.r.t `w` and `lr` is the learning rate.\n",
       "\n",
       "If `vecnorm(g) > gclip > 0`, `g` is scaled so that its norm is equal to `gclip`.  If `gclip==0` no scaling takes place.\n",
       "\n",
       "SGD is used by default if no algorithm is specified in the two argument version of `update!`[@ref].\n"
      ]
     },
     "execution_count": 5,
     "metadata": {},
     "output_type": "execute_result"
    }
   ],
   "source": [
    "@doc Sgd"
   ]
  },
  {
   "cell_type": "code",
   "execution_count": 6,
   "metadata": {},
   "outputs": [
    {
     "name": "stdout",
     "output_type": "stream",
     "text": [
      "optimizers.jl (c) Ozan Arkan Can and Deniz Yuret, 2016. Demonstration of different sgd based optimization methods using LeNet.\n",
      "opts=(:atype, \"KnetArray{Float32}\")(:gamma, 0.95)(:rho, 0.9)(:eps, 1.0e-6)(:batchsize, 100)(:beta1, 0.9)(:iters, 6000)(:beta2, 0.95)(:epochs, 10)(:optim, \"Sgd\")(:lr, 0.1)(:seed, -1)\n"
     ]
    },
    {
     "name": "stderr",
     "output_type": "stream",
     "text": [
      "\u001b[1m\u001b[36mINFO: \u001b[39m\u001b[22m\u001b[36mLoading MNIST...\n",
      "\u001b[39m"
     ]
    },
    {
     "name": "stdout",
     "output_type": "stream",
     "text": [
      "(:epoch, 0, :trn, 0.0679, :tst, 0.0652)\n",
      "(:epoch, 1, :trn, 0.9664333333333334, :tst, 0.9702)\n",
      "(:epoch, 2, :trn, 0.97695, :tst, 0.9792)\n",
      "(:epoch, 3, :trn, 0.98185, :tst, 0.9815)\n",
      "(:epoch, 4, :trn, 0.9855666666666667, :tst, 0.9848)\n",
      "(:epoch, 5, :trn, 0.9888333333333333, :tst, 0.9863)\n",
      "(:epoch, 6, :trn, 0.9903166666666666, :tst, 0.9867)\n",
      "(:epoch, 7, :trn, 0.9916, :tst, 0.9878)\n",
      "(:epoch, 8, :trn, 0.99245, :tst, 0.9874)\n",
      "(:epoch, 9, :trn, 0.9929166666666667, :tst, 0.9867)\n",
      "(:epoch, 10, :trn, 0.9941, :tst, 0.9877)\n",
      " 34.426400 seconds (12.76 M allocations: 4.427 GiB, 3.10% gc time)\n"
     ]
    }
   ],
   "source": [
    "Optimizers.main(\"\"); # Tries SGD by default"
   ]
  },
  {
   "cell_type": "code",
   "execution_count": 7,
   "metadata": {},
   "outputs": [
    {
     "data": {
      "text/markdown": [
       "```\n",
       "Momentum(;lr=0.001, gclip=0, gamma=0.9)\n",
       "update!(w,g,p::Momentum)\n",
       "```\n",
       "\n",
       "Container for parameters of the Momentum optimization algorithm used by [`update!`](@ref).\n",
       "\n",
       "The Momentum method tries to accelerate SGD by adding a velocity term to the update.  This also decreases the oscillation between successive steps. It updates the weights with the following formulas:\n",
       "\n",
       "```\n",
       "velocity = gamma * velocity + lr * g\n",
       "w = w - velocity\n",
       "```\n",
       "\n",
       "where `w` is a weight array, `g` is the gradient of the objective function w.r.t `w`, `lr` is the learning rate, `gamma` is the momentum parameter, `velocity` is an array with the same size and type of `w` and holds the accelerated gradients.\n",
       "\n",
       "If `vecnorm(g) > gclip > 0`, `g` is scaled so that its norm is equal to `gclip`.  If `gclip==0` no scaling takes place.\n",
       "\n",
       "Reference: [Qian, N. (1999)](http://doi.org/10.1016/S0893-6080(98)00116-6). On the momentum term in gradient descent learning algorithms.  Neural Networks : The Official Journal of the International Neural Network Society, 12(1), 145–151.\n"
      ],
      "text/plain": [
       "```\n",
       "Momentum(;lr=0.001, gclip=0, gamma=0.9)\n",
       "update!(w,g,p::Momentum)\n",
       "```\n",
       "\n",
       "Container for parameters of the Momentum optimization algorithm used by [`update!`](@ref).\n",
       "\n",
       "The Momentum method tries to accelerate SGD by adding a velocity term to the update.  This also decreases the oscillation between successive steps. It updates the weights with the following formulas:\n",
       "\n",
       "```\n",
       "velocity = gamma * velocity + lr * g\n",
       "w = w - velocity\n",
       "```\n",
       "\n",
       "where `w` is a weight array, `g` is the gradient of the objective function w.r.t `w`, `lr` is the learning rate, `gamma` is the momentum parameter, `velocity` is an array with the same size and type of `w` and holds the accelerated gradients.\n",
       "\n",
       "If `vecnorm(g) > gclip > 0`, `g` is scaled so that its norm is equal to `gclip`.  If `gclip==0` no scaling takes place.\n",
       "\n",
       "Reference: [Qian, N. (1999)](http://doi.org/10.1016/S0893-6080(98)00116-6). On the momentum term in gradient descent learning algorithms.  Neural Networks : The Official Journal of the International Neural Network Society, 12(1), 145–151.\n"
      ]
     },
     "execution_count": 7,
     "metadata": {},
     "output_type": "execute_result"
    }
   ],
   "source": [
    "@doc Momentum"
   ]
  },
  {
   "cell_type": "code",
   "execution_count": 8,
   "metadata": {},
   "outputs": [
    {
     "name": "stdout",
     "output_type": "stream",
     "text": [
      "optimizers.jl (c) Ozan Arkan Can and Deniz Yuret, 2016. Demonstration of different sgd based optimization methods using LeNet.\n",
      "opts=(:atype, \"KnetArray{Float32}\")(:gamma, 0.99)(:rho, 0.9)(:eps, 1.0e-6)(:batchsize, 100)(:beta1, 0.9)(:iters, 6000)(:beta2, 0.95)(:epochs, 10)(:optim, \"Momentum\")(:lr, 0.005)(:seed, -1)\n",
      "(:epoch, 0, :trn, 0.11218333333333333, :tst, 0.1134)\n",
      "(:epoch, 1, :trn, 0.9746833333333333, :tst, 0.9768)\n",
      "(:epoch, 2, :trn, 0.9839833333333333, :tst, 0.9814)\n",
      "(:epoch, 3, :trn, 0.9882166666666666, :tst, 0.9846)\n",
      "(:epoch, 4, :trn, 0.9894333333333334, :tst, 0.9866)\n",
      "(:epoch, 5, :trn, 0.99035, :tst, 0.9837)\n",
      "(:epoch, 6, :trn, 0.9937833333333334, :tst, 0.9886)\n",
      "(:epoch, 7, :trn, 0.9949833333333333, :tst, 0.9898)\n",
      "(:epoch, 8, :trn, 0.9973833333333333, :tst, 0.9907)\n",
      "(:epoch, 9, :trn, 0.9968166666666667, :tst, 0.9893)\n",
      "(:epoch, 10, :trn, 0.9971, :tst, 0.99)\n",
      " 30.953464 seconds (11.67 M allocations: 4.373 GiB, 1.03% gc time)\n"
     ]
    }
   ],
   "source": [
    "Optimizers.main(\"--optim Momentum --lr 0.005 --gamma 0.99\");"
   ]
  },
  {
   "cell_type": "code",
   "execution_count": 9,
   "metadata": {},
   "outputs": [
    {
     "data": {
      "text/markdown": [
       "```\n",
       "Nesterov(; lr=0.001, gclip=0, gamma=0.9)\n",
       "update!(w,g,p::Momentum)\n",
       "```\n",
       "\n",
       "Container for parameters of Nesterov's momentum optimization algorithm used by [`update!`](@ref).\n",
       "\n",
       "It is similar to standard [`Momentum`](@ref) but with a slightly different update rule:\n",
       "\n",
       "```\n",
       "velocity = gamma * velocity_old - lr * g\n",
       "w = w_old - velocity_old + (1+gamma) * velocity\n",
       "```\n",
       "\n",
       "where `w` is a weight array, `g` is the gradient of the objective function w.r.t `w`, `lr` is the learning rate, `gamma` is the momentum parameter, `velocity` is an array with the same size and type of `w` and holds the accelerated gradients.\n",
       "\n",
       "If `vecnorm(g) > gclip > 0`, `g` is scaled so that its norm is equal to `gclip`.  If `gclip == 0` no scaling takes place.\n",
       "\n",
       "Reference Implementation : [Yoshua Bengio, Nicolas Boulanger-Lewandowski and Razvan P ascanu](https://arxiv.org/pdf/1212.0901.pdf)\n"
      ],
      "text/plain": [
       "```\n",
       "Nesterov(; lr=0.001, gclip=0, gamma=0.9)\n",
       "update!(w,g,p::Momentum)\n",
       "```\n",
       "\n",
       "Container for parameters of Nesterov's momentum optimization algorithm used by [`update!`](@ref).\n",
       "\n",
       "It is similar to standard [`Momentum`](@ref) but with a slightly different update rule:\n",
       "\n",
       "```\n",
       "velocity = gamma * velocity_old - lr * g\n",
       "w = w_old - velocity_old + (1+gamma) * velocity\n",
       "```\n",
       "\n",
       "where `w` is a weight array, `g` is the gradient of the objective function w.r.t `w`, `lr` is the learning rate, `gamma` is the momentum parameter, `velocity` is an array with the same size and type of `w` and holds the accelerated gradients.\n",
       "\n",
       "If `vecnorm(g) > gclip > 0`, `g` is scaled so that its norm is equal to `gclip`.  If `gclip == 0` no scaling takes place.\n",
       "\n",
       "Reference Implementation : [Yoshua Bengio, Nicolas Boulanger-Lewandowski and Razvan P ascanu](https://arxiv.org/pdf/1212.0901.pdf)\n"
      ]
     },
     "execution_count": 9,
     "metadata": {},
     "output_type": "execute_result"
    }
   ],
   "source": [
    "@doc Nesterov"
   ]
  },
  {
   "cell_type": "code",
   "execution_count": 10,
   "metadata": {},
   "outputs": [
    {
     "name": "stdout",
     "output_type": "stream",
     "text": [
      "optimizers.jl (c) Ozan Arkan Can and Deniz Yuret, 2016. Demonstration of different sgd based optimization methods using LeNet.\n",
      "opts=(:atype, \"KnetArray{Float32}\")(:gamma, 0.99)(:rho, 0.9)(:eps, 1.0e-6)(:batchsize, 100)(:beta1, 0.9)(:iters, 6000)(:beta2, 0.95)(:epochs, 10)(:optim, \"Nesterov\")(:lr, 0.005)(:seed, -1)\n",
      "(:epoch, 0, :trn, 0.09063333333333333, :tst, 0.0885)\n",
      "(:epoch, 1, :trn, 0.9783333333333334, :tst, 0.9776)\n",
      "(:epoch, 2, :trn, 0.9866833333333334, :tst, 0.984)\n",
      "(:epoch, 3, :trn, 0.9838166666666667, :tst, 0.9804)\n",
      "(:epoch, 4, :trn, 0.9885666666666667, :tst, 0.9834)\n",
      "(:epoch, 5, :trn, 0.9938, :tst, 0.9885)\n",
      "(:epoch, 6, :trn, 0.9953166666666666, :tst, 0.9903)\n",
      "(:epoch, 7, :trn, 0.9977666666666667, :tst, 0.9928)\n",
      "(:epoch, 8, :trn, 0.9959833333333333, :tst, 0.9902)\n",
      "(:epoch, 9, :trn, 0.9973, :tst, 0.9898)\n",
      "(:epoch, 10, :trn, 0.99785, :tst, 0.9907)\n",
      " 31.363882 seconds (11.82 M allocations: 4.377 GiB, 1.03% gc time)\n"
     ]
    }
   ],
   "source": [
    "Optimizers.main(\"--optim Nesterov --lr 0.005 --gamma 0.99\");"
   ]
  },
  {
   "cell_type": "code",
   "execution_count": 11,
   "metadata": {},
   "outputs": [
    {
     "data": {
      "text/markdown": [
       "```\n",
       "Adagrad(;lr=0.1, gclip=0, eps=1e-6)\n",
       "update!(w,g,p::Adagrad)\n",
       "```\n",
       "\n",
       "Container for parameters of the Adagrad optimization algorithm used by [`update!`](@ref).\n",
       "\n",
       "Adagrad is one of the methods that adapts the learning rate to each of the weights.  It stores the sum of the squares of the gradients to scale the learning rate.  The learning rate is adapted for each weight by the value of current gradient divided by the accumulated gradients. Hence, the learning rate is greater for the parameters where the accumulated gradients are small and the learning rate is small if the accumulated gradients are large. It updates the weights with the following formulas:\n",
       "\n",
       "```\n",
       "G = G + g .^ 2\n",
       "w = w - g .* lr ./ sqrt(G + eps)\n",
       "```\n",
       "\n",
       "where `w` is the weight, `g` is the gradient of the objective function w.r.t `w`, `lr` is the learning rate, `G` is an array with the same size and type of `w` and holds the sum of the squares of the gradients. `eps` is a small constant to prevent a zero value in the denominator.\n",
       "\n",
       "If `vecnorm(g) > gclip > 0`, `g` is scaled so that its norm is equal to `gclip`.  If `gclip==0` no scaling takes place.\n",
       "\n",
       "Reference: [Duchi, J., Hazan, E., & Singer, Y. (2011)](http://jmlr.org/papers/v12/duchi11a.html). Adaptive Subgradient Methods for Online Learning and Stochastic Optimization. Journal of Machine Learning Research, 12, 2121–2159.\n"
      ],
      "text/plain": [
       "```\n",
       "Adagrad(;lr=0.1, gclip=0, eps=1e-6)\n",
       "update!(w,g,p::Adagrad)\n",
       "```\n",
       "\n",
       "Container for parameters of the Adagrad optimization algorithm used by [`update!`](@ref).\n",
       "\n",
       "Adagrad is one of the methods that adapts the learning rate to each of the weights.  It stores the sum of the squares of the gradients to scale the learning rate.  The learning rate is adapted for each weight by the value of current gradient divided by the accumulated gradients. Hence, the learning rate is greater for the parameters where the accumulated gradients are small and the learning rate is small if the accumulated gradients are large. It updates the weights with the following formulas:\n",
       "\n",
       "```\n",
       "G = G + g .^ 2\n",
       "w = w - g .* lr ./ sqrt(G + eps)\n",
       "```\n",
       "\n",
       "where `w` is the weight, `g` is the gradient of the objective function w.r.t `w`, `lr` is the learning rate, `G` is an array with the same size and type of `w` and holds the sum of the squares of the gradients. `eps` is a small constant to prevent a zero value in the denominator.\n",
       "\n",
       "If `vecnorm(g) > gclip > 0`, `g` is scaled so that its norm is equal to `gclip`.  If `gclip==0` no scaling takes place.\n",
       "\n",
       "Reference: [Duchi, J., Hazan, E., & Singer, Y. (2011)](http://jmlr.org/papers/v12/duchi11a.html). Adaptive Subgradient Methods for Online Learning and Stochastic Optimization. Journal of Machine Learning Research, 12, 2121–2159.\n"
      ]
     },
     "execution_count": 11,
     "metadata": {},
     "output_type": "execute_result"
    }
   ],
   "source": [
    "@doc Adagrad"
   ]
  },
  {
   "cell_type": "code",
   "execution_count": 12,
   "metadata": {},
   "outputs": [
    {
     "name": "stdout",
     "output_type": "stream",
     "text": [
      "optimizers.jl (c) Ozan Arkan Can and Deniz Yuret, 2016. Demonstration of different sgd based optimization methods using LeNet.\n",
      "opts=(:atype, \"KnetArray{Float32}\")(:gamma, 0.95)(:rho, 0.9)(:eps, 1.0e-6)(:batchsize, 100)(:beta1, 0.9)(:iters, 6000)(:beta2, 0.95)(:epochs, 10)(:optim, \"Adagrad\")(:lr, 0.01)(:seed, -1)\n",
      "(:epoch, 0, :trn, 0.12713333333333332, :tst, 0.1301)\n",
      "(:epoch, 1, :trn, 0.98185, :tst, 0.9809)\n",
      "(:epoch, 2, :trn, 0.9873833333333333, :tst, 0.9851)\n",
      "(:epoch, 3, :trn, 0.9908833333333333, :tst, 0.9872)\n",
      "(:epoch, 4, :trn, 0.9931833333333333, :tst, 0.9881)\n",
      "(:epoch, 5, :trn, 0.9943666666666666, :tst, 0.9896)\n",
      "(:epoch, 6, :trn, 0.9953, :tst, 0.9901)\n",
      "(:epoch, 7, :trn, 0.9962166666666666, :tst, 0.9901)\n",
      "(:epoch, 8, :trn, 0.9967166666666667, :tst, 0.9906)\n",
      "(:epoch, 9, :trn, 0.99715, :tst, 0.9909)\n",
      "(:epoch, 10, :trn, 0.9978, :tst, 0.9909)\n",
      " 32.580989 seconds (13.12 M allocations: 4.405 GiB, 1.06% gc time)\n"
     ]
    }
   ],
   "source": [
    "Optimizers.main(\"--optim Adagrad --lr 0.01 --eps 1e-6\");"
   ]
  },
  {
   "cell_type": "code",
   "execution_count": 13,
   "metadata": {},
   "outputs": [
    {
     "data": {
      "text/markdown": [
       "```\n",
       "Adadelta(;lr=0.01, gclip=0, rho=0.9, eps=1e-6)\n",
       "update!(w,g,p::Adadelta)\n",
       "```\n",
       "\n",
       "Container for parameters of the Adadelta optimization algorithm used by [`update!`](@ref).\n",
       "\n",
       "Adadelta is an extension of Adagrad that tries to prevent the decrease of the learning rates to zero as training progresses. It scales the learning rate based on the accumulated gradients like Adagrad and holds the acceleration term like Momentum. It updates the weights with the following formulas:\n",
       "\n",
       "```\n",
       "G = (1-rho) * g .^ 2 + rho * G\n",
       "update = g .* sqrt(delta + eps) ./ sqrt(G + eps)\n",
       "w = w - lr * update\n",
       "delta = rho * delta + (1-rho) * update .^ 2\n",
       "```\n",
       "\n",
       "where `w` is the weight, `g` is the gradient of the objective function w.r.t `w`, `lr` is the learning rate, `G` is an array with the same size and type of `w` and holds the sum of the squares of the gradients. `eps` is a small constant to prevent a zero value in the denominator.  `rho` is the momentum parameter and `delta` is an array with the same size and type of `w` and holds the sum of the squared updates.\n",
       "\n",
       "If `vecnorm(g) > gclip > 0`, `g` is scaled so that its norm is equal to `gclip`.  If `gclip==0` no scaling takes place.\n",
       "\n",
       "Reference: [Zeiler, M. D. (2012)](http://arxiv.org/abs/1212.5701). ADADELTA: An Adaptive Learning Rate Method.\n"
      ],
      "text/plain": [
       "```\n",
       "Adadelta(;lr=0.01, gclip=0, rho=0.9, eps=1e-6)\n",
       "update!(w,g,p::Adadelta)\n",
       "```\n",
       "\n",
       "Container for parameters of the Adadelta optimization algorithm used by [`update!`](@ref).\n",
       "\n",
       "Adadelta is an extension of Adagrad that tries to prevent the decrease of the learning rates to zero as training progresses. It scales the learning rate based on the accumulated gradients like Adagrad and holds the acceleration term like Momentum. It updates the weights with the following formulas:\n",
       "\n",
       "```\n",
       "G = (1-rho) * g .^ 2 + rho * G\n",
       "update = g .* sqrt(delta + eps) ./ sqrt(G + eps)\n",
       "w = w - lr * update\n",
       "delta = rho * delta + (1-rho) * update .^ 2\n",
       "```\n",
       "\n",
       "where `w` is the weight, `g` is the gradient of the objective function w.r.t `w`, `lr` is the learning rate, `G` is an array with the same size and type of `w` and holds the sum of the squares of the gradients. `eps` is a small constant to prevent a zero value in the denominator.  `rho` is the momentum parameter and `delta` is an array with the same size and type of `w` and holds the sum of the squared updates.\n",
       "\n",
       "If `vecnorm(g) > gclip > 0`, `g` is scaled so that its norm is equal to `gclip`.  If `gclip==0` no scaling takes place.\n",
       "\n",
       "Reference: [Zeiler, M. D. (2012)](http://arxiv.org/abs/1212.5701). ADADELTA: An Adaptive Learning Rate Method.\n"
      ]
     },
     "execution_count": 13,
     "metadata": {},
     "output_type": "execute_result"
    }
   ],
   "source": [
    "@doc Adadelta"
   ]
  },
  {
   "cell_type": "code",
   "execution_count": 14,
   "metadata": {},
   "outputs": [
    {
     "name": "stdout",
     "output_type": "stream",
     "text": [
      "optimizers.jl (c) Ozan Arkan Can and Deniz Yuret, 2016. Demonstration of different sgd based optimization methods using LeNet.\n",
      "opts=(:atype, \"KnetArray{Float32}\")(:gamma, 0.95)(:rho, 0.9)(:eps, 1.0e-6)(:batchsize, 100)(:beta1, 0.9)(:iters, 6000)(:beta2, 0.95)(:epochs, 10)(:optim, \"Adadelta\")(:lr, 0.35)(:seed, -1)\n",
      "(:epoch, 0, :trn, 0.08896666666666667, :tst, 0.0918)\n",
      "(:epoch, 1, :trn, 0.97125, :tst, 0.972)\n",
      "(:epoch, 2, :trn, 0.9843, :tst, 0.9828)\n",
      "(:epoch, 3, :trn, 0.98805, :tst, 0.9856)\n",
      "(:epoch, 4, :trn, 0.9925166666666667, :tst, 0.9892)\n",
      "(:epoch, 5, :trn, 0.99435, :tst, 0.991)\n",
      "(:epoch, 6, :trn, 0.9953166666666666, :tst, 0.9913)\n",
      "(:epoch, 7, :trn, 0.996, :tst, 0.9912)\n",
      "(:epoch, 8, :trn, 0.9962666666666666, :tst, 0.9913)\n",
      "(:epoch, 9, :trn, 0.9966666666666667, :tst, 0.9909)\n",
      "(:epoch, 10, :trn, 0.99735, :tst, 0.9907)\n",
      " 35.373643 seconds (14.93 M allocations: 4.450 GiB, 1.07% gc time)\n"
     ]
    }
   ],
   "source": [
    "Optimizers.main(\"--optim Adadelta --lr 0.35 --rho 0.9 --eps 1e-6\");"
   ]
  },
  {
   "cell_type": "code",
   "execution_count": 15,
   "metadata": {},
   "outputs": [
    {
     "data": {
      "text/markdown": [
       "```\n",
       "Rmsprop(;lr=0.001, gclip=0, rho=0.9, eps=1e-6)\n",
       "update!(w,g,p::Rmsprop)\n",
       "```\n",
       "\n",
       "Container for parameters of the Rmsprop optimization algorithm used by [`update!`](@ref).\n",
       "\n",
       "Rmsprop scales the learning rates by dividing the root mean squared of the gradients. It updates the weights with the following formula:\n",
       "\n",
       "```\n",
       "G = (1-rho) * g .^ 2 + rho * G\n",
       "w = w - lr * g ./ sqrt(G + eps)\n",
       "```\n",
       "\n",
       "where `w` is the weight, `g` is the gradient of the objective function w.r.t `w`, `lr` is the learning rate, `G` is an array with the same size and type of `w` and holds the sum of the squares of the gradients. `eps` is a small constant to prevent a zero value in the denominator.  `rho` is the momentum parameter and `delta` is an array with the same size and type of `w` and holds the sum of the squared updates.\n",
       "\n",
       "If `vecnorm(g) > gclip > 0`, `g` is scaled so that its norm is equal to `gclip`.  If `gclip==0` no scaling takes place.\n",
       "\n",
       "Reference: [Tijmen Tieleman and Geoffrey Hinton (2012)](https://dirtysalt.github.io/images/nn-class-lec6.pdf). \"Lecture 6.5-rmsprop: Divide the gradient by a running average of its recent magnitude.\"  COURSERA: Neural Networks for Machine Learning 4.2.\n"
      ],
      "text/plain": [
       "```\n",
       "Rmsprop(;lr=0.001, gclip=0, rho=0.9, eps=1e-6)\n",
       "update!(w,g,p::Rmsprop)\n",
       "```\n",
       "\n",
       "Container for parameters of the Rmsprop optimization algorithm used by [`update!`](@ref).\n",
       "\n",
       "Rmsprop scales the learning rates by dividing the root mean squared of the gradients. It updates the weights with the following formula:\n",
       "\n",
       "```\n",
       "G = (1-rho) * g .^ 2 + rho * G\n",
       "w = w - lr * g ./ sqrt(G + eps)\n",
       "```\n",
       "\n",
       "where `w` is the weight, `g` is the gradient of the objective function w.r.t `w`, `lr` is the learning rate, `G` is an array with the same size and type of `w` and holds the sum of the squares of the gradients. `eps` is a small constant to prevent a zero value in the denominator.  `rho` is the momentum parameter and `delta` is an array with the same size and type of `w` and holds the sum of the squared updates.\n",
       "\n",
       "If `vecnorm(g) > gclip > 0`, `g` is scaled so that its norm is equal to `gclip`.  If `gclip==0` no scaling takes place.\n",
       "\n",
       "Reference: [Tijmen Tieleman and Geoffrey Hinton (2012)](https://dirtysalt.github.io/images/nn-class-lec6.pdf). \"Lecture 6.5-rmsprop: Divide the gradient by a running average of its recent magnitude.\"  COURSERA: Neural Networks for Machine Learning 4.2.\n"
      ]
     },
     "execution_count": 15,
     "metadata": {},
     "output_type": "execute_result"
    }
   ],
   "source": [
    "@doc Rmsprop"
   ]
  },
  {
   "cell_type": "code",
   "execution_count": 16,
   "metadata": {},
   "outputs": [
    {
     "name": "stdout",
     "output_type": "stream",
     "text": [
      "optimizers.jl (c) Ozan Arkan Can and Deniz Yuret, 2016. Demonstration of different sgd based optimization methods using LeNet.\n",
      "opts=(:atype, \"KnetArray{Float32}\")(:gamma, 0.95)(:rho, 0.9)(:eps, 1.0e-6)(:batchsize, 100)(:beta1, 0.9)(:iters, 6000)(:beta2, 0.95)(:epochs, 10)(:optim, \"Rmsprop\")(:lr, 0.001)(:seed, -1)\n",
      "(:epoch, 0, :trn, 0.12931666666666666, :tst, 0.1306)\n",
      "(:epoch, 1, :trn, 0.9764166666666667, :tst, 0.9792)\n",
      "(:epoch, 2, :trn, 0.9861, :tst, 0.9868)\n",
      "(:epoch, 3, :trn, 0.9914166666666666, :tst, 0.9898)\n",
      "(:epoch, 4, :trn, 0.9941833333333333, :tst, 0.99)\n",
      "(:epoch, 5, :trn, 0.99505, :tst, 0.9903)\n",
      "(:epoch, 6, :trn, 0.9939166666666667, :tst, 0.9904)\n",
      "(:epoch, 7, :trn, 0.9969333333333333, :tst, 0.9908)\n",
      "(:epoch, 8, :trn, 0.9966166666666667, :tst, 0.9907)\n",
      "(:epoch, 9, :trn, 0.99595, :tst, 0.9903)\n",
      "(:epoch, 10, :trn, 0.9971166666666667, :tst, 0.9903)\n",
      " 32.805466 seconds (13.13 M allocations: 4.403 GiB, 1.09% gc time)\n"
     ]
    }
   ],
   "source": [
    "Optimizers.main(\"--optim Rmsprop --lr 0.001 --rho 0.9 --eps 1e-6\");"
   ]
  },
  {
   "cell_type": "code",
   "execution_count": 17,
   "metadata": {},
   "outputs": [
    {
     "data": {
      "text/markdown": [
       "```\n",
       "Adam(;lr=0.001, gclip=0, beta1=0.9, beta2=0.999, eps=1e-8)\n",
       "update!(w,g,p::Adam)\n",
       "```\n",
       "\n",
       "Container for parameters of the Adam optimization algorithm used by [`update!`](@ref).\n",
       "\n",
       "Adam is one of the methods that compute the adaptive learning rate. It stores accumulated gradients (first moment) and the sum of the squared of gradients (second).  It scales the first and second moment as a function of time. Here is the update formulas:\n",
       "\n",
       "```\n",
       "m = beta1 * m + (1 - beta1) * g\n",
       "v = beta2 * v + (1 - beta2) * g .* g\n",
       "mhat = m ./ (1 - beta1 ^ t)\n",
       "vhat = v ./ (1 - beta2 ^ t)\n",
       "w = w - (lr / (sqrt(vhat) + eps)) * mhat\n",
       "```\n",
       "\n",
       "where `w` is the weight, `g` is the gradient of the objective function w.r.t `w`, `lr` is the learning rate, `m` is an array with the same size and type of `w` and holds the accumulated gradients. `v` is an array with the same size and type of `w` and holds the sum of the squares of the gradients. `eps` is a small constant to prevent a zero denominator. `beta1` and `beta2` are the parameters to calculate bias corrected first and second moments. `t` is the update count.\n",
       "\n",
       "If `vecnorm(g) > gclip > 0`, `g` is scaled so that its norm is equal to `gclip`.  If `gclip==0` no scaling takes place.\n",
       "\n",
       "Reference: [Kingma, D. P., & Ba, J. L. (2015)](https://arxiv.org/abs/1412.6980). Adam: a Method for Stochastic Optimization. International Conference on Learning Representations, 1–13.\n"
      ],
      "text/plain": [
       "```\n",
       "Adam(;lr=0.001, gclip=0, beta1=0.9, beta2=0.999, eps=1e-8)\n",
       "update!(w,g,p::Adam)\n",
       "```\n",
       "\n",
       "Container for parameters of the Adam optimization algorithm used by [`update!`](@ref).\n",
       "\n",
       "Adam is one of the methods that compute the adaptive learning rate. It stores accumulated gradients (first moment) and the sum of the squared of gradients (second).  It scales the first and second moment as a function of time. Here is the update formulas:\n",
       "\n",
       "```\n",
       "m = beta1 * m + (1 - beta1) * g\n",
       "v = beta2 * v + (1 - beta2) * g .* g\n",
       "mhat = m ./ (1 - beta1 ^ t)\n",
       "vhat = v ./ (1 - beta2 ^ t)\n",
       "w = w - (lr / (sqrt(vhat) + eps)) * mhat\n",
       "```\n",
       "\n",
       "where `w` is the weight, `g` is the gradient of the objective function w.r.t `w`, `lr` is the learning rate, `m` is an array with the same size and type of `w` and holds the accumulated gradients. `v` is an array with the same size and type of `w` and holds the sum of the squares of the gradients. `eps` is a small constant to prevent a zero denominator. `beta1` and `beta2` are the parameters to calculate bias corrected first and second moments. `t` is the update count.\n",
       "\n",
       "If `vecnorm(g) > gclip > 0`, `g` is scaled so that its norm is equal to `gclip`.  If `gclip==0` no scaling takes place.\n",
       "\n",
       "Reference: [Kingma, D. P., & Ba, J. L. (2015)](https://arxiv.org/abs/1412.6980). Adam: a Method for Stochastic Optimization. International Conference on Learning Representations, 1–13.\n"
      ]
     },
     "execution_count": 17,
     "metadata": {},
     "output_type": "execute_result"
    }
   ],
   "source": [
    "@doc Adam"
   ]
  },
  {
   "cell_type": "code",
   "execution_count": 18,
   "metadata": {},
   "outputs": [
    {
     "name": "stdout",
     "output_type": "stream",
     "text": [
      "optimizers.jl (c) Ozan Arkan Can and Deniz Yuret, 2016. Demonstration of different sgd based optimization methods using LeNet.\n",
      "opts=(:atype, \"KnetArray{Float32}\")(:gamma, 0.95)(:rho, 0.9)(:eps, 1.0e-8)(:batchsize, 100)(:beta1, 0.9)(:iters, 6000)(:beta2, 0.95)(:epochs, 10)(:optim, \"Adam\")(:lr, 0.001)(:seed, -1)\n",
      "(:epoch, 0, :trn, 0.09533333333333334, :tst, 0.0881)\n",
      "(:epoch, 1, :trn, 0.9787666666666667, :tst, 0.9771)\n",
      "(:epoch, 2, :trn, 0.98985, :tst, 0.987)\n",
      "(:epoch, 3, :trn, 0.9917833333333334, :tst, 0.9885)\n",
      "(:epoch, 4, :trn, 0.9927666666666667, :tst, 0.9889)\n",
      "(:epoch, 5, :trn, 0.9947666666666667, :tst, 0.9897)\n",
      "(:epoch, 6, :trn, 0.9959833333333333, :tst, 0.9892)\n",
      "(:epoch, 7, :trn, 0.9951833333333333, :tst, 0.9883)\n",
      "(:epoch, 8, :trn, 0.9940666666666667, :tst, 0.9874)\n",
      "(:epoch, 9, :trn, 0.9944333333333333, :tst, 0.9875)\n",
      "(:epoch, 10, :trn, 0.9978, :tst, 0.99)\n",
      " 34.288407 seconds (14.22 M allocations: 4.431 GiB, 1.07% gc time)\n"
     ]
    }
   ],
   "source": [
    "Optimizers.main(\"--optim Adam --lr 0.001 --beta1 0.9 --beta2 0.95 --eps 1e-8\");"
   ]
  },
  {
   "cell_type": "code",
   "execution_count": null,
   "metadata": {},
   "outputs": [],
   "source": []
  }
 ],
 "metadata": {
  "kernelspec": {
   "display_name": "Julia 0.6.1",
   "language": "julia",
   "name": "julia-0.6"
  },
  "language_info": {
   "file_extension": ".jl",
   "mimetype": "application/julia",
   "name": "julia",
   "version": "0.6.1"
  }
 },
 "nbformat": 4,
 "nbformat_minor": 2
}
