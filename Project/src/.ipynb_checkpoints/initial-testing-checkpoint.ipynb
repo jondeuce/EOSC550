{
 "cells": [
  {
   "cell_type": "code",
   "execution_count": 1,
   "metadata": {},
   "outputs": [],
   "source": [
    "using Knet"
   ]
  },
  {
   "cell_type": "code",
   "execution_count": 2,
   "metadata": {},
   "outputs": [],
   "source": [
    "using Images, ImageView, Colors"
   ]
  },
  {
   "cell_type": "code",
   "execution_count": 3,
   "metadata": {},
   "outputs": [],
   "source": [
    "using Plots"
   ]
  },
  {
   "cell_type": "code",
   "execution_count": 251,
   "metadata": {},
   "outputs": [],
   "source": [
    "include(\"data/chi2d.jl\")\n",
    "include(\"chi2d_objectives.jl\");"
   ]
  },
  {
   "cell_type": "code",
   "execution_count": 252,
   "metadata": {},
   "outputs": [
    {
     "data": {
      "text/plain": [
       "up! (generic function with 1 method)"
      ]
     },
     "execution_count": 252,
     "metadata": {},
     "output_type": "execute_result"
    }
   ],
   "source": [
    "function up!(w,lr,dw)\n",
    "    for i in 1:length(w)\n",
    "        # dw[i] == nothing represents w[i] not being used \n",
    "        # during forward pass recording of gradient.\n",
    "        # Therefore, dw[i] is not assigned, and is nothing\n",
    "        if dw[i] ≠ nothing\n",
    "            w[i] -= lr * dw[i]\n",
    "        end\n",
    "    end    \n",
    "end"
   ]
  },
  {
   "cell_type": "code",
   "execution_count": 253,
   "metadata": {},
   "outputs": [
    {
     "data": {
      "text/plain": [
       "linesearch! (generic function with 3 methods)"
      ]
     },
     "execution_count": 253,
     "metadata": {},
     "output_type": "execute_result"
    }
   ],
   "source": [
    "function linesearch!(w,x,y,lr=.1,s=1.5)\n",
    "    #loss0 = loss(w,x,y)\n",
    "    #dw = lossgradient(w,x,y)\n",
    "    dw, loss0 = gradlossgradient(w,x,y)\n",
    "    \n",
    "    if s <= 1.0\n",
    "        up!(w,lr,dw)\n",
    "        return lr\n",
    "    end\n",
    "    \n",
    "    w0 = copy(w)\n",
    "    up!(w,lr,dw)\n",
    "    loss1 = loss(w,x,y)\n",
    "    \n",
    "    if loss1 < loss0\n",
    "        lr *= s\n",
    "    else\n",
    "        while loss1 >= loss0 || isnan(loss1) || isinf(loss1)\n",
    "            lr /= s\n",
    "            copy!(w,w0)\n",
    "            up!(w,lr,dw)\n",
    "            loss1 = loss(w,x,y)\n",
    "        end\n",
    "    end\n",
    "    \n",
    "    return lr\n",
    "end"
   ]
  },
  {
   "cell_type": "code",
   "execution_count": 254,
   "metadata": {},
   "outputs": [
    {
     "data": {
      "text/plain": [
       "train_sgd! (generic function with 1 method)"
      ]
     },
     "execution_count": 254,
     "metadata": {},
     "output_type": "execute_result"
    }
   ],
   "source": [
    "# SGD training loop\n",
    "function train_sgd!(w, data; lr=.1, s=-1.0)\n",
    "    for (x,y) in data\n",
    "        lr = linesearch!(w,x,y,lr,s)\n",
    "    end\n",
    "    return lr\n",
    "end"
   ]
  },
  {
   "cell_type": "code",
   "execution_count": 255,
   "metadata": {},
   "outputs": [],
   "source": [
    "# define misc. params\n",
    "seed  = 42\n",
    "Ftype = Float32\n",
    "# Atype = Array{Ftype}\n",
    "Atype = KnetArray{Ftype}\n",
    "atype = Atype\n",
    "srand(seed);"
   ]
  },
  {
   "cell_type": "code",
   "execution_count": 256,
   "metadata": {},
   "outputs": [
    {
     "data": {
      "text/plain": [
       "100"
      ]
     },
     "execution_count": 256,
     "metadata": {},
     "output_type": "execute_result"
    }
   ],
   "source": [
    "# data params\n",
    "bs = 5 # batch size\n",
    "ep = 100 # epochs"
   ]
  },
  {
   "cell_type": "code",
   "execution_count": 269,
   "metadata": {},
   "outputs": [
    {
     "name": "stderr",
     "output_type": "stream",
     "text": [
      "WARNING: redefining constant Nr\n",
      "WARNING: redefining constant Nd\n",
      "WARNING: redefining constant Nw\n",
      "WARNING: redefining constant cycle\n"
     ]
    },
    {
     "data": {
      "text/plain": [
       "(::gradfun) (generic function with 1 method)"
      ]
     },
     "execution_count": 269,
     "metadata": {},
     "output_type": "execute_result"
    }
   ],
   "source": [
    "const T  = 1 # number of \"time steps\" for xₜ\n",
    "const C  = 3 # number of fc terms\n",
    "const Nr = 7 # number of regularization terms in each fc\n",
    "const Nd = 7 # number of data fidelity terms in each fc\n",
    "const Nw = 7 # number of radial basis functions in each influence function\n",
    "const sr = 5 # size of kernel for regularization term convolutions is [sr×sr]\n",
    "const sd = 5 # size of kernel for data fidelity term convolutions is [sr×sr]\n",
    "const cycle = \"random\" # access pattern function c(t)\n",
    "\n",
    "p = params_kobler(atype=atype,seed=seed,cycle=cycle,C=C,T=T,Nr=Nr,Nd=Nd,Nw=Nw,sr=sr,sd=sd)\n",
    "weights() = weights_kobler(p)\n",
    "predict(w,x) = predict_kobler(w,x,p)\n",
    "loss(w,x,y) = loss_kobler(w,x,y,p)\n",
    "lossgradient = grad(loss)\n",
    "gradlossgradient = gradloss(loss)\n",
    "#accuracy(w,data,predict) = sum(map(d->loss(w,d[1],d[2]),data))"
   ]
  },
  {
   "cell_type": "code",
   "execution_count": 270,
   "metadata": {},
   "outputs": [],
   "source": [
    "xtrn,ytrn,xtst,ytst = chi2d(atype=atype)\n",
    "dtrn = minibatch(xtrn, ytrn, bs, xtype=atype, ytype=atype)\n",
    "dtst = minibatch(xtst, ytst, bs, xtype=atype, ytype=atype)\n",
    "w = weights();\n",
    "#prms = params(w, o)"
   ]
  },
  {
   "cell_type": "code",
   "execution_count": 271,
   "metadata": {},
   "outputs": [
    {
     "data": {
      "text/plain": [
       "1-element Array{Float32,1}:\n",
       " 340.687"
      ]
     },
     "execution_count": 271,
     "metadata": {},
     "output_type": "execute_result"
    }
   ],
   "source": [
    "# initial weights and loss\n",
    "lr = Ftype(1e-3) # learning rate\n",
    "s  = Ftype(1.5) # line search parameter\n",
    "w  = weights()\n",
    "ws = [copy(w)]\n",
    "losses = [loss(w,xtrn,ytrn)]"
   ]
  },
  {
   "cell_type": "code",
   "execution_count": null,
   "metadata": {
    "scrolled": true
   },
   "outputs": [
    {
     "name": "stdout",
     "output_type": "stream",
     "text": [
      "  0.029335 seconds (10.47 k allocations: 438.578 KiB)\n",
      "epoch = 1, lr = 3.9018447e-5, loss = 29.22376\n",
      "  0.024014 seconds (8.93 k allocations: 379.266 KiB)\n",
      "epoch = 2, lr = 5.8527672e-5, loss = 29.10372\n",
      "  0.228763 seconds (14.70 k allocations: 505.266 KiB, 85.49% gc time)\n",
      "epoch = 3, lr = 3.9018447e-5, loss = 28.992474\n",
      "  0.022570 seconds (8.93 k allocations: 378.938 KiB)\n",
      "epoch = 4, lr = 5.8527672e-5, loss = 28.88089\n",
      "  0.024039 seconds (8.93 k allocations: 378.938 KiB)\n",
      "epoch = 5, lr = 8.779151e-5, loss = 28.862585\n",
      "  0.035691 seconds (12.07 k allocations: 501.500 KiB)\n",
      "epoch = 6, lr = 3.9018447e-5, loss = 28.73757\n",
      "  0.021900 seconds (8.93 k allocations: 378.938 KiB)\n",
      "epoch = 7, lr = 5.8527672e-5, loss = 28.634075\n",
      "  0.026843 seconds (10.47 k allocations: 438.578 KiB)\n",
      "epoch = 8, lr = 3.9018447e-5, loss = 28.519812\n",
      "  0.022163 seconds (8.93 k allocations: 378.938 KiB)\n",
      "epoch = 9, lr = 5.8527672e-5, loss = 28.421936\n",
      "  0.029672 seconds (10.51 k allocations: 440.766 KiB)\n",
      "epoch = 10, lr = 3.9018447e-5, loss = 28.316082\n",
      "  0.021915 seconds (8.93 k allocations: 378.938 KiB)\n",
      "epoch = 11, lr = 5.8527672e-5, loss = 28.223248\n",
      "  0.029855 seconds (10.47 k allocations: 438.578 KiB)\n",
      "epoch = 12, lr = 3.9018447e-5, loss = 28.12409\n",
      "  0.024066 seconds (8.93 k allocations: 378.938 KiB)\n",
      "epoch = 13, lr = 5.8527672e-5, loss = 28.035833\n",
      "  0.032542 seconds (10.52 k allocations: 441.203 KiB)\n",
      "epoch = 14, lr = 3.9018447e-5, loss = 27.94221\n",
      "  0.022117 seconds (8.93 k allocations: 378.938 KiB)\n",
      "epoch = 15, lr = 5.8527672e-5, loss = 27.858225\n",
      "  0.027489 seconds (10.47 k allocations: 438.578 KiB)\n",
      "epoch = 16, lr = 3.9018447e-5, loss = 27.769367\n",
      "  0.023156 seconds (8.93 k allocations: 378.938 KiB)\n",
      "epoch = 17, lr = 5.8527672e-5, loss = 27.689539\n",
      "  0.225110 seconds (15.03 k allocations: 511.797 KiB, 86.00% gc time)\n",
      "epoch = 18, lr = 3.9018447e-5, loss = 27.60498\n",
      "  0.024688 seconds (8.93 k allocations: 378.938 KiB)\n",
      "epoch = 19, lr = 5.8527672e-5, loss = 27.52937\n",
      "  0.028332 seconds (10.47 k allocations: 438.578 KiB)\n",
      "epoch = 20, lr = 3.9018447e-5, loss = 27.448893\n",
      "  0.023561 seconds (8.93 k allocations: 378.938 KiB)\n",
      "epoch = 21, lr = 5.8527672e-5, loss = 27.377789\n",
      "  0.229266 seconds (15.08 k allocations: 513.078 KiB, 84.93% gc time)\n",
      "epoch = 22, lr = 3.9018447e-5, loss = 27.301361\n",
      "  0.022705 seconds (8.93 k allocations: 378.938 KiB)\n",
      "epoch = 23, lr = 5.8527672e-5, loss = 27.23534\n",
      "  0.026163 seconds (10.47 k allocations: 438.578 KiB)\n",
      "epoch = 24, lr = 3.9018447e-5, loss = 27.163147\n",
      "  0.021383 seconds (8.93 k allocations: 378.938 KiB)\n",
      "epoch = 25, lr = 5.8527672e-5, loss = 27.103155\n",
      "  0.228286 seconds (15.06 k allocations: 512.234 KiB, 85.81% gc time)\n",
      "epoch = 26, lr = 3.9018447e-5, loss = 27.035625\n",
      "  0.023779 seconds (8.93 k allocations: 378.938 KiB)\n",
      "epoch = 27, lr = 5.8527672e-5, loss = 26.98318\n",
      "  0.027130 seconds (10.47 k allocations: 438.578 KiB)\n",
      "epoch = 28, lr = 3.9018447e-5, loss = 26.921015\n",
      "  0.020950 seconds (8.93 k allocations: 378.938 KiB)\n",
      "epoch = 29, lr = 5.8527672e-5, loss = 26.878418\n",
      "  0.224539 seconds (15.07 k allocations: 512.484 KiB, 86.48% gc time)\n",
      "epoch = 30, lr = 3.9018447e-5, loss = 26.822643\n",
      "  0.023364 seconds (8.93 k allocations: 378.938 KiB)\n",
      "epoch = 31, lr = 5.8527672e-5, loss = 26.793371\n",
      "  0.027077 seconds (10.47 k allocations: 438.578 KiB)\n",
      "epoch = 32, lr = 3.9018447e-5, loss = 26.7453\n",
      "  0.020723 seconds (8.93 k allocations: 378.938 KiB)\n",
      "epoch = 33, lr = 5.8527672e-5, loss = 26.73444\n",
      "  0.223311 seconds (15.07 k allocations: 512.422 KiB, 86.59% gc time)\n",
      "epoch = 34, lr = 3.9018447e-5, loss = 26.695486\n",
      "  0.028143 seconds (10.47 k allocations: 438.578 KiB)\n",
      "epoch = 35, lr = 2.6012298e-5, loss = 26.35517\n",
      "  0.022259 seconds (8.93 k allocations: 378.938 KiB)\n",
      "epoch = 36, lr = 3.9018447e-5, loss = 26.259043\n",
      "  0.020652 seconds (8.93 k allocations: 378.938 KiB)\n",
      "epoch = 37, lr = 5.8527672e-5, loss = 26.195202\n",
      "  0.223093 seconds (13.46 k allocations: 450.750 KiB, 89.28% gc time)\n",
      "epoch = 38, lr = 8.779151e-5, loss = 26.133722\n",
      "  0.032649 seconds (12.01 k allocations: 498.219 KiB)\n",
      "epoch = 39, lr = 3.9018447e-5, loss = 26.080954\n",
      "  0.020752 seconds (8.93 k allocations: 378.938 KiB)\n",
      "epoch = 40, lr = 5.8527672e-5, loss = 26.029154\n",
      "  0.030135 seconds (10.52 k allocations: 441.094 KiB)\n",
      "epoch = 41, lr = 3.9018447e-5, loss = 25.984827\n",
      "  0.224857 seconds (13.22 k allocations: 446.625 KiB, 88.24% gc time)\n",
      "epoch = 42, lr = 5.8527672e-5, loss = 25.941422\n",
      "  0.028052 seconds (10.47 k allocations: 438.578 KiB)\n",
      "epoch = 43, lr = 3.9018447e-5, loss = 25.910807\n",
      "  0.020782 seconds (8.93 k allocations: 378.938 KiB)\n",
      "epoch = 44, lr = 5.8527672e-5, loss = 25.880554\n",
      "  0.026385 seconds (10.49 k allocations: 439.672 KiB)\n",
      "epoch = 45, lr = 3.9018447e-5, loss = 25.873377\n",
      "  0.222035 seconds (13.34 k allocations: 448.016 KiB, 89.26% gc time)\n",
      "epoch = 46, lr = 5.8527672e-5, loss = 25.864147\n",
      "  0.032701 seconds (12.01 k allocations: 498.219 KiB)\n",
      "epoch = 47, lr = 2.6012298e-5, loss = 25.617626\n",
      "  0.021393 seconds (8.94 k allocations: 379.375 KiB)\n",
      "epoch = 48, lr = 3.9018447e-5, loss = 25.536083\n",
      "  0.024575 seconds (8.98 k allocations: 382.000 KiB)\n",
      "epoch = 49, lr = 5.8527672e-5, loss = 25.481852\n",
      "  0.020869 seconds (8.93 k allocations: 378.938 KiB)\n",
      "epoch = 50, lr = 8.779151e-5, loss = 25.444021\n",
      "  0.035347 seconds (12.01 k allocations: 498.219 KiB)\n",
      "epoch = 51, lr = 3.9018447e-5, loss = 25.410397\n",
      "  0.022372 seconds (8.93 k allocations: 379.266 KiB)\n",
      "epoch = 52, lr = 5.8527672e-5, loss = 25.381557\n",
      "  0.233838 seconds (15.10 k allocations: 513.531 KiB, 85.62% gc time)\n",
      "epoch = 53, lr = 3.9018447e-5, loss = 25.370445\n",
      "  0.023790 seconds (8.93 k allocations: 378.938 KiB)\n",
      "epoch = 54, lr = 5.8527672e-5, loss = 25.366615\n",
      "  0.032536 seconds (12.01 k allocations: 498.219 KiB)\n",
      "epoch = 55, lr = 2.6012298e-5, loss = 25.176846\n",
      "  0.020634 seconds (8.93 k allocations: 378.938 KiB)\n",
      "epoch = 56, lr = 3.9018447e-5, loss = 25.106165\n",
      "  0.220190 seconds (13.50 k allocations: 451.938 KiB, 88.77% gc time)\n",
      "epoch = 57, lr = 5.8527672e-5, loss = 25.057281\n",
      "  0.024325 seconds (8.93 k allocations: 378.938 KiB)\n",
      "epoch = 58, lr = 8.779151e-5, loss = 25.031315\n",
      "  0.032701 seconds (12.01 k allocations: 498.219 KiB)\n",
      "epoch = 59, lr = 3.9018447e-5, loss = 25.010323\n",
      "  0.024626 seconds (8.93 k allocations: 379.266 KiB)\n",
      "epoch = 60, lr = 5.8527672e-5, loss = 24.998974\n",
      "  0.233355 seconds (16.61 k allocations: 571.797 KiB, 84.62% gc time)\n",
      "epoch = 61, lr = 2.6012298e-5, loss = 24.864452\n",
      "  0.022373 seconds (8.93 k allocations: 378.938 KiB)\n",
      "epoch = 62, lr = 3.9018447e-5, loss = 24.806503\n",
      "  0.023431 seconds (8.93 k allocations: 378.938 KiB)\n",
      "epoch = 63, lr = 5.8527672e-5, loss = 24.760489\n",
      "  0.021043 seconds (8.93 k allocations: 379.266 KiB)\n",
      "epoch = 64, lr = 8.779151e-5, loss = 24.732777\n",
      "  0.232963 seconds (16.61 k allocations: 571.734 KiB, 84.65% gc time)\n",
      "epoch = 65, lr = 3.9018447e-5, loss = 24.71492\n",
      "  0.022938 seconds (8.93 k allocations: 378.938 KiB)\n",
      "epoch = 66, lr = 5.8527672e-5, loss = 24.709743\n",
      "  0.033357 seconds (12.03 k allocations: 498.875 KiB)\n",
      "epoch = 67, lr = 2.6012298e-5, loss = 24.583427\n",
      "  0.022184 seconds (8.96 k allocations: 380.797 KiB)\n",
      "epoch = 68, lr = 3.9018447e-5, loss = 24.526966"
     ]
    }
   ],
   "source": [
    "# Record the weights and losses for `ep` epochs\n",
    "for epoch in 1:ep\n",
    "    @time lr = train_sgd!(w,dtrn,lr=lr,s=s)\n",
    "    push!(ws, copy(w))\n",
    "    push!(losses, loss(w,xtrn,ytrn))\n",
    "    println(\"epoch = $epoch, lr = $lr, loss = $(losses[end])\")\n",
    "end"
   ]
  },
  {
   "cell_type": "code",
   "execution_count": null,
   "metadata": {
    "scrolled": true
   },
   "outputs": [],
   "source": [
    "losses"
   ]
  },
  {
   "cell_type": "code",
   "execution_count": null,
   "metadata": {
    "scrolled": false
   },
   "outputs": [],
   "source": [
    "plot(losses,xlabel=\"Epochs\",ylabel=\"Loss\",ylim=(0.0,500.0)) "
   ]
  },
  {
   "cell_type": "code",
   "execution_count": 210,
   "metadata": {},
   "outputs": [],
   "source": [
    "idx = 5\n",
    "imshow(Array{Ftype}(w[end])[:,:,1,1]);\n",
    "imshow(Array{Ftype}(xtrn)[:,:,1,idx]);\n",
    "imshow(Array{Ftype}(predict(w,xtrn))[:,:,1,idx]);\n",
    "imshow(Array{Ftype}(ytrn)[:,:,1,idx]);"
   ]
  },
  {
   "cell_type": "markdown",
   "metadata": {
    "slideshow": {
     "slide_type": "slide"
    }
   },
   "source": [
    "# Testing gradients"
   ]
  },
  {
   "cell_type": "code",
   "execution_count": 53,
   "metadata": {
    "scrolled": false
   },
   "outputs": [
    {
     "name": "stdout",
     "output_type": "stream",
     "text": [
      "Knet.KnetArray{Float32,4}\n",
      "Knet.KnetArray{Float32,4}\n",
      "    h: 0.1\n",
      " diff: [22.8909, 23.0227, 23.5443, 82.4476, 51.2972, 18.5263, 54.7812, 56.2871, 111.889, 32.8095, 39.5458, 34.9362, 16.5791, 159.094]\n",
      "    h: 0.05\n",
      " diff: [165.367, 836.022, 54.7307, 25.3502, 9.67071, 4.26693, 19.2321, 21.9361, 38.9125, 73.26, 48.4928, 5.86808, 47.8326, 7.28696]\n",
      "ratio: [0.138425, 0.0275384, 0.430185, 3.25234, 5.30438, 4.34184, 2.84843, 2.56596, 2.87539, 0.447851, 0.815498, 5.9536, 0.346606, 21.8327]\n",
      "    h: 0.025\n",
      " diff: [73.4712, 45.7752, 6.4873, 3.59415, 2.81258, 0.651263, 1.8255, 5.50038, 293.323, 115.847, 4.33093, 7.59124, 26.9382, 17.1977]\n",
      "ratio: [2.25077, 18.2637, 8.43659, 7.05319, 3.43838, 6.55179, 10.5353, 3.9881, 0.132661, 0.632388, 11.1969, 0.773008, 1.77564, 0.423717]\n",
      "Knet.KnetArray{Float32,4}\n",
      "Knet.KnetArray{Float32,4}\n",
      "    h: 0.0125\n",
      " diff: [54.5542, 212.194, 3.20153, 0.840418, 0.737945, 4.58832, 1.39067, 0.812282, 73.7646, 29.9642, 7.35661, 1.87079, 20.3105, 4.05299]\n",
      "    h: 0.00625\n",
      " diff: [2.89911, 86.284, 15.8847, 0.912576, 0.236028, 0.0775439, 0.195021, 0.289898, 32.1436, 1.34125, 0.516922, 0.00318217, 3.28411, 0.794317]\n",
      "ratio: [18.8176, 2.45925, 0.201548, 0.920929, 3.12651, 59.1707, 7.13086, 2.80196, 2.29484, 22.3405, 14.2316, 587.896, 6.18449, 5.10249]\n",
      "    h: 0.003125\n",
      " diff: [31.5364, 31.7631, 0.236058, 0.124522, 0.0589995, 0.0203717, 0.188528, 0.0858288, 20.7987, 4.52399, 0.0979356, 0.00127447, 1.4, 0.156268]\n",
      "ratio: [0.0919291, 2.71648, 67.2915, 7.32866, 4.00051, 3.80645, 1.03444, 3.37763, 1.54547, 0.296475, 5.27819, 2.49687, 2.34579, 5.08304]\n"
     ]
    }
   ],
   "source": [
    "# Testing the gradient: Increasing w[2] (scalar μ) by eps_w should decrease loss by grad_w2 * eps_w2\n",
    "h = Ftype(1e-1)\n",
    "num_tests = 3\n",
    "ldiff = zeros(num_tests,length(w))\n",
    "vdot(x, y) = sum(vec(x).*vec(y))\n",
    "for (x,y) in dtst\n",
    "    println(typeof(x))\n",
    "    println(typeof(y))\n",
    "    for i in 1:num_tests\n",
    "        println(\"    h: $h\")\n",
    "        for j in 1:length(w)\n",
    "            w0 = copy(w)\n",
    "            loss0 = loss(w0,x,y)\n",
    "            grad0 = lossgradient(w0,x,y)\n",
    "            eps_w = h * Atype(randn(Ftype,size(w0[j])))\n",
    "            w0[j] -= eps_w\n",
    "            loss1 = loss(w0,x,y)\n",
    "            Δloss = loss1 - loss0\n",
    "            Δgrad = -vdot(vec(grad0[j]), vec(eps_w))\n",
    "            ldiff[i,j] = abs(Δloss - Δgrad)\n",
    "            #println(\"Δloss[$i]: \", Δloss)\n",
    "            #println(\"Δgrad[$i]: \", Δgrad)\n",
    "        end\n",
    "        println(\" diff: \", ldiff[i,:])\n",
    "        i > 1 && println(\"ratio: \", ldiff[i-1,:]./ldiff[i,:])\n",
    "        h /= 2.0f0\n",
    "    end\n",
    "end"
   ]
  },
  {
   "cell_type": "code",
   "execution_count": 54,
   "metadata": {},
   "outputs": [
    {
     "name": "stderr",
     "output_type": "stream",
     "text": [
      "\u001b[1m\u001b[33mWARNING: \u001b[39m\u001b[22m\u001b[33md=-553.1128 nd=-531.84375\u001b[39m\n",
      "\u001b[1m\u001b[33mWARNING: \u001b[39m\u001b[22m\u001b[33md=-2075.1553 nd=-2014.2578\u001b[39m\n",
      "\u001b[1m\u001b[33mWARNING: \u001b[39m\u001b[22m\u001b[33md=140.8363 nd=150.24547\u001b[39m\n",
      "\u001b[1m\u001b[33mWARNING: \u001b[39m\u001b[22m\u001b[33md=1875.3008 nd=1950.1987\u001b[39m\n"
     ]
    },
    {
     "name": "stdout",
     "output_type": "stream",
     "text": [
      "gcheck: d=135.35732 nd=135.22704\n",
      "gcheck: d=-17.256958 nd=-17.263025\n",
      "gcheck: d=-132.43896 nd=-132.34946\n"
     ]
    },
    {
     "name": "stderr",
     "output_type": "stream",
     "text": [
      "\u001b[1m\u001b[33mWARNING: \u001b[39m\u001b[22m\u001b[33md=-4741.0254 nd=-4665.051\u001b[39m\n",
      "\u001b[1m\u001b[33mWARNING: \u001b[39m\u001b[22m\u001b[33md=-340.8372 nd=-321.20087\u001b[39m\n",
      "\u001b[1m\u001b[33mWARNING: \u001b[39m\u001b[22m\u001b[33md=3461.1365 nd=3417.3362\u001b[39m\n",
      "\u001b[1m\u001b[33mWARNING: \u001b[39m\u001b[22m\u001b[33md=-7732.1177 nd=-7708.506\u001b[39m\n"
     ]
    },
    {
     "name": "stdout",
     "output_type": "stream",
     "text": [
      "gcheck: d=81.03483 nd=81.0566\n",
      "gcheck: d=-132.43896 nd=-132.39906\n",
      "gcheck: d=60.244087 nd=60.22198\n",
      "gcheck: d=66.87149 nd=66.81982\n",
      "gcheck: d=-129.47887 nd=-129.47269\n",
      "gcheck: d=278.65378 nd=278.58887\n",
      "gcheck: d=-96.46739 nd=-96.4375\n",
      "gcheck: d=-32.63891 nd=-32.625\n",
      "gcheck: d=-104.087746 nd=-104.125\n",
      "gcheck: d=131.15106 nd=131.125\n",
      "gcheck: d=-91.97578 nd=-92.0\n"
     ]
    },
    {
     "name": "stderr",
     "output_type": "stream",
     "text": [
      "\u001b[1m\u001b[33mWARNING: \u001b[39m\u001b[22m\u001b[33md=-5.626957 nd=-5.655129\u001b[39m\n"
     ]
    },
    {
     "name": "stdout",
     "output_type": "stream",
     "text": [
      "gcheck: d=-88.41452 nd=-88.375\n",
      "gcheck: d=-104.087746 nd=-104.0625\n",
      "gcheck: d=-86.7276 nd=-86.75\n",
      "gcheck: d=48.626648 nd=48.66441\n",
      "gcheck: d=16.778938 nd=16.772686\n",
      "gcheck: d=-96.352875 nd=-96.38388\n",
      "gcheck: d=-58.151463 nd=-58.192554\n",
      "gcheck: d=-165.54521 nd=-165.52199\n",
      "gcheck: d=56.003304 nd=56.02707\n",
      "gcheck: d=-51.359627 nd=-51.34174\n",
      "gcheck: d=-103.27675 nd=-103.27407\n"
     ]
    },
    {
     "name": "stderr",
     "output_type": "stream",
     "text": [
      "\u001b[1m\u001b[33mWARNING: \u001b[39m\u001b[22m\u001b[33md=13.678961 nd=13.75\u001b[39m\n",
      "\u001b[1m\u001b[33mWARNING: \u001b[39m\u001b[22m\u001b[33md=16.496325 nd=16.5625\u001b[39m\n"
     ]
    },
    {
     "name": "stdout",
     "output_type": "stream",
     "text": [
      "gcheck: d=44.753284 nd=44.766533\n",
      "gcheck: d=-34.950695 nd=-34.96278\n",
      "gcheck: d=109.6631 nd=109.69179\n"
     ]
    },
    {
     "name": "stderr",
     "output_type": "stream",
     "text": [
      "\u001b[1m\u001b[33mWARNING: \u001b[39m\u001b[22m\u001b[33md=0.03854291 nd=0.078745\u001b[39m\n",
      "\u001b[1m\u001b[33mWARNING: \u001b[39m\u001b[22m\u001b[33md=-0.0035299917 nd=-0.078745\u001b[39m\n",
      "\u001b[1m\u001b[33mWARNING: \u001b[39m\u001b[22m\u001b[33md=9.516695e-8 nd=0.078745\u001b[39m\n",
      "\u001b[1m\u001b[33mWARNING: \u001b[39m\u001b[22m\u001b[33md=-0.0017343233 nd=0.0\u001b[39m\n"
     ]
    },
    {
     "name": "stdout",
     "output_type": "stream",
     "text": [
      "gcheck: d=109.6631 nd=109.613045\n",
      "gcheck: d=109.6631 nd=109.69179\n",
      "gcheck: d=79.64308 nd=79.6112\n",
      "gcheck: d=40.274815 nd=40.31744\n",
      "gcheck: d=335.18845 nd=335.21747\n",
      "gcheck: d=119.29025 nd=119.21993\n",
      "gcheck: d=283.896 nd=283.95447\n",
      "gcheck: d=-172.92583 nd=-172.92403\n",
      "gcheck: d=-28.7787 nd=-28.820671\n",
      "gcheck: d=283.896 nd=283.95447\n",
      "gcheck: d=335.18845 nd=335.21747\n",
      "gcheck: d=-145.42209 nd=-145.39635\n",
      "gcheck: d=-125.159874 nd=-125.15694\n",
      "gcheck: d=-109.78865 nd=-109.72901\n",
      "gcheck: d=-275.1388 nd=-275.16666\n"
     ]
    },
    {
     "name": "stderr",
     "output_type": "stream",
     "text": [
      "\u001b[1m\u001b[33mWARNING: \u001b[39m\u001b[22m\u001b[33md=9.480244 nd=9.528145\u001b[39m\n",
      "\u001b[1m\u001b[33mWARNING: \u001b[39m\u001b[22m\u001b[33md=-28.480036 nd=-28.426945\u001b[39m\n",
      "\u001b[1m\u001b[33mWARNING: \u001b[39m\u001b[22m\u001b[33md=-0.04151392 nd=-0.049606394\u001b[39m\n"
     ]
    },
    {
     "name": "stdout",
     "output_type": "stream",
     "text": [
      "gcheck: d=-177.0417 nd=-176.99521\n",
      "gcheck: d=-109.38666 nd=-109.3821\n",
      "gcheck: d=-90.556564 nd=-90.53167\n",
      "gcheck: d=-113.88885 nd=-113.84667\n",
      "gcheck: d=-259.1242 nd=-259.0942\n"
     ]
    },
    {
     "name": "stderr",
     "output_type": "stream",
     "text": [
      "\u001b[1m\u001b[33mWARNING: \u001b[39m\u001b[22m\u001b[33md=144.28156 nd=143.875\u001b[39m\n",
      "\u001b[1m\u001b[33mWARNING: \u001b[39m\u001b[22m\u001b[33md=154.73064 nd=155.875\u001b[39m\n",
      "\u001b[1m\u001b[33mWARNING: \u001b[39m\u001b[22m\u001b[33md=-29.104698 nd=-30.9375\u001b[39m\n",
      "\u001b[1m\u001b[33mWARNING: \u001b[39m\u001b[22m\u001b[33md=-1239.4521 nd=-1236.125\u001b[39m\n"
     ]
    },
    {
     "name": "stdout",
     "output_type": "stream",
     "text": [
      "gcheck: d=172.89618 nd=172.75\n",
      "gcheck: d=501.43835 nd=501.3125\n",
      "gcheck: d=1064.7478 nd=1064.25\n"
     ]
    },
    {
     "name": "stderr",
     "output_type": "stream",
     "text": [
      "\u001b[1m\u001b[33mWARNING: \u001b[39m\u001b[22m\u001b[33md=-290.699 nd=-288.375\u001b[39m\n",
      "\u001b[1m\u001b[33mWARNING: \u001b[39m\u001b[22m\u001b[33md=72.56364 nd=71.125\u001b[39m\n",
      "\u001b[1m\u001b[33mWARNING: \u001b[39m\u001b[22m\u001b[33md=372.02026 nd=373.125\u001b[39m\n",
      "\u001b[1m\u001b[33mWARNING: \u001b[39m\u001b[22m\u001b[33md=17.318909 nd=17.375\u001b[39m\n",
      "\u001b[1m\u001b[33mWARNING: \u001b[39m\u001b[22m\u001b[33md=15.659812 nd=15.625\u001b[39m\n",
      "\u001b[1m\u001b[33mWARNING: \u001b[39m\u001b[22m\u001b[33md=82.96138 nd=82.875\u001b[39m\n"
     ]
    },
    {
     "name": "stdout",
     "output_type": "stream",
     "text": [
      "gcheck: d=38.018486 nd=38.0\n",
      "gcheck: d=-31.266869 nd=-31.25\n",
      "gcheck: d=-123.62665 nd=-123.625\n",
      "gcheck: d=-73.65943 nd=-73.625\n",
      "gcheck: d=92.680855 nd=92.625\n",
      "gcheck: d=99.922775 nd=99.875\n",
      "gcheck: d=-226.45404 nd=-226.5\n",
      "gcheck: d=54.27318 nd=54.255306\n",
      "gcheck: d=-51.52768 nd=-51.577976\n",
      "gcheck: d=-57.52496 nd=-57.562595\n"
     ]
    },
    {
     "name": "stderr",
     "output_type": "stream",
     "text": [
      "\u001b[1m\u001b[33mWARNING: \u001b[39m\u001b[22m\u001b[33md=6.0927925 nd=6.1421103\u001b[39m\n",
      "\u001b[1m\u001b[33mWARNING: \u001b[39m\u001b[22m\u001b[33md=-17.262444 nd=-17.3239\u001b[39m\n"
     ]
    },
    {
     "name": "stdout",
     "output_type": "stream",
     "text": [
      "gcheck: d=50.38418 nd=50.3968\n",
      "gcheck: d=93.18991 nd=93.155334\n",
      "gcheck: d=57.776154 nd=57.798832\n",
      "gcheck: d=70.81013 nd=70.791756\n",
      "gcheck: d=13.842267 nd=13.85912\n"
     ]
    },
    {
     "name": "stderr",
     "output_type": "stream",
     "text": [
      "\u001b[1m\u001b[33mWARNING: \u001b[39m\u001b[22m\u001b[33md=4.6372137 nd=4.7247\u001b[39m\n",
      "\u001b[1m\u001b[33mWARNING: \u001b[39m\u001b[22m\u001b[33md=19.475246 nd=19.52876\u001b[39m\n",
      "\u001b[1m\u001b[33mWARNING: \u001b[39m\u001b[22m\u001b[33md=21.539677 nd=21.57613\u001b[39m\n",
      "\u001b[1m\u001b[33mWARNING: \u001b[39m\u001b[22m\u001b[33md=-18.899519 nd=-19.05629\u001b[39m\n",
      "\u001b[1m\u001b[33mWARNING: \u001b[39m\u001b[22m\u001b[33md=-15.329723 nd=-15.355275\u001b[39m\n"
     ]
    },
    {
     "name": "stdout",
     "output_type": "stream",
     "text": [
      "gcheck: d=41.286446 nd=41.262383\n",
      "gcheck: d=39.651127 nd=39.68748\n",
      "gcheck: d=45.50427 nd=45.435867\n",
      "gcheck: d=-2.3756218 nd=-2.3811069\n",
      "gcheck: d=191.98499 nd=191.92714\n",
      "gcheck: d=162.06711 nd=161.96487\n",
      "gcheck: d=65.680176 nd=65.62906\n",
      "gcheck: d=156.85703 nd=156.90503\n"
     ]
    },
    {
     "name": "stderr",
     "output_type": "stream",
     "text": [
      "\u001b[1m\u001b[33mWARNING: \u001b[39m\u001b[22m\u001b[33md=-16.439987 nd=-16.37896\u001b[39m\n",
      "\u001b[1m\u001b[33mWARNING: \u001b[39m\u001b[22m\u001b[33md=-18.899519 nd=-18.977545\u001b[39m\n"
     ]
    },
    {
     "name": "stdout",
     "output_type": "stream",
     "text": [
      "gcheck: d=-21.065315 nd=-21.082718\n",
      "gcheck: d=133.5229 nd=133.49081\n",
      "gcheck: d=52.62127 nd=52.632385\n",
      "gcheck: d=-69.469986 nd=-69.548164\n",
      "gcheck: d=-111.24867 nd=-111.11799\n"
     ]
    },
    {
     "name": "stderr",
     "output_type": "stream",
     "text": [
      "\u001b[1m\u001b[33mWARNING: \u001b[39m\u001b[22m\u001b[33md=-24.673262 nd=-24.604773\u001b[39m\n",
      "\u001b[1m\u001b[33mWARNING: \u001b[39m\u001b[22m\u001b[33md=-42.14415 nd=-42.26452\u001b[39m\n",
      "\u001b[1m\u001b[33mWARNING: \u001b[39m\u001b[22m\u001b[33md=16.565369 nd=16.469322\u001b[39m\n",
      "\u001b[1m\u001b[33mWARNING: \u001b[39m\u001b[22m\u001b[33md=31.340153 nd=31.25203\u001b[39m\n",
      "\u001b[1m\u001b[33mWARNING: \u001b[39m\u001b[22m\u001b[33md=-11.009893 nd=-11.111833\u001b[39m\n",
      "\u001b[1m\u001b[33mWARNING: \u001b[39m\u001b[22m\u001b[33md=-5.170639 nd=-5.059852\u001b[39m\n"
     ]
    },
    {
     "name": "stdout",
     "output_type": "stream",
     "text": [
      "gcheck: d=42.804314 nd=42.76071\n",
      "gcheck: d=-29.203026 nd=-29.168516\n",
      "gcheck: d=23.532623 nd=23.513432\n"
     ]
    },
    {
     "name": "stderr",
     "output_type": "stream",
     "text": [
      "\u001b[1m\u001b[33mWARNING: \u001b[39m\u001b[22m\u001b[33md=15.113636 nd=15.080344\u001b[39m\n",
      "\u001b[1m\u001b[33mWARNING: \u001b[39m\u001b[22m\u001b[33md=1445.0671 nd=1428.5131\u001b[39m\n",
      "\u001b[1m\u001b[33mWARNING: \u001b[39m\u001b[22m\u001b[33md=-2931.056 nd=-2701.5835\u001b[39m\n",
      "\u001b[1m\u001b[33mWARNING: \u001b[39m\u001b[22m\u001b[33md=3195.9302 nd=3136.2166\u001b[39m\n",
      "\u001b[1m\u001b[33mWARNING: \u001b[39m\u001b[22m\u001b[33md=-2848.5044 nd=-2857.656\u001b[39m\n",
      "\u001b[1m\u001b[33mWARNING: \u001b[39m\u001b[22m\u001b[33md=-372.32486 nd=-390.65396\u001b[39m\n",
      "\u001b[1m\u001b[33mWARNING: \u001b[39m\u001b[22m\u001b[33md=387.7577 nd=421.9157\u001b[39m\n",
      "\u001b[1m\u001b[33mWARNING: \u001b[39m\u001b[22m\u001b[33md=-16438.441 nd=-15800.814\u001b[39m\n",
      "\u001b[1m\u001b[33mWARNING: \u001b[39m\u001b[22m\u001b[33md=-0.4192505 nd=-0.4375\u001b[39m\n",
      "\u001b[1m\u001b[33mWARNING: \u001b[39m\u001b[22m\u001b[33md=-0.4192505 nd=-0.5\u001b[39m\n"
     ]
    },
    {
     "name": "stdout",
     "output_type": "stream",
     "text": [
      "gcheck: d=1087.4575 nd=1086.2085\n",
      "gcheck: d=-178.28958 nd=-178.25\n",
      "gcheck: d=-384.10718 nd=-384.0\n",
      "gcheck: d=171.90573 nd=171.9375\n",
      "gcheck: d=171.90573 nd=171.9375\n",
      "gcheck: d=171.90573 nd=171.875\n",
      "gcheck: d=-335.1856 nd=-334.875\n",
      "gcheck: d=171.90573 nd=171.9375\n",
      "gcheck: d=99.614494 nd=99.625\n",
      "gcheck: d=42.044415 nd=42.04983\n",
      "gcheck: d=-52.028023 nd=-52.050446\n",
      "gcheck: d=-80.31273 nd=-80.3199\n",
      "gcheck: d=121.01402 nd=121.03107\n",
      "gcheck: d=136.15651 nd=136.1501\n",
      "gcheck: d=42.044415 nd=42.04983\n",
      "gcheck: d=83.86984 nd=83.94217\n"
     ]
    },
    {
     "name": "stderr",
     "output_type": "stream",
     "text": [
      "\u001b[1m\u001b[33mWARNING: \u001b[39m\u001b[22m\u001b[33md=-3.8387918 nd=-3.7797601\u001b[39m\n",
      "\u001b[1m\u001b[33mWARNING: \u001b[39m\u001b[22m\u001b[33md=-29.914234 nd=-29.76561\u001b[39m\n"
     ]
    },
    {
     "name": "stdout",
     "output_type": "stream",
     "text": [
      "gcheck: d=-60.491886 nd=-60.554905\n",
      "gcheck: d=-80.79993 nd=-80.85842\n",
      "gcheck: d=63.722908 nd=63.793823\n",
      "gcheck: d=-121.71699 nd=-121.73409\n",
      "gcheck: d=-138.30942 nd=-138.35223\n",
      "gcheck: d=-131.30058 nd=-131.25851\n",
      "gcheck: d=59.819695 nd=59.825176\n",
      "gcheck: d=-19.359097 nd=-19.346495\n",
      "gcheck: d=11.2092705 nd=11.211045\n",
      "gcheck: d=64.906845 nd=64.88516\n"
     ]
    },
    {
     "name": "stderr",
     "output_type": "stream",
     "text": [
      "\u001b[1m\u001b[33mWARNING: \u001b[39m\u001b[22m\u001b[33md=32.383865 nd=32.442978\u001b[39m\n",
      "\u001b[1m\u001b[33mWARNING: \u001b[39m\u001b[22m\u001b[33md=-0.112417854 nd=-0.15749\u001b[39m\n"
     ]
    },
    {
     "name": "stdout",
     "output_type": "stream",
     "text": [
      "gcheck: d=-105.65699 nd=-105.66162\n",
      "gcheck: d=42.033638 nd=42.066223\n",
      "gcheck: d=100.01557 nd=100.105705\n",
      "gcheck: d=27.26643 nd=27.282856\n",
      "gcheck: d=147.44653 nd=147.42664\n",
      "gcheck: d=-12.306878 nd=-12.302386\n",
      "gcheck: d=88.90492 nd=88.99387\n",
      "gcheck: d=-98.00871 nd=-98.02223\n",
      "gcheck: d=-167.55692 nd=-167.5208\n",
      "gcheck: d=-167.55692 nd=-167.5704\n",
      "gcheck: d=-194.37938 nd=-194.40746\n",
      "gcheck: d=-147.06094 nd=-147.03336\n"
     ]
    },
    {
     "name": "stderr",
     "output_type": "stream",
     "text": [
      "\u001b[1m\u001b[33mWARNING: \u001b[39m\u001b[22m\u001b[33md=-95.67311 nd=-95.839264\u001b[39m\n",
      "\u001b[1m\u001b[33mWARNING: \u001b[39m\u001b[22m\u001b[33md=-3.261917 nd=-3.1748092\u001b[39m\n",
      "\u001b[1m\u001b[33mWARNING: \u001b[39m\u001b[22m\u001b[33md=-3.261917 nd=-3.1748092\u001b[39m\n",
      "\u001b[1m\u001b[33mWARNING: \u001b[39m\u001b[22m\u001b[33md=13.800507 nd=13.889454\u001b[39m\n"
     ]
    },
    {
     "name": "stdout",
     "output_type": "stream",
     "text": [
      "gcheck: d=113.76544 nd=113.74746\n",
      "gcheck: d=-107.842575 nd=-107.893906\n",
      "gcheck: d=-98.00871 nd=-97.972626\n",
      "gcheck: d=-63.814545 nd=-63.793823\n",
      "gcheck: d=-96.67969 nd=-96.53404\n"
     ]
    },
    {
     "name": "stderr",
     "output_type": "stream",
     "text": [
      "\u001b[1m\u001b[33mWARNING: \u001b[39m\u001b[22m\u001b[33md=-4.4440746 nd=-4.414969\u001b[39m\n",
      "\u001b[1m\u001b[33mWARNING: \u001b[39m\u001b[22m\u001b[33md=461.14685 nd=459.75208\u001b[39m\n",
      "\u001b[1m\u001b[33mWARNING: \u001b[39m\u001b[22m\u001b[33md=226.8732 nd=223.87366\u001b[39m\n",
      "\u001b[1m\u001b[33mWARNING: \u001b[39m\u001b[22m\u001b[33md=-626.89655 nd=-623.9492\u001b[39m\n",
      "\u001b[1m\u001b[33mWARNING: \u001b[39m\u001b[22m\u001b[33md=1411.3573 nd=1401.331\u001b[39m\n",
      "\u001b[1m\u001b[33mWARNING: \u001b[39m\u001b[22m\u001b[33md=26.286598 nd=24.555166\u001b[39m\n",
      "\u001b[1m\u001b[33mWARNING: \u001b[39m\u001b[22m\u001b[33md=-3.7966557 nd=-3.274022\u001b[39m\n"
     ]
    },
    {
     "name": "stdout",
     "output_type": "stream",
     "text": [
      "gcheck: d=-278.50812 nd=-278.78793\n",
      "gcheck: d=0.54880905 nd=0.54567033\n",
      "gcheck: d=39.933655 nd=39.933147\n",
      "gcheck: d=-59.08978 nd=-59.03161\n",
      "gcheck: d=-267.37778 nd=-267.52728\n",
      "gcheck: d=54.43596 nd=54.418217\n",
      "gcheck: d=100.32812 nd=100.35374\n",
      "gcheck: d=67.95772 nd=67.86155\n",
      "gcheck: d=-223.16823 nd=-223.47614\n",
      "gcheck: d=175.39326 nd=175.2098\n",
      "gcheck: d=-365.27368 nd=-365.10306\n"
     ]
    },
    {
     "name": "stderr",
     "output_type": "stream",
     "text": [
      "\u001b[1m\u001b[33mWARNING: \u001b[39m\u001b[22m\u001b[33md=-1.4172363 nd=-2.629139\u001b[39m\n",
      "\u001b[1m\u001b[33mWARNING: \u001b[39m\u001b[22m\u001b[33md=-229.69835 nd=-228.63588\u001b[39m\n"
     ]
    },
    {
     "name": "stdout",
     "output_type": "stream",
     "text": [
      "gcheck: d=-42.40323 nd=-42.413467\n",
      "gcheck: d=58.08903 nd=58.138695\n",
      "gcheck: d=-132.5105 nd=-132.49867\n",
      "gcheck: d=-24.691269 nd=-24.703985\n",
      "gcheck: d=18.109722 nd=18.155941\n",
      "gcheck: d=-37.572178 nd=-37.601646\n",
      "gcheck: d=-63.244095 nd=-63.29776\n",
      "gcheck: d=-158.45097 nd=-158.44258\n",
      "gcheck: d=-88.46575 nd=-88.3986\n",
      "gcheck: d=-20.04084 nd=-19.991377\n",
      "gcheck: d=-38.995613 nd=-39.08984\n",
      "gcheck: d=-33.207504 nd=-33.186577\n",
      "gcheck: d=-25.688728 nd=-25.646505\n",
      "gcheck: d=47.08919 nd=47.026863\n",
      "gcheck: d=32.176083 nd=32.144848\n",
      "gcheck: d=-37.872856 nd=-37.849678\n",
      "gcheck: d=-66.48845 nd=-66.47257\n"
     ]
    },
    {
     "name": "stderr",
     "output_type": "stream",
     "text": [
      "\u001b[1m\u001b[33mWARNING: \u001b[39m\u001b[22m\u001b[33md=12.222026 nd=12.302348\u001b[39m\n"
     ]
    },
    {
     "name": "stdout",
     "output_type": "stream",
     "text": [
      "gcheck: d=-28.253416 nd=-28.226038\n",
      "gcheck: d=-34.483078 nd=-34.52605\n",
      "gcheck: d=-31.27827 nd=-31.351242\n",
      "gcheck: d=35.375397 nd=35.369358\n"
     ]
    },
    {
     "name": "stderr",
     "output_type": "stream",
     "text": [
      "\u001b[1m\u001b[33mWARNING: \u001b[39m\u001b[22m\u001b[33md=27.837425 nd=27.680368\u001b[39m\n",
      "\u001b[1m\u001b[33mWARNING: \u001b[39m\u001b[22m\u001b[33md=1.5493984 nd=1.4881918\u001b[39m\n",
      "\u001b[1m\u001b[33mWARNING: \u001b[39m\u001b[22m\u001b[33md=-21.461006 nd=-21.529175\u001b[39m\n"
     ]
    },
    {
     "name": "stdout",
     "output_type": "stream",
     "text": [
      "gcheck: d=59.90058 nd=59.924526\n",
      "gcheck: d=-38.55629 nd=-38.54417\n",
      "gcheck: d=72.19289 nd=72.22691\n",
      "gcheck: d=-114.074196 nd=-114.0451\n",
      "gcheck: d=-32.03996 nd=-32.04573\n",
      "gcheck: d=30.449879 nd=30.458326\n",
      "gcheck: d=22.847805 nd=22.818941\n",
      "gcheck: d=-45.53927 nd=-45.53867\n",
      "gcheck: d=28.904173 nd=28.870922\n",
      "gcheck: d=109.64914 nd=109.630135\n",
      "gcheck: d=100.5103 nd=100.55216\n",
      "gcheck: d=-11.390888 nd=-11.409436\n",
      "gcheck: d=31.427097 nd=31.351242\n"
     ]
    },
    {
     "name": "stderr",
     "output_type": "stream",
     "text": [
      "\u001b[1m\u001b[33mWARNING: \u001b[39m\u001b[22m\u001b[33md=-0.42591763 nd=-0.49606282\u001b[39m\n"
     ]
    },
    {
     "name": "stdout",
     "output_type": "stream",
     "text": [
      "gcheck: d=28.904173 nd=28.920528\n"
     ]
    }
   ],
   "source": [
    "for (x,y) in dtst\n",
    "    gradcheck(loss, w, x, y; verbose=true)\n",
    "end"
   ]
  },
  {
   "cell_type": "code",
   "execution_count": null,
   "metadata": {},
   "outputs": [],
   "source": []
  },
  {
   "cell_type": "markdown",
   "metadata": {
    "slideshow": {
     "slide_type": "slide"
    }
   },
   "source": [
    "# Linear regression testing with imfilter"
   ]
  },
  {
   "cell_type": "code",
   "execution_count": 350,
   "metadata": {},
   "outputs": [],
   "source": [
    "# define types\n",
    "srand(42)\n",
    "Ftype = Float64\n",
    "Atype = Array{Ftype};"
   ]
  },
  {
   "cell_type": "code",
   "execution_count": 352,
   "metadata": {},
   "outputs": [],
   "source": [
    "# Initialize model\n",
    "m, n = 50, 60\n",
    "\n",
    "xp, yp = linspace(-pi,pi,m), linspace(-pi,pi,n)'\n",
    "Wx, Wy = 1:5, 1:5\n",
    "idx = 1\n",
    "y = zeros(m,n,1,length(Wx)*length(Wy))\n",
    "for (ωx,ωy) in Iterators.product(Wx,Wy)\n",
    "    y[:,:,1,idx] = Atype( sin.(ωx*xp) .* cos.(ωy*yp) );\n",
    "    idx += 1\n",
    "end\n",
    "x = Atype(y + 0.5randn(Ftype,size(y)));\n",
    "w = [ Atype(0.1*randn(5,5,1,1)), Ftype(1.0) ];"
   ]
  },
  {
   "cell_type": "code",
   "execution_count": 353,
   "metadata": {},
   "outputs": [],
   "source": [
    "#z = imfilter(x,centered(w));\n",
    "z = conv4(w[1],x,padding=1);"
   ]
  },
  {
   "cell_type": "code",
   "execution_count": 354,
   "metadata": {},
   "outputs": [],
   "source": [
    "# Define loss\n",
    "predict(w,x) = conv4(w[1],x,padding=div(size(w[1],1),2)) .+ w[2]\n",
    "loss(w,x,y) = mean(abs2,y-predict(w,x))\n",
    "lossgradient = grad(loss);"
   ]
  },
  {
   "cell_type": "code",
   "execution_count": 355,
   "metadata": {},
   "outputs": [
    {
     "data": {
      "text/plain": [
       "1.2025514132303978"
      ]
     },
     "execution_count": 355,
     "metadata": {},
     "output_type": "execute_result"
    }
   ],
   "source": [
    "w0 = w[2]\n",
    "loss0 = loss(w,x,y)"
   ]
  },
  {
   "cell_type": "code",
   "execution_count": 356,
   "metadata": {},
   "outputs": [],
   "source": [
    "# Testing the gradient: Increasing w[2] by eps_w should decrease loss by 1.9996 * eps_w\n",
    "grad0 = lossgradient(w,x,y)\n",
    "eps_w = 0.0001\n",
    "w[2] = w0 - eps_w\n",
    "loss1 = loss(w,x,y);"
   ]
  },
  {
   "cell_type": "code",
   "execution_count": 357,
   "metadata": {
    "scrolled": true
   },
   "outputs": [
    {
     "data": {
      "text/plain": [
       "-0.0002000528670471624"
      ]
     },
     "execution_count": 357,
     "metadata": {},
     "output_type": "execute_result"
    }
   ],
   "source": [
    "loss1 - loss0"
   ]
  },
  {
   "cell_type": "code",
   "execution_count": 358,
   "metadata": {},
   "outputs": [
    {
     "data": {
      "text/plain": [
       "-0.00020006286704758562"
      ]
     },
     "execution_count": 358,
     "metadata": {},
     "output_type": "execute_result"
    }
   ],
   "source": [
    "-grad0[2] * eps_w"
   ]
  },
  {
   "cell_type": "code",
   "execution_count": 359,
   "metadata": {},
   "outputs": [
    {
     "data": {
      "text/plain": [
       "train! (generic function with 1 method)"
      ]
     },
     "execution_count": 359,
     "metadata": {},
     "output_type": "execute_result"
    }
   ],
   "source": [
    "# SGD training loop\n",
    "function train!(w, data; lr=.1)\n",
    "    for (x,y) in data\n",
    "        dw = lossgradient(w, x, y)\n",
    "        for i in 1:length(w)\n",
    "            w[i] -= lr * dw[i]\n",
    "        end\n",
    "    end\n",
    "    return w\n",
    "end"
   ]
  },
  {
   "cell_type": "code",
   "execution_count": 366,
   "metadata": {},
   "outputs": [
    {
     "name": "stdout",
     "output_type": "stream",
     "text": [
      " 24.838604 seconds (62.24 M allocations: 2.198 GiB, 25.63% gc time)\n"
     ]
    },
    {
     "data": {
      "text/plain": [
       "5×5×1×1 Array{Float64,4}:\n",
       "[:, :, 1, 1] =\n",
       "  0.0603571   0.0132552  0.063892   0.0274858   0.0322449\n",
       " -0.0333668   0.0864598  0.0876568  0.0515261   0.0370344\n",
       "  0.0357426   0.0624823  0.0490681  0.055675    0.0754124\n",
       "  0.0435113   0.164827   0.0843678  0.0341362  -0.0110172\n",
       "  0.0517037  -0.0553282  0.0563687  0.0313654   0.0773658"
      ]
     },
     "execution_count": 366,
     "metadata": {},
     "output_type": "execute_result"
    }
   ],
   "source": [
    "# Record the weights for 10 epochs\n",
    "@time weights = [ copy(train!(w, [(x, y)])) for epoch=1:10 ];\n",
    "weights[end][1]"
   ]
  },
  {
   "cell_type": "code",
   "execution_count": 367,
   "metadata": {
    "scrolled": true
   },
   "outputs": [
    {
     "data": {
      "text/plain": [
       "10-element Array{Float64,1}:\n",
       " 0.0554632\n",
       " 0.0504583\n",
       " 0.0466408\n",
       " 0.043643 \n",
       " 0.0412238\n",
       " 0.0392236\n",
       " 0.0375355\n",
       " 0.0360866\n",
       " 0.0348267\n",
       " 0.0337199"
      ]
     },
     "execution_count": 367,
     "metadata": {},
     "output_type": "execute_result"
    }
   ],
   "source": [
    "losses = [ loss(w,x,y) for w in weights ]"
   ]
  },
  {
   "cell_type": "code",
   "execution_count": 368,
   "metadata": {
    "scrolled": false
   },
   "outputs": [
    {
     "data": {
      "image/svg+xml": [
       "<?xml version=\"1.0\" encoding=\"utf-8\"?>\n",
       "<svg xmlns=\"http://www.w3.org/2000/svg\" xmlns:xlink=\"http://www.w3.org/1999/xlink\" width=\"600\" height=\"400\" viewBox=\"0 0 600 400\">\n",
       "<defs>\n",
       "  <clipPath id=\"clip3500\">\n",
       "    <rect x=\"0\" y=\"0\" width=\"600\" height=\"400\"/>\n",
       "  </clipPath>\n",
       "</defs>\n",
       "<polygon clip-path=\"url(#clip3500)\" points=\"\n",
       "0,400 600,400 600,0 0,0 \n",
       "  \" fill=\"#ffffff\" fill-opacity=\"1\"/>\n",
       "<defs>\n",
       "  <clipPath id=\"clip3501\">\n",
       "    <rect x=\"120\" y=\"0\" width=\"421\" height=\"400\"/>\n",
       "  </clipPath>\n",
       "</defs>\n",
       "<polygon clip-path=\"url(#clip3500)\" points=\"\n",
       "61.6037,360.121 580.315,360.121 580.315,11.811 61.6037,11.811 \n",
       "  \" fill=\"#ffffff\" fill-opacity=\"1\"/>\n",
       "<defs>\n",
       "  <clipPath id=\"clip3502\">\n",
       "    <rect x=\"61\" y=\"11\" width=\"520\" height=\"349\"/>\n",
       "  </clipPath>\n",
       "</defs>\n",
       "<polyline clip-path=\"url(#clip3502)\" style=\"stroke:#000000; stroke-width:0.5; stroke-opacity:0.1; fill:none\" points=\"\n",
       "  119.238,360.121 119.238,11.811 \n",
       "  \"/>\n",
       "<polyline clip-path=\"url(#clip3502)\" style=\"stroke:#000000; stroke-width:0.5; stroke-opacity:0.1; fill:none\" points=\"\n",
       "  234.507,360.121 234.507,11.811 \n",
       "  \"/>\n",
       "<polyline clip-path=\"url(#clip3502)\" style=\"stroke:#000000; stroke-width:0.5; stroke-opacity:0.1; fill:none\" points=\"\n",
       "  349.777,360.121 349.777,11.811 \n",
       "  \"/>\n",
       "<polyline clip-path=\"url(#clip3502)\" style=\"stroke:#000000; stroke-width:0.5; stroke-opacity:0.1; fill:none\" points=\"\n",
       "  465.046,360.121 465.046,11.811 \n",
       "  \"/>\n",
       "<polyline clip-path=\"url(#clip3502)\" style=\"stroke:#000000; stroke-width:0.5; stroke-opacity:0.1; fill:none\" points=\"\n",
       "  580.315,360.121 580.315,11.811 \n",
       "  \"/>\n",
       "<polyline clip-path=\"url(#clip3502)\" style=\"stroke:#000000; stroke-width:0.5; stroke-opacity:0.1; fill:none\" points=\"\n",
       "  61.6037,339.615 580.315,339.615 \n",
       "  \"/>\n",
       "<polyline clip-path=\"url(#clip3502)\" style=\"stroke:#000000; stroke-width:0.5; stroke-opacity:0.1; fill:none\" points=\"\n",
       "  61.6037,259.519 580.315,259.519 \n",
       "  \"/>\n",
       "<polyline clip-path=\"url(#clip3502)\" style=\"stroke:#000000; stroke-width:0.5; stroke-opacity:0.1; fill:none\" points=\"\n",
       "  61.6037,179.423 580.315,179.423 \n",
       "  \"/>\n",
       "<polyline clip-path=\"url(#clip3502)\" style=\"stroke:#000000; stroke-width:0.5; stroke-opacity:0.1; fill:none\" points=\"\n",
       "  61.6037,99.3273 580.315,99.3273 \n",
       "  \"/>\n",
       "<polyline clip-path=\"url(#clip3502)\" style=\"stroke:#000000; stroke-width:0.5; stroke-opacity:0.1; fill:none\" points=\"\n",
       "  61.6037,19.2313 580.315,19.2313 \n",
       "  \"/>\n",
       "<polyline clip-path=\"url(#clip3500)\" style=\"stroke:#000000; stroke-width:1; stroke-opacity:1; fill:none\" points=\"\n",
       "  61.6037,360.121 580.315,360.121 \n",
       "  \"/>\n",
       "<polyline clip-path=\"url(#clip3500)\" style=\"stroke:#000000; stroke-width:1; stroke-opacity:1; fill:none\" points=\"\n",
       "  61.6037,360.121 61.6037,11.811 \n",
       "  \"/>\n",
       "<polyline clip-path=\"url(#clip3500)\" style=\"stroke:#000000; stroke-width:1; stroke-opacity:1; fill:none\" points=\"\n",
       "  119.238,360.121 119.238,354.896 \n",
       "  \"/>\n",
       "<polyline clip-path=\"url(#clip3500)\" style=\"stroke:#000000; stroke-width:1; stroke-opacity:1; fill:none\" points=\"\n",
       "  234.507,360.121 234.507,354.896 \n",
       "  \"/>\n",
       "<polyline clip-path=\"url(#clip3500)\" style=\"stroke:#000000; stroke-width:1; stroke-opacity:1; fill:none\" points=\"\n",
       "  349.777,360.121 349.777,354.896 \n",
       "  \"/>\n",
       "<polyline clip-path=\"url(#clip3500)\" style=\"stroke:#000000; stroke-width:1; stroke-opacity:1; fill:none\" points=\"\n",
       "  465.046,360.121 465.046,354.896 \n",
       "  \"/>\n",
       "<polyline clip-path=\"url(#clip3500)\" style=\"stroke:#000000; stroke-width:1; stroke-opacity:1; fill:none\" points=\"\n",
       "  580.315,360.121 580.315,354.896 \n",
       "  \"/>\n",
       "<polyline clip-path=\"url(#clip3500)\" style=\"stroke:#000000; stroke-width:1; stroke-opacity:1; fill:none\" points=\"\n",
       "  61.6037,339.615 69.3844,339.615 \n",
       "  \"/>\n",
       "<polyline clip-path=\"url(#clip3500)\" style=\"stroke:#000000; stroke-width:1; stroke-opacity:1; fill:none\" points=\"\n",
       "  61.6037,259.519 69.3844,259.519 \n",
       "  \"/>\n",
       "<polyline clip-path=\"url(#clip3500)\" style=\"stroke:#000000; stroke-width:1; stroke-opacity:1; fill:none\" points=\"\n",
       "  61.6037,179.423 69.3844,179.423 \n",
       "  \"/>\n",
       "<polyline clip-path=\"url(#clip3500)\" style=\"stroke:#000000; stroke-width:1; stroke-opacity:1; fill:none\" points=\"\n",
       "  61.6037,99.3273 69.3844,99.3273 \n",
       "  \"/>\n",
       "<polyline clip-path=\"url(#clip3500)\" style=\"stroke:#000000; stroke-width:1; stroke-opacity:1; fill:none\" points=\"\n",
       "  61.6037,19.2313 69.3844,19.2313 \n",
       "  \"/>\n",
       "<g clip-path=\"url(#clip3500)\">\n",
       "<text style=\"fill:#000000; fill-opacity:1; font-family:Arial,Helvetica Neue,Helvetica,sans-serif; font-size:12; text-anchor:middle;\" transform=\"rotate(0, 119.238, 373.921)\" x=\"119.238\" y=\"373.921\">2</text>\n",
       "</g>\n",
       "<g clip-path=\"url(#clip3500)\">\n",
       "<text style=\"fill:#000000; fill-opacity:1; font-family:Arial,Helvetica Neue,Helvetica,sans-serif; font-size:12; text-anchor:middle;\" transform=\"rotate(0, 234.507, 373.921)\" x=\"234.507\" y=\"373.921\">4</text>\n",
       "</g>\n",
       "<g clip-path=\"url(#clip3500)\">\n",
       "<text style=\"fill:#000000; fill-opacity:1; font-family:Arial,Helvetica Neue,Helvetica,sans-serif; font-size:12; text-anchor:middle;\" transform=\"rotate(0, 349.777, 373.921)\" x=\"349.777\" y=\"373.921\">6</text>\n",
       "</g>\n",
       "<g clip-path=\"url(#clip3500)\">\n",
       "<text style=\"fill:#000000; fill-opacity:1; font-family:Arial,Helvetica Neue,Helvetica,sans-serif; font-size:12; text-anchor:middle;\" transform=\"rotate(0, 465.046, 373.921)\" x=\"465.046\" y=\"373.921\">8</text>\n",
       "</g>\n",
       "<g clip-path=\"url(#clip3500)\">\n",
       "<text style=\"fill:#000000; fill-opacity:1; font-family:Arial,Helvetica Neue,Helvetica,sans-serif; font-size:12; text-anchor:middle;\" transform=\"rotate(0, 580.315, 373.921)\" x=\"580.315\" y=\"373.921\">10</text>\n",
       "</g>\n",
       "<g clip-path=\"url(#clip3500)\">\n",
       "<text style=\"fill:#000000; fill-opacity:1; font-family:Arial,Helvetica Neue,Helvetica,sans-serif; font-size:12; text-anchor:end;\" transform=\"rotate(0, 55.6037, 344.115)\" x=\"55.6037\" y=\"344.115\">0.035</text>\n",
       "</g>\n",
       "<g clip-path=\"url(#clip3500)\">\n",
       "<text style=\"fill:#000000; fill-opacity:1; font-family:Arial,Helvetica Neue,Helvetica,sans-serif; font-size:12; text-anchor:end;\" transform=\"rotate(0, 55.6037, 264.019)\" x=\"55.6037\" y=\"264.019\">0.040</text>\n",
       "</g>\n",
       "<g clip-path=\"url(#clip3500)\">\n",
       "<text style=\"fill:#000000; fill-opacity:1; font-family:Arial,Helvetica Neue,Helvetica,sans-serif; font-size:12; text-anchor:end;\" transform=\"rotate(0, 55.6037, 183.923)\" x=\"55.6037\" y=\"183.923\">0.045</text>\n",
       "</g>\n",
       "<g clip-path=\"url(#clip3500)\">\n",
       "<text style=\"fill:#000000; fill-opacity:1; font-family:Arial,Helvetica Neue,Helvetica,sans-serif; font-size:12; text-anchor:end;\" transform=\"rotate(0, 55.6037, 103.827)\" x=\"55.6037\" y=\"103.827\">0.050</text>\n",
       "</g>\n",
       "<g clip-path=\"url(#clip3500)\">\n",
       "<text style=\"fill:#000000; fill-opacity:1; font-family:Arial,Helvetica Neue,Helvetica,sans-serif; font-size:12; text-anchor:end;\" transform=\"rotate(0, 55.6037, 23.7313)\" x=\"55.6037\" y=\"23.7313\">0.055</text>\n",
       "</g>\n",
       "<g clip-path=\"url(#clip3500)\">\n",
       "<text style=\"fill:#000000; fill-opacity:1; font-family:Arial,Helvetica Neue,Helvetica,sans-serif; font-size:16; text-anchor:middle;\" transform=\"rotate(0, 320.959, 397.6)\" x=\"320.959\" y=\"397.6\">Epochs</text>\n",
       "</g>\n",
       "<g clip-path=\"url(#clip3500)\">\n",
       "<text style=\"fill:#000000; fill-opacity:1; font-family:Arial,Helvetica Neue,Helvetica,sans-serif; font-size:16; text-anchor:middle;\" transform=\"rotate(-90, 14.4, 185.966)\" x=\"14.4\" y=\"185.966\">Loss</text>\n",
       "</g>\n",
       "<polyline clip-path=\"url(#clip3502)\" style=\"stroke:#009af9; stroke-width:1; stroke-opacity:1; fill:none\" points=\"\n",
       "  61.6037,11.811 119.238,91.9849 176.873,153.139 234.507,201.161 292.142,239.915 349.777,271.957 407.411,298.999 465.046,322.208 522.68,342.391 580.315,360.121 \n",
       "  \n",
       "  \"/>\n",
       "<polygon clip-path=\"url(#clip3500)\" points=\"\n",
       "489.608,62.931 562.315,62.931 562.315,32.691 489.608,32.691 \n",
       "  \" fill=\"#ffffff\" fill-opacity=\"1\"/>\n",
       "<polyline clip-path=\"url(#clip3500)\" style=\"stroke:#000000; stroke-width:1; stroke-opacity:1; fill:none\" points=\"\n",
       "  489.608,62.931 562.315,62.931 562.315,32.691 489.608,32.691 489.608,62.931 \n",
       "  \"/>\n",
       "<polyline clip-path=\"url(#clip3500)\" style=\"stroke:#009af9; stroke-width:1; stroke-opacity:1; fill:none\" points=\"\n",
       "  495.608,47.811 531.608,47.811 \n",
       "  \"/>\n",
       "<g clip-path=\"url(#clip3500)\">\n",
       "<text style=\"fill:#000000; fill-opacity:1; font-family:Arial,Helvetica Neue,Helvetica,sans-serif; font-size:12; text-anchor:start;\" transform=\"rotate(0, 537.608, 52.311)\" x=\"537.608\" y=\"52.311\">y1</text>\n",
       "</g>\n",
       "</svg>\n"
      ]
     },
     "execution_count": 368,
     "metadata": {},
     "output_type": "execute_result"
    }
   ],
   "source": [
    "plot(losses,xlabel=\"Epochs\",ylabel=\"Loss\") "
   ]
  },
  {
   "cell_type": "code",
   "execution_count": 369,
   "metadata": {},
   "outputs": [],
   "source": [
    "idx = 16\n",
    "imshow(w[1][:,:,1,1]);\n",
    "imshow(x[:,:,1,idx]);\n",
    "imshow(predict(w,x)[:,:,1,idx]);\n",
    "imshow(y[:,:,1,idx]);"
   ]
  },
  {
   "cell_type": "code",
   "execution_count": null,
   "metadata": {},
   "outputs": [],
   "source": []
  },
  {
   "cell_type": "markdown",
   "metadata": {
    "slideshow": {
     "slide_type": "slide"
    }
   },
   "source": [
    "# Linear regression example with housing data"
   ]
  },
  {
   "cell_type": "code",
   "execution_count": 3,
   "metadata": {
    "slideshow": {
     "slide_type": "fragment"
    }
   },
   "outputs": [
    {
     "name": "stderr",
     "output_type": "stream",
     "text": [
      "\u001b[1m\u001b[36mINFO: \u001b[39m\u001b[22m\u001b[36mDownloading https://archive.ics.uci.edu/ml/machine-learning-databases/housing/housing.data to /home/jon/.julia/v0.6/Knet/data/housing/housing.data\n",
      "\u001b[39m  % Total    % Received % Xferd  Average Speed   Time    Time     Time  Current\n",
      "                                 Dload  Upload   Total   Spent    Left  Speed\n",
      "100 49082  100 49082    0     0  78749      0 --:--:-- --:--:-- --:--:-- 78657\n"
     ]
    },
    {
     "data": {
      "text/plain": [
       "(\"13×506 Array{Float64,2}\", \"1×506 Array{Float64,2}\")"
      ]
     },
     "execution_count": 3,
     "metadata": {},
     "output_type": "execute_result"
    }
   ],
   "source": [
    "# Download the housing dataset from the UCI Machine Learning Repository\n",
    "include(Pkg.dir(\"Knet\",\"data\",\"housing.jl\"))\n",
    "x,y = housing()\n",
    "map(summary,(x,y))"
   ]
  },
  {
   "cell_type": "code",
   "execution_count": 5,
   "metadata": {},
   "outputs": [],
   "source": [
    "# Define loss\n",
    "predict(w,x) = w[1]*x .+ w[2]\n",
    "loss(w,x,y) = mean(abs2,y-predict(w,x))\n",
    "lossgradient = grad(loss);"
   ]
  },
  {
   "cell_type": "code",
   "execution_count": 6,
   "metadata": {},
   "outputs": [
    {
     "data": {
      "text/plain": [
       "2-element Array{Any,1}:\n",
       "  [0.0533183 0.0454029 … 0.0160006 0.0422956]\n",
       " 0.0                                         "
      ]
     },
     "execution_count": 6,
     "metadata": {},
     "output_type": "execute_result"
    }
   ],
   "source": [
    "# Initialize model\n",
    "srand(42)\n",
    "w = [ 0.1*rand(1,13), 0.0 ]"
   ]
  },
  {
   "cell_type": "code",
   "execution_count": 8,
   "metadata": {},
   "outputs": [
    {
     "data": {
      "text/plain": [
       "594.4352393887679"
      ]
     },
     "execution_count": 8,
     "metadata": {},
     "output_type": "execute_result"
    }
   ],
   "source": [
    "loss(w,x,y)"
   ]
  },
  {
   "cell_type": "code",
   "execution_count": 9,
   "metadata": {},
   "outputs": [
    {
     "data": {
      "text/plain": [
       "2-element Array{Any,1}:\n",
       "    [7.53003 -6.79923 … -6.369 13.8655]\n",
       " -45.0656                              "
      ]
     },
     "execution_count": 9,
     "metadata": {},
     "output_type": "execute_result"
    }
   ],
   "source": [
    "lossgradient(w,x,y)"
   ]
  },
  {
   "cell_type": "code",
   "execution_count": 10,
   "metadata": {},
   "outputs": [
    {
     "data": {
      "text/plain": [
       "0.1"
      ]
     },
     "execution_count": 10,
     "metadata": {},
     "output_type": "execute_result"
    }
   ],
   "source": [
    "# Testing the gradient: Increasing w[2] by eps should decrease loss by 45.0656 * eps\n",
    "w[2]=0.1"
   ]
  },
  {
   "cell_type": "code",
   "execution_count": 11,
   "metadata": {
    "scrolled": true
   },
   "outputs": [
    {
     "data": {
      "text/plain": [
       "589.9386781239456"
      ]
     },
     "execution_count": 11,
     "metadata": {},
     "output_type": "execute_result"
    }
   ],
   "source": [
    "loss(w,x,y)"
   ]
  },
  {
   "cell_type": "code",
   "execution_count": 12,
   "metadata": {},
   "outputs": [
    {
     "data": {
      "text/plain": [
       "train! (generic function with 1 method)"
      ]
     },
     "execution_count": 12,
     "metadata": {},
     "output_type": "execute_result"
    }
   ],
   "source": [
    "# SGD training loop\n",
    "function train!(w, data; lr=.1)\n",
    "    for (x,y) in data\n",
    "        dw = lossgradient(w, x, y)\n",
    "        for i in 1:length(w)\n",
    "            w[i] -= lr * dw[i]\n",
    "        end\n",
    "    end\n",
    "    return w\n",
    "end"
   ]
  },
  {
   "cell_type": "code",
   "execution_count": 13,
   "metadata": {},
   "outputs": [
    {
     "name": "stdout",
     "output_type": "stream",
     "text": [
      "  0.215568 seconds (440.65 k allocations: 17.270 MiB, 4.48% gc time)\n"
     ]
    },
    {
     "data": {
      "text/plain": [
       "10-element Array{Array{Any,1},1}:\n",
       " Any[[-0.699684 0.725326 … 0.652901 -1.34426], 4.58656]\n",
       " Any[[-0.551026 0.513913 … 0.565058 -1.53221], 8.17581]\n",
       " Any[[-0.59464 0.518516 … 0.634074 -1.88846], 11.0472] \n",
       " Any[[-0.590579 0.487521 … 0.663802 -2.1303], 13.3443] \n",
       " Any[[-0.594767 0.473771 … 0.698189 -2.33759], 15.182] \n",
       " Any[[-0.596189 0.463224 … 0.727585 -2.50545], 16.6522]\n",
       " Any[[-0.598128 0.457414 … 0.754282 -2.64491], 17.8283]\n",
       " Any[[-0.600288 0.454846 … 0.777929 -2.7612], 18.7692] \n",
       " Any[[-0.602933 0.455003 … 0.798796 -2.8591], 19.5219] \n",
       " Any[[-0.606062 0.457353 … 0.817038 -2.94219], 20.1241]"
      ]
     },
     "execution_count": 13,
     "metadata": {},
     "output_type": "execute_result"
    }
   ],
   "source": [
    "# Record the weights for 10 epochs\n",
    "@time weights = [ copy(train!(w, [(x, y)])) for epoch=1:10 ]"
   ]
  },
  {
   "cell_type": "code",
   "execution_count": 14,
   "metadata": {},
   "outputs": [
    {
     "data": {
      "text/plain": [
       "10-element Array{Float64,1}:\n",
       " 364.412 \n",
       " 240.165 \n",
       " 161.982 \n",
       " 112.161 \n",
       "  80.3404\n",
       "  59.9844\n",
       "  46.9397\n",
       "  38.5626\n",
       "  33.1684\n",
       "  29.6825"
      ]
     },
     "execution_count": 14,
     "metadata": {},
     "output_type": "execute_result"
    }
   ],
   "source": [
    "losses = [ loss(w,x,y) for w in weights ]"
   ]
  },
  {
   "cell_type": "code",
   "execution_count": 17,
   "metadata": {
    "scrolled": false
   },
   "outputs": [
    {
     "data": {
      "image/svg+xml": [
       "<?xml version=\"1.0\" encoding=\"utf-8\"?>\n",
       "<svg xmlns=\"http://www.w3.org/2000/svg\" xmlns:xlink=\"http://www.w3.org/1999/xlink\" width=\"600\" height=\"400\" viewBox=\"0 0 600 400\">\n",
       "<defs>\n",
       "  <clipPath id=\"clip6800\">\n",
       "    <rect x=\"0\" y=\"0\" width=\"600\" height=\"400\"/>\n",
       "  </clipPath>\n",
       "</defs>\n",
       "<polygon clip-path=\"url(#clip6800)\" points=\"\n",
       "0,400 600,400 600,0 0,0 \n",
       "  \" fill=\"#ffffff\" fill-opacity=\"1\"/>\n",
       "<defs>\n",
       "  <clipPath id=\"clip6801\">\n",
       "    <rect x=\"120\" y=\"0\" width=\"421\" height=\"400\"/>\n",
       "  </clipPath>\n",
       "</defs>\n",
       "<polygon clip-path=\"url(#clip6800)\" points=\"\n",
       "51.5678,360.121 580.315,360.121 580.315,11.811 51.5678,11.811 \n",
       "  \" fill=\"#ffffff\" fill-opacity=\"1\"/>\n",
       "<defs>\n",
       "  <clipPath id=\"clip6802\">\n",
       "    <rect x=\"51\" y=\"11\" width=\"530\" height=\"349\"/>\n",
       "  </clipPath>\n",
       "</defs>\n",
       "<polyline clip-path=\"url(#clip6802)\" style=\"stroke:#000000; stroke-width:0.5; stroke-opacity:0.1; fill:none\" points=\"\n",
       "  110.318,360.121 110.318,11.811 \n",
       "  \"/>\n",
       "<polyline clip-path=\"url(#clip6802)\" style=\"stroke:#000000; stroke-width:0.5; stroke-opacity:0.1; fill:none\" points=\"\n",
       "  227.817,360.121 227.817,11.811 \n",
       "  \"/>\n",
       "<polyline clip-path=\"url(#clip6802)\" style=\"stroke:#000000; stroke-width:0.5; stroke-opacity:0.1; fill:none\" points=\"\n",
       "  345.316,360.121 345.316,11.811 \n",
       "  \"/>\n",
       "<polyline clip-path=\"url(#clip6802)\" style=\"stroke:#000000; stroke-width:0.5; stroke-opacity:0.1; fill:none\" points=\"\n",
       "  462.816,360.121 462.816,11.811 \n",
       "  \"/>\n",
       "<polyline clip-path=\"url(#clip6802)\" style=\"stroke:#000000; stroke-width:0.5; stroke-opacity:0.1; fill:none\" points=\"\n",
       "  580.315,360.121 580.315,11.811 \n",
       "  \"/>\n",
       "<polyline clip-path=\"url(#clip6802)\" style=\"stroke:#000000; stroke-width:0.5; stroke-opacity:0.1; fill:none\" points=\"\n",
       "  51.5678,338.979 580.315,338.979 \n",
       "  \"/>\n",
       "<polyline clip-path=\"url(#clip6802)\" style=\"stroke:#000000; stroke-width:0.5; stroke-opacity:0.1; fill:none\" points=\"\n",
       "  51.5678,286.95 580.315,286.95 \n",
       "  \"/>\n",
       "<polyline clip-path=\"url(#clip6802)\" style=\"stroke:#000000; stroke-width:0.5; stroke-opacity:0.1; fill:none\" points=\"\n",
       "  51.5678,234.922 580.315,234.922 \n",
       "  \"/>\n",
       "<polyline clip-path=\"url(#clip6802)\" style=\"stroke:#000000; stroke-width:0.5; stroke-opacity:0.1; fill:none\" points=\"\n",
       "  51.5678,182.893 580.315,182.893 \n",
       "  \"/>\n",
       "<polyline clip-path=\"url(#clip6802)\" style=\"stroke:#000000; stroke-width:0.5; stroke-opacity:0.1; fill:none\" points=\"\n",
       "  51.5678,130.865 580.315,130.865 \n",
       "  \"/>\n",
       "<polyline clip-path=\"url(#clip6802)\" style=\"stroke:#000000; stroke-width:0.5; stroke-opacity:0.1; fill:none\" points=\"\n",
       "  51.5678,78.8361 580.315,78.8361 \n",
       "  \"/>\n",
       "<polyline clip-path=\"url(#clip6802)\" style=\"stroke:#000000; stroke-width:0.5; stroke-opacity:0.1; fill:none\" points=\"\n",
       "  51.5678,26.8076 580.315,26.8076 \n",
       "  \"/>\n",
       "<polyline clip-path=\"url(#clip6800)\" style=\"stroke:#000000; stroke-width:1; stroke-opacity:1; fill:none\" points=\"\n",
       "  51.5678,360.121 580.315,360.121 \n",
       "  \"/>\n",
       "<polyline clip-path=\"url(#clip6800)\" style=\"stroke:#000000; stroke-width:1; stroke-opacity:1; fill:none\" points=\"\n",
       "  51.5678,360.121 51.5678,11.811 \n",
       "  \"/>\n",
       "<polyline clip-path=\"url(#clip6800)\" style=\"stroke:#000000; stroke-width:1; stroke-opacity:1; fill:none\" points=\"\n",
       "  110.318,360.121 110.318,354.896 \n",
       "  \"/>\n",
       "<polyline clip-path=\"url(#clip6800)\" style=\"stroke:#000000; stroke-width:1; stroke-opacity:1; fill:none\" points=\"\n",
       "  227.817,360.121 227.817,354.896 \n",
       "  \"/>\n",
       "<polyline clip-path=\"url(#clip6800)\" style=\"stroke:#000000; stroke-width:1; stroke-opacity:1; fill:none\" points=\"\n",
       "  345.316,360.121 345.316,354.896 \n",
       "  \"/>\n",
       "<polyline clip-path=\"url(#clip6800)\" style=\"stroke:#000000; stroke-width:1; stroke-opacity:1; fill:none\" points=\"\n",
       "  462.816,360.121 462.816,354.896 \n",
       "  \"/>\n",
       "<polyline clip-path=\"url(#clip6800)\" style=\"stroke:#000000; stroke-width:1; stroke-opacity:1; fill:none\" points=\"\n",
       "  580.315,360.121 580.315,354.896 \n",
       "  \"/>\n",
       "<polyline clip-path=\"url(#clip6800)\" style=\"stroke:#000000; stroke-width:1; stroke-opacity:1; fill:none\" points=\"\n",
       "  51.5678,338.979 59.499,338.979 \n",
       "  \"/>\n",
       "<polyline clip-path=\"url(#clip6800)\" style=\"stroke:#000000; stroke-width:1; stroke-opacity:1; fill:none\" points=\"\n",
       "  51.5678,286.95 59.499,286.95 \n",
       "  \"/>\n",
       "<polyline clip-path=\"url(#clip6800)\" style=\"stroke:#000000; stroke-width:1; stroke-opacity:1; fill:none\" points=\"\n",
       "  51.5678,234.922 59.499,234.922 \n",
       "  \"/>\n",
       "<polyline clip-path=\"url(#clip6800)\" style=\"stroke:#000000; stroke-width:1; stroke-opacity:1; fill:none\" points=\"\n",
       "  51.5678,182.893 59.499,182.893 \n",
       "  \"/>\n",
       "<polyline clip-path=\"url(#clip6800)\" style=\"stroke:#000000; stroke-width:1; stroke-opacity:1; fill:none\" points=\"\n",
       "  51.5678,130.865 59.499,130.865 \n",
       "  \"/>\n",
       "<polyline clip-path=\"url(#clip6800)\" style=\"stroke:#000000; stroke-width:1; stroke-opacity:1; fill:none\" points=\"\n",
       "  51.5678,78.8361 59.499,78.8361 \n",
       "  \"/>\n",
       "<polyline clip-path=\"url(#clip6800)\" style=\"stroke:#000000; stroke-width:1; stroke-opacity:1; fill:none\" points=\"\n",
       "  51.5678,26.8076 59.499,26.8076 \n",
       "  \"/>\n",
       "<g clip-path=\"url(#clip6800)\">\n",
       "<text style=\"fill:#000000; fill-opacity:1; font-family:Arial,Helvetica Neue,Helvetica,sans-serif; font-size:12; text-anchor:middle;\" transform=\"rotate(0, 110.318, 373.921)\" x=\"110.318\" y=\"373.921\">2</text>\n",
       "</g>\n",
       "<g clip-path=\"url(#clip6800)\">\n",
       "<text style=\"fill:#000000; fill-opacity:1; font-family:Arial,Helvetica Neue,Helvetica,sans-serif; font-size:12; text-anchor:middle;\" transform=\"rotate(0, 227.817, 373.921)\" x=\"227.817\" y=\"373.921\">4</text>\n",
       "</g>\n",
       "<g clip-path=\"url(#clip6800)\">\n",
       "<text style=\"fill:#000000; fill-opacity:1; font-family:Arial,Helvetica Neue,Helvetica,sans-serif; font-size:12; text-anchor:middle;\" transform=\"rotate(0, 345.316, 373.921)\" x=\"345.316\" y=\"373.921\">6</text>\n",
       "</g>\n",
       "<g clip-path=\"url(#clip6800)\">\n",
       "<text style=\"fill:#000000; fill-opacity:1; font-family:Arial,Helvetica Neue,Helvetica,sans-serif; font-size:12; text-anchor:middle;\" transform=\"rotate(0, 462.816, 373.921)\" x=\"462.816\" y=\"373.921\">8</text>\n",
       "</g>\n",
       "<g clip-path=\"url(#clip6800)\">\n",
       "<text style=\"fill:#000000; fill-opacity:1; font-family:Arial,Helvetica Neue,Helvetica,sans-serif; font-size:12; text-anchor:middle;\" transform=\"rotate(0, 580.315, 373.921)\" x=\"580.315\" y=\"373.921\">10</text>\n",
       "</g>\n",
       "<g clip-path=\"url(#clip6800)\">\n",
       "<text style=\"fill:#000000; fill-opacity:1; font-family:Arial,Helvetica Neue,Helvetica,sans-serif; font-size:12; text-anchor:end;\" transform=\"rotate(0, 45.5678, 343.479)\" x=\"45.5678\" y=\"343.479\">50</text>\n",
       "</g>\n",
       "<g clip-path=\"url(#clip6800)\">\n",
       "<text style=\"fill:#000000; fill-opacity:1; font-family:Arial,Helvetica Neue,Helvetica,sans-serif; font-size:12; text-anchor:end;\" transform=\"rotate(0, 45.5678, 291.45)\" x=\"45.5678\" y=\"291.45\">100</text>\n",
       "</g>\n",
       "<g clip-path=\"url(#clip6800)\">\n",
       "<text style=\"fill:#000000; fill-opacity:1; font-family:Arial,Helvetica Neue,Helvetica,sans-serif; font-size:12; text-anchor:end;\" transform=\"rotate(0, 45.5678, 239.422)\" x=\"45.5678\" y=\"239.422\">150</text>\n",
       "</g>\n",
       "<g clip-path=\"url(#clip6800)\">\n",
       "<text style=\"fill:#000000; fill-opacity:1; font-family:Arial,Helvetica Neue,Helvetica,sans-serif; font-size:12; text-anchor:end;\" transform=\"rotate(0, 45.5678, 187.393)\" x=\"45.5678\" y=\"187.393\">200</text>\n",
       "</g>\n",
       "<g clip-path=\"url(#clip6800)\">\n",
       "<text style=\"fill:#000000; fill-opacity:1; font-family:Arial,Helvetica Neue,Helvetica,sans-serif; font-size:12; text-anchor:end;\" transform=\"rotate(0, 45.5678, 135.365)\" x=\"45.5678\" y=\"135.365\">250</text>\n",
       "</g>\n",
       "<g clip-path=\"url(#clip6800)\">\n",
       "<text style=\"fill:#000000; fill-opacity:1; font-family:Arial,Helvetica Neue,Helvetica,sans-serif; font-size:12; text-anchor:end;\" transform=\"rotate(0, 45.5678, 83.3361)\" x=\"45.5678\" y=\"83.3361\">300</text>\n",
       "</g>\n",
       "<g clip-path=\"url(#clip6800)\">\n",
       "<text style=\"fill:#000000; fill-opacity:1; font-family:Arial,Helvetica Neue,Helvetica,sans-serif; font-size:12; text-anchor:end;\" transform=\"rotate(0, 45.5678, 31.3076)\" x=\"45.5678\" y=\"31.3076\">350</text>\n",
       "</g>\n",
       "<g clip-path=\"url(#clip6800)\">\n",
       "<text style=\"fill:#000000; fill-opacity:1; font-family:Arial,Helvetica Neue,Helvetica,sans-serif; font-size:16; text-anchor:middle;\" transform=\"rotate(0, 315.941, 397.6)\" x=\"315.941\" y=\"397.6\">Epochs</text>\n",
       "</g>\n",
       "<g clip-path=\"url(#clip6800)\">\n",
       "<text style=\"fill:#000000; fill-opacity:1; font-family:Arial,Helvetica Neue,Helvetica,sans-serif; font-size:16; text-anchor:middle;\" transform=\"rotate(-90, 14.4, 185.966)\" x=\"14.4\" y=\"185.966\">Loss</text>\n",
       "</g>\n",
       "<polyline clip-path=\"url(#clip6802)\" style=\"stroke:#009af9; stroke-width:1; stroke-opacity:1; fill:none\" points=\"\n",
       "  51.5678,11.811 110.318,141.099 169.067,222.454 227.817,274.296 286.567,307.408 345.316,328.589 404.066,342.163 462.816,350.88 521.565,356.493 580.315,360.121 \n",
       "  \n",
       "  \"/>\n",
       "<polygon clip-path=\"url(#clip6800)\" points=\"\n",
       "489.608,62.931 562.315,62.931 562.315,32.691 489.608,32.691 \n",
       "  \" fill=\"#ffffff\" fill-opacity=\"1\"/>\n",
       "<polyline clip-path=\"url(#clip6800)\" style=\"stroke:#000000; stroke-width:1; stroke-opacity:1; fill:none\" points=\"\n",
       "  489.608,62.931 562.315,62.931 562.315,32.691 489.608,32.691 489.608,62.931 \n",
       "  \"/>\n",
       "<polyline clip-path=\"url(#clip6800)\" style=\"stroke:#009af9; stroke-width:1; stroke-opacity:1; fill:none\" points=\"\n",
       "  495.608,47.811 531.608,47.811 \n",
       "  \"/>\n",
       "<g clip-path=\"url(#clip6800)\">\n",
       "<text style=\"fill:#000000; fill-opacity:1; font-family:Arial,Helvetica Neue,Helvetica,sans-serif; font-size:12; text-anchor:start;\" transform=\"rotate(0, 537.608, 52.311)\" x=\"537.608\" y=\"52.311\">y1</text>\n",
       "</g>\n",
       "</svg>\n"
      ]
     },
     "execution_count": 17,
     "metadata": {},
     "output_type": "execute_result"
    }
   ],
   "source": [
    "plot(losses,xlabel=\"Epochs\",ylabel=\"Loss\") "
   ]
  },
  {
   "cell_type": "markdown",
   "metadata": {},
   "source": [
    "# Load and minibatch MNIST data"
   ]
  },
  {
   "cell_type": "code",
   "execution_count": 18,
   "metadata": {},
   "outputs": [],
   "source": [
    "include(Knet.dir(\"data\",\"mnist.jl\"))\n",
    "xtrn,ytrn,xtst,ytst = mnist()\n",
    "Atype = gpu() >= 0 ? KnetArray{Float32} : Array{Float32}\n",
    "dtst = minibatch(xtst,ytst,100;xtype=Atype); # [ (x1,y1), (x2,y2), ... ] where xi,yi are minibatches of 100\n",
    "dtrn = minibatch(xtrn,ytrn,100;xtype=Atype); # [ (x1,y1), (x2,y2), ... ] where xi,yi are minibatches of 100"
   ]
  },
  {
   "cell_type": "code",
   "execution_count": 20,
   "metadata": {},
   "outputs": [
    {
     "data": {
      "text/plain": [
       "(600, 100)"
      ]
     },
     "execution_count": 20,
     "metadata": {},
     "output_type": "execute_result"
    }
   ],
   "source": [
    "# dtrn and dtst are iterables of (x,y) minibatches, each minibatch contains 100 instances\n",
    "length(dtrn),length(dtst)"
   ]
  },
  {
   "cell_type": "code",
   "execution_count": 22,
   "metadata": {},
   "outputs": [
    {
     "data": {
      "image/png": "[encoded data removed]",
      "text/plain": [
       "28×28 Array{Gray{Float32},2}:\n",
       " Gray{Float32}(0.0)  Gray{Float32}(0.0)  …  Gray{Float32}(0.0)\n",
       " Gray{Float32}(0.0)  Gray{Float32}(0.0)     Gray{Float32}(0.0)\n",
       " Gray{Float32}(0.0)  Gray{Float32}(0.0)     Gray{Float32}(0.0)\n",
       " Gray{Float32}(0.0)  Gray{Float32}(0.0)     Gray{Float32}(0.0)\n",
       " Gray{Float32}(0.0)  Gray{Float32}(0.0)     Gray{Float32}(0.0)\n",
       " Gray{Float32}(0.0)  Gray{Float32}(0.0)  …  Gray{Float32}(0.0)\n",
       " Gray{Float32}(0.0)  Gray{Float32}(0.0)     Gray{Float32}(0.0)\n",
       " Gray{Float32}(0.0)  Gray{Float32}(0.0)     Gray{Float32}(0.0)\n",
       " Gray{Float32}(0.0)  Gray{Float32}(0.0)     Gray{Float32}(0.0)\n",
       " Gray{Float32}(0.0)  Gray{Float32}(0.0)     Gray{Float32}(0.0)\n",
       " Gray{Float32}(0.0)  Gray{Float32}(0.0)  …  Gray{Float32}(0.0)\n",
       " Gray{Float32}(0.0)  Gray{Float32}(0.0)     Gray{Float32}(0.0)\n",
       " Gray{Float32}(0.0)  Gray{Float32}(0.0)     Gray{Float32}(0.0)\n",
       " ⋮                                       ⋱                    \n",
       " Gray{Float32}(0.0)  Gray{Float32}(0.0)     Gray{Float32}(0.0)\n",
       " Gray{Float32}(0.0)  Gray{Float32}(0.0)     Gray{Float32}(0.0)\n",
       " Gray{Float32}(0.0)  Gray{Float32}(0.0)     Gray{Float32}(0.0)\n",
       " Gray{Float32}(0.0)  Gray{Float32}(0.0)     Gray{Float32}(0.0)\n",
       " Gray{Float32}(0.0)  Gray{Float32}(0.0)  …  Gray{Float32}(0.0)\n",
       " Gray{Float32}(0.0)  Gray{Float32}(0.0)     Gray{Float32}(0.0)\n",
       " Gray{Float32}(0.0)  Gray{Float32}(0.0)     Gray{Float32}(0.0)\n",
       " Gray{Float32}(0.0)  Gray{Float32}(0.0)     Gray{Float32}(0.0)\n",
       " Gray{Float32}(0.0)  Gray{Float32}(0.0)     Gray{Float32}(0.0)\n",
       " Gray{Float32}(0.0)  Gray{Float32}(0.0)  …  Gray{Float32}(0.0)\n",
       " Gray{Float32}(0.0)  Gray{Float32}(0.0)     Gray{Float32}(0.0)\n",
       " Gray{Float32}(0.0)  Gray{Float32}(0.0)     Gray{Float32}(0.0)"
      ]
     },
     "metadata": {},
     "output_type": "display_data"
    },
    {
     "data": {
      "image/png": "[encoded data removed]",
      "text/plain": [
       "28×28 Array{Gray{Float32},2}:\n",
       " Gray{Float32}(0.0)  Gray{Float32}(0.0)  …  Gray{Float32}(0.0)\n",
       " Gray{Float32}(0.0)  Gray{Float32}(0.0)     Gray{Float32}(0.0)\n",
       " Gray{Float32}(0.0)  Gray{Float32}(0.0)     Gray{Float32}(0.0)\n",
       " Gray{Float32}(0.0)  Gray{Float32}(0.0)     Gray{Float32}(0.0)\n",
       " Gray{Float32}(0.0)  Gray{Float32}(0.0)     Gray{Float32}(0.0)\n",
       " Gray{Float32}(0.0)  Gray{Float32}(0.0)  …  Gray{Float32}(0.0)\n",
       " Gray{Float32}(0.0)  Gray{Float32}(0.0)     Gray{Float32}(0.0)\n",
       " Gray{Float32}(0.0)  Gray{Float32}(0.0)     Gray{Float32}(0.0)\n",
       " Gray{Float32}(0.0)  Gray{Float32}(0.0)     Gray{Float32}(0.0)\n",
       " Gray{Float32}(0.0)  Gray{Float32}(0.0)     Gray{Float32}(0.0)\n",
       " Gray{Float32}(0.0)  Gray{Float32}(0.0)  …  Gray{Float32}(0.0)\n",
       " Gray{Float32}(0.0)  Gray{Float32}(0.0)     Gray{Float32}(0.0)\n",
       " Gray{Float32}(0.0)  Gray{Float32}(0.0)     Gray{Float32}(0.0)\n",
       " ⋮                                       ⋱                    \n",
       " Gray{Float32}(0.0)  Gray{Float32}(0.0)     Gray{Float32}(0.0)\n",
       " Gray{Float32}(0.0)  Gray{Float32}(0.0)     Gray{Float32}(0.0)\n",
       " Gray{Float32}(0.0)  Gray{Float32}(0.0)     Gray{Float32}(0.0)\n",
       " Gray{Float32}(0.0)  Gray{Float32}(0.0)     Gray{Float32}(0.0)\n",
       " Gray{Float32}(0.0)  Gray{Float32}(0.0)  …  Gray{Float32}(0.0)\n",
       " Gray{Float32}(0.0)  Gray{Float32}(0.0)     Gray{Float32}(0.0)\n",
       " Gray{Float32}(0.0)  Gray{Float32}(0.0)     Gray{Float32}(0.0)\n",
       " Gray{Float32}(0.0)  Gray{Float32}(0.0)     Gray{Float32}(0.0)\n",
       " Gray{Float32}(0.0)  Gray{Float32}(0.0)     Gray{Float32}(0.0)\n",
       " Gray{Float32}(0.0)  Gray{Float32}(0.0)  …  Gray{Float32}(0.0)\n",
       " Gray{Float32}(0.0)  Gray{Float32}(0.0)     Gray{Float32}(0.0)\n",
       " Gray{Float32}(0.0)  Gray{Float32}(0.0)     Gray{Float32}(0.0)"
      ]
     },
     "metadata": {},
     "output_type": "display_data"
    },
    {
     "data": {
      "image/png": "[encoded data removed]",
      "text/plain": [
       "28×28 Array{Gray{Float32},2}:\n",
       " Gray{Float32}(0.0)  Gray{Float32}(0.0)  …  Gray{Float32}(0.0)\n",
       " Gray{Float32}(0.0)  Gray{Float32}(0.0)     Gray{Float32}(0.0)\n",
       " Gray{Float32}(0.0)  Gray{Float32}(0.0)     Gray{Float32}(0.0)\n",
       " Gray{Float32}(0.0)  Gray{Float32}(0.0)     Gray{Float32}(0.0)\n",
       " Gray{Float32}(0.0)  Gray{Float32}(0.0)     Gray{Float32}(0.0)\n",
       " Gray{Float32}(0.0)  Gray{Float32}(0.0)  …  Gray{Float32}(0.0)\n",
       " Gray{Float32}(0.0)  Gray{Float32}(0.0)     Gray{Float32}(0.0)\n",
       " Gray{Float32}(0.0)  Gray{Float32}(0.0)     Gray{Float32}(0.0)\n",
       " Gray{Float32}(0.0)  Gray{Float32}(0.0)     Gray{Float32}(0.0)\n",
       " Gray{Float32}(0.0)  Gray{Float32}(0.0)     Gray{Float32}(0.0)\n",
       " Gray{Float32}(0.0)  Gray{Float32}(0.0)  …  Gray{Float32}(0.0)\n",
       " Gray{Float32}(0.0)  Gray{Float32}(0.0)     Gray{Float32}(0.0)\n",
       " Gray{Float32}(0.0)  Gray{Float32}(0.0)     Gray{Float32}(0.0)\n",
       " ⋮                                       ⋱                    \n",
       " Gray{Float32}(0.0)  Gray{Float32}(0.0)     Gray{Float32}(0.0)\n",
       " Gray{Float32}(0.0)  Gray{Float32}(0.0)     Gray{Float32}(0.0)\n",
       " Gray{Float32}(0.0)  Gray{Float32}(0.0)     Gray{Float32}(0.0)\n",
       " Gray{Float32}(0.0)  Gray{Float32}(0.0)     Gray{Float32}(0.0)\n",
       " Gray{Float32}(0.0)  Gray{Float32}(0.0)  …  Gray{Float32}(0.0)\n",
       " Gray{Float32}(0.0)  Gray{Float32}(0.0)     Gray{Float32}(0.0)\n",
       " Gray{Float32}(0.0)  Gray{Float32}(0.0)     Gray{Float32}(0.0)\n",
       " Gray{Float32}(0.0)  Gray{Float32}(0.0)     Gray{Float32}(0.0)\n",
       " Gray{Float32}(0.0)  Gray{Float32}(0.0)     Gray{Float32}(0.0)\n",
       " Gray{Float32}(0.0)  Gray{Float32}(0.0)  …  Gray{Float32}(0.0)\n",
       " Gray{Float32}(0.0)  Gray{Float32}(0.0)     Gray{Float32}(0.0)\n",
       " Gray{Float32}(0.0)  Gray{Float32}(0.0)     Gray{Float32}(0.0)"
      ]
     },
     "metadata": {},
     "output_type": "display_data"
    },
    {
     "data": {
      "text/plain": [
       "3-element Array{UInt8,1}:\n",
       " 0x07\n",
       " 0x02\n",
       " 0x01"
      ]
     },
     "execution_count": 22,
     "metadata": {},
     "output_type": "execute_result"
    }
   ],
   "source": [
    "# Take a look at the first three test images and labels\n",
    "(x,y) = first(dtst)\n",
    "ax = Array(x)\n",
    "for i=1:3; display(mnistview(ax,i)); end\n",
    "y[1:3]"
   ]
  },
  {
   "cell_type": "markdown",
   "metadata": {},
   "source": [
    "# Softmax classification example with MNIST"
   ]
  },
  {
   "cell_type": "markdown",
   "metadata": {},
   "source": [
    "## Define softmax loss"
   ]
  },
  {
   "cell_type": "code",
   "execution_count": 27,
   "metadata": {},
   "outputs": [],
   "source": [
    "# Define loss\n",
    "predict(w,x) = w[1]*mat(x) .+ w[2]  # Same as linreg except we need mat() to convert input 4D->2D before matmul\n",
    "loss(w,x,ygold) = nll(predict(w,x),ygold); # nll is negative log likelihood"
   ]
  },
  {
   "cell_type": "code",
   "execution_count": 28,
   "metadata": {},
   "outputs": [],
   "source": [
    "# Initialize model\n",
    "wsoft=map(Atype, [ 0.1*randn(10,784), zeros(10,1) ]);"
   ]
  },
  {
   "cell_type": "code",
   "execution_count": 30,
   "metadata": {},
   "outputs": [
    {
     "data": {
      "text/plain": [
       "2.830448f0"
      ]
     },
     "execution_count": 30,
     "metadata": {},
     "output_type": "execute_result"
    }
   ],
   "source": [
    "# Average loss for a single (x,y) minibatch\n",
    "loss(wsoft, x, y)"
   ]
  },
  {
   "cell_type": "code",
   "execution_count": 31,
   "metadata": {},
   "outputs": [
    {
     "data": {
      "text/plain": [
       "2.8376572f0"
      ]
     },
     "execution_count": 31,
     "metadata": {},
     "output_type": "execute_result"
    }
   ],
   "source": [
    "# Average loss for the whole test set\n",
    "nll(wsoft,dtst,predict)"
   ]
  },
  {
   "cell_type": "code",
   "execution_count": 32,
   "metadata": {},
   "outputs": [
    {
     "data": {
      "text/plain": [
       "0.0407"
      ]
     },
     "execution_count": 32,
     "metadata": {},
     "output_type": "execute_result"
    }
   ],
   "source": [
    "# Accuracy for the whole test set\n",
    "accuracy(wsoft,dtst,predict)"
   ]
  },
  {
   "cell_type": "markdown",
   "metadata": {},
   "source": [
    "## Train softmax model"
   ]
  },
  {
   "cell_type": "code",
   "execution_count": 33,
   "metadata": {},
   "outputs": [
    {
     "name": "stdout",
     "output_type": "stream",
     "text": [
      " 27.146815 seconds (23.55 M allocations: 19.056 GiB, 6.95% gc time)\n"
     ]
    }
   ],
   "source": [
    "@time softmodels = [ copy(train!(wsoft, dtrn)) for epoch=1:60 ];  # ~17 seconds"
   ]
  },
  {
   "cell_type": "markdown",
   "metadata": {},
   "source": [
    "## Plot softmax learning curve"
   ]
  },
  {
   "cell_type": "code",
   "execution_count": 34,
   "metadata": {},
   "outputs": [
    {
     "name": "stdout",
     "output_type": "stream",
     "text": [
      "  7.467384 seconds (5.20 M allocations: 11.492 GiB, 13.65% gc time)\n",
      "  1.332153 seconds (874.87 k allocations: 1.916 GiB, 13.19% gc time)\n"
     ]
    }
   ],
   "source": [
    "@time trnsoftloss = [ nll(w,dtrn,predict) for w in softmodels ];  # ~13 seconds\n",
    "@time tstsoftloss = [ nll(w,dtst,predict) for w in softmodels ];  # ~2 seconds"
   ]
  },
  {
   "cell_type": "code",
   "execution_count": 36,
   "metadata": {},
   "outputs": [
    {
     "data": {
      "image/svg+xml": [
       "<?xml version=\"1.0\" encoding=\"utf-8\"?>\n",
       "<svg xmlns=\"http://www.w3.org/2000/svg\" xmlns:xlink=\"http://www.w3.org/1999/xlink\" width=\"600\" height=\"400\" viewBox=\"0 0 600 400\">\n",
       "<defs>\n",
       "  <clipPath id=\"clip7200\">\n",
       "    <rect x=\"0\" y=\"0\" width=\"600\" height=\"400\"/>\n",
       "  </clipPath>\n",
       "</defs>\n",
       "<polygon clip-path=\"url(#clip7200)\" points=\"\n",
       "0,400 600,400 600,0 0,0 \n",
       "  \" fill=\"#ffffff\" fill-opacity=\"1\"/>\n",
       "<defs>\n",
       "  <clipPath id=\"clip7201\">\n",
       "    <rect x=\"120\" y=\"0\" width=\"421\" height=\"400\"/>\n",
       "  </clipPath>\n",
       "</defs>\n",
       "<polygon clip-path=\"url(#clip7200)\" points=\"\n",
       "54.9131,360.121 580.315,360.121 580.315,11.811 54.9131,11.811 \n",
       "  \" fill=\"#ffffff\" fill-opacity=\"1\"/>\n",
       "<defs>\n",
       "  <clipPath id=\"clip7202\">\n",
       "    <rect x=\"54\" y=\"11\" width=\"526\" height=\"349\"/>\n",
       "  </clipPath>\n",
       "</defs>\n",
       "<polyline clip-path=\"url(#clip7202)\" style=\"stroke:#000000; stroke-width:0.5; stroke-opacity:0.1; fill:none\" points=\"\n",
       "  135.059,360.121 135.059,11.811 \n",
       "  \"/>\n",
       "<polyline clip-path=\"url(#clip7202)\" style=\"stroke:#000000; stroke-width:0.5; stroke-opacity:0.1; fill:none\" points=\"\n",
       "  224.11,360.121 224.11,11.811 \n",
       "  \"/>\n",
       "<polyline clip-path=\"url(#clip7202)\" style=\"stroke:#000000; stroke-width:0.5; stroke-opacity:0.1; fill:none\" points=\"\n",
       "  313.161,360.121 313.161,11.811 \n",
       "  \"/>\n",
       "<polyline clip-path=\"url(#clip7202)\" style=\"stroke:#000000; stroke-width:0.5; stroke-opacity:0.1; fill:none\" points=\"\n",
       "  402.213,360.121 402.213,11.811 \n",
       "  \"/>\n",
       "<polyline clip-path=\"url(#clip7202)\" style=\"stroke:#000000; stroke-width:0.5; stroke-opacity:0.1; fill:none\" points=\"\n",
       "  491.264,360.121 491.264,11.811 \n",
       "  \"/>\n",
       "<polyline clip-path=\"url(#clip7202)\" style=\"stroke:#000000; stroke-width:0.5; stroke-opacity:0.1; fill:none\" points=\"\n",
       "  580.315,360.121 580.315,11.811 \n",
       "  \"/>\n",
       "<polyline clip-path=\"url(#clip7202)\" style=\"stroke:#000000; stroke-width:0.5; stroke-opacity:0.1; fill:none\" points=\"\n",
       "  54.9131,360.121 580.315,360.121 \n",
       "  \"/>\n",
       "<polyline clip-path=\"url(#clip7202)\" style=\"stroke:#000000; stroke-width:0.5; stroke-opacity:0.1; fill:none\" points=\"\n",
       "  54.9131,251.274 580.315,251.274 \n",
       "  \"/>\n",
       "<polyline clip-path=\"url(#clip7202)\" style=\"stroke:#000000; stroke-width:0.5; stroke-opacity:0.1; fill:none\" points=\"\n",
       "  54.9131,142.427 580.315,142.427 \n",
       "  \"/>\n",
       "<polyline clip-path=\"url(#clip7202)\" style=\"stroke:#000000; stroke-width:0.5; stroke-opacity:0.1; fill:none\" points=\"\n",
       "  54.9131,33.5804 580.315,33.5804 \n",
       "  \"/>\n",
       "<polyline clip-path=\"url(#clip7200)\" style=\"stroke:#000000; stroke-width:1; stroke-opacity:1; fill:none\" points=\"\n",
       "  54.9131,360.121 580.315,360.121 \n",
       "  \"/>\n",
       "<polyline clip-path=\"url(#clip7200)\" style=\"stroke:#000000; stroke-width:1; stroke-opacity:1; fill:none\" points=\"\n",
       "  54.9131,360.121 54.9131,11.811 \n",
       "  \"/>\n",
       "<polyline clip-path=\"url(#clip7200)\" style=\"stroke:#000000; stroke-width:1; stroke-opacity:1; fill:none\" points=\"\n",
       "  135.059,360.121 135.059,354.896 \n",
       "  \"/>\n",
       "<polyline clip-path=\"url(#clip7200)\" style=\"stroke:#000000; stroke-width:1; stroke-opacity:1; fill:none\" points=\"\n",
       "  224.11,360.121 224.11,354.896 \n",
       "  \"/>\n",
       "<polyline clip-path=\"url(#clip7200)\" style=\"stroke:#000000; stroke-width:1; stroke-opacity:1; fill:none\" points=\"\n",
       "  313.161,360.121 313.161,354.896 \n",
       "  \"/>\n",
       "<polyline clip-path=\"url(#clip7200)\" style=\"stroke:#000000; stroke-width:1; stroke-opacity:1; fill:none\" points=\"\n",
       "  402.213,360.121 402.213,354.896 \n",
       "  \"/>\n",
       "<polyline clip-path=\"url(#clip7200)\" style=\"stroke:#000000; stroke-width:1; stroke-opacity:1; fill:none\" points=\"\n",
       "  491.264,360.121 491.264,354.896 \n",
       "  \"/>\n",
       "<polyline clip-path=\"url(#clip7200)\" style=\"stroke:#000000; stroke-width:1; stroke-opacity:1; fill:none\" points=\"\n",
       "  580.315,360.121 580.315,354.896 \n",
       "  \"/>\n",
       "<polyline clip-path=\"url(#clip7200)\" style=\"stroke:#000000; stroke-width:1; stroke-opacity:1; fill:none\" points=\"\n",
       "  54.9131,360.121 62.7941,360.121 \n",
       "  \"/>\n",
       "<polyline clip-path=\"url(#clip7200)\" style=\"stroke:#000000; stroke-width:1; stroke-opacity:1; fill:none\" points=\"\n",
       "  54.9131,251.274 62.7941,251.274 \n",
       "  \"/>\n",
       "<polyline clip-path=\"url(#clip7200)\" style=\"stroke:#000000; stroke-width:1; stroke-opacity:1; fill:none\" points=\"\n",
       "  54.9131,142.427 62.7941,142.427 \n",
       "  \"/>\n",
       "<polyline clip-path=\"url(#clip7200)\" style=\"stroke:#000000; stroke-width:1; stroke-opacity:1; fill:none\" points=\"\n",
       "  54.9131,33.5804 62.7941,33.5804 \n",
       "  \"/>\n",
       "<g clip-path=\"url(#clip7200)\">\n",
       "<text style=\"fill:#000000; fill-opacity:1; font-family:Arial,Helvetica Neue,Helvetica,sans-serif; font-size:12; text-anchor:middle;\" transform=\"rotate(0, 135.059, 373.921)\" x=\"135.059\" y=\"373.921\">10</text>\n",
       "</g>\n",
       "<g clip-path=\"url(#clip7200)\">\n",
       "<text style=\"fill:#000000; fill-opacity:1; font-family:Arial,Helvetica Neue,Helvetica,sans-serif; font-size:12; text-anchor:middle;\" transform=\"rotate(0, 224.11, 373.921)\" x=\"224.11\" y=\"373.921\">20</text>\n",
       "</g>\n",
       "<g clip-path=\"url(#clip7200)\">\n",
       "<text style=\"fill:#000000; fill-opacity:1; font-family:Arial,Helvetica Neue,Helvetica,sans-serif; font-size:12; text-anchor:middle;\" transform=\"rotate(0, 313.161, 373.921)\" x=\"313.161\" y=\"373.921\">30</text>\n",
       "</g>\n",
       "<g clip-path=\"url(#clip7200)\">\n",
       "<text style=\"fill:#000000; fill-opacity:1; font-family:Arial,Helvetica Neue,Helvetica,sans-serif; font-size:12; text-anchor:middle;\" transform=\"rotate(0, 402.213, 373.921)\" x=\"402.213\" y=\"373.921\">40</text>\n",
       "</g>\n",
       "<g clip-path=\"url(#clip7200)\">\n",
       "<text style=\"fill:#000000; fill-opacity:1; font-family:Arial,Helvetica Neue,Helvetica,sans-serif; font-size:12; text-anchor:middle;\" transform=\"rotate(0, 491.264, 373.921)\" x=\"491.264\" y=\"373.921\">50</text>\n",
       "</g>\n",
       "<g clip-path=\"url(#clip7200)\">\n",
       "<text style=\"fill:#000000; fill-opacity:1; font-family:Arial,Helvetica Neue,Helvetica,sans-serif; font-size:12; text-anchor:middle;\" transform=\"rotate(0, 580.315, 373.921)\" x=\"580.315\" y=\"373.921\">60</text>\n",
       "</g>\n",
       "<g clip-path=\"url(#clip7200)\">\n",
       "<text style=\"fill:#000000; fill-opacity:1; font-family:Arial,Helvetica Neue,Helvetica,sans-serif; font-size:12; text-anchor:end;\" transform=\"rotate(0, 48.9131, 364.621)\" x=\"48.9131\" y=\"364.621\">0.20</text>\n",
       "</g>\n",
       "<g clip-path=\"url(#clip7200)\">\n",
       "<text style=\"fill:#000000; fill-opacity:1; font-family:Arial,Helvetica Neue,Helvetica,sans-serif; font-size:12; text-anchor:end;\" transform=\"rotate(0, 48.9131, 255.774)\" x=\"48.9131\" y=\"255.774\">0.25</text>\n",
       "</g>\n",
       "<g clip-path=\"url(#clip7200)\">\n",
       "<text style=\"fill:#000000; fill-opacity:1; font-family:Arial,Helvetica Neue,Helvetica,sans-serif; font-size:12; text-anchor:end;\" transform=\"rotate(0, 48.9131, 146.927)\" x=\"48.9131\" y=\"146.927\">0.30</text>\n",
       "</g>\n",
       "<g clip-path=\"url(#clip7200)\">\n",
       "<text style=\"fill:#000000; fill-opacity:1; font-family:Arial,Helvetica Neue,Helvetica,sans-serif; font-size:12; text-anchor:end;\" transform=\"rotate(0, 48.9131, 38.0804)\" x=\"48.9131\" y=\"38.0804\">0.35</text>\n",
       "</g>\n",
       "<g clip-path=\"url(#clip7200)\">\n",
       "<text style=\"fill:#000000; fill-opacity:1; font-family:Arial,Helvetica Neue,Helvetica,sans-serif; font-size:16; text-anchor:middle;\" transform=\"rotate(0, 317.614, 397.6)\" x=\"317.614\" y=\"397.6\">Epochs</text>\n",
       "</g>\n",
       "<g clip-path=\"url(#clip7200)\">\n",
       "<text style=\"fill:#000000; fill-opacity:1; font-family:Arial,Helvetica Neue,Helvetica,sans-serif; font-size:16; text-anchor:middle;\" transform=\"rotate(-90, 14.4, 185.966)\" x=\"14.4\" y=\"185.966\">Loss</text>\n",
       "</g>\n",
       "<polyline clip-path=\"url(#clip7202)\" style=\"stroke:#009af9; stroke-width:1; stroke-opacity:1; fill:none\" points=\"\n",
       "  54.9131,-52.8522 63.8182,44.5794 72.7233,87.8684 81.6285,113.886 90.5336,131.782 99.4387,145.099 108.344,155.536 117.249,164.026 126.154,171.124 135.059,177.187 \n",
       "  143.964,182.455 152.869,187.095 161.775,191.229 170.68,194.949 179.585,198.322 188.49,201.404 197.395,204.236 206.3,206.854 215.205,209.285 224.11,211.552 \n",
       "  233.015,213.674 241.921,215.667 250.826,217.545 259.731,219.32 268.636,221.002 277.541,222.598 286.446,224.118 295.351,225.567 304.256,226.95 313.161,228.275 \n",
       "  322.067,229.545 330.972,230.762 339.877,231.933 348.782,233.06 357.687,234.145 366.592,235.193 375.497,236.204 384.402,237.181 393.308,238.127 402.213,239.042 \n",
       "  411.118,239.928 420.023,240.789 428.928,241.624 437.833,242.435 446.738,243.223 455.643,243.99 464.548,244.735 473.454,245.462 482.359,246.17 491.264,246.859 \n",
       "  500.169,247.532 509.074,248.188 517.979,248.829 526.884,249.455 535.789,250.066 544.694,250.664 553.6,251.248 562.505,251.82 571.41,252.38 580.315,252.927 \n",
       "  \n",
       "  \"/>\n",
       "<polyline clip-path=\"url(#clip7202)\" style=\"stroke:#e26f46; stroke-width:1; stroke-opacity:1; fill:none\" points=\"\n",
       "  54.9131,-8.64061 63.8182,79.3488 72.7233,115.714 81.6285,136.301 90.5336,149.737 99.4387,159.27 108.344,166.423 117.249,172.01 126.154,176.508 135.059,180.217 \n",
       "  143.964,183.334 152.869,185.995 161.775,188.295 170.68,190.307 179.585,192.081 188.49,193.659 197.395,195.073 206.3,196.346 215.205,197.5 224.11,198.55 \n",
       "  233.015,199.511 241.921,200.391 250.826,201.202 259.731,201.952 268.636,202.645 277.541,203.289 286.446,203.888 295.351,204.447 304.256,204.969 313.161,205.458 \n",
       "  322.067,205.916 330.972,206.345 339.877,206.749 348.782,207.13 357.687,207.488 366.592,207.826 375.497,208.145 384.402,208.446 393.308,208.731 402.213,209 \n",
       "  411.118,209.255 420.023,209.497 428.928,209.726 437.833,209.942 446.738,210.148 455.643,210.343 464.548,210.528 473.454,210.703 482.359,210.87 491.264,211.028 \n",
       "  500.169,211.178 509.074,211.32 517.979,211.455 526.884,211.583 535.789,211.704 544.694,211.82 553.6,211.929 562.505,212.032 571.41,212.13 580.315,212.222 \n",
       "  \n",
       "  \"/>\n",
       "<polygon clip-path=\"url(#clip7200)\" points=\"\n",
       "447.479,78.051 562.315,78.051 562.315,32.691 447.479,32.691 \n",
       "  \" fill=\"#ffffff\" fill-opacity=\"1\"/>\n",
       "<polyline clip-path=\"url(#clip7200)\" style=\"stroke:#000000; stroke-width:1; stroke-opacity:1; fill:none\" points=\"\n",
       "  447.479,78.051 562.315,78.051 562.315,32.691 447.479,32.691 447.479,78.051 \n",
       "  \"/>\n",
       "<polyline clip-path=\"url(#clip7200)\" style=\"stroke:#009af9; stroke-width:1; stroke-opacity:1; fill:none\" points=\"\n",
       "  453.479,47.811 489.479,47.811 \n",
       "  \"/>\n",
       "<g clip-path=\"url(#clip7200)\">\n",
       "<text style=\"fill:#000000; fill-opacity:1; font-family:Arial,Helvetica Neue,Helvetica,sans-serif; font-size:12; text-anchor:start;\" transform=\"rotate(0, 495.479, 52.311)\" x=\"495.479\" y=\"52.311\">trnsoftloss</text>\n",
       "</g>\n",
       "<polyline clip-path=\"url(#clip7200)\" style=\"stroke:#e26f46; stroke-width:1; stroke-opacity:1; fill:none\" points=\"\n",
       "  453.479,62.931 489.479,62.931 \n",
       "  \"/>\n",
       "<g clip-path=\"url(#clip7200)\">\n",
       "<text style=\"fill:#000000; fill-opacity:1; font-family:Arial,Helvetica Neue,Helvetica,sans-serif; font-size:12; text-anchor:start;\" transform=\"rotate(0, 495.479, 67.431)\" x=\"495.479\" y=\"67.431\">tstsoftloss</text>\n",
       "</g>\n",
       "</svg>\n"
      ]
     },
     "execution_count": 36,
     "metadata": {},
     "output_type": "execute_result"
    }
   ],
   "source": [
    "plot([trnsoftloss tstsoftloss],ylim=(.2,.36),labels=[:trnsoftloss :tstsoftloss],xlabel=\"Epochs\",ylabel=\"Loss\") "
   ]
  },
  {
   "cell_type": "markdown",
   "metadata": {},
   "source": [
    "## Plot softmax error rate"
   ]
  },
  {
   "cell_type": "code",
   "execution_count": 37,
   "metadata": {},
   "outputs": [
    {
     "name": "stdout",
     "output_type": "stream",
     "text": [
      "  6.153225 seconds (3.33 M allocations: 11.134 GiB, 15.74% gc time)\n",
      "  1.062067 seconds (562.73 k allocations: 1.856 GiB, 15.49% gc time)\n"
     ]
    }
   ],
   "source": [
    "@time trnsofterr = [ 1-accuracy(w,dtrn,predict) for w in softmodels ];  # ~12 seconds\n",
    "@time tstsofterr = [ 1-accuracy(w,dtst,predict) for w in softmodels ];  # ~2 seconds"
   ]
  },
  {
   "cell_type": "code",
   "execution_count": 39,
   "metadata": {
    "scrolled": true
   },
   "outputs": [
    {
     "data": {
      "image/svg+xml": [
       "<?xml version=\"1.0\" encoding=\"utf-8\"?>\n",
       "<svg xmlns=\"http://www.w3.org/2000/svg\" xmlns:xlink=\"http://www.w3.org/1999/xlink\" width=\"600\" height=\"400\" viewBox=\"0 0 600 400\">\n",
       "<defs>\n",
       "  <clipPath id=\"clip7600\">\n",
       "    <rect x=\"0\" y=\"0\" width=\"600\" height=\"400\"/>\n",
       "  </clipPath>\n",
       "</defs>\n",
       "<polygon clip-path=\"url(#clip7600)\" points=\"\n",
       "0,400 600,400 600,0 0,0 \n",
       "  \" fill=\"#ffffff\" fill-opacity=\"1\"/>\n",
       "<defs>\n",
       "  <clipPath id=\"clip7601\">\n",
       "    <rect x=\"120\" y=\"0\" width=\"421\" height=\"400\"/>\n",
       "  </clipPath>\n",
       "</defs>\n",
       "<polygon clip-path=\"url(#clip7600)\" points=\"\n",
       "54.9131,360.121 580.315,360.121 580.315,11.811 54.9131,11.811 \n",
       "  \" fill=\"#ffffff\" fill-opacity=\"1\"/>\n",
       "<defs>\n",
       "  <clipPath id=\"clip7602\">\n",
       "    <rect x=\"54\" y=\"11\" width=\"526\" height=\"349\"/>\n",
       "  </clipPath>\n",
       "</defs>\n",
       "<polyline clip-path=\"url(#clip7602)\" style=\"stroke:#000000; stroke-width:0.5; stroke-opacity:0.1; fill:none\" points=\"\n",
       "  135.059,360.121 135.059,11.811 \n",
       "  \"/>\n",
       "<polyline clip-path=\"url(#clip7602)\" style=\"stroke:#000000; stroke-width:0.5; stroke-opacity:0.1; fill:none\" points=\"\n",
       "  224.11,360.121 224.11,11.811 \n",
       "  \"/>\n",
       "<polyline clip-path=\"url(#clip7602)\" style=\"stroke:#000000; stroke-width:0.5; stroke-opacity:0.1; fill:none\" points=\"\n",
       "  313.161,360.121 313.161,11.811 \n",
       "  \"/>\n",
       "<polyline clip-path=\"url(#clip7602)\" style=\"stroke:#000000; stroke-width:0.5; stroke-opacity:0.1; fill:none\" points=\"\n",
       "  402.213,360.121 402.213,11.811 \n",
       "  \"/>\n",
       "<polyline clip-path=\"url(#clip7602)\" style=\"stroke:#000000; stroke-width:0.5; stroke-opacity:0.1; fill:none\" points=\"\n",
       "  491.264,360.121 491.264,11.811 \n",
       "  \"/>\n",
       "<polyline clip-path=\"url(#clip7602)\" style=\"stroke:#000000; stroke-width:0.5; stroke-opacity:0.1; fill:none\" points=\"\n",
       "  580.315,360.121 580.315,11.811 \n",
       "  \"/>\n",
       "<polyline clip-path=\"url(#clip7602)\" style=\"stroke:#000000; stroke-width:0.5; stroke-opacity:0.1; fill:none\" points=\"\n",
       "  54.9131,360.121 580.315,360.121 \n",
       "  \"/>\n",
       "<polyline clip-path=\"url(#clip7602)\" style=\"stroke:#000000; stroke-width:0.5; stroke-opacity:0.1; fill:none\" points=\"\n",
       "  54.9131,273.043 580.315,273.043 \n",
       "  \"/>\n",
       "<polyline clip-path=\"url(#clip7602)\" style=\"stroke:#000000; stroke-width:0.5; stroke-opacity:0.1; fill:none\" points=\"\n",
       "  54.9131,185.966 580.315,185.966 \n",
       "  \"/>\n",
       "<polyline clip-path=\"url(#clip7602)\" style=\"stroke:#000000; stroke-width:0.5; stroke-opacity:0.1; fill:none\" points=\"\n",
       "  54.9131,98.8884 580.315,98.8884 \n",
       "  \"/>\n",
       "<polyline clip-path=\"url(#clip7602)\" style=\"stroke:#000000; stroke-width:0.5; stroke-opacity:0.1; fill:none\" points=\"\n",
       "  54.9131,11.811 580.315,11.811 \n",
       "  \"/>\n",
       "<polyline clip-path=\"url(#clip7600)\" style=\"stroke:#000000; stroke-width:1; stroke-opacity:1; fill:none\" points=\"\n",
       "  54.9131,360.121 580.315,360.121 \n",
       "  \"/>\n",
       "<polyline clip-path=\"url(#clip7600)\" style=\"stroke:#000000; stroke-width:1; stroke-opacity:1; fill:none\" points=\"\n",
       "  54.9131,360.121 54.9131,11.811 \n",
       "  \"/>\n",
       "<polyline clip-path=\"url(#clip7600)\" style=\"stroke:#000000; stroke-width:1; stroke-opacity:1; fill:none\" points=\"\n",
       "  135.059,360.121 135.059,354.896 \n",
       "  \"/>\n",
       "<polyline clip-path=\"url(#clip7600)\" style=\"stroke:#000000; stroke-width:1; stroke-opacity:1; fill:none\" points=\"\n",
       "  224.11,360.121 224.11,354.896 \n",
       "  \"/>\n",
       "<polyline clip-path=\"url(#clip7600)\" style=\"stroke:#000000; stroke-width:1; stroke-opacity:1; fill:none\" points=\"\n",
       "  313.161,360.121 313.161,354.896 \n",
       "  \"/>\n",
       "<polyline clip-path=\"url(#clip7600)\" style=\"stroke:#000000; stroke-width:1; stroke-opacity:1; fill:none\" points=\"\n",
       "  402.213,360.121 402.213,354.896 \n",
       "  \"/>\n",
       "<polyline clip-path=\"url(#clip7600)\" style=\"stroke:#000000; stroke-width:1; stroke-opacity:1; fill:none\" points=\"\n",
       "  491.264,360.121 491.264,354.896 \n",
       "  \"/>\n",
       "<polyline clip-path=\"url(#clip7600)\" style=\"stroke:#000000; stroke-width:1; stroke-opacity:1; fill:none\" points=\"\n",
       "  580.315,360.121 580.315,354.896 \n",
       "  \"/>\n",
       "<polyline clip-path=\"url(#clip7600)\" style=\"stroke:#000000; stroke-width:1; stroke-opacity:1; fill:none\" points=\"\n",
       "  54.9131,360.121 62.7941,360.121 \n",
       "  \"/>\n",
       "<polyline clip-path=\"url(#clip7600)\" style=\"stroke:#000000; stroke-width:1; stroke-opacity:1; fill:none\" points=\"\n",
       "  54.9131,273.043 62.7941,273.043 \n",
       "  \"/>\n",
       "<polyline clip-path=\"url(#clip7600)\" style=\"stroke:#000000; stroke-width:1; stroke-opacity:1; fill:none\" points=\"\n",
       "  54.9131,185.966 62.7941,185.966 \n",
       "  \"/>\n",
       "<polyline clip-path=\"url(#clip7600)\" style=\"stroke:#000000; stroke-width:1; stroke-opacity:1; fill:none\" points=\"\n",
       "  54.9131,98.8884 62.7941,98.8884 \n",
       "  \"/>\n",
       "<polyline clip-path=\"url(#clip7600)\" style=\"stroke:#000000; stroke-width:1; stroke-opacity:1; fill:none\" points=\"\n",
       "  54.9131,11.811 62.7941,11.811 \n",
       "  \"/>\n",
       "<g clip-path=\"url(#clip7600)\">\n",
       "<text style=\"fill:#000000; fill-opacity:1; font-family:Arial,Helvetica Neue,Helvetica,sans-serif; font-size:12; text-anchor:middle;\" transform=\"rotate(0, 135.059, 373.921)\" x=\"135.059\" y=\"373.921\">10</text>\n",
       "</g>\n",
       "<g clip-path=\"url(#clip7600)\">\n",
       "<text style=\"fill:#000000; fill-opacity:1; font-family:Arial,Helvetica Neue,Helvetica,sans-serif; font-size:12; text-anchor:middle;\" transform=\"rotate(0, 224.11, 373.921)\" x=\"224.11\" y=\"373.921\">20</text>\n",
       "</g>\n",
       "<g clip-path=\"url(#clip7600)\">\n",
       "<text style=\"fill:#000000; fill-opacity:1; font-family:Arial,Helvetica Neue,Helvetica,sans-serif; font-size:12; text-anchor:middle;\" transform=\"rotate(0, 313.161, 373.921)\" x=\"313.161\" y=\"373.921\">30</text>\n",
       "</g>\n",
       "<g clip-path=\"url(#clip7600)\">\n",
       "<text style=\"fill:#000000; fill-opacity:1; font-family:Arial,Helvetica Neue,Helvetica,sans-serif; font-size:12; text-anchor:middle;\" transform=\"rotate(0, 402.213, 373.921)\" x=\"402.213\" y=\"373.921\">40</text>\n",
       "</g>\n",
       "<g clip-path=\"url(#clip7600)\">\n",
       "<text style=\"fill:#000000; fill-opacity:1; font-family:Arial,Helvetica Neue,Helvetica,sans-serif; font-size:12; text-anchor:middle;\" transform=\"rotate(0, 491.264, 373.921)\" x=\"491.264\" y=\"373.921\">50</text>\n",
       "</g>\n",
       "<g clip-path=\"url(#clip7600)\">\n",
       "<text style=\"fill:#000000; fill-opacity:1; font-family:Arial,Helvetica Neue,Helvetica,sans-serif; font-size:12; text-anchor:middle;\" transform=\"rotate(0, 580.315, 373.921)\" x=\"580.315\" y=\"373.921\">60</text>\n",
       "</g>\n",
       "<g clip-path=\"url(#clip7600)\">\n",
       "<text style=\"fill:#000000; fill-opacity:1; font-family:Arial,Helvetica Neue,Helvetica,sans-serif; font-size:12; text-anchor:end;\" transform=\"rotate(0, 48.9131, 364.621)\" x=\"48.9131\" y=\"364.621\">0.06</text>\n",
       "</g>\n",
       "<g clip-path=\"url(#clip7600)\">\n",
       "<text style=\"fill:#000000; fill-opacity:1; font-family:Arial,Helvetica Neue,Helvetica,sans-serif; font-size:12; text-anchor:end;\" transform=\"rotate(0, 48.9131, 277.543)\" x=\"48.9131\" y=\"277.543\">0.07</text>\n",
       "</g>\n",
       "<g clip-path=\"url(#clip7600)\">\n",
       "<text style=\"fill:#000000; fill-opacity:1; font-family:Arial,Helvetica Neue,Helvetica,sans-serif; font-size:12; text-anchor:end;\" transform=\"rotate(0, 48.9131, 190.466)\" x=\"48.9131\" y=\"190.466\">0.08</text>\n",
       "</g>\n",
       "<g clip-path=\"url(#clip7600)\">\n",
       "<text style=\"fill:#000000; fill-opacity:1; font-family:Arial,Helvetica Neue,Helvetica,sans-serif; font-size:12; text-anchor:end;\" transform=\"rotate(0, 48.9131, 103.388)\" x=\"48.9131\" y=\"103.388\">0.09</text>\n",
       "</g>\n",
       "<g clip-path=\"url(#clip7600)\">\n",
       "<text style=\"fill:#000000; fill-opacity:1; font-family:Arial,Helvetica Neue,Helvetica,sans-serif; font-size:12; text-anchor:end;\" transform=\"rotate(0, 48.9131, 16.311)\" x=\"48.9131\" y=\"16.311\">0.10</text>\n",
       "</g>\n",
       "<g clip-path=\"url(#clip7600)\">\n",
       "<text style=\"fill:#000000; fill-opacity:1; font-family:Arial,Helvetica Neue,Helvetica,sans-serif; font-size:16; text-anchor:middle;\" transform=\"rotate(0, 317.614, 397.6)\" x=\"317.614\" y=\"397.6\">Epochs</text>\n",
       "</g>\n",
       "<g clip-path=\"url(#clip7600)\">\n",
       "<text style=\"fill:#000000; fill-opacity:1; font-family:Arial,Helvetica Neue,Helvetica,sans-serif; font-size:16; text-anchor:middle;\" transform=\"rotate(-90, 14.4, 185.966)\" x=\"14.4\" y=\"185.966\">Error</text>\n",
       "</g>\n",
       "<polyline clip-path=\"url(#clip7602)\" style=\"stroke:#009af9; stroke-width:1; stroke-opacity:1; fill:none\" points=\"\n",
       "  54.9131,-74.2505 63.8182,23.5665 72.7233,75.958 81.6285,108.177 90.5336,129.801 99.4387,143.443 108.344,154.328 117.249,163.761 126.154,174.936 135.059,181.322 \n",
       "  143.964,188.288 152.869,192.642 161.775,200.043 170.68,206.429 179.585,209.622 188.49,214.121 197.395,217.023 206.3,220.071 215.205,222.393 224.11,225.731 \n",
       "  233.015,229.65 241.921,231.681 250.826,233.713 259.731,235.6 268.636,237.922 277.541,240.825 286.446,241.26 295.351,243.727 304.256,245.904 313.161,247.791 \n",
       "  322.067,249.242 330.972,249.968 339.877,251.564 348.782,252.435 357.687,254.322 366.592,256.063 375.497,257.514 384.402,258.53 393.308,260.272 402.213,261.723 \n",
       "  411.118,262.304 420.023,263.029 428.928,265.206 437.833,267.238 446.738,267.819 455.643,268.98 464.548,269.56 473.454,270.721 482.359,271.302 491.264,271.447 \n",
       "  500.169,272.172 509.074,273.914 517.979,274.495 526.884,274.785 535.789,275.365 544.694,276.091 553.6,276.962 562.505,277.107 571.41,278.558 580.315,280.155 \n",
       "  \n",
       "  \"/>\n",
       "<polyline clip-path=\"url(#clip7602)\" style=\"stroke:#e26f46; stroke-width:1; stroke-opacity:1; fill:none\" points=\"\n",
       "  54.9131,3.10328 63.8182,87.5684 72.7233,117.175 81.6285,138.944 90.5336,148.523 99.4387,160.713 108.344,162.455 117.249,169.421 126.154,177.258 135.059,184.224 \n",
       "  143.964,189.449 152.869,190.32 161.775,192.932 170.68,194.674 179.585,197.286 188.49,192.061 197.395,191.19 206.3,193.803 215.205,192.061 224.11,192.932 \n",
       "  233.015,196.415 241.921,196.415 250.826,199.027 259.731,199.027 268.636,202.511 277.541,205.123 286.446,207.735 295.351,211.218 304.256,212.96 313.161,213.831 \n",
       "  322.067,213.831 330.972,213.831 339.877,214.701 348.782,213.831 357.687,214.701 366.592,218.184 375.497,219.055 384.402,218.184 393.308,218.184 402.213,219.055 \n",
       "  411.118,219.926 420.023,219.926 428.928,219.926 437.833,219.055 446.738,219.055 455.643,219.055 464.548,219.926 473.454,218.184 482.359,215.572 491.264,216.443 \n",
       "  500.169,217.314 509.074,217.314 517.979,218.184 526.884,218.184 535.789,219.055 544.694,218.184 553.6,218.184 562.505,219.926 571.41,219.926 580.315,221.668 \n",
       "  \n",
       "  \"/>\n",
       "<polygon clip-path=\"url(#clip7600)\" points=\"\n",
       "454.169,78.051 562.315,78.051 562.315,32.691 454.169,32.691 \n",
       "  \" fill=\"#ffffff\" fill-opacity=\"1\"/>\n",
       "<polyline clip-path=\"url(#clip7600)\" style=\"stroke:#000000; stroke-width:1; stroke-opacity:1; fill:none\" points=\"\n",
       "  454.169,78.051 562.315,78.051 562.315,32.691 454.169,32.691 454.169,78.051 \n",
       "  \"/>\n",
       "<polyline clip-path=\"url(#clip7600)\" style=\"stroke:#009af9; stroke-width:1; stroke-opacity:1; fill:none\" points=\"\n",
       "  460.169,47.811 496.169,47.811 \n",
       "  \"/>\n",
       "<g clip-path=\"url(#clip7600)\">\n",
       "<text style=\"fill:#000000; fill-opacity:1; font-family:Arial,Helvetica Neue,Helvetica,sans-serif; font-size:12; text-anchor:start;\" transform=\"rotate(0, 502.169, 52.311)\" x=\"502.169\" y=\"52.311\">trnsofterr</text>\n",
       "</g>\n",
       "<polyline clip-path=\"url(#clip7600)\" style=\"stroke:#e26f46; stroke-width:1; stroke-opacity:1; fill:none\" points=\"\n",
       "  460.169,62.931 496.169,62.931 \n",
       "  \"/>\n",
       "<g clip-path=\"url(#clip7600)\">\n",
       "<text style=\"fill:#000000; fill-opacity:1; font-family:Arial,Helvetica Neue,Helvetica,sans-serif; font-size:12; text-anchor:start;\" transform=\"rotate(0, 502.169, 67.431)\" x=\"502.169\" y=\"67.431\">tstsofterr</text>\n",
       "</g>\n",
       "</svg>\n"
      ]
     },
     "execution_count": 39,
     "metadata": {},
     "output_type": "execute_result"
    }
   ],
   "source": [
    "plot([trnsofterr tstsofterr],ylim=(.06,.10),labels=[:trnsofterr :tstsofterr],xlabel=\"Epochs\",ylabel=\"Error\")"
   ]
  },
  {
   "cell_type": "code",
   "execution_count": 40,
   "metadata": {},
   "outputs": [],
   "source": [
    "# Cleanup\n",
    "wsoft = softmodels = nothing; knetgc()"
   ]
  },
  {
   "cell_type": "markdown",
   "metadata": {},
   "source": [
    "# Multilayer perceptron example with MNIST"
   ]
  },
  {
   "cell_type": "code",
   "execution_count": 41,
   "metadata": {},
   "outputs": [
    {
     "data": {
      "text/plain": [
       "predict (generic function with 1 method)"
      ]
     },
     "execution_count": 41,
     "metadata": {},
     "output_type": "execute_result"
    }
   ],
   "source": [
    "# We only need to change the predict function!\n",
    "function predict(w,x)\n",
    "    for i=1:2:length(w)\n",
    "        x = w[i]*mat(x) .+ w[i+1]\n",
    "        if i<length(w)-1\n",
    "            x = max.(0,x)                         \n",
    "        end\n",
    "    end\n",
    "    return x\n",
    "end"
   ]
  },
  {
   "cell_type": "code",
   "execution_count": 43,
   "metadata": {},
   "outputs": [
    {
     "data": {
      "text/plain": [
       "2.4366724f0"
      ]
     },
     "execution_count": 43,
     "metadata": {},
     "output_type": "execute_result"
    }
   ],
   "source": [
    "wmlp=map(Atype, [ 0.1*randn(64,784), zeros(64,1), \n",
    "                  0.1*randn(10,64),  zeros(10,1) ])\n",
    "loss(wmlp, x, y)  # average loss for random model should be close to log(10)=2.3026"
   ]
  },
  {
   "cell_type": "markdown",
   "metadata": {},
   "source": [
    "## Train MLP model"
   ]
  },
  {
   "cell_type": "code",
   "execution_count": 44,
   "metadata": {},
   "outputs": [
    {
     "name": "stdout",
     "output_type": "stream",
     "text": [
      " 60.059827 seconds (39.31 M allocations: 58.845 GiB, 9.66% gc time)\n"
     ]
    }
   ],
   "source": [
    "@time mlpmodels = [ copy(train!(wmlp, dtrn)) for epoch=1:60 ]; # ~20 seconds"
   ]
  },
  {
   "cell_type": "markdown",
   "metadata": {},
   "source": [
    "## Compare MLP loss with softmax loss"
   ]
  },
  {
   "cell_type": "code",
   "execution_count": 45,
   "metadata": {},
   "outputs": [
    {
     "name": "stdout",
     "output_type": "stream",
     "text": [
      " 13.244330 seconds (7.18 M allocations: 14.151 GiB, 10.61% gc time)\n",
      "  2.302616 seconds (1.20 M allocations: 2.359 GiB, 10.41% gc time)\n"
     ]
    }
   ],
   "source": [
    "@time trnmlploss = [ nll(w,dtrn,predict) for w in mlpmodels ]; # ~12 seconds\n",
    "@time tstmlploss = [ nll(w,dtst,predict) for w in mlpmodels ]; # ~2 seconds"
   ]
  },
  {
   "cell_type": "code",
   "execution_count": 50,
   "metadata": {},
   "outputs": [
    {
     "data": {
      "image/svg+xml": [
       "<?xml version=\"1.0\" encoding=\"utf-8\"?>\n",
       "<svg xmlns=\"http://www.w3.org/2000/svg\" xmlns:xlink=\"http://www.w3.org/1999/xlink\" width=\"600\" height=\"400\" viewBox=\"0 0 600 400\">\n",
       "<defs>\n",
       "  <clipPath id=\"clip8400\">\n",
       "    <rect x=\"0\" y=\"0\" width=\"600\" height=\"400\"/>\n",
       "  </clipPath>\n",
       "</defs>\n",
       "<polygon clip-path=\"url(#clip8400)\" points=\"\n",
       "0,400 600,400 600,0 0,0 \n",
       "  \" fill=\"#ffffff\" fill-opacity=\"1\"/>\n",
       "<defs>\n",
       "  <clipPath id=\"clip8401\">\n",
       "    <rect x=\"120\" y=\"0\" width=\"421\" height=\"400\"/>\n",
       "  </clipPath>\n",
       "</defs>\n",
       "<polygon clip-path=\"url(#clip8400)\" points=\"\n",
       "48.2225,360.121 580.315,360.121 580.315,11.811 48.2225,11.811 \n",
       "  \" fill=\"#ffffff\" fill-opacity=\"1\"/>\n",
       "<defs>\n",
       "  <clipPath id=\"clip8402\">\n",
       "    <rect x=\"48\" y=\"11\" width=\"533\" height=\"349\"/>\n",
       "  </clipPath>\n",
       "</defs>\n",
       "<polyline clip-path=\"url(#clip8402)\" style=\"stroke:#000000; stroke-width:0.5; stroke-opacity:0.1; fill:none\" points=\"\n",
       "  129.389,360.121 129.389,11.811 \n",
       "  \"/>\n",
       "<polyline clip-path=\"url(#clip8402)\" style=\"stroke:#000000; stroke-width:0.5; stroke-opacity:0.1; fill:none\" points=\"\n",
       "  219.574,360.121 219.574,11.811 \n",
       "  \"/>\n",
       "<polyline clip-path=\"url(#clip8402)\" style=\"stroke:#000000; stroke-width:0.5; stroke-opacity:0.1; fill:none\" points=\"\n",
       "  309.759,360.121 309.759,11.811 \n",
       "  \"/>\n",
       "<polyline clip-path=\"url(#clip8402)\" style=\"stroke:#000000; stroke-width:0.5; stroke-opacity:0.1; fill:none\" points=\"\n",
       "  399.945,360.121 399.945,11.811 \n",
       "  \"/>\n",
       "<polyline clip-path=\"url(#clip8402)\" style=\"stroke:#000000; stroke-width:0.5; stroke-opacity:0.1; fill:none\" points=\"\n",
       "  490.13,360.121 490.13,11.811 \n",
       "  \"/>\n",
       "<polyline clip-path=\"url(#clip8402)\" style=\"stroke:#000000; stroke-width:0.5; stroke-opacity:0.1; fill:none\" points=\"\n",
       "  580.315,360.121 580.315,11.811 \n",
       "  \"/>\n",
       "<polyline clip-path=\"url(#clip8402)\" style=\"stroke:#000000; stroke-width:0.5; stroke-opacity:0.1; fill:none\" points=\"\n",
       "  48.2225,360.121 580.315,360.121 \n",
       "  \"/>\n",
       "<polyline clip-path=\"url(#clip8402)\" style=\"stroke:#000000; stroke-width:0.5; stroke-opacity:0.1; fill:none\" points=\"\n",
       "  48.2225,263.368 580.315,263.368 \n",
       "  \"/>\n",
       "<polyline clip-path=\"url(#clip8402)\" style=\"stroke:#000000; stroke-width:0.5; stroke-opacity:0.1; fill:none\" points=\"\n",
       "  48.2225,166.615 580.315,166.615 \n",
       "  \"/>\n",
       "<polyline clip-path=\"url(#clip8402)\" style=\"stroke:#000000; stroke-width:0.5; stroke-opacity:0.1; fill:none\" points=\"\n",
       "  48.2225,69.8626 580.315,69.8626 \n",
       "  \"/>\n",
       "<polyline clip-path=\"url(#clip8400)\" style=\"stroke:#000000; stroke-width:1; stroke-opacity:1; fill:none\" points=\"\n",
       "  48.2225,360.121 580.315,360.121 \n",
       "  \"/>\n",
       "<polyline clip-path=\"url(#clip8400)\" style=\"stroke:#000000; stroke-width:1; stroke-opacity:1; fill:none\" points=\"\n",
       "  48.2225,360.121 48.2225,11.811 \n",
       "  \"/>\n",
       "<polyline clip-path=\"url(#clip8400)\" style=\"stroke:#000000; stroke-width:1; stroke-opacity:1; fill:none\" points=\"\n",
       "  129.389,360.121 129.389,354.896 \n",
       "  \"/>\n",
       "<polyline clip-path=\"url(#clip8400)\" style=\"stroke:#000000; stroke-width:1; stroke-opacity:1; fill:none\" points=\"\n",
       "  219.574,360.121 219.574,354.896 \n",
       "  \"/>\n",
       "<polyline clip-path=\"url(#clip8400)\" style=\"stroke:#000000; stroke-width:1; stroke-opacity:1; fill:none\" points=\"\n",
       "  309.759,360.121 309.759,354.896 \n",
       "  \"/>\n",
       "<polyline clip-path=\"url(#clip8400)\" style=\"stroke:#000000; stroke-width:1; stroke-opacity:1; fill:none\" points=\"\n",
       "  399.945,360.121 399.945,354.896 \n",
       "  \"/>\n",
       "<polyline clip-path=\"url(#clip8400)\" style=\"stroke:#000000; stroke-width:1; stroke-opacity:1; fill:none\" points=\"\n",
       "  490.13,360.121 490.13,354.896 \n",
       "  \"/>\n",
       "<polyline clip-path=\"url(#clip8400)\" style=\"stroke:#000000; stroke-width:1; stroke-opacity:1; fill:none\" points=\"\n",
       "  580.315,360.121 580.315,354.896 \n",
       "  \"/>\n",
       "<polyline clip-path=\"url(#clip8400)\" style=\"stroke:#000000; stroke-width:1; stroke-opacity:1; fill:none\" points=\"\n",
       "  48.2225,360.121 56.2039,360.121 \n",
       "  \"/>\n",
       "<polyline clip-path=\"url(#clip8400)\" style=\"stroke:#000000; stroke-width:1; stroke-opacity:1; fill:none\" points=\"\n",
       "  48.2225,263.368 56.2039,263.368 \n",
       "  \"/>\n",
       "<polyline clip-path=\"url(#clip8400)\" style=\"stroke:#000000; stroke-width:1; stroke-opacity:1; fill:none\" points=\"\n",
       "  48.2225,166.615 56.2039,166.615 \n",
       "  \"/>\n",
       "<polyline clip-path=\"url(#clip8400)\" style=\"stroke:#000000; stroke-width:1; stroke-opacity:1; fill:none\" points=\"\n",
       "  48.2225,69.8626 56.2039,69.8626 \n",
       "  \"/>\n",
       "<g clip-path=\"url(#clip8400)\">\n",
       "<text style=\"fill:#000000; fill-opacity:1; font-family:Arial,Helvetica Neue,Helvetica,sans-serif; font-size:12; text-anchor:middle;\" transform=\"rotate(0, 129.389, 373.921)\" x=\"129.389\" y=\"373.921\">10</text>\n",
       "</g>\n",
       "<g clip-path=\"url(#clip8400)\">\n",
       "<text style=\"fill:#000000; fill-opacity:1; font-family:Arial,Helvetica Neue,Helvetica,sans-serif; font-size:12; text-anchor:middle;\" transform=\"rotate(0, 219.574, 373.921)\" x=\"219.574\" y=\"373.921\">20</text>\n",
       "</g>\n",
       "<g clip-path=\"url(#clip8400)\">\n",
       "<text style=\"fill:#000000; fill-opacity:1; font-family:Arial,Helvetica Neue,Helvetica,sans-serif; font-size:12; text-anchor:middle;\" transform=\"rotate(0, 309.759, 373.921)\" x=\"309.759\" y=\"373.921\">30</text>\n",
       "</g>\n",
       "<g clip-path=\"url(#clip8400)\">\n",
       "<text style=\"fill:#000000; fill-opacity:1; font-family:Arial,Helvetica Neue,Helvetica,sans-serif; font-size:12; text-anchor:middle;\" transform=\"rotate(0, 399.945, 373.921)\" x=\"399.945\" y=\"373.921\">40</text>\n",
       "</g>\n",
       "<g clip-path=\"url(#clip8400)\">\n",
       "<text style=\"fill:#000000; fill-opacity:1; font-family:Arial,Helvetica Neue,Helvetica,sans-serif; font-size:12; text-anchor:middle;\" transform=\"rotate(0, 490.13, 373.921)\" x=\"490.13\" y=\"373.921\">50</text>\n",
       "</g>\n",
       "<g clip-path=\"url(#clip8400)\">\n",
       "<text style=\"fill:#000000; fill-opacity:1; font-family:Arial,Helvetica Neue,Helvetica,sans-serif; font-size:12; text-anchor:middle;\" transform=\"rotate(0, 580.315, 373.921)\" x=\"580.315\" y=\"373.921\">60</text>\n",
       "</g>\n",
       "<g clip-path=\"url(#clip8400)\">\n",
       "<text style=\"fill:#000000; fill-opacity:1; font-family:Arial,Helvetica Neue,Helvetica,sans-serif; font-size:12; text-anchor:end;\" transform=\"rotate(0, 42.2225, 364.621)\" x=\"42.2225\" y=\"364.621\">0.0</text>\n",
       "</g>\n",
       "<g clip-path=\"url(#clip8400)\">\n",
       "<text style=\"fill:#000000; fill-opacity:1; font-family:Arial,Helvetica Neue,Helvetica,sans-serif; font-size:12; text-anchor:end;\" transform=\"rotate(0, 42.2225, 267.868)\" x=\"42.2225\" y=\"267.868\">0.1</text>\n",
       "</g>\n",
       "<g clip-path=\"url(#clip8400)\">\n",
       "<text style=\"fill:#000000; fill-opacity:1; font-family:Arial,Helvetica Neue,Helvetica,sans-serif; font-size:12; text-anchor:end;\" transform=\"rotate(0, 42.2225, 171.115)\" x=\"42.2225\" y=\"171.115\">0.2</text>\n",
       "</g>\n",
       "<g clip-path=\"url(#clip8400)\">\n",
       "<text style=\"fill:#000000; fill-opacity:1; font-family:Arial,Helvetica Neue,Helvetica,sans-serif; font-size:12; text-anchor:end;\" transform=\"rotate(0, 42.2225, 74.3626)\" x=\"42.2225\" y=\"74.3626\">0.3</text>\n",
       "</g>\n",
       "<g clip-path=\"url(#clip8400)\">\n",
       "<text style=\"fill:#000000; fill-opacity:1; font-family:Arial,Helvetica Neue,Helvetica,sans-serif; font-size:16; text-anchor:middle;\" transform=\"rotate(0, 314.269, 397.6)\" x=\"314.269\" y=\"397.6\">Epochs</text>\n",
       "</g>\n",
       "<g clip-path=\"url(#clip8400)\">\n",
       "<text style=\"fill:#000000; fill-opacity:1; font-family:Arial,Helvetica Neue,Helvetica,sans-serif; font-size:16; text-anchor:middle;\" transform=\"rotate(-90, 14.4, 185.966)\" x=\"14.4\" y=\"185.966\">Loss</text>\n",
       "</g>\n",
       "<polyline clip-path=\"url(#clip8402)\" style=\"stroke:#009af9; stroke-width:5; stroke-opacity:1; fill:none\" points=\"\n",
       "  48.2225,-16.9282 57.241,26.3748 66.2596,45.6143 75.2781,57.1777 84.2966,65.1316 93.3151,71.0499 102.334,75.6889 111.352,79.4621 120.371,82.6169 129.389,85.3114 \n",
       "  138.408,87.6528 147.426,89.715 156.445,91.5525 165.463,93.2056 174.482,94.705 183.5,96.0746 192.519,97.3334 201.537,98.4968 210.556,99.5775 219.574,100.585 \n",
       "  228.593,101.528 237.611,102.414 246.63,103.248 255.648,104.037 264.667,104.785 273.685,105.494 282.704,106.17 291.722,106.814 300.741,107.429 309.759,108.017 \n",
       "  318.778,108.581 327.797,109.123 336.815,109.643 345.834,110.144 354.852,110.626 363.871,111.092 372.889,111.541 381.908,111.975 390.926,112.396 399.945,112.802 \n",
       "  408.963,113.197 417.982,113.579 427,113.95 436.019,114.311 445.037,114.661 454.056,115.002 463.074,115.333 472.093,115.656 481.111,115.97 490.13,116.277 \n",
       "  499.148,116.576 508.167,116.868 517.185,117.152 526.204,117.43 535.222,117.702 544.241,117.968 553.259,118.228 562.278,118.482 571.296,118.73 580.315,118.974 \n",
       "  \n",
       "  \"/>\n",
       "<polyline clip-path=\"url(#clip8402)\" style=\"stroke:#e26f46; stroke-width:5; stroke-opacity:1; fill:none\" points=\"\n",
       "  48.2225,2.72141 57.241,41.8278 66.2596,57.99 75.2781,67.1398 84.2966,73.1113 93.3151,77.3484 102.334,80.5274 111.352,83.0104 120.371,85.0097 129.389,86.6583 \n",
       "  138.408,88.0436 147.426,89.2261 156.445,90.2486 165.463,91.1424 174.482,91.931 183.5,92.6324 192.519,93.2607 201.537,93.8267 210.556,94.3395 219.574,94.8062 \n",
       "  228.593,95.2331 237.611,95.6244 246.63,95.985 255.648,96.3179 264.667,96.6261 273.685,96.9124 282.704,97.1786 291.722,97.4271 300.741,97.659 309.759,97.8762 \n",
       "  318.778,98.0798 327.797,98.2708 336.815,98.4503 345.834,98.6195 354.852,98.7788 363.871,98.9288 372.889,99.0704 381.908,99.2044 390.926,99.3309 399.945,99.4507 \n",
       "  408.963,99.5641 417.982,99.6714 427,99.7731 436.019,99.8693 445.037,99.9608 454.056,100.047 463.074,100.13 472.093,100.208 481.111,100.282 490.13,100.352 \n",
       "  499.148,100.418 508.167,100.482 517.185,100.542 526.204,100.599 535.222,100.653 544.241,100.704 553.259,100.752 562.278,100.798 571.296,100.842 580.315,100.883 \n",
       "  \n",
       "  \"/>\n",
       "<polyline clip-path=\"url(#clip8402)\" style=\"stroke:#3da44d; stroke-width:5; stroke-opacity:1; fill:none\" points=\"\n",
       "  48.2225,62.3029 57.241,133.066 66.2596,172.149 75.2781,198.5 84.2966,217.55 93.3151,231.915 102.334,243.151 111.352,252.374 120.371,260.049 129.389,266.517 \n",
       "  138.408,271.955 147.426,276.892 156.445,281.227 165.463,285.173 174.482,288.616 183.5,291.994 192.519,295.101 201.537,297.581 210.556,300.439 219.574,302.73 \n",
       "  228.593,305.128 237.611,307.477 246.63,309.041 255.648,310.904 264.667,312.676 273.685,314.366 282.704,316.026 291.722,317.416 300.741,318.921 309.759,320.13 \n",
       "  318.778,321.835 327.797,322.807 336.815,324.23 345.834,325.307 354.852,326.531 363.871,327.661 372.889,328.651 381.908,329.636 390.926,330.82 399.945,331.782 \n",
       "  408.963,332.965 417.982,333.471 427,334.615 436.019,335.292 445.037,336.116 454.056,336.896 463.074,337.74 472.093,338.43 481.111,339.107 490.13,339.826 \n",
       "  499.148,340.568 508.167,341.159 517.185,341.71 526.204,342.21 535.222,342.91 544.241,343.254 553.259,343.738 562.278,344.212 571.296,344.77 580.315,345.097 \n",
       "  \n",
       "  \"/>\n",
       "<polyline clip-path=\"url(#clip8402)\" style=\"stroke:#c271d2; stroke-width:5; stroke-opacity:1; fill:none\" points=\"\n",
       "  48.2225,66.9655 57.241,132.834 66.2596,170.134 75.2781,194.754 84.2966,211.821 93.3151,223.625 102.334,232.333 111.352,238.938 120.371,244.381 129.389,248.716 \n",
       "  138.408,252.201 147.426,255.212 156.445,257.64 165.463,259.705 174.482,261.239 183.5,262.832 192.519,264.239 201.537,265.073 210.556,266.079 219.574,266.873 \n",
       "  228.593,267.645 237.611,268.495 246.63,268.569 255.648,268.997 264.667,269.429 273.685,269.734 282.704,270.124 291.722,270.236 300.741,270.479 309.759,270.406 \n",
       "  318.778,270.996 327.797,270.773 336.815,271.023 345.834,271.099 354.852,271.263 363.871,271.205 372.889,270.978 381.908,271.028 390.926,271.168 399.945,271.102 \n",
       "  408.963,271.441 417.982,270.558 427,271.061 436.019,270.547 445.037,270.648 454.056,270.463 463.074,270.552 472.093,270.182 481.111,270.03 490.13,270.146 \n",
       "  499.148,269.813 508.167,269.865 517.185,269.654 526.204,269.318 535.222,269.237 544.241,268.703 553.259,268.572 562.278,268.087 571.296,268.183 580.315,267.702 \n",
       "  \n",
       "  \"/>\n",
       "<polygon clip-path=\"url(#clip8400)\" points=\"\n",
       "447.479,108.291 562.315,108.291 562.315,32.691 447.479,32.691 \n",
       "  \" fill=\"#ffffff\" fill-opacity=\"1\"/>\n",
       "<polyline clip-path=\"url(#clip8400)\" style=\"stroke:#000000; stroke-width:1; stroke-opacity:1; fill:none\" points=\"\n",
       "  447.479,108.291 562.315,108.291 562.315,32.691 447.479,32.691 447.479,108.291 \n",
       "  \"/>\n",
       "<polyline clip-path=\"url(#clip8400)\" style=\"stroke:#009af9; stroke-width:5; stroke-opacity:1; fill:none\" points=\"\n",
       "  453.479,47.811 489.479,47.811 \n",
       "  \"/>\n",
       "<g clip-path=\"url(#clip8400)\">\n",
       "<text style=\"fill:#000000; fill-opacity:1; font-family:Arial,Helvetica Neue,Helvetica,sans-serif; font-size:12; text-anchor:start;\" transform=\"rotate(0, 495.479, 52.311)\" x=\"495.479\" y=\"52.311\">trnsoftloss</text>\n",
       "</g>\n",
       "<polyline clip-path=\"url(#clip8400)\" style=\"stroke:#e26f46; stroke-width:5; stroke-opacity:1; fill:none\" points=\"\n",
       "  453.479,62.931 489.479,62.931 \n",
       "  \"/>\n",
       "<g clip-path=\"url(#clip8400)\">\n",
       "<text style=\"fill:#000000; fill-opacity:1; font-family:Arial,Helvetica Neue,Helvetica,sans-serif; font-size:12; text-anchor:start;\" transform=\"rotate(0, 495.479, 67.431)\" x=\"495.479\" y=\"67.431\">tstsoftloss</text>\n",
       "</g>\n",
       "<polyline clip-path=\"url(#clip8400)\" style=\"stroke:#3da44d; stroke-width:5; stroke-opacity:1; fill:none\" points=\"\n",
       "  453.479,78.051 489.479,78.051 \n",
       "  \"/>\n",
       "<g clip-path=\"url(#clip8400)\">\n",
       "<text style=\"fill:#000000; fill-opacity:1; font-family:Arial,Helvetica Neue,Helvetica,sans-serif; font-size:12; text-anchor:start;\" transform=\"rotate(0, 495.479, 82.551)\" x=\"495.479\" y=\"82.551\">trnmlploss</text>\n",
       "</g>\n",
       "<polyline clip-path=\"url(#clip8400)\" style=\"stroke:#c271d2; stroke-width:5; stroke-opacity:1; fill:none\" points=\"\n",
       "  453.479,93.171 489.479,93.171 \n",
       "  \"/>\n",
       "<g clip-path=\"url(#clip8400)\">\n",
       "<text style=\"fill:#000000; fill-opacity:1; font-family:Arial,Helvetica Neue,Helvetica,sans-serif; font-size:12; text-anchor:start;\" transform=\"rotate(0, 495.479, 97.671)\" x=\"495.479\" y=\"97.671\">tstmlploss</text>\n",
       "</g>\n",
       "</svg>\n"
      ]
     },
     "execution_count": 50,
     "metadata": {},
     "output_type": "execute_result"
    }
   ],
   "source": [
    "plot([trnsoftloss tstsoftloss trnmlploss tstmlploss],\n",
    "    xlabel=\"Epochs\",ylabel=\"Loss\",linewidth=5,ylim=(.0,.36),\n",
    "    labels=[:trnsoftloss :tstsoftloss :trnmlploss :tstmlploss]) "
   ]
  },
  {
   "cell_type": "markdown",
   "metadata": {},
   "source": [
    "## Compare MLP error with softmax error"
   ]
  },
  {
   "cell_type": "code",
   "execution_count": 51,
   "metadata": {},
   "outputs": [
    {
     "name": "stdout",
     "output_type": "stream",
     "text": [
      " 10.386532 seconds (5.31 M allocations: 13.793 GiB, 12.48% gc time)\n",
      "  1.744261 seconds (892.73 k allocations: 2.299 GiB, 12.66% gc time)\n"
     ]
    }
   ],
   "source": [
    "@time trnmlperr = [ 1-accuracy(w,dtrn,predict) for w in mlpmodels ]; # ~13 seconds\n",
    "@time tstmlperr = [ 1-accuracy(w,dtst,predict) for w in mlpmodels ]; # ~2 seconds"
   ]
  },
  {
   "cell_type": "code",
   "execution_count": 53,
   "metadata": {
    "scrolled": false
   },
   "outputs": [
    {
     "data": {
      "image/svg+xml": [
       "<?xml version=\"1.0\" encoding=\"utf-8\"?>\n",
       "<svg xmlns=\"http://www.w3.org/2000/svg\" xmlns:xlink=\"http://www.w3.org/1999/xlink\" width=\"600\" height=\"400\" viewBox=\"0 0 600 400\">\n",
       "<defs>\n",
       "  <clipPath id=\"clip8800\">\n",
       "    <rect x=\"0\" y=\"0\" width=\"600\" height=\"400\"/>\n",
       "  </clipPath>\n",
       "</defs>\n",
       "<polygon clip-path=\"url(#clip8800)\" points=\"\n",
       "0,400 600,400 600,0 0,0 \n",
       "  \" fill=\"#ffffff\" fill-opacity=\"1\"/>\n",
       "<defs>\n",
       "  <clipPath id=\"clip8801\">\n",
       "    <rect x=\"120\" y=\"0\" width=\"421\" height=\"400\"/>\n",
       "  </clipPath>\n",
       "</defs>\n",
       "<polygon clip-path=\"url(#clip8800)\" points=\"\n",
       "54.9131,360.121 580.315,360.121 580.315,11.811 54.9131,11.811 \n",
       "  \" fill=\"#ffffff\" fill-opacity=\"1\"/>\n",
       "<defs>\n",
       "  <clipPath id=\"clip8802\">\n",
       "    <rect x=\"54\" y=\"11\" width=\"526\" height=\"349\"/>\n",
       "  </clipPath>\n",
       "</defs>\n",
       "<polyline clip-path=\"url(#clip8802)\" style=\"stroke:#000000; stroke-width:0.5; stroke-opacity:0.1; fill:none\" points=\"\n",
       "  135.059,360.121 135.059,11.811 \n",
       "  \"/>\n",
       "<polyline clip-path=\"url(#clip8802)\" style=\"stroke:#000000; stroke-width:0.5; stroke-opacity:0.1; fill:none\" points=\"\n",
       "  224.11,360.121 224.11,11.811 \n",
       "  \"/>\n",
       "<polyline clip-path=\"url(#clip8802)\" style=\"stroke:#000000; stroke-width:0.5; stroke-opacity:0.1; fill:none\" points=\"\n",
       "  313.161,360.121 313.161,11.811 \n",
       "  \"/>\n",
       "<polyline clip-path=\"url(#clip8802)\" style=\"stroke:#000000; stroke-width:0.5; stroke-opacity:0.1; fill:none\" points=\"\n",
       "  402.213,360.121 402.213,11.811 \n",
       "  \"/>\n",
       "<polyline clip-path=\"url(#clip8802)\" style=\"stroke:#000000; stroke-width:0.5; stroke-opacity:0.1; fill:none\" points=\"\n",
       "  491.264,360.121 491.264,11.811 \n",
       "  \"/>\n",
       "<polyline clip-path=\"url(#clip8802)\" style=\"stroke:#000000; stroke-width:0.5; stroke-opacity:0.1; fill:none\" points=\"\n",
       "  580.315,360.121 580.315,11.811 \n",
       "  \"/>\n",
       "<polyline clip-path=\"url(#clip8802)\" style=\"stroke:#000000; stroke-width:0.5; stroke-opacity:0.1; fill:none\" points=\"\n",
       "  54.9131,360.121 580.315,360.121 \n",
       "  \"/>\n",
       "<polyline clip-path=\"url(#clip8802)\" style=\"stroke:#000000; stroke-width:0.5; stroke-opacity:0.1; fill:none\" points=\"\n",
       "  54.9131,290.459 580.315,290.459 \n",
       "  \"/>\n",
       "<polyline clip-path=\"url(#clip8802)\" style=\"stroke:#000000; stroke-width:0.5; stroke-opacity:0.1; fill:none\" points=\"\n",
       "  54.9131,220.797 580.315,220.797 \n",
       "  \"/>\n",
       "<polyline clip-path=\"url(#clip8802)\" style=\"stroke:#000000; stroke-width:0.5; stroke-opacity:0.1; fill:none\" points=\"\n",
       "  54.9131,151.135 580.315,151.135 \n",
       "  \"/>\n",
       "<polyline clip-path=\"url(#clip8802)\" style=\"stroke:#000000; stroke-width:0.5; stroke-opacity:0.1; fill:none\" points=\"\n",
       "  54.9131,81.4729 580.315,81.4729 \n",
       "  \"/>\n",
       "<polyline clip-path=\"url(#clip8802)\" style=\"stroke:#000000; stroke-width:0.5; stroke-opacity:0.1; fill:none\" points=\"\n",
       "  54.9131,11.811 580.315,11.811 \n",
       "  \"/>\n",
       "<polyline clip-path=\"url(#clip8800)\" style=\"stroke:#000000; stroke-width:1; stroke-opacity:1; fill:none\" points=\"\n",
       "  54.9131,360.121 580.315,360.121 \n",
       "  \"/>\n",
       "<polyline clip-path=\"url(#clip8800)\" style=\"stroke:#000000; stroke-width:1; stroke-opacity:1; fill:none\" points=\"\n",
       "  54.9131,360.121 54.9131,11.811 \n",
       "  \"/>\n",
       "<polyline clip-path=\"url(#clip8800)\" style=\"stroke:#000000; stroke-width:1; stroke-opacity:1; fill:none\" points=\"\n",
       "  135.059,360.121 135.059,354.896 \n",
       "  \"/>\n",
       "<polyline clip-path=\"url(#clip8800)\" style=\"stroke:#000000; stroke-width:1; stroke-opacity:1; fill:none\" points=\"\n",
       "  224.11,360.121 224.11,354.896 \n",
       "  \"/>\n",
       "<polyline clip-path=\"url(#clip8800)\" style=\"stroke:#000000; stroke-width:1; stroke-opacity:1; fill:none\" points=\"\n",
       "  313.161,360.121 313.161,354.896 \n",
       "  \"/>\n",
       "<polyline clip-path=\"url(#clip8800)\" style=\"stroke:#000000; stroke-width:1; stroke-opacity:1; fill:none\" points=\"\n",
       "  402.213,360.121 402.213,354.896 \n",
       "  \"/>\n",
       "<polyline clip-path=\"url(#clip8800)\" style=\"stroke:#000000; stroke-width:1; stroke-opacity:1; fill:none\" points=\"\n",
       "  491.264,360.121 491.264,354.896 \n",
       "  \"/>\n",
       "<polyline clip-path=\"url(#clip8800)\" style=\"stroke:#000000; stroke-width:1; stroke-opacity:1; fill:none\" points=\"\n",
       "  580.315,360.121 580.315,354.896 \n",
       "  \"/>\n",
       "<polyline clip-path=\"url(#clip8800)\" style=\"stroke:#000000; stroke-width:1; stroke-opacity:1; fill:none\" points=\"\n",
       "  54.9131,360.121 62.7941,360.121 \n",
       "  \"/>\n",
       "<polyline clip-path=\"url(#clip8800)\" style=\"stroke:#000000; stroke-width:1; stroke-opacity:1; fill:none\" points=\"\n",
       "  54.9131,290.459 62.7941,290.459 \n",
       "  \"/>\n",
       "<polyline clip-path=\"url(#clip8800)\" style=\"stroke:#000000; stroke-width:1; stroke-opacity:1; fill:none\" points=\"\n",
       "  54.9131,220.797 62.7941,220.797 \n",
       "  \"/>\n",
       "<polyline clip-path=\"url(#clip8800)\" style=\"stroke:#000000; stroke-width:1; stroke-opacity:1; fill:none\" points=\"\n",
       "  54.9131,151.135 62.7941,151.135 \n",
       "  \"/>\n",
       "<polyline clip-path=\"url(#clip8800)\" style=\"stroke:#000000; stroke-width:1; stroke-opacity:1; fill:none\" points=\"\n",
       "  54.9131,81.4729 62.7941,81.4729 \n",
       "  \"/>\n",
       "<polyline clip-path=\"url(#clip8800)\" style=\"stroke:#000000; stroke-width:1; stroke-opacity:1; fill:none\" points=\"\n",
       "  54.9131,11.811 62.7941,11.811 \n",
       "  \"/>\n",
       "<g clip-path=\"url(#clip8800)\">\n",
       "<text style=\"fill:#000000; fill-opacity:1; font-family:Arial,Helvetica Neue,Helvetica,sans-serif; font-size:12; text-anchor:middle;\" transform=\"rotate(0, 135.059, 373.921)\" x=\"135.059\" y=\"373.921\">10</text>\n",
       "</g>\n",
       "<g clip-path=\"url(#clip8800)\">\n",
       "<text style=\"fill:#000000; fill-opacity:1; font-family:Arial,Helvetica Neue,Helvetica,sans-serif; font-size:12; text-anchor:middle;\" transform=\"rotate(0, 224.11, 373.921)\" x=\"224.11\" y=\"373.921\">20</text>\n",
       "</g>\n",
       "<g clip-path=\"url(#clip8800)\">\n",
       "<text style=\"fill:#000000; fill-opacity:1; font-family:Arial,Helvetica Neue,Helvetica,sans-serif; font-size:12; text-anchor:middle;\" transform=\"rotate(0, 313.161, 373.921)\" x=\"313.161\" y=\"373.921\">30</text>\n",
       "</g>\n",
       "<g clip-path=\"url(#clip8800)\">\n",
       "<text style=\"fill:#000000; fill-opacity:1; font-family:Arial,Helvetica Neue,Helvetica,sans-serif; font-size:12; text-anchor:middle;\" transform=\"rotate(0, 402.213, 373.921)\" x=\"402.213\" y=\"373.921\">40</text>\n",
       "</g>\n",
       "<g clip-path=\"url(#clip8800)\">\n",
       "<text style=\"fill:#000000; fill-opacity:1; font-family:Arial,Helvetica Neue,Helvetica,sans-serif; font-size:12; text-anchor:middle;\" transform=\"rotate(0, 491.264, 373.921)\" x=\"491.264\" y=\"373.921\">50</text>\n",
       "</g>\n",
       "<g clip-path=\"url(#clip8800)\">\n",
       "<text style=\"fill:#000000; fill-opacity:1; font-family:Arial,Helvetica Neue,Helvetica,sans-serif; font-size:12; text-anchor:middle;\" transform=\"rotate(0, 580.315, 373.921)\" x=\"580.315\" y=\"373.921\">60</text>\n",
       "</g>\n",
       "<g clip-path=\"url(#clip8800)\">\n",
       "<text style=\"fill:#000000; fill-opacity:1; font-family:Arial,Helvetica Neue,Helvetica,sans-serif; font-size:12; text-anchor:end;\" transform=\"rotate(0, 48.9131, 364.621)\" x=\"48.9131\" y=\"364.621\">0.00</text>\n",
       "</g>\n",
       "<g clip-path=\"url(#clip8800)\">\n",
       "<text style=\"fill:#000000; fill-opacity:1; font-family:Arial,Helvetica Neue,Helvetica,sans-serif; font-size:12; text-anchor:end;\" transform=\"rotate(0, 48.9131, 294.959)\" x=\"48.9131\" y=\"294.959\">0.02</text>\n",
       "</g>\n",
       "<g clip-path=\"url(#clip8800)\">\n",
       "<text style=\"fill:#000000; fill-opacity:1; font-family:Arial,Helvetica Neue,Helvetica,sans-serif; font-size:12; text-anchor:end;\" transform=\"rotate(0, 48.9131, 225.297)\" x=\"48.9131\" y=\"225.297\">0.04</text>\n",
       "</g>\n",
       "<g clip-path=\"url(#clip8800)\">\n",
       "<text style=\"fill:#000000; fill-opacity:1; font-family:Arial,Helvetica Neue,Helvetica,sans-serif; font-size:12; text-anchor:end;\" transform=\"rotate(0, 48.9131, 155.635)\" x=\"48.9131\" y=\"155.635\">0.06</text>\n",
       "</g>\n",
       "<g clip-path=\"url(#clip8800)\">\n",
       "<text style=\"fill:#000000; fill-opacity:1; font-family:Arial,Helvetica Neue,Helvetica,sans-serif; font-size:12; text-anchor:end;\" transform=\"rotate(0, 48.9131, 85.9729)\" x=\"48.9131\" y=\"85.9729\">0.08</text>\n",
       "</g>\n",
       "<g clip-path=\"url(#clip8800)\">\n",
       "<text style=\"fill:#000000; fill-opacity:1; font-family:Arial,Helvetica Neue,Helvetica,sans-serif; font-size:12; text-anchor:end;\" transform=\"rotate(0, 48.9131, 16.311)\" x=\"48.9131\" y=\"16.311\">0.10</text>\n",
       "</g>\n",
       "<g clip-path=\"url(#clip8800)\">\n",
       "<text style=\"fill:#000000; fill-opacity:1; font-family:Arial,Helvetica Neue,Helvetica,sans-serif; font-size:16; text-anchor:middle;\" transform=\"rotate(0, 317.614, 397.6)\" x=\"317.614\" y=\"397.6\">Epochs</text>\n",
       "</g>\n",
       "<g clip-path=\"url(#clip8800)\">\n",
       "<text style=\"fill:#000000; fill-opacity:1; font-family:Arial,Helvetica Neue,Helvetica,sans-serif; font-size:16; text-anchor:middle;\" transform=\"rotate(-90, 14.4, 185.966)\" x=\"14.4\" y=\"185.966\">Error</text>\n",
       "</g>\n",
       "<polyline clip-path=\"url(#clip8802)\" style=\"stroke:#009af9; stroke-width:1; stroke-opacity:1; fill:none\" points=\"\n",
       "  54.9131,-22.6136 63.8182,16.5132 72.7233,37.4698 81.6285,50.3573 90.5336,59.007 99.4387,64.4638 108.344,68.8177 117.249,72.5911 126.154,77.061 135.059,79.6153 \n",
       "  143.964,82.4018 152.869,84.1433 161.775,87.104 170.68,89.6582 179.585,90.9354 188.49,92.735 197.395,93.896 206.3,95.1151 215.205,96.0439 224.11,97.3791 \n",
       "  233.015,98.9465 241.921,99.7592 250.826,100.572 259.731,101.327 268.636,102.255 277.541,103.416 286.446,103.591 295.351,104.577 304.256,105.448 313.161,106.203 \n",
       "  322.067,106.783 330.972,107.074 339.877,107.712 348.782,108.061 357.687,108.815 366.592,109.512 375.497,110.092 384.402,110.499 393.308,111.195 402.213,111.776 \n",
       "  411.118,112.008 420.023,112.298 428.928,113.169 437.833,113.982 446.738,114.214 455.643,114.678 464.548,114.911 473.454,115.375 482.359,115.607 491.264,115.665 \n",
       "  500.169,115.956 509.074,116.652 517.979,116.884 526.884,117.001 535.789,117.233 544.694,117.523 553.6,117.871 562.505,117.929 571.41,118.51 580.315,119.148 \n",
       "  \n",
       "  \"/>\n",
       "<polyline clip-path=\"url(#clip8802)\" style=\"stroke:#e26f46; stroke-width:1; stroke-opacity:1; fill:none\" points=\"\n",
       "  54.9131,8.32793 63.8182,42.114 72.7233,53.9565 81.6285,62.6642 90.5336,66.4956 99.4387,71.372 108.344,72.0686 117.249,74.8551 126.154,77.9899 135.059,80.7763 \n",
       "  143.964,82.8662 152.869,83.2145 161.775,84.2594 170.68,84.956 179.585,86.001 188.49,83.9111 197.395,83.5628 206.3,84.6077 215.205,83.9111 224.11,84.2594 \n",
       "  233.015,85.6527 241.921,85.6527 250.826,86.6976 259.731,86.6976 268.636,88.0908 277.541,89.1358 286.446,90.1807 295.351,91.5739 304.256,92.2705 313.161,92.6189 \n",
       "  322.067,92.6189 330.972,92.6189 339.877,92.9672 348.782,92.6189 357.687,92.9672 366.592,94.3604 375.497,94.7087 384.402,94.3604 393.308,94.3604 402.213,94.7087 \n",
       "  411.118,95.057 420.023,95.057 428.928,95.057 437.833,94.7087 446.738,94.7087 455.643,94.7087 464.548,95.057 473.454,94.3604 482.359,93.3155 491.264,93.6638 \n",
       "  500.169,94.0121 509.074,94.0121 517.979,94.3604 526.884,94.3604 535.789,94.7087 544.694,94.3604 553.6,94.3604 562.505,95.057 571.41,95.057 580.315,95.7536 \n",
       "  \n",
       "  \"/>\n",
       "<polyline clip-path=\"url(#clip8802)\" style=\"stroke:#3da44d; stroke-width:1; stroke-opacity:1; fill:none\" points=\"\n",
       "  54.9131,35.3219 63.8182,119.729 72.7233,164.313 81.6285,192.177 90.5336,212.902 99.4387,228.518 108.344,238.619 117.249,248.081 126.154,256.15 135.059,261.607 \n",
       "  143.964,266.948 152.869,271.65 161.775,276.759 170.68,280.764 179.585,284.886 188.49,288.601 197.395,291.62 206.3,294.348 215.205,296.264 224.11,299.515 \n",
       "  233.015,302.301 241.921,304.507 250.826,306.597 259.731,308.455 268.636,310.254 277.541,311.938 286.446,313.621 295.351,314.84 304.256,316.059 313.161,317.221 \n",
       "  322.067,319.078 330.972,320.123 339.877,321.632 348.782,323.548 357.687,325.638 366.592,327.38 375.497,328.541 384.402,330.224 393.308,332.314 402.213,333.127 \n",
       "  411.118,334.81 420.023,334.868 428.928,336.842 437.833,337.887 446.738,338.525 455.643,339.803 464.548,340.325 473.454,341.196 482.359,342.183 491.264,343.402 \n",
       "  500.169,344.389 509.074,345.201 517.979,345.317 526.884,345.898 535.789,346.885 544.694,346.653 553.6,347.698 562.505,348.278 571.41,349.149 580.315,349.555 \n",
       "  \n",
       "  \"/>\n",
       "<polyline clip-path=\"url(#clip8802)\" style=\"stroke:#c271d2; stroke-width:1; stroke-opacity:1; fill:none\" points=\"\n",
       "  54.9131,44.5521 63.8182,119.439 72.7233,156.011 81.6285,181.438 90.5336,201.291 99.4387,211.741 108.344,219.752 117.249,230.549 126.154,239.954 135.059,243.089 \n",
       "  143.964,245.527 152.869,251.796 161.775,253.19 170.68,254.931 179.585,254.931 188.49,254.235 197.395,258.066 206.3,256.673 215.205,258.763 224.11,261.897 \n",
       "  233.015,262.594 241.921,264.684 250.826,265.032 259.731,265.032 268.636,265.729 277.541,267.47 286.446,267.122 295.351,267.47 304.256,268.167 313.161,269.56 \n",
       "  322.067,269.56 330.972,268.167 339.877,269.56 348.782,268.864 357.687,269.212 366.592,268.864 375.497,266.425 384.402,267.47 393.308,268.167 402.213,267.47 \n",
       "  411.118,267.47 420.023,265.729 428.928,267.819 437.833,265.729 446.738,266.077 455.643,266.077 464.548,266.774 473.454,265.38 482.359,264.336 491.264,265.38 \n",
       "  500.169,265.032 509.074,264.684 517.979,264.336 526.884,263.987 535.789,266.077 544.694,265.38 553.6,266.425 562.505,264.684 571.41,265.38 580.315,266.425 \n",
       "  \n",
       "  \"/>\n",
       "<polygon clip-path=\"url(#clip8800)\" points=\"\n",
       "454.169,108.291 562.315,108.291 562.315,32.691 454.169,32.691 \n",
       "  \" fill=\"#ffffff\" fill-opacity=\"1\"/>\n",
       "<polyline clip-path=\"url(#clip8800)\" style=\"stroke:#000000; stroke-width:1; stroke-opacity:1; fill:none\" points=\"\n",
       "  454.169,108.291 562.315,108.291 562.315,32.691 454.169,32.691 454.169,108.291 \n",
       "  \"/>\n",
       "<polyline clip-path=\"url(#clip8800)\" style=\"stroke:#009af9; stroke-width:1; stroke-opacity:1; fill:none\" points=\"\n",
       "  460.169,47.811 496.169,47.811 \n",
       "  \"/>\n",
       "<g clip-path=\"url(#clip8800)\">\n",
       "<text style=\"fill:#000000; fill-opacity:1; font-family:Arial,Helvetica Neue,Helvetica,sans-serif; font-size:12; text-anchor:start;\" transform=\"rotate(0, 502.169, 52.311)\" x=\"502.169\" y=\"52.311\">trnsofterr</text>\n",
       "</g>\n",
       "<polyline clip-path=\"url(#clip8800)\" style=\"stroke:#e26f46; stroke-width:1; stroke-opacity:1; fill:none\" points=\"\n",
       "  460.169,62.931 496.169,62.931 \n",
       "  \"/>\n",
       "<g clip-path=\"url(#clip8800)\">\n",
       "<text style=\"fill:#000000; fill-opacity:1; font-family:Arial,Helvetica Neue,Helvetica,sans-serif; font-size:12; text-anchor:start;\" transform=\"rotate(0, 502.169, 67.431)\" x=\"502.169\" y=\"67.431\">tstsofterr</text>\n",
       "</g>\n",
       "<polyline clip-path=\"url(#clip8800)\" style=\"stroke:#3da44d; stroke-width:1; stroke-opacity:1; fill:none\" points=\"\n",
       "  460.169,78.051 496.169,78.051 \n",
       "  \"/>\n",
       "<g clip-path=\"url(#clip8800)\">\n",
       "<text style=\"fill:#000000; fill-opacity:1; font-family:Arial,Helvetica Neue,Helvetica,sans-serif; font-size:12; text-anchor:start;\" transform=\"rotate(0, 502.169, 82.551)\" x=\"502.169\" y=\"82.551\">trnmlperr</text>\n",
       "</g>\n",
       "<polyline clip-path=\"url(#clip8800)\" style=\"stroke:#c271d2; stroke-width:1; stroke-opacity:1; fill:none\" points=\"\n",
       "  460.169,93.171 496.169,93.171 \n",
       "  \"/>\n",
       "<g clip-path=\"url(#clip8800)\">\n",
       "<text style=\"fill:#000000; fill-opacity:1; font-family:Arial,Helvetica Neue,Helvetica,sans-serif; font-size:12; text-anchor:start;\" transform=\"rotate(0, 502.169, 97.671)\" x=\"502.169\" y=\"97.671\">tstmlperr</text>\n",
       "</g>\n",
       "</svg>\n"
      ]
     },
     "execution_count": 53,
     "metadata": {},
     "output_type": "execute_result"
    }
   ],
   "source": [
    "plot([trnsofterr tstsofterr trnmlperr tstmlperr],ylim=(.0,.10),labels=[:trnsofterr :tstsofterr :trnmlperr :tstmlperr],xlabel=\"Epochs\",ylabel=\"Error\")"
   ]
  },
  {
   "cell_type": "code",
   "execution_count": 54,
   "metadata": {},
   "outputs": [],
   "source": [
    "# Cleanup\n",
    "wmlp = mlpmodels = nothing; knetgc()"
   ]
  },
  {
   "cell_type": "markdown",
   "metadata": {},
   "source": [
    "# CNN example with MNIST (The LeNet model)"
   ]
  },
  {
   "cell_type": "code",
   "execution_count": 55,
   "metadata": {},
   "outputs": [
    {
     "data": {
      "text/plain": [
       "predict (generic function with 1 method)"
      ]
     },
     "execution_count": 55,
     "metadata": {},
     "output_type": "execute_result"
    }
   ],
   "source": [
    "# We only need to change the predict function!\n",
    "function predict(w,x) # LeNet model\n",
    "    n=length(w)-4\n",
    "    for i=1:2:n\n",
    "        x = pool(relu.(conv4(w[i],x) .+ w[i+1]))\n",
    "    end\n",
    "    for i=n+1:2:length(w)-2\n",
    "        x = relu.(w[i]*mat(x) .+ w[i+1])\n",
    "    end\n",
    "    return w[end-1]*x .+ w[end]\n",
    "end"
   ]
  },
  {
   "cell_type": "code",
   "execution_count": 57,
   "metadata": {},
   "outputs": [
    {
     "data": {
      "text/plain": [
       "4.1054115f0"
      ]
     },
     "execution_count": 57,
     "metadata": {},
     "output_type": "execute_result"
    }
   ],
   "source": [
    "wcnn=map(Atype, [ 0.1*randn(5,5,1,20),  zeros(1,1,20,1), \n",
    "                  0.1*randn(5,5,20,50), zeros(1,1,50,1),\n",
    "                  0.1*randn(500,800),  zeros(500,1),\n",
    "                  0.1*randn(10,500),  zeros(10,1) ])\n",
    "loss(wcnn, x, y)"
   ]
  },
  {
   "cell_type": "markdown",
   "metadata": {},
   "source": [
    "## Train CNN model"
   ]
  },
  {
   "cell_type": "code",
   "execution_count": null,
   "metadata": {},
   "outputs": [],
   "source": [
    "@time cnnmodels = [ copy(train!(wcnn, dtrn)) for epoch=1:60 ]; # ~127 seconds"
   ]
  },
  {
   "cell_type": "markdown",
   "metadata": {},
   "source": [
    "## Compare CNN loss with MLP"
   ]
  },
  {
   "cell_type": "code",
   "execution_count": null,
   "metadata": {},
   "outputs": [],
   "source": [
    "@time trncnnloss = [ nll(w,dtrn,predict) for w in cnnmodels ]; # ~48 seconds\n",
    "@time tstcnnloss = [ nll(w,dtst,predict) for w in cnnmodels ]; # ~8 seconds"
   ]
  },
  {
   "cell_type": "code",
   "execution_count": null,
   "metadata": {},
   "outputs": [],
   "source": [
    "plot([trnsoftloss tstsoftloss trnmlploss tstmlploss trncnnloss tstcnnloss],ylim=(.0,.36),labels=[:trnsoftloss :tstsoftloss :trnmlploss :tstmlploss :trncnnloss :tstcnnloss],xlabel=\"Epochs\",ylabel=\"Loss\") "
   ]
  },
  {
   "cell_type": "markdown",
   "metadata": {},
   "source": [
    "## Compare CNN error with MLP"
   ]
  },
  {
   "cell_type": "code",
   "execution_count": null,
   "metadata": {},
   "outputs": [],
   "source": [
    "@time trncnnerr = [ 1-accuracy(w,dtrn,predict) for w in cnnmodels ]; # ~48 seconds\n",
    "@time tstcnnerr = [ 1-accuracy(w,dtst,predict) for w in cnnmodels ]; # ~8 seconds"
   ]
  },
  {
   "cell_type": "code",
   "execution_count": null,
   "metadata": {
    "scrolled": false
   },
   "outputs": [],
   "source": [
    "plot([trnsofterr tstsofterr trnmlperr tstmlperr trncnnerr tstcnnerr],ylim=(.0,.10),labels=[:trnsofterr :tstsofterr :trnmlperr :tstmlperr :trncnnerr :tstcnnerr],xlabel=\"Epochs\",ylabel=\"Error\")"
   ]
  },
  {
   "cell_type": "code",
   "execution_count": 42,
   "metadata": {},
   "outputs": [],
   "source": [
    "# Cleanup\n",
    "wcnn = cnnmodels = nothing; knetgc()"
   ]
  },
  {
   "cell_type": "markdown",
   "metadata": {},
   "source": [
    "# Shakespeare example"
   ]
  },
  {
   "cell_type": "code",
   "execution_count": 43,
   "metadata": {},
   "outputs": [],
   "source": [
    "# Please see charlm.ipynb for training a character based language model on \"The Complete Works of William Shakespeare\""
   ]
  },
  {
   "cell_type": "markdown",
   "metadata": {},
   "source": [
    "# VGG example"
   ]
  },
  {
   "cell_type": "code",
   "execution_count": 44,
   "metadata": {},
   "outputs": [],
   "source": [
    "include(Knet.dir(\"examples/vgg/vgg.jl\"));"
   ]
  },
  {
   "cell_type": "code",
   "execution_count": null,
   "metadata": {},
   "outputs": [],
   "source": [
    "caturl = \"https://github.com/BVLC/caffe/raw/master/examples/images/cat.jpg\"\n",
    "catfile = download(caturl)\n",
    "load(catfile)"
   ]
  },
  {
   "cell_type": "code",
   "execution_count": 47,
   "metadata": {},
   "outputs": [
    {
     "name": "stdout",
     "output_type": "stream",
     "text": [
      "vgg.jl (c) Deniz Yuret, İlker Kesen, 2016. Classifying images with the VGG model from http://www.robots.ox.ac.uk/~vgg/research/very_deep.\n",
      "opts=(:atype, \"KnetArray{Float32}\")(:top, 5)(:image, \"/dev/shm/dyuret/.julia/v0.6/Knet/data/cat.jpg\")(:model, \"imagenet-vgg-verydeep-16\")\n"
     ]
    },
    {
     "name": "stderr",
     "output_type": "stream",
     "text": [
      "\u001b[1m\u001b[36mINFO: \u001b[39m\u001b[22m\u001b[36mLoading imagenet-vgg-verydeep-16.mat...\n",
      "\u001b[39m"
     ]
    },
    {
     "data": {
      "text/plain": [
       "5×2 Array{Any,2}:\n",
       " 0.27327    \"tabby, tabby cat\"        \n",
       " 0.253185   \"Egyptian cat\"            \n",
       " 0.248429   \"tiger cat\"               \n",
       " 0.060727   \"kit fox, Vulpes macrotis\"\n",
       " 0.0561707  \"red fox, Vulpes vulpes\"  "
      ]
     },
     "metadata": {},
     "output_type": "display_data"
    },
    {
     "name": "stdout",
     "output_type": "stream",
     "text": [
      "  5.173264 seconds (61.56 k allocations: 3.428 MiB, 81.30% gc time)\n"
     ]
    },
    {
     "name": "stderr",
     "output_type": "stream",
     "text": [
      "\u001b[1m\u001b[36mINFO: \u001b[39m\u001b[22m\u001b[36mClassifying\n",
      "\u001b[39m"
     ]
    },
    {
     "name": "stdout",
     "output_type": "stream",
     "text": [
      "\n"
     ]
    }
   ],
   "source": [
    "VGG.main(catfile)"
   ]
  },
  {
   "cell_type": "code",
   "execution_count": 48,
   "metadata": {},
   "outputs": [
    {
     "name": "stdout",
     "output_type": "stream",
     "text": [
      "vgg.jl (c) Deniz Yuret, İlker Kesen, 2016. Classifying images with the VGG model from http://www.robots.ox.ac.uk/~vgg/research/very_deep.\n",
      "opts=(:atype, \"KnetArray{Float32}\")(:top, 5)(:image, \"https://cvimg1.cardekho.com/p/237x156/in/mahindra/torro-25/mahindra-torro-25.jpg\")(:model, \"imagenet-vgg-verydeep-16\")\n"
     ]
    },
    {
     "name": "stderr",
     "output_type": "stream",
     "text": [
      "\u001b[1m\u001b[36mINFO: \u001b[39m\u001b[22m\u001b[36mDownloading https://cvimg1.cardekho.com/p/237x156/in/mahindra/torro-25/mahindra-torro-25.jpg\n",
      "\u001b[39m  % Total    % Received % Xferd  Average Speed   Time    Time     Time  Current\n",
      "                                 Dload  Upload   Total   Spent    Left  Speed\n",
      "100 13411  100 13411    0     0   6702      0  0:00:02  0:00:02 --:--:--  6705\n",
      "\u001b[1m\u001b[36mINFO: \u001b[39m\u001b[22m\u001b[36mClassifying\n",
      "\u001b[39m"
     ]
    },
    {
     "data": {
      "text/plain": [
       "5×2 Array{Any,2}:\n",
       " 0.899679    \"garbage truck, dustcart\"                                                   \n",
       " 0.0654105   \"moving van\"                                                                \n",
       " 0.0201083   \"crane\"                                                                     \n",
       " 0.00583589  \"trailer truck, tractor trailer, trucking rig, rig, articulated lorry, semi\"\n",
       " 0.00515393  \"snowplow, snowplough\"                                                      "
      ]
     },
     "metadata": {},
     "output_type": "display_data"
    },
    {
     "name": "stdout",
     "output_type": "stream",
     "text": [
      "  0.039080 seconds (1.85 k allocations: 90.297 KiB)\n",
      "\n"
     ]
    }
   ],
   "source": [
    "VGG.main(\"https://cvimg1.cardekho.com/p/237x156/in/mahindra/torro-25/mahindra-torro-25.jpg\")"
   ]
  },
  {
   "cell_type": "code",
   "execution_count": null,
   "metadata": {},
   "outputs": [],
   "source": []
  }
 ],
 "metadata": {
  "kernelspec": {
   "display_name": "Julia 0.6.2",
   "language": "julia",
   "name": "julia-0.6"
  },
  "language_info": {
   "file_extension": ".jl",
   "mimetype": "application/julia",
   "name": "julia",
   "version": "0.6.2"
  }
 },
 "nbformat": 4,
 "nbformat_minor": 2
}
