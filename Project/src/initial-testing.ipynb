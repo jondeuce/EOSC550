{
 "cells": [
  {
   "cell_type": "code",
   "execution_count": 1,
   "metadata": {},
   "outputs": [],
   "source": [
    "using Knet"
   ]
  },
  {
   "cell_type": "code",
   "execution_count": 2,
   "metadata": {},
   "outputs": [],
   "source": [
    "using Images, ImageView, Colors"
   ]
  },
  {
   "cell_type": "code",
   "execution_count": 3,
   "metadata": {},
   "outputs": [],
   "source": [
    "using Plots"
   ]
  },
  {
   "cell_type": "code",
   "execution_count": 251,
   "metadata": {},
   "outputs": [],
   "source": [
    "include(\"data/chi2d.jl\")\n",
    "include(\"chi2d_objectives.jl\");"
   ]
  },
  {
   "cell_type": "code",
   "execution_count": 252,
   "metadata": {},
   "outputs": [
    {
     "data": {
      "text/plain": [
       "up! (generic function with 1 method)"
      ]
     },
     "execution_count": 252,
     "metadata": {},
     "output_type": "execute_result"
    }
   ],
   "source": [
    "function up!(w,lr,dw)\n",
    "    for i in 1:length(w)\n",
    "        # dw[i] == nothing represents w[i] not being used \n",
    "        # during forward pass recording of gradient.\n",
    "        # Therefore, dw[i] is not assigned, and is nothing\n",
    "        if dw[i] ≠ nothing\n",
    "            w[i] -= lr * dw[i]\n",
    "        end\n",
    "    end    \n",
    "end"
   ]
  },
  {
   "cell_type": "code",
   "execution_count": 253,
   "metadata": {},
   "outputs": [
    {
     "data": {
      "text/plain": [
       "linesearch! (generic function with 3 methods)"
      ]
     },
     "execution_count": 253,
     "metadata": {},
     "output_type": "execute_result"
    }
   ],
   "source": [
    "function linesearch!(w,x,y,lr=.1,s=1.5)\n",
    "    #loss0 = loss(w,x,y)\n",
    "    #dw = lossgradient(w,x,y)\n",
    "    dw, loss0 = gradlossgradient(w,x,y)\n",
    "    \n",
    "    if s <= 1.0\n",
    "        up!(w,lr,dw)\n",
    "        return lr\n",
    "    end\n",
    "    \n",
    "    w0 = copy(w)\n",
    "    up!(w,lr,dw)\n",
    "    loss1 = loss(w,x,y)\n",
    "    \n",
    "    if loss1 < loss0\n",
    "        lr *= s\n",
    "    else\n",
    "        while loss1 >= loss0 || isnan(loss1) || isinf(loss1)\n",
    "            lr /= s\n",
    "            copy!(w,w0)\n",
    "            up!(w,lr,dw)\n",
    "            loss1 = loss(w,x,y)\n",
    "        end\n",
    "    end\n",
    "    \n",
    "    return lr\n",
    "end"
   ]
  },
  {
   "cell_type": "code",
   "execution_count": 254,
   "metadata": {},
   "outputs": [
    {
     "data": {
      "text/plain": [
       "train_sgd! (generic function with 1 method)"
      ]
     },
     "execution_count": 254,
     "metadata": {},
     "output_type": "execute_result"
    }
   ],
   "source": [
    "# SGD training loop\n",
    "function train_sgd!(w, data; lr=.1, s=-1.0)\n",
    "    for (x,y) in data\n",
    "        lr = linesearch!(w,x,y,lr,s)\n",
    "    end\n",
    "    return lr\n",
    "end"
   ]
  },
  {
   "cell_type": "code",
   "execution_count": 255,
   "metadata": {},
   "outputs": [],
   "source": [
    "# define misc. params\n",
    "seed  = 42\n",
    "Ftype = Float32\n",
    "# Atype = Array{Ftype}\n",
    "Atype = KnetArray{Ftype}\n",
    "atype = Atype\n",
    "srand(seed);"
   ]
  },
  {
   "cell_type": "code",
   "execution_count": 256,
   "metadata": {},
   "outputs": [
    {
     "data": {
      "text/plain": [
       "100"
      ]
     },
     "execution_count": 256,
     "metadata": {},
     "output_type": "execute_result"
    }
   ],
   "source": [
    "# data params\n",
    "bs = 5 # batch size\n",
    "ep = 100 # epochs"
   ]
  },
  {
   "cell_type": "code",
   "execution_count": 269,
   "metadata": {},
   "outputs": [
    {
     "name": "stderr",
     "output_type": "stream",
     "text": [
      "WARNING: redefining constant Nr\n",
      "WARNING: redefining constant Nd\n",
      "WARNING: redefining constant Nw\n",
      "WARNING: redefining constant cycle\n"
     ]
    },
    {
     "data": {
      "text/plain": [
       "(::gradfun) (generic function with 1 method)"
      ]
     },
     "execution_count": 269,
     "metadata": {},
     "output_type": "execute_result"
    }
   ],
   "source": [
    "const T  = 1 # number of \"time steps\" for xₜ\n",
    "const C  = 3 # number of fc terms\n",
    "const Nr = 7 # number of regularization terms in each fc\n",
    "const Nd = 7 # number of data fidelity terms in each fc\n",
    "const Nw = 7 # number of radial basis functions in each influence function\n",
    "const sr = 5 # size of kernel for regularization term convolutions is [sr×sr]\n",
    "const sd = 5 # size of kernel for data fidelity term convolutions is [sr×sr]\n",
    "const cycle = \"random\" # access pattern function c(t)\n",
    "\n",
    "p = params_kobler(atype=atype,seed=seed,cycle=cycle,C=C,T=T,Nr=Nr,Nd=Nd,Nw=Nw,sr=sr,sd=sd)\n",
    "weights() = weights_kobler(p)\n",
    "predict(w,x) = predict_kobler(w,x,p)\n",
    "loss(w,x,y) = loss_kobler(w,x,y,p)\n",
    "lossgradient = grad(loss)\n",
    "gradlossgradient = gradloss(loss)\n",
    "#accuracy(w,data,predict) = sum(map(d->loss(w,d[1],d[2]),data))"
   ]
  },
  {
   "cell_type": "code",
   "execution_count": 270,
   "metadata": {},
   "outputs": [],
   "source": [
    "xtrn,ytrn,xtst,ytst = chi2d(atype=atype)\n",
    "dtrn = minibatch(xtrn, ytrn, bs, xtype=atype, ytype=atype)\n",
    "dtst = minibatch(xtst, ytst, bs, xtype=atype, ytype=atype)\n",
    "w = weights();\n",
    "#prms = params(w, o)"
   ]
  },
  {
   "cell_type": "code",
   "execution_count": 271,
   "metadata": {},
   "outputs": [
    {
     "data": {
      "text/plain": [
       "1-element Array{Float32,1}:\n",
       " 340.687"
      ]
     },
     "execution_count": 271,
     "metadata": {},
     "output_type": "execute_result"
    }
   ],
   "source": [
    "# initial weights and loss\n",
    "lr = Ftype(1e-3) # learning rate\n",
    "s  = Ftype(1.5) # line search parameter\n",
    "w  = weights()\n",
    "ws = [copy(w)]\n",
    "losses = [loss(w,xtrn,ytrn)]"
   ]
  },
  {
   "cell_type": "code",
   "execution_count": 275,
   "metadata": {
    "scrolled": true
   },
   "outputs": [
    {
     "name": "stdout",
     "output_type": "stream",
     "text": [
      "  0.029335 seconds (10.47 k allocations: 438.578 KiB)\n",
      "epoch = 1, lr = 3.9018447e-5, loss = 29.22376\n",
      "  0.024014 seconds (8.93 k allocations: 379.266 KiB)\n",
      "epoch = 2, lr = 5.8527672e-5, loss = 29.10372\n",
      "  0.228763 seconds (14.70 k allocations: 505.266 KiB, 85.49% gc time)\n",
      "epoch = 3, lr = 3.9018447e-5, loss = 28.992474\n",
      "  0.022570 seconds (8.93 k allocations: 378.938 KiB)\n",
      "epoch = 4, lr = 5.8527672e-5, loss = 28.88089\n",
      "  0.024039 seconds (8.93 k allocations: 378.938 KiB)\n",
      "epoch = 5, lr = 8.779151e-5, loss = 28.862585\n",
      "  0.035691 seconds (12.07 k allocations: 501.500 KiB)\n",
      "epoch = 6, lr = 3.9018447e-5, loss = 28.73757\n",
      "  0.021900 seconds (8.93 k allocations: 378.938 KiB)\n",
      "epoch = 7, lr = 5.8527672e-5, loss = 28.634075\n",
      "  0.026843 seconds (10.47 k allocations: 438.578 KiB)\n",
      "epoch = 8, lr = 3.9018447e-5, loss = 28.519812\n",
      "  0.022163 seconds (8.93 k allocations: 378.938 KiB)\n",
      "epoch = 9, lr = 5.8527672e-5, loss = 28.421936\n",
      "  0.029672 seconds (10.51 k allocations: 440.766 KiB)\n",
      "epoch = 10, lr = 3.9018447e-5, loss = 28.316082\n",
      "  0.021915 seconds (8.93 k allocations: 378.938 KiB)\n",
      "epoch = 11, lr = 5.8527672e-5, loss = 28.223248\n",
      "  0.029855 seconds (10.47 k allocations: 438.578 KiB)\n",
      "epoch = 12, lr = 3.9018447e-5, loss = 28.12409\n",
      "  0.024066 seconds (8.93 k allocations: 378.938 KiB)\n",
      "epoch = 13, lr = 5.8527672e-5, loss = 28.035833\n",
      "  0.032542 seconds (10.52 k allocations: 441.203 KiB)\n",
      "epoch = 14, lr = 3.9018447e-5, loss = 27.94221\n",
      "  0.022117 seconds (8.93 k allocations: 378.938 KiB)\n",
      "epoch = 15, lr = 5.8527672e-5, loss = 27.858225\n",
      "  0.027489 seconds (10.47 k allocations: 438.578 KiB)\n",
      "epoch = 16, lr = 3.9018447e-5, loss = 27.769367\n",
      "  0.023156 seconds (8.93 k allocations: 378.938 KiB)\n",
      "epoch = 17, lr = 5.8527672e-5, loss = 27.689539\n",
      "  0.225110 seconds (15.03 k allocations: 511.797 KiB, 86.00% gc time)\n",
      "epoch = 18, lr = 3.9018447e-5, loss = 27.60498\n",
      "  0.024688 seconds (8.93 k allocations: 378.938 KiB)\n",
      "epoch = 19, lr = 5.8527672e-5, loss = 27.52937\n",
      "  0.028332 seconds (10.47 k allocations: 438.578 KiB)\n",
      "epoch = 20, lr = 3.9018447e-5, loss = 27.448893\n",
      "  0.023561 seconds (8.93 k allocations: 378.938 KiB)\n",
      "epoch = 21, lr = 5.8527672e-5, loss = 27.377789\n",
      "  0.229266 seconds (15.08 k allocations: 513.078 KiB, 84.93% gc time)\n",
      "epoch = 22, lr = 3.9018447e-5, loss = 27.301361\n",
      "  0.022705 seconds (8.93 k allocations: 378.938 KiB)\n",
      "epoch = 23, lr = 5.8527672e-5, loss = 27.23534\n",
      "  0.026163 seconds (10.47 k allocations: 438.578 KiB)\n",
      "epoch = 24, lr = 3.9018447e-5, loss = 27.163147\n",
      "  0.021383 seconds (8.93 k allocations: 378.938 KiB)\n",
      "epoch = 25, lr = 5.8527672e-5, loss = 27.103155\n",
      "  0.228286 seconds (15.06 k allocations: 512.234 KiB, 85.81% gc time)\n",
      "epoch = 26, lr = 3.9018447e-5, loss = 27.035625\n",
      "  0.023779 seconds (8.93 k allocations: 378.938 KiB)\n",
      "epoch = 27, lr = 5.8527672e-5, loss = 26.98318\n",
      "  0.027130 seconds (10.47 k allocations: 438.578 KiB)\n",
      "epoch = 28, lr = 3.9018447e-5, loss = 26.921015\n",
      "  0.020950 seconds (8.93 k allocations: 378.938 KiB)\n",
      "epoch = 29, lr = 5.8527672e-5, loss = 26.878418\n",
      "  0.224539 seconds (15.07 k allocations: 512.484 KiB, 86.48% gc time)\n",
      "epoch = 30, lr = 3.9018447e-5, loss = 26.822643\n",
      "  0.023364 seconds (8.93 k allocations: 378.938 KiB)\n",
      "epoch = 31, lr = 5.8527672e-5, loss = 26.793371\n",
      "  0.027077 seconds (10.47 k allocations: 438.578 KiB)\n",
      "epoch = 32, lr = 3.9018447e-5, loss = 26.7453\n",
      "  0.020723 seconds (8.93 k allocations: 378.938 KiB)\n",
      "epoch = 33, lr = 5.8527672e-5, loss = 26.73444\n",
      "  0.223311 seconds (15.07 k allocations: 512.422 KiB, 86.59% gc time)\n",
      "epoch = 34, lr = 3.9018447e-5, loss = 26.695486\n",
      "  0.028143 seconds (10.47 k allocations: 438.578 KiB)\n",
      "epoch = 35, lr = 2.6012298e-5, loss = 26.35517\n",
      "  0.022259 seconds (8.93 k allocations: 378.938 KiB)\n",
      "epoch = 36, lr = 3.9018447e-5, loss = 26.259043\n",
      "  0.020652 seconds (8.93 k allocations: 378.938 KiB)\n",
      "epoch = 37, lr = 5.8527672e-5, loss = 26.195202\n",
      "  0.223093 seconds (13.46 k allocations: 450.750 KiB, 89.28% gc time)\n",
      "epoch = 38, lr = 8.779151e-5, loss = 26.133722\n",
      "  0.032649 seconds (12.01 k allocations: 498.219 KiB)\n",
      "epoch = 39, lr = 3.9018447e-5, loss = 26.080954\n",
      "  0.020752 seconds (8.93 k allocations: 378.938 KiB)\n",
      "epoch = 40, lr = 5.8527672e-5, loss = 26.029154\n",
      "  0.030135 seconds (10.52 k allocations: 441.094 KiB)\n",
      "epoch = 41, lr = 3.9018447e-5, loss = 25.984827\n",
      "  0.224857 seconds (13.22 k allocations: 446.625 KiB, 88.24% gc time)\n",
      "epoch = 42, lr = 5.8527672e-5, loss = 25.941422\n",
      "  0.028052 seconds (10.47 k allocations: 438.578 KiB)\n",
      "epoch = 43, lr = 3.9018447e-5, loss = 25.910807\n",
      "  0.020782 seconds (8.93 k allocations: 378.938 KiB)\n",
      "epoch = 44, lr = 5.8527672e-5, loss = 25.880554\n",
      "  0.026385 seconds (10.49 k allocations: 439.672 KiB)\n",
      "epoch = 45, lr = 3.9018447e-5, loss = 25.873377\n",
      "  0.222035 seconds (13.34 k allocations: 448.016 KiB, 89.26% gc time)\n",
      "epoch = 46, lr = 5.8527672e-5, loss = 25.864147\n",
      "  0.032701 seconds (12.01 k allocations: 498.219 KiB)\n",
      "epoch = 47, lr = 2.6012298e-5, loss = 25.617626\n",
      "  0.021393 seconds (8.94 k allocations: 379.375 KiB)\n",
      "epoch = 48, lr = 3.9018447e-5, loss = 25.536083\n",
      "  0.024575 seconds (8.98 k allocations: 382.000 KiB)\n",
      "epoch = 49, lr = 5.8527672e-5, loss = 25.481852\n",
      "  0.020869 seconds (8.93 k allocations: 378.938 KiB)\n",
      "epoch = 50, lr = 8.779151e-5, loss = 25.444021\n",
      "  0.035347 seconds (12.01 k allocations: 498.219 KiB)\n",
      "epoch = 51, lr = 3.9018447e-5, loss = 25.410397\n",
      "  0.022372 seconds (8.93 k allocations: 379.266 KiB)\n",
      "epoch = 52, lr = 5.8527672e-5, loss = 25.381557\n",
      "  0.233838 seconds (15.10 k allocations: 513.531 KiB, 85.62% gc time)\n",
      "epoch = 53, lr = 3.9018447e-5, loss = 25.370445\n",
      "  0.023790 seconds (8.93 k allocations: 378.938 KiB)\n",
      "epoch = 54, lr = 5.8527672e-5, loss = 25.366615\n",
      "  0.032536 seconds (12.01 k allocations: 498.219 KiB)\n",
      "epoch = 55, lr = 2.6012298e-5, loss = 25.176846\n",
      "  0.020634 seconds (8.93 k allocations: 378.938 KiB)\n",
      "epoch = 56, lr = 3.9018447e-5, loss = 25.106165\n",
      "  0.220190 seconds (13.50 k allocations: 451.938 KiB, 88.77% gc time)\n",
      "epoch = 57, lr = 5.8527672e-5, loss = 25.057281\n",
      "  0.024325 seconds (8.93 k allocations: 378.938 KiB)\n",
      "epoch = 58, lr = 8.779151e-5, loss = 25.031315\n",
      "  0.032701 seconds (12.01 k allocations: 498.219 KiB)\n",
      "epoch = 59, lr = 3.9018447e-5, loss = 25.010323\n",
      "  0.024626 seconds (8.93 k allocations: 379.266 KiB)\n",
      "epoch = 60, lr = 5.8527672e-5, loss = 24.998974\n",
      "  0.233355 seconds (16.61 k allocations: 571.797 KiB, 84.62% gc time)\n",
      "epoch = 61, lr = 2.6012298e-5, loss = 24.864452\n",
      "  0.022373 seconds (8.93 k allocations: 378.938 KiB)\n",
      "epoch = 62, lr = 3.9018447e-5, loss = 24.806503\n",
      "  0.023431 seconds (8.93 k allocations: 378.938 KiB)\n",
      "epoch = 63, lr = 5.8527672e-5, loss = 24.760489\n",
      "  0.021043 seconds (8.93 k allocations: 379.266 KiB)\n",
      "epoch = 64, lr = 8.779151e-5, loss = 24.732777\n",
      "  0.232963 seconds (16.61 k allocations: 571.734 KiB, 84.65% gc time)\n",
      "epoch = 65, lr = 3.9018447e-5, loss = 24.71492\n",
      "  0.022938 seconds (8.93 k allocations: 378.938 KiB)\n",
      "epoch = 66, lr = 5.8527672e-5, loss = 24.709743\n",
      "  0.033357 seconds (12.03 k allocations: 498.875 KiB)\n",
      "epoch = 67, lr = 2.6012298e-5, loss = 24.583427\n",
      "  0.022184 seconds (8.96 k allocations: 380.797 KiB)\n",
      "epoch = 68, lr = 3.9018447e-5, loss = 24.526966\n",
      "  0.217872 seconds (13.44 k allocations: 449.563 KiB, 89.13% gc time)\n",
      "epoch = 69, lr = 5.8527672e-5, loss = 24.484863\n",
      "  0.024712 seconds (8.93 k allocations: 378.938 KiB)\n",
      "epoch = 70, lr = 8.779151e-5, loss = 24.472927\n",
      "  0.032829 seconds (12.01 k allocations: 498.219 KiB)\n",
      "epoch = 71, lr = 3.9018447e-5, loss = 24.470629\n",
      "  0.234387 seconds (15.05 k allocations: 512.156 KiB, 86.14% gc time)\n",
      "epoch = 72, lr = 2.6012298e-5, loss = 24.356136\n",
      "  0.023298 seconds (8.93 k allocations: 378.938 KiB)\n",
      "epoch = 73, lr = 3.9018447e-5, loss = 24.306269\n",
      "  0.023790 seconds (8.93 k allocations: 378.938 KiB)\n",
      "epoch = 74, lr = 5.8527672e-5, loss = 24.266441\n",
      "  0.024585 seconds (8.93 k allocations: 378.938 KiB)\n",
      "epoch = 75, lr = 8.779151e-5, loss = 24.258688\n",
      "  0.237638 seconds (18.14 k allocations: 631.047 KiB, 82.37% gc time)\n",
      "epoch = 76, lr = 2.6012298e-5, loss = 24.178381\n",
      "  0.020729 seconds (8.93 k allocations: 378.938 KiB)\n",
      "epoch = 77, lr = 3.9018447e-5, loss = 24.136568\n",
      "  0.020675 seconds (8.93 k allocations: 378.938 KiB)\n",
      "epoch = 78, lr = 5.8527672e-5, loss = 24.097311\n",
      "  0.021715 seconds (8.93 k allocations: 378.938 KiB)\n",
      "epoch = 79, lr = 8.779151e-5, loss = 24.077171\n"
     ]
    },
    {
     "name": "stdout",
     "output_type": "stream",
     "text": [
      "  0.233911 seconds (16.60 k allocations: 571.875 KiB, 84.71% gc time)\n",
      "epoch = 80, lr = 3.9018447e-5, loss = 24.070904\n",
      "  0.026610 seconds (10.47 k allocations: 438.578 KiB)\n",
      "epoch = 81, lr = 2.6012298e-5, loss = 23.983017\n",
      "  0.021082 seconds (8.93 k allocations: 378.938 KiB)\n",
      "epoch = 82, lr = 3.9018447e-5, loss = 23.936752\n",
      "  0.022136 seconds (8.93 k allocations: 379.266 KiB)\n",
      "epoch = 83, lr = 5.8527672e-5, loss = 23.901731\n",
      "  0.228219 seconds (15.07 k allocations: 512.156 KiB, 86.19% gc time)\n",
      "epoch = 84, lr = 3.9018447e-5, loss = 23.871256\n",
      "  0.021077 seconds (8.93 k allocations: 378.938 KiB)\n",
      "epoch = 85, lr = 5.8527672e-5, loss = 23.849491\n",
      "  0.024988 seconds (10.47 k allocations: 438.578 KiB)\n",
      "epoch = 86, lr = 3.9018447e-5, loss = 23.841259\n",
      "  0.027603 seconds (10.50 k allocations: 440.000 KiB)\n",
      "epoch = 87, lr = 2.6012298e-5, loss = 23.766195\n",
      "  0.221578 seconds (13.19 k allocations: 445.625 KiB, 88.64% gc time)\n",
      "epoch = 88, lr = 3.9018447e-5, loss = 23.723942\n",
      "  0.021566 seconds (8.93 k allocations: 378.938 KiB)\n",
      "epoch = 89, lr = 5.8527672e-5, loss = 23.691193\n",
      "  0.024680 seconds (10.47 k allocations: 438.578 KiB)\n",
      "epoch = 90, lr = 3.9018447e-5, loss = 23.663586\n",
      "  0.022527 seconds (8.95 k allocations: 380.141 KiB)\n",
      "epoch = 91, lr = 5.8527672e-5, loss = 23.646124\n",
      "  0.226965 seconds (14.80 k allocations: 506.328 KiB, 86.98% gc time)\n",
      "epoch = 92, lr = 3.9018447e-5, loss = 23.645397\n",
      "  0.024795 seconds (10.47 k allocations: 438.578 KiB)\n",
      "epoch = 93, lr = 2.6012298e-5, loss = 23.567577\n",
      "  0.022192 seconds (8.95 k allocations: 380.359 KiB)\n",
      "epoch = 94, lr = 3.9018447e-5, loss = 23.524036\n",
      "  0.024683 seconds (8.97 k allocations: 381.453 KiB)\n",
      "epoch = 95, lr = 5.8527672e-5, loss = 23.495478\n",
      "  0.026370 seconds (10.47 k allocations: 438.578 KiB)\n",
      "epoch = 96, lr = 3.9018447e-5, loss = 23.474447\n",
      "  0.020423 seconds (8.93 k allocations: 378.938 KiB)\n",
      "epoch = 97, lr = 5.8527672e-5, loss = 23.46901\n",
      "  0.032998 seconds (12.04 k allocations: 499.641 KiB)\n",
      "epoch = 98, lr = 2.6012298e-5, loss = 23.403265\n",
      "  0.226126 seconds (13.53 k allocations: 452.797 KiB, 88.60% gc time)\n",
      "epoch = 99, lr = 3.9018447e-5, loss = 23.365818\n",
      "  0.021157 seconds (8.93 k allocations: 378.938 KiB)\n",
      "epoch = 100, lr = 5.8527672e-5, loss = 23.337688\n",
      "  0.026316 seconds (10.47 k allocations: 438.578 KiB)\n",
      "epoch = 101, lr = 3.9018447e-5, loss = 23.317211\n",
      "  0.020195 seconds (8.93 k allocations: 378.938 KiB)\n",
      "epoch = 102, lr = 5.8527672e-5, loss = 23.310669\n",
      "  0.232020 seconds (16.59 k allocations: 571.219 KiB, 84.86% gc time)\n",
      "epoch = 103, lr = 2.6012298e-5, loss = 23.252075\n",
      "  0.020547 seconds (8.93 k allocations: 378.938 KiB)\n",
      "epoch = 104, lr = 3.9018447e-5, loss = 23.215445\n",
      "  0.020286 seconds (8.93 k allocations: 378.938 KiB)\n",
      "epoch = 105, lr = 5.8527672e-5, loss = 23.189533\n",
      "  0.027232 seconds (10.48 k allocations: 438.906 KiB)\n",
      "epoch = 106, lr = 3.9018447e-5, loss = 23.17196\n",
      "  0.236417 seconds (15.07 k allocations: 512.156 KiB, 86.51% gc time)\n",
      "epoch = 107, lr = 2.6012298e-5, loss = 23.130234\n",
      "  0.022843 seconds (8.93 k allocations: 378.938 KiB)\n",
      "epoch = 108, lr = 3.9018447e-5, loss = 23.100399\n",
      "  0.022020 seconds (8.93 k allocations: 378.938 KiB)\n",
      "epoch = 109, lr = 5.8527672e-5, loss = 23.072475\n",
      "  0.025969 seconds (10.48 k allocations: 438.906 KiB)\n",
      "epoch = 110, lr = 3.9018447e-5, loss = 23.050144\n",
      "  0.226328 seconds (13.52 k allocations: 452.453 KiB, 88.30% gc time)\n",
      "epoch = 111, lr = 5.8527672e-5, loss = 23.039845\n",
      "  0.032584 seconds (12.01 k allocations: 498.219 KiB)\n",
      "epoch = 112, lr = 2.6012298e-5, loss = 22.992865\n",
      "  0.021182 seconds (8.93 k allocations: 378.938 KiB)\n",
      "epoch = 113, lr = 3.9018447e-5, loss = 22.961933\n",
      "  0.021616 seconds (8.93 k allocations: 379.266 KiB)\n",
      "epoch = 114, lr = 5.8527672e-5, loss = 22.937672\n",
      "  0.234270 seconds (14.70 k allocations: 505.266 KiB, 87.78% gc time)\n",
      "epoch = 115, lr = 3.9018447e-5, loss = 22.922426\n",
      "  0.026337 seconds (10.47 k allocations: 438.578 KiB)\n",
      "epoch = 116, lr = 2.6012298e-5, loss = 22.883743\n",
      "  0.021317 seconds (8.93 k allocations: 379.266 KiB)\n",
      "epoch = 117, lr = 3.9018447e-5, loss = 22.856047\n",
      "  0.023487 seconds (8.96 k allocations: 380.797 KiB)\n",
      "epoch = 118, lr = 5.8527672e-5, loss = 22.831278\n",
      "  0.228249 seconds (14.87 k allocations: 507.375 KiB, 87.09% gc time)\n",
      "epoch = 119, lr = 3.9018447e-5, loss = 22.814083\n",
      "  0.020240 seconds (8.93 k allocations: 378.938 KiB)\n",
      "epoch = 120, lr = 5.8527672e-5, loss = 22.812653\n",
      "  0.033862 seconds (12.04 k allocations: 499.750 KiB)\n",
      "epoch = 121, lr = 2.6012298e-5, loss = 22.763159\n",
      "  0.223792 seconds (13.51 k allocations: 452.844 KiB, 88.79% gc time)\n",
      "epoch = 122, lr = 3.9018447e-5, loss = 22.729864\n",
      "  0.021008 seconds (8.93 k allocations: 378.938 KiB)\n",
      "epoch = 123, lr = 5.8527672e-5, loss = 22.712727\n",
      "  0.026699 seconds (10.47 k allocations: 438.578 KiB)\n",
      "epoch = 124, lr = 3.9018447e-5, loss = 22.711002\n",
      "  0.026505 seconds (10.47 k allocations: 438.578 KiB)\n",
      "epoch = 125, lr = 2.6012298e-5, loss = 22.664478\n",
      "  0.217402 seconds (13.52 k allocations: 452.125 KiB, 88.84% gc time)\n",
      "epoch = 126, lr = 3.9018447e-5, loss = 22.632463\n",
      "  0.023159 seconds (8.93 k allocations: 378.938 KiB)\n",
      "epoch = 127, lr = 5.8527672e-5, loss = 22.616705\n",
      "  0.030572 seconds (12.01 k allocations: 498.219 KiB)\n",
      "epoch = 128, lr = 2.6012298e-5, loss = 22.585026\n",
      "  0.020336 seconds (8.93 k allocations: 379.266 KiB)\n",
      "epoch = 129, lr = 3.9018447e-5, loss = 22.560602\n",
      "  0.220629 seconds (13.51 k allocations: 452.266 KiB, 88.83% gc time)\n",
      "epoch = 130, lr = 5.8527672e-5, loss = 22.538685\n",
      "  0.027447 seconds (10.47 k allocations: 438.578 KiB)\n",
      "epoch = 131, lr = 3.9018447e-5, loss = 22.525513\n",
      "  0.026820 seconds (10.47 k allocations: 438.578 KiB)\n",
      "epoch = 132, lr = 2.6012298e-5, loss = 22.493248\n",
      "  0.020508 seconds (8.93 k allocations: 379.266 KiB)\n",
      "epoch = 133, lr = 3.9018447e-5, loss = 22.468693\n",
      "  0.222182 seconds (13.53 k allocations: 452.516 KiB, 88.83% gc time)\n",
      "epoch = 134, lr = 5.8527672e-5, loss = 22.44904\n",
      "  0.025998 seconds (10.47 k allocations: 438.578 KiB)\n",
      "epoch = 135, lr = 3.9018447e-5, loss = 22.440502\n",
      "  0.026454 seconds (10.47 k allocations: 438.578 KiB)\n",
      "epoch = 136, lr = 2.6012298e-5, loss = 22.405863\n",
      "  0.020345 seconds (8.93 k allocations: 379.266 KiB)\n",
      "epoch = 137, lr = 3.9018447e-5, loss = 22.380335\n",
      "  0.219166 seconds (13.54 k allocations: 452.672 KiB, 88.29% gc time)\n",
      "epoch = 138, lr = 5.8527672e-5, loss = 22.364265\n",
      "  0.038074 seconds (10.47 k allocations: 438.578 KiB)\n",
      "epoch = 139, lr = 3.9018447e-5, loss = 22.363823\n",
      "  0.024549 seconds (10.47 k allocations: 438.578 KiB)\n",
      "epoch = 140, lr = 2.6012298e-5, loss = 22.324009\n",
      "  0.021693 seconds (8.93 k allocations: 379.266 KiB)\n",
      "epoch = 141, lr = 3.9018447e-5, loss = 22.296148\n",
      "  0.223008 seconds (13.17 k allocations: 445.797 KiB, 89.09% gc time)\n",
      "epoch = 142, lr = 5.8527672e-5, loss = 22.286129\n",
      "  0.032060 seconds (12.01 k allocations: 498.219 KiB)\n",
      "epoch = 143, lr = 2.6012298e-5, loss = 22.25615\n",
      "  0.020487 seconds (8.94 k allocations: 379.359 KiB)\n",
      "epoch = 144, lr = 3.9018447e-5, loss = 22.232327\n",
      "  0.022789 seconds (9.00 k allocations: 381.453 KiB)\n",
      "epoch = 145, lr = 5.8527672e-5, loss = 22.21751\n",
      "  0.228347 seconds (16.41 k allocations: 567.016 KiB, 85.38% gc time)\n",
      "epoch = 146, lr = 2.6012298e-5, loss = 22.192226\n",
      "  0.021896 seconds (8.93 k allocations: 378.938 KiB)\n",
      "epoch = 147, lr = 3.9018447e-5, loss = 22.1713\n",
      "  0.020502 seconds (8.94 k allocations: 379.516 KiB)\n",
      "epoch = 148, lr = 5.8527672e-5, loss = 22.15366\n",
      "  0.227405 seconds (15.14 k allocations: 514.609 KiB, 86.26% gc time)\n",
      "epoch = 149, lr = 3.9018447e-5, loss = 22.147573\n",
      "  0.026066 seconds (10.47 k allocations: 438.578 KiB)\n",
      "epoch = 150, lr = 2.6012298e-5, loss = 22.116846\n",
      "  0.020639 seconds (8.93 k allocations: 378.938 KiB)\n",
      "epoch = 151, lr = 3.9018447e-5, loss = 22.093317\n",
      "  0.020056 seconds (8.93 k allocations: 378.938 KiB)\n",
      "epoch = 152, lr = 5.8527672e-5, loss = 22.08281\n",
      "  0.229990 seconds (16.64 k allocations: 571.969 KiB, 84.84% gc time)\n",
      "epoch = 153, lr = 2.6012298e-5, loss = 22.05681\n",
      "  0.023610 seconds (8.93 k allocations: 378.938 KiB)\n",
      "epoch = 154, lr = 3.9018447e-5, loss = 22.035244\n",
      "  0.021116 seconds (8.93 k allocations: 378.938 KiB)\n",
      "epoch = 155, lr = 5.8527672e-5, loss = 22.022388\n",
      "  0.030527 seconds (12.07 k allocations: 500.109 KiB)\n",
      "epoch = 156, lr = 2.6012298e-5, loss = 21.998783\n",
      "  0.218978 seconds (13.25 k allocations: 447.078 KiB, 89.22% gc time)\n",
      "epoch = 157, lr = 3.9018447e-5, loss = 21.978964\n",
      "  0.020811 seconds (8.93 k allocations: 378.938 KiB)\n",
      "epoch = 158, lr = 5.8527672e-5, loss = 21.964584\n",
      "  0.030557 seconds (12.01 k allocations: 498.219 KiB)\n",
      "epoch = 159, lr = 2.6012298e-5, loss = 21.943064\n",
      "  0.021032 seconds (8.97 k allocations: 380.406 KiB)\n",
      "epoch = 160, lr = 3.9018447e-5, loss = 21.92418\n"
     ]
    },
    {
     "name": "stdout",
     "output_type": "stream",
     "text": [
      "  0.221964 seconds (13.37 k allocations: 448.438 KiB, 89.19% gc time)\n",
      "epoch = 161, lr = 5.8527672e-5, loss = 21.90914\n",
      "  0.027390 seconds (10.47 k allocations: 438.578 KiB)\n",
      "epoch = 162, lr = 3.9018447e-5, loss = 21.907375\n",
      "  0.026666 seconds (10.49 k allocations: 439.156 KiB)\n",
      "epoch = 163, lr = 2.6012298e-5, loss = 21.878775\n",
      "  0.022103 seconds (9.02 k allocations: 382.547 KiB)\n",
      "epoch = 164, lr = 3.9018447e-5, loss = 21.855566\n",
      "  0.020823 seconds (8.93 k allocations: 378.938 KiB)\n",
      "epoch = 165, lr = 5.8527672e-5, loss = 21.853033\n",
      "  0.031033 seconds (12.01 k allocations: 498.219 KiB)\n",
      "epoch = 166, lr = 2.6012298e-5, loss = 21.825403\n",
      "  0.021632 seconds (8.94 k allocations: 379.359 KiB)\n",
      "epoch = 167, lr = 3.9018447e-5, loss = 21.803562\n",
      "  0.023478 seconds (9.01 k allocations: 381.891 KiB)\n",
      "epoch = 168, lr = 5.8527672e-5, loss = 21.800755\n",
      "  0.030155 seconds (12.01 k allocations: 498.219 KiB)\n",
      "epoch = 169, lr = 2.6012298e-5, loss = 21.774698\n",
      "  0.020446 seconds (8.93 k allocations: 378.938 KiB)\n",
      "epoch = 170, lr = 3.9018447e-5, loss = 21.753008\n",
      "  0.021757 seconds (8.94 k allocations: 379.359 KiB)\n",
      "epoch = 171, lr = 5.8527672e-5, loss = 21.75126\n",
      "  0.230402 seconds (16.69 k allocations: 574.016 KiB, 84.37% gc time)\n",
      "epoch = 172, lr = 2.6012298e-5, loss = 21.724985\n",
      "  0.020506 seconds (8.93 k allocations: 378.938 KiB)\n",
      "epoch = 173, lr = 3.9018447e-5, loss = 21.703909\n",
      "  0.020032 seconds (8.93 k allocations: 378.938 KiB)\n",
      "epoch = 174, lr = 5.8527672e-5, loss = 21.703718\n",
      "  0.031670 seconds (12.05 k allocations: 499.375 KiB)\n",
      "epoch = 175, lr = 2.6012298e-5, loss = 21.677917\n",
      "  0.234824 seconds (13.16 k allocations: 445.125 KiB, 90.13% gc time)\n",
      "epoch = 176, lr = 3.9018447e-5, loss = 21.656288\n",
      "  0.028968 seconds (10.47 k allocations: 438.578 KiB)\n",
      "epoch = 177, lr = 2.6012298e-5, loss = 21.63789\n",
      "  0.021896 seconds (8.93 k allocations: 378.938 KiB)\n",
      "epoch = 178, lr = 3.9018447e-5, loss = 21.621191\n",
      "  0.022610 seconds (8.96 k allocations: 380.313 KiB)\n",
      "epoch = 179, lr = 5.8527672e-5, loss = 21.61022\n",
      "  0.238885 seconds (16.34 k allocations: 565.969 KiB, 86.22% gc time)\n",
      "epoch = 180, lr = 2.6012298e-5, loss = 21.591373\n",
      "  0.021081 seconds (8.93 k allocations: 378.938 KiB)\n",
      "epoch = 181, lr = 3.9018447e-5, loss = 21.574667\n",
      "  0.022890 seconds (8.98 k allocations: 380.828 KiB)\n",
      "epoch = 182, lr = 5.8527672e-5, loss = 21.565903\n",
      "  0.234838 seconds (16.66 k allocations: 573.641 KiB, 84.21% gc time)\n",
      "epoch = 183, lr = 2.6012298e-5, loss = 21.546688\n",
      "  0.023134 seconds (8.93 k allocations: 378.938 KiB)\n",
      "epoch = 184, lr = 3.9018447e-5, loss = 21.529469\n",
      "  0.020295 seconds (8.93 k allocations: 378.938 KiB)\n",
      "epoch = 185, lr = 5.8527672e-5, loss = 21.52409\n",
      "  0.031620 seconds (12.05 k allocations: 499.375 KiB)\n",
      "epoch = 186, lr = 2.6012298e-5, loss = 21.503525\n",
      "  0.220881 seconds (13.23 k allocations: 446.797 KiB, 89.17% gc time)\n",
      "epoch = 187, lr = 3.9018447e-5, loss = 21.485851\n",
      "  0.022558 seconds (8.93 k allocations: 378.938 KiB)\n",
      "epoch = 188, lr = 5.8527672e-5, loss = 21.485157\n",
      "  0.030805 seconds (12.01 k allocations: 498.219 KiB)\n",
      "epoch = 189, lr = 2.6012298e-5, loss = 21.463314\n",
      "  0.020923 seconds (8.97 k allocations: 380.406 KiB)\n",
      "epoch = 190, lr = 3.9018447e-5, loss = 21.444187\n",
      "  0.222759 seconds (14.89 k allocations: 507.797 KiB, 87.67% gc time)\n",
      "epoch = 191, lr = 2.6012298e-5, loss = 21.427433\n",
      "  0.021504 seconds (8.93 k allocations: 378.938 KiB)\n",
      "epoch = 192, lr = 3.9018447e-5, loss = 21.41196\n",
      "  0.020705 seconds (8.93 k allocations: 378.938 KiB)\n",
      "epoch = 193, lr = 5.8527672e-5, loss = 21.405104\n",
      "  0.235401 seconds (16.70 k allocations: 574.828 KiB, 84.39% gc time)\n",
      "epoch = 194, lr = 2.6012298e-5, loss = 21.38692\n",
      "  0.020785 seconds (8.93 k allocations: 378.938 KiB)\n",
      "epoch = 195, lr = 3.9018447e-5, loss = 21.370798\n",
      "  0.020186 seconds (8.93 k allocations: 378.938 KiB)\n",
      "epoch = 196, lr = 5.8527672e-5, loss = 21.369701\n",
      "  0.031955 seconds (12.01 k allocations: 498.219 KiB)\n",
      "epoch = 197, lr = 2.6012298e-5, loss = 21.349834\n",
      "  0.221220 seconds (13.55 k allocations: 452.688 KiB, 88.26% gc time)\n",
      "epoch = 198, lr = 3.9018447e-5, loss = 21.332037\n",
      "  0.026962 seconds (10.47 k allocations: 438.578 KiB)\n",
      "epoch = 199, lr = 2.6012298e-5, loss = 21.3162\n",
      "  0.020336 seconds (8.93 k allocations: 378.938 KiB)\n",
      "epoch = 200, lr = 3.9018447e-5, loss = 21.301422\n",
      "  0.021558 seconds (8.93 k allocations: 378.938 KiB)\n",
      "epoch = 201, lr = 5.8527672e-5, loss = 21.296835\n",
      "  0.232133 seconds (16.65 k allocations: 572.625 KiB, 84.72% gc time)\n",
      "epoch = 202, lr = 2.6012298e-5, loss = 21.279118\n",
      "  0.020755 seconds (8.93 k allocations: 378.938 KiB)\n",
      "epoch = 203, lr = 3.9018447e-5, loss = 21.263363\n",
      "  0.024768 seconds (10.47 k allocations: 438.578 KiB)\n",
      "epoch = 204, lr = 2.6012298e-5, loss = 21.24865\n",
      "  0.020671 seconds (8.94 k allocations: 379.359 KiB)\n",
      "epoch = 205, lr = 3.9018447e-5, loss = 21.2349\n",
      "  0.223848 seconds (13.57 k allocations: 453.172 KiB, 88.06% gc time)\n",
      "epoch = 206, lr = 5.8527672e-5, loss = 21.228743\n",
      "  0.031215 seconds (12.01 k allocations: 498.219 KiB)\n",
      "epoch = 207, lr = 2.6012298e-5, loss = 21.21274\n",
      "  0.020525 seconds (8.93 k allocations: 378.938 KiB)\n",
      "epoch = 208, lr = 3.9018447e-5, loss = 21.197826\n",
      "  0.025822 seconds (10.53 k allocations: 440.469 KiB)\n",
      "epoch = 209, lr = 2.6012298e-5, loss = 21.18399\n",
      "  0.217592 seconds (13.19 k allocations: 445.625 KiB, 89.19% gc time)\n",
      "epoch = 210, lr = 3.9018447e-5, loss = 21.170761\n",
      "  0.020873 seconds (8.93 k allocations: 378.938 KiB)\n",
      "epoch = 211, lr = 5.8527672e-5, loss = 21.16456\n",
      "  0.029220 seconds (12.01 k allocations: 498.219 KiB)\n",
      "epoch = 212, lr = 2.6012298e-5, loss = 21.14915\n",
      "  0.022081 seconds (9.02 k allocations: 382.109 KiB)\n",
      "epoch = 213, lr = 3.9018447e-5, loss = 21.135015\n",
      "  0.026441 seconds (10.47 k allocations: 438.578 KiB)\n",
      "epoch = 214, lr = 2.6012298e-5, loss = 21.121565\n",
      "  0.020733 seconds (8.93 k allocations: 378.938 KiB)\n",
      "epoch = 215, lr = 3.9018447e-5, loss = 21.108805\n",
      "  0.020250 seconds (8.93 k allocations: 378.938 KiB)\n",
      "epoch = 216, lr = 5.8527672e-5, loss = 21.103577\n",
      "  0.232514 seconds (16.72 k allocations: 574.625 KiB, 84.20% gc time)\n",
      "epoch = 217, lr = 2.6012298e-5, loss = 21.08876\n",
      "  0.020898 seconds (8.93 k allocations: 378.938 KiB)\n",
      "epoch = 218, lr = 3.9018447e-5, loss = 21.074741\n",
      "  0.026058 seconds (10.47 k allocations: 438.578 KiB)\n",
      "epoch = 219, lr = 2.6012298e-5, loss = 21.061626\n",
      "  0.020195 seconds (8.93 k allocations: 378.938 KiB)\n",
      "epoch = 220, lr = 3.9018447e-5, loss = 21.049\n",
      "  0.020419 seconds (8.95 k allocations: 379.781 KiB)\n",
      "epoch = 221, lr = 5.8527672e-5, loss = 21.0462\n",
      "  0.030787 seconds (12.01 k allocations: 498.219 KiB)\n",
      "epoch = 222, lr = 2.6012298e-5, loss = 21.031101\n",
      "  0.021842 seconds (8.93 k allocations: 378.938 KiB)\n",
      "epoch = 223, lr = 3.9018447e-5, loss = 21.017265\n",
      "  0.026186 seconds (10.55 k allocations: 441.203 KiB)\n",
      "epoch = 224, lr = 2.6012298e-5, loss = 21.004032\n",
      "  0.220896 seconds (13.58 k allocations: 453.625 KiB, 88.60% gc time)\n",
      "epoch = 225, lr = 3.9018447e-5, loss = 20.991531\n",
      "  0.026838 seconds (10.47 k allocations: 438.578 KiB)\n",
      "epoch = 226, lr = 2.6012298e-5, loss = 20.97942\n",
      "  0.020366 seconds (8.93 k allocations: 378.938 KiB)\n",
      "epoch = 227, lr = 3.9018447e-5, loss = 20.967747\n",
      "  0.021505 seconds (8.93 k allocations: 378.938 KiB)\n",
      "epoch = 228, lr = 5.8527672e-5, loss = 20.963007\n",
      "  0.230428 seconds (16.64 k allocations: 571.969 KiB, 84.50% gc time)\n",
      "epoch = 229, lr = 2.6012298e-5, loss = 20.94965\n",
      "  0.020819 seconds (8.93 k allocations: 378.938 KiB)\n",
      "epoch = 230, lr = 3.9018447e-5, loss = 20.936787\n",
      "  0.026322 seconds (10.47 k allocations: 438.578 KiB)\n",
      "epoch = 231, lr = 2.6012298e-5, loss = 20.92461\n",
      "  0.020611 seconds (8.94 k allocations: 379.359 KiB)\n",
      "epoch = 232, lr = 3.9018447e-5, loss = 20.912767\n",
      "  0.226895 seconds (14.71 k allocations: 505.500 KiB, 87.39% gc time)\n",
      "epoch = 233, lr = 2.6012298e-5, loss = 20.901356\n",
      "  0.021024 seconds (8.93 k allocations: 378.938 KiB)\n",
      "epoch = 234, lr = 3.9018447e-5, loss = 20.890177\n",
      "  0.020298 seconds (8.93 k allocations: 378.938 KiB)\n",
      "epoch = 235, lr = 5.8527672e-5, loss = 20.885891\n",
      "  0.033134 seconds (12.14 k allocations: 502.625 KiB)\n",
      "epoch = 236, lr = 2.6012298e-5, loss = 20.873075\n",
      "  0.020132 seconds (8.93 k allocations: 378.938 KiB)\n",
      "epoch = 237, lr = 3.9018447e-5, loss = 20.860987\n",
      "  0.026498 seconds (10.47 k allocations: 438.578 KiB)\n",
      "epoch = 238, lr = 2.6012298e-5, loss = 20.849207\n",
      "  0.021678 seconds (8.93 k allocations: 378.938 KiB)\n",
      "epoch = 239, lr = 3.9018447e-5, loss = 20.837894\n"
     ]
    },
    {
     "name": "stdout",
     "output_type": "stream",
     "text": [
      "  0.027092 seconds (10.54 k allocations: 441.188 KiB)\n",
      "epoch = 240, lr = 2.6012298e-5, loss = 20.826803\n",
      "  0.020242 seconds (8.93 k allocations: 378.938 KiB)\n",
      "epoch = 241, lr = 3.9018447e-5, loss = 20.816029\n",
      "  0.021890 seconds (8.93 k allocations: 378.938 KiB)\n",
      "epoch = 242, lr = 5.8527672e-5, loss = 20.814184\n",
      "  0.031331 seconds (12.03 k allocations: 498.641 KiB)\n",
      "epoch = 243, lr = 2.6012298e-5, loss = 20.801853\n",
      "  0.023862 seconds (9.01 k allocations: 381.891 KiB)\n",
      "epoch = 244, lr = 3.9018447e-5, loss = 20.78979\n",
      "  0.024712 seconds (10.47 k allocations: 438.578 KiB)\n",
      "epoch = 245, lr = 2.6012298e-5, loss = 20.778328\n",
      "  0.020534 seconds (8.93 k allocations: 378.938 KiB)\n",
      "epoch = 246, lr = 3.9018447e-5, loss = 20.767075\n",
      "  0.027045 seconds (10.48 k allocations: 439.000 KiB)\n",
      "epoch = 247, lr = 2.6012298e-5, loss = 20.756233\n",
      "  0.220308 seconds (13.52 k allocations: 452.484 KiB, 88.11% gc time)\n",
      "epoch = 248, lr = 3.9018447e-5, loss = 20.745556\n",
      "  0.025203 seconds (10.47 k allocations: 438.578 KiB)\n",
      "epoch = 249, lr = 2.6012298e-5, loss = 20.735163\n",
      "  0.020206 seconds (8.93 k allocations: 378.938 KiB)\n",
      "epoch = 250, lr = 3.9018447e-5, loss = 20.7249\n",
      "  0.020038 seconds (8.93 k allocations: 378.938 KiB)\n",
      "epoch = 251, lr = 5.8527672e-5, loss = 20.724567\n",
      "  0.230701 seconds (16.69 k allocations: 573.656 KiB, 84.38% gc time)\n",
      "epoch = 252, lr = 2.6012298e-5, loss = 20.71274\n",
      "  0.020554 seconds (8.93 k allocations: 378.938 KiB)\n",
      "epoch = 253, lr = 3.9018447e-5, loss = 20.701544\n",
      "  0.026107 seconds (10.47 k allocations: 438.578 KiB)\n",
      "epoch = 254, lr = 2.6012298e-5, loss = 20.69047\n",
      "  0.021922 seconds (8.94 k allocations: 379.359 KiB)\n",
      "epoch = 255, lr = 3.9018447e-5, loss = 20.679848\n",
      "  0.225147 seconds (15.10 k allocations: 512.563 KiB, 87.16% gc time)\n",
      "epoch = 256, lr = 2.6012298e-5, loss = 20.669327\n",
      "  0.020504 seconds (8.93 k allocations: 378.938 KiB)\n",
      "epoch = 257, lr = 3.9018447e-5, loss = 20.659138\n",
      "  0.027263 seconds (10.47 k allocations: 438.578 KiB)\n",
      "epoch = 258, lr = 2.6012298e-5, loss = 20.649036\n",
      "  0.020345 seconds (8.94 k allocations: 379.359 KiB)\n",
      "epoch = 259, lr = 3.9018447e-5, loss = 20.63918\n",
      "  0.223357 seconds (15.11 k allocations: 512.813 KiB, 87.09% gc time)\n",
      "epoch = 260, lr = 2.6012298e-5, loss = 20.6294\n",
      "  0.020653 seconds (8.93 k allocations: 378.938 KiB)\n",
      "epoch = 261, lr = 3.9018447e-5, loss = 20.61981\n",
      "  0.026190 seconds (10.47 k allocations: 438.578 KiB)\n",
      "epoch = 262, lr = 2.6012298e-5, loss = 20.610287\n",
      "  0.020709 seconds (8.94 k allocations: 379.359 KiB)\n",
      "epoch = 263, lr = 3.9018447e-5, loss = 20.600912\n",
      "  0.222234 seconds (13.56 k allocations: 453.109 KiB, 87.89% gc time)\n",
      "epoch = 264, lr = 5.8527672e-5, loss = 20.60051\n",
      "  0.031047 seconds (12.01 k allocations: 498.219 KiB)\n",
      "epoch = 265, lr = 2.6012298e-5, loss = 20.590303\n",
      "  0.020185 seconds (8.93 k allocations: 378.938 KiB)\n",
      "epoch = 266, lr = 3.9018447e-5, loss = 20.580078\n",
      "  0.025917 seconds (10.53 k allocations: 440.469 KiB)\n",
      "epoch = 267, lr = 2.6012298e-5, loss = 20.570244\n",
      "  0.225260 seconds (13.23 k allocations: 446.188 KiB, 89.55% gc time)\n",
      "epoch = 268, lr = 3.9018447e-5, loss = 20.5604\n",
      "  0.025202 seconds (10.47 k allocations: 438.578 KiB)\n",
      "epoch = 269, lr = 2.6012298e-5, loss = 20.550867\n",
      "  0.021842 seconds (8.93 k allocations: 378.938 KiB)\n",
      "epoch = 270, lr = 3.9018447e-5, loss = 20.541332\n",
      "  0.028031 seconds (10.56 k allocations: 441.750 KiB)\n",
      "epoch = 271, lr = 2.6012298e-5, loss = 20.53205\n",
      "  0.020592 seconds (8.93 k allocations: 378.938 KiB)\n",
      "epoch = 272, lr = 3.9018447e-5, loss = 20.522768\n",
      "  0.026230 seconds (10.47 k allocations: 438.578 KiB)\n",
      "epoch = 273, lr = 2.6012298e-5, loss = 20.51369\n",
      "  0.021815 seconds (8.93 k allocations: 378.938 KiB)\n",
      "epoch = 274, lr = 3.9018447e-5, loss = 20.504623\n",
      "  0.029323 seconds (10.57 k allocations: 441.953 KiB)\n",
      "epoch = 275, lr = 2.6012298e-5, loss = 20.495724\n",
      "  0.021757 seconds (8.93 k allocations: 378.938 KiB)\n",
      "epoch = 276, lr = 3.9018447e-5, loss = 20.486837\n",
      "  0.028319 seconds (10.47 k allocations: 438.578 KiB)\n",
      "epoch = 277, lr = 2.6012298e-5, loss = 20.478094\n",
      "  0.021788 seconds (8.93 k allocations: 378.938 KiB)\n",
      "epoch = 278, lr = 3.9018447e-5, loss = 20.469364\n",
      "  0.028304 seconds (10.57 k allocations: 441.953 KiB)\n",
      "epoch = 279, lr = 2.6012298e-5, loss = 20.460758\n",
      "  0.020437 seconds (8.93 k allocations: 378.938 KiB)\n",
      "epoch = 280, lr = 3.9018447e-5, loss = 20.452168\n",
      "  0.025209 seconds (10.47 k allocations: 438.578 KiB)\n",
      "epoch = 281, lr = 2.6012298e-5, loss = 20.443686\n",
      "  0.021577 seconds (8.93 k allocations: 378.938 KiB)\n",
      "epoch = 282, lr = 3.9018447e-5, loss = 20.435219\n",
      "  0.028402 seconds (10.57 k allocations: 441.953 KiB)\n",
      "epoch = 283, lr = 2.6012298e-5, loss = 20.426853\n",
      "  0.020228 seconds (8.93 k allocations: 378.938 KiB)\n",
      "epoch = 284, lr = 3.9018447e-5, loss = 20.418497\n",
      "  0.024984 seconds (10.47 k allocations: 438.578 KiB)\n",
      "epoch = 285, lr = 2.6012298e-5, loss = 20.410236\n",
      "  0.021787 seconds (8.93 k allocations: 378.938 KiB)\n",
      "epoch = 286, lr = 3.9018447e-5, loss = 20.401987\n",
      "  0.028827 seconds (10.57 k allocations: 442.031 KiB)\n",
      "epoch = 287, lr = 2.6012298e-5, loss = 20.393824\n",
      "  0.020178 seconds (8.93 k allocations: 378.938 KiB)\n",
      "epoch = 288, lr = 3.9018447e-5, loss = 20.385674\n",
      "  0.026475 seconds (10.47 k allocations: 438.578 KiB)\n",
      "epoch = 289, lr = 2.6012298e-5, loss = 20.377605\n",
      "  0.022057 seconds (8.93 k allocations: 378.938 KiB)\n",
      "epoch = 290, lr = 3.9018447e-5, loss = 20.369547\n",
      "  0.225816 seconds (15.09 k allocations: 512.766 KiB, 86.28% gc time)\n",
      "epoch = 291, lr = 2.6012298e-5, loss = 20.361568\n",
      "  0.020630 seconds (8.93 k allocations: 378.938 KiB)\n",
      "epoch = 292, lr = 3.9018447e-5, loss = 20.353603\n",
      "  0.026208 seconds (10.47 k allocations: 438.578 KiB)\n",
      "epoch = 293, lr = 2.6012298e-5, loss = 20.345709\n",
      "  0.020067 seconds (8.93 k allocations: 378.938 KiB)\n",
      "epoch = 294, lr = 3.9018447e-5, loss = 20.33783\n",
      "  0.226647 seconds (15.16 k allocations: 514.250 KiB, 86.85% gc time)\n",
      "epoch = 295, lr = 2.6012298e-5, loss = 20.330025\n",
      "  0.020581 seconds (8.93 k allocations: 378.938 KiB)\n",
      "epoch = 296, lr = 3.9018447e-5, loss = 20.322231\n",
      "  0.026098 seconds (10.47 k allocations: 438.578 KiB)\n",
      "epoch = 297, lr = 2.6012298e-5, loss = 20.314508\n",
      "  0.020143 seconds (8.93 k allocations: 378.938 KiB)\n",
      "epoch = 298, lr = 3.9018447e-5, loss = 20.306799\n",
      "  0.225782 seconds (15.13 k allocations: 513.391 KiB, 86.95% gc time)\n",
      "epoch = 299, lr = 2.6012298e-5, loss = 20.299162\n",
      "  0.021844 seconds (8.93 k allocations: 378.938 KiB)\n",
      "epoch = 300, lr = 3.9018447e-5, loss = 20.291538\n",
      "  0.028042 seconds (10.47 k allocations: 438.578 KiB)\n",
      "epoch = 301, lr = 2.6012298e-5, loss = 20.283987\n",
      "  0.024788 seconds (8.93 k allocations: 378.938 KiB)\n",
      "epoch = 302, lr = 3.9018447e-5, loss = 20.276447\n",
      "  0.237626 seconds (15.12 k allocations: 513.141 KiB, 86.15% gc time)\n",
      "epoch = 303, lr = 2.6012298e-5, loss = 20.26898\n",
      "  0.021473 seconds (8.93 k allocations: 378.938 KiB)\n",
      "epoch = 304, lr = 3.9018447e-5, loss = 20.26153\n",
      "  0.027849 seconds (10.47 k allocations: 438.578 KiB)\n",
      "epoch = 305, lr = 2.6012298e-5, loss = 20.254154\n",
      "  0.022935 seconds (8.93 k allocations: 378.938 KiB)\n",
      "epoch = 306, lr = 3.9018447e-5, loss = 20.246792\n",
      "  0.234468 seconds (15.13 k allocations: 513.422 KiB, 86.84% gc time)\n",
      "epoch = 307, lr = 2.6012298e-5, loss = 20.239511\n",
      "  0.022243 seconds (8.93 k allocations: 378.938 KiB)\n",
      "epoch = 308, lr = 3.9018447e-5, loss = 20.232243\n",
      "  0.025570 seconds (10.47 k allocations: 438.578 KiB)\n",
      "epoch = 309, lr = 2.6012298e-5, loss = 20.22506\n",
      "  0.020094 seconds (8.93 k allocations: 378.938 KiB)\n",
      "epoch = 310, lr = 3.9018447e-5, loss = 20.21789\n",
      "  0.228702 seconds (15.14 k allocations: 513.578 KiB, 86.38% gc time)\n",
      "epoch = 311, lr = 2.6012298e-5, loss = 20.210815\n",
      "  0.022353 seconds (8.93 k allocations: 378.938 KiB)\n",
      "epoch = 312, lr = 3.9018447e-5, loss = 20.20375\n",
      "  0.024618 seconds (10.47 k allocations: 438.578 KiB)\n",
      "epoch = 313, lr = 2.6012298e-5, loss = 20.196793\n",
      "  0.020177 seconds (8.93 k allocations: 378.938 KiB)\n",
      "epoch = 314, lr = 3.9018447e-5, loss = 20.189844\n",
      "  0.226449 seconds (15.03 k allocations: 510.828 KiB, 85.84% gc time)\n",
      "epoch = 315, lr = 2.6012298e-5, loss = 20.183018\n",
      "  0.021235 seconds (8.93 k allocations: 378.938 KiB)\n",
      "epoch = 316, lr = 3.9018447e-5, loss = 20.176197\n",
      "  0.024755 seconds (10.47 k allocations: 438.578 KiB)\n",
      "epoch = 317, lr = 2.6012298e-5, loss = 20.169514\n",
      "  0.021708 seconds (8.98 k allocations: 380.828 KiB)\n",
      "epoch = 318, lr = 3.9018447e-5, loss = 20.162838\n"
     ]
    },
    {
     "name": "stdout",
     "output_type": "stream",
     "text": [
      "  0.229309 seconds (15.13 k allocations: 513.250 KiB, 86.36% gc time)\n",
      "epoch = 319, lr = 2.6012298e-5, loss = 20.15632\n",
      "  0.021865 seconds (8.93 k allocations: 378.938 KiB)\n",
      "epoch = 320, lr = 3.9018447e-5, loss = 20.14981\n",
      "  0.025211 seconds (10.47 k allocations: 438.578 KiB)\n",
      "epoch = 321, lr = 2.6012298e-5, loss = 20.143488\n",
      "  0.020702 seconds (8.94 k allocations: 379.359 KiB)\n",
      "epoch = 322, lr = 3.9018447e-5, loss = 20.137167\n",
      "  0.227854 seconds (15.11 k allocations: 512.750 KiB, 86.59% gc time)\n",
      "epoch = 323, lr = 2.6012298e-5, loss = 20.131077\n",
      "  0.021940 seconds (8.93 k allocations: 378.938 KiB)\n",
      "epoch = 324, lr = 3.9018447e-5, loss = 20.12498\n",
      "  0.026216 seconds (10.47 k allocations: 438.578 KiB)\n",
      "epoch = 325, lr = 2.6012298e-5, loss = 20.119167\n",
      "  0.020732 seconds (8.94 k allocations: 379.359 KiB)\n",
      "epoch = 326, lr = 3.9018447e-5, loss = 20.113346\n",
      "  0.227721 seconds (15.12 k allocations: 513.000 KiB, 86.36% gc time)\n",
      "epoch = 327, lr = 2.6012298e-5, loss = 20.107868\n",
      "  0.022292 seconds (8.93 k allocations: 378.938 KiB)\n",
      "epoch = 328, lr = 3.9018447e-5, loss = 20.102375\n",
      "  0.025371 seconds (10.47 k allocations: 438.578 KiB)\n",
      "epoch = 329, lr = 2.6012298e-5, loss = 20.097319\n",
      "  0.020382 seconds (8.94 k allocations: 379.359 KiB)\n",
      "epoch = 330, lr = 3.9018447e-5, loss = 20.092232\n",
      "  0.227122 seconds (15.12 k allocations: 512.938 KiB, 86.33% gc time)\n",
      "epoch = 331, lr = 2.6012298e-5, loss = 20.087698\n",
      "  0.024449 seconds (8.93 k allocations: 378.938 KiB)\n",
      "epoch = 332, lr = 3.9018447e-5, loss = 20.083118\n",
      "  0.025761 seconds (10.47 k allocations: 438.578 KiB)\n",
      "epoch = 333, lr = 2.6012298e-5, loss = 20.079256\n",
      "  0.020386 seconds (8.94 k allocations: 379.359 KiB)\n",
      "epoch = 334, lr = 3.9018447e-5, loss = 20.075312\n",
      "  0.227300 seconds (14.72 k allocations: 505.547 KiB, 86.96% gc time)\n",
      "epoch = 335, lr = 2.6012298e-5, loss = 20.072306\n",
      "  0.021827 seconds (8.93 k allocations: 378.938 KiB)\n",
      "epoch = 336, lr = 3.9018447e-5, loss = 20.069172\n",
      "  0.026476 seconds (10.48 k allocations: 439.000 KiB)\n",
      "epoch = 337, lr = 2.6012298e-5, loss = 20.067272\n",
      "  0.022037 seconds (9.00 k allocations: 381.453 KiB)\n",
      "epoch = 338, lr = 3.9018447e-5, loss = 20.065168\n",
      "  0.226524 seconds (14.87 k allocations: 507.375 KiB, 87.13% gc time)\n",
      "epoch = 339, lr = 2.6012298e-5, loss = 20.064716\n",
      "  0.023809 seconds (8.93 k allocations: 378.938 KiB)\n",
      "epoch = 340, lr = 3.9018447e-5, loss = 20.06394\n",
      "  0.032656 seconds (12.07 k allocations: 500.266 KiB)\n",
      "epoch = 341, lr = 1.7341532e-5, loss = 20.00712\n",
      "  0.231010 seconds (13.59 k allocations: 454.016 KiB, 88.26% gc time)\n",
      "epoch = 342, lr = 2.6012298e-5, loss = 19.995235\n",
      "  0.021814 seconds (8.93 k allocations: 378.938 KiB)\n",
      "epoch = 343, lr = 3.9018447e-5, loss = 19.98881\n",
      "  0.020985 seconds (8.93 k allocations: 378.938 KiB)\n",
      "epoch = 344, lr = 5.8527672e-5, loss = 19.9835\n",
      "  0.030316 seconds (12.01 k allocations: 498.219 KiB)\n",
      "epoch = 345, lr = 2.6012298e-5, loss = 19.977762\n",
      "  0.222905 seconds (13.56 k allocations: 452.828 KiB, 88.73% gc time)\n",
      "epoch = 346, lr = 3.9018447e-5, loss = 19.972118\n",
      "  0.025387 seconds (10.47 k allocations: 438.578 KiB)\n",
      "epoch = 347, lr = 2.6012298e-5, loss = 19.966686\n",
      "  0.021897 seconds (8.93 k allocations: 378.938 KiB)\n",
      "epoch = 348, lr = 3.9018447e-5, loss = 19.961365\n",
      "  0.026658 seconds (10.48 k allocations: 439.000 KiB)\n",
      "epoch = 349, lr = 2.6012298e-5, loss = 19.956333\n",
      "  0.220393 seconds (13.56 k allocations: 453.109 KiB, 88.86% gc time)\n",
      "epoch = 350, lr = 3.9018447e-5, loss = 19.951443\n",
      "  0.028081 seconds (10.47 k allocations: 438.578 KiB)\n",
      "epoch = 351, lr = 2.6012298e-5, loss = 19.946949\n",
      "  0.021701 seconds (8.93 k allocations: 378.938 KiB)\n",
      "epoch = 352, lr = 3.9018447e-5, loss = 19.94263\n",
      "  0.026790 seconds (10.48 k allocations: 439.000 KiB)\n",
      "epoch = 353, lr = 2.6012298e-5, loss = 19.938864\n",
      "  0.220604 seconds (13.58 k allocations: 453.359 KiB, 88.81% gc time)\n",
      "epoch = 354, lr = 3.9018447e-5, loss = 19.935322\n",
      "  0.026279 seconds (10.47 k allocations: 438.578 KiB)\n",
      "epoch = 355, lr = 2.6012298e-5, loss = 19.93256\n",
      "  0.023514 seconds (8.93 k allocations: 378.938 KiB)\n",
      "epoch = 356, lr = 3.9018447e-5, loss = 19.930073\n",
      "  0.026534 seconds (10.48 k allocations: 439.000 KiB)\n",
      "epoch = 357, lr = 2.6012298e-5, loss = 19.928715\n",
      "  0.223145 seconds (13.58 k allocations: 453.297 KiB, 88.85% gc time)\n",
      "epoch = 358, lr = 3.9018447e-5, loss = 19.927683\n",
      "  0.030840 seconds (12.01 k allocations: 498.219 KiB)\n",
      "epoch = 359, lr = 1.7341532e-5, loss = 19.890347\n",
      "  0.021815 seconds (8.93 k allocations: 378.938 KiB)\n",
      "epoch = 360, lr = 2.6012298e-5, loss = 19.88114\n",
      "  0.022113 seconds (8.94 k allocations: 379.359 KiB)\n",
      "epoch = 361, lr = 3.9018447e-5, loss = 19.875101\n",
      "  0.221372 seconds (13.17 k allocations: 445.906 KiB, 89.15% gc time)\n",
      "epoch = 362, lr = 5.8527672e-5, loss = 19.869465\n",
      "  0.029570 seconds (12.01 k allocations: 498.219 KiB)\n",
      "epoch = 363, lr = 2.6012298e-5, loss = 19.864151\n",
      "  0.020666 seconds (8.94 k allocations: 379.359 KiB)\n",
      "epoch = 364, lr = 3.9018447e-5, loss = 19.858982\n",
      "  0.029302 seconds (10.59 k allocations: 442.563 KiB)\n",
      "epoch = 365, lr = 2.6012298e-5, loss = 19.854061\n",
      "  0.021913 seconds (8.93 k allocations: 378.938 KiB)\n",
      "epoch = 366, lr = 3.9018447e-5, loss = 19.84933\n",
      "  0.026261 seconds (10.47 k allocations: 438.578 KiB)\n",
      "epoch = 367, lr = 2.6012298e-5, loss = 19.844961\n",
      "  0.020303 seconds (8.93 k allocations: 378.938 KiB)\n",
      "epoch = 368, lr = 3.9018447e-5, loss = 19.840853\n",
      "  0.027762 seconds (10.56 k allocations: 441.609 KiB)\n",
      "epoch = 369, lr = 2.6012298e-5, loss = 19.837276\n",
      "  0.021939 seconds (8.93 k allocations: 378.938 KiB)\n",
      "epoch = 370, lr = 3.9018447e-5, loss = 19.83406\n",
      "  0.027353 seconds (10.47 k allocations: 438.578 KiB)\n",
      "epoch = 371, lr = 2.6012298e-5, loss = 19.831644\n",
      "  0.020203 seconds (8.93 k allocations: 378.938 KiB)\n",
      "epoch = 372, lr = 3.9018447e-5, loss = 19.829721\n",
      "  0.028431 seconds (10.58 k allocations: 442.141 KiB)\n",
      "epoch = 373, lr = 2.6012298e-5, loss = 19.829014\n",
      "  0.021791 seconds (8.93 k allocations: 378.938 KiB)\n",
      "epoch = 374, lr = 3.9018447e-5, loss = 19.828978\n",
      "  0.032345 seconds (12.01 k allocations: 498.219 KiB)\n",
      "epoch = 375, lr = 1.7341532e-5, loss = 19.79453\n",
      "  0.023729 seconds (8.94 k allocations: 379.359 KiB)\n",
      "epoch = 376, lr = 2.6012298e-5, loss = 19.78566\n",
      "  0.222167 seconds (13.54 k allocations: 452.672 KiB, 88.65% gc time)\n",
      "epoch = 377, lr = 3.9018447e-5, loss = 19.779974\n",
      "  0.020461 seconds (8.93 k allocations: 378.938 KiB)\n",
      "epoch = 378, lr = 5.8527672e-5, loss = 19.775232\n",
      "  0.031151 seconds (12.01 k allocations: 498.219 KiB)\n",
      "epoch = 379, lr = 2.6012298e-5, loss = 19.770517\n",
      "  0.022493 seconds (8.96 k allocations: 380.094 KiB)\n",
      "epoch = 380, lr = 3.9018447e-5, loss = 19.766033\n",
      "  0.229014 seconds (15.12 k allocations: 513.094 KiB, 86.39% gc time)\n",
      "epoch = 381, lr = 2.6012298e-5, loss = 19.761929\n",
      "  0.020684 seconds (8.93 k allocations: 378.938 KiB)\n",
      "epoch = 382, lr = 3.9018447e-5, loss = 19.758154\n",
      "  0.024857 seconds (10.47 k allocations: 438.578 KiB)\n",
      "epoch = 383, lr = 2.6012298e-5, loss = 19.75497\n",
      "  0.022211 seconds (8.94 k allocations: 379.359 KiB)\n",
      "epoch = 384, lr = 3.9018447e-5, loss = 19.752272\n",
      "  0.227517 seconds (15.11 k allocations: 512.750 KiB, 86.41% gc time)\n",
      "epoch = 385, lr = 2.6012298e-5, loss = 19.7505\n",
      "  0.020690 seconds (8.93 k allocations: 378.938 KiB)\n",
      "epoch = 386, lr = 3.9018447e-5, loss = 19.749434\n",
      "  0.029103 seconds (12.01 k allocations: 498.219 KiB)\n",
      "epoch = 387, lr = 1.7341532e-5, loss = 19.724487\n",
      "  0.021336 seconds (8.98 k allocations: 380.828 KiB)\n",
      "epoch = 388, lr = 2.6012298e-5, loss = 19.71714\n",
      "  0.220917 seconds (13.16 k allocations: 445.125 KiB, 88.45% gc time)\n",
      "epoch = 389, lr = 3.9018447e-5, loss = 19.711647\n",
      "  0.021471 seconds (8.93 k allocations: 378.938 KiB)\n",
      "epoch = 390, lr = 5.8527672e-5, loss = 19.706402\n",
      "  0.030030 seconds (12.01 k allocations: 498.219 KiB)\n",
      "epoch = 391, lr = 2.6012298e-5, loss = 19.701786\n",
      "  0.023029 seconds (9.03 k allocations: 382.391 KiB)\n",
      "epoch = 392, lr = 3.9018447e-5, loss = 19.697407\n",
      "  0.026351 seconds (10.47 k allocations: 438.578 KiB)\n",
      "epoch = 393, lr = 2.6012298e-5, loss = 19.693403\n",
      "  0.021840 seconds (8.93 k allocations: 378.938 KiB)\n",
      "epoch = 394, lr = 3.9018447e-5, loss = 19.689764\n",
      "  0.025486 seconds (10.48 k allocations: 439.000 KiB)\n",
      "epoch = 395, lr = 2.6012298e-5, loss = 19.686726\n",
      "  0.021660 seconds (9.02 k allocations: 382.078 KiB)\n",
      "epoch = 396, lr = 3.9018447e-5, loss = 19.684248\n",
      "  0.026415 seconds (10.47 k allocations: 438.578 KiB)\n",
      "epoch = 397, lr = 2.6012298e-5, loss = 19.682755\n",
      "  0.021967 seconds (8.93 k allocations: 378.938 KiB)\n",
      "epoch = 398, lr = 3.9018447e-5, loss = 19.682125\n",
      "  0.031835 seconds (12.07 k allocations: 500.188 KiB)\n",
      "epoch = 399, lr = 1.7341532e-5, loss = 19.658491\n"
     ]
    },
    {
     "name": "stdout",
     "output_type": "stream",
     "text": [
      "  0.220804 seconds (13.59 k allocations: 453.688 KiB, 88.77% gc time)\n",
      "epoch = 400, lr = 2.6012298e-5, loss = 19.65134\n",
      "  0.020887 seconds (8.93 k allocations: 378.938 KiB)\n",
      "epoch = 401, lr = 3.9018447e-5, loss = 19.646076\n",
      "  0.021727 seconds (8.93 k allocations: 378.938 KiB)\n",
      "epoch = 402, lr = 5.8527672e-5, loss = 19.641386\n",
      "  0.031032 seconds (12.01 k allocations: 498.219 KiB)\n",
      "epoch = 403, lr = 2.6012298e-5, loss = 19.637167\n",
      "  0.219046 seconds (13.57 k allocations: 453.031 KiB, 88.75% gc time)\n",
      "epoch = 404, lr = 3.9018447e-5, loss = 19.633265\n",
      "  0.027136 seconds (10.47 k allocations: 438.578 KiB)\n",
      "epoch = 405, lr = 2.6012298e-5, loss = 19.629852\n",
      "  0.023039 seconds (8.93 k allocations: 378.938 KiB)\n",
      "epoch = 406, lr = 3.9018447e-5, loss = 19.626944\n",
      "  0.026741 seconds (10.48 k allocations: 439.047 KiB)\n",
      "epoch = 407, lr = 2.6012298e-5, loss = 19.624857\n",
      "  0.224963 seconds (13.59 k allocations: 453.438 KiB, 89.08% gc time)\n",
      "epoch = 408, lr = 3.9018447e-5, loss = 19.623587\n",
      "  0.030468 seconds (12.01 k allocations: 498.219 KiB)\n",
      "epoch = 409, lr = 1.7341532e-5, loss = 19.604616\n",
      "  0.020278 seconds (8.93 k allocations: 378.938 KiB)\n",
      "epoch = 410, lr = 2.6012298e-5, loss = 19.598288\n",
      "  0.020231 seconds (8.94 k allocations: 379.406 KiB)\n",
      "epoch = 411, lr = 3.9018447e-5, loss = 19.593163\n",
      "  0.221650 seconds (13.18 k allocations: 445.953 KiB, 89.36% gc time)\n",
      "epoch = 412, lr = 5.8527672e-5, loss = 19.588215\n",
      "  0.030472 seconds (12.01 k allocations: 498.219 KiB)\n",
      "epoch = 413, lr = 2.6012298e-5, loss = 19.584064\n",
      "  0.020440 seconds (8.94 k allocations: 379.406 KiB)\n",
      "epoch = 414, lr = 3.9018447e-5, loss = 19.580236\n",
      "  0.027618 seconds (10.61 k allocations: 442.797 KiB)\n",
      "epoch = 415, lr = 2.6012298e-5, loss = 19.576893\n",
      "  0.020269 seconds (8.93 k allocations: 378.938 KiB)\n",
      "epoch = 416, lr = 3.9018447e-5, loss = 19.574085\n",
      "  0.027558 seconds (10.47 k allocations: 438.578 KiB)\n",
      "epoch = 417, lr = 2.6012298e-5, loss = 19.572123\n",
      "  0.020225 seconds (8.93 k allocations: 378.938 KiB)\n",
      "epoch = 418, lr = 3.9018447e-5, loss = 19.571049\n",
      "  0.231952 seconds (16.73 k allocations: 574.563 KiB, 84.12% gc time)\n",
      "epoch = 419, lr = 1.7341532e-5, loss = 19.553043\n",
      "  0.020840 seconds (8.93 k allocations: 378.938 KiB)\n",
      "epoch = 420, lr = 2.6012298e-5, loss = 19.54689\n",
      "  0.022114 seconds (8.93 k allocations: 378.938 KiB)\n",
      "epoch = 421, lr = 3.9018447e-5, loss = 19.541931\n",
      "  0.020217 seconds (8.93 k allocations: 378.938 KiB)\n",
      "epoch = 422, lr = 5.8527672e-5, loss = 19.537354\n",
      "  0.229208 seconds (16.66 k allocations: 572.281 KiB, 85.39% gc time)\n",
      "epoch = 423, lr = 2.6012298e-5, loss = 19.533484\n",
      "  0.021875 seconds (8.93 k allocations: 378.938 KiB)\n",
      "epoch = 424, lr = 3.9018447e-5, loss = 19.530005\n",
      "  0.026352 seconds (10.47 k allocations: 438.578 KiB)\n",
      "epoch = 425, lr = 2.6012298e-5, loss = 19.527115\n",
      "  0.020114 seconds (8.93 k allocations: 378.938 KiB)\n",
      "epoch = 426, lr = 3.9018447e-5, loss = 19.524887\n",
      "  0.225758 seconds (15.04 k allocations: 510.922 KiB, 87.37% gc time)\n",
      "epoch = 427, lr = 2.6012298e-5, loss = 19.523716\n",
      "  0.020440 seconds (8.93 k allocations: 378.938 KiB)\n",
      "epoch = 428, lr = 3.9018447e-5, loss = 19.523691\n",
      "  0.033281 seconds (12.04 k allocations: 499.156 KiB)\n",
      "epoch = 429, lr = 1.7341532e-5, loss = 19.503635\n",
      "  0.021672 seconds (9.01 k allocations: 381.594 KiB)\n",
      "epoch = 430, lr = 2.6012298e-5, loss = 19.49708\n",
      "  0.219708 seconds (13.24 k allocations: 446.844 KiB, 89.27% gc time)\n",
      "epoch = 431, lr = 3.9018447e-5, loss = 19.492325\n",
      "  0.020423 seconds (8.93 k allocations: 378.938 KiB)\n",
      "epoch = 432, lr = 5.8527672e-5, loss = 19.488792\n",
      "  0.032234 seconds (12.01 k allocations: 498.219 KiB)\n",
      "epoch = 433, lr = 2.6012298e-5, loss = 19.485506\n",
      "  0.021636 seconds (8.98 k allocations: 380.500 KiB)\n",
      "epoch = 434, lr = 3.9018447e-5, loss = 19.482769\n",
      "  0.226513 seconds (14.89 k allocations: 507.797 KiB, 87.03% gc time)\n",
      "epoch = 435, lr = 2.6012298e-5, loss = 19.480886\n",
      "  0.020574 seconds (8.93 k allocations: 378.938 KiB)\n",
      "epoch = 436, lr = 3.9018447e-5, loss = 19.479982\n",
      "  0.032841 seconds (12.08 k allocations: 500.406 KiB)\n",
      "epoch = 437, lr = 1.7341532e-5, loss = 19.463913\n",
      "  0.220853 seconds (13.61 k allocations: 454.625 KiB, 88.60% gc time)\n",
      "epoch = 438, lr = 2.6012298e-5, loss = 19.458134\n",
      "  0.021220 seconds (8.93 k allocations: 378.938 KiB)\n",
      "epoch = 439, lr = 3.9018447e-5, loss = 19.45345\n",
      "  0.020217 seconds (8.93 k allocations: 378.938 KiB)\n",
      "epoch = 440, lr = 5.8527672e-5, loss = 19.44939\n",
      "  0.030732 seconds (12.01 k allocations: 498.219 KiB)\n",
      "epoch = 441, lr = 2.6012298e-5, loss = 19.445984\n",
      "  0.219386 seconds (13.57 k allocations: 452.969 KiB, 88.66% gc time)\n",
      "epoch = 442, lr = 3.9018447e-5, loss = 19.443083\n",
      "  0.027590 seconds (10.47 k allocations: 438.578 KiB)\n",
      "epoch = 443, lr = 2.6012298e-5, loss = 19.440958\n",
      "  0.022074 seconds (8.93 k allocations: 378.938 KiB)\n",
      "epoch = 444, lr = 3.9018447e-5, loss = 19.439756\n",
      "  0.031193 seconds (12.08 k allocations: 500.250 KiB)\n",
      "epoch = 445, lr = 1.7341532e-5, loss = 19.425522\n",
      "  0.219194 seconds (13.26 k allocations: 447.125 KiB, 89.21% gc time)\n",
      "epoch = 446, lr = 2.6012298e-5, loss = 19.420115\n",
      "  0.021225 seconds (8.93 k allocations: 378.938 KiB)\n",
      "epoch = 447, lr = 3.9018447e-5, loss = 19.415524\n",
      "  0.020236 seconds (8.93 k allocations: 378.938 KiB)\n",
      "epoch = 448, lr = 5.8527672e-5, loss = 19.41139\n",
      "  0.034098 seconds (12.06 k allocations: 499.781 KiB)\n",
      "epoch = 449, lr = 2.6012298e-5, loss = 19.408047\n",
      "  0.219305 seconds (13.37 k allocations: 448.438 KiB, 89.36% gc time)\n",
      "epoch = 450, lr = 3.9018447e-5, loss = 19.405222\n",
      "  0.025957 seconds (10.47 k allocations: 438.578 KiB)\n",
      "epoch = 451, lr = 2.6012298e-5, loss = 19.403183\n",
      "  0.020348 seconds (8.93 k allocations: 378.938 KiB)\n",
      "epoch = 452, lr = 3.9018447e-5, loss = 19.402117\n",
      "  0.232759 seconds (16.76 k allocations: 575.781 KiB, 84.22% gc time)\n",
      "epoch = 453, lr = 1.7341532e-5, loss = 19.38829\n",
      "  0.023071 seconds (8.93 k allocations: 378.938 KiB)\n",
      "epoch = 454, lr = 2.6012298e-5, loss = 19.38297\n",
      "  0.020236 seconds (8.93 k allocations: 378.938 KiB)\n",
      "epoch = 455, lr = 3.9018447e-5, loss = 19.378494\n",
      "  0.020569 seconds (8.93 k allocations: 378.938 KiB)\n",
      "epoch = 456, lr = 5.8527672e-5, loss = 19.374641\n",
      "  0.233693 seconds (16.66 k allocations: 572.250 KiB, 84.97% gc time)\n",
      "epoch = 457, lr = 2.6012298e-5, loss = 19.371517\n",
      "  0.021817 seconds (8.93 k allocations: 378.938 KiB)\n",
      "epoch = 458, lr = 3.9018447e-5, loss = 19.36898\n",
      "  0.026788 seconds (10.47 k allocations: 438.578 KiB)\n",
      "epoch = 459, lr = 2.6012298e-5, loss = 19.367346\n",
      "  0.020397 seconds (8.93 k allocations: 378.938 KiB)\n",
      "epoch = 460, lr = 3.9018447e-5, loss = 19.366838\n",
      "  0.232846 seconds (16.67 k allocations: 573.000 KiB, 84.65% gc time)\n",
      "epoch = 461, lr = 1.7341532e-5, loss = 19.352169\n",
      "  0.021561 seconds (8.93 k allocations: 378.938 KiB)\n",
      "epoch = 462, lr = 2.6012298e-5, loss = 19.346676\n",
      "  0.021641 seconds (8.93 k allocations: 378.938 KiB)\n",
      "epoch = 463, lr = 3.9018447e-5, loss = 19.342339\n",
      "  0.020171 seconds (8.93 k allocations: 378.938 KiB)\n",
      "epoch = 464, lr = 5.8527672e-5, loss = 19.339151\n",
      "  0.232306 seconds (16.69 k allocations: 573.250 KiB, 84.77% gc time)\n",
      "epoch = 465, lr = 2.6012298e-5, loss = 19.33645\n",
      "  0.021458 seconds (8.93 k allocations: 378.938 KiB)\n",
      "epoch = 466, lr = 3.9018447e-5, loss = 19.334488\n",
      "  0.026952 seconds (10.47 k allocations: 438.578 KiB)\n",
      "epoch = 467, lr = 2.6012298e-5, loss = 19.33367\n",
      "  0.027102 seconds (10.54 k allocations: 440.609 KiB)\n",
      "epoch = 468, lr = 1.7341532e-5, loss = 19.320591\n",
      "  0.219663 seconds (13.19 k allocations: 445.625 KiB, 89.32% gc time)\n",
      "epoch = 469, lr = 2.6012298e-5, loss = 19.315495\n",
      "  0.021321 seconds (8.93 k allocations: 378.938 KiB)\n",
      "epoch = 470, lr = 3.9018447e-5, loss = 19.311214\n",
      "  0.020206 seconds (8.93 k allocations: 378.938 KiB)\n",
      "epoch = 471, lr = 5.8527672e-5, loss = 19.307804\n",
      "  0.032616 seconds (12.13 k allocations: 501.813 KiB)\n",
      "epoch = 472, lr = 2.6012298e-5, loss = 19.305042\n",
      "  0.020311 seconds (8.93 k allocations: 378.938 KiB)\n",
      "epoch = 473, lr = 3.9018447e-5, loss = 19.30305\n",
      "  0.025838 seconds (10.47 k allocations: 438.578 KiB)\n",
      "epoch = 474, lr = 2.6012298e-5, loss = 19.302073\n",
      "  0.026495 seconds (10.48 k allocations: 439.047 KiB)\n",
      "epoch = 475, lr = 1.7341532e-5, loss = 19.289871\n",
      "  0.023229 seconds (9.03 k allocations: 382.219 KiB)\n",
      "epoch = 476, lr = 2.6012298e-5, loss = 19.284914\n",
      "  0.020354 seconds (8.93 k allocations: 378.938 KiB)\n",
      "epoch = 477, lr = 3.9018447e-5, loss = 19.280718\n",
      "  0.020220 seconds (8.93 k allocations: 378.938 KiB)\n",
      "epoch = 478, lr = 5.8527672e-5, loss = 19.27739\n",
      "  0.032295 seconds (12.03 k allocations: 498.688 KiB)\n",
      "epoch = 479, lr = 2.6012298e-5, loss = 19.274765\n"
     ]
    },
    {
     "name": "stdout",
     "output_type": "stream",
     "text": [
      "  0.023910 seconds (9.03 k allocations: 382.219 KiB)\n",
      "epoch = 480, lr = 3.9018447e-5, loss = 19.272896\n",
      "  0.026582 seconds (10.47 k allocations: 438.578 KiB)\n",
      "epoch = 481, lr = 2.6012298e-5, loss = 19.272211\n",
      "  0.027471 seconds (10.47 k allocations: 438.578 KiB)\n",
      "epoch = 482, lr = 1.7341532e-5, loss = 19.259848\n",
      "  0.020568 seconds (8.94 k allocations: 379.406 KiB)\n",
      "epoch = 483, lr = 2.6012298e-5, loss = 19.254913\n",
      "  0.022687 seconds (9.03 k allocations: 382.219 KiB)\n",
      "epoch = 484, lr = 3.9018447e-5, loss = 19.250813\n",
      "  0.020195 seconds (8.93 k allocations: 378.938 KiB)\n",
      "epoch = 485, lr = 5.8527672e-5, loss = 19.247822\n",
      "  0.031619 seconds (12.01 k allocations: 498.219 KiB)\n",
      "epoch = 486, lr = 2.6012298e-5, loss = 19.245419\n",
      "  0.021398 seconds (8.94 k allocations: 379.406 KiB)\n",
      "epoch = 487, lr = 3.9018447e-5, loss = 19.243937\n",
      "  0.228277 seconds (15.20 k allocations: 515.078 KiB, 86.02% gc time)\n",
      "epoch = 488, lr = 2.6012298e-5, loss = 19.243687\n",
      "  0.027187 seconds (10.47 k allocations: 438.578 KiB)\n",
      "epoch = 489, lr = 1.7341532e-5, loss = 19.230627\n",
      "  0.020318 seconds (8.93 k allocations: 378.938 KiB)\n",
      "epoch = 490, lr = 2.6012298e-5, loss = 19.225489\n",
      "  0.021531 seconds (8.93 k allocations: 378.938 KiB)\n",
      "epoch = 491, lr = 3.9018447e-5, loss = 19.221504\n",
      "  0.220540 seconds (13.46 k allocations: 450.375 KiB, 89.31% gc time)\n",
      "epoch = 492, lr = 5.8527672e-5, loss = 19.219187\n",
      "  0.030646 seconds (12.01 k allocations: 498.219 KiB)\n",
      "epoch = 493, lr = 2.6012298e-5, loss = 19.217266\n",
      "  0.021458 seconds (8.93 k allocations: 378.938 KiB)\n",
      "epoch = 494, lr = 3.9018447e-5, loss = 19.21639\n",
      "  0.033748 seconds (12.18 k allocations: 503.375 KiB)\n",
      "epoch = 495, lr = 1.7341532e-5, loss = 19.205284\n",
      "  0.222571 seconds (13.29 k allocations: 447.156 KiB, 89.29% gc time)\n",
      "epoch = 496, lr = 2.6012298e-5, loss = 19.200594\n",
      "  0.021863 seconds (8.93 k allocations: 378.938 KiB)\n",
      "epoch = 497, lr = 3.9018447e-5, loss = 19.19663\n",
      "  0.020211 seconds (8.93 k allocations: 378.938 KiB)\n",
      "epoch = 498, lr = 5.8527672e-5, loss = 19.193792\n",
      "  0.031733 seconds (12.09 k allocations: 500.563 KiB)\n",
      "epoch = 499, lr = 2.6012298e-5, loss = 19.191628\n",
      "  0.020247 seconds (8.93 k allocations: 378.938 KiB)\n",
      "epoch = 500, lr = 3.9018447e-5, loss = 19.190403\n"
     ]
    }
   ],
   "source": [
    "# Record the weights and losses for `ep` epochs\n",
    "for epoch in 1:ep\n",
    "    @time lr = train_sgd!(w,dtrn,lr=lr,s=s)\n",
    "    push!(ws, copy(w))\n",
    "    push!(losses, loss(w,xtrn,ytrn))\n",
    "    println(\"epoch = $epoch, lr = $lr, loss = $(losses[end])\")\n",
    "end"
   ]
  },
  {
   "cell_type": "code",
   "execution_count": 276,
   "metadata": {
    "scrolled": true
   },
   "outputs": [
    {
     "data": {
      "text/plain": [
       "601-element Array{Float32,1}:\n",
       " 340.687 \n",
       " 272.168 \n",
       " 233.428 \n",
       " 212.152 \n",
       " 171.363 \n",
       " 156.145 \n",
       " 144.926 \n",
       " 136.273 \n",
       " 125.396 \n",
       " 112.965 \n",
       " 105.86  \n",
       " 100.37  \n",
       "  94.47  \n",
       "   ⋮     \n",
       "  19.2306\n",
       "  19.2255\n",
       "  19.2215\n",
       "  19.2192\n",
       "  19.2173\n",
       "  19.2164\n",
       "  19.2053\n",
       "  19.2006\n",
       "  19.1966\n",
       "  19.1938\n",
       "  19.1916\n",
       "  19.1904"
      ]
     },
     "execution_count": 276,
     "metadata": {},
     "output_type": "execute_result"
    }
   ],
   "source": [
    "losses"
   ]
  },
  {
   "cell_type": "code",
   "execution_count": 278,
   "metadata": {
    "scrolled": false
   },
   "outputs": [
    {
     "data": {
      "image/svg+xml": [
       "<?xml version=\"1.0\" encoding=\"utf-8\"?>\n",
       "<svg xmlns=\"http://www.w3.org/2000/svg\" xmlns:xlink=\"http://www.w3.org/1999/xlink\" width=\"600\" height=\"400\" viewBox=\"0 0 600 400\">\n",
       "<defs>\n",
       "  <clipPath id=\"clip0400\">\n",
       "    <rect x=\"0\" y=\"0\" width=\"600\" height=\"400\"/>\n",
       "  </clipPath>\n",
       "</defs>\n",
       "<polygon clip-path=\"url(#clip0400)\" points=\"\n",
       "0,400 600,400 600,0 0,0 \n",
       "  \" fill=\"#ffffff\" fill-opacity=\"1\"/>\n",
       "<defs>\n",
       "  <clipPath id=\"clip0401\">\n",
       "    <rect x=\"120\" y=\"0\" width=\"421\" height=\"400\"/>\n",
       "  </clipPath>\n",
       "</defs>\n",
       "<polygon clip-path=\"url(#clip0400)\" points=\"\n",
       "51.5678,360.121 580.315,360.121 580.315,11.811 51.5678,11.811 \n",
       "  \" fill=\"#ffffff\" fill-opacity=\"1\"/>\n",
       "<defs>\n",
       "  <clipPath id=\"clip0402\">\n",
       "    <rect x=\"51\" y=\"11\" width=\"530\" height=\"349\"/>\n",
       "  </clipPath>\n",
       "</defs>\n",
       "<polyline clip-path=\"url(#clip0402)\" style=\"stroke:#000000; stroke-width:0.5; stroke-opacity:0.1; fill:none\" points=\"\n",
       "  138.811,360.121 138.811,11.811 \n",
       "  \"/>\n",
       "<polyline clip-path=\"url(#clip0402)\" style=\"stroke:#000000; stroke-width:0.5; stroke-opacity:0.1; fill:none\" points=\"\n",
       "  226.936,360.121 226.936,11.811 \n",
       "  \"/>\n",
       "<polyline clip-path=\"url(#clip0402)\" style=\"stroke:#000000; stroke-width:0.5; stroke-opacity:0.1; fill:none\" points=\"\n",
       "  315.06,360.121 315.06,11.811 \n",
       "  \"/>\n",
       "<polyline clip-path=\"url(#clip0402)\" style=\"stroke:#000000; stroke-width:0.5; stroke-opacity:0.1; fill:none\" points=\"\n",
       "  403.185,360.121 403.185,11.811 \n",
       "  \"/>\n",
       "<polyline clip-path=\"url(#clip0402)\" style=\"stroke:#000000; stroke-width:0.5; stroke-opacity:0.1; fill:none\" points=\"\n",
       "  491.309,360.121 491.309,11.811 \n",
       "  \"/>\n",
       "<polyline clip-path=\"url(#clip0402)\" style=\"stroke:#000000; stroke-width:0.5; stroke-opacity:0.1; fill:none\" points=\"\n",
       "  579.434,360.121 579.434,11.811 \n",
       "  \"/>\n",
       "<polyline clip-path=\"url(#clip0402)\" style=\"stroke:#000000; stroke-width:0.5; stroke-opacity:0.1; fill:none\" points=\"\n",
       "  51.5678,360.121 580.315,360.121 \n",
       "  \"/>\n",
       "<polyline clip-path=\"url(#clip0402)\" style=\"stroke:#000000; stroke-width:0.5; stroke-opacity:0.1; fill:none\" points=\"\n",
       "  51.5678,290.459 580.315,290.459 \n",
       "  \"/>\n",
       "<polyline clip-path=\"url(#clip0402)\" style=\"stroke:#000000; stroke-width:0.5; stroke-opacity:0.1; fill:none\" points=\"\n",
       "  51.5678,220.797 580.315,220.797 \n",
       "  \"/>\n",
       "<polyline clip-path=\"url(#clip0402)\" style=\"stroke:#000000; stroke-width:0.5; stroke-opacity:0.1; fill:none\" points=\"\n",
       "  51.5678,151.135 580.315,151.135 \n",
       "  \"/>\n",
       "<polyline clip-path=\"url(#clip0402)\" style=\"stroke:#000000; stroke-width:0.5; stroke-opacity:0.1; fill:none\" points=\"\n",
       "  51.5678,81.4729 580.315,81.4729 \n",
       "  \"/>\n",
       "<polyline clip-path=\"url(#clip0402)\" style=\"stroke:#000000; stroke-width:0.5; stroke-opacity:0.1; fill:none\" points=\"\n",
       "  51.5678,11.811 580.315,11.811 \n",
       "  \"/>\n",
       "<polyline clip-path=\"url(#clip0400)\" style=\"stroke:#000000; stroke-width:1; stroke-opacity:1; fill:none\" points=\"\n",
       "  51.5678,360.121 580.315,360.121 \n",
       "  \"/>\n",
       "<polyline clip-path=\"url(#clip0400)\" style=\"stroke:#000000; stroke-width:1; stroke-opacity:1; fill:none\" points=\"\n",
       "  51.5678,360.121 51.5678,11.811 \n",
       "  \"/>\n",
       "<polyline clip-path=\"url(#clip0400)\" style=\"stroke:#000000; stroke-width:1; stroke-opacity:1; fill:none\" points=\"\n",
       "  138.811,360.121 138.811,354.896 \n",
       "  \"/>\n",
       "<polyline clip-path=\"url(#clip0400)\" style=\"stroke:#000000; stroke-width:1; stroke-opacity:1; fill:none\" points=\"\n",
       "  226.936,360.121 226.936,354.896 \n",
       "  \"/>\n",
       "<polyline clip-path=\"url(#clip0400)\" style=\"stroke:#000000; stroke-width:1; stroke-opacity:1; fill:none\" points=\"\n",
       "  315.06,360.121 315.06,354.896 \n",
       "  \"/>\n",
       "<polyline clip-path=\"url(#clip0400)\" style=\"stroke:#000000; stroke-width:1; stroke-opacity:1; fill:none\" points=\"\n",
       "  403.185,360.121 403.185,354.896 \n",
       "  \"/>\n",
       "<polyline clip-path=\"url(#clip0400)\" style=\"stroke:#000000; stroke-width:1; stroke-opacity:1; fill:none\" points=\"\n",
       "  491.309,360.121 491.309,354.896 \n",
       "  \"/>\n",
       "<polyline clip-path=\"url(#clip0400)\" style=\"stroke:#000000; stroke-width:1; stroke-opacity:1; fill:none\" points=\"\n",
       "  579.434,360.121 579.434,354.896 \n",
       "  \"/>\n",
       "<polyline clip-path=\"url(#clip0400)\" style=\"stroke:#000000; stroke-width:1; stroke-opacity:1; fill:none\" points=\"\n",
       "  51.5678,360.121 59.499,360.121 \n",
       "  \"/>\n",
       "<polyline clip-path=\"url(#clip0400)\" style=\"stroke:#000000; stroke-width:1; stroke-opacity:1; fill:none\" points=\"\n",
       "  51.5678,290.459 59.499,290.459 \n",
       "  \"/>\n",
       "<polyline clip-path=\"url(#clip0400)\" style=\"stroke:#000000; stroke-width:1; stroke-opacity:1; fill:none\" points=\"\n",
       "  51.5678,220.797 59.499,220.797 \n",
       "  \"/>\n",
       "<polyline clip-path=\"url(#clip0400)\" style=\"stroke:#000000; stroke-width:1; stroke-opacity:1; fill:none\" points=\"\n",
       "  51.5678,151.135 59.499,151.135 \n",
       "  \"/>\n",
       "<polyline clip-path=\"url(#clip0400)\" style=\"stroke:#000000; stroke-width:1; stroke-opacity:1; fill:none\" points=\"\n",
       "  51.5678,81.4729 59.499,81.4729 \n",
       "  \"/>\n",
       "<polyline clip-path=\"url(#clip0400)\" style=\"stroke:#000000; stroke-width:1; stroke-opacity:1; fill:none\" points=\"\n",
       "  51.5678,11.811 59.499,11.811 \n",
       "  \"/>\n",
       "<g clip-path=\"url(#clip0400)\">\n",
       "<text style=\"fill:#000000; fill-opacity:1; font-family:Arial,Helvetica Neue,Helvetica,sans-serif; font-size:12; text-anchor:middle;\" transform=\"rotate(0, 138.811, 373.921)\" x=\"138.811\" y=\"373.921\">100</text>\n",
       "</g>\n",
       "<g clip-path=\"url(#clip0400)\">\n",
       "<text style=\"fill:#000000; fill-opacity:1; font-family:Arial,Helvetica Neue,Helvetica,sans-serif; font-size:12; text-anchor:middle;\" transform=\"rotate(0, 226.936, 373.921)\" x=\"226.936\" y=\"373.921\">200</text>\n",
       "</g>\n",
       "<g clip-path=\"url(#clip0400)\">\n",
       "<text style=\"fill:#000000; fill-opacity:1; font-family:Arial,Helvetica Neue,Helvetica,sans-serif; font-size:12; text-anchor:middle;\" transform=\"rotate(0, 315.06, 373.921)\" x=\"315.06\" y=\"373.921\">300</text>\n",
       "</g>\n",
       "<g clip-path=\"url(#clip0400)\">\n",
       "<text style=\"fill:#000000; fill-opacity:1; font-family:Arial,Helvetica Neue,Helvetica,sans-serif; font-size:12; text-anchor:middle;\" transform=\"rotate(0, 403.185, 373.921)\" x=\"403.185\" y=\"373.921\">400</text>\n",
       "</g>\n",
       "<g clip-path=\"url(#clip0400)\">\n",
       "<text style=\"fill:#000000; fill-opacity:1; font-family:Arial,Helvetica Neue,Helvetica,sans-serif; font-size:12; text-anchor:middle;\" transform=\"rotate(0, 491.309, 373.921)\" x=\"491.309\" y=\"373.921\">500</text>\n",
       "</g>\n",
       "<g clip-path=\"url(#clip0400)\">\n",
       "<text style=\"fill:#000000; fill-opacity:1; font-family:Arial,Helvetica Neue,Helvetica,sans-serif; font-size:12; text-anchor:middle;\" transform=\"rotate(0, 579.434, 373.921)\" x=\"579.434\" y=\"373.921\">600</text>\n",
       "</g>\n",
       "<g clip-path=\"url(#clip0400)\">\n",
       "<text style=\"fill:#000000; fill-opacity:1; font-family:Arial,Helvetica Neue,Helvetica,sans-serif; font-size:12; text-anchor:end;\" transform=\"rotate(0, 45.5678, 364.621)\" x=\"45.5678\" y=\"364.621\">0</text>\n",
       "</g>\n",
       "<g clip-path=\"url(#clip0400)\">\n",
       "<text style=\"fill:#000000; fill-opacity:1; font-family:Arial,Helvetica Neue,Helvetica,sans-serif; font-size:12; text-anchor:end;\" transform=\"rotate(0, 45.5678, 294.959)\" x=\"45.5678\" y=\"294.959\">100</text>\n",
       "</g>\n",
       "<g clip-path=\"url(#clip0400)\">\n",
       "<text style=\"fill:#000000; fill-opacity:1; font-family:Arial,Helvetica Neue,Helvetica,sans-serif; font-size:12; text-anchor:end;\" transform=\"rotate(0, 45.5678, 225.297)\" x=\"45.5678\" y=\"225.297\">200</text>\n",
       "</g>\n",
       "<g clip-path=\"url(#clip0400)\">\n",
       "<text style=\"fill:#000000; fill-opacity:1; font-family:Arial,Helvetica Neue,Helvetica,sans-serif; font-size:12; text-anchor:end;\" transform=\"rotate(0, 45.5678, 155.635)\" x=\"45.5678\" y=\"155.635\">300</text>\n",
       "</g>\n",
       "<g clip-path=\"url(#clip0400)\">\n",
       "<text style=\"fill:#000000; fill-opacity:1; font-family:Arial,Helvetica Neue,Helvetica,sans-serif; font-size:12; text-anchor:end;\" transform=\"rotate(0, 45.5678, 85.9729)\" x=\"45.5678\" y=\"85.9729\">400</text>\n",
       "</g>\n",
       "<g clip-path=\"url(#clip0400)\">\n",
       "<text style=\"fill:#000000; fill-opacity:1; font-family:Arial,Helvetica Neue,Helvetica,sans-serif; font-size:12; text-anchor:end;\" transform=\"rotate(0, 45.5678, 16.311)\" x=\"45.5678\" y=\"16.311\">500</text>\n",
       "</g>\n",
       "<g clip-path=\"url(#clip0400)\">\n",
       "<text style=\"fill:#000000; fill-opacity:1; font-family:Arial,Helvetica Neue,Helvetica,sans-serif; font-size:16; text-anchor:middle;\" transform=\"rotate(0, 315.941, 397.6)\" x=\"315.941\" y=\"397.6\">Epochs</text>\n",
       "</g>\n",
       "<g clip-path=\"url(#clip0400)\">\n",
       "<text style=\"fill:#000000; fill-opacity:1; font-family:Arial,Helvetica Neue,Helvetica,sans-serif; font-size:16; text-anchor:middle;\" transform=\"rotate(-90, 14.4, 185.966)\" x=\"14.4\" y=\"185.966\">Loss</text>\n",
       "</g>\n",
       "<polyline clip-path=\"url(#clip0402)\" style=\"stroke:#009af9; stroke-width:1; stroke-opacity:1; fill:none\" points=\"\n",
       "  51.5678,122.791 52.4491,170.523 53.3303,197.51 54.2116,212.331 55.0928,240.746 55.974,251.347 56.8553,259.162 57.7365,265.191 58.6178,272.768 59.499,281.427 \n",
       "  60.3803,286.376 61.2615,290.201 62.1428,294.311 63.024,297.577 63.9053,300.196 64.7865,301.732 65.6677,301.807 66.549,304.649 67.4302,308.032 68.3115,309.554 \n",
       "  69.1927,311.17 70.074,312.427 70.9552,312.993 71.8365,313.772 72.7177,315.342 73.5989,316.227 74.4802,317.372 75.3614,318.075 76.2427,318.988 77.1239,319.503 \n",
       "  78.0052,320.28 78.8864,320.568 79.7677,321.292 80.6489,321.347 81.5302,322.173 82.4114,323.911 83.2926,324.696 84.1739,325.291 85.0551,325.898 85.9364,326.197 \n",
       "  86.8176,326.427 87.6989,327.265 88.5801,327.825 89.4614,328.243 90.3426,328.592 91.2239,328.761 92.1051,329.42 92.9863,329.8 93.8676,330.15 94.7488,330.381 \n",
       "  95.6301,330.434 96.5113,330.997 97.3926,331.466 98.2738,331.665 99.1551,331.667 100.036,332.189 100.918,332.642 101.799,332.771 102.68,333.198 103.561,333.484 \n",
       "  104.443,333.689 105.324,333.977 106.205,334.237 107.086,334.444 107.968,334.511 108.849,334.828 109.73,335.124 110.611,335.189 111.492,335.515 112.374,335.741 \n",
       "  113.255,335.82 114.136,336.066 115.017,336.3 115.899,336.343 116.78,336.612 117.661,336.803 118.542,336.824 119.424,337.039 120.305,337.254 121.186,337.417 \n",
       "  122.067,337.573 122.949,337.647 123.83,337.821 124.711,337.962 125.592,337.98 126.474,338.137 127.355,338.3 128.236,338.428 129.117,338.555 129.999,338.568 \n",
       "  130.88,338.721 131.761,338.84 132.642,338.961 133.524,339.064 134.405,339.167 135.286,339.261 136.167,339.296 137.049,339.394 137.93,339.499 138.811,339.588 \n",
       "  139.692,339.68 140.574,339.763 141.455,339.846 142.336,339.924 143.217,340.002 144.099,340.014 144.98,340.102 145.861,340.174 146.742,340.253 147.624,340.321 \n",
       "  148.505,340.395 149.386,340.46 150.267,340.529 151.149,340.59 152.03,340.656 152.911,340.714 153.792,340.776 154.674,340.832 155.555,340.89 156.436,340.943 \n",
       "  157.317,340.999 158.198,341.049 159.08,341.102 159.961,341.148 160.842,341.198 161.723,341.24 162.605,341.287 163.486,341.324 164.367,341.367 165.248,341.397 \n",
       "  166.13,341.435 167.011,341.456 167.892,341.489 168.773,341.497 169.655,341.524 170.536,341.761 171.417,341.828 172.298,341.873 173.18,341.915 174.061,341.952 \n",
       "  174.942,341.988 175.823,342.019 176.705,342.049 177.586,342.071 178.467,342.092 179.348,342.097 180.23,342.103 181.111,342.275 181.992,342.332 182.873,342.37 \n",
       "  183.755,342.396 184.636,342.419 185.517,342.439 186.398,342.447 187.28,342.45 188.161,342.582 189.042,342.631 189.923,342.665 190.805,342.683 191.686,342.698 \n",
       "  192.567,342.706 193.448,342.8 194.33,342.84 195.211,342.872 196.092,342.891 196.973,342.904 197.855,342.907 198.736,342.995 199.617,343.035 200.498,343.064 \n",
       "  201.38,343.072 202.261,343.074 203.142,343.154 204.023,343.188 204.904,343.216 205.786,343.222 206.667,343.278 207.548,343.307 208.429,343.334 209.311,343.348 \n",
       "  210.192,343.352 211.073,343.414 211.954,343.446 212.836,343.47 213.717,343.491 214.598,343.507 215.479,343.512 216.361,343.565 217.242,343.594 218.123,343.617 \n",
       "  219.004,343.636 219.886,343.648 220.767,343.649 221.648,343.703 222.529,343.733 223.411,343.753 224.292,343.768 225.173,343.772 226.054,343.817 226.936,343.844 \n",
       "  227.817,343.863 228.698,343.877 229.579,343.882 230.461,343.923 231.342,343.948 232.223,343.966 233.104,343.979 233.986,344.008 234.867,344.028 235.748,344.048 \n",
       "  236.629,344.063 237.511,344.071 238.392,344.103 239.273,344.125 240.154,344.142 241.036,344.152 241.917,344.179 242.798,344.199 243.679,344.216 244.561,344.228 \n",
       "  245.442,344.229 246.323,344.263 247.204,344.287 248.086,344.299 248.967,344.3 249.848,344.332 250.729,344.354 251.61,344.365 252.492,344.387 253.373,344.405 \n",
       "  254.254,344.42 255.135,344.429 256.017,344.451 256.898,344.469 257.779,344.482 258.66,344.488 259.542,344.512 260.423,344.53 261.304,344.541 262.185,344.542 \n",
       "  263.067,344.569 263.948,344.589 264.829,344.596 265.71,344.617 266.592,344.633 267.473,344.644 268.354,344.661 269.235,344.676 270.117,344.688 270.998,344.692 \n",
       "  271.879,344.714 272.76,344.73 273.642,344.737 274.523,344.755 275.404,344.77 276.285,344.779 277.167,344.796 278.048,344.81 278.929,344.82 279.81,344.835 \n",
       "  280.692,344.848 281.573,344.858 282.454,344.86 283.335,344.879 284.217,344.896 285.098,344.897 285.979,344.917 286.86,344.932 287.742,344.934 288.623,344.952 \n",
       "  289.504,344.967 290.385,344.968 291.267,344.987 292.148,345.001 293.029,345.001 293.91,345.019 294.792,345.034 295.673,345.047 296.554,345.059 297.435,345.067 \n",
       "  298.316,345.08 299.198,345.091 300.079,345.097 300.96,345.111 301.841,345.123 302.723,345.127 303.604,345.141 304.485,345.153 305.366,345.154 306.248,345.169 \n",
       "  307.129,345.182 308.01,345.194 308.891,345.205 309.773,345.209 310.654,345.222 311.535,345.233 312.416,345.234 313.298,345.248 314.179,345.26 315.06,345.271 \n",
       "  315.941,345.282 316.823,345.285 317.704,345.297 318.585,345.308 319.466,345.318 320.348,345.328 321.229,345.332 322.11,345.343 322.991,345.354 323.873,345.363 \n",
       "  324.754,345.373 325.635,345.377 326.516,345.388 327.398,345.398 328.279,345.407 329.16,345.416 330.041,345.419 330.923,345.43 331.804,345.44 332.685,345.449 \n",
       "  333.566,345.458 334.448,345.459 335.329,345.47 336.21,345.48 337.091,345.489 337.973,345.498 338.854,345.506 339.735,345.514 340.616,345.517 341.498,345.527 \n",
       "  342.379,345.536 343.26,345.544 344.141,345.552 345.022,345.56 345.904,345.568 346.785,345.571 347.666,345.58 348.547,345.588 349.429,345.597 350.31,345.605 \n",
       "  351.191,345.612 352.072,345.62 352.954,345.621 353.835,345.63 354.716,345.638 355.597,345.646 356.479,345.654 357.36,345.661 358.241,345.669 359.122,345.676 \n",
       "  360.004,345.683 360.885,345.684 361.766,345.692 362.647,345.7 363.529,345.707 364.41,345.715 365.291,345.722 366.172,345.729 367.054,345.736 367.935,345.743 \n",
       "  368.816,345.75 369.697,345.756 370.579,345.763 371.46,345.77 372.341,345.77 373.222,345.777 374.104,345.784 374.985,345.791 375.866,345.798 376.747,345.805 \n",
       "  377.629,345.811 378.51,345.818 379.391,345.824 380.272,345.83 381.154,345.837 382.035,345.843 382.916,345.849 383.797,345.855 384.679,345.861 385.56,345.867 \n",
       "  386.441,345.873 387.322,345.879 388.203,345.885 389.085,345.891 389.966,345.897 390.847,345.902 391.728,345.908 392.61,345.914 393.491,345.92 394.372,345.925 \n",
       "  395.253,345.931 396.135,345.936 397.016,345.942 397.897,345.947 398.778,345.953 399.66,345.958 400.541,345.964 401.422,345.969 402.303,345.975 403.185,345.98 \n",
       "  404.066,345.985 404.947,345.99 405.828,345.996 406.71,346.001 407.591,346.006 408.472,346.011 409.353,346.016 410.235,346.021 411.116,346.026 411.997,346.031 \n",
       "  412.878,346.036 413.76,346.041 414.641,346.046 415.522,346.051 416.403,346.056 417.285,346.061 418.166,346.066 419.047,346.07 419.928,346.075 420.81,346.079 \n",
       "  421.691,346.084 422.572,346.088 423.453,346.093 424.335,346.097 425.216,346.101 426.097,346.105 426.978,346.109 427.86,346.113 428.741,346.117 429.622,346.12 \n",
       "  430.503,346.124 431.385,346.127 432.266,346.13 433.147,346.133 434.028,346.136 434.909,346.138 435.791,346.14 436.672,346.141 437.553,346.143 438.434,346.143 \n",
       "  439.316,346.144 440.197,346.183 441.078,346.192 441.959,346.196 442.841,346.2 443.722,346.204 444.603,346.208 445.484,346.211 446.366,346.215 447.247,346.219 \n",
       "  448.128,346.222 449.009,346.225 449.891,346.228 450.772,346.231 451.653,346.233 452.534,346.235 453.416,346.237 454.297,346.238 455.178,346.239 456.059,346.265 \n",
       "  456.941,346.271 457.822,346.275 458.703,346.279 459.584,346.283 460.466,346.287 461.347,346.29 462.228,346.293 463.109,346.296 463.991,346.299 464.872,346.302 \n",
       "  465.753,346.304 466.634,346.306 467.516,346.307 468.397,346.307 469.278,346.307 470.159,346.331 471.041,346.338 471.922,346.342 472.803,346.345 473.684,346.348 \n",
       "  474.566,346.351 475.447,346.354 476.328,346.357 477.209,346.359 478.091,346.361 478.972,346.362 479.853,346.363 480.734,346.38 481.615,346.385 482.497,346.389 \n",
       "  483.378,346.393 484.259,346.396 485.14,346.399 486.022,346.402 486.903,346.404 487.784,346.406 488.665,346.408 489.547,346.409 490.428,346.41 491.309,346.426 \n",
       "  492.19,346.431 493.072,346.435 493.953,346.438 494.834,346.441 495.715,346.444 496.597,346.446 497.478,346.448 498.359,346.45 499.24,346.45 500.122,346.464 \n",
       "  501.003,346.468 501.884,346.472 502.765,346.475 503.647,346.478 504.528,346.481 505.409,346.483 506.29,346.485 507.172,346.486 508.053,346.487 508.934,346.5 \n",
       "  509.815,346.504 510.697,346.507 511.578,346.511 512.459,346.513 513.34,346.516 514.222,346.518 515.103,346.519 515.984,346.52 516.865,346.52 517.747,346.534 \n",
       "  518.628,346.539 519.509,346.542 520.39,346.544 521.272,346.547 522.153,346.549 523.034,346.55 523.915,346.551 524.797,346.562 525.678,346.566 526.559,346.569 \n",
       "  527.44,346.572 528.321,346.574 529.203,346.576 530.084,346.578 530.965,346.579 531.846,346.588 532.728,346.592 533.609,346.595 534.49,346.598 535.371,346.601 \n",
       "  536.253,346.603 537.134,346.604 538.015,346.605 538.896,346.614 539.778,346.618 540.659,346.621 541.54,346.624 542.421,346.626 543.303,346.628 544.184,346.629 \n",
       "  545.065,346.629 545.946,346.64 546.828,346.643 547.709,346.646 548.59,346.649 549.471,346.651 550.353,346.652 551.234,346.652 552.115,346.662 552.996,346.665 \n",
       "  553.878,346.668 554.759,346.67 555.64,346.672 556.521,346.674 557.403,346.674 558.284,346.683 559.165,346.686 560.046,346.689 560.928,346.692 561.809,346.693 \n",
       "  562.69,346.695 563.571,346.695 564.453,346.704 565.334,346.707 566.215,346.71 567.096,346.712 567.978,346.714 568.859,346.715 569.74,346.715 570.621,346.724 \n",
       "  571.503,346.728 572.384,346.731 573.265,346.732 574.146,346.734 575.027,346.734 575.909,346.742 576.79,346.745 577.671,346.748 578.552,346.75 579.434,346.751 \n",
       "  580.315,346.752 \n",
       "  \"/>\n",
       "<polygon clip-path=\"url(#clip0400)\" points=\"\n",
       "489.608,62.931 562.315,62.931 562.315,32.691 489.608,32.691 \n",
       "  \" fill=\"#ffffff\" fill-opacity=\"1\"/>\n",
       "<polyline clip-path=\"url(#clip0400)\" style=\"stroke:#000000; stroke-width:1; stroke-opacity:1; fill:none\" points=\"\n",
       "  489.608,62.931 562.315,62.931 562.315,32.691 489.608,32.691 489.608,62.931 \n",
       "  \"/>\n",
       "<polyline clip-path=\"url(#clip0400)\" style=\"stroke:#009af9; stroke-width:1; stroke-opacity:1; fill:none\" points=\"\n",
       "  495.608,47.811 531.608,47.811 \n",
       "  \"/>\n",
       "<g clip-path=\"url(#clip0400)\">\n",
       "<text style=\"fill:#000000; fill-opacity:1; font-family:Arial,Helvetica Neue,Helvetica,sans-serif; font-size:12; text-anchor:start;\" transform=\"rotate(0, 537.608, 52.311)\" x=\"537.608\" y=\"52.311\">y1</text>\n",
       "</g>\n",
       "</svg>\n"
      ]
     },
     "execution_count": 278,
     "metadata": {},
     "output_type": "execute_result"
    }
   ],
   "source": [
    "plot(losses,xlabel=\"Epochs\",ylabel=\"Loss\",ylim=(0.0,500.0)) "
   ]
  },
  {
   "cell_type": "code",
   "execution_count": 279,
   "metadata": {},
   "outputs": [],
   "source": [
    "idx = 5\n",
    "imshow(Array{Ftype}(w[end])[:,:,1,1]);\n",
    "imshow(Array{Ftype}(xtrn)[:,:,1,idx]);\n",
    "imshow(Array{Ftype}(predict(w,xtrn))[:,:,1,idx]);\n",
    "imshow(Array{Ftype}(ytrn)[:,:,1,idx]);"
   ]
  },
  {
   "cell_type": "markdown",
   "metadata": {
    "slideshow": {
     "slide_type": "slide"
    }
   },
   "source": [
    "# Testing gradients"
   ]
  },
  {
   "cell_type": "code",
   "execution_count": 53,
   "metadata": {
    "scrolled": false
   },
   "outputs": [
    {
     "name": "stdout",
     "output_type": "stream",
     "text": [
      "Knet.KnetArray{Float32,4}\n",
      "Knet.KnetArray{Float32,4}\n",
      "    h: 0.1\n",
      " diff: [22.8909, 23.0227, 23.5443, 82.4476, 51.2972, 18.5263, 54.7812, 56.2871, 111.889, 32.8095, 39.5458, 34.9362, 16.5791, 159.094]\n",
      "    h: 0.05\n",
      " diff: [165.367, 836.022, 54.7307, 25.3502, 9.67071, 4.26693, 19.2321, 21.9361, 38.9125, 73.26, 48.4928, 5.86808, 47.8326, 7.28696]\n",
      "ratio: [0.138425, 0.0275384, 0.430185, 3.25234, 5.30438, 4.34184, 2.84843, 2.56596, 2.87539, 0.447851, 0.815498, 5.9536, 0.346606, 21.8327]\n",
      "    h: 0.025\n",
      " diff: [73.4712, 45.7752, 6.4873, 3.59415, 2.81258, 0.651263, 1.8255, 5.50038, 293.323, 115.847, 4.33093, 7.59124, 26.9382, 17.1977]\n",
      "ratio: [2.25077, 18.2637, 8.43659, 7.05319, 3.43838, 6.55179, 10.5353, 3.9881, 0.132661, 0.632388, 11.1969, 0.773008, 1.77564, 0.423717]\n",
      "Knet.KnetArray{Float32,4}\n",
      "Knet.KnetArray{Float32,4}\n",
      "    h: 0.0125\n",
      " diff: [54.5542, 212.194, 3.20153, 0.840418, 0.737945, 4.58832, 1.39067, 0.812282, 73.7646, 29.9642, 7.35661, 1.87079, 20.3105, 4.05299]\n",
      "    h: 0.00625\n",
      " diff: [2.89911, 86.284, 15.8847, 0.912576, 0.236028, 0.0775439, 0.195021, 0.289898, 32.1436, 1.34125, 0.516922, 0.00318217, 3.28411, 0.794317]\n",
      "ratio: [18.8176, 2.45925, 0.201548, 0.920929, 3.12651, 59.1707, 7.13086, 2.80196, 2.29484, 22.3405, 14.2316, 587.896, 6.18449, 5.10249]\n",
      "    h: 0.003125\n",
      " diff: [31.5364, 31.7631, 0.236058, 0.124522, 0.0589995, 0.0203717, 0.188528, 0.0858288, 20.7987, 4.52399, 0.0979356, 0.00127447, 1.4, 0.156268]\n",
      "ratio: [0.0919291, 2.71648, 67.2915, 7.32866, 4.00051, 3.80645, 1.03444, 3.37763, 1.54547, 0.296475, 5.27819, 2.49687, 2.34579, 5.08304]\n"
     ]
    }
   ],
   "source": [
    "# Testing the gradient: Increasing w[2] (scalar μ) by eps_w should decrease loss by grad_w2 * eps_w2\n",
    "h = Ftype(1e-1)\n",
    "num_tests = 3\n",
    "ldiff = zeros(num_tests,length(w))\n",
    "vdot(x, y) = sum(vec(x).*vec(y))\n",
    "for (x,y) in dtst\n",
    "    println(typeof(x))\n",
    "    println(typeof(y))\n",
    "    for i in 1:num_tests\n",
    "        println(\"    h: $h\")\n",
    "        for j in 1:length(w)\n",
    "            w0 = copy(w)\n",
    "            loss0 = loss(w0,x,y)\n",
    "            grad0 = lossgradient(w0,x,y)\n",
    "            eps_w = h * Atype(randn(Ftype,size(w0[j])))\n",
    "            w0[j] -= eps_w\n",
    "            loss1 = loss(w0,x,y)\n",
    "            Δloss = loss1 - loss0\n",
    "            Δgrad = -vdot(vec(grad0[j]), vec(eps_w))\n",
    "            ldiff[i,j] = abs(Δloss - Δgrad)\n",
    "            #println(\"Δloss[$i]: \", Δloss)\n",
    "            #println(\"Δgrad[$i]: \", Δgrad)\n",
    "        end\n",
    "        println(\" diff: \", ldiff[i,:])\n",
    "        i > 1 && println(\"ratio: \", ldiff[i-1,:]./ldiff[i,:])\n",
    "        h /= 2.0f0\n",
    "    end\n",
    "end"
   ]
  },
  {
   "cell_type": "code",
   "execution_count": 54,
   "metadata": {},
   "outputs": [
    {
     "name": "stderr",
     "output_type": "stream",
     "text": [
      "\u001b[1m\u001b[33mWARNING: \u001b[39m\u001b[22m\u001b[33md=-553.1128 nd=-531.84375\u001b[39m\n",
      "\u001b[1m\u001b[33mWARNING: \u001b[39m\u001b[22m\u001b[33md=-2075.1553 nd=-2014.2578\u001b[39m\n",
      "\u001b[1m\u001b[33mWARNING: \u001b[39m\u001b[22m\u001b[33md=140.8363 nd=150.24547\u001b[39m\n",
      "\u001b[1m\u001b[33mWARNING: \u001b[39m\u001b[22m\u001b[33md=1875.3008 nd=1950.1987\u001b[39m\n"
     ]
    },
    {
     "name": "stdout",
     "output_type": "stream",
     "text": [
      "gcheck: d=135.35732 nd=135.22704\n",
      "gcheck: d=-17.256958 nd=-17.263025\n",
      "gcheck: d=-132.43896 nd=-132.34946\n"
     ]
    },
    {
     "name": "stderr",
     "output_type": "stream",
     "text": [
      "\u001b[1m\u001b[33mWARNING: \u001b[39m\u001b[22m\u001b[33md=-4741.0254 nd=-4665.051\u001b[39m\n",
      "\u001b[1m\u001b[33mWARNING: \u001b[39m\u001b[22m\u001b[33md=-340.8372 nd=-321.20087\u001b[39m\n",
      "\u001b[1m\u001b[33mWARNING: \u001b[39m\u001b[22m\u001b[33md=3461.1365 nd=3417.3362\u001b[39m\n",
      "\u001b[1m\u001b[33mWARNING: \u001b[39m\u001b[22m\u001b[33md=-7732.1177 nd=-7708.506\u001b[39m\n"
     ]
    },
    {
     "name": "stdout",
     "output_type": "stream",
     "text": [
      "gcheck: d=81.03483 nd=81.0566\n",
      "gcheck: d=-132.43896 nd=-132.39906\n",
      "gcheck: d=60.244087 nd=60.22198\n",
      "gcheck: d=66.87149 nd=66.81982\n",
      "gcheck: d=-129.47887 nd=-129.47269\n",
      "gcheck: d=278.65378 nd=278.58887\n",
      "gcheck: d=-96.46739 nd=-96.4375\n",
      "gcheck: d=-32.63891 nd=-32.625\n",
      "gcheck: d=-104.087746 nd=-104.125\n",
      "gcheck: d=131.15106 nd=131.125\n",
      "gcheck: d=-91.97578 nd=-92.0\n"
     ]
    },
    {
     "name": "stderr",
     "output_type": "stream",
     "text": [
      "\u001b[1m\u001b[33mWARNING: \u001b[39m\u001b[22m\u001b[33md=-5.626957 nd=-5.655129\u001b[39m\n"
     ]
    },
    {
     "name": "stdout",
     "output_type": "stream",
     "text": [
      "gcheck: d=-88.41452 nd=-88.375\n",
      "gcheck: d=-104.087746 nd=-104.0625\n",
      "gcheck: d=-86.7276 nd=-86.75\n",
      "gcheck: d=48.626648 nd=48.66441\n",
      "gcheck: d=16.778938 nd=16.772686\n",
      "gcheck: d=-96.352875 nd=-96.38388\n",
      "gcheck: d=-58.151463 nd=-58.192554\n",
      "gcheck: d=-165.54521 nd=-165.52199\n",
      "gcheck: d=56.003304 nd=56.02707\n",
      "gcheck: d=-51.359627 nd=-51.34174\n",
      "gcheck: d=-103.27675 nd=-103.27407\n"
     ]
    },
    {
     "name": "stderr",
     "output_type": "stream",
     "text": [
      "\u001b[1m\u001b[33mWARNING: \u001b[39m\u001b[22m\u001b[33md=13.678961 nd=13.75\u001b[39m\n",
      "\u001b[1m\u001b[33mWARNING: \u001b[39m\u001b[22m\u001b[33md=16.496325 nd=16.5625\u001b[39m\n"
     ]
    },
    {
     "name": "stdout",
     "output_type": "stream",
     "text": [
      "gcheck: d=44.753284 nd=44.766533\n",
      "gcheck: d=-34.950695 nd=-34.96278\n",
      "gcheck: d=109.6631 nd=109.69179\n"
     ]
    },
    {
     "name": "stderr",
     "output_type": "stream",
     "text": [
      "\u001b[1m\u001b[33mWARNING: \u001b[39m\u001b[22m\u001b[33md=0.03854291 nd=0.078745\u001b[39m\n",
      "\u001b[1m\u001b[33mWARNING: \u001b[39m\u001b[22m\u001b[33md=-0.0035299917 nd=-0.078745\u001b[39m\n",
      "\u001b[1m\u001b[33mWARNING: \u001b[39m\u001b[22m\u001b[33md=9.516695e-8 nd=0.078745\u001b[39m\n",
      "\u001b[1m\u001b[33mWARNING: \u001b[39m\u001b[22m\u001b[33md=-0.0017343233 nd=0.0\u001b[39m\n"
     ]
    },
    {
     "name": "stdout",
     "output_type": "stream",
     "text": [
      "gcheck: d=109.6631 nd=109.613045\n",
      "gcheck: d=109.6631 nd=109.69179\n",
      "gcheck: d=79.64308 nd=79.6112\n",
      "gcheck: d=40.274815 nd=40.31744\n",
      "gcheck: d=335.18845 nd=335.21747\n",
      "gcheck: d=119.29025 nd=119.21993\n",
      "gcheck: d=283.896 nd=283.95447\n",
      "gcheck: d=-172.92583 nd=-172.92403\n",
      "gcheck: d=-28.7787 nd=-28.820671\n",
      "gcheck: d=283.896 nd=283.95447\n",
      "gcheck: d=335.18845 nd=335.21747\n",
      "gcheck: d=-145.42209 nd=-145.39635\n",
      "gcheck: d=-125.159874 nd=-125.15694\n",
      "gcheck: d=-109.78865 nd=-109.72901\n",
      "gcheck: d=-275.1388 nd=-275.16666\n"
     ]
    },
    {
     "name": "stderr",
     "output_type": "stream",
     "text": [
      "\u001b[1m\u001b[33mWARNING: \u001b[39m\u001b[22m\u001b[33md=9.480244 nd=9.528145\u001b[39m\n",
      "\u001b[1m\u001b[33mWARNING: \u001b[39m\u001b[22m\u001b[33md=-28.480036 nd=-28.426945\u001b[39m\n",
      "\u001b[1m\u001b[33mWARNING: \u001b[39m\u001b[22m\u001b[33md=-0.04151392 nd=-0.049606394\u001b[39m\n"
     ]
    },
    {
     "name": "stdout",
     "output_type": "stream",
     "text": [
      "gcheck: d=-177.0417 nd=-176.99521\n",
      "gcheck: d=-109.38666 nd=-109.3821\n",
      "gcheck: d=-90.556564 nd=-90.53167\n",
      "gcheck: d=-113.88885 nd=-113.84667\n",
      "gcheck: d=-259.1242 nd=-259.0942\n"
     ]
    },
    {
     "name": "stderr",
     "output_type": "stream",
     "text": [
      "\u001b[1m\u001b[33mWARNING: \u001b[39m\u001b[22m\u001b[33md=144.28156 nd=143.875\u001b[39m\n",
      "\u001b[1m\u001b[33mWARNING: \u001b[39m\u001b[22m\u001b[33md=154.73064 nd=155.875\u001b[39m\n",
      "\u001b[1m\u001b[33mWARNING: \u001b[39m\u001b[22m\u001b[33md=-29.104698 nd=-30.9375\u001b[39m\n",
      "\u001b[1m\u001b[33mWARNING: \u001b[39m\u001b[22m\u001b[33md=-1239.4521 nd=-1236.125\u001b[39m\n"
     ]
    },
    {
     "name": "stdout",
     "output_type": "stream",
     "text": [
      "gcheck: d=172.89618 nd=172.75\n",
      "gcheck: d=501.43835 nd=501.3125\n",
      "gcheck: d=1064.7478 nd=1064.25\n"
     ]
    },
    {
     "name": "stderr",
     "output_type": "stream",
     "text": [
      "\u001b[1m\u001b[33mWARNING: \u001b[39m\u001b[22m\u001b[33md=-290.699 nd=-288.375\u001b[39m\n",
      "\u001b[1m\u001b[33mWARNING: \u001b[39m\u001b[22m\u001b[33md=72.56364 nd=71.125\u001b[39m\n",
      "\u001b[1m\u001b[33mWARNING: \u001b[39m\u001b[22m\u001b[33md=372.02026 nd=373.125\u001b[39m\n",
      "\u001b[1m\u001b[33mWARNING: \u001b[39m\u001b[22m\u001b[33md=17.318909 nd=17.375\u001b[39m\n",
      "\u001b[1m\u001b[33mWARNING: \u001b[39m\u001b[22m\u001b[33md=15.659812 nd=15.625\u001b[39m\n",
      "\u001b[1m\u001b[33mWARNING: \u001b[39m\u001b[22m\u001b[33md=82.96138 nd=82.875\u001b[39m\n"
     ]
    },
    {
     "name": "stdout",
     "output_type": "stream",
     "text": [
      "gcheck: d=38.018486 nd=38.0\n",
      "gcheck: d=-31.266869 nd=-31.25\n",
      "gcheck: d=-123.62665 nd=-123.625\n",
      "gcheck: d=-73.65943 nd=-73.625\n",
      "gcheck: d=92.680855 nd=92.625\n",
      "gcheck: d=99.922775 nd=99.875\n",
      "gcheck: d=-226.45404 nd=-226.5\n",
      "gcheck: d=54.27318 nd=54.255306\n",
      "gcheck: d=-51.52768 nd=-51.577976\n",
      "gcheck: d=-57.52496 nd=-57.562595\n"
     ]
    },
    {
     "name": "stderr",
     "output_type": "stream",
     "text": [
      "\u001b[1m\u001b[33mWARNING: \u001b[39m\u001b[22m\u001b[33md=6.0927925 nd=6.1421103\u001b[39m\n",
      "\u001b[1m\u001b[33mWARNING: \u001b[39m\u001b[22m\u001b[33md=-17.262444 nd=-17.3239\u001b[39m\n"
     ]
    },
    {
     "name": "stdout",
     "output_type": "stream",
     "text": [
      "gcheck: d=50.38418 nd=50.3968\n",
      "gcheck: d=93.18991 nd=93.155334\n",
      "gcheck: d=57.776154 nd=57.798832\n",
      "gcheck: d=70.81013 nd=70.791756\n",
      "gcheck: d=13.842267 nd=13.85912\n"
     ]
    },
    {
     "name": "stderr",
     "output_type": "stream",
     "text": [
      "\u001b[1m\u001b[33mWARNING: \u001b[39m\u001b[22m\u001b[33md=4.6372137 nd=4.7247\u001b[39m\n",
      "\u001b[1m\u001b[33mWARNING: \u001b[39m\u001b[22m\u001b[33md=19.475246 nd=19.52876\u001b[39m\n",
      "\u001b[1m\u001b[33mWARNING: \u001b[39m\u001b[22m\u001b[33md=21.539677 nd=21.57613\u001b[39m\n",
      "\u001b[1m\u001b[33mWARNING: \u001b[39m\u001b[22m\u001b[33md=-18.899519 nd=-19.05629\u001b[39m\n",
      "\u001b[1m\u001b[33mWARNING: \u001b[39m\u001b[22m\u001b[33md=-15.329723 nd=-15.355275\u001b[39m\n"
     ]
    },
    {
     "name": "stdout",
     "output_type": "stream",
     "text": [
      "gcheck: d=41.286446 nd=41.262383\n",
      "gcheck: d=39.651127 nd=39.68748\n",
      "gcheck: d=45.50427 nd=45.435867\n",
      "gcheck: d=-2.3756218 nd=-2.3811069\n",
      "gcheck: d=191.98499 nd=191.92714\n",
      "gcheck: d=162.06711 nd=161.96487\n",
      "gcheck: d=65.680176 nd=65.62906\n",
      "gcheck: d=156.85703 nd=156.90503\n"
     ]
    },
    {
     "name": "stderr",
     "output_type": "stream",
     "text": [
      "\u001b[1m\u001b[33mWARNING: \u001b[39m\u001b[22m\u001b[33md=-16.439987 nd=-16.37896\u001b[39m\n",
      "\u001b[1m\u001b[33mWARNING: \u001b[39m\u001b[22m\u001b[33md=-18.899519 nd=-18.977545\u001b[39m\n"
     ]
    },
    {
     "name": "stdout",
     "output_type": "stream",
     "text": [
      "gcheck: d=-21.065315 nd=-21.082718\n",
      "gcheck: d=133.5229 nd=133.49081\n",
      "gcheck: d=52.62127 nd=52.632385\n",
      "gcheck: d=-69.469986 nd=-69.548164\n",
      "gcheck: d=-111.24867 nd=-111.11799\n"
     ]
    },
    {
     "name": "stderr",
     "output_type": "stream",
     "text": [
      "\u001b[1m\u001b[33mWARNING: \u001b[39m\u001b[22m\u001b[33md=-24.673262 nd=-24.604773\u001b[39m\n",
      "\u001b[1m\u001b[33mWARNING: \u001b[39m\u001b[22m\u001b[33md=-42.14415 nd=-42.26452\u001b[39m\n",
      "\u001b[1m\u001b[33mWARNING: \u001b[39m\u001b[22m\u001b[33md=16.565369 nd=16.469322\u001b[39m\n",
      "\u001b[1m\u001b[33mWARNING: \u001b[39m\u001b[22m\u001b[33md=31.340153 nd=31.25203\u001b[39m\n",
      "\u001b[1m\u001b[33mWARNING: \u001b[39m\u001b[22m\u001b[33md=-11.009893 nd=-11.111833\u001b[39m\n",
      "\u001b[1m\u001b[33mWARNING: \u001b[39m\u001b[22m\u001b[33md=-5.170639 nd=-5.059852\u001b[39m\n"
     ]
    },
    {
     "name": "stdout",
     "output_type": "stream",
     "text": [
      "gcheck: d=42.804314 nd=42.76071\n",
      "gcheck: d=-29.203026 nd=-29.168516\n",
      "gcheck: d=23.532623 nd=23.513432\n"
     ]
    },
    {
     "name": "stderr",
     "output_type": "stream",
     "text": [
      "\u001b[1m\u001b[33mWARNING: \u001b[39m\u001b[22m\u001b[33md=15.113636 nd=15.080344\u001b[39m\n",
      "\u001b[1m\u001b[33mWARNING: \u001b[39m\u001b[22m\u001b[33md=1445.0671 nd=1428.5131\u001b[39m\n",
      "\u001b[1m\u001b[33mWARNING: \u001b[39m\u001b[22m\u001b[33md=-2931.056 nd=-2701.5835\u001b[39m\n",
      "\u001b[1m\u001b[33mWARNING: \u001b[39m\u001b[22m\u001b[33md=3195.9302 nd=3136.2166\u001b[39m\n",
      "\u001b[1m\u001b[33mWARNING: \u001b[39m\u001b[22m\u001b[33md=-2848.5044 nd=-2857.656\u001b[39m\n",
      "\u001b[1m\u001b[33mWARNING: \u001b[39m\u001b[22m\u001b[33md=-372.32486 nd=-390.65396\u001b[39m\n",
      "\u001b[1m\u001b[33mWARNING: \u001b[39m\u001b[22m\u001b[33md=387.7577 nd=421.9157\u001b[39m\n",
      "\u001b[1m\u001b[33mWARNING: \u001b[39m\u001b[22m\u001b[33md=-16438.441 nd=-15800.814\u001b[39m\n",
      "\u001b[1m\u001b[33mWARNING: \u001b[39m\u001b[22m\u001b[33md=-0.4192505 nd=-0.4375\u001b[39m\n",
      "\u001b[1m\u001b[33mWARNING: \u001b[39m\u001b[22m\u001b[33md=-0.4192505 nd=-0.5\u001b[39m\n"
     ]
    },
    {
     "name": "stdout",
     "output_type": "stream",
     "text": [
      "gcheck: d=1087.4575 nd=1086.2085\n",
      "gcheck: d=-178.28958 nd=-178.25\n",
      "gcheck: d=-384.10718 nd=-384.0\n",
      "gcheck: d=171.90573 nd=171.9375\n",
      "gcheck: d=171.90573 nd=171.9375\n",
      "gcheck: d=171.90573 nd=171.875\n",
      "gcheck: d=-335.1856 nd=-334.875\n",
      "gcheck: d=171.90573 nd=171.9375\n",
      "gcheck: d=99.614494 nd=99.625\n",
      "gcheck: d=42.044415 nd=42.04983\n",
      "gcheck: d=-52.028023 nd=-52.050446\n",
      "gcheck: d=-80.31273 nd=-80.3199\n",
      "gcheck: d=121.01402 nd=121.03107\n",
      "gcheck: d=136.15651 nd=136.1501\n",
      "gcheck: d=42.044415 nd=42.04983\n",
      "gcheck: d=83.86984 nd=83.94217\n"
     ]
    },
    {
     "name": "stderr",
     "output_type": "stream",
     "text": [
      "\u001b[1m\u001b[33mWARNING: \u001b[39m\u001b[22m\u001b[33md=-3.8387918 nd=-3.7797601\u001b[39m\n",
      "\u001b[1m\u001b[33mWARNING: \u001b[39m\u001b[22m\u001b[33md=-29.914234 nd=-29.76561\u001b[39m\n"
     ]
    },
    {
     "name": "stdout",
     "output_type": "stream",
     "text": [
      "gcheck: d=-60.491886 nd=-60.554905\n",
      "gcheck: d=-80.79993 nd=-80.85842\n",
      "gcheck: d=63.722908 nd=63.793823\n",
      "gcheck: d=-121.71699 nd=-121.73409\n",
      "gcheck: d=-138.30942 nd=-138.35223\n",
      "gcheck: d=-131.30058 nd=-131.25851\n",
      "gcheck: d=59.819695 nd=59.825176\n",
      "gcheck: d=-19.359097 nd=-19.346495\n",
      "gcheck: d=11.2092705 nd=11.211045\n",
      "gcheck: d=64.906845 nd=64.88516\n"
     ]
    },
    {
     "name": "stderr",
     "output_type": "stream",
     "text": [
      "\u001b[1m\u001b[33mWARNING: \u001b[39m\u001b[22m\u001b[33md=32.383865 nd=32.442978\u001b[39m\n",
      "\u001b[1m\u001b[33mWARNING: \u001b[39m\u001b[22m\u001b[33md=-0.112417854 nd=-0.15749\u001b[39m\n"
     ]
    },
    {
     "name": "stdout",
     "output_type": "stream",
     "text": [
      "gcheck: d=-105.65699 nd=-105.66162\n",
      "gcheck: d=42.033638 nd=42.066223\n",
      "gcheck: d=100.01557 nd=100.105705\n",
      "gcheck: d=27.26643 nd=27.282856\n",
      "gcheck: d=147.44653 nd=147.42664\n",
      "gcheck: d=-12.306878 nd=-12.302386\n",
      "gcheck: d=88.90492 nd=88.99387\n",
      "gcheck: d=-98.00871 nd=-98.02223\n",
      "gcheck: d=-167.55692 nd=-167.5208\n",
      "gcheck: d=-167.55692 nd=-167.5704\n",
      "gcheck: d=-194.37938 nd=-194.40746\n",
      "gcheck: d=-147.06094 nd=-147.03336\n"
     ]
    },
    {
     "name": "stderr",
     "output_type": "stream",
     "text": [
      "\u001b[1m\u001b[33mWARNING: \u001b[39m\u001b[22m\u001b[33md=-95.67311 nd=-95.839264\u001b[39m\n",
      "\u001b[1m\u001b[33mWARNING: \u001b[39m\u001b[22m\u001b[33md=-3.261917 nd=-3.1748092\u001b[39m\n",
      "\u001b[1m\u001b[33mWARNING: \u001b[39m\u001b[22m\u001b[33md=-3.261917 nd=-3.1748092\u001b[39m\n",
      "\u001b[1m\u001b[33mWARNING: \u001b[39m\u001b[22m\u001b[33md=13.800507 nd=13.889454\u001b[39m\n"
     ]
    },
    {
     "name": "stdout",
     "output_type": "stream",
     "text": [
      "gcheck: d=113.76544 nd=113.74746\n",
      "gcheck: d=-107.842575 nd=-107.893906\n",
      "gcheck: d=-98.00871 nd=-97.972626\n",
      "gcheck: d=-63.814545 nd=-63.793823\n",
      "gcheck: d=-96.67969 nd=-96.53404\n"
     ]
    },
    {
     "name": "stderr",
     "output_type": "stream",
     "text": [
      "\u001b[1m\u001b[33mWARNING: \u001b[39m\u001b[22m\u001b[33md=-4.4440746 nd=-4.414969\u001b[39m\n",
      "\u001b[1m\u001b[33mWARNING: \u001b[39m\u001b[22m\u001b[33md=461.14685 nd=459.75208\u001b[39m\n",
      "\u001b[1m\u001b[33mWARNING: \u001b[39m\u001b[22m\u001b[33md=226.8732 nd=223.87366\u001b[39m\n",
      "\u001b[1m\u001b[33mWARNING: \u001b[39m\u001b[22m\u001b[33md=-626.89655 nd=-623.9492\u001b[39m\n",
      "\u001b[1m\u001b[33mWARNING: \u001b[39m\u001b[22m\u001b[33md=1411.3573 nd=1401.331\u001b[39m\n",
      "\u001b[1m\u001b[33mWARNING: \u001b[39m\u001b[22m\u001b[33md=26.286598 nd=24.555166\u001b[39m\n",
      "\u001b[1m\u001b[33mWARNING: \u001b[39m\u001b[22m\u001b[33md=-3.7966557 nd=-3.274022\u001b[39m\n"
     ]
    },
    {
     "name": "stdout",
     "output_type": "stream",
     "text": [
      "gcheck: d=-278.50812 nd=-278.78793\n",
      "gcheck: d=0.54880905 nd=0.54567033\n",
      "gcheck: d=39.933655 nd=39.933147\n",
      "gcheck: d=-59.08978 nd=-59.03161\n",
      "gcheck: d=-267.37778 nd=-267.52728\n",
      "gcheck: d=54.43596 nd=54.418217\n",
      "gcheck: d=100.32812 nd=100.35374\n",
      "gcheck: d=67.95772 nd=67.86155\n",
      "gcheck: d=-223.16823 nd=-223.47614\n",
      "gcheck: d=175.39326 nd=175.2098\n",
      "gcheck: d=-365.27368 nd=-365.10306\n"
     ]
    },
    {
     "name": "stderr",
     "output_type": "stream",
     "text": [
      "\u001b[1m\u001b[33mWARNING: \u001b[39m\u001b[22m\u001b[33md=-1.4172363 nd=-2.629139\u001b[39m\n",
      "\u001b[1m\u001b[33mWARNING: \u001b[39m\u001b[22m\u001b[33md=-229.69835 nd=-228.63588\u001b[39m\n"
     ]
    },
    {
     "name": "stdout",
     "output_type": "stream",
     "text": [
      "gcheck: d=-42.40323 nd=-42.413467\n",
      "gcheck: d=58.08903 nd=58.138695\n",
      "gcheck: d=-132.5105 nd=-132.49867\n",
      "gcheck: d=-24.691269 nd=-24.703985\n",
      "gcheck: d=18.109722 nd=18.155941\n",
      "gcheck: d=-37.572178 nd=-37.601646\n",
      "gcheck: d=-63.244095 nd=-63.29776\n",
      "gcheck: d=-158.45097 nd=-158.44258\n",
      "gcheck: d=-88.46575 nd=-88.3986\n",
      "gcheck: d=-20.04084 nd=-19.991377\n",
      "gcheck: d=-38.995613 nd=-39.08984\n",
      "gcheck: d=-33.207504 nd=-33.186577\n",
      "gcheck: d=-25.688728 nd=-25.646505\n",
      "gcheck: d=47.08919 nd=47.026863\n",
      "gcheck: d=32.176083 nd=32.144848\n",
      "gcheck: d=-37.872856 nd=-37.849678\n",
      "gcheck: d=-66.48845 nd=-66.47257\n"
     ]
    },
    {
     "name": "stderr",
     "output_type": "stream",
     "text": [
      "\u001b[1m\u001b[33mWARNING: \u001b[39m\u001b[22m\u001b[33md=12.222026 nd=12.302348\u001b[39m\n"
     ]
    },
    {
     "name": "stdout",
     "output_type": "stream",
     "text": [
      "gcheck: d=-28.253416 nd=-28.226038\n",
      "gcheck: d=-34.483078 nd=-34.52605\n",
      "gcheck: d=-31.27827 nd=-31.351242\n",
      "gcheck: d=35.375397 nd=35.369358\n"
     ]
    },
    {
     "name": "stderr",
     "output_type": "stream",
     "text": [
      "\u001b[1m\u001b[33mWARNING: \u001b[39m\u001b[22m\u001b[33md=27.837425 nd=27.680368\u001b[39m\n",
      "\u001b[1m\u001b[33mWARNING: \u001b[39m\u001b[22m\u001b[33md=1.5493984 nd=1.4881918\u001b[39m\n",
      "\u001b[1m\u001b[33mWARNING: \u001b[39m\u001b[22m\u001b[33md=-21.461006 nd=-21.529175\u001b[39m\n"
     ]
    },
    {
     "name": "stdout",
     "output_type": "stream",
     "text": [
      "gcheck: d=59.90058 nd=59.924526\n",
      "gcheck: d=-38.55629 nd=-38.54417\n",
      "gcheck: d=72.19289 nd=72.22691\n",
      "gcheck: d=-114.074196 nd=-114.0451\n",
      "gcheck: d=-32.03996 nd=-32.04573\n",
      "gcheck: d=30.449879 nd=30.458326\n",
      "gcheck: d=22.847805 nd=22.818941\n",
      "gcheck: d=-45.53927 nd=-45.53867\n",
      "gcheck: d=28.904173 nd=28.870922\n",
      "gcheck: d=109.64914 nd=109.630135\n",
      "gcheck: d=100.5103 nd=100.55216\n",
      "gcheck: d=-11.390888 nd=-11.409436\n",
      "gcheck: d=31.427097 nd=31.351242\n"
     ]
    },
    {
     "name": "stderr",
     "output_type": "stream",
     "text": [
      "\u001b[1m\u001b[33mWARNING: \u001b[39m\u001b[22m\u001b[33md=-0.42591763 nd=-0.49606282\u001b[39m\n"
     ]
    },
    {
     "name": "stdout",
     "output_type": "stream",
     "text": [
      "gcheck: d=28.904173 nd=28.920528\n"
     ]
    }
   ],
   "source": [
    "for (x,y) in dtst\n",
    "    gradcheck(loss, w, x, y; verbose=true)\n",
    "end"
   ]
  },
  {
   "cell_type": "code",
   "execution_count": null,
   "metadata": {},
   "outputs": [],
   "source": []
  },
  {
   "cell_type": "markdown",
   "metadata": {
    "slideshow": {
     "slide_type": "slide"
    }
   },
   "source": [
    "# Linear regression testing with imfilter"
   ]
  },
  {
   "cell_type": "code",
   "execution_count": 350,
   "metadata": {},
   "outputs": [],
   "source": [
    "# define types\n",
    "srand(42)\n",
    "Ftype = Float64\n",
    "Atype = Array{Ftype};"
   ]
  },
  {
   "cell_type": "code",
   "execution_count": 352,
   "metadata": {},
   "outputs": [],
   "source": [
    "# Initialize model\n",
    "m, n = 50, 60\n",
    "\n",
    "xp, yp = linspace(-pi,pi,m), linspace(-pi,pi,n)'\n",
    "Wx, Wy = 1:5, 1:5\n",
    "idx = 1\n",
    "y = zeros(m,n,1,length(Wx)*length(Wy))\n",
    "for (ωx,ωy) in Iterators.product(Wx,Wy)\n",
    "    y[:,:,1,idx] = Atype( sin.(ωx*xp) .* cos.(ωy*yp) );\n",
    "    idx += 1\n",
    "end\n",
    "x = Atype(y + 0.5randn(Ftype,size(y)));\n",
    "w = [ Atype(0.1*randn(5,5,1,1)), Ftype(1.0) ];"
   ]
  },
  {
   "cell_type": "code",
   "execution_count": 353,
   "metadata": {},
   "outputs": [],
   "source": [
    "#z = imfilter(x,centered(w));\n",
    "z = conv4(w[1],x,padding=1);"
   ]
  },
  {
   "cell_type": "code",
   "execution_count": 354,
   "metadata": {},
   "outputs": [],
   "source": [
    "# Define loss\n",
    "predict(w,x) = conv4(w[1],x,padding=div(size(w[1],1),2)) .+ w[2]\n",
    "loss(w,x,y) = mean(abs2,y-predict(w,x))\n",
    "lossgradient = grad(loss);"
   ]
  },
  {
   "cell_type": "code",
   "execution_count": 355,
   "metadata": {},
   "outputs": [
    {
     "data": {
      "text/plain": [
       "1.2025514132303978"
      ]
     },
     "execution_count": 355,
     "metadata": {},
     "output_type": "execute_result"
    }
   ],
   "source": [
    "w0 = w[2]\n",
    "loss0 = loss(w,x,y)"
   ]
  },
  {
   "cell_type": "code",
   "execution_count": 356,
   "metadata": {},
   "outputs": [],
   "source": [
    "# Testing the gradient: Increasing w[2] by eps_w should decrease loss by 1.9996 * eps_w\n",
    "grad0 = lossgradient(w,x,y)\n",
    "eps_w = 0.0001\n",
    "w[2] = w0 - eps_w\n",
    "loss1 = loss(w,x,y);"
   ]
  },
  {
   "cell_type": "code",
   "execution_count": 357,
   "metadata": {
    "scrolled": true
   },
   "outputs": [
    {
     "data": {
      "text/plain": [
       "-0.0002000528670471624"
      ]
     },
     "execution_count": 357,
     "metadata": {},
     "output_type": "execute_result"
    }
   ],
   "source": [
    "loss1 - loss0"
   ]
  },
  {
   "cell_type": "code",
   "execution_count": 358,
   "metadata": {},
   "outputs": [
    {
     "data": {
      "text/plain": [
       "-0.00020006286704758562"
      ]
     },
     "execution_count": 358,
     "metadata": {},
     "output_type": "execute_result"
    }
   ],
   "source": [
    "-grad0[2] * eps_w"
   ]
  },
  {
   "cell_type": "code",
   "execution_count": 359,
   "metadata": {},
   "outputs": [
    {
     "data": {
      "text/plain": [
       "train! (generic function with 1 method)"
      ]
     },
     "execution_count": 359,
     "metadata": {},
     "output_type": "execute_result"
    }
   ],
   "source": [
    "# SGD training loop\n",
    "function train!(w, data; lr=.1)\n",
    "    for (x,y) in data\n",
    "        dw = lossgradient(w, x, y)\n",
    "        for i in 1:length(w)\n",
    "            w[i] -= lr * dw[i]\n",
    "        end\n",
    "    end\n",
    "    return w\n",
    "end"
   ]
  },
  {
   "cell_type": "code",
   "execution_count": 366,
   "metadata": {},
   "outputs": [
    {
     "name": "stdout",
     "output_type": "stream",
     "text": [
      " 24.838604 seconds (62.24 M allocations: 2.198 GiB, 25.63% gc time)\n"
     ]
    },
    {
     "data": {
      "text/plain": [
       "5×5×1×1 Array{Float64,4}:\n",
       "[:, :, 1, 1] =\n",
       "  0.0603571   0.0132552  0.063892   0.0274858   0.0322449\n",
       " -0.0333668   0.0864598  0.0876568  0.0515261   0.0370344\n",
       "  0.0357426   0.0624823  0.0490681  0.055675    0.0754124\n",
       "  0.0435113   0.164827   0.0843678  0.0341362  -0.0110172\n",
       "  0.0517037  -0.0553282  0.0563687  0.0313654   0.0773658"
      ]
     },
     "execution_count": 366,
     "metadata": {},
     "output_type": "execute_result"
    }
   ],
   "source": [
    "# Record the weights for 10 epochs\n",
    "@time weights = [ copy(train!(w, [(x, y)])) for epoch=1:10 ];\n",
    "weights[end][1]"
   ]
  },
  {
   "cell_type": "code",
   "execution_count": 367,
   "metadata": {
    "scrolled": true
   },
   "outputs": [
    {
     "data": {
      "text/plain": [
       "10-element Array{Float64,1}:\n",
       " 0.0554632\n",
       " 0.0504583\n",
       " 0.0466408\n",
       " 0.043643 \n",
       " 0.0412238\n",
       " 0.0392236\n",
       " 0.0375355\n",
       " 0.0360866\n",
       " 0.0348267\n",
       " 0.0337199"
      ]
     },
     "execution_count": 367,
     "metadata": {},
     "output_type": "execute_result"
    }
   ],
   "source": [
    "losses = [ loss(w,x,y) for w in weights ]"
   ]
  },
  {
   "cell_type": "code",
   "execution_count": 368,
   "metadata": {
    "scrolled": false
   },
   "outputs": [
    {
     "data": {
      "image/svg+xml": [
       "<?xml version=\"1.0\" encoding=\"utf-8\"?>\n",
       "<svg xmlns=\"http://www.w3.org/2000/svg\" xmlns:xlink=\"http://www.w3.org/1999/xlink\" width=\"600\" height=\"400\" viewBox=\"0 0 600 400\">\n",
       "<defs>\n",
       "  <clipPath id=\"clip3500\">\n",
       "    <rect x=\"0\" y=\"0\" width=\"600\" height=\"400\"/>\n",
       "  </clipPath>\n",
       "</defs>\n",
       "<polygon clip-path=\"url(#clip3500)\" points=\"\n",
       "0,400 600,400 600,0 0,0 \n",
       "  \" fill=\"#ffffff\" fill-opacity=\"1\"/>\n",
       "<defs>\n",
       "  <clipPath id=\"clip3501\">\n",
       "    <rect x=\"120\" y=\"0\" width=\"421\" height=\"400\"/>\n",
       "  </clipPath>\n",
       "</defs>\n",
       "<polygon clip-path=\"url(#clip3500)\" points=\"\n",
       "61.6037,360.121 580.315,360.121 580.315,11.811 61.6037,11.811 \n",
       "  \" fill=\"#ffffff\" fill-opacity=\"1\"/>\n",
       "<defs>\n",
       "  <clipPath id=\"clip3502\">\n",
       "    <rect x=\"61\" y=\"11\" width=\"520\" height=\"349\"/>\n",
       "  </clipPath>\n",
       "</defs>\n",
       "<polyline clip-path=\"url(#clip3502)\" style=\"stroke:#000000; stroke-width:0.5; stroke-opacity:0.1; fill:none\" points=\"\n",
       "  119.238,360.121 119.238,11.811 \n",
       "  \"/>\n",
       "<polyline clip-path=\"url(#clip3502)\" style=\"stroke:#000000; stroke-width:0.5; stroke-opacity:0.1; fill:none\" points=\"\n",
       "  234.507,360.121 234.507,11.811 \n",
       "  \"/>\n",
       "<polyline clip-path=\"url(#clip3502)\" style=\"stroke:#000000; stroke-width:0.5; stroke-opacity:0.1; fill:none\" points=\"\n",
       "  349.777,360.121 349.777,11.811 \n",
       "  \"/>\n",
       "<polyline clip-path=\"url(#clip3502)\" style=\"stroke:#000000; stroke-width:0.5; stroke-opacity:0.1; fill:none\" points=\"\n",
       "  465.046,360.121 465.046,11.811 \n",
       "  \"/>\n",
       "<polyline clip-path=\"url(#clip3502)\" style=\"stroke:#000000; stroke-width:0.5; stroke-opacity:0.1; fill:none\" points=\"\n",
       "  580.315,360.121 580.315,11.811 \n",
       "  \"/>\n",
       "<polyline clip-path=\"url(#clip3502)\" style=\"stroke:#000000; stroke-width:0.5; stroke-opacity:0.1; fill:none\" points=\"\n",
       "  61.6037,339.615 580.315,339.615 \n",
       "  \"/>\n",
       "<polyline clip-path=\"url(#clip3502)\" style=\"stroke:#000000; stroke-width:0.5; stroke-opacity:0.1; fill:none\" points=\"\n",
       "  61.6037,259.519 580.315,259.519 \n",
       "  \"/>\n",
       "<polyline clip-path=\"url(#clip3502)\" style=\"stroke:#000000; stroke-width:0.5; stroke-opacity:0.1; fill:none\" points=\"\n",
       "  61.6037,179.423 580.315,179.423 \n",
       "  \"/>\n",
       "<polyline clip-path=\"url(#clip3502)\" style=\"stroke:#000000; stroke-width:0.5; stroke-opacity:0.1; fill:none\" points=\"\n",
       "  61.6037,99.3273 580.315,99.3273 \n",
       "  \"/>\n",
       "<polyline clip-path=\"url(#clip3502)\" style=\"stroke:#000000; stroke-width:0.5; stroke-opacity:0.1; fill:none\" points=\"\n",
       "  61.6037,19.2313 580.315,19.2313 \n",
       "  \"/>\n",
       "<polyline clip-path=\"url(#clip3500)\" style=\"stroke:#000000; stroke-width:1; stroke-opacity:1; fill:none\" points=\"\n",
       "  61.6037,360.121 580.315,360.121 \n",
       "  \"/>\n",
       "<polyline clip-path=\"url(#clip3500)\" style=\"stroke:#000000; stroke-width:1; stroke-opacity:1; fill:none\" points=\"\n",
       "  61.6037,360.121 61.6037,11.811 \n",
       "  \"/>\n",
       "<polyline clip-path=\"url(#clip3500)\" style=\"stroke:#000000; stroke-width:1; stroke-opacity:1; fill:none\" points=\"\n",
       "  119.238,360.121 119.238,354.896 \n",
       "  \"/>\n",
       "<polyline clip-path=\"url(#clip3500)\" style=\"stroke:#000000; stroke-width:1; stroke-opacity:1; fill:none\" points=\"\n",
       "  234.507,360.121 234.507,354.896 \n",
       "  \"/>\n",
       "<polyline clip-path=\"url(#clip3500)\" style=\"stroke:#000000; stroke-width:1; stroke-opacity:1; fill:none\" points=\"\n",
       "  349.777,360.121 349.777,354.896 \n",
       "  \"/>\n",
       "<polyline clip-path=\"url(#clip3500)\" style=\"stroke:#000000; stroke-width:1; stroke-opacity:1; fill:none\" points=\"\n",
       "  465.046,360.121 465.046,354.896 \n",
       "  \"/>\n",
       "<polyline clip-path=\"url(#clip3500)\" style=\"stroke:#000000; stroke-width:1; stroke-opacity:1; fill:none\" points=\"\n",
       "  580.315,360.121 580.315,354.896 \n",
       "  \"/>\n",
       "<polyline clip-path=\"url(#clip3500)\" style=\"stroke:#000000; stroke-width:1; stroke-opacity:1; fill:none\" points=\"\n",
       "  61.6037,339.615 69.3844,339.615 \n",
       "  \"/>\n",
       "<polyline clip-path=\"url(#clip3500)\" style=\"stroke:#000000; stroke-width:1; stroke-opacity:1; fill:none\" points=\"\n",
       "  61.6037,259.519 69.3844,259.519 \n",
       "  \"/>\n",
       "<polyline clip-path=\"url(#clip3500)\" style=\"stroke:#000000; stroke-width:1; stroke-opacity:1; fill:none\" points=\"\n",
       "  61.6037,179.423 69.3844,179.423 \n",
       "  \"/>\n",
       "<polyline clip-path=\"url(#clip3500)\" style=\"stroke:#000000; stroke-width:1; stroke-opacity:1; fill:none\" points=\"\n",
       "  61.6037,99.3273 69.3844,99.3273 \n",
       "  \"/>\n",
       "<polyline clip-path=\"url(#clip3500)\" style=\"stroke:#000000; stroke-width:1; stroke-opacity:1; fill:none\" points=\"\n",
       "  61.6037,19.2313 69.3844,19.2313 \n",
       "  \"/>\n",
       "<g clip-path=\"url(#clip3500)\">\n",
       "<text style=\"fill:#000000; fill-opacity:1; font-family:Arial,Helvetica Neue,Helvetica,sans-serif; font-size:12; text-anchor:middle;\" transform=\"rotate(0, 119.238, 373.921)\" x=\"119.238\" y=\"373.921\">2</text>\n",
       "</g>\n",
       "<g clip-path=\"url(#clip3500)\">\n",
       "<text style=\"fill:#000000; fill-opacity:1; font-family:Arial,Helvetica Neue,Helvetica,sans-serif; font-size:12; text-anchor:middle;\" transform=\"rotate(0, 234.507, 373.921)\" x=\"234.507\" y=\"373.921\">4</text>\n",
       "</g>\n",
       "<g clip-path=\"url(#clip3500)\">\n",
       "<text style=\"fill:#000000; fill-opacity:1; font-family:Arial,Helvetica Neue,Helvetica,sans-serif; font-size:12; text-anchor:middle;\" transform=\"rotate(0, 349.777, 373.921)\" x=\"349.777\" y=\"373.921\">6</text>\n",
       "</g>\n",
       "<g clip-path=\"url(#clip3500)\">\n",
       "<text style=\"fill:#000000; fill-opacity:1; font-family:Arial,Helvetica Neue,Helvetica,sans-serif; font-size:12; text-anchor:middle;\" transform=\"rotate(0, 465.046, 373.921)\" x=\"465.046\" y=\"373.921\">8</text>\n",
       "</g>\n",
       "<g clip-path=\"url(#clip3500)\">\n",
       "<text style=\"fill:#000000; fill-opacity:1; font-family:Arial,Helvetica Neue,Helvetica,sans-serif; font-size:12; text-anchor:middle;\" transform=\"rotate(0, 580.315, 373.921)\" x=\"580.315\" y=\"373.921\">10</text>\n",
       "</g>\n",
       "<g clip-path=\"url(#clip3500)\">\n",
       "<text style=\"fill:#000000; fill-opacity:1; font-family:Arial,Helvetica Neue,Helvetica,sans-serif; font-size:12; text-anchor:end;\" transform=\"rotate(0, 55.6037, 344.115)\" x=\"55.6037\" y=\"344.115\">0.035</text>\n",
       "</g>\n",
       "<g clip-path=\"url(#clip3500)\">\n",
       "<text style=\"fill:#000000; fill-opacity:1; font-family:Arial,Helvetica Neue,Helvetica,sans-serif; font-size:12; text-anchor:end;\" transform=\"rotate(0, 55.6037, 264.019)\" x=\"55.6037\" y=\"264.019\">0.040</text>\n",
       "</g>\n",
       "<g clip-path=\"url(#clip3500)\">\n",
       "<text style=\"fill:#000000; fill-opacity:1; font-family:Arial,Helvetica Neue,Helvetica,sans-serif; font-size:12; text-anchor:end;\" transform=\"rotate(0, 55.6037, 183.923)\" x=\"55.6037\" y=\"183.923\">0.045</text>\n",
       "</g>\n",
       "<g clip-path=\"url(#clip3500)\">\n",
       "<text style=\"fill:#000000; fill-opacity:1; font-family:Arial,Helvetica Neue,Helvetica,sans-serif; font-size:12; text-anchor:end;\" transform=\"rotate(0, 55.6037, 103.827)\" x=\"55.6037\" y=\"103.827\">0.050</text>\n",
       "</g>\n",
       "<g clip-path=\"url(#clip3500)\">\n",
       "<text style=\"fill:#000000; fill-opacity:1; font-family:Arial,Helvetica Neue,Helvetica,sans-serif; font-size:12; text-anchor:end;\" transform=\"rotate(0, 55.6037, 23.7313)\" x=\"55.6037\" y=\"23.7313\">0.055</text>\n",
       "</g>\n",
       "<g clip-path=\"url(#clip3500)\">\n",
       "<text style=\"fill:#000000; fill-opacity:1; font-family:Arial,Helvetica Neue,Helvetica,sans-serif; font-size:16; text-anchor:middle;\" transform=\"rotate(0, 320.959, 397.6)\" x=\"320.959\" y=\"397.6\">Epochs</text>\n",
       "</g>\n",
       "<g clip-path=\"url(#clip3500)\">\n",
       "<text style=\"fill:#000000; fill-opacity:1; font-family:Arial,Helvetica Neue,Helvetica,sans-serif; font-size:16; text-anchor:middle;\" transform=\"rotate(-90, 14.4, 185.966)\" x=\"14.4\" y=\"185.966\">Loss</text>\n",
       "</g>\n",
       "<polyline clip-path=\"url(#clip3502)\" style=\"stroke:#009af9; stroke-width:1; stroke-opacity:1; fill:none\" points=\"\n",
       "  61.6037,11.811 119.238,91.9849 176.873,153.139 234.507,201.161 292.142,239.915 349.777,271.957 407.411,298.999 465.046,322.208 522.68,342.391 580.315,360.121 \n",
       "  \n",
       "  \"/>\n",
       "<polygon clip-path=\"url(#clip3500)\" points=\"\n",
       "489.608,62.931 562.315,62.931 562.315,32.691 489.608,32.691 \n",
       "  \" fill=\"#ffffff\" fill-opacity=\"1\"/>\n",
       "<polyline clip-path=\"url(#clip3500)\" style=\"stroke:#000000; stroke-width:1; stroke-opacity:1; fill:none\" points=\"\n",
       "  489.608,62.931 562.315,62.931 562.315,32.691 489.608,32.691 489.608,62.931 \n",
       "  \"/>\n",
       "<polyline clip-path=\"url(#clip3500)\" style=\"stroke:#009af9; stroke-width:1; stroke-opacity:1; fill:none\" points=\"\n",
       "  495.608,47.811 531.608,47.811 \n",
       "  \"/>\n",
       "<g clip-path=\"url(#clip3500)\">\n",
       "<text style=\"fill:#000000; fill-opacity:1; font-family:Arial,Helvetica Neue,Helvetica,sans-serif; font-size:12; text-anchor:start;\" transform=\"rotate(0, 537.608, 52.311)\" x=\"537.608\" y=\"52.311\">y1</text>\n",
       "</g>\n",
       "</svg>\n"
      ]
     },
     "execution_count": 368,
     "metadata": {},
     "output_type": "execute_result"
    }
   ],
   "source": [
    "plot(losses,xlabel=\"Epochs\",ylabel=\"Loss\") "
   ]
  },
  {
   "cell_type": "code",
   "execution_count": 369,
   "metadata": {},
   "outputs": [],
   "source": [
    "idx = 16\n",
    "imshow(w[1][:,:,1,1]);\n",
    "imshow(x[:,:,1,idx]);\n",
    "imshow(predict(w,x)[:,:,1,idx]);\n",
    "imshow(y[:,:,1,idx]);"
   ]
  },
  {
   "cell_type": "code",
   "execution_count": null,
   "metadata": {},
   "outputs": [],
   "source": []
  },
  {
   "cell_type": "markdown",
   "metadata": {
    "slideshow": {
     "slide_type": "slide"
    }
   },
   "source": [
    "# Linear regression example with housing data"
   ]
  },
  {
   "cell_type": "code",
   "execution_count": 3,
   "metadata": {
    "slideshow": {
     "slide_type": "fragment"
    }
   },
   "outputs": [
    {
     "name": "stderr",
     "output_type": "stream",
     "text": [
      "\u001b[1m\u001b[36mINFO: \u001b[39m\u001b[22m\u001b[36mDownloading https://archive.ics.uci.edu/ml/machine-learning-databases/housing/housing.data to /home/jon/.julia/v0.6/Knet/data/housing/housing.data\n",
      "\u001b[39m  % Total    % Received % Xferd  Average Speed   Time    Time     Time  Current\n",
      "                                 Dload  Upload   Total   Spent    Left  Speed\n",
      "100 49082  100 49082    0     0  78749      0 --:--:-- --:--:-- --:--:-- 78657\n"
     ]
    },
    {
     "data": {
      "text/plain": [
       "(\"13×506 Array{Float64,2}\", \"1×506 Array{Float64,2}\")"
      ]
     },
     "execution_count": 3,
     "metadata": {},
     "output_type": "execute_result"
    }
   ],
   "source": [
    "# Download the housing dataset from the UCI Machine Learning Repository\n",
    "include(Pkg.dir(\"Knet\",\"data\",\"housing.jl\"))\n",
    "x,y = housing()\n",
    "map(summary,(x,y))"
   ]
  },
  {
   "cell_type": "code",
   "execution_count": 5,
   "metadata": {},
   "outputs": [],
   "source": [
    "# Define loss\n",
    "predict(w,x) = w[1]*x .+ w[2]\n",
    "loss(w,x,y) = mean(abs2,y-predict(w,x))\n",
    "lossgradient = grad(loss);"
   ]
  },
  {
   "cell_type": "code",
   "execution_count": 6,
   "metadata": {},
   "outputs": [
    {
     "data": {
      "text/plain": [
       "2-element Array{Any,1}:\n",
       "  [0.0533183 0.0454029 … 0.0160006 0.0422956]\n",
       " 0.0                                         "
      ]
     },
     "execution_count": 6,
     "metadata": {},
     "output_type": "execute_result"
    }
   ],
   "source": [
    "# Initialize model\n",
    "srand(42)\n",
    "w = [ 0.1*rand(1,13), 0.0 ]"
   ]
  },
  {
   "cell_type": "code",
   "execution_count": 8,
   "metadata": {},
   "outputs": [
    {
     "data": {
      "text/plain": [
       "594.4352393887679"
      ]
     },
     "execution_count": 8,
     "metadata": {},
     "output_type": "execute_result"
    }
   ],
   "source": [
    "loss(w,x,y)"
   ]
  },
  {
   "cell_type": "code",
   "execution_count": 9,
   "metadata": {},
   "outputs": [
    {
     "data": {
      "text/plain": [
       "2-element Array{Any,1}:\n",
       "    [7.53003 -6.79923 … -6.369 13.8655]\n",
       " -45.0656                              "
      ]
     },
     "execution_count": 9,
     "metadata": {},
     "output_type": "execute_result"
    }
   ],
   "source": [
    "lossgradient(w,x,y)"
   ]
  },
  {
   "cell_type": "code",
   "execution_count": 10,
   "metadata": {},
   "outputs": [
    {
     "data": {
      "text/plain": [
       "0.1"
      ]
     },
     "execution_count": 10,
     "metadata": {},
     "output_type": "execute_result"
    }
   ],
   "source": [
    "# Testing the gradient: Increasing w[2] by eps should decrease loss by 45.0656 * eps\n",
    "w[2]=0.1"
   ]
  },
  {
   "cell_type": "code",
   "execution_count": 11,
   "metadata": {
    "scrolled": true
   },
   "outputs": [
    {
     "data": {
      "text/plain": [
       "589.9386781239456"
      ]
     },
     "execution_count": 11,
     "metadata": {},
     "output_type": "execute_result"
    }
   ],
   "source": [
    "loss(w,x,y)"
   ]
  },
  {
   "cell_type": "code",
   "execution_count": 12,
   "metadata": {},
   "outputs": [
    {
     "data": {
      "text/plain": [
       "train! (generic function with 1 method)"
      ]
     },
     "execution_count": 12,
     "metadata": {},
     "output_type": "execute_result"
    }
   ],
   "source": [
    "# SGD training loop\n",
    "function train!(w, data; lr=.1)\n",
    "    for (x,y) in data\n",
    "        dw = lossgradient(w, x, y)\n",
    "        for i in 1:length(w)\n",
    "            w[i] -= lr * dw[i]\n",
    "        end\n",
    "    end\n",
    "    return w\n",
    "end"
   ]
  },
  {
   "cell_type": "code",
   "execution_count": 13,
   "metadata": {},
   "outputs": [
    {
     "name": "stdout",
     "output_type": "stream",
     "text": [
      "  0.215568 seconds (440.65 k allocations: 17.270 MiB, 4.48% gc time)\n"
     ]
    },
    {
     "data": {
      "text/plain": [
       "10-element Array{Array{Any,1},1}:\n",
       " Any[[-0.699684 0.725326 … 0.652901 -1.34426], 4.58656]\n",
       " Any[[-0.551026 0.513913 … 0.565058 -1.53221], 8.17581]\n",
       " Any[[-0.59464 0.518516 … 0.634074 -1.88846], 11.0472] \n",
       " Any[[-0.590579 0.487521 … 0.663802 -2.1303], 13.3443] \n",
       " Any[[-0.594767 0.473771 … 0.698189 -2.33759], 15.182] \n",
       " Any[[-0.596189 0.463224 … 0.727585 -2.50545], 16.6522]\n",
       " Any[[-0.598128 0.457414 … 0.754282 -2.64491], 17.8283]\n",
       " Any[[-0.600288 0.454846 … 0.777929 -2.7612], 18.7692] \n",
       " Any[[-0.602933 0.455003 … 0.798796 -2.8591], 19.5219] \n",
       " Any[[-0.606062 0.457353 … 0.817038 -2.94219], 20.1241]"
      ]
     },
     "execution_count": 13,
     "metadata": {},
     "output_type": "execute_result"
    }
   ],
   "source": [
    "# Record the weights for 10 epochs\n",
    "@time weights = [ copy(train!(w, [(x, y)])) for epoch=1:10 ]"
   ]
  },
  {
   "cell_type": "code",
   "execution_count": 14,
   "metadata": {},
   "outputs": [
    {
     "data": {
      "text/plain": [
       "10-element Array{Float64,1}:\n",
       " 364.412 \n",
       " 240.165 \n",
       " 161.982 \n",
       " 112.161 \n",
       "  80.3404\n",
       "  59.9844\n",
       "  46.9397\n",
       "  38.5626\n",
       "  33.1684\n",
       "  29.6825"
      ]
     },
     "execution_count": 14,
     "metadata": {},
     "output_type": "execute_result"
    }
   ],
   "source": [
    "losses = [ loss(w,x,y) for w in weights ]"
   ]
  },
  {
   "cell_type": "code",
   "execution_count": 17,
   "metadata": {
    "scrolled": false
   },
   "outputs": [
    {
     "data": {
      "image/svg+xml": [
       "<?xml version=\"1.0\" encoding=\"utf-8\"?>\n",
       "<svg xmlns=\"http://www.w3.org/2000/svg\" xmlns:xlink=\"http://www.w3.org/1999/xlink\" width=\"600\" height=\"400\" viewBox=\"0 0 600 400\">\n",
       "<defs>\n",
       "  <clipPath id=\"clip6800\">\n",
       "    <rect x=\"0\" y=\"0\" width=\"600\" height=\"400\"/>\n",
       "  </clipPath>\n",
       "</defs>\n",
       "<polygon clip-path=\"url(#clip6800)\" points=\"\n",
       "0,400 600,400 600,0 0,0 \n",
       "  \" fill=\"#ffffff\" fill-opacity=\"1\"/>\n",
       "<defs>\n",
       "  <clipPath id=\"clip6801\">\n",
       "    <rect x=\"120\" y=\"0\" width=\"421\" height=\"400\"/>\n",
       "  </clipPath>\n",
       "</defs>\n",
       "<polygon clip-path=\"url(#clip6800)\" points=\"\n",
       "51.5678,360.121 580.315,360.121 580.315,11.811 51.5678,11.811 \n",
       "  \" fill=\"#ffffff\" fill-opacity=\"1\"/>\n",
       "<defs>\n",
       "  <clipPath id=\"clip6802\">\n",
       "    <rect x=\"51\" y=\"11\" width=\"530\" height=\"349\"/>\n",
       "  </clipPath>\n",
       "</defs>\n",
       "<polyline clip-path=\"url(#clip6802)\" style=\"stroke:#000000; stroke-width:0.5; stroke-opacity:0.1; fill:none\" points=\"\n",
       "  110.318,360.121 110.318,11.811 \n",
       "  \"/>\n",
       "<polyline clip-path=\"url(#clip6802)\" style=\"stroke:#000000; stroke-width:0.5; stroke-opacity:0.1; fill:none\" points=\"\n",
       "  227.817,360.121 227.817,11.811 \n",
       "  \"/>\n",
       "<polyline clip-path=\"url(#clip6802)\" style=\"stroke:#000000; stroke-width:0.5; stroke-opacity:0.1; fill:none\" points=\"\n",
       "  345.316,360.121 345.316,11.811 \n",
       "  \"/>\n",
       "<polyline clip-path=\"url(#clip6802)\" style=\"stroke:#000000; stroke-width:0.5; stroke-opacity:0.1; fill:none\" points=\"\n",
       "  462.816,360.121 462.816,11.811 \n",
       "  \"/>\n",
       "<polyline clip-path=\"url(#clip6802)\" style=\"stroke:#000000; stroke-width:0.5; stroke-opacity:0.1; fill:none\" points=\"\n",
       "  580.315,360.121 580.315,11.811 \n",
       "  \"/>\n",
       "<polyline clip-path=\"url(#clip6802)\" style=\"stroke:#000000; stroke-width:0.5; stroke-opacity:0.1; fill:none\" points=\"\n",
       "  51.5678,338.979 580.315,338.979 \n",
       "  \"/>\n",
       "<polyline clip-path=\"url(#clip6802)\" style=\"stroke:#000000; stroke-width:0.5; stroke-opacity:0.1; fill:none\" points=\"\n",
       "  51.5678,286.95 580.315,286.95 \n",
       "  \"/>\n",
       "<polyline clip-path=\"url(#clip6802)\" style=\"stroke:#000000; stroke-width:0.5; stroke-opacity:0.1; fill:none\" points=\"\n",
       "  51.5678,234.922 580.315,234.922 \n",
       "  \"/>\n",
       "<polyline clip-path=\"url(#clip6802)\" style=\"stroke:#000000; stroke-width:0.5; stroke-opacity:0.1; fill:none\" points=\"\n",
       "  51.5678,182.893 580.315,182.893 \n",
       "  \"/>\n",
       "<polyline clip-path=\"url(#clip6802)\" style=\"stroke:#000000; stroke-width:0.5; stroke-opacity:0.1; fill:none\" points=\"\n",
       "  51.5678,130.865 580.315,130.865 \n",
       "  \"/>\n",
       "<polyline clip-path=\"url(#clip6802)\" style=\"stroke:#000000; stroke-width:0.5; stroke-opacity:0.1; fill:none\" points=\"\n",
       "  51.5678,78.8361 580.315,78.8361 \n",
       "  \"/>\n",
       "<polyline clip-path=\"url(#clip6802)\" style=\"stroke:#000000; stroke-width:0.5; stroke-opacity:0.1; fill:none\" points=\"\n",
       "  51.5678,26.8076 580.315,26.8076 \n",
       "  \"/>\n",
       "<polyline clip-path=\"url(#clip6800)\" style=\"stroke:#000000; stroke-width:1; stroke-opacity:1; fill:none\" points=\"\n",
       "  51.5678,360.121 580.315,360.121 \n",
       "  \"/>\n",
       "<polyline clip-path=\"url(#clip6800)\" style=\"stroke:#000000; stroke-width:1; stroke-opacity:1; fill:none\" points=\"\n",
       "  51.5678,360.121 51.5678,11.811 \n",
       "  \"/>\n",
       "<polyline clip-path=\"url(#clip6800)\" style=\"stroke:#000000; stroke-width:1; stroke-opacity:1; fill:none\" points=\"\n",
       "  110.318,360.121 110.318,354.896 \n",
       "  \"/>\n",
       "<polyline clip-path=\"url(#clip6800)\" style=\"stroke:#000000; stroke-width:1; stroke-opacity:1; fill:none\" points=\"\n",
       "  227.817,360.121 227.817,354.896 \n",
       "  \"/>\n",
       "<polyline clip-path=\"url(#clip6800)\" style=\"stroke:#000000; stroke-width:1; stroke-opacity:1; fill:none\" points=\"\n",
       "  345.316,360.121 345.316,354.896 \n",
       "  \"/>\n",
       "<polyline clip-path=\"url(#clip6800)\" style=\"stroke:#000000; stroke-width:1; stroke-opacity:1; fill:none\" points=\"\n",
       "  462.816,360.121 462.816,354.896 \n",
       "  \"/>\n",
       "<polyline clip-path=\"url(#clip6800)\" style=\"stroke:#000000; stroke-width:1; stroke-opacity:1; fill:none\" points=\"\n",
       "  580.315,360.121 580.315,354.896 \n",
       "  \"/>\n",
       "<polyline clip-path=\"url(#clip6800)\" style=\"stroke:#000000; stroke-width:1; stroke-opacity:1; fill:none\" points=\"\n",
       "  51.5678,338.979 59.499,338.979 \n",
       "  \"/>\n",
       "<polyline clip-path=\"url(#clip6800)\" style=\"stroke:#000000; stroke-width:1; stroke-opacity:1; fill:none\" points=\"\n",
       "  51.5678,286.95 59.499,286.95 \n",
       "  \"/>\n",
       "<polyline clip-path=\"url(#clip6800)\" style=\"stroke:#000000; stroke-width:1; stroke-opacity:1; fill:none\" points=\"\n",
       "  51.5678,234.922 59.499,234.922 \n",
       "  \"/>\n",
       "<polyline clip-path=\"url(#clip6800)\" style=\"stroke:#000000; stroke-width:1; stroke-opacity:1; fill:none\" points=\"\n",
       "  51.5678,182.893 59.499,182.893 \n",
       "  \"/>\n",
       "<polyline clip-path=\"url(#clip6800)\" style=\"stroke:#000000; stroke-width:1; stroke-opacity:1; fill:none\" points=\"\n",
       "  51.5678,130.865 59.499,130.865 \n",
       "  \"/>\n",
       "<polyline clip-path=\"url(#clip6800)\" style=\"stroke:#000000; stroke-width:1; stroke-opacity:1; fill:none\" points=\"\n",
       "  51.5678,78.8361 59.499,78.8361 \n",
       "  \"/>\n",
       "<polyline clip-path=\"url(#clip6800)\" style=\"stroke:#000000; stroke-width:1; stroke-opacity:1; fill:none\" points=\"\n",
       "  51.5678,26.8076 59.499,26.8076 \n",
       "  \"/>\n",
       "<g clip-path=\"url(#clip6800)\">\n",
       "<text style=\"fill:#000000; fill-opacity:1; font-family:Arial,Helvetica Neue,Helvetica,sans-serif; font-size:12; text-anchor:middle;\" transform=\"rotate(0, 110.318, 373.921)\" x=\"110.318\" y=\"373.921\">2</text>\n",
       "</g>\n",
       "<g clip-path=\"url(#clip6800)\">\n",
       "<text style=\"fill:#000000; fill-opacity:1; font-family:Arial,Helvetica Neue,Helvetica,sans-serif; font-size:12; text-anchor:middle;\" transform=\"rotate(0, 227.817, 373.921)\" x=\"227.817\" y=\"373.921\">4</text>\n",
       "</g>\n",
       "<g clip-path=\"url(#clip6800)\">\n",
       "<text style=\"fill:#000000; fill-opacity:1; font-family:Arial,Helvetica Neue,Helvetica,sans-serif; font-size:12; text-anchor:middle;\" transform=\"rotate(0, 345.316, 373.921)\" x=\"345.316\" y=\"373.921\">6</text>\n",
       "</g>\n",
       "<g clip-path=\"url(#clip6800)\">\n",
       "<text style=\"fill:#000000; fill-opacity:1; font-family:Arial,Helvetica Neue,Helvetica,sans-serif; font-size:12; text-anchor:middle;\" transform=\"rotate(0, 462.816, 373.921)\" x=\"462.816\" y=\"373.921\">8</text>\n",
       "</g>\n",
       "<g clip-path=\"url(#clip6800)\">\n",
       "<text style=\"fill:#000000; fill-opacity:1; font-family:Arial,Helvetica Neue,Helvetica,sans-serif; font-size:12; text-anchor:middle;\" transform=\"rotate(0, 580.315, 373.921)\" x=\"580.315\" y=\"373.921\">10</text>\n",
       "</g>\n",
       "<g clip-path=\"url(#clip6800)\">\n",
       "<text style=\"fill:#000000; fill-opacity:1; font-family:Arial,Helvetica Neue,Helvetica,sans-serif; font-size:12; text-anchor:end;\" transform=\"rotate(0, 45.5678, 343.479)\" x=\"45.5678\" y=\"343.479\">50</text>\n",
       "</g>\n",
       "<g clip-path=\"url(#clip6800)\">\n",
       "<text style=\"fill:#000000; fill-opacity:1; font-family:Arial,Helvetica Neue,Helvetica,sans-serif; font-size:12; text-anchor:end;\" transform=\"rotate(0, 45.5678, 291.45)\" x=\"45.5678\" y=\"291.45\">100</text>\n",
       "</g>\n",
       "<g clip-path=\"url(#clip6800)\">\n",
       "<text style=\"fill:#000000; fill-opacity:1; font-family:Arial,Helvetica Neue,Helvetica,sans-serif; font-size:12; text-anchor:end;\" transform=\"rotate(0, 45.5678, 239.422)\" x=\"45.5678\" y=\"239.422\">150</text>\n",
       "</g>\n",
       "<g clip-path=\"url(#clip6800)\">\n",
       "<text style=\"fill:#000000; fill-opacity:1; font-family:Arial,Helvetica Neue,Helvetica,sans-serif; font-size:12; text-anchor:end;\" transform=\"rotate(0, 45.5678, 187.393)\" x=\"45.5678\" y=\"187.393\">200</text>\n",
       "</g>\n",
       "<g clip-path=\"url(#clip6800)\">\n",
       "<text style=\"fill:#000000; fill-opacity:1; font-family:Arial,Helvetica Neue,Helvetica,sans-serif; font-size:12; text-anchor:end;\" transform=\"rotate(0, 45.5678, 135.365)\" x=\"45.5678\" y=\"135.365\">250</text>\n",
       "</g>\n",
       "<g clip-path=\"url(#clip6800)\">\n",
       "<text style=\"fill:#000000; fill-opacity:1; font-family:Arial,Helvetica Neue,Helvetica,sans-serif; font-size:12; text-anchor:end;\" transform=\"rotate(0, 45.5678, 83.3361)\" x=\"45.5678\" y=\"83.3361\">300</text>\n",
       "</g>\n",
       "<g clip-path=\"url(#clip6800)\">\n",
       "<text style=\"fill:#000000; fill-opacity:1; font-family:Arial,Helvetica Neue,Helvetica,sans-serif; font-size:12; text-anchor:end;\" transform=\"rotate(0, 45.5678, 31.3076)\" x=\"45.5678\" y=\"31.3076\">350</text>\n",
       "</g>\n",
       "<g clip-path=\"url(#clip6800)\">\n",
       "<text style=\"fill:#000000; fill-opacity:1; font-family:Arial,Helvetica Neue,Helvetica,sans-serif; font-size:16; text-anchor:middle;\" transform=\"rotate(0, 315.941, 397.6)\" x=\"315.941\" y=\"397.6\">Epochs</text>\n",
       "</g>\n",
       "<g clip-path=\"url(#clip6800)\">\n",
       "<text style=\"fill:#000000; fill-opacity:1; font-family:Arial,Helvetica Neue,Helvetica,sans-serif; font-size:16; text-anchor:middle;\" transform=\"rotate(-90, 14.4, 185.966)\" x=\"14.4\" y=\"185.966\">Loss</text>\n",
       "</g>\n",
       "<polyline clip-path=\"url(#clip6802)\" style=\"stroke:#009af9; stroke-width:1; stroke-opacity:1; fill:none\" points=\"\n",
       "  51.5678,11.811 110.318,141.099 169.067,222.454 227.817,274.296 286.567,307.408 345.316,328.589 404.066,342.163 462.816,350.88 521.565,356.493 580.315,360.121 \n",
       "  \n",
       "  \"/>\n",
       "<polygon clip-path=\"url(#clip6800)\" points=\"\n",
       "489.608,62.931 562.315,62.931 562.315,32.691 489.608,32.691 \n",
       "  \" fill=\"#ffffff\" fill-opacity=\"1\"/>\n",
       "<polyline clip-path=\"url(#clip6800)\" style=\"stroke:#000000; stroke-width:1; stroke-opacity:1; fill:none\" points=\"\n",
       "  489.608,62.931 562.315,62.931 562.315,32.691 489.608,32.691 489.608,62.931 \n",
       "  \"/>\n",
       "<polyline clip-path=\"url(#clip6800)\" style=\"stroke:#009af9; stroke-width:1; stroke-opacity:1; fill:none\" points=\"\n",
       "  495.608,47.811 531.608,47.811 \n",
       "  \"/>\n",
       "<g clip-path=\"url(#clip6800)\">\n",
       "<text style=\"fill:#000000; fill-opacity:1; font-family:Arial,Helvetica Neue,Helvetica,sans-serif; font-size:12; text-anchor:start;\" transform=\"rotate(0, 537.608, 52.311)\" x=\"537.608\" y=\"52.311\">y1</text>\n",
       "</g>\n",
       "</svg>\n"
      ]
     },
     "execution_count": 17,
     "metadata": {},
     "output_type": "execute_result"
    }
   ],
   "source": [
    "plot(losses,xlabel=\"Epochs\",ylabel=\"Loss\") "
   ]
  },
  {
   "cell_type": "markdown",
   "metadata": {},
   "source": [
    "# Load and minibatch MNIST data"
   ]
  },
  {
   "cell_type": "code",
   "execution_count": 18,
   "metadata": {},
   "outputs": [],
   "source": [
    "include(Knet.dir(\"data\",\"mnist.jl\"))\n",
    "xtrn,ytrn,xtst,ytst = mnist()\n",
    "Atype = gpu() >= 0 ? KnetArray{Float32} : Array{Float32}\n",
    "dtst = minibatch(xtst,ytst,100;xtype=Atype); # [ (x1,y1), (x2,y2), ... ] where xi,yi are minibatches of 100\n",
    "dtrn = minibatch(xtrn,ytrn,100;xtype=Atype); # [ (x1,y1), (x2,y2), ... ] where xi,yi are minibatches of 100"
   ]
  },
  {
   "cell_type": "code",
   "execution_count": 20,
   "metadata": {},
   "outputs": [
    {
     "data": {
      "text/plain": [
       "(600, 100)"
      ]
     },
     "execution_count": 20,
     "metadata": {},
     "output_type": "execute_result"
    }
   ],
   "source": [
    "# dtrn and dtst are iterables of (x,y) minibatches, each minibatch contains 100 instances\n",
    "length(dtrn),length(dtst)"
   ]
  },
  {
   "cell_type": "code",
   "execution_count": 22,
   "metadata": {},
   "outputs": [
    {
     "data": {
      "image/png": "[encoded data removed]",
      "text/plain": [
       "28×28 Array{Gray{Float32},2}:\n",
       " Gray{Float32}(0.0)  Gray{Float32}(0.0)  …  Gray{Float32}(0.0)\n",
       " Gray{Float32}(0.0)  Gray{Float32}(0.0)     Gray{Float32}(0.0)\n",
       " Gray{Float32}(0.0)  Gray{Float32}(0.0)     Gray{Float32}(0.0)\n",
       " Gray{Float32}(0.0)  Gray{Float32}(0.0)     Gray{Float32}(0.0)\n",
       " Gray{Float32}(0.0)  Gray{Float32}(0.0)     Gray{Float32}(0.0)\n",
       " Gray{Float32}(0.0)  Gray{Float32}(0.0)  …  Gray{Float32}(0.0)\n",
       " Gray{Float32}(0.0)  Gray{Float32}(0.0)     Gray{Float32}(0.0)\n",
       " Gray{Float32}(0.0)  Gray{Float32}(0.0)     Gray{Float32}(0.0)\n",
       " Gray{Float32}(0.0)  Gray{Float32}(0.0)     Gray{Float32}(0.0)\n",
       " Gray{Float32}(0.0)  Gray{Float32}(0.0)     Gray{Float32}(0.0)\n",
       " Gray{Float32}(0.0)  Gray{Float32}(0.0)  …  Gray{Float32}(0.0)\n",
       " Gray{Float32}(0.0)  Gray{Float32}(0.0)     Gray{Float32}(0.0)\n",
       " Gray{Float32}(0.0)  Gray{Float32}(0.0)     Gray{Float32}(0.0)\n",
       " ⋮                                       ⋱                    \n",
       " Gray{Float32}(0.0)  Gray{Float32}(0.0)     Gray{Float32}(0.0)\n",
       " Gray{Float32}(0.0)  Gray{Float32}(0.0)     Gray{Float32}(0.0)\n",
       " Gray{Float32}(0.0)  Gray{Float32}(0.0)     Gray{Float32}(0.0)\n",
       " Gray{Float32}(0.0)  Gray{Float32}(0.0)     Gray{Float32}(0.0)\n",
       " Gray{Float32}(0.0)  Gray{Float32}(0.0)  …  Gray{Float32}(0.0)\n",
       " Gray{Float32}(0.0)  Gray{Float32}(0.0)     Gray{Float32}(0.0)\n",
       " Gray{Float32}(0.0)  Gray{Float32}(0.0)     Gray{Float32}(0.0)\n",
       " Gray{Float32}(0.0)  Gray{Float32}(0.0)     Gray{Float32}(0.0)\n",
       " Gray{Float32}(0.0)  Gray{Float32}(0.0)     Gray{Float32}(0.0)\n",
       " Gray{Float32}(0.0)  Gray{Float32}(0.0)  …  Gray{Float32}(0.0)\n",
       " Gray{Float32}(0.0)  Gray{Float32}(0.0)     Gray{Float32}(0.0)\n",
       " Gray{Float32}(0.0)  Gray{Float32}(0.0)     Gray{Float32}(0.0)"
      ]
     },
     "metadata": {},
     "output_type": "display_data"
    },
    {
     "data": {
      "image/png": "[encoded data removed]",
      "text/plain": [
       "28×28 Array{Gray{Float32},2}:\n",
       " Gray{Float32}(0.0)  Gray{Float32}(0.0)  …  Gray{Float32}(0.0)\n",
       " Gray{Float32}(0.0)  Gray{Float32}(0.0)     Gray{Float32}(0.0)\n",
       " Gray{Float32}(0.0)  Gray{Float32}(0.0)     Gray{Float32}(0.0)\n",
       " Gray{Float32}(0.0)  Gray{Float32}(0.0)     Gray{Float32}(0.0)\n",
       " Gray{Float32}(0.0)  Gray{Float32}(0.0)     Gray{Float32}(0.0)\n",
       " Gray{Float32}(0.0)  Gray{Float32}(0.0)  …  Gray{Float32}(0.0)\n",
       " Gray{Float32}(0.0)  Gray{Float32}(0.0)     Gray{Float32}(0.0)\n",
       " Gray{Float32}(0.0)  Gray{Float32}(0.0)     Gray{Float32}(0.0)\n",
       " Gray{Float32}(0.0)  Gray{Float32}(0.0)     Gray{Float32}(0.0)\n",
       " Gray{Float32}(0.0)  Gray{Float32}(0.0)     Gray{Float32}(0.0)\n",
       " Gray{Float32}(0.0)  Gray{Float32}(0.0)  …  Gray{Float32}(0.0)\n",
       " Gray{Float32}(0.0)  Gray{Float32}(0.0)     Gray{Float32}(0.0)\n",
       " Gray{Float32}(0.0)  Gray{Float32}(0.0)     Gray{Float32}(0.0)\n",
       " ⋮                                       ⋱                    \n",
       " Gray{Float32}(0.0)  Gray{Float32}(0.0)     Gray{Float32}(0.0)\n",
       " Gray{Float32}(0.0)  Gray{Float32}(0.0)     Gray{Float32}(0.0)\n",
       " Gray{Float32}(0.0)  Gray{Float32}(0.0)     Gray{Float32}(0.0)\n",
       " Gray{Float32}(0.0)  Gray{Float32}(0.0)     Gray{Float32}(0.0)\n",
       " Gray{Float32}(0.0)  Gray{Float32}(0.0)  …  Gray{Float32}(0.0)\n",
       " Gray{Float32}(0.0)  Gray{Float32}(0.0)     Gray{Float32}(0.0)\n",
       " Gray{Float32}(0.0)  Gray{Float32}(0.0)     Gray{Float32}(0.0)\n",
       " Gray{Float32}(0.0)  Gray{Float32}(0.0)     Gray{Float32}(0.0)\n",
       " Gray{Float32}(0.0)  Gray{Float32}(0.0)     Gray{Float32}(0.0)\n",
       " Gray{Float32}(0.0)  Gray{Float32}(0.0)  …  Gray{Float32}(0.0)\n",
       " Gray{Float32}(0.0)  Gray{Float32}(0.0)     Gray{Float32}(0.0)\n",
       " Gray{Float32}(0.0)  Gray{Float32}(0.0)     Gray{Float32}(0.0)"
      ]
     },
     "metadata": {},
     "output_type": "display_data"
    },
    {
     "data": {
      "image/png": "[encoded data removed]",
      "text/plain": [
       "28×28 Array{Gray{Float32},2}:\n",
       " Gray{Float32}(0.0)  Gray{Float32}(0.0)  …  Gray{Float32}(0.0)\n",
       " Gray{Float32}(0.0)  Gray{Float32}(0.0)     Gray{Float32}(0.0)\n",
       " Gray{Float32}(0.0)  Gray{Float32}(0.0)     Gray{Float32}(0.0)\n",
       " Gray{Float32}(0.0)  Gray{Float32}(0.0)     Gray{Float32}(0.0)\n",
       " Gray{Float32}(0.0)  Gray{Float32}(0.0)     Gray{Float32}(0.0)\n",
       " Gray{Float32}(0.0)  Gray{Float32}(0.0)  …  Gray{Float32}(0.0)\n",
       " Gray{Float32}(0.0)  Gray{Float32}(0.0)     Gray{Float32}(0.0)\n",
       " Gray{Float32}(0.0)  Gray{Float32}(0.0)     Gray{Float32}(0.0)\n",
       " Gray{Float32}(0.0)  Gray{Float32}(0.0)     Gray{Float32}(0.0)\n",
       " Gray{Float32}(0.0)  Gray{Float32}(0.0)     Gray{Float32}(0.0)\n",
       " Gray{Float32}(0.0)  Gray{Float32}(0.0)  …  Gray{Float32}(0.0)\n",
       " Gray{Float32}(0.0)  Gray{Float32}(0.0)     Gray{Float32}(0.0)\n",
       " Gray{Float32}(0.0)  Gray{Float32}(0.0)     Gray{Float32}(0.0)\n",
       " ⋮                                       ⋱                    \n",
       " Gray{Float32}(0.0)  Gray{Float32}(0.0)     Gray{Float32}(0.0)\n",
       " Gray{Float32}(0.0)  Gray{Float32}(0.0)     Gray{Float32}(0.0)\n",
       " Gray{Float32}(0.0)  Gray{Float32}(0.0)     Gray{Float32}(0.0)\n",
       " Gray{Float32}(0.0)  Gray{Float32}(0.0)     Gray{Float32}(0.0)\n",
       " Gray{Float32}(0.0)  Gray{Float32}(0.0)  …  Gray{Float32}(0.0)\n",
       " Gray{Float32}(0.0)  Gray{Float32}(0.0)     Gray{Float32}(0.0)\n",
       " Gray{Float32}(0.0)  Gray{Float32}(0.0)     Gray{Float32}(0.0)\n",
       " Gray{Float32}(0.0)  Gray{Float32}(0.0)     Gray{Float32}(0.0)\n",
       " Gray{Float32}(0.0)  Gray{Float32}(0.0)     Gray{Float32}(0.0)\n",
       " Gray{Float32}(0.0)  Gray{Float32}(0.0)  …  Gray{Float32}(0.0)\n",
       " Gray{Float32}(0.0)  Gray{Float32}(0.0)     Gray{Float32}(0.0)\n",
       " Gray{Float32}(0.0)  Gray{Float32}(0.0)     Gray{Float32}(0.0)"
      ]
     },
     "metadata": {},
     "output_type": "display_data"
    },
    {
     "data": {
      "text/plain": [
       "3-element Array{UInt8,1}:\n",
       " 0x07\n",
       " 0x02\n",
       " 0x01"
      ]
     },
     "execution_count": 22,
     "metadata": {},
     "output_type": "execute_result"
    }
   ],
   "source": [
    "# Take a look at the first three test images and labels\n",
    "(x,y) = first(dtst)\n",
    "ax = Array(x)\n",
    "for i=1:3; display(mnistview(ax,i)); end\n",
    "y[1:3]"
   ]
  },
  {
   "cell_type": "markdown",
   "metadata": {},
   "source": [
    "# Softmax classification example with MNIST"
   ]
  },
  {
   "cell_type": "markdown",
   "metadata": {},
   "source": [
    "## Define softmax loss"
   ]
  },
  {
   "cell_type": "code",
   "execution_count": 27,
   "metadata": {},
   "outputs": [],
   "source": [
    "# Define loss\n",
    "predict(w,x) = w[1]*mat(x) .+ w[2]  # Same as linreg except we need mat() to convert input 4D->2D before matmul\n",
    "loss(w,x,ygold) = nll(predict(w,x),ygold); # nll is negative log likelihood"
   ]
  },
  {
   "cell_type": "code",
   "execution_count": 28,
   "metadata": {},
   "outputs": [],
   "source": [
    "# Initialize model\n",
    "wsoft=map(Atype, [ 0.1*randn(10,784), zeros(10,1) ]);"
   ]
  },
  {
   "cell_type": "code",
   "execution_count": 30,
   "metadata": {},
   "outputs": [
    {
     "data": {
      "text/plain": [
       "2.830448f0"
      ]
     },
     "execution_count": 30,
     "metadata": {},
     "output_type": "execute_result"
    }
   ],
   "source": [
    "# Average loss for a single (x,y) minibatch\n",
    "loss(wsoft, x, y)"
   ]
  },
  {
   "cell_type": "code",
   "execution_count": 31,
   "metadata": {},
   "outputs": [
    {
     "data": {
      "text/plain": [
       "2.8376572f0"
      ]
     },
     "execution_count": 31,
     "metadata": {},
     "output_type": "execute_result"
    }
   ],
   "source": [
    "# Average loss for the whole test set\n",
    "nll(wsoft,dtst,predict)"
   ]
  },
  {
   "cell_type": "code",
   "execution_count": 32,
   "metadata": {},
   "outputs": [
    {
     "data": {
      "text/plain": [
       "0.0407"
      ]
     },
     "execution_count": 32,
     "metadata": {},
     "output_type": "execute_result"
    }
   ],
   "source": [
    "# Accuracy for the whole test set\n",
    "accuracy(wsoft,dtst,predict)"
   ]
  },
  {
   "cell_type": "markdown",
   "metadata": {},
   "source": [
    "## Train softmax model"
   ]
  },
  {
   "cell_type": "code",
   "execution_count": 33,
   "metadata": {},
   "outputs": [
    {
     "name": "stdout",
     "output_type": "stream",
     "text": [
      " 27.146815 seconds (23.55 M allocations: 19.056 GiB, 6.95% gc time)\n"
     ]
    }
   ],
   "source": [
    "@time softmodels = [ copy(train!(wsoft, dtrn)) for epoch=1:60 ];  # ~17 seconds"
   ]
  },
  {
   "cell_type": "markdown",
   "metadata": {},
   "source": [
    "## Plot softmax learning curve"
   ]
  },
  {
   "cell_type": "code",
   "execution_count": 34,
   "metadata": {},
   "outputs": [
    {
     "name": "stdout",
     "output_type": "stream",
     "text": [
      "  7.467384 seconds (5.20 M allocations: 11.492 GiB, 13.65% gc time)\n",
      "  1.332153 seconds (874.87 k allocations: 1.916 GiB, 13.19% gc time)\n"
     ]
    }
   ],
   "source": [
    "@time trnsoftloss = [ nll(w,dtrn,predict) for w in softmodels ];  # ~13 seconds\n",
    "@time tstsoftloss = [ nll(w,dtst,predict) for w in softmodels ];  # ~2 seconds"
   ]
  },
  {
   "cell_type": "code",
   "execution_count": 36,
   "metadata": {},
   "outputs": [
    {
     "data": {
      "image/svg+xml": [
       "<?xml version=\"1.0\" encoding=\"utf-8\"?>\n",
       "<svg xmlns=\"http://www.w3.org/2000/svg\" xmlns:xlink=\"http://www.w3.org/1999/xlink\" width=\"600\" height=\"400\" viewBox=\"0 0 600 400\">\n",
       "<defs>\n",
       "  <clipPath id=\"clip7200\">\n",
       "    <rect x=\"0\" y=\"0\" width=\"600\" height=\"400\"/>\n",
       "  </clipPath>\n",
       "</defs>\n",
       "<polygon clip-path=\"url(#clip7200)\" points=\"\n",
       "0,400 600,400 600,0 0,0 \n",
       "  \" fill=\"#ffffff\" fill-opacity=\"1\"/>\n",
       "<defs>\n",
       "  <clipPath id=\"clip7201\">\n",
       "    <rect x=\"120\" y=\"0\" width=\"421\" height=\"400\"/>\n",
       "  </clipPath>\n",
       "</defs>\n",
       "<polygon clip-path=\"url(#clip7200)\" points=\"\n",
       "54.9131,360.121 580.315,360.121 580.315,11.811 54.9131,11.811 \n",
       "  \" fill=\"#ffffff\" fill-opacity=\"1\"/>\n",
       "<defs>\n",
       "  <clipPath id=\"clip7202\">\n",
       "    <rect x=\"54\" y=\"11\" width=\"526\" height=\"349\"/>\n",
       "  </clipPath>\n",
       "</defs>\n",
       "<polyline clip-path=\"url(#clip7202)\" style=\"stroke:#000000; stroke-width:0.5; stroke-opacity:0.1; fill:none\" points=\"\n",
       "  135.059,360.121 135.059,11.811 \n",
       "  \"/>\n",
       "<polyline clip-path=\"url(#clip7202)\" style=\"stroke:#000000; stroke-width:0.5; stroke-opacity:0.1; fill:none\" points=\"\n",
       "  224.11,360.121 224.11,11.811 \n",
       "  \"/>\n",
       "<polyline clip-path=\"url(#clip7202)\" style=\"stroke:#000000; stroke-width:0.5; stroke-opacity:0.1; fill:none\" points=\"\n",
       "  313.161,360.121 313.161,11.811 \n",
       "  \"/>\n",
       "<polyline clip-path=\"url(#clip7202)\" style=\"stroke:#000000; stroke-width:0.5; stroke-opacity:0.1; fill:none\" points=\"\n",
       "  402.213,360.121 402.213,11.811 \n",
       "  \"/>\n",
       "<polyline clip-path=\"url(#clip7202)\" style=\"stroke:#000000; stroke-width:0.5; stroke-opacity:0.1; fill:none\" points=\"\n",
       "  491.264,360.121 491.264,11.811 \n",
       "  \"/>\n",
       "<polyline clip-path=\"url(#clip7202)\" style=\"stroke:#000000; stroke-width:0.5; stroke-opacity:0.1; fill:none\" points=\"\n",
       "  580.315,360.121 580.315,11.811 \n",
       "  \"/>\n",
       "<polyline clip-path=\"url(#clip7202)\" style=\"stroke:#000000; stroke-width:0.5; stroke-opacity:0.1; fill:none\" points=\"\n",
       "  54.9131,360.121 580.315,360.121 \n",
       "  \"/>\n",
       "<polyline clip-path=\"url(#clip7202)\" style=\"stroke:#000000; stroke-width:0.5; stroke-opacity:0.1; fill:none\" points=\"\n",
       "  54.9131,251.274 580.315,251.274 \n",
       "  \"/>\n",
       "<polyline clip-path=\"url(#clip7202)\" style=\"stroke:#000000; stroke-width:0.5; stroke-opacity:0.1; fill:none\" points=\"\n",
       "  54.9131,142.427 580.315,142.427 \n",
       "  \"/>\n",
       "<polyline clip-path=\"url(#clip7202)\" style=\"stroke:#000000; stroke-width:0.5; stroke-opacity:0.1; fill:none\" points=\"\n",
       "  54.9131,33.5804 580.315,33.5804 \n",
       "  \"/>\n",
       "<polyline clip-path=\"url(#clip7200)\" style=\"stroke:#000000; stroke-width:1; stroke-opacity:1; fill:none\" points=\"\n",
       "  54.9131,360.121 580.315,360.121 \n",
       "  \"/>\n",
       "<polyline clip-path=\"url(#clip7200)\" style=\"stroke:#000000; stroke-width:1; stroke-opacity:1; fill:none\" points=\"\n",
       "  54.9131,360.121 54.9131,11.811 \n",
       "  \"/>\n",
       "<polyline clip-path=\"url(#clip7200)\" style=\"stroke:#000000; stroke-width:1; stroke-opacity:1; fill:none\" points=\"\n",
       "  135.059,360.121 135.059,354.896 \n",
       "  \"/>\n",
       "<polyline clip-path=\"url(#clip7200)\" style=\"stroke:#000000; stroke-width:1; stroke-opacity:1; fill:none\" points=\"\n",
       "  224.11,360.121 224.11,354.896 \n",
       "  \"/>\n",
       "<polyline clip-path=\"url(#clip7200)\" style=\"stroke:#000000; stroke-width:1; stroke-opacity:1; fill:none\" points=\"\n",
       "  313.161,360.121 313.161,354.896 \n",
       "  \"/>\n",
       "<polyline clip-path=\"url(#clip7200)\" style=\"stroke:#000000; stroke-width:1; stroke-opacity:1; fill:none\" points=\"\n",
       "  402.213,360.121 402.213,354.896 \n",
       "  \"/>\n",
       "<polyline clip-path=\"url(#clip7200)\" style=\"stroke:#000000; stroke-width:1; stroke-opacity:1; fill:none\" points=\"\n",
       "  491.264,360.121 491.264,354.896 \n",
       "  \"/>\n",
       "<polyline clip-path=\"url(#clip7200)\" style=\"stroke:#000000; stroke-width:1; stroke-opacity:1; fill:none\" points=\"\n",
       "  580.315,360.121 580.315,354.896 \n",
       "  \"/>\n",
       "<polyline clip-path=\"url(#clip7200)\" style=\"stroke:#000000; stroke-width:1; stroke-opacity:1; fill:none\" points=\"\n",
       "  54.9131,360.121 62.7941,360.121 \n",
       "  \"/>\n",
       "<polyline clip-path=\"url(#clip7200)\" style=\"stroke:#000000; stroke-width:1; stroke-opacity:1; fill:none\" points=\"\n",
       "  54.9131,251.274 62.7941,251.274 \n",
       "  \"/>\n",
       "<polyline clip-path=\"url(#clip7200)\" style=\"stroke:#000000; stroke-width:1; stroke-opacity:1; fill:none\" points=\"\n",
       "  54.9131,142.427 62.7941,142.427 \n",
       "  \"/>\n",
       "<polyline clip-path=\"url(#clip7200)\" style=\"stroke:#000000; stroke-width:1; stroke-opacity:1; fill:none\" points=\"\n",
       "  54.9131,33.5804 62.7941,33.5804 \n",
       "  \"/>\n",
       "<g clip-path=\"url(#clip7200)\">\n",
       "<text style=\"fill:#000000; fill-opacity:1; font-family:Arial,Helvetica Neue,Helvetica,sans-serif; font-size:12; text-anchor:middle;\" transform=\"rotate(0, 135.059, 373.921)\" x=\"135.059\" y=\"373.921\">10</text>\n",
       "</g>\n",
       "<g clip-path=\"url(#clip7200)\">\n",
       "<text style=\"fill:#000000; fill-opacity:1; font-family:Arial,Helvetica Neue,Helvetica,sans-serif; font-size:12; text-anchor:middle;\" transform=\"rotate(0, 224.11, 373.921)\" x=\"224.11\" y=\"373.921\">20</text>\n",
       "</g>\n",
       "<g clip-path=\"url(#clip7200)\">\n",
       "<text style=\"fill:#000000; fill-opacity:1; font-family:Arial,Helvetica Neue,Helvetica,sans-serif; font-size:12; text-anchor:middle;\" transform=\"rotate(0, 313.161, 373.921)\" x=\"313.161\" y=\"373.921\">30</text>\n",
       "</g>\n",
       "<g clip-path=\"url(#clip7200)\">\n",
       "<text style=\"fill:#000000; fill-opacity:1; font-family:Arial,Helvetica Neue,Helvetica,sans-serif; font-size:12; text-anchor:middle;\" transform=\"rotate(0, 402.213, 373.921)\" x=\"402.213\" y=\"373.921\">40</text>\n",
       "</g>\n",
       "<g clip-path=\"url(#clip7200)\">\n",
       "<text style=\"fill:#000000; fill-opacity:1; font-family:Arial,Helvetica Neue,Helvetica,sans-serif; font-size:12; text-anchor:middle;\" transform=\"rotate(0, 491.264, 373.921)\" x=\"491.264\" y=\"373.921\">50</text>\n",
       "</g>\n",
       "<g clip-path=\"url(#clip7200)\">\n",
       "<text style=\"fill:#000000; fill-opacity:1; font-family:Arial,Helvetica Neue,Helvetica,sans-serif; font-size:12; text-anchor:middle;\" transform=\"rotate(0, 580.315, 373.921)\" x=\"580.315\" y=\"373.921\">60</text>\n",
       "</g>\n",
       "<g clip-path=\"url(#clip7200)\">\n",
       "<text style=\"fill:#000000; fill-opacity:1; font-family:Arial,Helvetica Neue,Helvetica,sans-serif; font-size:12; text-anchor:end;\" transform=\"rotate(0, 48.9131, 364.621)\" x=\"48.9131\" y=\"364.621\">0.20</text>\n",
       "</g>\n",
       "<g clip-path=\"url(#clip7200)\">\n",
       "<text style=\"fill:#000000; fill-opacity:1; font-family:Arial,Helvetica Neue,Helvetica,sans-serif; font-size:12; text-anchor:end;\" transform=\"rotate(0, 48.9131, 255.774)\" x=\"48.9131\" y=\"255.774\">0.25</text>\n",
       "</g>\n",
       "<g clip-path=\"url(#clip7200)\">\n",
       "<text style=\"fill:#000000; fill-opacity:1; font-family:Arial,Helvetica Neue,Helvetica,sans-serif; font-size:12; text-anchor:end;\" transform=\"rotate(0, 48.9131, 146.927)\" x=\"48.9131\" y=\"146.927\">0.30</text>\n",
       "</g>\n",
       "<g clip-path=\"url(#clip7200)\">\n",
       "<text style=\"fill:#000000; fill-opacity:1; font-family:Arial,Helvetica Neue,Helvetica,sans-serif; font-size:12; text-anchor:end;\" transform=\"rotate(0, 48.9131, 38.0804)\" x=\"48.9131\" y=\"38.0804\">0.35</text>\n",
       "</g>\n",
       "<g clip-path=\"url(#clip7200)\">\n",
       "<text style=\"fill:#000000; fill-opacity:1; font-family:Arial,Helvetica Neue,Helvetica,sans-serif; font-size:16; text-anchor:middle;\" transform=\"rotate(0, 317.614, 397.6)\" x=\"317.614\" y=\"397.6\">Epochs</text>\n",
       "</g>\n",
       "<g clip-path=\"url(#clip7200)\">\n",
       "<text style=\"fill:#000000; fill-opacity:1; font-family:Arial,Helvetica Neue,Helvetica,sans-serif; font-size:16; text-anchor:middle;\" transform=\"rotate(-90, 14.4, 185.966)\" x=\"14.4\" y=\"185.966\">Loss</text>\n",
       "</g>\n",
       "<polyline clip-path=\"url(#clip7202)\" style=\"stroke:#009af9; stroke-width:1; stroke-opacity:1; fill:none\" points=\"\n",
       "  54.9131,-52.8522 63.8182,44.5794 72.7233,87.8684 81.6285,113.886 90.5336,131.782 99.4387,145.099 108.344,155.536 117.249,164.026 126.154,171.124 135.059,177.187 \n",
       "  143.964,182.455 152.869,187.095 161.775,191.229 170.68,194.949 179.585,198.322 188.49,201.404 197.395,204.236 206.3,206.854 215.205,209.285 224.11,211.552 \n",
       "  233.015,213.674 241.921,215.667 250.826,217.545 259.731,219.32 268.636,221.002 277.541,222.598 286.446,224.118 295.351,225.567 304.256,226.95 313.161,228.275 \n",
       "  322.067,229.545 330.972,230.762 339.877,231.933 348.782,233.06 357.687,234.145 366.592,235.193 375.497,236.204 384.402,237.181 393.308,238.127 402.213,239.042 \n",
       "  411.118,239.928 420.023,240.789 428.928,241.624 437.833,242.435 446.738,243.223 455.643,243.99 464.548,244.735 473.454,245.462 482.359,246.17 491.264,246.859 \n",
       "  500.169,247.532 509.074,248.188 517.979,248.829 526.884,249.455 535.789,250.066 544.694,250.664 553.6,251.248 562.505,251.82 571.41,252.38 580.315,252.927 \n",
       "  \n",
       "  \"/>\n",
       "<polyline clip-path=\"url(#clip7202)\" style=\"stroke:#e26f46; stroke-width:1; stroke-opacity:1; fill:none\" points=\"\n",
       "  54.9131,-8.64061 63.8182,79.3488 72.7233,115.714 81.6285,136.301 90.5336,149.737 99.4387,159.27 108.344,166.423 117.249,172.01 126.154,176.508 135.059,180.217 \n",
       "  143.964,183.334 152.869,185.995 161.775,188.295 170.68,190.307 179.585,192.081 188.49,193.659 197.395,195.073 206.3,196.346 215.205,197.5 224.11,198.55 \n",
       "  233.015,199.511 241.921,200.391 250.826,201.202 259.731,201.952 268.636,202.645 277.541,203.289 286.446,203.888 295.351,204.447 304.256,204.969 313.161,205.458 \n",
       "  322.067,205.916 330.972,206.345 339.877,206.749 348.782,207.13 357.687,207.488 366.592,207.826 375.497,208.145 384.402,208.446 393.308,208.731 402.213,209 \n",
       "  411.118,209.255 420.023,209.497 428.928,209.726 437.833,209.942 446.738,210.148 455.643,210.343 464.548,210.528 473.454,210.703 482.359,210.87 491.264,211.028 \n",
       "  500.169,211.178 509.074,211.32 517.979,211.455 526.884,211.583 535.789,211.704 544.694,211.82 553.6,211.929 562.505,212.032 571.41,212.13 580.315,212.222 \n",
       "  \n",
       "  \"/>\n",
       "<polygon clip-path=\"url(#clip7200)\" points=\"\n",
       "447.479,78.051 562.315,78.051 562.315,32.691 447.479,32.691 \n",
       "  \" fill=\"#ffffff\" fill-opacity=\"1\"/>\n",
       "<polyline clip-path=\"url(#clip7200)\" style=\"stroke:#000000; stroke-width:1; stroke-opacity:1; fill:none\" points=\"\n",
       "  447.479,78.051 562.315,78.051 562.315,32.691 447.479,32.691 447.479,78.051 \n",
       "  \"/>\n",
       "<polyline clip-path=\"url(#clip7200)\" style=\"stroke:#009af9; stroke-width:1; stroke-opacity:1; fill:none\" points=\"\n",
       "  453.479,47.811 489.479,47.811 \n",
       "  \"/>\n",
       "<g clip-path=\"url(#clip7200)\">\n",
       "<text style=\"fill:#000000; fill-opacity:1; font-family:Arial,Helvetica Neue,Helvetica,sans-serif; font-size:12; text-anchor:start;\" transform=\"rotate(0, 495.479, 52.311)\" x=\"495.479\" y=\"52.311\">trnsoftloss</text>\n",
       "</g>\n",
       "<polyline clip-path=\"url(#clip7200)\" style=\"stroke:#e26f46; stroke-width:1; stroke-opacity:1; fill:none\" points=\"\n",
       "  453.479,62.931 489.479,62.931 \n",
       "  \"/>\n",
       "<g clip-path=\"url(#clip7200)\">\n",
       "<text style=\"fill:#000000; fill-opacity:1; font-family:Arial,Helvetica Neue,Helvetica,sans-serif; font-size:12; text-anchor:start;\" transform=\"rotate(0, 495.479, 67.431)\" x=\"495.479\" y=\"67.431\">tstsoftloss</text>\n",
       "</g>\n",
       "</svg>\n"
      ]
     },
     "execution_count": 36,
     "metadata": {},
     "output_type": "execute_result"
    }
   ],
   "source": [
    "plot([trnsoftloss tstsoftloss],ylim=(.2,.36),labels=[:trnsoftloss :tstsoftloss],xlabel=\"Epochs\",ylabel=\"Loss\") "
   ]
  },
  {
   "cell_type": "markdown",
   "metadata": {},
   "source": [
    "## Plot softmax error rate"
   ]
  },
  {
   "cell_type": "code",
   "execution_count": 37,
   "metadata": {},
   "outputs": [
    {
     "name": "stdout",
     "output_type": "stream",
     "text": [
      "  6.153225 seconds (3.33 M allocations: 11.134 GiB, 15.74% gc time)\n",
      "  1.062067 seconds (562.73 k allocations: 1.856 GiB, 15.49% gc time)\n"
     ]
    }
   ],
   "source": [
    "@time trnsofterr = [ 1-accuracy(w,dtrn,predict) for w in softmodels ];  # ~12 seconds\n",
    "@time tstsofterr = [ 1-accuracy(w,dtst,predict) for w in softmodels ];  # ~2 seconds"
   ]
  },
  {
   "cell_type": "code",
   "execution_count": 39,
   "metadata": {
    "scrolled": true
   },
   "outputs": [
    {
     "data": {
      "image/svg+xml": [
       "<?xml version=\"1.0\" encoding=\"utf-8\"?>\n",
       "<svg xmlns=\"http://www.w3.org/2000/svg\" xmlns:xlink=\"http://www.w3.org/1999/xlink\" width=\"600\" height=\"400\" viewBox=\"0 0 600 400\">\n",
       "<defs>\n",
       "  <clipPath id=\"clip7600\">\n",
       "    <rect x=\"0\" y=\"0\" width=\"600\" height=\"400\"/>\n",
       "  </clipPath>\n",
       "</defs>\n",
       "<polygon clip-path=\"url(#clip7600)\" points=\"\n",
       "0,400 600,400 600,0 0,0 \n",
       "  \" fill=\"#ffffff\" fill-opacity=\"1\"/>\n",
       "<defs>\n",
       "  <clipPath id=\"clip7601\">\n",
       "    <rect x=\"120\" y=\"0\" width=\"421\" height=\"400\"/>\n",
       "  </clipPath>\n",
       "</defs>\n",
       "<polygon clip-path=\"url(#clip7600)\" points=\"\n",
       "54.9131,360.121 580.315,360.121 580.315,11.811 54.9131,11.811 \n",
       "  \" fill=\"#ffffff\" fill-opacity=\"1\"/>\n",
       "<defs>\n",
       "  <clipPath id=\"clip7602\">\n",
       "    <rect x=\"54\" y=\"11\" width=\"526\" height=\"349\"/>\n",
       "  </clipPath>\n",
       "</defs>\n",
       "<polyline clip-path=\"url(#clip7602)\" style=\"stroke:#000000; stroke-width:0.5; stroke-opacity:0.1; fill:none\" points=\"\n",
       "  135.059,360.121 135.059,11.811 \n",
       "  \"/>\n",
       "<polyline clip-path=\"url(#clip7602)\" style=\"stroke:#000000; stroke-width:0.5; stroke-opacity:0.1; fill:none\" points=\"\n",
       "  224.11,360.121 224.11,11.811 \n",
       "  \"/>\n",
       "<polyline clip-path=\"url(#clip7602)\" style=\"stroke:#000000; stroke-width:0.5; stroke-opacity:0.1; fill:none\" points=\"\n",
       "  313.161,360.121 313.161,11.811 \n",
       "  \"/>\n",
       "<polyline clip-path=\"url(#clip7602)\" style=\"stroke:#000000; stroke-width:0.5; stroke-opacity:0.1; fill:none\" points=\"\n",
       "  402.213,360.121 402.213,11.811 \n",
       "  \"/>\n",
       "<polyline clip-path=\"url(#clip7602)\" style=\"stroke:#000000; stroke-width:0.5; stroke-opacity:0.1; fill:none\" points=\"\n",
       "  491.264,360.121 491.264,11.811 \n",
       "  \"/>\n",
       "<polyline clip-path=\"url(#clip7602)\" style=\"stroke:#000000; stroke-width:0.5; stroke-opacity:0.1; fill:none\" points=\"\n",
       "  580.315,360.121 580.315,11.811 \n",
       "  \"/>\n",
       "<polyline clip-path=\"url(#clip7602)\" style=\"stroke:#000000; stroke-width:0.5; stroke-opacity:0.1; fill:none\" points=\"\n",
       "  54.9131,360.121 580.315,360.121 \n",
       "  \"/>\n",
       "<polyline clip-path=\"url(#clip7602)\" style=\"stroke:#000000; stroke-width:0.5; stroke-opacity:0.1; fill:none\" points=\"\n",
       "  54.9131,273.043 580.315,273.043 \n",
       "  \"/>\n",
       "<polyline clip-path=\"url(#clip7602)\" style=\"stroke:#000000; stroke-width:0.5; stroke-opacity:0.1; fill:none\" points=\"\n",
       "  54.9131,185.966 580.315,185.966 \n",
       "  \"/>\n",
       "<polyline clip-path=\"url(#clip7602)\" style=\"stroke:#000000; stroke-width:0.5; stroke-opacity:0.1; fill:none\" points=\"\n",
       "  54.9131,98.8884 580.315,98.8884 \n",
       "  \"/>\n",
       "<polyline clip-path=\"url(#clip7602)\" style=\"stroke:#000000; stroke-width:0.5; stroke-opacity:0.1; fill:none\" points=\"\n",
       "  54.9131,11.811 580.315,11.811 \n",
       "  \"/>\n",
       "<polyline clip-path=\"url(#clip7600)\" style=\"stroke:#000000; stroke-width:1; stroke-opacity:1; fill:none\" points=\"\n",
       "  54.9131,360.121 580.315,360.121 \n",
       "  \"/>\n",
       "<polyline clip-path=\"url(#clip7600)\" style=\"stroke:#000000; stroke-width:1; stroke-opacity:1; fill:none\" points=\"\n",
       "  54.9131,360.121 54.9131,11.811 \n",
       "  \"/>\n",
       "<polyline clip-path=\"url(#clip7600)\" style=\"stroke:#000000; stroke-width:1; stroke-opacity:1; fill:none\" points=\"\n",
       "  135.059,360.121 135.059,354.896 \n",
       "  \"/>\n",
       "<polyline clip-path=\"url(#clip7600)\" style=\"stroke:#000000; stroke-width:1; stroke-opacity:1; fill:none\" points=\"\n",
       "  224.11,360.121 224.11,354.896 \n",
       "  \"/>\n",
       "<polyline clip-path=\"url(#clip7600)\" style=\"stroke:#000000; stroke-width:1; stroke-opacity:1; fill:none\" points=\"\n",
       "  313.161,360.121 313.161,354.896 \n",
       "  \"/>\n",
       "<polyline clip-path=\"url(#clip7600)\" style=\"stroke:#000000; stroke-width:1; stroke-opacity:1; fill:none\" points=\"\n",
       "  402.213,360.121 402.213,354.896 \n",
       "  \"/>\n",
       "<polyline clip-path=\"url(#clip7600)\" style=\"stroke:#000000; stroke-width:1; stroke-opacity:1; fill:none\" points=\"\n",
       "  491.264,360.121 491.264,354.896 \n",
       "  \"/>\n",
       "<polyline clip-path=\"url(#clip7600)\" style=\"stroke:#000000; stroke-width:1; stroke-opacity:1; fill:none\" points=\"\n",
       "  580.315,360.121 580.315,354.896 \n",
       "  \"/>\n",
       "<polyline clip-path=\"url(#clip7600)\" style=\"stroke:#000000; stroke-width:1; stroke-opacity:1; fill:none\" points=\"\n",
       "  54.9131,360.121 62.7941,360.121 \n",
       "  \"/>\n",
       "<polyline clip-path=\"url(#clip7600)\" style=\"stroke:#000000; stroke-width:1; stroke-opacity:1; fill:none\" points=\"\n",
       "  54.9131,273.043 62.7941,273.043 \n",
       "  \"/>\n",
       "<polyline clip-path=\"url(#clip7600)\" style=\"stroke:#000000; stroke-width:1; stroke-opacity:1; fill:none\" points=\"\n",
       "  54.9131,185.966 62.7941,185.966 \n",
       "  \"/>\n",
       "<polyline clip-path=\"url(#clip7600)\" style=\"stroke:#000000; stroke-width:1; stroke-opacity:1; fill:none\" points=\"\n",
       "  54.9131,98.8884 62.7941,98.8884 \n",
       "  \"/>\n",
       "<polyline clip-path=\"url(#clip7600)\" style=\"stroke:#000000; stroke-width:1; stroke-opacity:1; fill:none\" points=\"\n",
       "  54.9131,11.811 62.7941,11.811 \n",
       "  \"/>\n",
       "<g clip-path=\"url(#clip7600)\">\n",
       "<text style=\"fill:#000000; fill-opacity:1; font-family:Arial,Helvetica Neue,Helvetica,sans-serif; font-size:12; text-anchor:middle;\" transform=\"rotate(0, 135.059, 373.921)\" x=\"135.059\" y=\"373.921\">10</text>\n",
       "</g>\n",
       "<g clip-path=\"url(#clip7600)\">\n",
       "<text style=\"fill:#000000; fill-opacity:1; font-family:Arial,Helvetica Neue,Helvetica,sans-serif; font-size:12; text-anchor:middle;\" transform=\"rotate(0, 224.11, 373.921)\" x=\"224.11\" y=\"373.921\">20</text>\n",
       "</g>\n",
       "<g clip-path=\"url(#clip7600)\">\n",
       "<text style=\"fill:#000000; fill-opacity:1; font-family:Arial,Helvetica Neue,Helvetica,sans-serif; font-size:12; text-anchor:middle;\" transform=\"rotate(0, 313.161, 373.921)\" x=\"313.161\" y=\"373.921\">30</text>\n",
       "</g>\n",
       "<g clip-path=\"url(#clip7600)\">\n",
       "<text style=\"fill:#000000; fill-opacity:1; font-family:Arial,Helvetica Neue,Helvetica,sans-serif; font-size:12; text-anchor:middle;\" transform=\"rotate(0, 402.213, 373.921)\" x=\"402.213\" y=\"373.921\">40</text>\n",
       "</g>\n",
       "<g clip-path=\"url(#clip7600)\">\n",
       "<text style=\"fill:#000000; fill-opacity:1; font-family:Arial,Helvetica Neue,Helvetica,sans-serif; font-size:12; text-anchor:middle;\" transform=\"rotate(0, 491.264, 373.921)\" x=\"491.264\" y=\"373.921\">50</text>\n",
       "</g>\n",
       "<g clip-path=\"url(#clip7600)\">\n",
       "<text style=\"fill:#000000; fill-opacity:1; font-family:Arial,Helvetica Neue,Helvetica,sans-serif; font-size:12; text-anchor:middle;\" transform=\"rotate(0, 580.315, 373.921)\" x=\"580.315\" y=\"373.921\">60</text>\n",
       "</g>\n",
       "<g clip-path=\"url(#clip7600)\">\n",
       "<text style=\"fill:#000000; fill-opacity:1; font-family:Arial,Helvetica Neue,Helvetica,sans-serif; font-size:12; text-anchor:end;\" transform=\"rotate(0, 48.9131, 364.621)\" x=\"48.9131\" y=\"364.621\">0.06</text>\n",
       "</g>\n",
       "<g clip-path=\"url(#clip7600)\">\n",
       "<text style=\"fill:#000000; fill-opacity:1; font-family:Arial,Helvetica Neue,Helvetica,sans-serif; font-size:12; text-anchor:end;\" transform=\"rotate(0, 48.9131, 277.543)\" x=\"48.9131\" y=\"277.543\">0.07</text>\n",
       "</g>\n",
       "<g clip-path=\"url(#clip7600)\">\n",
       "<text style=\"fill:#000000; fill-opacity:1; font-family:Arial,Helvetica Neue,Helvetica,sans-serif; font-size:12; text-anchor:end;\" transform=\"rotate(0, 48.9131, 190.466)\" x=\"48.9131\" y=\"190.466\">0.08</text>\n",
       "</g>\n",
       "<g clip-path=\"url(#clip7600)\">\n",
       "<text style=\"fill:#000000; fill-opacity:1; font-family:Arial,Helvetica Neue,Helvetica,sans-serif; font-size:12; text-anchor:end;\" transform=\"rotate(0, 48.9131, 103.388)\" x=\"48.9131\" y=\"103.388\">0.09</text>\n",
       "</g>\n",
       "<g clip-path=\"url(#clip7600)\">\n",
       "<text style=\"fill:#000000; fill-opacity:1; font-family:Arial,Helvetica Neue,Helvetica,sans-serif; font-size:12; text-anchor:end;\" transform=\"rotate(0, 48.9131, 16.311)\" x=\"48.9131\" y=\"16.311\">0.10</text>\n",
       "</g>\n",
       "<g clip-path=\"url(#clip7600)\">\n",
       "<text style=\"fill:#000000; fill-opacity:1; font-family:Arial,Helvetica Neue,Helvetica,sans-serif; font-size:16; text-anchor:middle;\" transform=\"rotate(0, 317.614, 397.6)\" x=\"317.614\" y=\"397.6\">Epochs</text>\n",
       "</g>\n",
       "<g clip-path=\"url(#clip7600)\">\n",
       "<text style=\"fill:#000000; fill-opacity:1; font-family:Arial,Helvetica Neue,Helvetica,sans-serif; font-size:16; text-anchor:middle;\" transform=\"rotate(-90, 14.4, 185.966)\" x=\"14.4\" y=\"185.966\">Error</text>\n",
       "</g>\n",
       "<polyline clip-path=\"url(#clip7602)\" style=\"stroke:#009af9; stroke-width:1; stroke-opacity:1; fill:none\" points=\"\n",
       "  54.9131,-74.2505 63.8182,23.5665 72.7233,75.958 81.6285,108.177 90.5336,129.801 99.4387,143.443 108.344,154.328 117.249,163.761 126.154,174.936 135.059,181.322 \n",
       "  143.964,188.288 152.869,192.642 161.775,200.043 170.68,206.429 179.585,209.622 188.49,214.121 197.395,217.023 206.3,220.071 215.205,222.393 224.11,225.731 \n",
       "  233.015,229.65 241.921,231.681 250.826,233.713 259.731,235.6 268.636,237.922 277.541,240.825 286.446,241.26 295.351,243.727 304.256,245.904 313.161,247.791 \n",
       "  322.067,249.242 330.972,249.968 339.877,251.564 348.782,252.435 357.687,254.322 366.592,256.063 375.497,257.514 384.402,258.53 393.308,260.272 402.213,261.723 \n",
       "  411.118,262.304 420.023,263.029 428.928,265.206 437.833,267.238 446.738,267.819 455.643,268.98 464.548,269.56 473.454,270.721 482.359,271.302 491.264,271.447 \n",
       "  500.169,272.172 509.074,273.914 517.979,274.495 526.884,274.785 535.789,275.365 544.694,276.091 553.6,276.962 562.505,277.107 571.41,278.558 580.315,280.155 \n",
       "  \n",
       "  \"/>\n",
       "<polyline clip-path=\"url(#clip7602)\" style=\"stroke:#e26f46; stroke-width:1; stroke-opacity:1; fill:none\" points=\"\n",
       "  54.9131,3.10328 63.8182,87.5684 72.7233,117.175 81.6285,138.944 90.5336,148.523 99.4387,160.713 108.344,162.455 117.249,169.421 126.154,177.258 135.059,184.224 \n",
       "  143.964,189.449 152.869,190.32 161.775,192.932 170.68,194.674 179.585,197.286 188.49,192.061 197.395,191.19 206.3,193.803 215.205,192.061 224.11,192.932 \n",
       "  233.015,196.415 241.921,196.415 250.826,199.027 259.731,199.027 268.636,202.511 277.541,205.123 286.446,207.735 295.351,211.218 304.256,212.96 313.161,213.831 \n",
       "  322.067,213.831 330.972,213.831 339.877,214.701 348.782,213.831 357.687,214.701 366.592,218.184 375.497,219.055 384.402,218.184 393.308,218.184 402.213,219.055 \n",
       "  411.118,219.926 420.023,219.926 428.928,219.926 437.833,219.055 446.738,219.055 455.643,219.055 464.548,219.926 473.454,218.184 482.359,215.572 491.264,216.443 \n",
       "  500.169,217.314 509.074,217.314 517.979,218.184 526.884,218.184 535.789,219.055 544.694,218.184 553.6,218.184 562.505,219.926 571.41,219.926 580.315,221.668 \n",
       "  \n",
       "  \"/>\n",
       "<polygon clip-path=\"url(#clip7600)\" points=\"\n",
       "454.169,78.051 562.315,78.051 562.315,32.691 454.169,32.691 \n",
       "  \" fill=\"#ffffff\" fill-opacity=\"1\"/>\n",
       "<polyline clip-path=\"url(#clip7600)\" style=\"stroke:#000000; stroke-width:1; stroke-opacity:1; fill:none\" points=\"\n",
       "  454.169,78.051 562.315,78.051 562.315,32.691 454.169,32.691 454.169,78.051 \n",
       "  \"/>\n",
       "<polyline clip-path=\"url(#clip7600)\" style=\"stroke:#009af9; stroke-width:1; stroke-opacity:1; fill:none\" points=\"\n",
       "  460.169,47.811 496.169,47.811 \n",
       "  \"/>\n",
       "<g clip-path=\"url(#clip7600)\">\n",
       "<text style=\"fill:#000000; fill-opacity:1; font-family:Arial,Helvetica Neue,Helvetica,sans-serif; font-size:12; text-anchor:start;\" transform=\"rotate(0, 502.169, 52.311)\" x=\"502.169\" y=\"52.311\">trnsofterr</text>\n",
       "</g>\n",
       "<polyline clip-path=\"url(#clip7600)\" style=\"stroke:#e26f46; stroke-width:1; stroke-opacity:1; fill:none\" points=\"\n",
       "  460.169,62.931 496.169,62.931 \n",
       "  \"/>\n",
       "<g clip-path=\"url(#clip7600)\">\n",
       "<text style=\"fill:#000000; fill-opacity:1; font-family:Arial,Helvetica Neue,Helvetica,sans-serif; font-size:12; text-anchor:start;\" transform=\"rotate(0, 502.169, 67.431)\" x=\"502.169\" y=\"67.431\">tstsofterr</text>\n",
       "</g>\n",
       "</svg>\n"
      ]
     },
     "execution_count": 39,
     "metadata": {},
     "output_type": "execute_result"
    }
   ],
   "source": [
    "plot([trnsofterr tstsofterr],ylim=(.06,.10),labels=[:trnsofterr :tstsofterr],xlabel=\"Epochs\",ylabel=\"Error\")"
   ]
  },
  {
   "cell_type": "code",
   "execution_count": 40,
   "metadata": {},
   "outputs": [],
   "source": [
    "# Cleanup\n",
    "wsoft = softmodels = nothing; knetgc()"
   ]
  },
  {
   "cell_type": "markdown",
   "metadata": {},
   "source": [
    "# Multilayer perceptron example with MNIST"
   ]
  },
  {
   "cell_type": "code",
   "execution_count": 41,
   "metadata": {},
   "outputs": [
    {
     "data": {
      "text/plain": [
       "predict (generic function with 1 method)"
      ]
     },
     "execution_count": 41,
     "metadata": {},
     "output_type": "execute_result"
    }
   ],
   "source": [
    "# We only need to change the predict function!\n",
    "function predict(w,x)\n",
    "    for i=1:2:length(w)\n",
    "        x = w[i]*mat(x) .+ w[i+1]\n",
    "        if i<length(w)-1\n",
    "            x = max.(0,x)                         \n",
    "        end\n",
    "    end\n",
    "    return x\n",
    "end"
   ]
  },
  {
   "cell_type": "code",
   "execution_count": 43,
   "metadata": {},
   "outputs": [
    {
     "data": {
      "text/plain": [
       "2.4366724f0"
      ]
     },
     "execution_count": 43,
     "metadata": {},
     "output_type": "execute_result"
    }
   ],
   "source": [
    "wmlp=map(Atype, [ 0.1*randn(64,784), zeros(64,1), \n",
    "                  0.1*randn(10,64),  zeros(10,1) ])\n",
    "loss(wmlp, x, y)  # average loss for random model should be close to log(10)=2.3026"
   ]
  },
  {
   "cell_type": "markdown",
   "metadata": {},
   "source": [
    "## Train MLP model"
   ]
  },
  {
   "cell_type": "code",
   "execution_count": 44,
   "metadata": {},
   "outputs": [
    {
     "name": "stdout",
     "output_type": "stream",
     "text": [
      " 60.059827 seconds (39.31 M allocations: 58.845 GiB, 9.66% gc time)\n"
     ]
    }
   ],
   "source": [
    "@time mlpmodels = [ copy(train!(wmlp, dtrn)) for epoch=1:60 ]; # ~20 seconds"
   ]
  },
  {
   "cell_type": "markdown",
   "metadata": {},
   "source": [
    "## Compare MLP loss with softmax loss"
   ]
  },
  {
   "cell_type": "code",
   "execution_count": 45,
   "metadata": {},
   "outputs": [
    {
     "name": "stdout",
     "output_type": "stream",
     "text": [
      " 13.244330 seconds (7.18 M allocations: 14.151 GiB, 10.61% gc time)\n",
      "  2.302616 seconds (1.20 M allocations: 2.359 GiB, 10.41% gc time)\n"
     ]
    }
   ],
   "source": [
    "@time trnmlploss = [ nll(w,dtrn,predict) for w in mlpmodels ]; # ~12 seconds\n",
    "@time tstmlploss = [ nll(w,dtst,predict) for w in mlpmodels ]; # ~2 seconds"
   ]
  },
  {
   "cell_type": "code",
   "execution_count": 50,
   "metadata": {},
   "outputs": [
    {
     "data": {
      "image/svg+xml": [
       "<?xml version=\"1.0\" encoding=\"utf-8\"?>\n",
       "<svg xmlns=\"http://www.w3.org/2000/svg\" xmlns:xlink=\"http://www.w3.org/1999/xlink\" width=\"600\" height=\"400\" viewBox=\"0 0 600 400\">\n",
       "<defs>\n",
       "  <clipPath id=\"clip8400\">\n",
       "    <rect x=\"0\" y=\"0\" width=\"600\" height=\"400\"/>\n",
       "  </clipPath>\n",
       "</defs>\n",
       "<polygon clip-path=\"url(#clip8400)\" points=\"\n",
       "0,400 600,400 600,0 0,0 \n",
       "  \" fill=\"#ffffff\" fill-opacity=\"1\"/>\n",
       "<defs>\n",
       "  <clipPath id=\"clip8401\">\n",
       "    <rect x=\"120\" y=\"0\" width=\"421\" height=\"400\"/>\n",
       "  </clipPath>\n",
       "</defs>\n",
       "<polygon clip-path=\"url(#clip8400)\" points=\"\n",
       "48.2225,360.121 580.315,360.121 580.315,11.811 48.2225,11.811 \n",
       "  \" fill=\"#ffffff\" fill-opacity=\"1\"/>\n",
       "<defs>\n",
       "  <clipPath id=\"clip8402\">\n",
       "    <rect x=\"48\" y=\"11\" width=\"533\" height=\"349\"/>\n",
       "  </clipPath>\n",
       "</defs>\n",
       "<polyline clip-path=\"url(#clip8402)\" style=\"stroke:#000000; stroke-width:0.5; stroke-opacity:0.1; fill:none\" points=\"\n",
       "  129.389,360.121 129.389,11.811 \n",
       "  \"/>\n",
       "<polyline clip-path=\"url(#clip8402)\" style=\"stroke:#000000; stroke-width:0.5; stroke-opacity:0.1; fill:none\" points=\"\n",
       "  219.574,360.121 219.574,11.811 \n",
       "  \"/>\n",
       "<polyline clip-path=\"url(#clip8402)\" style=\"stroke:#000000; stroke-width:0.5; stroke-opacity:0.1; fill:none\" points=\"\n",
       "  309.759,360.121 309.759,11.811 \n",
       "  \"/>\n",
       "<polyline clip-path=\"url(#clip8402)\" style=\"stroke:#000000; stroke-width:0.5; stroke-opacity:0.1; fill:none\" points=\"\n",
       "  399.945,360.121 399.945,11.811 \n",
       "  \"/>\n",
       "<polyline clip-path=\"url(#clip8402)\" style=\"stroke:#000000; stroke-width:0.5; stroke-opacity:0.1; fill:none\" points=\"\n",
       "  490.13,360.121 490.13,11.811 \n",
       "  \"/>\n",
       "<polyline clip-path=\"url(#clip8402)\" style=\"stroke:#000000; stroke-width:0.5; stroke-opacity:0.1; fill:none\" points=\"\n",
       "  580.315,360.121 580.315,11.811 \n",
       "  \"/>\n",
       "<polyline clip-path=\"url(#clip8402)\" style=\"stroke:#000000; stroke-width:0.5; stroke-opacity:0.1; fill:none\" points=\"\n",
       "  48.2225,360.121 580.315,360.121 \n",
       "  \"/>\n",
       "<polyline clip-path=\"url(#clip8402)\" style=\"stroke:#000000; stroke-width:0.5; stroke-opacity:0.1; fill:none\" points=\"\n",
       "  48.2225,263.368 580.315,263.368 \n",
       "  \"/>\n",
       "<polyline clip-path=\"url(#clip8402)\" style=\"stroke:#000000; stroke-width:0.5; stroke-opacity:0.1; fill:none\" points=\"\n",
       "  48.2225,166.615 580.315,166.615 \n",
       "  \"/>\n",
       "<polyline clip-path=\"url(#clip8402)\" style=\"stroke:#000000; stroke-width:0.5; stroke-opacity:0.1; fill:none\" points=\"\n",
       "  48.2225,69.8626 580.315,69.8626 \n",
       "  \"/>\n",
       "<polyline clip-path=\"url(#clip8400)\" style=\"stroke:#000000; stroke-width:1; stroke-opacity:1; fill:none\" points=\"\n",
       "  48.2225,360.121 580.315,360.121 \n",
       "  \"/>\n",
       "<polyline clip-path=\"url(#clip8400)\" style=\"stroke:#000000; stroke-width:1; stroke-opacity:1; fill:none\" points=\"\n",
       "  48.2225,360.121 48.2225,11.811 \n",
       "  \"/>\n",
       "<polyline clip-path=\"url(#clip8400)\" style=\"stroke:#000000; stroke-width:1; stroke-opacity:1; fill:none\" points=\"\n",
       "  129.389,360.121 129.389,354.896 \n",
       "  \"/>\n",
       "<polyline clip-path=\"url(#clip8400)\" style=\"stroke:#000000; stroke-width:1; stroke-opacity:1; fill:none\" points=\"\n",
       "  219.574,360.121 219.574,354.896 \n",
       "  \"/>\n",
       "<polyline clip-path=\"url(#clip8400)\" style=\"stroke:#000000; stroke-width:1; stroke-opacity:1; fill:none\" points=\"\n",
       "  309.759,360.121 309.759,354.896 \n",
       "  \"/>\n",
       "<polyline clip-path=\"url(#clip8400)\" style=\"stroke:#000000; stroke-width:1; stroke-opacity:1; fill:none\" points=\"\n",
       "  399.945,360.121 399.945,354.896 \n",
       "  \"/>\n",
       "<polyline clip-path=\"url(#clip8400)\" style=\"stroke:#000000; stroke-width:1; stroke-opacity:1; fill:none\" points=\"\n",
       "  490.13,360.121 490.13,354.896 \n",
       "  \"/>\n",
       "<polyline clip-path=\"url(#clip8400)\" style=\"stroke:#000000; stroke-width:1; stroke-opacity:1; fill:none\" points=\"\n",
       "  580.315,360.121 580.315,354.896 \n",
       "  \"/>\n",
       "<polyline clip-path=\"url(#clip8400)\" style=\"stroke:#000000; stroke-width:1; stroke-opacity:1; fill:none\" points=\"\n",
       "  48.2225,360.121 56.2039,360.121 \n",
       "  \"/>\n",
       "<polyline clip-path=\"url(#clip8400)\" style=\"stroke:#000000; stroke-width:1; stroke-opacity:1; fill:none\" points=\"\n",
       "  48.2225,263.368 56.2039,263.368 \n",
       "  \"/>\n",
       "<polyline clip-path=\"url(#clip8400)\" style=\"stroke:#000000; stroke-width:1; stroke-opacity:1; fill:none\" points=\"\n",
       "  48.2225,166.615 56.2039,166.615 \n",
       "  \"/>\n",
       "<polyline clip-path=\"url(#clip8400)\" style=\"stroke:#000000; stroke-width:1; stroke-opacity:1; fill:none\" points=\"\n",
       "  48.2225,69.8626 56.2039,69.8626 \n",
       "  \"/>\n",
       "<g clip-path=\"url(#clip8400)\">\n",
       "<text style=\"fill:#000000; fill-opacity:1; font-family:Arial,Helvetica Neue,Helvetica,sans-serif; font-size:12; text-anchor:middle;\" transform=\"rotate(0, 129.389, 373.921)\" x=\"129.389\" y=\"373.921\">10</text>\n",
       "</g>\n",
       "<g clip-path=\"url(#clip8400)\">\n",
       "<text style=\"fill:#000000; fill-opacity:1; font-family:Arial,Helvetica Neue,Helvetica,sans-serif; font-size:12; text-anchor:middle;\" transform=\"rotate(0, 219.574, 373.921)\" x=\"219.574\" y=\"373.921\">20</text>\n",
       "</g>\n",
       "<g clip-path=\"url(#clip8400)\">\n",
       "<text style=\"fill:#000000; fill-opacity:1; font-family:Arial,Helvetica Neue,Helvetica,sans-serif; font-size:12; text-anchor:middle;\" transform=\"rotate(0, 309.759, 373.921)\" x=\"309.759\" y=\"373.921\">30</text>\n",
       "</g>\n",
       "<g clip-path=\"url(#clip8400)\">\n",
       "<text style=\"fill:#000000; fill-opacity:1; font-family:Arial,Helvetica Neue,Helvetica,sans-serif; font-size:12; text-anchor:middle;\" transform=\"rotate(0, 399.945, 373.921)\" x=\"399.945\" y=\"373.921\">40</text>\n",
       "</g>\n",
       "<g clip-path=\"url(#clip8400)\">\n",
       "<text style=\"fill:#000000; fill-opacity:1; font-family:Arial,Helvetica Neue,Helvetica,sans-serif; font-size:12; text-anchor:middle;\" transform=\"rotate(0, 490.13, 373.921)\" x=\"490.13\" y=\"373.921\">50</text>\n",
       "</g>\n",
       "<g clip-path=\"url(#clip8400)\">\n",
       "<text style=\"fill:#000000; fill-opacity:1; font-family:Arial,Helvetica Neue,Helvetica,sans-serif; font-size:12; text-anchor:middle;\" transform=\"rotate(0, 580.315, 373.921)\" x=\"580.315\" y=\"373.921\">60</text>\n",
       "</g>\n",
       "<g clip-path=\"url(#clip8400)\">\n",
       "<text style=\"fill:#000000; fill-opacity:1; font-family:Arial,Helvetica Neue,Helvetica,sans-serif; font-size:12; text-anchor:end;\" transform=\"rotate(0, 42.2225, 364.621)\" x=\"42.2225\" y=\"364.621\">0.0</text>\n",
       "</g>\n",
       "<g clip-path=\"url(#clip8400)\">\n",
       "<text style=\"fill:#000000; fill-opacity:1; font-family:Arial,Helvetica Neue,Helvetica,sans-serif; font-size:12; text-anchor:end;\" transform=\"rotate(0, 42.2225, 267.868)\" x=\"42.2225\" y=\"267.868\">0.1</text>\n",
       "</g>\n",
       "<g clip-path=\"url(#clip8400)\">\n",
       "<text style=\"fill:#000000; fill-opacity:1; font-family:Arial,Helvetica Neue,Helvetica,sans-serif; font-size:12; text-anchor:end;\" transform=\"rotate(0, 42.2225, 171.115)\" x=\"42.2225\" y=\"171.115\">0.2</text>\n",
       "</g>\n",
       "<g clip-path=\"url(#clip8400)\">\n",
       "<text style=\"fill:#000000; fill-opacity:1; font-family:Arial,Helvetica Neue,Helvetica,sans-serif; font-size:12; text-anchor:end;\" transform=\"rotate(0, 42.2225, 74.3626)\" x=\"42.2225\" y=\"74.3626\">0.3</text>\n",
       "</g>\n",
       "<g clip-path=\"url(#clip8400)\">\n",
       "<text style=\"fill:#000000; fill-opacity:1; font-family:Arial,Helvetica Neue,Helvetica,sans-serif; font-size:16; text-anchor:middle;\" transform=\"rotate(0, 314.269, 397.6)\" x=\"314.269\" y=\"397.6\">Epochs</text>\n",
       "</g>\n",
       "<g clip-path=\"url(#clip8400)\">\n",
       "<text style=\"fill:#000000; fill-opacity:1; font-family:Arial,Helvetica Neue,Helvetica,sans-serif; font-size:16; text-anchor:middle;\" transform=\"rotate(-90, 14.4, 185.966)\" x=\"14.4\" y=\"185.966\">Loss</text>\n",
       "</g>\n",
       "<polyline clip-path=\"url(#clip8402)\" style=\"stroke:#009af9; stroke-width:5; stroke-opacity:1; fill:none\" points=\"\n",
       "  48.2225,-16.9282 57.241,26.3748 66.2596,45.6143 75.2781,57.1777 84.2966,65.1316 93.3151,71.0499 102.334,75.6889 111.352,79.4621 120.371,82.6169 129.389,85.3114 \n",
       "  138.408,87.6528 147.426,89.715 156.445,91.5525 165.463,93.2056 174.482,94.705 183.5,96.0746 192.519,97.3334 201.537,98.4968 210.556,99.5775 219.574,100.585 \n",
       "  228.593,101.528 237.611,102.414 246.63,103.248 255.648,104.037 264.667,104.785 273.685,105.494 282.704,106.17 291.722,106.814 300.741,107.429 309.759,108.017 \n",
       "  318.778,108.581 327.797,109.123 336.815,109.643 345.834,110.144 354.852,110.626 363.871,111.092 372.889,111.541 381.908,111.975 390.926,112.396 399.945,112.802 \n",
       "  408.963,113.197 417.982,113.579 427,113.95 436.019,114.311 445.037,114.661 454.056,115.002 463.074,115.333 472.093,115.656 481.111,115.97 490.13,116.277 \n",
       "  499.148,116.576 508.167,116.868 517.185,117.152 526.204,117.43 535.222,117.702 544.241,117.968 553.259,118.228 562.278,118.482 571.296,118.73 580.315,118.974 \n",
       "  \n",
       "  \"/>\n",
       "<polyline clip-path=\"url(#clip8402)\" style=\"stroke:#e26f46; stroke-width:5; stroke-opacity:1; fill:none\" points=\"\n",
       "  48.2225,2.72141 57.241,41.8278 66.2596,57.99 75.2781,67.1398 84.2966,73.1113 93.3151,77.3484 102.334,80.5274 111.352,83.0104 120.371,85.0097 129.389,86.6583 \n",
       "  138.408,88.0436 147.426,89.2261 156.445,90.2486 165.463,91.1424 174.482,91.931 183.5,92.6324 192.519,93.2607 201.537,93.8267 210.556,94.3395 219.574,94.8062 \n",
       "  228.593,95.2331 237.611,95.6244 246.63,95.985 255.648,96.3179 264.667,96.6261 273.685,96.9124 282.704,97.1786 291.722,97.4271 300.741,97.659 309.759,97.8762 \n",
       "  318.778,98.0798 327.797,98.2708 336.815,98.4503 345.834,98.6195 354.852,98.7788 363.871,98.9288 372.889,99.0704 381.908,99.2044 390.926,99.3309 399.945,99.4507 \n",
       "  408.963,99.5641 417.982,99.6714 427,99.7731 436.019,99.8693 445.037,99.9608 454.056,100.047 463.074,100.13 472.093,100.208 481.111,100.282 490.13,100.352 \n",
       "  499.148,100.418 508.167,100.482 517.185,100.542 526.204,100.599 535.222,100.653 544.241,100.704 553.259,100.752 562.278,100.798 571.296,100.842 580.315,100.883 \n",
       "  \n",
       "  \"/>\n",
       "<polyline clip-path=\"url(#clip8402)\" style=\"stroke:#3da44d; stroke-width:5; stroke-opacity:1; fill:none\" points=\"\n",
       "  48.2225,62.3029 57.241,133.066 66.2596,172.149 75.2781,198.5 84.2966,217.55 93.3151,231.915 102.334,243.151 111.352,252.374 120.371,260.049 129.389,266.517 \n",
       "  138.408,271.955 147.426,276.892 156.445,281.227 165.463,285.173 174.482,288.616 183.5,291.994 192.519,295.101 201.537,297.581 210.556,300.439 219.574,302.73 \n",
       "  228.593,305.128 237.611,307.477 246.63,309.041 255.648,310.904 264.667,312.676 273.685,314.366 282.704,316.026 291.722,317.416 300.741,318.921 309.759,320.13 \n",
       "  318.778,321.835 327.797,322.807 336.815,324.23 345.834,325.307 354.852,326.531 363.871,327.661 372.889,328.651 381.908,329.636 390.926,330.82 399.945,331.782 \n",
       "  408.963,332.965 417.982,333.471 427,334.615 436.019,335.292 445.037,336.116 454.056,336.896 463.074,337.74 472.093,338.43 481.111,339.107 490.13,339.826 \n",
       "  499.148,340.568 508.167,341.159 517.185,341.71 526.204,342.21 535.222,342.91 544.241,343.254 553.259,343.738 562.278,344.212 571.296,344.77 580.315,345.097 \n",
       "  \n",
       "  \"/>\n",
       "<polyline clip-path=\"url(#clip8402)\" style=\"stroke:#c271d2; stroke-width:5; stroke-opacity:1; fill:none\" points=\"\n",
       "  48.2225,66.9655 57.241,132.834 66.2596,170.134 75.2781,194.754 84.2966,211.821 93.3151,223.625 102.334,232.333 111.352,238.938 120.371,244.381 129.389,248.716 \n",
       "  138.408,252.201 147.426,255.212 156.445,257.64 165.463,259.705 174.482,261.239 183.5,262.832 192.519,264.239 201.537,265.073 210.556,266.079 219.574,266.873 \n",
       "  228.593,267.645 237.611,268.495 246.63,268.569 255.648,268.997 264.667,269.429 273.685,269.734 282.704,270.124 291.722,270.236 300.741,270.479 309.759,270.406 \n",
       "  318.778,270.996 327.797,270.773 336.815,271.023 345.834,271.099 354.852,271.263 363.871,271.205 372.889,270.978 381.908,271.028 390.926,271.168 399.945,271.102 \n",
       "  408.963,271.441 417.982,270.558 427,271.061 436.019,270.547 445.037,270.648 454.056,270.463 463.074,270.552 472.093,270.182 481.111,270.03 490.13,270.146 \n",
       "  499.148,269.813 508.167,269.865 517.185,269.654 526.204,269.318 535.222,269.237 544.241,268.703 553.259,268.572 562.278,268.087 571.296,268.183 580.315,267.702 \n",
       "  \n",
       "  \"/>\n",
       "<polygon clip-path=\"url(#clip8400)\" points=\"\n",
       "447.479,108.291 562.315,108.291 562.315,32.691 447.479,32.691 \n",
       "  \" fill=\"#ffffff\" fill-opacity=\"1\"/>\n",
       "<polyline clip-path=\"url(#clip8400)\" style=\"stroke:#000000; stroke-width:1; stroke-opacity:1; fill:none\" points=\"\n",
       "  447.479,108.291 562.315,108.291 562.315,32.691 447.479,32.691 447.479,108.291 \n",
       "  \"/>\n",
       "<polyline clip-path=\"url(#clip8400)\" style=\"stroke:#009af9; stroke-width:5; stroke-opacity:1; fill:none\" points=\"\n",
       "  453.479,47.811 489.479,47.811 \n",
       "  \"/>\n",
       "<g clip-path=\"url(#clip8400)\">\n",
       "<text style=\"fill:#000000; fill-opacity:1; font-family:Arial,Helvetica Neue,Helvetica,sans-serif; font-size:12; text-anchor:start;\" transform=\"rotate(0, 495.479, 52.311)\" x=\"495.479\" y=\"52.311\">trnsoftloss</text>\n",
       "</g>\n",
       "<polyline clip-path=\"url(#clip8400)\" style=\"stroke:#e26f46; stroke-width:5; stroke-opacity:1; fill:none\" points=\"\n",
       "  453.479,62.931 489.479,62.931 \n",
       "  \"/>\n",
       "<g clip-path=\"url(#clip8400)\">\n",
       "<text style=\"fill:#000000; fill-opacity:1; font-family:Arial,Helvetica Neue,Helvetica,sans-serif; font-size:12; text-anchor:start;\" transform=\"rotate(0, 495.479, 67.431)\" x=\"495.479\" y=\"67.431\">tstsoftloss</text>\n",
       "</g>\n",
       "<polyline clip-path=\"url(#clip8400)\" style=\"stroke:#3da44d; stroke-width:5; stroke-opacity:1; fill:none\" points=\"\n",
       "  453.479,78.051 489.479,78.051 \n",
       "  \"/>\n",
       "<g clip-path=\"url(#clip8400)\">\n",
       "<text style=\"fill:#000000; fill-opacity:1; font-family:Arial,Helvetica Neue,Helvetica,sans-serif; font-size:12; text-anchor:start;\" transform=\"rotate(0, 495.479, 82.551)\" x=\"495.479\" y=\"82.551\">trnmlploss</text>\n",
       "</g>\n",
       "<polyline clip-path=\"url(#clip8400)\" style=\"stroke:#c271d2; stroke-width:5; stroke-opacity:1; fill:none\" points=\"\n",
       "  453.479,93.171 489.479,93.171 \n",
       "  \"/>\n",
       "<g clip-path=\"url(#clip8400)\">\n",
       "<text style=\"fill:#000000; fill-opacity:1; font-family:Arial,Helvetica Neue,Helvetica,sans-serif; font-size:12; text-anchor:start;\" transform=\"rotate(0, 495.479, 97.671)\" x=\"495.479\" y=\"97.671\">tstmlploss</text>\n",
       "</g>\n",
       "</svg>\n"
      ]
     },
     "execution_count": 50,
     "metadata": {},
     "output_type": "execute_result"
    }
   ],
   "source": [
    "plot([trnsoftloss tstsoftloss trnmlploss tstmlploss],\n",
    "    xlabel=\"Epochs\",ylabel=\"Loss\",linewidth=5,ylim=(.0,.36),\n",
    "    labels=[:trnsoftloss :tstsoftloss :trnmlploss :tstmlploss]) "
   ]
  },
  {
   "cell_type": "markdown",
   "metadata": {},
   "source": [
    "## Compare MLP error with softmax error"
   ]
  },
  {
   "cell_type": "code",
   "execution_count": 51,
   "metadata": {},
   "outputs": [
    {
     "name": "stdout",
     "output_type": "stream",
     "text": [
      " 10.386532 seconds (5.31 M allocations: 13.793 GiB, 12.48% gc time)\n",
      "  1.744261 seconds (892.73 k allocations: 2.299 GiB, 12.66% gc time)\n"
     ]
    }
   ],
   "source": [
    "@time trnmlperr = [ 1-accuracy(w,dtrn,predict) for w in mlpmodels ]; # ~13 seconds\n",
    "@time tstmlperr = [ 1-accuracy(w,dtst,predict) for w in mlpmodels ]; # ~2 seconds"
   ]
  },
  {
   "cell_type": "code",
   "execution_count": 53,
   "metadata": {
    "scrolled": false
   },
   "outputs": [
    {
     "data": {
      "image/svg+xml": [
       "<?xml version=\"1.0\" encoding=\"utf-8\"?>\n",
       "<svg xmlns=\"http://www.w3.org/2000/svg\" xmlns:xlink=\"http://www.w3.org/1999/xlink\" width=\"600\" height=\"400\" viewBox=\"0 0 600 400\">\n",
       "<defs>\n",
       "  <clipPath id=\"clip8800\">\n",
       "    <rect x=\"0\" y=\"0\" width=\"600\" height=\"400\"/>\n",
       "  </clipPath>\n",
       "</defs>\n",
       "<polygon clip-path=\"url(#clip8800)\" points=\"\n",
       "0,400 600,400 600,0 0,0 \n",
       "  \" fill=\"#ffffff\" fill-opacity=\"1\"/>\n",
       "<defs>\n",
       "  <clipPath id=\"clip8801\">\n",
       "    <rect x=\"120\" y=\"0\" width=\"421\" height=\"400\"/>\n",
       "  </clipPath>\n",
       "</defs>\n",
       "<polygon clip-path=\"url(#clip8800)\" points=\"\n",
       "54.9131,360.121 580.315,360.121 580.315,11.811 54.9131,11.811 \n",
       "  \" fill=\"#ffffff\" fill-opacity=\"1\"/>\n",
       "<defs>\n",
       "  <clipPath id=\"clip8802\">\n",
       "    <rect x=\"54\" y=\"11\" width=\"526\" height=\"349\"/>\n",
       "  </clipPath>\n",
       "</defs>\n",
       "<polyline clip-path=\"url(#clip8802)\" style=\"stroke:#000000; stroke-width:0.5; stroke-opacity:0.1; fill:none\" points=\"\n",
       "  135.059,360.121 135.059,11.811 \n",
       "  \"/>\n",
       "<polyline clip-path=\"url(#clip8802)\" style=\"stroke:#000000; stroke-width:0.5; stroke-opacity:0.1; fill:none\" points=\"\n",
       "  224.11,360.121 224.11,11.811 \n",
       "  \"/>\n",
       "<polyline clip-path=\"url(#clip8802)\" style=\"stroke:#000000; stroke-width:0.5; stroke-opacity:0.1; fill:none\" points=\"\n",
       "  313.161,360.121 313.161,11.811 \n",
       "  \"/>\n",
       "<polyline clip-path=\"url(#clip8802)\" style=\"stroke:#000000; stroke-width:0.5; stroke-opacity:0.1; fill:none\" points=\"\n",
       "  402.213,360.121 402.213,11.811 \n",
       "  \"/>\n",
       "<polyline clip-path=\"url(#clip8802)\" style=\"stroke:#000000; stroke-width:0.5; stroke-opacity:0.1; fill:none\" points=\"\n",
       "  491.264,360.121 491.264,11.811 \n",
       "  \"/>\n",
       "<polyline clip-path=\"url(#clip8802)\" style=\"stroke:#000000; stroke-width:0.5; stroke-opacity:0.1; fill:none\" points=\"\n",
       "  580.315,360.121 580.315,11.811 \n",
       "  \"/>\n",
       "<polyline clip-path=\"url(#clip8802)\" style=\"stroke:#000000; stroke-width:0.5; stroke-opacity:0.1; fill:none\" points=\"\n",
       "  54.9131,360.121 580.315,360.121 \n",
       "  \"/>\n",
       "<polyline clip-path=\"url(#clip8802)\" style=\"stroke:#000000; stroke-width:0.5; stroke-opacity:0.1; fill:none\" points=\"\n",
       "  54.9131,290.459 580.315,290.459 \n",
       "  \"/>\n",
       "<polyline clip-path=\"url(#clip8802)\" style=\"stroke:#000000; stroke-width:0.5; stroke-opacity:0.1; fill:none\" points=\"\n",
       "  54.9131,220.797 580.315,220.797 \n",
       "  \"/>\n",
       "<polyline clip-path=\"url(#clip8802)\" style=\"stroke:#000000; stroke-width:0.5; stroke-opacity:0.1; fill:none\" points=\"\n",
       "  54.9131,151.135 580.315,151.135 \n",
       "  \"/>\n",
       "<polyline clip-path=\"url(#clip8802)\" style=\"stroke:#000000; stroke-width:0.5; stroke-opacity:0.1; fill:none\" points=\"\n",
       "  54.9131,81.4729 580.315,81.4729 \n",
       "  \"/>\n",
       "<polyline clip-path=\"url(#clip8802)\" style=\"stroke:#000000; stroke-width:0.5; stroke-opacity:0.1; fill:none\" points=\"\n",
       "  54.9131,11.811 580.315,11.811 \n",
       "  \"/>\n",
       "<polyline clip-path=\"url(#clip8800)\" style=\"stroke:#000000; stroke-width:1; stroke-opacity:1; fill:none\" points=\"\n",
       "  54.9131,360.121 580.315,360.121 \n",
       "  \"/>\n",
       "<polyline clip-path=\"url(#clip8800)\" style=\"stroke:#000000; stroke-width:1; stroke-opacity:1; fill:none\" points=\"\n",
       "  54.9131,360.121 54.9131,11.811 \n",
       "  \"/>\n",
       "<polyline clip-path=\"url(#clip8800)\" style=\"stroke:#000000; stroke-width:1; stroke-opacity:1; fill:none\" points=\"\n",
       "  135.059,360.121 135.059,354.896 \n",
       "  \"/>\n",
       "<polyline clip-path=\"url(#clip8800)\" style=\"stroke:#000000; stroke-width:1; stroke-opacity:1; fill:none\" points=\"\n",
       "  224.11,360.121 224.11,354.896 \n",
       "  \"/>\n",
       "<polyline clip-path=\"url(#clip8800)\" style=\"stroke:#000000; stroke-width:1; stroke-opacity:1; fill:none\" points=\"\n",
       "  313.161,360.121 313.161,354.896 \n",
       "  \"/>\n",
       "<polyline clip-path=\"url(#clip8800)\" style=\"stroke:#000000; stroke-width:1; stroke-opacity:1; fill:none\" points=\"\n",
       "  402.213,360.121 402.213,354.896 \n",
       "  \"/>\n",
       "<polyline clip-path=\"url(#clip8800)\" style=\"stroke:#000000; stroke-width:1; stroke-opacity:1; fill:none\" points=\"\n",
       "  491.264,360.121 491.264,354.896 \n",
       "  \"/>\n",
       "<polyline clip-path=\"url(#clip8800)\" style=\"stroke:#000000; stroke-width:1; stroke-opacity:1; fill:none\" points=\"\n",
       "  580.315,360.121 580.315,354.896 \n",
       "  \"/>\n",
       "<polyline clip-path=\"url(#clip8800)\" style=\"stroke:#000000; stroke-width:1; stroke-opacity:1; fill:none\" points=\"\n",
       "  54.9131,360.121 62.7941,360.121 \n",
       "  \"/>\n",
       "<polyline clip-path=\"url(#clip8800)\" style=\"stroke:#000000; stroke-width:1; stroke-opacity:1; fill:none\" points=\"\n",
       "  54.9131,290.459 62.7941,290.459 \n",
       "  \"/>\n",
       "<polyline clip-path=\"url(#clip8800)\" style=\"stroke:#000000; stroke-width:1; stroke-opacity:1; fill:none\" points=\"\n",
       "  54.9131,220.797 62.7941,220.797 \n",
       "  \"/>\n",
       "<polyline clip-path=\"url(#clip8800)\" style=\"stroke:#000000; stroke-width:1; stroke-opacity:1; fill:none\" points=\"\n",
       "  54.9131,151.135 62.7941,151.135 \n",
       "  \"/>\n",
       "<polyline clip-path=\"url(#clip8800)\" style=\"stroke:#000000; stroke-width:1; stroke-opacity:1; fill:none\" points=\"\n",
       "  54.9131,81.4729 62.7941,81.4729 \n",
       "  \"/>\n",
       "<polyline clip-path=\"url(#clip8800)\" style=\"stroke:#000000; stroke-width:1; stroke-opacity:1; fill:none\" points=\"\n",
       "  54.9131,11.811 62.7941,11.811 \n",
       "  \"/>\n",
       "<g clip-path=\"url(#clip8800)\">\n",
       "<text style=\"fill:#000000; fill-opacity:1; font-family:Arial,Helvetica Neue,Helvetica,sans-serif; font-size:12; text-anchor:middle;\" transform=\"rotate(0, 135.059, 373.921)\" x=\"135.059\" y=\"373.921\">10</text>\n",
       "</g>\n",
       "<g clip-path=\"url(#clip8800)\">\n",
       "<text style=\"fill:#000000; fill-opacity:1; font-family:Arial,Helvetica Neue,Helvetica,sans-serif; font-size:12; text-anchor:middle;\" transform=\"rotate(0, 224.11, 373.921)\" x=\"224.11\" y=\"373.921\">20</text>\n",
       "</g>\n",
       "<g clip-path=\"url(#clip8800)\">\n",
       "<text style=\"fill:#000000; fill-opacity:1; font-family:Arial,Helvetica Neue,Helvetica,sans-serif; font-size:12; text-anchor:middle;\" transform=\"rotate(0, 313.161, 373.921)\" x=\"313.161\" y=\"373.921\">30</text>\n",
       "</g>\n",
       "<g clip-path=\"url(#clip8800)\">\n",
       "<text style=\"fill:#000000; fill-opacity:1; font-family:Arial,Helvetica Neue,Helvetica,sans-serif; font-size:12; text-anchor:middle;\" transform=\"rotate(0, 402.213, 373.921)\" x=\"402.213\" y=\"373.921\">40</text>\n",
       "</g>\n",
       "<g clip-path=\"url(#clip8800)\">\n",
       "<text style=\"fill:#000000; fill-opacity:1; font-family:Arial,Helvetica Neue,Helvetica,sans-serif; font-size:12; text-anchor:middle;\" transform=\"rotate(0, 491.264, 373.921)\" x=\"491.264\" y=\"373.921\">50</text>\n",
       "</g>\n",
       "<g clip-path=\"url(#clip8800)\">\n",
       "<text style=\"fill:#000000; fill-opacity:1; font-family:Arial,Helvetica Neue,Helvetica,sans-serif; font-size:12; text-anchor:middle;\" transform=\"rotate(0, 580.315, 373.921)\" x=\"580.315\" y=\"373.921\">60</text>\n",
       "</g>\n",
       "<g clip-path=\"url(#clip8800)\">\n",
       "<text style=\"fill:#000000; fill-opacity:1; font-family:Arial,Helvetica Neue,Helvetica,sans-serif; font-size:12; text-anchor:end;\" transform=\"rotate(0, 48.9131, 364.621)\" x=\"48.9131\" y=\"364.621\">0.00</text>\n",
       "</g>\n",
       "<g clip-path=\"url(#clip8800)\">\n",
       "<text style=\"fill:#000000; fill-opacity:1; font-family:Arial,Helvetica Neue,Helvetica,sans-serif; font-size:12; text-anchor:end;\" transform=\"rotate(0, 48.9131, 294.959)\" x=\"48.9131\" y=\"294.959\">0.02</text>\n",
       "</g>\n",
       "<g clip-path=\"url(#clip8800)\">\n",
       "<text style=\"fill:#000000; fill-opacity:1; font-family:Arial,Helvetica Neue,Helvetica,sans-serif; font-size:12; text-anchor:end;\" transform=\"rotate(0, 48.9131, 225.297)\" x=\"48.9131\" y=\"225.297\">0.04</text>\n",
       "</g>\n",
       "<g clip-path=\"url(#clip8800)\">\n",
       "<text style=\"fill:#000000; fill-opacity:1; font-family:Arial,Helvetica Neue,Helvetica,sans-serif; font-size:12; text-anchor:end;\" transform=\"rotate(0, 48.9131, 155.635)\" x=\"48.9131\" y=\"155.635\">0.06</text>\n",
       "</g>\n",
       "<g clip-path=\"url(#clip8800)\">\n",
       "<text style=\"fill:#000000; fill-opacity:1; font-family:Arial,Helvetica Neue,Helvetica,sans-serif; font-size:12; text-anchor:end;\" transform=\"rotate(0, 48.9131, 85.9729)\" x=\"48.9131\" y=\"85.9729\">0.08</text>\n",
       "</g>\n",
       "<g clip-path=\"url(#clip8800)\">\n",
       "<text style=\"fill:#000000; fill-opacity:1; font-family:Arial,Helvetica Neue,Helvetica,sans-serif; font-size:12; text-anchor:end;\" transform=\"rotate(0, 48.9131, 16.311)\" x=\"48.9131\" y=\"16.311\">0.10</text>\n",
       "</g>\n",
       "<g clip-path=\"url(#clip8800)\">\n",
       "<text style=\"fill:#000000; fill-opacity:1; font-family:Arial,Helvetica Neue,Helvetica,sans-serif; font-size:16; text-anchor:middle;\" transform=\"rotate(0, 317.614, 397.6)\" x=\"317.614\" y=\"397.6\">Epochs</text>\n",
       "</g>\n",
       "<g clip-path=\"url(#clip8800)\">\n",
       "<text style=\"fill:#000000; fill-opacity:1; font-family:Arial,Helvetica Neue,Helvetica,sans-serif; font-size:16; text-anchor:middle;\" transform=\"rotate(-90, 14.4, 185.966)\" x=\"14.4\" y=\"185.966\">Error</text>\n",
       "</g>\n",
       "<polyline clip-path=\"url(#clip8802)\" style=\"stroke:#009af9; stroke-width:1; stroke-opacity:1; fill:none\" points=\"\n",
       "  54.9131,-22.6136 63.8182,16.5132 72.7233,37.4698 81.6285,50.3573 90.5336,59.007 99.4387,64.4638 108.344,68.8177 117.249,72.5911 126.154,77.061 135.059,79.6153 \n",
       "  143.964,82.4018 152.869,84.1433 161.775,87.104 170.68,89.6582 179.585,90.9354 188.49,92.735 197.395,93.896 206.3,95.1151 215.205,96.0439 224.11,97.3791 \n",
       "  233.015,98.9465 241.921,99.7592 250.826,100.572 259.731,101.327 268.636,102.255 277.541,103.416 286.446,103.591 295.351,104.577 304.256,105.448 313.161,106.203 \n",
       "  322.067,106.783 330.972,107.074 339.877,107.712 348.782,108.061 357.687,108.815 366.592,109.512 375.497,110.092 384.402,110.499 393.308,111.195 402.213,111.776 \n",
       "  411.118,112.008 420.023,112.298 428.928,113.169 437.833,113.982 446.738,114.214 455.643,114.678 464.548,114.911 473.454,115.375 482.359,115.607 491.264,115.665 \n",
       "  500.169,115.956 509.074,116.652 517.979,116.884 526.884,117.001 535.789,117.233 544.694,117.523 553.6,117.871 562.505,117.929 571.41,118.51 580.315,119.148 \n",
       "  \n",
       "  \"/>\n",
       "<polyline clip-path=\"url(#clip8802)\" style=\"stroke:#e26f46; stroke-width:1; stroke-opacity:1; fill:none\" points=\"\n",
       "  54.9131,8.32793 63.8182,42.114 72.7233,53.9565 81.6285,62.6642 90.5336,66.4956 99.4387,71.372 108.344,72.0686 117.249,74.8551 126.154,77.9899 135.059,80.7763 \n",
       "  143.964,82.8662 152.869,83.2145 161.775,84.2594 170.68,84.956 179.585,86.001 188.49,83.9111 197.395,83.5628 206.3,84.6077 215.205,83.9111 224.11,84.2594 \n",
       "  233.015,85.6527 241.921,85.6527 250.826,86.6976 259.731,86.6976 268.636,88.0908 277.541,89.1358 286.446,90.1807 295.351,91.5739 304.256,92.2705 313.161,92.6189 \n",
       "  322.067,92.6189 330.972,92.6189 339.877,92.9672 348.782,92.6189 357.687,92.9672 366.592,94.3604 375.497,94.7087 384.402,94.3604 393.308,94.3604 402.213,94.7087 \n",
       "  411.118,95.057 420.023,95.057 428.928,95.057 437.833,94.7087 446.738,94.7087 455.643,94.7087 464.548,95.057 473.454,94.3604 482.359,93.3155 491.264,93.6638 \n",
       "  500.169,94.0121 509.074,94.0121 517.979,94.3604 526.884,94.3604 535.789,94.7087 544.694,94.3604 553.6,94.3604 562.505,95.057 571.41,95.057 580.315,95.7536 \n",
       "  \n",
       "  \"/>\n",
       "<polyline clip-path=\"url(#clip8802)\" style=\"stroke:#3da44d; stroke-width:1; stroke-opacity:1; fill:none\" points=\"\n",
       "  54.9131,35.3219 63.8182,119.729 72.7233,164.313 81.6285,192.177 90.5336,212.902 99.4387,228.518 108.344,238.619 117.249,248.081 126.154,256.15 135.059,261.607 \n",
       "  143.964,266.948 152.869,271.65 161.775,276.759 170.68,280.764 179.585,284.886 188.49,288.601 197.395,291.62 206.3,294.348 215.205,296.264 224.11,299.515 \n",
       "  233.015,302.301 241.921,304.507 250.826,306.597 259.731,308.455 268.636,310.254 277.541,311.938 286.446,313.621 295.351,314.84 304.256,316.059 313.161,317.221 \n",
       "  322.067,319.078 330.972,320.123 339.877,321.632 348.782,323.548 357.687,325.638 366.592,327.38 375.497,328.541 384.402,330.224 393.308,332.314 402.213,333.127 \n",
       "  411.118,334.81 420.023,334.868 428.928,336.842 437.833,337.887 446.738,338.525 455.643,339.803 464.548,340.325 473.454,341.196 482.359,342.183 491.264,343.402 \n",
       "  500.169,344.389 509.074,345.201 517.979,345.317 526.884,345.898 535.789,346.885 544.694,346.653 553.6,347.698 562.505,348.278 571.41,349.149 580.315,349.555 \n",
       "  \n",
       "  \"/>\n",
       "<polyline clip-path=\"url(#clip8802)\" style=\"stroke:#c271d2; stroke-width:1; stroke-opacity:1; fill:none\" points=\"\n",
       "  54.9131,44.5521 63.8182,119.439 72.7233,156.011 81.6285,181.438 90.5336,201.291 99.4387,211.741 108.344,219.752 117.249,230.549 126.154,239.954 135.059,243.089 \n",
       "  143.964,245.527 152.869,251.796 161.775,253.19 170.68,254.931 179.585,254.931 188.49,254.235 197.395,258.066 206.3,256.673 215.205,258.763 224.11,261.897 \n",
       "  233.015,262.594 241.921,264.684 250.826,265.032 259.731,265.032 268.636,265.729 277.541,267.47 286.446,267.122 295.351,267.47 304.256,268.167 313.161,269.56 \n",
       "  322.067,269.56 330.972,268.167 339.877,269.56 348.782,268.864 357.687,269.212 366.592,268.864 375.497,266.425 384.402,267.47 393.308,268.167 402.213,267.47 \n",
       "  411.118,267.47 420.023,265.729 428.928,267.819 437.833,265.729 446.738,266.077 455.643,266.077 464.548,266.774 473.454,265.38 482.359,264.336 491.264,265.38 \n",
       "  500.169,265.032 509.074,264.684 517.979,264.336 526.884,263.987 535.789,266.077 544.694,265.38 553.6,266.425 562.505,264.684 571.41,265.38 580.315,266.425 \n",
       "  \n",
       "  \"/>\n",
       "<polygon clip-path=\"url(#clip8800)\" points=\"\n",
       "454.169,108.291 562.315,108.291 562.315,32.691 454.169,32.691 \n",
       "  \" fill=\"#ffffff\" fill-opacity=\"1\"/>\n",
       "<polyline clip-path=\"url(#clip8800)\" style=\"stroke:#000000; stroke-width:1; stroke-opacity:1; fill:none\" points=\"\n",
       "  454.169,108.291 562.315,108.291 562.315,32.691 454.169,32.691 454.169,108.291 \n",
       "  \"/>\n",
       "<polyline clip-path=\"url(#clip8800)\" style=\"stroke:#009af9; stroke-width:1; stroke-opacity:1; fill:none\" points=\"\n",
       "  460.169,47.811 496.169,47.811 \n",
       "  \"/>\n",
       "<g clip-path=\"url(#clip8800)\">\n",
       "<text style=\"fill:#000000; fill-opacity:1; font-family:Arial,Helvetica Neue,Helvetica,sans-serif; font-size:12; text-anchor:start;\" transform=\"rotate(0, 502.169, 52.311)\" x=\"502.169\" y=\"52.311\">trnsofterr</text>\n",
       "</g>\n",
       "<polyline clip-path=\"url(#clip8800)\" style=\"stroke:#e26f46; stroke-width:1; stroke-opacity:1; fill:none\" points=\"\n",
       "  460.169,62.931 496.169,62.931 \n",
       "  \"/>\n",
       "<g clip-path=\"url(#clip8800)\">\n",
       "<text style=\"fill:#000000; fill-opacity:1; font-family:Arial,Helvetica Neue,Helvetica,sans-serif; font-size:12; text-anchor:start;\" transform=\"rotate(0, 502.169, 67.431)\" x=\"502.169\" y=\"67.431\">tstsofterr</text>\n",
       "</g>\n",
       "<polyline clip-path=\"url(#clip8800)\" style=\"stroke:#3da44d; stroke-width:1; stroke-opacity:1; fill:none\" points=\"\n",
       "  460.169,78.051 496.169,78.051 \n",
       "  \"/>\n",
       "<g clip-path=\"url(#clip8800)\">\n",
       "<text style=\"fill:#000000; fill-opacity:1; font-family:Arial,Helvetica Neue,Helvetica,sans-serif; font-size:12; text-anchor:start;\" transform=\"rotate(0, 502.169, 82.551)\" x=\"502.169\" y=\"82.551\">trnmlperr</text>\n",
       "</g>\n",
       "<polyline clip-path=\"url(#clip8800)\" style=\"stroke:#c271d2; stroke-width:1; stroke-opacity:1; fill:none\" points=\"\n",
       "  460.169,93.171 496.169,93.171 \n",
       "  \"/>\n",
       "<g clip-path=\"url(#clip8800)\">\n",
       "<text style=\"fill:#000000; fill-opacity:1; font-family:Arial,Helvetica Neue,Helvetica,sans-serif; font-size:12; text-anchor:start;\" transform=\"rotate(0, 502.169, 97.671)\" x=\"502.169\" y=\"97.671\">tstmlperr</text>\n",
       "</g>\n",
       "</svg>\n"
      ]
     },
     "execution_count": 53,
     "metadata": {},
     "output_type": "execute_result"
    }
   ],
   "source": [
    "plot([trnsofterr tstsofterr trnmlperr tstmlperr],ylim=(.0,.10),labels=[:trnsofterr :tstsofterr :trnmlperr :tstmlperr],xlabel=\"Epochs\",ylabel=\"Error\")"
   ]
  },
  {
   "cell_type": "code",
   "execution_count": 54,
   "metadata": {},
   "outputs": [],
   "source": [
    "# Cleanup\n",
    "wmlp = mlpmodels = nothing; knetgc()"
   ]
  },
  {
   "cell_type": "markdown",
   "metadata": {},
   "source": [
    "# CNN example with MNIST (The LeNet model)"
   ]
  },
  {
   "cell_type": "code",
   "execution_count": 55,
   "metadata": {},
   "outputs": [
    {
     "data": {
      "text/plain": [
       "predict (generic function with 1 method)"
      ]
     },
     "execution_count": 55,
     "metadata": {},
     "output_type": "execute_result"
    }
   ],
   "source": [
    "# We only need to change the predict function!\n",
    "function predict(w,x) # LeNet model\n",
    "    n=length(w)-4\n",
    "    for i=1:2:n\n",
    "        x = pool(relu.(conv4(w[i],x) .+ w[i+1]))\n",
    "    end\n",
    "    for i=n+1:2:length(w)-2\n",
    "        x = relu.(w[i]*mat(x) .+ w[i+1])\n",
    "    end\n",
    "    return w[end-1]*x .+ w[end]\n",
    "end"
   ]
  },
  {
   "cell_type": "code",
   "execution_count": 57,
   "metadata": {},
   "outputs": [
    {
     "data": {
      "text/plain": [
       "4.1054115f0"
      ]
     },
     "execution_count": 57,
     "metadata": {},
     "output_type": "execute_result"
    }
   ],
   "source": [
    "wcnn=map(Atype, [ 0.1*randn(5,5,1,20),  zeros(1,1,20,1), \n",
    "                  0.1*randn(5,5,20,50), zeros(1,1,50,1),\n",
    "                  0.1*randn(500,800),  zeros(500,1),\n",
    "                  0.1*randn(10,500),  zeros(10,1) ])\n",
    "loss(wcnn, x, y)"
   ]
  },
  {
   "cell_type": "markdown",
   "metadata": {},
   "source": [
    "## Train CNN model"
   ]
  },
  {
   "cell_type": "code",
   "execution_count": null,
   "metadata": {},
   "outputs": [],
   "source": [
    "@time cnnmodels = [ copy(train!(wcnn, dtrn)) for epoch=1:60 ]; # ~127 seconds"
   ]
  },
  {
   "cell_type": "markdown",
   "metadata": {},
   "source": [
    "## Compare CNN loss with MLP"
   ]
  },
  {
   "cell_type": "code",
   "execution_count": null,
   "metadata": {},
   "outputs": [],
   "source": [
    "@time trncnnloss = [ nll(w,dtrn,predict) for w in cnnmodels ]; # ~48 seconds\n",
    "@time tstcnnloss = [ nll(w,dtst,predict) for w in cnnmodels ]; # ~8 seconds"
   ]
  },
  {
   "cell_type": "code",
   "execution_count": null,
   "metadata": {},
   "outputs": [],
   "source": [
    "plot([trnsoftloss tstsoftloss trnmlploss tstmlploss trncnnloss tstcnnloss],ylim=(.0,.36),labels=[:trnsoftloss :tstsoftloss :trnmlploss :tstmlploss :trncnnloss :tstcnnloss],xlabel=\"Epochs\",ylabel=\"Loss\") "
   ]
  },
  {
   "cell_type": "markdown",
   "metadata": {},
   "source": [
    "## Compare CNN error with MLP"
   ]
  },
  {
   "cell_type": "code",
   "execution_count": null,
   "metadata": {},
   "outputs": [],
   "source": [
    "@time trncnnerr = [ 1-accuracy(w,dtrn,predict) for w in cnnmodels ]; # ~48 seconds\n",
    "@time tstcnnerr = [ 1-accuracy(w,dtst,predict) for w in cnnmodels ]; # ~8 seconds"
   ]
  },
  {
   "cell_type": "code",
   "execution_count": null,
   "metadata": {
    "scrolled": false
   },
   "outputs": [],
   "source": [
    "plot([trnsofterr tstsofterr trnmlperr tstmlperr trncnnerr tstcnnerr],ylim=(.0,.10),labels=[:trnsofterr :tstsofterr :trnmlperr :tstmlperr :trncnnerr :tstcnnerr],xlabel=\"Epochs\",ylabel=\"Error\")"
   ]
  },
  {
   "cell_type": "code",
   "execution_count": 42,
   "metadata": {},
   "outputs": [],
   "source": [
    "# Cleanup\n",
    "wcnn = cnnmodels = nothing; knetgc()"
   ]
  },
  {
   "cell_type": "markdown",
   "metadata": {},
   "source": [
    "# Shakespeare example"
   ]
  },
  {
   "cell_type": "code",
   "execution_count": 43,
   "metadata": {},
   "outputs": [],
   "source": [
    "# Please see charlm.ipynb for training a character based language model on \"The Complete Works of William Shakespeare\""
   ]
  },
  {
   "cell_type": "markdown",
   "metadata": {},
   "source": [
    "# VGG example"
   ]
  },
  {
   "cell_type": "code",
   "execution_count": 44,
   "metadata": {},
   "outputs": [],
   "source": [
    "include(Knet.dir(\"examples/vgg/vgg.jl\"));"
   ]
  },
  {
   "cell_type": "code",
   "execution_count": null,
   "metadata": {},
   "outputs": [],
   "source": [
    "caturl = \"https://github.com/BVLC/caffe/raw/master/examples/images/cat.jpg\"\n",
    "catfile = download(caturl)\n",
    "load(catfile)"
   ]
  },
  {
   "cell_type": "code",
   "execution_count": 47,
   "metadata": {},
   "outputs": [
    {
     "name": "stdout",
     "output_type": "stream",
     "text": [
      "vgg.jl (c) Deniz Yuret, İlker Kesen, 2016. Classifying images with the VGG model from http://www.robots.ox.ac.uk/~vgg/research/very_deep.\n",
      "opts=(:atype, \"KnetArray{Float32}\")(:top, 5)(:image, \"/dev/shm/dyuret/.julia/v0.6/Knet/data/cat.jpg\")(:model, \"imagenet-vgg-verydeep-16\")\n"
     ]
    },
    {
     "name": "stderr",
     "output_type": "stream",
     "text": [
      "\u001b[1m\u001b[36mINFO: \u001b[39m\u001b[22m\u001b[36mLoading imagenet-vgg-verydeep-16.mat...\n",
      "\u001b[39m"
     ]
    },
    {
     "data": {
      "text/plain": [
       "5×2 Array{Any,2}:\n",
       " 0.27327    \"tabby, tabby cat\"        \n",
       " 0.253185   \"Egyptian cat\"            \n",
       " 0.248429   \"tiger cat\"               \n",
       " 0.060727   \"kit fox, Vulpes macrotis\"\n",
       " 0.0561707  \"red fox, Vulpes vulpes\"  "
      ]
     },
     "metadata": {},
     "output_type": "display_data"
    },
    {
     "name": "stdout",
     "output_type": "stream",
     "text": [
      "  5.173264 seconds (61.56 k allocations: 3.428 MiB, 81.30% gc time)\n"
     ]
    },
    {
     "name": "stderr",
     "output_type": "stream",
     "text": [
      "\u001b[1m\u001b[36mINFO: \u001b[39m\u001b[22m\u001b[36mClassifying\n",
      "\u001b[39m"
     ]
    },
    {
     "name": "stdout",
     "output_type": "stream",
     "text": [
      "\n"
     ]
    }
   ],
   "source": [
    "VGG.main(catfile)"
   ]
  },
  {
   "cell_type": "code",
   "execution_count": 48,
   "metadata": {},
   "outputs": [
    {
     "name": "stdout",
     "output_type": "stream",
     "text": [
      "vgg.jl (c) Deniz Yuret, İlker Kesen, 2016. Classifying images with the VGG model from http://www.robots.ox.ac.uk/~vgg/research/very_deep.\n",
      "opts=(:atype, \"KnetArray{Float32}\")(:top, 5)(:image, \"https://cvimg1.cardekho.com/p/237x156/in/mahindra/torro-25/mahindra-torro-25.jpg\")(:model, \"imagenet-vgg-verydeep-16\")\n"
     ]
    },
    {
     "name": "stderr",
     "output_type": "stream",
     "text": [
      "\u001b[1m\u001b[36mINFO: \u001b[39m\u001b[22m\u001b[36mDownloading https://cvimg1.cardekho.com/p/237x156/in/mahindra/torro-25/mahindra-torro-25.jpg\n",
      "\u001b[39m  % Total    % Received % Xferd  Average Speed   Time    Time     Time  Current\n",
      "                                 Dload  Upload   Total   Spent    Left  Speed\n",
      "100 13411  100 13411    0     0   6702      0  0:00:02  0:00:02 --:--:--  6705\n",
      "\u001b[1m\u001b[36mINFO: \u001b[39m\u001b[22m\u001b[36mClassifying\n",
      "\u001b[39m"
     ]
    },
    {
     "data": {
      "text/plain": [
       "5×2 Array{Any,2}:\n",
       " 0.899679    \"garbage truck, dustcart\"                                                   \n",
       " 0.0654105   \"moving van\"                                                                \n",
       " 0.0201083   \"crane\"                                                                     \n",
       " 0.00583589  \"trailer truck, tractor trailer, trucking rig, rig, articulated lorry, semi\"\n",
       " 0.00515393  \"snowplow, snowplough\"                                                      "
      ]
     },
     "metadata": {},
     "output_type": "display_data"
    },
    {
     "name": "stdout",
     "output_type": "stream",
     "text": [
      "  0.039080 seconds (1.85 k allocations: 90.297 KiB)\n",
      "\n"
     ]
    }
   ],
   "source": [
    "VGG.main(\"https://cvimg1.cardekho.com/p/237x156/in/mahindra/torro-25/mahindra-torro-25.jpg\")"
   ]
  },
  {
   "cell_type": "code",
   "execution_count": null,
   "metadata": {},
   "outputs": [],
   "source": []
  }
 ],
 "metadata": {
  "kernelspec": {
   "display_name": "Julia 0.6.2",
   "language": "julia",
   "name": "julia-0.6"
  },
  "language_info": {
   "file_extension": ".jl",
   "mimetype": "application/julia",
   "name": "julia",
   "version": "0.6.2"
  }
 },
 "nbformat": 4,
 "nbformat_minor": 2
}
